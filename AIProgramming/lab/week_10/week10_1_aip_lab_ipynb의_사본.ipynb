{
 "cells": [
  {
   "cell_type": "markdown",
   "metadata": {
    "id": "kL7hzb8tP7lO"
   },
   "source": [
    "# Hill Climber Class"
   ]
  },
  {
   "cell_type": "code",
   "execution_count": 1,
   "metadata": {},
   "outputs": [],
   "source": [
    "import numpy as np"
   ]
  },
  {
   "cell_type": "code",
   "execution_count": 2,
   "metadata": {
    "id": "ptW40mosp1kr",
    "is_executing": true
   },
   "outputs": [],
   "source": [
    "class HillClimber:\n",
    "    def __init__(self, generate_neighbor, objective_function, initial_solution, step_size=0.01, max_iter=100000):\n",
    "        self.generate_neighbor = generate_neighbor\n",
    "        self.objective_function = objective_function\n",
    "        self.current_solution = initial_solution\n",
    "        self.step_size = step_size\n",
    "        self.max_iter = max_iter\n",
    "        self.best_solution = None\n",
    "        self.best_score = float('inf')\n",
    "\n",
    "\n",
    "\n",
    "    def fit(self):\n",
    "        for _ in range(self.max_iter):\n",
    "            new_solution = self.generate_neighbor(self.current_solution, self.step_size)\n",
    "            new_score = self.objective_function(*new_solution)\n",
    "            if new_score < self.best_score:\n",
    "                self.best_solution = new_solution\n",
    "                self.best_score = new_score\n",
    "                self.current_solution = new_solution\n",
    "\n",
    "        return self.best_solution\n",
    "\n",
    "    def predict(self):\n",
    "        return self.best_solution\n",
    "    \n",
    "    def score(self):\n",
    "        return self.best_score"
   ]
  },
  {
   "cell_type": "code",
   "execution_count": 3,
   "metadata": {},
   "outputs": [],
   "source": [
    "def convex_function(*x):\n",
    "    return (x[0] - 2) ** 2 + 5 * (x[1] - 5) ** 2 + 8 * (x[2] + 8) ** 2 + 3 * (x[3] + 1) ** 2 + 6 * (x[4] - 7) ** 2\n",
    "\n",
    "def generate_neighbor(current_solution, step_size):\n",
    "    return current_solution + np.random.uniform(-step_size, step_size, len(current_solution))\n",
    "\n",
    "    \n",
    "    "
   ]
  },
  {
   "cell_type": "code",
   "execution_count": 4,
   "metadata": {},
   "outputs": [
    {
     "name": "stdout",
     "output_type": "stream",
     "text": [
      "[ 0.08757434  0.09768802 -0.09028546  0.09447873 -0.00124139]\n",
      "[0.023060061479800026, 0.08510071599757996, 0.02032116518761566, 0.04705765767895559, 0.04505807286297486]\n",
      "Hill Climber Best Solution: [ 1.9997485   4.99982039 -8.00063605 -1.00056042  7.00061881]\n",
      "Hill Climber Best Score: 0.00001\n"
     ]
    }
   ],
   "source": [
    "step_size = 0.1\n",
    "print(np.random.uniform(-step_size, step_size, 5))\n",
    "print([np.random.uniform(-step_size, step_size) for _ in range(5)])\n",
    "hill = HillClimber(generate_neighbor, convex_function, [np.random.uniform(low=-30, high=30) for _ in range(5)])\n",
    "hill.fit()\n",
    "print(f\"Hill Climber Best Solution: {hill.predict()}\")\n",
    "print(f\"Hill Climber Best Score: {hill.score():.5f}\")"
   ]
  },
  {
   "cell_type": "code",
   "execution_count": 96,
   "metadata": {},
   "outputs": [
    {
     "data": {
      "text/plain": [
       "numpy.ndarray"
      ]
     },
     "execution_count": 96,
     "metadata": {},
     "output_type": "execute_result"
    }
   ],
   "source": [
    "type(np.random.uniform(-step_size, step_size, 5))"
   ]
  },
  {
   "cell_type": "code",
   "execution_count": 97,
   "metadata": {},
   "outputs": [
    {
     "data": {
      "text/plain": [
       "list"
      ]
     },
     "execution_count": 97,
     "metadata": {},
     "output_type": "execute_result"
    }
   ],
   "source": [
    "type([np.random.uniform(-step_size, step_size) for _ in range(5)])"
   ]
  },
  {
   "cell_type": "markdown",
   "metadata": {
    "id": "WsPk_819Nm9N"
   },
   "source": [
    "# 1\n",
    "Given the base class HillClimber, implement a FirstChoiceHillClimber class that extends the functionality of hill climbing by selecting the first neighboring solution that is better than the current solution. Override the fit method to perform the hill climbing process, predict to return the best solution found, and score to return the objective value of the best solution."
   ]
  },
  {
   "cell_type": "code",
   "execution_count": 5,
   "metadata": {
    "id": "OPsgKsUWQGI8"
   },
   "outputs": [],
   "source": [
    "class FirstChoiceHillClimber(HillClimber):\n",
    "    def fit(self):\n",
    "        for _ in range(self.max_iter):\n",
    "            new_solution = self.generate_neighbor(self.current_solution, self.step_size)\n",
    "            new_score = self.objective_function(*new_solution)\n",
    "            if new_score < self.best_score:\n",
    "                self.best_solution = new_solution\n",
    "                self.best_score = new_score\n",
    "                self.current_solution = new_solution\n",
    "\n",
    "        return self.best_solution"
   ]
  },
  {
   "cell_type": "markdown",
   "metadata": {
    "id": "-3ep3TEHMv_l"
   },
   "source": [
    "#2\n",
    "Using the provided HillClimber class, create a SteepestAscentHillClimber class that finds the best neighbor out of all possible neighbor solutions generated in one iteration and moves to it if it is better than the current solution. Implement fit, predict, and score methods according to the class' operations."
   ]
  },
  {
   "cell_type": "code",
   "execution_count": 159,
   "metadata": {},
   "outputs": [],
   "source": [
    "class SteepestAscentHillClimber(HillClimber):\n",
    "    def __init__(self, generate_neighbor, objective_function, initial_solution, step_size=0.1, max_iter=1000, num_neighbors=5):\n",
    "        super().__init__(generate_neighbor, objective_function, initial_solution, step_size=step_size, max_iter=max_iter)\n",
    "        self.num_neighbors = num_neighbors\n",
    "    def fit(self):\n",
    "        for _ in range(self.max_iter):\n",
    "            new_solutions = self.generate_neighbor(self.current_solution, self.step_size, self.num_neighbors)\n",
    "            new_scores = [self.objective_function(*new_solution) for new_solution in new_solutions]\n",
    "            # print(new_scores)\n",
    "            best_index = np.argmin(new_scores)\n",
    "            new_solution = new_solutions[best_index]\n",
    "            new_score = new_scores[best_index]\n",
    "            \n",
    "            if new_score < self.best_score:\n",
    "                self.best_score = new_score\n",
    "                self.best_solution = new_solution\n",
    "                self.current_solution = new_solution\n",
    "        \n",
    "        return self.best_solution"
   ]
  },
  {
   "cell_type": "markdown",
   "metadata": {
    "id": "MgiWOgNv2R6J"
   },
   "source": [
    "#4\n",
    "```\n",
    "def convex_function(x):\n",
    "    return (x[0] - 2) ** 2 + 5 * (x[1] - 5) ** 2 + 8 * (x[2] + 8) ** 2 + 3 * (x[3] + 1) ** 2 + 6 * (x[4] - 7) ** 2\n",
    "```"
   ]
  },
  {
   "cell_type": "code",
   "execution_count": 7,
   "metadata": {},
   "outputs": [],
   "source": [
    "def convex_function(*x):\n",
    "    return (x[0] - 2) ** 2 + 5 * (x[1] - 5) ** 2 + 8 * (x[2] + 8) ** 2 + 3 * (x[3] + 1) ** 2 + 6 * (x[4] - 7) ** 2"
   ]
  },
  {
   "cell_type": "code",
   "execution_count": 8,
   "metadata": {},
   "outputs": [],
   "source": [
    "def initial_solution_generator(num):\n",
    "    return [np.random.uniform(-30, 30) for _ in range(num)]"
   ]
  },
  {
   "cell_type": "code",
   "execution_count": 9,
   "metadata": {},
   "outputs": [],
   "source": [
    "def generate_neighbor(solution, step_size):\n",
    "    return solution + np.random.uniform(-step_size, step_size, len((solution)))"
   ]
  },
  {
   "cell_type": "code",
   "execution_count": 10,
   "metadata": {
    "id": "OrkZJnBy_7OV"
   },
   "outputs": [
    {
     "name": "stdout",
     "output_type": "stream",
     "text": [
      "First Choice Hill Climber Best Solution: [ 2.00781146  4.98892243 -8.00424823 -1.00404374  7.01463869]\n",
      "First Choice Hill Climber Best Score: 0.002153764889874212\n"
     ]
    }
   ],
   "source": [
    "# Test the FirstChoiceHillClimber class\n",
    "initial_solution = initial_solution_generator(5)\n",
    "first_choice_hill_climber = FirstChoiceHillClimber(\n",
    "    generate_neighbor=generate_neighbor,\n",
    "    objective_function=convex_function,\n",
    "    initial_solution=initial_solution,\n",
    "    step_size=0.1,\n",
    "    max_iter=10000\n",
    ")\n",
    "first_choice_hill_climber.fit()\n",
    "print(f\"First Choice Hill Climber Best Solution: {first_choice_hill_climber.predict()}\")\n",
    "print(f\"First Choice Hill Climber Best Score: {first_choice_hill_climber.score()}\")"
   ]
  },
  {
   "cell_type": "code",
   "execution_count": 186,
   "metadata": {
    "id": "cljrNgYNWI6M"
   },
   "outputs": [
    {
     "name": "stdout",
     "output_type": "stream",
     "text": [
      "Steepest Ascent Hill Climber Best Solution: [ 2.0026561   5.00300753 -7.9992049  -0.99537945  7.01276551]\n",
      "Steepest Ascent Hill Climber Best Score: 0.0010991359776974963\n"
     ]
    }
   ],
   "source": [
    "def generate_continuous_neighbor(solution, step_size, num_neighbors):\n",
    "    neighbors = []\n",
    "    cp_solution = solution.copy()\n",
    "    for _ in range(num_neighbors):\n",
    "        new_solution = cp_solution + np.random.uniform(-step_size, step_size, len(solution))\n",
    "        neighbors.append(new_solution)\n",
    "    return neighbors\n",
    "\n",
    "initial_solution = initial_solution_generator(5)\n",
    "steepest_ascent_hill_climber = SteepestAscentHillClimber(\n",
    "    generate_neighbor=generate_continuous_neighbor,\n",
    "    objective_function=convex_function,\n",
    "    initial_solution=initial_solution,\n",
    "    step_size=0.1,\n",
    "    max_iter=10000,\n",
    "    num_neighbors=10\n",
    ")\n",
    "steepest_ascent_hill_climber.fit()\n",
    "print(f\"Steepest Ascent Hill Climber Best Solution: {steepest_ascent_hill_climber.predict()}\")\n",
    "print(f\"Steepest Ascent Hill Climber Best Score: {steepest_ascent_hill_climber.score()}\")"
   ]
  }
 ],
 "metadata": {
  "colab": {
   "provenance": [],
   "toc_visible": true
  },
  "kernelspec": {
   "display_name": "Python 3",
   "name": "python3"
  },
  "language_info": {
   "codemirror_mode": {
    "name": "ipython",
    "version": 3
   },
   "file_extension": ".py",
   "mimetype": "text/x-python",
   "name": "python",
   "nbconvert_exporter": "python",
   "pygments_lexer": "ipython3",
   "version": "3.9.6"
  }
 },
 "nbformat": 4,
 "nbformat_minor": 0
}
