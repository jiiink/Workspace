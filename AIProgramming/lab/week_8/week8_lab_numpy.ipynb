{
 "nbformat": 4,
 "nbformat_minor": 0,
 "metadata": {
  "colab": {
   "provenance": [],
   "toc_visible": true
  },
  "kernelspec": {
   "name": "python3",
   "language": "python",
   "display_name": "Python 3 (ipykernel)"
  },
  "language_info": {
   "name": "python"
  }
 },
 "cells": [
  {
   "cell_type": "markdown",
   "source": [
    "## 0. Prerequisite"
   ],
   "metadata": {
    "id": "0AZqhmeccW7p"
   }
  },
  {
   "cell_type": "code",
   "source": [
    "from google.colab import drive\n",
    "\n",
    "drive.mount('/content/gdrive/', force_remount=True)\n"
   ],
   "metadata": {
    "colab": {
     "base_uri": "https://localhost:8080/"
    },
    "id": "ZDeM7aGRQfp2",
    "outputId": "baf1b3ed-180e-4298-fe7d-2cdc04fe3333"
   },
   "execution_count": null,
   "outputs": [
    {
     "output_type": "stream",
     "name": "stdout",
     "text": [
      "Mounted at /content/gdrive/\n"
     ]
    }
   ]
  },
  {
   "cell_type": "code",
   "source": [
    "import numpy as np"
   ],
   "metadata": {
    "id": "eXP40QA32qqJ",
    "ExecuteTime": {
     "end_time": "2023-10-20T15:31:10.310739Z",
     "start_time": "2023-10-20T15:31:10.075895Z"
    }
   },
   "execution_count": 1,
   "outputs": []
  },
  {
   "cell_type": "markdown",
   "source": [
    "## Array Creation\n",
    "\n",
    "\n"
   ],
   "metadata": {
    "id": "AL3MoBZO5NpL"
   }
  },
  {
   "cell_type": "code",
   "source": [
    "def print_list(lst, labels=None):\n",
    "  import string\n",
    "  labels = string.ascii_lowercase[:len(lst)+1] if labels is None else labels\n",
    "  for label, data in list(zip(labels, lst)):\n",
    "    print(label, 'shape: {}, ndim: {}, size: {}, type: {}, dtype: {}'\\\n",
    "          .format(data.shape, data.ndim, data.size, type(data), data.dtype), data, sep='\\n')"
   ],
   "metadata": {
    "id": "bF_c1bhdFpAR",
    "ExecuteTime": {
     "end_time": "2023-10-20T15:32:32.029095Z",
     "start_time": "2023-10-20T15:32:31.991892Z"
    }
   },
   "execution_count": 4,
   "outputs": []
  },
  {
   "cell_type": "code",
   "source": [
    "def exam1():\n",
    "  arr1 = np.array([1, 2, 3, 4, 5, 6])\n",
    "  arr2 = np.array([[1, 2, 3],\n",
    "                  [4, 5, 6]])\n",
    "  arr3 = np.arange(4)\n",
    "  arr4 = np.linspace(0, 10, 20)\n",
    "  arr5 = np.zeros((3, 2))     # int or tuple of ints\n",
    "  arr6 = np.ones((2, 3))\n",
    "  arr7 = np.ones_like(arr4)   # array_like\n",
    "  arr8 = np.eye(3, dtype=int) # int\n",
    "  arr9 = np.empty((4, 5))     # int or tuple of int\n",
    "  print_list([arr1, arr2, arr3, arr4, arr5, arr6, arr7, arr8, arr9], locals().keys())\n",
    "  # for arr in [arr1, arr2, arr3, arr4, arr5, arr6, arr7, arr8, arr9]:\n",
    "  # print('shape: {}, ndim: {}, size: {}, type: {}, dtype: {}, \\n{}'\\\n",
    "  #       .format(arr.shape, arr.ndim, arr.size, type(arr), arr.dtype, arr))\n",
    "\n",
    "exam1()"
   ],
   "metadata": {
    "id": "M3ABCUJiIqOC",
    "colab": {
     "base_uri": "https://localhost:8080/"
    },
    "outputId": "6769a1d3-ef2b-41b4-cf74-0760a3954caa",
    "ExecuteTime": {
     "end_time": "2023-10-20T15:32:36.110782Z",
     "start_time": "2023-10-20T15:32:36.099220Z"
    }
   },
   "execution_count": 5,
   "outputs": [
    {
     "name": "stdout",
     "output_type": "stream",
     "text": [
      "arr1\n",
      "shape: (6,), ndim: 1, size: 6, type: <class 'numpy.ndarray'>, dtype: int64\n",
      "[1 2 3 4 5 6]\n",
      "arr2\n",
      "shape: (2, 3), ndim: 2, size: 6, type: <class 'numpy.ndarray'>, dtype: int64\n",
      "[[1 2 3]\n",
      " [4 5 6]]\n",
      "arr3\n",
      "shape: (4,), ndim: 1, size: 4, type: <class 'numpy.ndarray'>, dtype: int64\n",
      "[0 1 2 3]\n",
      "arr4\n",
      "shape: (20,), ndim: 1, size: 20, type: <class 'numpy.ndarray'>, dtype: float64\n",
      "[ 0.          0.52631579  1.05263158  1.57894737  2.10526316  2.63157895\n",
      "  3.15789474  3.68421053  4.21052632  4.73684211  5.26315789  5.78947368\n",
      "  6.31578947  6.84210526  7.36842105  7.89473684  8.42105263  8.94736842\n",
      "  9.47368421 10.        ]\n",
      "arr5\n",
      "shape: (3, 2), ndim: 2, size: 6, type: <class 'numpy.ndarray'>, dtype: float64\n",
      "[[0. 0.]\n",
      " [0. 0.]\n",
      " [0. 0.]]\n",
      "arr6\n",
      "shape: (2, 3), ndim: 2, size: 6, type: <class 'numpy.ndarray'>, dtype: float64\n",
      "[[1. 1. 1.]\n",
      " [1. 1. 1.]]\n",
      "arr7\n",
      "shape: (20,), ndim: 1, size: 20, type: <class 'numpy.ndarray'>, dtype: float64\n",
      "[1. 1. 1. 1. 1. 1. 1. 1. 1. 1. 1. 1. 1. 1. 1. 1. 1. 1. 1. 1.]\n",
      "arr8\n",
      "shape: (3, 3), ndim: 2, size: 9, type: <class 'numpy.ndarray'>, dtype: int64\n",
      "[[1 0 0]\n",
      " [0 1 0]\n",
      " [0 0 1]]\n",
      "arr9\n",
      "shape: (4, 5), ndim: 2, size: 20, type: <class 'numpy.ndarray'>, dtype: float64\n",
      "[[0. 0. 0. 0. 0.]\n",
      " [0. 0. 0. 0. 0.]\n",
      " [0. 0. 0. 0. 0.]\n",
      " [0. 0. 0. 0. 0.]]\n"
     ]
    }
   ]
  },
  {
   "cell_type": "markdown",
   "source": [
    "## Shape Manipulation"
   ],
   "metadata": {
    "id": "7m1RkGbo6FfI"
   }
  },
  {
   "cell_type": "code",
   "source": [
    "arr1 = np.array([1, 2, 3, 4, 5, 6])\n",
    "arr2 = np.array([[1, 2, 3],\n",
    "                  [4, 5, 6]])\n",
    "reshaped_23_arr1 = np.reshape(arr1, (2, 3))   # array_like, int or tuple of ints\n",
    "reshaped_32_arr1 = np.reshape(arr1, (3, 2))\n",
    "cp_arr2 = arr2.copy()\n",
    "raveled_cp_arr2 = np.ravel(cp_arr2)        # array_like\n",
    "c_arr2 = arr2.copy()\n",
    "flatten_arr2 = c_arr2.flatten()            # array_like"
   ],
   "metadata": {
    "id": "ywmEZzMyLzZk"
   },
   "execution_count": null,
   "outputs": []
  },
  {
   "cell_type": "markdown",
   "source": [
    "<a href=\"https://numpy.org/doc/stable/user/absolute_beginners.html#transposing-and-reshaping-a-matrix\">Reshaping Array</a>\n",
    "\n",
    "<img src=\"https://numpy.org/doc/stable/_images/np_reshape.png\"/>"
   ],
   "metadata": {
    "id": "ONIabHRPA5TF"
   }
  },
  {
   "cell_type": "code",
   "source": [
    "for arr in [arr1, reshaped_23_arr1, reshaped_32_arr1, cp_arr2, raveled_cp_arr2, arr2, flatten_arr2]:\n",
    "  print('shape: {}, ndim: {}, size: {}, base: {}, \\n{}'\\\n",
    "        .format(arr.shape, arr.ndim, arr.size, arr.base, arr))"
   ],
   "metadata": {
    "colab": {
     "base_uri": "https://localhost:8080/"
    },
    "id": "hepp4I4c7iNK",
    "outputId": "8e24d852-66e3-4389-fa1c-9aaca614c2a5"
   },
   "execution_count": null,
   "outputs": [
    {
     "output_type": "stream",
     "name": "stdout",
     "text": [
      "shape: (6,), ndim: 1, size: 6, base: None, \n",
      "[1 2 3 4 5 6]\n",
      "shape: (2, 3), ndim: 2, size: 6, base: [1 2 3 4 5 6], \n",
      "[[1 2 3]\n",
      " [4 5 6]]\n",
      "shape: (3, 2), ndim: 2, size: 6, base: [1 2 3 4 5 6], \n",
      "[[1 2]\n",
      " [3 4]\n",
      " [5 6]]\n",
      "shape: (2, 3), ndim: 2, size: 6, base: None, \n",
      "[[1 2 3]\n",
      " [4 5 6]]\n",
      "shape: (6,), ndim: 1, size: 6, base: [[1 2 3]\n",
      " [4 5 6]], \n",
      "[1 2 3 4 5 6]\n",
      "shape: (2, 3), ndim: 2, size: 6, base: None, \n",
      "[[1 2 3]\n",
      " [4 5 6]]\n",
      "shape: (6,), ndim: 1, size: 6, base: None, \n",
      "[1 2 3 4 5 6]\n"
     ]
    }
   ]
  },
  {
   "cell_type": "markdown",
   "source": [
    "##  Slicing and Indexing\n",
    "\n",
    "<a href=\"https://numpy.org/doc/stable/user/absolute_beginners.html#indexing-and-slicing\">1D Array</a>\n",
    "<img src=\"https://numpy.org/doc/stable/_images/np_indexing.png\"/>"
   ],
   "metadata": {
    "id": "GzKHw3hO9NW7"
   }
  },
  {
   "cell_type": "code",
   "source": [
    "data = np.array([1, 2, 3])\n",
    "for d in [data[0], data[1], data[0:2], data[1:], data[-2:]]:\n",
    "  print(d)"
   ],
   "metadata": {
    "colab": {
     "base_uri": "https://localhost:8080/"
    },
    "id": "ngKbMshd-a0O",
    "outputId": "984f5055-661d-4960-e54e-32c72f2d37e1"
   },
   "execution_count": null,
   "outputs": [
    {
     "output_type": "stream",
     "name": "stdout",
     "text": [
      "1\n",
      "2\n",
      "[1 2]\n",
      "[2 3]\n",
      "[2 3]\n"
     ]
    }
   ]
  },
  {
   "cell_type": "markdown",
   "source": [
    "<a href=\"https://numpy.org/doc/stable/user/absolute_beginners.html#indexing-and-slicing\">2D Array</a>\n",
    "\n",
    "<img src=\"https://numpy.org/doc/stable/_images/np_create_matrix.png\"/>\n",
    "\n",
    "<img src=\"https://numpy.org/doc/stable/_images/np_matrix_indexing.png\"/>"
   ],
   "metadata": {
    "id": "lakqyQnb_Qin"
   }
  },
  {
   "cell_type": "code",
   "source": [
    "data = np.array([[1, 2],\n",
    "                 [3, 4],\n",
    "                 [5, 6]])\n",
    "for d in [data, data[0, 1], data[1:3, :], data[0:2, 0]]:\n",
    "  print(d)"
   ],
   "metadata": {
    "colab": {
     "base_uri": "https://localhost:8080/"
    },
    "id": "RpcSVieaL_nb",
    "outputId": "7ba87afa-0ad8-4148-f9e8-da8326e57e63"
   },
   "execution_count": null,
   "outputs": [
    {
     "output_type": "stream",
     "name": "stdout",
     "text": [
      "[[1 2]\n",
      " [3 4]\n",
      " [5 6]]\n",
      "2\n",
      "[[3 4]\n",
      " [5 6]]\n",
      "[1 3]\n"
     ]
    }
   ]
  },
  {
   "cell_type": "markdown",
   "source": [
    "## Mathematical Functions\n",
    "\n",
    "\n"
   ],
   "metadata": {
    "id": "HhoNjOOFCdhZ"
   }
  },
  {
   "cell_type": "markdown",
   "source": [
    "<img src=\"https://numpy.org/doc/stable/_images/np_data_plus_ones.png\"/>"
   ],
   "metadata": {
    "id": "FH1pmPeHDR8x"
   }
  },
  {
   "cell_type": "code",
   "source": [
    "data = np.array([1, 2])\n",
    "ones = np.ones(2, dtype=int)\n",
    "data + ones"
   ],
   "metadata": {
    "colab": {
     "base_uri": "https://localhost:8080/"
    },
    "id": "LntWhTlvDRrg",
    "outputId": "c6f82785-c3f1-455a-a741-1f42999ac6a9"
   },
   "execution_count": null,
   "outputs": [
    {
     "output_type": "execute_result",
     "data": {
      "text/plain": [
       "array([2, 3])"
      ]
     },
     "metadata": {},
     "execution_count": 70
    }
   ]
  },
  {
   "cell_type": "markdown",
   "source": [
    "<img src=\"https://numpy.org/doc/stable/_images/np_sub_mult_divide.png\"/>"
   ],
   "metadata": {
    "id": "mrL2sGt9DhOe"
   }
  },
  {
   "cell_type": "code",
   "source": [
    "for d in [data - ones, data * data, data / data]:\n",
    "  print(d)"
   ],
   "metadata": {
    "colab": {
     "base_uri": "https://localhost:8080/"
    },
    "id": "sf6QIpzFDgse",
    "outputId": "6a126955-417c-4f0a-f4d1-d72297cf8b15"
   },
   "execution_count": null,
   "outputs": [
    {
     "output_type": "stream",
     "name": "stdout",
     "text": [
      "[0 1]\n",
      "[1 4]\n",
      "[1. 1.]\n"
     ]
    }
   ]
  },
  {
   "cell_type": "markdown",
   "source": [
    "<img src=\"https://numpy.org/doc/stable/_images/np_matrix_arithmetic.png\"/>"
   ],
   "metadata": {
    "id": "ixLbHTYdDPi9"
   }
  },
  {
   "cell_type": "code",
   "source": [
    "data = np.array([[1, 2],\n",
    "                 [3, 4]])\n",
    "ones = np.ones((2, 2))\n",
    "data + ones"
   ],
   "metadata": {
    "id": "SBUQ1WRTc1Nz",
    "colab": {
     "base_uri": "https://localhost:8080/"
    },
    "outputId": "8e0ad3f7-3008-4918-953f-4147a2227de5"
   },
   "execution_count": null,
   "outputs": [
    {
     "output_type": "execute_result",
     "data": {
      "text/plain": [
       "array([[2., 3.],\n",
       "       [4., 5.]])"
      ]
     },
     "metadata": {},
     "execution_count": 68
    }
   ]
  },
  {
   "cell_type": "markdown",
   "source": [
    "<img src=\"https://numpy.org/doc/stable/_images/np_multiply_broadcasting.png\"/>"
   ],
   "metadata": {
    "id": "HwlsCM7GEAzE"
   }
  },
  {
   "cell_type": "code",
   "source": [
    "# Broadcasting is a mechanism that allows NumPy to perform operations on arrays of different shapes.\n",
    "# The dimensions of your array must be compatible,\n",
    "# for example, when the dimensions of both arrays are equal or when one of them is 1\n",
    "data = np.array([1.0, 2.0])\n",
    "for d in [data * 1.6, data * np.array(1.6), data * np.array([1.6])]:\n",
    "  print(d)"
   ],
   "metadata": {
    "colab": {
     "base_uri": "https://localhost:8080/"
    },
    "id": "ChS7sxXXEAcm",
    "outputId": "f0ed6525-00f9-4e12-d2f7-6ef28156822b"
   },
   "execution_count": null,
   "outputs": [
    {
     "output_type": "stream",
     "name": "stdout",
     "text": [
      "[1.6 3.2]\n",
      "[1.6 3.2]\n",
      "[1.6 3.2]\n"
     ]
    }
   ]
  },
  {
   "cell_type": "markdown",
   "source": [
    "<img src=\"https://numpy.org/doc/stable/_images/np_matrix_broadcasting.png\"/>"
   ],
   "metadata": {
    "id": "QwZWtSHNC6Ty"
   }
  },
  {
   "cell_type": "code",
   "source": [
    "data = np.array([[1, 2],\n",
    "                 [3, 4],\n",
    "                 [5, 6]])\n",
    "ones_row = np.array([[1, 1]])\n",
    "data + ones_row    # broadcast"
   ],
   "metadata": {
    "colab": {
     "base_uri": "https://localhost:8080/"
    },
    "id": "UQBBE89kC3vi",
    "outputId": "391cedaa-61bc-4580-f465-4c071a243b1a"
   },
   "execution_count": null,
   "outputs": [
    {
     "output_type": "execute_result",
     "data": {
      "text/plain": [
       "array([[2, 3],\n",
       "       [4, 5],\n",
       "       [6, 7]])"
      ]
     },
     "metadata": {},
     "execution_count": 66
    }
   ]
  },
  {
   "cell_type": "markdown",
   "source": [
    "## Aggregation Operations"
   ],
   "metadata": {
    "id": "xtoOMQHsGoZm"
   }
  },
  {
   "cell_type": "markdown",
   "source": [
    "<img src=\"https://numpy.org/doc/stable/_images/np_aggregation.png\"/>"
   ],
   "metadata": {
    "id": "1gBceeKoGzVM"
   }
  },
  {
   "cell_type": "code",
   "source": [
    "data = np.array([1, 2, 3])\n",
    "for agg in [data.max(), data.min(), data.sum()]:\n",
    "  print(agg)"
   ],
   "metadata": {
    "colab": {
     "base_uri": "https://localhost:8080/"
    },
    "id": "abCi7BS7GrAJ",
    "outputId": "ac4d66a4-bd9d-4563-d58c-6afdd5b94bd8"
   },
   "execution_count": null,
   "outputs": [
    {
     "output_type": "stream",
     "name": "stdout",
     "text": [
      "3\n",
      "1\n",
      "6\n"
     ]
    }
   ]
  },
  {
   "cell_type": "markdown",
   "source": [
    "<img src=\"https://numpy.org/doc/stable/_images/np_matrix_aggregation.png\"/>"
   ],
   "metadata": {
    "id": "LpQQrR9_ioTU"
   }
  },
  {
   "cell_type": "code",
   "source": [
    "import numpy as np\n",
    "data = np.array([i for i in range(1, 7)]).reshape((2, 3))\n",
    "for d in [data, data.max(), data.min(), data.sum()]:\n",
    "  print(d)\n",
    "print(np.amin(data, axis=0))"
   ],
   "metadata": {
    "colab": {
     "base_uri": "https://localhost:8080/"
    },
    "id": "YEICiFawioFA",
    "outputId": "9db7271d-a545-48ea-b310-87e4ce59a3bb",
    "ExecuteTime": {
     "end_time": "2023-10-22T05:40:16.552556Z",
     "start_time": "2023-10-22T05:40:16.541561Z"
    }
   },
   "execution_count": 4,
   "outputs": [
    {
     "name": "stdout",
     "output_type": "stream",
     "text": [
      "[[1 2 3]\n",
      " [4 5 6]]\n",
      "6\n",
      "1\n",
      "21\n",
      "[1 2 3]\n"
     ]
    }
   ]
  },
  {
   "cell_type": "code",
   "source": [
    "for d in [data.mean(), data.std(), data.var()]:\n",
    "  print('{:.2f}'.format(d))"
   ],
   "metadata": {
    "colab": {
     "base_uri": "https://localhost:8080/"
    },
    "id": "jvvMlsfbj5yw",
    "outputId": "7f5cbd26-02c9-4d28-cc26-2f2842e99ce4"
   },
   "execution_count": null,
   "outputs": [
    {
     "output_type": "stream",
     "name": "stdout",
     "text": [
      "3.50\n",
      "1.71\n",
      "2.92\n"
     ]
    }
   ]
  },
  {
   "cell_type": "code",
   "source": [
    "for d in [data, np.amin(data), np.amax(data), np.amin(data, axis=1), np.amax(data, axis=1), data.argmin(), data.argmax()]:\n",
    "  print(d)"
   ],
   "metadata": {
    "colab": {
     "base_uri": "https://localhost:8080/"
    },
    "id": "t6q4N4EFk7Me",
    "outputId": "b750ee0d-7c46-470d-f732-f302d7d92a2f"
   },
   "execution_count": null,
   "outputs": [
    {
     "output_type": "stream",
     "name": "stdout",
     "text": [
      "[[1 2 3]\n",
      " [4 5 6]]\n",
      "1\n",
      "6\n",
      "[1 4]\n",
      "[3 6]\n",
      "0\n",
      "5\n"
     ]
    }
   ]
  },
  {
   "cell_type": "markdown",
   "source": [
    "<img src=\"https://numpy.org/doc/stable/_images/np_matrix_aggregation_row.png\"/>"
   ],
   "metadata": {
    "id": "3gnX5yrYLrNM"
   }
  },
  {
   "cell_type": "code",
   "source": [
    "data = np.array([[1, 2],\n",
    "                 [5, 3],\n",
    "                 [4, 6]])\n",
    "for d in [data.max(axis=0), data.max(axis=1)]:\n",
    "  print(d)\n",
    "\n",
    "#print(data.shape)"
   ],
   "metadata": {
    "colab": {
     "base_uri": "https://localhost:8080/"
    },
    "id": "3JfwvUBqLq5N",
    "outputId": "93853024-199d-449a-fd1a-6661b93db5e3"
   },
   "execution_count": null,
   "outputs": [
    {
     "output_type": "stream",
     "name": "stdout",
     "text": [
      "[5 6]\n",
      "[2 5 6]\n"
     ]
    }
   ]
  },
  {
   "cell_type": "code",
   "source": [
    "import pandas as pd\n",
    "\n",
    "#data = [[10, 18, 11], [13, 15, 8], [9, 20, 3]]\n",
    "data = np.array([[1, 2],\n",
    "                 [5, 3],\n",
    "                 [4, 6]])\n",
    "df = pd.DataFrame(data)\n",
    "\n",
    "print(df.max(axis=0))\n",
    "print(df.max(axis=1))\n",
    "print(df.sum(axis=0))\n",
    "print(df.sum(axis=1))\n",
    "print(df.count())"
   ],
   "metadata": {
    "colab": {
     "base_uri": "https://localhost:8080/"
    },
    "id": "SIk1Dyz8RJH0",
    "outputId": "e5732556-fb46-4ade-b54b-802ce9c18b9e"
   },
   "execution_count": null,
   "outputs": [
    {
     "output_type": "stream",
     "name": "stdout",
     "text": [
      "0    5\n",
      "1    6\n",
      "dtype: int64\n",
      "0    2\n",
      "1    5\n",
      "2    6\n",
      "dtype: int64\n",
      "0    10\n",
      "1    11\n",
      "dtype: int64\n",
      "0     3\n",
      "1     8\n",
      "2    10\n",
      "dtype: int64\n",
      "0    3\n",
      "1    3\n",
      "dtype: int64\n"
     ]
    }
   ]
  },
  {
   "cell_type": "markdown",
   "source": [
    "## Random"
   ],
   "metadata": {
    "id": "aKGeMRfmlv4e"
   }
  },
  {
   "cell_type": "code",
   "source": [
    "rng = np.random.default_rng() # random number generation\n",
    "print(rng)\n",
    "for r in [rng.random(3), rng.integers(low=0, high=10, size=3)]:\n",
    "  print(r)"
   ],
   "metadata": {
    "colab": {
     "base_uri": "https://localhost:8080/"
    },
    "id": "U4U5QJL7I1Ed",
    "outputId": "41085837-cb68-4bb6-e2d1-1cf419126a96"
   },
   "execution_count": null,
   "outputs": [
    {
     "output_type": "stream",
     "name": "stdout",
     "text": [
      "Generator(PCG64)\n",
      "[0.26444416 0.57378482 0.47240276]\n",
      "[5 4 9]\n"
     ]
    }
   ]
  },
  {
   "cell_type": "code",
   "source": [
    "rng_seed = np.random.default_rng(seed=42)  # reproducible results\n",
    "print(rng_seed)\n",
    "for r in [rng_seed.random(3), rng_seed.integers(low=0, high=10, size=(3, 2))]:\n",
    "  print(r)"
   ],
   "metadata": {
    "colab": {
     "base_uri": "https://localhost:8080/"
    },
    "id": "vImVUZSwmsL8",
    "outputId": "6b322f9e-db7f-49f0-fd67-509ef0f55684"
   },
   "execution_count": null,
   "outputs": [
    {
     "output_type": "stream",
     "name": "stdout",
     "text": [
      "Generator(PCG64)\n",
      "[0.77395605 0.43887844 0.85859792]\n",
      "[[0 6]\n",
      " [2 0]\n",
      " [5 9]]\n"
     ]
    }
   ]
  },
  {
   "cell_type": "markdown",
   "source": [
    "\n",
    "## Normal distribution\n",
    "\n",
    "$$f(x) = \\frac{1}{\\sigma\\sqrt{2\\pi}}\n",
    "  \\exp\\left( -\\frac{1}{2}\\left(\\frac{x-\\mu}{\\sigma}\\right)^{\\!2}\\,\\right)$$\n"
   ],
   "metadata": {
    "id": "MhJv9Qx6oM0F"
   }
  },
  {
   "cell_type": "code",
   "source": [
    "mu, sigma = 0, 1\n",
    "s = np.random.normal(mu, sigma, 10)\n",
    "s"
   ],
   "metadata": {
    "colab": {
     "base_uri": "https://localhost:8080/"
    },
    "id": "6rEjwMCARkp8",
    "outputId": "899bafb5-0162-40a3-b37c-2adbd88f2c99"
   },
   "execution_count": null,
   "outputs": [
    {
     "output_type": "execute_result",
     "data": {
      "text/plain": [
       "array([-2.55457217,  0.37998688,  0.85257732,  0.03132839,  0.55405381,\n",
       "        0.12407399,  2.32676456, -2.23385074,  1.18148091, -1.20207231])"
      ]
     },
     "metadata": {},
     "execution_count": 23
    }
   ]
  },
  {
   "cell_type": "code",
   "source": [
    "mu, sigma = 0, 1\n",
    "rng = np.random.default_rng()\n",
    "s = rng.normal(mu, sigma, 10)\n",
    "s"
   ],
   "metadata": {
    "colab": {
     "base_uri": "https://localhost:8080/"
    },
    "id": "WrxuvQ0snKO4",
    "outputId": "c99cd3d7-72d1-4eb0-dcd8-bd7f71e79bea"
   },
   "execution_count": null,
   "outputs": [
    {
     "output_type": "execute_result",
     "data": {
      "text/plain": [
       "array([-0.74819614, -0.37458005,  1.04859796,  0.42310557,  0.83694488,\n",
       "        0.19877031,  1.76193929, -0.29192027,  0.64238677, -0.26200104])"
      ]
     },
     "metadata": {},
     "execution_count": 55
    }
   ]
  },
  {
   "cell_type": "code",
   "source": [
    "import matplotlib.pyplot as plt\n",
    "\n",
    "s = np.random.default_rng().normal(mu, sigma, 1000)\n",
    "count, bins, ignored = plt.hist(s, bins=0, density=True)\n",
    "plt.plot(bins, 1/(sigma * np.sqrt(2 * np.pi)) *\n",
    "               np.exp( - (bins - mu)**2 / (2 * sigma**2) ))\n",
    "plt.show()"
   ],
   "metadata": {
    "colab": {
     "base_uri": "https://localhost:8080/",
     "height": 430
    },
    "id": "fD2qXbMGnTtq",
    "outputId": "9b051268-7d15-4efc-c4d2-a6f1c175ecb2"
   },
   "execution_count": null,
   "outputs": [
    {
     "output_type": "display_data",
     "data": {
      "text/plain": [
       "<Figure size 640x480 with 1 Axes>"
      ],
      "image/png": "[encoded data removed]"
     },
     "metadata": {}
    }
   ]
  },
  {
   "cell_type": "code",
   "source": [
    "# Return a sample (or samples) from the “standard normal” distribution.\n",
    "60 + np.random.randn(5, 2)*5"
   ],
   "metadata": {
    "colab": {
     "base_uri": "https://localhost:8080/"
    },
    "id": "XERK-1JG7LTn",
    "outputId": "3a30ba65-d0f5-4336-adab-2e813bd46dc2"
   },
   "execution_count": null,
   "outputs": [
    {
     "output_type": "execute_result",
     "data": {
      "text/plain": [
       "array([[64.84228924, 62.89276929],\n",
       "       [60.88910221, 54.67486824],\n",
       "       [64.77311756, 52.21715904],\n",
       "       [59.10964565, 57.22416056],\n",
       "       [58.74296193, 58.8211405 ]])"
      ]
     },
     "metadata": {},
     "execution_count": 22
    }
   ]
  },
  {
   "cell_type": "markdown",
   "source": [
    "## Dot Product"
   ],
   "metadata": {
    "id": "Z3XIrh3fGiTv"
   }
  },
  {
   "cell_type": "markdown",
   "source": [
    "<img src=\"https://jalammar.github.io/images/numpy/numpy-matrix-dot-product-1.png\"/>"
   ],
   "metadata": {
    "id": "qHeiIk6Pdh9y"
   }
  },
  {
   "cell_type": "code",
   "source": [
    "data = np.array([1, 2, 3]).reshape((1, 3))\n",
    "powers_of_ten = np.reshape([pow(10, i) for i in range(0, 6)], (3,2))\n",
    "# For 2-D arrays it is equivalent to matrix multiplication\n",
    "for d in [data.dot(powers_of_ten), np.matmul(data, powers_of_ten), data @ powers_of_ten]:\n",
    "  print(d)\n"
   ],
   "metadata": {
    "id": "xMQLNosZeBz3",
    "colab": {
     "base_uri": "https://localhost:8080/"
    },
    "outputId": "cf5ef157-cc87-4047-da16-b6a388f20c8a"
   },
   "execution_count": null,
   "outputs": [
    {
     "output_type": "stream",
     "name": "stdout",
     "text": [
      "[[ 30201 302010]]\n",
      "[[ 30201 302010]]\n",
      "[[ 30201 302010]]\n"
     ]
    }
   ]
  },
  {
   "cell_type": "code",
   "source": [
    "A = np.array([[4, 2],\n",
    "             [0, 3]])\n",
    "B = np.array([[4, 0],\n",
    "             [1, 4]])\n",
    "\n",
    "print(A * B)            # element-wise multiplication\n",
    "print(A.dot(B))         # dot product\n",
    "print(np.matmul(A, B))  # matrix multiplication"
   ],
   "metadata": {
    "colab": {
     "base_uri": "https://localhost:8080/"
    },
    "id": "9pMUdxfwHx-R",
    "outputId": "a84cd404-d2e2-414c-e262-0c5edd79e977"
   },
   "execution_count": null,
   "outputs": [
    {
     "output_type": "stream",
     "name": "stdout",
     "text": [
      "[[16  0]\n",
      " [ 0 12]]\n",
      "[[18  8]\n",
      " [ 3 12]]\n",
      "[[18  8]\n",
      " [ 3 12]]\n"
     ]
    }
   ]
  },
  {
   "cell_type": "markdown",
   "source": [
    "## Working with mathematical formulas"
   ],
   "metadata": {
    "id": "Qaldw9gAibsX"
   }
  },
  {
   "cell_type": "markdown",
   "source": [
    "<img src=\"https://numpy.org/doc/stable/_images/np_MSE_formula.png\"/>\n",
    "\n",
    "<img src=\"https://numpy.org/doc/stable/_images/np_mse_viz2.png\"/>\n",
    "\n",
    "<img src=\"https://numpy.org/doc/stable/_images/np_MSE_explanation2.png\"/>\n"
   ],
   "metadata": {
    "id": "GEg6jhikwdMR"
   }
  },
  {
   "cell_type": "code",
   "source": [
    "y_prediction = np.array([1, 1, 1])\n",
    "label = np.array([1, 2, 3])\n",
    "\n",
    "mse = (1/3) * np.sum(np.square(y_prediction - label))\n",
    "mse"
   ],
   "metadata": {
    "colab": {
     "base_uri": "https://localhost:8080/"
    },
    "id": "9SdhMfnjIOXN",
    "outputId": "2d83a1c1-3757-476e-d1fd-58c16a17eef5"
   },
   "execution_count": null,
   "outputs": [
    {
     "output_type": "execute_result",
     "data": {
      "text/plain": [
       "1.6666666666666665"
      ]
     },
     "metadata": {},
     "execution_count": 61
    }
   ]
  },
  {
   "cell_type": "code",
   "source": [
    "y_prediction - label"
   ],
   "metadata": {
    "colab": {
     "base_uri": "https://localhost:8080/"
    },
    "id": "DFVdm0iQxno-",
    "outputId": "b74f7104-b9c5-4f42-d52e-fc009d562dc9"
   },
   "execution_count": null,
   "outputs": [
    {
     "output_type": "execute_result",
     "data": {
      "text/plain": [
       "array([ 0, -1, -2])"
      ]
     },
     "metadata": {},
     "execution_count": 62
    }
   ]
  },
  {
   "cell_type": "code",
   "source": [
    "np.square(y_prediction - label)"
   ],
   "metadata": {
    "colab": {
     "base_uri": "https://localhost:8080/"
    },
    "id": "51ne52qYx0Eq",
    "outputId": "7c5d74c9-e5c3-4efb-ce43-f737b0174b68"
   },
   "execution_count": null,
   "outputs": [
    {
     "output_type": "execute_result",
     "data": {
      "text/plain": [
       "array([0, 1, 4])"
      ]
     },
     "metadata": {},
     "execution_count": 63
    }
   ]
  },
  {
   "cell_type": "code",
   "source": [
    "np.sum(np.square(y_prediction - label))"
   ],
   "metadata": {
    "colab": {
     "base_uri": "https://localhost:8080/"
    },
    "id": "AYNN49mex3Ti",
    "outputId": "7353d3b3-2e93-4689-b650-e793f9f3602d"
   },
   "execution_count": null,
   "outputs": [
    {
     "output_type": "execute_result",
     "data": {
      "text/plain": [
       "5"
      ]
     },
     "metadata": {},
     "execution_count": 64
    }
   ]
  },
  {
   "cell_type": "code",
   "source": [
    "y_pred = np.arra([0.58, 1.56, 2.54, 3.52, 4.50])\n",
    "y_pred = np.arra([1, 2, 2, 4, 4])"
   ],
   "metadata": {
    "id": "hJ5lzwGoxngK"
   },
   "execution_count": null,
   "outputs": []
  },
  {
   "cell_type": "markdown",
   "source": [],
   "metadata": {
    "id": "ryX7ktjUyIf9"
   }
  },
  {
   "cell_type": "code",
   "source": [
    "A = np.arange(9).reshape((3,3))\n",
    "for a in [A, np.trace(A), np.diagonal(A)]:\n",
    "  print(a)"
   ],
   "metadata": {
    "colab": {
     "base_uri": "https://localhost:8080/"
    },
    "id": "InBYRizmzix_",
    "outputId": "0f7d0ae0-de88-414c-8c05-160067ab7cea"
   },
   "execution_count": null,
   "outputs": [
    {
     "output_type": "stream",
     "name": "stdout",
     "text": [
      "[[0 1 2]\n",
      " [3 4 5]\n",
      " [6 7 8]]\n",
      "12\n",
      "[0 4 8]\n"
     ]
    }
   ]
  },
  {
   "cell_type": "code",
   "source": [
    "A = np.arange(8).reshape((2,2,2))\n",
    "for a in [A, np.trace(A), np.diagonal(A)]:\n",
    "  print(a)"
   ],
   "metadata": {
    "colab": {
     "base_uri": "https://localhost:8080/"
    },
    "id": "XKApQVe2zjEy",
    "outputId": "42131936-0987-4a82-ac92-c85dc60c789d"
   },
   "execution_count": null,
   "outputs": [
    {
     "output_type": "stream",
     "name": "stdout",
     "text": [
      "[[[0 1]\n",
      "  [2 3]]\n",
      "\n",
      " [[4 5]\n",
      "  [6 7]]]\n",
      "[6 8]\n",
      "[[0 6]\n",
      " [1 7]]\n"
     ]
    }
   ]
  },
  {
   "cell_type": "markdown",
   "source": [
    "# Lab"
   ],
   "metadata": {
    "id": "KEsoy6ktNTbL"
   }
  },
  {
   "cell_type": "markdown",
   "source": [
    "# 1"
   ],
   "metadata": {
    "id": "MXKWwJc1PUyW"
   }
  },
  {
   "cell_type": "markdown",
   "source": [
    "* Create a 5x5 array A representing a grayscale image, where each value is between 0 (black) and 255 (white).\n",
    "\n",
    "* Create a filter B, a 3x1 array, with values ranging from -1 to 1.\n",
    "\n",
    "* Using broadcasting, add this filter to the center of the image.\n",
    "\n",
    "* Ensure no value in the image goes below 0 or above 255."
   ],
   "metadata": {
    "id": "_Va0C9mmNbbX"
   }
  },
  {
   "cell_type": "code",
   "execution_count": 10,
   "outputs": [
    {
     "ename": "TypeError",
     "evalue": "'numpy.random._generator.Generator' object is not callable",
     "output_type": "error",
     "traceback": [
      "\u001B[0;31m---------------------------------------------------------------------------\u001B[0m",
      "\u001B[0;31mTypeError\u001B[0m                                 Traceback (most recent call last)",
      "Cell \u001B[0;32mIn[10], line 4\u001B[0m\n\u001B[1;32m      2\u001B[0m rng \u001B[38;5;241m=\u001B[39m np\u001B[38;5;241m.\u001B[39mrandom\u001B[38;5;241m.\u001B[39mdefault_rng()\n\u001B[1;32m      3\u001B[0m a \u001B[38;5;241m=\u001B[39m rng\u001B[38;5;241m.\u001B[39mintegers(low\u001B[38;5;241m=\u001B[39m\u001B[38;5;241m0\u001B[39m, high\u001B[38;5;241m=\u001B[39m\u001B[38;5;241m255\u001B[39m, size\u001B[38;5;241m=\u001B[39m(\u001B[38;5;241m5\u001B[39m,\u001B[38;5;241m5\u001B[39m))\n\u001B[0;32m----> 4\u001B[0m b \u001B[38;5;241m=\u001B[39m \u001B[43mrng\u001B[49m\u001B[43m(\u001B[49m\u001B[43mlow\u001B[49m\u001B[38;5;241;43m=\u001B[39;49m\u001B[38;5;241;43m-\u001B[39;49m\u001B[38;5;241;43m1\u001B[39;49m\u001B[43m,\u001B[49m\u001B[43m \u001B[49m\u001B[43mhigh\u001B[49m\u001B[38;5;241;43m=\u001B[39;49m\u001B[38;5;241;43m1\u001B[39;49m\u001B[43m,\u001B[49m\u001B[43m \u001B[49m\u001B[43msize\u001B[49m\u001B[38;5;241;43m=\u001B[39;49m\u001B[43m(\u001B[49m\u001B[38;5;241;43m3\u001B[39;49m\u001B[43m,\u001B[49m\u001B[38;5;241;43m1\u001B[39;49m\u001B[43m)\u001B[49m\u001B[43m)\u001B[49m\n\u001B[1;32m      5\u001B[0m b\n",
      "\u001B[0;31mTypeError\u001B[0m: 'numpy.random._generator.Generator' object is not callable"
     ]
    }
   ],
   "source": [
    "import numpy as np\n",
    "rng = np.random.default_rng()\n",
    "a = rng.integers(low=0, high=255, size=(5,5))\n",
    "b = rng.(-1, 1, size=(3,1))\n",
    "b"
   ],
   "metadata": {
    "collapsed": false,
    "ExecuteTime": {
     "end_time": "2023-10-22T06:05:35.127516Z",
     "start_time": "2023-10-22T06:05:35.124918Z"
    }
   }
  },
  {
   "cell_type": "code",
   "source": [],
   "metadata": {
    "id": "rKo4Y5MUz1qT",
    "colab": {
     "base_uri": "https://localhost:8080/"
    },
    "outputId": "9bda414e-fc17-4e4e-cdb1-09db590353fe"
   },
   "execution_count": null,
   "outputs": [
    {
     "output_type": "stream",
     "name": "stdout",
     "text": [
      "[[147 253 190  46 153]\n",
      " [ 62  12 247  20 242]\n",
      " [175 111  15 178 164]\n",
      " [190 176  64 114 156]\n",
      " [170 222  19  99  32]]\n",
      "\n",
      "[[147 253 190  46 153]\n",
      " [ 62  11 246  19 242]\n",
      " [175 111  15 178 164]\n",
      " [190 175  63 113 156]\n",
      " [170 222  19  99  32]]\n"
     ]
    }
   ]
  },
  {
   "cell_type": "markdown",
   "source": [
    "#2"
   ],
   "metadata": {
    "id": "Iu96Vfg8PWF3"
   }
  },
  {
   "cell_type": "markdown",
   "source": [
    "* Generate a 1D array of size 100 with random integers between 0 and 1000.\n",
    "\n",
    "* Reshape it to a 10x10 matrix.\n",
    "\n",
    "* Extract all rows where the row's mean value is above 500."
   ],
   "metadata": {
    "id": "bwm9sp7vPWvX"
   }
  },
  {
   "cell_type": "code",
   "source": [],
   "metadata": {
    "colab": {
     "base_uri": "https://localhost:8080/"
    },
    "id": "Gj6qcuU6NqI6",
    "outputId": "7bef2fd6-b3a8-466e-93d5-a795998b5063"
   },
   "execution_count": null,
   "outputs": [
    {
     "output_type": "stream",
     "name": "stdout",
     "text": [
      "[[702  44 288  81 246 548 283  91 550 251]\n",
      " [609 991 183  99 177 668 459 361 454 988]\n",
      " [441 549 801 333 359 895 947 296 977 359]\n",
      " [248  81  91 530 672 530 530   5 423 936]\n",
      " [426 468 132 519 446 144 718 628 665 693]\n",
      " [747 817 298 120 874 940 290 250 165 969]\n",
      " [567 210 741 489 546  88 209 636 155 653]\n",
      " [303 815 533 776 906 389 943 958 293 651]\n",
      " [791 757 105 651 363 781 922 381 885 106]\n",
      " [372 122 596 401 358  97 520 990 942  74]]\n",
      "\n",
      "[[441 549 801 333 359 895 947 296 977 359]\n",
      " [747 817 298 120 874 940 290 250 165 969]\n",
      " [303 815 533 776 906 389 943 958 293 651]\n",
      " [791 757 105 651 363 781 922 381 885 106]]\n"
     ]
    }
   ]
  },
  {
   "cell_type": "markdown",
   "source": [
    "# 3"
   ],
   "metadata": {
    "id": "z0ksTzPDQHw7"
   }
  },
  {
   "cell_type": "markdown",
   "source": [
    "* Given a 6x6 matrix of random floats between 0 and 1,\n",
    "\n",
    "* Find the row and column indices of all elements that are greater than 0.75 and less than 0.85.\n",
    "\n",
    "* Print the results in [ (row, col), ... ] format.\n",
    "\n",
    "```\n",
    "matrix = np.random.rand(6,6)\n",
    "```"
   ],
   "metadata": {
    "id": "8EBPMFkwQIvb"
   }
  },
  {
   "cell_type": "code",
   "source": [],
   "metadata": {
    "colab": {
     "base_uri": "https://localhost:8080/"
    },
    "id": "JkOkJNzXPfs6",
    "outputId": "77552fdb-4aff-40ce-c200-c975b9e3112f"
   },
   "execution_count": null,
   "outputs": [
    {
     "output_type": "stream",
     "name": "stdout",
     "text": [
      "[[0.25007983 0.22009331 0.92625562 0.95383002 0.30249151 0.18290156]\n",
      " [0.54412042 0.2381466  0.40481353 0.40703162 0.69003237 0.08801511]\n",
      " [0.81966488 0.00998911 0.94192218 0.01762973 0.27582642 0.12378058]\n",
      " [0.97045517 0.12652249 0.42261061 0.73056873 0.53387134 0.05782807]\n",
      " [0.39214335 0.72044319 0.74022007 0.52593952 0.20807863 0.37091657]\n",
      " [0.42646691 0.67757482 0.57873114 0.8091787  0.21136793 0.09079031]]\n",
      "\n",
      "[(2, 0), (5, 3)]\n"
     ]
    }
   ]
  },
  {
   "cell_type": "markdown",
   "source": [
    "#4"
   ],
   "metadata": {
    "id": "SY7zj5B3QmYy"
   }
  },
  {
   "cell_type": "markdown",
   "source": [
    "* Using numpy's random and Python's built-in random module, generate two separate 1D arrays of size 1000 with random numbers between 1 and 10.\n",
    "\n",
    "* Use randint for both\n",
    "\n",
    "* Calculate and compare the sum, mean, and variance for both arrays.\n",
    "\n",
    "```\n",
    "import random\n",
    "import numpy as np\n",
    "```"
   ],
   "metadata": {
    "id": "sgqd2C11QoYF"
   }
  },
  {
   "cell_type": "code",
   "source": [],
   "metadata": {
    "colab": {
     "base_uri": "https://localhost:8080/"
    },
    "id": "Ag9ogG4MQRws",
    "outputId": "72df70da-11f8-4121-d5d2-08e11bd5f250"
   },
   "execution_count": null,
   "outputs": [
    {
     "output_type": "stream",
     "name": "stdout",
     "text": [
      "Numpy:  5412 5.412 8.362256\n",
      "Python:  5548 5.548 8.867696\n"
     ]
    }
   ]
  },
  {
   "cell_type": "markdown",
   "source": [
    "#5"
   ],
   "metadata": {
    "id": "1ytVsEpWTojN"
   }
  },
  {
   "cell_type": "markdown",
   "source": [
    "* Generate 5000 numbers from a normal distribution with mean 50 and standard deviation 10 using numpy.\n",
    "\n",
    "* Calculate the percentage of numbers that fall within one, two, and three standard deviations from the mean.\n",
    "\n",
    "```\n",
    "# \"Within one standard deviation\" refers to the range 40 to 60 (50 - 10 to 50 + 10).\n",
    "# Approximately 68% of the generated numbers should fall within this range.\n",
    "# \"Within two standard deviations\" refers to the range 30 to 70 (50 - 2(10) to 50 + 2(10)).\n",
    "# Approximately 95% of the numbers should fall within this range.\n",
    "# \"Within three standard deviations\" refers to the range 20 to 80 (50 - 3(10) to 50 + 3(10)).\n",
    "# About 99.7% of the numbers should fall within this range.\n",
    "```"
   ],
   "metadata": {
    "id": "osEuNdGsTpk1"
   }
  },
  {
   "cell_type": "code",
   "source": [],
   "metadata": {
    "colab": {
     "base_uri": "https://localhost:8080/"
    },
    "id": "BPjmr-0yQ82F",
    "outputId": "145d8ead-1c6f-42e2-d902-f62152d94a0c"
   },
   "execution_count": null,
   "outputs": [
    {
     "output_type": "stream",
     "name": "stdout",
     "text": [
      "0.6824 0.9506 0.9974\n"
     ]
    }
   ]
  },
  {
   "cell_type": "markdown",
   "source": [
    "#6"
   ],
   "metadata": {
    "id": "1v6b7klLUiin"
   }
  },
  {
   "cell_type": "markdown",
   "source": [
    "* Create two 4x4 matrices, M and N, with random integers between 1 and 100.\n",
    "\n",
    "* Compute the following:\n",
    "\n",
    "> * a. The Hadamard (element-wise) product.\n",
    "> * b. The matrix multiplication result.\n",
    "> * c. The element-wise square of the result from (b)."
   ],
   "metadata": {
    "id": "ThHa9FaZUkGK"
   }
  },
  {
   "cell_type": "code",
   "source": [],
   "metadata": {
    "colab": {
     "base_uri": "https://localhost:8080/"
    },
    "id": "IVcDkJ1sTxUs",
    "outputId": "80722fc4-d8bb-490d-c49f-09ff189cfb22"
   },
   "execution_count": null,
   "outputs": [
    {
     "output_type": "stream",
     "name": "stdout",
     "text": [
      "[[ 690 2880 5096  714]\n",
      " [5628 1495    8  832]\n",
      " [ 460 1705 6097  990]\n",
      " [1380 2346 1512 2176]] [[ 9996  9126  8841  4434]\n",
      " [ 5485  7513  6322  6039]\n",
      " [ 9751  8716  8322  4643]\n",
      " [10177 10467  8148  6013]] [[ 99920016  83283876  78163281  19660356]\n",
      " [ 30085225  56445169  39967684  36469521]\n",
      " [ 95082001  75968656  69255684  21557449]\n",
      " [103571329 109558089  66389904  36156169]]\n"
     ]
    }
   ]
  },
  {
   "cell_type": "markdown",
   "source": [
    "#7"
   ],
   "metadata": {
    "id": "4lS8w7lYU84j"
   }
  },
  {
   "cell_type": "markdown",
   "source": [
    "Implement the sigmoid function:\n",
    "\n",
    "$$ \\sigma(x) = \\frac{1}{1+e^{-x}} $$\n",
    "\n",
    "Then, given a 1D array of 10 random integers between -5 and 5, apply the sigmoid function to each element.\n",
    "\n",
    "```\n",
    "values = np.random.randint(-5, 6, 10)\n",
    "```"
   ],
   "metadata": {
    "id": "bHaRtwjyU9wd"
   }
  },
  {
   "cell_type": "code",
   "source": [],
   "metadata": {
    "colab": {
     "base_uri": "https://localhost:8080/"
    },
    "id": "U9p6Wd3kUl-r",
    "outputId": "f9fc56db-7ffb-4231-9f8f-298f7f578942"
   },
   "execution_count": null,
   "outputs": [
    {
     "output_type": "stream",
     "name": "stdout",
     "text": [
      "[0.99330715 0.99330715 0.00669285 0.26894142 0.11920292 0.26894142\n",
      " 0.88079708 0.26894142 0.00669285 0.99330715]\n"
     ]
    }
   ]
  },
  {
   "cell_type": "code",
   "source": [],
   "metadata": {
    "id": "dVEr8C5lVj2w"
   },
   "execution_count": null,
   "outputs": []
  },
  {
   "cell_type": "markdown",
   "source": [
    "#8"
   ],
   "metadata": {
    "id": "SksDQa-QV9qH"
   }
  },
  {
   "cell_type": "markdown",
   "source": [
    "You're given a 6x6 matrix A filled with random integers between 0 and 100.\n",
    "\n",
    "Your task is to:\n",
    "\n",
    "* Extract the central 4x4 matrix from A.\n",
    "\n",
    "* Reshape this 4x4 matrix into a 2x8 matrix.\n",
    "\n",
    "* Calculate the row-wise sum of this 2x8 matrix.\n",
    "\n",
    "* Finally, reshape the result back into a 4x2 matrix."
   ],
   "metadata": {
    "id": "6mNO3LsfV-kf"
   }
  },
  {
   "cell_type": "code",
   "source": [],
   "metadata": {
    "colab": {
     "base_uri": "https://localhost:8080/"
    },
    "id": "5s3CldRqWEkp",
    "outputId": "722b852a-31a2-41f1-947f-fe24f1bf1293"
   },
   "execution_count": null,
   "outputs": [
    {
     "output_type": "stream",
     "name": "stdout",
     "text": [
      "[[25 19  5  7 63 17 71  9]\n",
      " [93 28 33 18  7 66 69 10]]\n",
      "[118  47  38  25  70  83 140  19]\n",
      "[[118  47]\n",
      " [ 38  25]\n",
      " [ 70  83]\n",
      " [140  19]]\n"
     ]
    }
   ]
  },
  {
   "cell_type": "code",
   "source": [],
   "metadata": {
    "id": "2xmioRl0WE2d"
   },
   "execution_count": null,
   "outputs": []
  },
  {
   "cell_type": "markdown",
   "source": [
    "#9"
   ],
   "metadata": {
    "id": "DcioPzrtWxzX"
   }
  },
  {
   "cell_type": "markdown",
   "source": [
    "* Generate two 1D arrays, actual and predicted, each with 20 random numbers between 0 and 100.\n",
    "\n",
    "* Compute the Mean Squared Error (MSE) between them\n",
    "\n",
    "* Find out which position (index) had the highest squared error."
   ],
   "metadata": {
    "id": "aaIJ4M1SWzue"
   }
  },
  {
   "cell_type": "code",
   "source": [],
   "metadata": {
    "colab": {
     "base_uri": "https://localhost:8080/"
    },
    "id": "DwPheIbnW11z",
    "outputId": "0d4992c1-c920-467a-c000-ed27b7c886fc"
   },
   "execution_count": null,
   "outputs": [
    {
     "output_type": "stream",
     "name": "stdout",
     "text": [
      "2589.15 7\n"
     ]
    }
   ]
  },
  {
   "cell_type": "markdown",
   "source": [
    "#10"
   ],
   "metadata": {
    "id": "9dMdnpXVZJsi"
   }
  },
  {
   "cell_type": "markdown",
   "source": [
    "* Create a 7x7 matrix filled with random integers between 1 and 100.\n",
    "\n",
    "* Identify and print the diagonal elements.\n",
    "\n",
    "* Compute the mean of the diagonal elements."
   ],
   "metadata": {
    "id": "sI4463ROZK4N"
   }
  },
  {
   "cell_type": "code",
   "source": [],
   "metadata": {
    "colab": {
     "base_uri": "https://localhost:8080/"
    },
    "id": "cu8AM4gxW7PU",
    "outputId": "038e0172-1da9-4dba-8a97-e72bc667cb11"
   },
   "execution_count": null,
   "outputs": [
    {
     "output_type": "stream",
     "name": "stdout",
     "text": [
      "[95 30 71 76 12 62 20] 52.285714285714285\n"
     ]
    }
   ]
  },
  {
   "cell_type": "code",
   "source": [],
   "metadata": {
    "id": "ykw3k3-3ZRWn"
   },
   "execution_count": null,
   "outputs": []
  }
 ]
}
