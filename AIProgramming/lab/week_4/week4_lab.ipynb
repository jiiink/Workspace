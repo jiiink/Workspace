{
 "nbformat": 4,
 "nbformat_minor": 0,
 "metadata": {
  "colab": {
   "provenance": []
  },
  "kernelspec": {
   "name": "python3",
   "language": "python",
   "display_name": "Python 3 (ipykernel)"
  },
  "language_info": {
   "name": "python"
  }
 },
 "cells": [
  {
   "cell_type": "markdown",
   "source": [
    "# Function Definition"
   ],
   "metadata": {
    "id": "jczfapYke7Uj"
   }
  },
  {
   "cell_type": "markdown",
   "source": [
    "Functions are commonly defined by statements of the form\n",
    "\n",
    "> **def** functionName(par1, par2,...)**:**<br>\n",
    "> &emsp;   indented block of statements<br>\n",
    "> &emsp;   return expression<br>\n",
    "\n",
    "where par1, par2 , . . . are the **parameters** and the expression evaluates to a literal of any type"
   ],
   "metadata": {
    "id": "xlcqDNDpfvXg"
   }
  },
  {
   "cell_type": "code",
   "source": [
    "def print_max(a, b):\n",
    "  if a > b:\n",
    "    print(a, 'is maximum')\n",
    "  elif a == b:\n",
    "    print(a, 'is equal to', b)\n",
    "  else:\n",
    "    print(b, 'is maximum')\n",
    "\n",
    "  # this function has no return statement\n",
    "\n",
    "# directly pass literal values\n",
    "print_max(3, 4)\n",
    "\n",
    "x = 5\n",
    "y = 7\n",
    "\n",
    "# pass variables as arguments\n",
    "print_max(x, y)"
   ],
   "metadata": {
    "colab": {
     "base_uri": "https://localhost:8080/"
    },
    "id": "0FwCN9mOe7nl",
    "outputId": "c0d8eb71-9913-41b9-ebd1-3bbee662e888"
   },
   "execution_count": null,
   "outputs": [
    {
     "output_type": "stream",
     "name": "stdout",
     "text": [
      "4 is maximum\n",
      "7 is maximum\n"
     ]
    }
   ]
  },
  {
   "cell_type": "markdown",
   "source": [
    "When defining a function (or a class), it is useful to document it using a string literal called the **doc string** at the start of the definition\n",
    "\n",
    "* The doc string is enclosed in three sets of double quotes (\"\"\")\n",
    "* It will be placed in the __doc__ attribute of the definition\n",
    "* It can be accessed using print(functionName.__doc__)"
   ],
   "metadata": {
    "id": "r6JvJEutgxfP"
   }
  },
  {
   "cell_type": "code",
   "source": [
    "def print_max(a, b):\n",
    "  \"\"\"\n",
    "  Prints which of the two provided numbers is the maximum or if they are equal.\n",
    "\n",
    "  Parameters:\n",
    "  - a: The first number to compare.\n",
    "  - b: The second number to compare.\n",
    "\n",
    "  Outputs:\n",
    "  - If a > b: \"a is maximum\"\n",
    "  - If a == b: \"a is equal to b\"\n",
    "  - If a < b: \"b is maximum\"\n",
    "\n",
    "  Returns:\n",
    "  None\n",
    "  \"\"\"\n",
    "\n",
    "  if a > b:\n",
    "    print(a, 'is maximum')\n",
    "  elif a == b:\n",
    "    print(a, 'is equal to', b)\n",
    "  else:\n",
    "    print(b, 'is maximum')\n",
    "\n"
   ],
   "metadata": {
    "id": "0N42oY6Vg0Hi"
   },
   "execution_count": null,
   "outputs": []
  },
  {
   "cell_type": "markdown",
   "source": [
    "We can also use help(object) to get the description of object"
   ],
   "metadata": {
    "id": "NnzwXlnphYqJ"
   }
  },
  {
   "cell_type": "code",
   "source": [
    "help(print_max)"
   ],
   "metadata": {
    "colab": {
     "base_uri": "https://localhost:8080/"
    },
    "id": "_xwE1g6fgprT",
    "outputId": "86fdf46e-5a99-4f2a-996e-87b36a50f4dd"
   },
   "execution_count": null,
   "outputs": [
    {
     "output_type": "stream",
     "name": "stdout",
     "text": [
      "Help on function print_max in module __main__:\n",
      "\n",
      "print_max(a, b)\n",
      "    Prints which of the two provided numbers is the maximum or if they are equal.\n",
      "    \n",
      "    Parameters:\n",
      "    - a: The first number to compare.\n",
      "    - b: The second number to compare.\n",
      "    \n",
      "    Outputs:\n",
      "    - If a > b: \"a is maximum\"\n",
      "    - If a == b: \"a is equal to b\"\n",
      "    - If a < b: \"b is maximum\"\n",
      "    \n",
      "    Returns:\n",
      "    None\n"
     ]
    }
   ]
  },
  {
   "cell_type": "markdown",
   "source": [
    "There is a **built-in function** called **max** that implements the 'find maximum' functionality"
   ],
   "metadata": {
    "id": "9pE9JmsRhtkM"
   }
  },
  {
   "cell_type": "code",
   "source": [
    "print(max(3, 4, 5, 2, 1))\n",
    "print(max([1, 2, 3, 4, 5]))\n",
    "print(max((1, 2, 3, 4, 5)))\n",
    "print(max('hello world!'))"
   ],
   "metadata": {
    "colab": {
     "base_uri": "https://localhost:8080/"
    },
    "id": "TNdWV35YfUk5",
    "outputId": "881d03e3-a535-4c65-b15f-589aca49dde7"
   },
   "execution_count": null,
   "outputs": [
    {
     "output_type": "stream",
     "name": "stdout",
     "text": [
      "5\n",
      "5\n",
      "5\n",
      "w\n"
     ]
    }
   ]
  },
  {
   "cell_type": "markdown",
   "source": [
    "The return statement is used to return from a function, i.e., break out of the function\n",
    "\n",
    "* We can optionally **return a value** from the function as well"
   ],
   "metadata": {
    "id": "UKubPKbShdvF"
   }
  },
  {
   "cell_type": "code",
   "source": [
    "def maximum(x, y):\n",
    "  if x > y:\n",
    "    return x\n",
    "  elif x == y:\n",
    "    return 'The numbers are equal'\n",
    "  else:\n",
    "    return y\n",
    "\n",
    "print(maximum(2, 3))\n",
    "print(maximum(5, 5))\n"
   ],
   "metadata": {
    "colab": {
     "base_uri": "https://localhost:8080/"
    },
    "id": "s0IX1OIYhhMM",
    "outputId": "4f07c8f2-6ce1-4f3d-ea7b-6844b84fd0b1"
   },
   "execution_count": null,
   "outputs": [
    {
     "output_type": "stream",
     "name": "stdout",
     "text": [
      "3\n",
      "The numbers are equal\n"
     ]
    }
   ]
  },
  {
   "cell_type": "markdown",
   "source": [
    "Every function implicitly contains a **return None** statement at the end unless you have written your own return statement\n",
    "\n",
    "* **None** is a special type in Python that represents nothingness\n",
    "* A **return** statement without a value is equivalent to **return None**"
   ],
   "metadata": {
    "id": "7emSwL5Gh_fP"
   }
  },
  {
   "cell_type": "code",
   "source": [
    "def f():\n",
    "  return\n",
    "\n",
    "print(f())"
   ],
   "metadata": {
    "colab": {
     "base_uri": "https://localhost:8080/"
    },
    "id": "B9cIkVviiIBA",
    "outputId": "e28c8b7e-b123-4ffa-f072-db854bb0e6d7"
   },
   "execution_count": null,
   "outputs": [
    {
     "output_type": "stream",
     "name": "stdout",
     "text": [
      "None\n"
     ]
    }
   ]
  },
  {
   "cell_type": "code",
   "source": [
    "for i in f():\n",
    "  print(i)"
   ],
   "metadata": {
    "id": "Tn6tpVF2iRzD"
   },
   "execution_count": null,
   "outputs": []
  },
  {
   "cell_type": "code",
   "source": [
    "result = f()\n",
    "' '.join(result)"
   ],
   "metadata": {
    "id": "14L-h28LiY1H"
   },
   "execution_count": null,
   "outputs": []
  },
  {
   "cell_type": "markdown",
   "source": [
    "# Scope of Variables"
   ],
   "metadata": {
    "id": "IHA_x4XjidmH"
   }
  },
  {
   "cell_type": "markdown",
   "source": [
    "Local variable:\n",
    "\n",
    "* A variable created inside a function\n",
    "* Can only be accessed by statements inside that function\n",
    "* Local variables are recreated each time the function is called\n",
    "(They cease to exist when the function is exited)\n",
    "* Variables created in two different functions with the same name are treated as completely different variables\n",
    "(i.e., variable names are local to the function)"
   ],
   "metadata": {
    "id": "oOBA9us0kL_m"
   }
  },
  {
   "cell_type": "code",
   "source": [
    "x = 50 # This x is a global variable\n",
    "\n",
    "def func(x):\n",
    "  print('x is', x) # This x is a local variable\n",
    "  x = 2\n",
    "  print('Changed local x to', x)\n",
    "\n",
    "func(x)\n",
    "print('x is still', x)"
   ],
   "metadata": {
    "colab": {
     "base_uri": "https://localhost:8080/"
    },
    "id": "CGEMjfkmiguS",
    "outputId": "75c42e2a-b3b7-4e61-9cb0-76c786e49817"
   },
   "execution_count": null,
   "outputs": [
    {
     "output_type": "stream",
     "name": "stdout",
     "text": [
      "x is 50\n",
      "Changed local x to 2\n",
      "x is still 50\n"
     ]
    }
   ]
  },
  {
   "cell_type": "markdown",
   "source": [
    "Global variable:\n",
    "\n",
    "* A variable recognized everywhere in a program"
   ],
   "metadata": {
    "id": "0yJPGosOkaUW"
   }
  },
  {
   "cell_type": "code",
   "source": [
    "def main():\n",
    "  ## Demonstrate the scope of variables.\n",
    "  x = 2\n",
    "  print(str(x) + \": function main\")\n",
    "  trivial()\n",
    "  print(str(x) + \": function main\")\n",
    "\n",
    "def trivial():\n",
    "  x = 3\n",
    "  print(str(x) + \": function trivial\")\n",
    "\n",
    "main()\n"
   ],
   "metadata": {
    "colab": {
     "base_uri": "https://localhost:8080/"
    },
    "id": "Ice71vNwkcMo",
    "outputId": "b5633261-bd58-46e9-d7ae-c407c50cedee"
   },
   "execution_count": null,
   "outputs": [
    {
     "output_type": "stream",
     "name": "stdout",
     "text": [
      "2: function main\n",
      "3: function trivial\n",
      "2: function main\n"
     ]
    }
   ]
  },
  {
   "cell_type": "markdown",
   "source": [
    "One way to make a variable global is to place the assignment statement that creates it at the top of the program\n",
    "\n",
    "* Any function can read the value of a global variable\n",
    "\n",
    "* however, the value cannot be altered inside a function unless the altering statement is preceded by a statement of the form\n",
    "\n",
    "> **global** globalVariableName"
   ],
   "metadata": {
    "id": "q_6GqG1zlMuL"
   }
  },
  {
   "cell_type": "code",
   "source": [
    "x = 50\n",
    "def main():\n",
    "  func()\n",
    "  print('Value of x is', x)\n",
    "\n",
    "def func():\n",
    "  global x # Can declare more than one global variable\n",
    "  print('x is', x)\n",
    "  x = 2\n",
    "  print('Changed global x to', x)\n",
    "\n",
    "main()"
   ],
   "metadata": {
    "colab": {
     "base_uri": "https://localhost:8080/"
    },
    "id": "7856_zRAlYYa",
    "outputId": "27e4e84e-ab32-4890-b45f-a5eda25b379f"
   },
   "execution_count": null,
   "outputs": [
    {
     "output_type": "stream",
     "name": "stdout",
     "text": [
      "x is 50\n",
      "Changed global x to 2\n",
      "Value of x is 2\n"
     ]
    }
   ]
  },
  {
   "cell_type": "markdown",
   "source": [
    "Named constant:\n",
    "\n",
    "* A special constant that will be used several times in the program\n",
    "* Created as a global variable whose name is written in uppercase letters with words separated by underscore character\n",
    "* To change the value of a named constant at a later time, you need to alter just one line of code at the top of the program"
   ],
   "metadata": {
    "id": "LQsuZLXPlglO"
   }
  },
  {
   "cell_type": "code",
   "source": [
    "INTEREST_RATE = 0.04\n",
    "MINIMUM_VOTING_AGE = 18\n",
    "\n",
    "amountDeposited = 3501.34\n",
    "\n",
    "interestEarned = INTEREST_RATE * amountDeposited\n",
    "print('interestEarned', interestEarned)\n",
    "\n",
    "age = 19\n",
    "\n",
    "if (age >= MINIMUM_VOTING_AGE):\n",
    "  print(\"You are eligible to vote.\")\n"
   ],
   "metadata": {
    "colab": {
     "base_uri": "https://localhost:8080/"
    },
    "id": "TAWwXazXlpuJ",
    "outputId": "91560925-3e2c-49cb-bfd7-08b1884d5dc6"
   },
   "execution_count": null,
   "outputs": [
    {
     "output_type": "stream",
     "name": "stdout",
     "text": [
      "interestEarned 140.05360000000002\n",
      "You are eligible to vote.\n"
     ]
    }
   ]
  },
  {
   "cell_type": "markdown",
   "source": [
    "# More Examples"
   ],
   "metadata": {
    "id": "CFBW1vmKvy4k"
   }
  },
  {
   "cell_type": "code",
   "source": [
    "def main():\n",
    "  ## Extract the first name from a full name.\n",
    "  fullName = input(\"Enter a person's full name: \")\n",
    "  print(\"First name:\", firstName(fullName))\n",
    "  print(\"First name:\", firstName2(fullName))\n",
    "\n",
    "def firstName(fullName):\n",
    "  firstSpace = fullName.index(\" \")\n",
    "  givenName = fullName[:firstSpace]\n",
    "  return givenName\n",
    "\n",
    "def firstName2(fullName):\n",
    "  return  fullName.split(\" \")[0]\n",
    "\n",
    "main()\n",
    "\n",
    "# Franklin Delano Roosevelt"
   ],
   "metadata": {
    "colab": {
     "base_uri": "https://localhost:8080/"
    },
    "id": "KS343hfamWcc",
    "outputId": "1a8f6d7e-6d17-417d-d1f0-9cee1e0924cd"
   },
   "execution_count": null,
   "outputs": [
    {
     "output_type": "stream",
     "name": "stdout",
     "text": [
      "Enter a person's full name: Franklin Delano Roosevelt\n",
      "First name: Franklin\n",
      "First name: Franklin\n"
     ]
    }
   ]
  },
  {
   "cell_type": "code",
   "source": [
    "def main():\n",
    "  ## Calculate a person's weekly pay.\n",
    "  hourlyWage = float(input(\"Enter the hourly wage: \"))\n",
    "  hoursWorked = int(input(\"Enter # hours worked: \"))\n",
    "  earnings = pay(hourlyWage, hoursWorked)\n",
    "  print(\"Earnings: ${0:,.2f}\".format(earnings))\n",
    "\n",
    "def pay(wage, hours):\n",
    "  if hours <= 40:\n",
    "    amount = wage * hours\n",
    "  else:\n",
    "    amount = (wage * 40) + ((1.5) * wage * (hours - 40))\n",
    "  return amount\n",
    "\n",
    "main()\n"
   ],
   "metadata": {
    "colab": {
     "base_uri": "https://localhost:8080/"
    },
    "id": "P9BgdfEem2sA",
    "outputId": "c29b7703-8759-491e-886b-680b7d7f8ce9"
   },
   "execution_count": null,
   "outputs": [
    {
     "output_type": "stream",
     "name": "stdout",
     "text": [
      "Enter the hourly wage: 24.50\n",
      "Enter # hours worked: 45\n",
      "Earnings: $1,163.75\n"
     ]
    }
   ]
  },
  {
   "cell_type": "code",
   "source": [
    "def main():\n",
    "  ## Display the vowels appearing in a word.\n",
    "  word = input(\"Enter a word: \")\n",
    "  listOfVowels = occurringVowels(word)\n",
    "  print(\"The following vowels occur in the word:\", end=' ')\n",
    "  stringOfVowels = \" \".join(listOfVowels)\n",
    "  print(stringOfVowels)\n",
    "\n",
    "def occurringVowels(word):\n",
    "  word = word.upper()\n",
    "  vowels = ('A', 'E', 'I', 'O', 'U')\n",
    "  includedVowels = []\n",
    "  for vowel in vowels:\n",
    "    if vowel in word:\n",
    "      includedVowels.append(vowel)\n",
    "  return includedVowels\n",
    "\n",
    "main()\n",
    "# important"
   ],
   "metadata": {
    "colab": {
     "base_uri": "https://localhost:8080/"
    },
    "id": "tzdqS2xrnDWr",
    "outputId": "bd196fd8-67e0-4cc5-db54-c600375ecd0c"
   },
   "execution_count": null,
   "outputs": [
    {
     "output_type": "stream",
     "name": "stdout",
     "text": [
      "Enter a word: important\n",
      "The following vowels occur in the word: A I O\n"
     ]
    }
   ]
  },
  {
   "cell_type": "code",
   "source": [
    "INTEREST_RATE = .04 # annual rate of interest\n",
    "\n",
    "def main():\n",
    "  ## Calculate the balance and interest earned\n",
    "  (deposit, numberOfYears) = getInput()\n",
    "  bal, intEarned = balAndInterest(deposit, numberOfYears)\n",
    "  displayOutput(bal, intEarned)\n",
    "\n",
    "def main2():\n",
    "  ## Calculate the balance and interest earned\n",
    "  displayOutput(*balAndInterest(*getInput()))\n",
    "\n",
    "def getInput():\n",
    "  deposit = int(input(\"Enter the amount of deposit: \"))\n",
    "  numberOfYears = int(input(\"Enter # of years: \"))\n",
    "  return (deposit, numberOfYears)\n",
    "\n",
    "def balAndInterest(principal, numYears):\n",
    "  balance = principal * ((1 + INTEREST_RATE) ** numYears)\n",
    "  interestEarned = balance - principal\n",
    "  return (balance, interestEarned)\n",
    "\n",
    "def displayOutput(bal, intEarned):\n",
    "  print(\"Balance: ${0:,.2f} Interest Earned: ${1:,.2f}\".format(bal, intEarned))\n",
    "\n",
    "main()\n",
    "main2()"
   ],
   "metadata": {
    "colab": {
     "base_uri": "https://localhost:8080/"
    },
    "id": "0kLbpF95nQUX",
    "outputId": "40c037b4-7ac0-4509-e643-42b7a08f7b5d"
   },
   "execution_count": null,
   "outputs": [
    {
     "output_type": "stream",
     "name": "stdout",
     "text": [
      "Enter the amount of deposit: 10000\n",
      "Enter # of years: 10\n",
      "Balance: $14,802.44 Interest Earned: $4,802.44\n",
      "Enter the amount of deposit: 10000\n",
      "Enter # of years: 10\n",
      "Balance: $14,802.44 Interest Earned: $4,802.44\n"
     ]
    }
   ]
  },
  {
   "cell_type": "markdown",
   "source": [
    "To create a custom sort by any criteria we choose we add the optional argument **key=keyValue** to the sort method\n",
    "\n",
    "* **keyValue** is the name of a function\n",
    "* The function takes each item of the list as input and returns the value of the property we want to sort on\n",
    "\n",
    "The argument **reverse=True** can be added to sort in descending\n",
    "order"
   ],
   "metadata": {
    "id": "pJ1RhxxVth3j"
   }
  },
  {
   "cell_type": "code",
   "source": [
    "def main():\n",
    "  ## Custom sort a list of words.\n",
    "  list1 = [\"democratic\", \"sequoia\", \"equals\", \"brrr\", \"break\", \"two\"]\n",
    "  list1.sort(key=len)\n",
    "  print(\"Sorted by length in ascending order:\")\n",
    "  print(list1, '\\n')\n",
    "  list1.sort(key=numberOfVowels, reverse=True)\n",
    "  print(\"Sorted by number of vowels in descending order:\")\n",
    "  print(list1, '\\n')\n",
    "\n",
    "\n",
    "def main2():\n",
    "  ## Custom sort a list of words.\n",
    "  list1 = [\"democratic\", \"sequoia\", \"equals\", \"brrr\", \"break\", \"two\"]\n",
    "  print(\"Sorted by length in ascending order:\")\n",
    "  print(sorted(list1, key=len), '\\n')\n",
    "  print(\"Sorted by number of vowels in descending order:\")\n",
    "  print(sorted(list1, key=numberOfVowels, reverse=True), '\\n')\n",
    "\n",
    "def numberOfVowels(word):\n",
    "  vowels = ('a', 'e', 'i', 'o', 'u')\n",
    "  total = 0\n",
    "  for vowel in vowels:\n",
    "    total += word.count(vowel)\n",
    "  return total\n",
    "\n",
    "main()\n",
    "main2()"
   ],
   "metadata": {
    "colab": {
     "base_uri": "https://localhost:8080/"
    },
    "id": "Ki7fw83cnz_R",
    "outputId": "bd9fd31c-e1d7-40fc-d6dc-a2ddf48009e2"
   },
   "execution_count": null,
   "outputs": [
    {
     "output_type": "stream",
     "name": "stdout",
     "text": [
      "Sorted by length in ascending order:\n",
      "['two', 'brrr', 'break', 'equals', 'sequoia', 'democratic'] \n",
      "\n",
      "Sorted by number of vowels in descending order:\n",
      "['sequoia', 'democratic', 'equals', 'break', 'two', 'brrr'] \n",
      "\n",
      "Sorted by length in ascending order:\n",
      "['two', 'brrr', 'break', 'equals', 'sequoia', 'democratic'] \n",
      "\n",
      "Sorted by number of vowels in descending order:\n",
      "['sequoia', 'democratic', 'equals', 'break', 'two', 'brrr'] \n"
     ]
    }
   ]
  },
  {
   "cell_type": "markdown",
   "source": [
    "While the sort method alters the order of the items in a list, the **sorted** function returns a new ordered copy of a list\n",
    "\n",
    "While the sort method only can be used with lists, the **sorted** function also can be used with **lists**, **strings**, and **tuples**"
   ],
   "metadata": {
    "id": "8NWZdK3ltyou"
   }
  },
  {
   "cell_type": "code",
   "source": [
    "list1 = ['white', 'blue', 'red']\n",
    "list2 = sorted(list1)\n",
    "list2"
   ],
   "metadata": {
    "colab": {
     "base_uri": "https://localhost:8080/"
    },
    "id": "zM3gTnEGt0FU",
    "outputId": "9628b4c8-b9ce-4798-b846-a91b907c93fc"
   },
   "execution_count": null,
   "outputs": [
    {
     "output_type": "execute_result",
     "data": {
      "text/plain": [
       "['blue', 'red', 'white']"
      ]
     },
     "metadata": {},
     "execution_count": 47
    }
   ]
  },
  {
   "cell_type": "code",
   "source": [
    "sorted(list1, reverse=True)"
   ],
   "metadata": {
    "colab": {
     "base_uri": "https://localhost:8080/"
    },
    "id": "urkTKKqnt6hG",
    "outputId": "e83d2622-e6ad-41b8-89f9-cb852360ccbf"
   },
   "execution_count": null,
   "outputs": [
    {
     "output_type": "execute_result",
     "data": {
      "text/plain": [
       "['white', 'red', 'blue']"
      ]
     },
     "metadata": {},
     "execution_count": 49
    }
   ]
  },
  {
   "cell_type": "code",
   "source": [
    "sorted(list1, key=len)"
   ],
   "metadata": {
    "colab": {
     "base_uri": "https://localhost:8080/"
    },
    "id": "ghYN1nf6t9Q1",
    "outputId": "179626e2-4b48-4d1e-e6e2-3a1c6f5d2537"
   },
   "execution_count": null,
   "outputs": [
    {
     "output_type": "execute_result",
     "data": {
      "text/plain": [
       "['red', 'blue', 'white']"
      ]
     },
     "metadata": {},
     "execution_count": 50
    }
   ]
  },
  {
   "cell_type": "code",
   "source": [
    "list1"
   ],
   "metadata": {
    "colab": {
     "base_uri": "https://localhost:8080/"
    },
    "id": "60EStXZJt_7T",
    "outputId": "a4a13517-ab33-42a1-945c-112d854aaec1"
   },
   "execution_count": null,
   "outputs": [
    {
     "output_type": "execute_result",
     "data": {
      "text/plain": [
       "['white', 'blue', 'red']"
      ]
     },
     "metadata": {},
     "execution_count": 52
    }
   ]
  },
  {
   "cell_type": "code",
   "source": [
    "sorted('spam')"
   ],
   "metadata": {
    "colab": {
     "base_uri": "https://localhost:8080/"
    },
    "id": "ZQopwCr_t-2U",
    "outputId": "b99f885b-a2fb-4840-b824-7924d11df0d6"
   },
   "execution_count": null,
   "outputs": [
    {
     "output_type": "execute_result",
     "data": {
      "text/plain": [
       "['a', 'm', 'p', 's']"
      ]
     },
     "metadata": {},
     "execution_count": 51
    }
   ]
  },
  {
   "cell_type": "markdown",
   "source": [
    "# Library Modules"
   ],
   "metadata": {
    "id": "JH-qya55v22f"
   }
  },
  {
   "cell_type": "markdown",
   "source": [
    "A library module is a file with the extension **.py** containing functions\n",
    "and variables that can be used (we say imported) by any program\n",
    "\n",
    "* The library module can be created in IDLE or any text editor and\n",
    "looks like an ordinary Python program\n",
    "\n",
    "To gain access to the functions and variables of a library module, place a statement of the form **import moduleName** at the beginning of the program\n",
    "\n",
    "* Any function from the module can be used in the program by prepending the function name with the module name followed by a period"
   ],
   "metadata": {
    "id": "M3KH7wehv5a_"
   }
  },
  {
   "cell_type": "markdown",
   "source": [
    "Assuming that the function **pay** in the example program is contained in a file named **finance.py** that is located in the same folder as the example, the example could be rewritten as"
   ],
   "metadata": {
    "id": "TpRMCFUexP8w"
   }
  },
  {
   "cell_type": "code",
   "source": [
    "import finance\n",
    "\n",
    "def main():\n",
    "  ## Calculate a person's weekly pay.\n",
    "  hourlyWage = float(input(\"Enter the hourly wage: \"))\n",
    "  hoursWorked = int(input(\"Enter # hours worked: \"))\n",
    "  earnings = finance.pay(hourlyWage, hoursWorked)\n",
    "  print(\"Earnings: ${0:,.2f}\".format(earnings))\n",
    "\n",
    "main()\n",
    "# 24.50\n",
    "# 45\n"
   ],
   "metadata": {
    "colab": {
     "base_uri": "https://localhost:8080/"
    },
    "id": "coyfkVJDv3Y1",
    "outputId": "1f22bb9a-cc5e-47e7-96e2-1ce85e1a71cd"
   },
   "execution_count": null,
   "outputs": [
    {
     "output_type": "stream",
     "name": "stdout",
     "text": [
      "Enter the hourly wage: 24.50\n",
      "Enter # hours worked: 45\n",
      "Earnings: $1,163.75\n"
     ]
    }
   ]
  },
  {
   "cell_type": "markdown",
   "source": [
    "There are different ways to import modules, as e.g., to import some functions from the random module:\n",
    "\n",
    "* from random import randint, choice\n",
    "* from random import *\n",
    "* import random"
   ],
   "metadata": {
    "id": "ICYNoXgGxiNJ"
   }
  },
  {
   "cell_type": "code",
   "source": [
    "# imports just two functions from the module\n",
    "from random import randint, choice\n",
    "\n",
    "# imports every function from the module\n",
    "from random import *\n",
    "\n",
    "# imports an entire module without interference\n",
    "import random"
   ],
   "metadata": {
    "id": "Kve-rlqTxiAj"
   },
   "execution_count": null,
   "outputs": []
  },
  {
   "cell_type": "markdown",
   "source": [
    "The as keyword can be used to change the name that your program uses to refer to a module or things from a module:"
   ],
   "metadata": {
    "id": "6rnKnsj9x8HY"
   }
  },
  {
   "cell_type": "code",
   "source": [
    "import numpy as np\n",
    "from itertools import combinations_with_replacement as cwr\n",
    "from math import log as ln"
   ],
   "metadata": {
    "id": "tPkOUiZQyCPB"
   },
   "execution_count": null,
   "outputs": []
  },
  {
   "cell_type": "markdown",
   "source": [
    "Usually, these statements go at the beginning of the program, but\n",
    "they can go anywhere as long as they come before the code that\n",
    "uses the module"
   ],
   "metadata": {
    "id": "Fl986oiVy36i"
   }
  },
  {
   "cell_type": "code",
   "source": [
    "import numpy as np\n",
    "\n",
    "def numberOfVowels(word):\n",
    "  vowels = ('a', 'e', 'i', 'o', 'u')\n",
    "  total = 0\n",
    "  for vowel in vowels:\n",
    "    total += word.count(vowel)\n",
    "  return total\n",
    "\n",
    "print('numberOfVowels', numberOfVowels('hello'))\n",
    "\n",
    "from math import log as ln\n",
    "\n",
    "ln(3)"
   ],
   "metadata": {
    "colab": {
     "base_uri": "https://localhost:8080/"
    },
    "id": "_7DamAXty4l-",
    "outputId": "e4083f8f-5357-47ad-aaf1-83f9edf43a3f"
   },
   "execution_count": null,
   "outputs": [
    {
     "output_type": "stream",
     "name": "stdout",
     "text": [
      "numberOfVowels 2\n"
     ]
    },
    {
     "output_type": "execute_result",
     "data": {
      "text/plain": [
       "1.0986122886681098"
      ]
     },
     "metadata": {},
     "execution_count": 60
    }
   ]
  },
  {
   "cell_type": "markdown",
   "source": [
    "Some modules from the Python standard library:"
   ],
   "metadata": {
    "id": "MSbbBaODzLl-"
   }
  },
  {
   "cell_type": "markdown",
   "source": [
    "| Module  | Some Tasks                                                                                   |\n",
    "|---------|----------------------------------------------------------------------------------------------|\n",
    "| os      | Delete and rename files                                                                      |\n",
    "| os.path | Determine whether a file exists in a specified folder. This module is a submodule of os      |\n",
    "| pickle  | Store objects (such as dictionaries, lists, and sets) in files  and retrieve them from files |\n",
    "| random  | Randomly select numbers and subsets                                                          |\n",
    "| tkinter | Enable programs to have a graphical user interface                                           |\n",
    "| turtle  | Enable turtle graphics                                                                       |"
   ],
   "metadata": {
    "id": "WMz38lH2zQMW"
   }
  },
  {
   "cell_type": "code",
   "source": [
    "import os\n",
    "\n",
    "# Get the current working directory\n",
    "cwd = os.getcwd()\n",
    "print(f\"Current working directory: {cwd}\")\n",
    "\n",
    "# List files and directories in the current directory\n",
    "print(\"List of files and directories:\", os.listdir(cwd))\n",
    "\n",
    "# Create a new directory\n",
    "os.mkdir(\"new_directory\")\n",
    "print(\"Directory 'new_directory' created\")\n",
    "\n",
    "# Remove the directory\n",
    "os.rmdir(\"new_directory\")\n",
    "print(\"Directory 'new_directory' removed\")"
   ],
   "metadata": {
    "colab": {
     "base_uri": "https://localhost:8080/"
    },
    "id": "7jYAF81VzOM4",
    "outputId": "578570ae-41cd-41e4-edd2-2d6106d54e79"
   },
   "execution_count": null,
   "outputs": [
    {
     "output_type": "stream",
     "name": "stdout",
     "text": [
      "Current working directory: /content\n",
      "List of files and directories: ['.config', 'finance.py', '__pycache__', 'sample_data']\n",
      "Directory 'new_directory' created\n",
      "Directory 'new_directory' removed\n"
     ]
    }
   ]
  },
  {
   "cell_type": "code",
   "source": [
    "import os.path\n",
    "\n",
    "filename = \"finance.py\"\n",
    "\n",
    "# Check if a file or directory exists\n",
    "if os.path.exists(filename):\n",
    "    print(f\"{filename} exists\")\n",
    "else:\n",
    "    print(f\"{filename} does not exist\")\n",
    "\n",
    "# Get the file extension\n",
    "print(f\"Extension of {filename}: {os.path.splitext(filename)[1]}\")"
   ],
   "metadata": {
    "colab": {
     "base_uri": "https://localhost:8080/"
    },
    "id": "ToffuEGu0Vwe",
    "outputId": "76438bdf-5f66-4156-a3c7-e9c1374b6be3"
   },
   "execution_count": null,
   "outputs": [
    {
     "output_type": "stream",
     "name": "stdout",
     "text": [
      "finance.py exists\n",
      "Extension of finance.py: .py\n"
     ]
    }
   ]
  },
  {
   "cell_type": "code",
   "source": [
    "import pickle\n",
    "\n",
    "data = {\"name\": \"홍길동\", \"age\": 22, \"city\": \"부산\"}\n",
    "\n",
    "# Serialize data\n",
    "with open(\"data.pkl\", \"wb\") as file:\n",
    "    pickle.dump(data, file)\n",
    "\n",
    "# Deserialize data\n",
    "with open(\"data.pkl\", \"rb\") as file:\n",
    "    loaded_data = pickle.load(file)\n",
    "\n",
    "print(\"Loaded data:\", loaded_data)"
   ],
   "metadata": {
    "colab": {
     "base_uri": "https://localhost:8080/"
    },
    "id": "yl4zbNz90dgS",
    "outputId": "f92cfe87-5f76-49b6-8838-c3b062c11fae"
   },
   "execution_count": null,
   "outputs": [
    {
     "output_type": "stream",
     "name": "stdout",
     "text": [
      "Loaded data: {'name': '홍길동', 'age': 22, 'city': '부산'}\n"
     ]
    }
   ]
  },
  {
   "cell_type": "code",
   "source": [
    "import random\n",
    "\n",
    "for _ in range(10):\n",
    "  # Generate a random integer between 1 and 10 (inclusive)\n",
    "  print(\"Random integer:\", random.randint(1, 10))\n",
    "\n",
    "choices = [\"apple\", \"banana\", \"cherry\", \"durian\", \"elderberry\"]\n",
    "\n",
    "for _ in range(10):\n",
    "  # Randomly select an item from a list\n",
    "  print(\"Random choice:\", random.choice(choices))"
   ],
   "metadata": {
    "colab": {
     "base_uri": "https://localhost:8080/"
    },
    "id": "Zf1asw_L0mOh",
    "outputId": "ef2f99cb-a6c8-4de1-91c7-dd160a3de0bb"
   },
   "execution_count": null,
   "outputs": [
    {
     "output_type": "stream",
     "name": "stdout",
     "text": [
      "Random integer: 9\n",
      "Random integer: 4\n",
      "Random integer: 1\n",
      "Random integer: 7\n",
      "Random integer: 9\n",
      "Random integer: 3\n",
      "Random integer: 10\n",
      "Random integer: 7\n",
      "Random integer: 9\n",
      "Random integer: 7\n",
      "Random choice: durian\n",
      "Random choice: banana\n",
      "Random choice: elderberry\n",
      "Random choice: cherry\n",
      "Random choice: cherry\n",
      "Random choice: banana\n",
      "Random choice: cherry\n",
      "Random choice: apple\n",
      "Random choice: apple\n",
      "Random choice: durian\n"
     ]
    }
   ]
  },
  {
   "cell_type": "markdown",
   "source": [
    "# List Comprehension\n"
   ],
   "metadata": {
    "id": "ENzSaSCE1IeW"
   }
  },
  {
   "cell_type": "markdown",
   "source": [
    "If list1 is a list, then the following statement creates a new list, list2, and places f(item) into the list for each item in list1\n",
    "\n",
    "> list2 = [f(x) for x in list1]\n",
    "\n",
    "where f is either a Python built-in function or a user-defined function"
   ],
   "metadata": {
    "id": "FoUGZMke1L1f"
   }
  },
  {
   "cell_type": "code",
   "source": [
    "list1 = ['2', '5', '6', '7']\n",
    "[int(x) for x in list1]"
   ],
   "metadata": {
    "colab": {
     "base_uri": "https://localhost:8080/"
    },
    "id": "1a6vG_0D1LOu",
    "outputId": "cb0ca509-8c53-471a-a599-83f7f890d6b4"
   },
   "execution_count": null,
   "outputs": [
    {
     "output_type": "execute_result",
     "data": {
      "text/plain": [
       "[2, 5, 6, 7]"
      ]
     },
     "metadata": {},
     "execution_count": 68
    }
   ]
  },
  {
   "cell_type": "code",
   "source": [
    "def g(x):\n",
    "  return(int(x) ** 2)\n",
    "\n",
    "[g(x) for x in list1]"
   ],
   "metadata": {
    "colab": {
     "base_uri": "https://localhost:8080/"
    },
    "id": "B7P8lJxC1aPV",
    "outputId": "57b14c36-a184-43c2-a879-b27d735c2061"
   },
   "execution_count": null,
   "outputs": [
    {
     "output_type": "execute_result",
     "data": {
      "text/plain": [
       "[4, 25, 36, 49]"
      ]
     },
     "metadata": {},
     "execution_count": 70
    }
   ]
  },
  {
   "cell_type": "markdown",
   "source": [
    "The for clause in a list comprehension can optionally be followed by\n",
    "an if clause\n"
   ],
   "metadata": {
    "id": "MXAVn4d32cVX"
   }
  },
  {
   "cell_type": "code",
   "source": [
    "[g(x) for x in list1 if int(x) % 2 == 1]"
   ],
   "metadata": {
    "colab": {
     "base_uri": "https://localhost:8080/"
    },
    "id": "3vrXDZKo2e3S",
    "outputId": "d954b16d-bd33-4e86-ed9d-d857e53e1adb"
   },
   "execution_count": null,
   "outputs": [
    {
     "output_type": "execute_result",
     "data": {
      "text/plain": [
       "[25, 49]"
      ]
     },
     "metadata": {},
     "execution_count": 71
    }
   ]
  },
  {
   "cell_type": "markdown",
   "source": [
    "List comprehension can be applied to objects other than lists, such\n",
    "as, strings, tuples, and arithmetic progressions generated by range\n",
    "functions\n"
   ],
   "metadata": {
    "id": "FDKHt2Wr2htd"
   }
  },
  {
   "cell_type": "code",
   "source": [
    "print([ord(x) for x in \"abc\"])\n",
    "print([x ** .5 for x in (4, -1, 9) if x >= 0])\n",
    "print([x ** 2 for x in range(3)])"
   ],
   "metadata": {
    "colab": {
     "base_uri": "https://localhost:8080/"
    },
    "id": "8LrTs5K82iep",
    "outputId": "5772063c-d61d-4896-9ab6-7ec85ababde3"
   },
   "execution_count": null,
   "outputs": [
    {
     "output_type": "stream",
     "name": "stdout",
     "text": [
      "[97, 98, 99]\n",
      "[2.0, 3.0]\n",
      "[0, 1, 4]\n"
     ]
    }
   ]
  },
  {
   "cell_type": "markdown",
   "source": [
    "* If str is any single-character string, then **ord(str)** is the ASCII\n",
    "value of the character\n",
    "\n",
    "* If n is a nonnegative number, then **chr(n)** is the single-character\n",
    "string consisting of the character with ASCII value n"
   ],
   "metadata": {
    "id": "8sQ3Hsiu2zkC"
   }
  },
  {
   "cell_type": "code",
   "source": [
    "[ord(s) for s in 'HELLO']"
   ],
   "metadata": {
    "colab": {
     "base_uri": "https://localhost:8080/"
    },
    "id": "zkkdMGyI2zGw",
    "outputId": "ad1d63ca-b6b7-4a75-a435-7a6da2f967b3"
   },
   "execution_count": null,
   "outputs": [
    {
     "output_type": "execute_result",
     "data": {
      "text/plain": [
       "[72, 69, 76, 76, 79]"
      ]
     },
     "metadata": {},
     "execution_count": 74
    }
   ]
  },
  {
   "cell_type": "code",
   "source": [
    "[chr(i) for i in [ord(s) for s in 'HELLO']]"
   ],
   "metadata": {
    "colab": {
     "base_uri": "https://localhost:8080/"
    },
    "id": "TYTJ1DvS3Lfc",
    "outputId": "a3a84e34-e9ec-40e2-f2be-dd8f96d16742"
   },
   "execution_count": null,
   "outputs": [
    {
     "output_type": "execute_result",
     "data": {
      "text/plain": [
       "['H', 'E', 'L', 'L', 'O']"
      ]
     },
     "metadata": {},
     "execution_count": 75
    }
   ]
  },
  {
   "cell_type": "markdown",
   "source": [
    "# Default Argument Values"
   ],
   "metadata": {
    "id": "r7RfXCHD3R1c"
   }
  },
  {
   "cell_type": "markdown",
   "source": [
    "* Some (or all) of the parameters of a function can be made optional\n",
    "and have default values—values that are assigned to them when no\n",
    "values are passed to them\n",
    "\n",
    "* A typical format for a function definition using default values is\n",
    "\n",
    "> def functionName(par1, par2, par3=value3, par4=value4):\n",
    "\n",
    "* **Caution**: In a function definition, the parameters without default\n",
    "values must precede the parameters with default values"
   ],
   "metadata": {
    "id": "yk57YcrB3UKw"
   }
  },
  {
   "cell_type": "code",
   "source": [
    "def main():\n",
    "  say('Hello')\n",
    "  say('World', 5)\n",
    "\n",
    "def say(message, times=1):\n",
    "  print(message * times)\n",
    "\n",
    "main()"
   ],
   "metadata": {
    "colab": {
     "base_uri": "https://localhost:8080/"
    },
    "id": "3lpSChg23SpJ",
    "outputId": "e86adc66-10fe-43c3-ad50-5d63de554475"
   },
   "execution_count": null,
   "outputs": [
    {
     "output_type": "stream",
     "name": "stdout",
     "text": [
      "Hello\n",
      "WorldWorldWorldWorldWorld\n"
     ]
    }
   ]
  },
  {
   "cell_type": "markdown",
   "source": [
    "# Keyword Arguments"
   ],
   "metadata": {
    "id": "JK7ZqVD63k8Y"
   }
  },
  {
   "cell_type": "markdown",
   "source": [
    "* Arguments can be passed to functions by using the names of the\n",
    "corresponding parameters instead of relying on position\n",
    "\n",
    "* **Caution**: Arguments passed by position must precede arguments\n",
    "passed by keyword\n"
   ],
   "metadata": {
    "id": "rYu9Rs7q3pqu"
   }
  },
  {
   "cell_type": "code",
   "source": [
    "def main():\n",
    "  func(3, 7)\n",
    "  func(25, c=24)\n",
    "  func(c=50, a=100)\n",
    "\n",
    "def func(a, b=5, c=10):\n",
    "  print('a is', a, 'and b is', b, 'and c is', c)\n",
    "\n",
    "main()"
   ],
   "metadata": {
    "colab": {
     "base_uri": "https://localhost:8080/"
    },
    "id": "bDSsTtZI3nL3",
    "outputId": "5e8bbeab-07f7-452e-9d26-7effb7efcdfc"
   },
   "execution_count": null,
   "outputs": [
    {
     "output_type": "stream",
     "name": "stdout",
     "text": [
      "a is 3 and b is 7 and c is 10\n",
      "a is 25 and b is 5 and c is 24\n",
      "a is 100 and b is 5 and c is 50\n"
     ]
    }
   ]
  },
  {
   "cell_type": "markdown",
   "source": [
    "# Lambda Expression"
   ],
   "metadata": {
    "id": "Petr23sZ3_fs"
   }
  },
  {
   "cell_type": "markdown",
   "source": [
    "Lambda expressions are one-line mini-functions\n",
    "\n",
    "* Compute a single expression\n",
    "* Cannot be used as a replacement for complex functions\n",
    "> lambda par1, par2,...: expression"
   ],
   "metadata": {
    "id": "F8wO-g8-4Bw7"
   }
  },
  {
   "cell_type": "code",
   "source": [
    "names = [\"Dennis Ritchie\", \"Alan Kay\", \"John Backus\", \"James Gosling\"]\n",
    "names.sort(key=lambda name: name.split()[-1])\n",
    "nameString = \", \".join(names)\n",
    "print(nameString)"
   ],
   "metadata": {
    "colab": {
     "base_uri": "https://localhost:8080/"
    },
    "id": "Y_u1drSn4Bcl",
    "outputId": "fa56e0ad-9efc-4097-ba5f-340ee08ac956"
   },
   "execution_count": null,
   "outputs": [
    {
     "output_type": "stream",
     "name": "stdout",
     "text": [
      "John Backus, James Gosling, Alan Kay, Dennis Ritchie\n"
     ]
    }
   ]
  },
  {
   "cell_type": "markdown",
   "source": [
    "# Top-Down Design"
   ],
   "metadata": {
    "id": "1K1ruIhg4VLk"
   }
  },
  {
   "cell_type": "markdown",
   "source": [
    "Functions allow programmers to focus on the main flow of a complex\n",
    "task and defer the details of implementation\n",
    "\n",
    "* As a rule, a function should perform only one task, or several\n",
    "closely related tasks, and should be kept relatively small\n",
    "* Functions are used to break complex problems into small\n",
    "problems, to eliminate repetitive code, and to make a program\n",
    "easier to read by separating it into logical units"
   ],
   "metadata": {
    "id": "SVyyB3dw6bSA"
   }
  },
  {
   "cell_type": "markdown",
   "source": [
    "The first function of a program is named main and sometimes will be preceded by import statements and global variables\n",
    "\n",
    "* All programs will end with the statement main() to call the program’s main function\n",
    "* The function main should be a supervisory function calling other functions according to the application’s logic"
   ],
   "metadata": {
    "id": "Nk8ABZhY6m0J"
   }
  },
  {
   "cell_type": "code",
   "source": [
    "def main():\n",
    "  data = load_data()\n",
    "  processed_data = process_data(data)\n",
    "  display_results(processed_data)\n",
    "\n",
    "def load_data():\n",
    "  # Implementation of data loading\n",
    "  data ='data'\n",
    "  return data\n",
    "\n",
    "def process_data(data):\n",
    "  # Implementation of data processing\n",
    "  processed_data = 'processed_' + data\n",
    "  return processed_data\n",
    "\n",
    "def display_results(processed_data):\n",
    "  # Implementation to display the results\n",
    "  print('Display:', processed_data)\n",
    "\n",
    "main()"
   ],
   "metadata": {
    "colab": {
     "base_uri": "https://localhost:8080/"
    },
    "id": "59MLOtMG4W5Q",
    "outputId": "2c61ab57-351d-4462-f3b4-a4db29849afc"
   },
   "execution_count": null,
   "outputs": [
    {
     "output_type": "stream",
     "name": "stdout",
     "text": [
      "Display: processed_data\n"
     ]
    }
   ]
  },
  {
   "cell_type": "markdown",
   "source": [
    "# Lab"
   ],
   "metadata": {
    "id": "ZYJeA4fpcGNk"
   }
  },
  {
   "cell_type": "markdown",
   "source": [
    "## 0. Prerequisite"
   ],
   "metadata": {
    "id": "0AZqhmeccW7p"
   }
  },
  {
   "cell_type": "code",
   "source": [
    "!pip install mypy\n",
    "from IPython.core.magic import register_cell_magic\n",
    "from IPython import get_ipython\n",
    "from mypy import api\n",
    "\n",
    "@register_cell_magic\n",
    "def mypy(line, cell):\n",
    "  for output in api.run(['-c', '\\n' + cell] + line.split()):\n",
    "    if output and not output.startswith('Success'):\n",
    "      raise TypeError(output)\n",
    "  get_ipython().run_cell(cell)"
   ],
   "metadata": {
    "colab": {
     "base_uri": "https://localhost:8080/"
    },
    "id": "gyxzozzA4prN",
    "outputId": "a7492a66-3295-4314-ef72-8dd9d870ebcb",
    "ExecuteTime": {
     "end_time": "2023-10-21T05:26:11.960163Z",
     "start_time": "2023-10-21T05:26:11.033887Z"
    }
   },
   "execution_count": 4,
   "outputs": [
    {
     "name": "stdout",
     "output_type": "stream",
     "text": [
      "Requirement already satisfied: mypy in /Users/kimbyeonghyeon/Workspace/AIProgramming/venv/lib/python3.9/site-packages (1.6.1)\r\n",
      "Requirement already satisfied: typing-extensions>=4.1.0 in /Users/kimbyeonghyeon/Workspace/AIProgramming/venv/lib/python3.9/site-packages (from mypy) (4.8.0)\r\n",
      "Requirement already satisfied: mypy-extensions>=1.0.0 in /Users/kimbyeonghyeon/Workspace/AIProgramming/venv/lib/python3.9/site-packages (from mypy) (1.0.0)\r\n",
      "Requirement already satisfied: tomli>=1.1.0 in /Users/kimbyeonghyeon/Workspace/AIProgramming/venv/lib/python3.9/site-packages (from mypy) (2.0.1)\r\n",
      "\r\n",
      "\u001B[1m[\u001B[0m\u001B[34;49mnotice\u001B[0m\u001B[1;39;49m]\u001B[0m\u001B[39;49m A new release of pip is available: \u001B[0m\u001B[31;49m23.2.1\u001B[0m\u001B[39;49m -> \u001B[0m\u001B[32;49m23.3\u001B[0m\r\n",
      "\u001B[1m[\u001B[0m\u001B[34;49mnotice\u001B[0m\u001B[1;39;49m]\u001B[0m\u001B[39;49m To update, run: \u001B[0m\u001B[32;49mpip install --upgrade pip\u001B[0m\r\n"
     ]
    }
   ]
  },
  {
   "cell_type": "markdown",
   "source": [
    "## 1. Write a function is_even_or_odd(n: int) -> str that takes an integer as input and determines whether it's even or odd.\n",
    "\n",
    "\n"
   ],
   "metadata": {
    "id": "AL3MoBZO5NpL"
   }
  },
  {
   "cell_type": "code",
   "source": [
    "##%%mypy\n",
    "\n",
    "def is_even_or_odd(n: int) -> str:\n",
    "  #implement your code\n",
    "  if n % 2 == 0 : return \"Even\"\n",
    "  else : return \"Odd\"\n",
    "  pass\n",
    "\n",
    "input_data_even_odd = [5, 2, -3, -4, 0]\n",
    "output_data_even_odd = [\"Odd\", \"Even\", \"Odd\", \"Even\", \"Even\"]\n",
    "for i, o in zip(input_data_even_odd, output_data_even_odd):\n",
    "    print( is_even_or_odd(i) == o )"
   ],
   "metadata": {
    "id": "SBUQ1WRTc1Nz",
    "ExecuteTime": {
     "end_time": "2023-10-21T05:28:22.367474Z",
     "start_time": "2023-10-21T05:28:22.322135Z"
    }
   },
   "execution_count": 9,
   "outputs": [
    {
     "name": "stdout",
     "output_type": "stream",
     "text": [
      "True\n",
      "True\n",
      "True\n",
      "True\n",
      "True\n"
     ]
    }
   ]
  },
  {
   "cell_type": "markdown",
   "source": [
    "## 2. Write a function largest_of_three(a: int, b: int, c: int) -> int that takes three numbers as input and determines the largest of the three."
   ],
   "metadata": {
    "id": "mGbPfQJEc5pl"
   }
  },
  {
   "cell_type": "code",
   "source": [
    "##%%mypy\n",
    "\n",
    "def largest_of_three(a: int, b: int, c: int) -> int:\n",
    "  #implement your code\n",
    "  return max(a, b, c)\n",
    "  pass\n",
    "\n",
    "input_data_largest_of_three = [(2, 4, 1), (1, 1, 1), (2, 2, 5), (-1, 0, -2)]\n",
    "output_data_largest_of_three = [4, 1, 5, 0]\n",
    "\n",
    "for i, o in zip(input_data_largest_of_three, output_data_largest_of_three):\n",
    "    assert largest_of_three(*i) == o"
   ],
   "metadata": {
    "id": "mGAC-9rSc7Qd",
    "ExecuteTime": {
     "end_time": "2023-10-21T05:31:35.730291Z",
     "start_time": "2023-10-21T05:31:35.726693Z"
    }
   },
   "execution_count": 12,
   "outputs": []
  },
  {
   "cell_type": "markdown",
   "source": [
    "## 3. Write a function is_multiple_of_3_and_5(n: int) -> bool that reads an integer as input and determines if it is a multiple of both 3 and 5.\n",
    "\n"
   ],
   "metadata": {
    "id": "INqFk2K5c7ks"
   }
  },
  {
   "cell_type": "code",
   "source": [
    "##%%mypy\n",
    "\n",
    "def is_multiple_of_3_and_5(n: int) -> bool:\n",
    "  #implement your code in one line\n",
    "  return n%3 == 0 and n%5 == 0\n",
    "  pass\n",
    "\n",
    "input_data_multiple_3_5 = [15, 3, 5, 30, 0, -15]\n",
    "output_data_multiple_3_5 = [True, False, False, True, True, True]\n",
    "\n",
    "for input_value, output_value in zip(input_data_multiple_3_5, output_data_multiple_3_5):\n",
    "    assert is_multiple_of_3_and_5(input_value) == output_value\n"
   ],
   "metadata": {
    "id": "B2c46qWfc8z0",
    "ExecuteTime": {
     "end_time": "2023-10-21T05:32:33.153565Z",
     "start_time": "2023-10-21T05:32:33.134532Z"
    }
   },
   "execution_count": 13,
   "outputs": []
  },
  {
   "cell_type": "markdown",
   "source": [
    "## 4. Write a function is_pythagorean_triple(a: int, b: int, c: int) -> bool that takes three numbers as input and determines whether they form a Pythagorean triple."
   ],
   "metadata": {
    "id": "jAEoPcBXc9kM"
   }
  },
  {
   "cell_type": "code",
   "source": [
    "##%%mypy\n",
    "\n",
    "def is_pythagorean_triple(a: int, b: int, c: int) -> bool:\n",
    "  #implement your code in one line\n",
    "  # print(a**2 + b**2, c**2)\n",
    "  if a * b * c == 0: return False\n",
    "  return c**2 == a**2 + b**2\n",
    "  # pass\n",
    "\n",
    "input_data_pythagorean_triple = [(3, 4, 5), (5, 12, 13), (6, 8, 10), (7, 24, 25), (2, 3, 4), (0, 4, 4)]\n",
    "output_data_pythagorean_triple = [True, True, True, True, False, False]\n",
    "\n",
    "for input_values, output_value in zip(input_data_pythagorean_triple, output_data_pythagorean_triple):\n",
    "    assert( is_pythagorean_triple(*input_values) == output_value)"
   ],
   "metadata": {
    "id": "nJN7nZ1Nc-ad",
    "ExecuteTime": {
     "end_time": "2023-10-21T06:13:16.107608Z",
     "start_time": "2023-10-21T06:13:16.091603Z"
    }
   },
   "execution_count": 69,
   "outputs": []
  },
  {
   "cell_type": "markdown",
   "source": [
    "## 5. Write a function calculate_bmi(weight: float, height: float) -> str that takes a user's weight (in kg) and height (in meters) as input and calculates their body mass index (BMI). The function should return the BMI category based on the calculated value.\n",
    "\n",
    "\toutput: BMI < 18.5 : underweight, 18.5 <= BMI < 24.9 normal weight, 25.0 <= BMI overweight\n",
    "\n",
    "\n",
    "\n",
    "\n"
   ],
   "metadata": {
    "id": "EkRNBCyLctUY"
   }
  },
  {
   "cell_type": "code",
   "source": [
    "##%%mypy\n",
    "\n",
    "def calculate_bmi(weight: float, height: float) -> str:\n",
    "  #implement your code in one line\n",
    "  pass\n",
    "\n",
    "input_data_bmi_calculator = [(60, 1.7), (45, 1.6), (85, 1.8), (100, 2), (0, 1.5), (60, 0)]\n",
    "output_data_bmi_calculator = [\"Normal weight\", \"Underweight\", \"Overweight\", \"Overweight\", \"Underweight\", \"Invalid input\"]\n",
    "\n",
    "for input_values, output_value in zip(input_data_bmi_calculator, output_data_bmi_calculator):\n",
    "    assert calculate_bmi(*input_values) == output_value"
   ],
   "metadata": {
    "id": "BxdeHEF_cB3C",
    "ExecuteTime": {
     "end_time": "2023-10-21T06:13:20.048262Z",
     "start_time": "2023-10-21T06:13:20.032306Z"
    }
   },
   "execution_count": 70,
   "outputs": [
    {
     "ename": "AssertionError",
     "evalue": "",
     "output_type": "error",
     "traceback": [
      "\u001B[0;31m---------------------------------------------------------------------------\u001B[0m",
      "\u001B[0;31mAssertionError\u001B[0m                            Traceback (most recent call last)",
      "Cell \u001B[0;32mIn[70], line 11\u001B[0m\n\u001B[1;32m      8\u001B[0m output_data_bmi_calculator \u001B[38;5;241m=\u001B[39m [\u001B[38;5;124m\"\u001B[39m\u001B[38;5;124mNormal weight\u001B[39m\u001B[38;5;124m\"\u001B[39m, \u001B[38;5;124m\"\u001B[39m\u001B[38;5;124mUnderweight\u001B[39m\u001B[38;5;124m\"\u001B[39m, \u001B[38;5;124m\"\u001B[39m\u001B[38;5;124mOverweight\u001B[39m\u001B[38;5;124m\"\u001B[39m, \u001B[38;5;124m\"\u001B[39m\u001B[38;5;124mOverweight\u001B[39m\u001B[38;5;124m\"\u001B[39m, \u001B[38;5;124m\"\u001B[39m\u001B[38;5;124mUnderweight\u001B[39m\u001B[38;5;124m\"\u001B[39m, \u001B[38;5;124m\"\u001B[39m\u001B[38;5;124mInvalid input\u001B[39m\u001B[38;5;124m\"\u001B[39m]\n\u001B[1;32m     10\u001B[0m \u001B[38;5;28;01mfor\u001B[39;00m input_values, output_value \u001B[38;5;129;01min\u001B[39;00m \u001B[38;5;28mzip\u001B[39m(input_data_bmi_calculator, output_data_bmi_calculator):\n\u001B[0;32m---> 11\u001B[0m     \u001B[38;5;28;01massert\u001B[39;00m calculate_bmi(\u001B[38;5;241m*\u001B[39minput_values) \u001B[38;5;241m==\u001B[39m output_value\n",
      "\u001B[0;31mAssertionError\u001B[0m: "
     ]
    }
   ]
  },
  {
   "cell_type": "markdown",
   "source": [
    "## 6. Write a function are_anagrams(s1: str, s2: str) -> bool that takes two strings as input and determines whether they are anagrams."
   ],
   "metadata": {
    "id": "tdJa-fe6Lu_N"
   }
  },
  {
   "cell_type": "code",
   "source": [
    "##%%mypy\n",
    "\n",
    "def are_anagrams(s1: str, s2: str) -> bool:\n",
    "  #implement your code in one line\n",
    "  return sorted(list(s1)) == sorted(list(s2))\n",
    "  pass\n",
    "\n",
    "input_data_anagram_checker = [(\"bored\", \"robed\"), (\"listen\", \"silent\"), (\"anagram\", \"nagaram\"), (\"hello\", \"world\"), (\"apple\", \"leppa\"), (\"night\", \"thing\"), (\"abc\", \"def\")]\n",
    "output_data_anagram_checker = [True, True, True, False, True, True, False]\n",
    "\n",
    "for input_values, output_value in zip(input_data_anagram_checker, output_data_anagram_checker):\n",
    "    assert are_anagrams(*input_values) == output_value"
   ],
   "metadata": {
    "id": "4CuQ-rftL-3y",
    "ExecuteTime": {
     "end_time": "2023-10-21T06:13:23.247669Z",
     "start_time": "2023-10-21T06:13:23.232344Z"
    }
   },
   "execution_count": 71,
   "outputs": []
  },
  {
   "cell_type": "markdown",
   "source": [
    "## 7. Write a function sum_of_multiples(limit: int, divisor: int) -> int that finds the sum of all numbers between 1 and limit that are divisible by divisor using a while loop.\n"
   ],
   "metadata": {
    "id": "dI9p5_rNec8G"
   }
  },
  {
   "cell_type": "code",
   "source": [
    "##%%mypy\n",
    "\n",
    "def sum_of_multiples(limit: int, divisor: int) -> int:\n",
    "  #implement your code in one line\n",
    "  result = [x for x in range(1,limit+1) if x % divisor == 0]\n",
    "  return sum(result)\n",
    "  pass\n",
    "\n",
    "input_data_sum_of_multiples = [(100, 7), (50, 5), (20, 3)]\n",
    "output_data_sum_of_multiples = [735, 275, 63]\n",
    "\n",
    "for input_values, output_value in zip(input_data_sum_of_multiples, output_data_sum_of_multiples):\n",
    "    assert sum_of_multiples(*input_values) == output_value\n"
   ],
   "metadata": {
    "id": "nvheaxJOedT9",
    "ExecuteTime": {
     "end_time": "2023-10-21T06:15:24.782131Z",
     "start_time": "2023-10-21T06:15:24.762755Z"
    }
   },
   "execution_count": 73,
   "outputs": []
  },
  {
   "cell_type": "markdown",
   "source": [
    "##8. Write a function multiplication_table(n: int) -> str that takes an integer as input and returns the multiplication table for the given number using a for loop."
   ],
   "metadata": {
    "id": "wDOVnwLTee8p"
   }
  },
  {
   "cell_type": "code",
   "source": [
    "##%%mypy\n",
    "\n",
    "def multiplication_table(n: int) -> str:\n",
    "  #implement your code in one line\n",
    "  pass\n",
    "\n",
    "input_data_multiplication_table = [5, 7, 3, 10, 0, -2]\n",
    "output_data_multiplication_table = [\n",
    "    \"5 x 1 = 5\\n5 x 2 = 10\\n5 x 3 = 15\\n5 x 4 = 20\\n5 x 5 = 25\\n5 x 6 = 30\\n5 x 7 = 35\\n5 x 8 = 40\\n5 x 9 = 45\",\n",
    "    \"7 x 1 = 7\\n7 x 2 = 14\\n7 x 3 = 21\\n7 x 4 = 28\\n7 x 5 = 35\\n7 x 6 = 42\\n7 x 7 = 49\\n7 x 8 = 56\\n7 x 9 = 63\",\n",
    "    \"3 x 1 = 3\\n3 x 2 = 6\\n3 x 3 = 9\\n3 x 4 = 12\\n3 x 5 = 15\\n3 x 6 = 18\\n3 x 7 = 21\\n3 x 8 = 24\\n3 x 9 = 27\",\n",
    "    \"10 x 1 = 10\\n10 x 2 = 20\\n10 x 3 = 30\\n10 x 4 = 40\\n10 x 5 = 50\\n10 x 6 = 60\\n10 x 7 = 70\\n10 x 8 = 80\\n10 x 9 = 90\",\n",
    "    \"0 x 1 = 0\\n0 x 2 = 0\\n0 x 3 = 0\\n0 x 4 = 0\\n0 x 5 = 0\\n0 x 6 = 0\\n0 x 7 = 0\\n0 x 8 = 0\\n0 x 9 = 0\",\n",
    "    \"-2 x 1 = -2\\n-2 x 2 = -4\\n-2 x 3 = -6\\n-2 x 4 = -8\\n-2 x 5 = -10\\n-2 x 6 = -12\\n-2 x 7 = -14\\n-2 x 8 = -16\\n-2 x 9 = -18\",\n",
    "]\n",
    "\n",
    "for input_value, output_value in zip(input_data_multiplication_table, output_data_multiplication_table):\n",
    "    assert multiplication_table(input_value) == output_value"
   ],
   "metadata": {
    "id": "YeC_cgT3ee8q"
   },
   "execution_count": null,
   "outputs": []
  },
  {
   "cell_type": "markdown",
   "source": [
    "## 9. Write a function is_prime(n: int) -> bool that reads a positive integer and checks if it's a prime number using a for loop."
   ],
   "metadata": {
    "id": "J5zjEzX3efP0"
   }
  },
  {
   "cell_type": "code",
   "source": [
    "##%%mypy\n",
    "\n",
    "def is_prime(n: int) -> bool:\n",
    "  #how can we implement the code in one line?\n",
    "  if n <= 1 : return False\n",
    "  # if n == 1 : return False\n",
    "  for i in range(2, n):\n",
    "    if n % i == 0:\n",
    "      return False\n",
    "  return True\n",
    "  pass\n",
    "\n",
    "input_data_prime_checker = [7, 12, 19, 2, 1, 0, -3, 20]\n",
    "output_data_prime_checker = [True, False, True, True, False, False, False, False]\n",
    "\n",
    "for input_value, output_value in zip(input_data_prime_checker, output_data_prime_checker):\n",
    "    print( is_prime(input_value) == output_value )"
   ],
   "metadata": {
    "id": "Q7DxZNeGefP0",
    "ExecuteTime": {
     "end_time": "2023-10-21T06:21:27.368959Z",
     "start_time": "2023-10-21T06:21:27.356343Z"
    }
   },
   "execution_count": 81,
   "outputs": [
    {
     "name": "stdout",
     "output_type": "stream",
     "text": [
      "True\n",
      "True\n",
      "True\n",
      "True\n",
      "True\n",
      "True\n",
      "True\n",
      "True\n"
     ]
    }
   ]
  },
  {
   "cell_type": "markdown",
   "source": [
    "## 10. Write a function reverse(s: str) -> str and count_vowels(s :str) -> int that reads a string, reverses it using a loop, and returns the reversed string and the number of vowels in the string, respectively."
   ],
   "metadata": {
    "id": "P5k8YQd9dmUT"
   }
  },
  {
   "cell_type": "code",
   "source": [
    "##%%mypy\n",
    "\n",
    "def reverse(s: str) -> str:\n",
    "  #implement your code in one line\n",
    "  return s[::-1]\n",
    "  pass\n",
    "\n",
    "def count_vowels(s :str) -> int:\n",
    "  #how can we implement the code in one line?\n",
    "  vowels = [\"a\", \"e\", \"i\", \"o\", \"u\"]\n",
    "  vowels_count = 0\n",
    "  for c in s.lower():\n",
    "    if c in vowels:\n",
    "      vowels_count += 1\n",
    "  return vowels_count\n",
    "  pass\n",
    "\n",
    "input_data_string_reversal_vowel_count = [\"hello\", \"world\", \"python\", \"aeiou\", \"empty\", \"hElLo\"]\n",
    "output_data_string_reversal_vowel_count = [(\"olleh\", 2), (\"dlrow\", 1), (\"nohtyp\", 1), (\"uoiea\", 5), (\"ytpme\", 1), (\"oLlEh\", 2)]\n",
    "\n",
    "for input_value, output_value in zip(input_data_string_reversal_vowel_count, output_data_string_reversal_vowel_count):\n",
    "    assert (reverse(input_value), count_vowels(input_value)) == output_value\n"
   ],
   "metadata": {
    "id": "EBIwt03Kdnpp",
    "ExecuteTime": {
     "end_time": "2023-10-21T06:28:16.276242Z",
     "start_time": "2023-10-21T06:28:16.266188Z"
    }
   },
   "execution_count": 84,
   "outputs": []
  },
  {
   "cell_type": "markdown",
   "source": [
    "## 11. Write a function gen_pattern(n: int) -> str that return the following pattern using loops with n rows:\n",
    "\n",
    "n = 5\n",
    "```\n",
    "*****\n",
    " ****\n",
    "  ***\n",
    "   **\n",
    "    *\n",
    "```"
   ],
   "metadata": {
    "id": "mPv8F8IDdsNB"
   }
  },
  {
   "cell_type": "code",
   "source": [
    "##%%mypy\n",
    "\n",
    "def gen_pattern(n: int) -> str:\n",
    "  #implement your code in one line\n",
    "  i = n\n",
    "  strings = list()\n",
    "  while i > 0:\n",
    "    string = ' ' * (n-i) + \"*\" * i\n",
    "    strings.append(string)\n",
    "    # print(\"{}\".format(string))\n",
    "    i -= 1\n",
    "  return '\\n'.join(strings)\n",
    "  pass\n",
    "\n",
    "input_data_gen_pattern = [5, 3, 6, 1]\n",
    "output_data_gen_pattern = [\"*****\\n ****\\n  ***\\n   **\\n    *\",\n",
    "                           \"***\\n **\\n  *\",\n",
    "                           \"******\\n *****\\n  ****\\n   ***\\n    **\\n     *\",\n",
    "                           \"*\"]\n",
    "\n",
    "for input_value, output_value in zip(input_data_gen_pattern, output_data_gen_pattern):\n",
    "    assert gen_pattern(input_value) == output_value"
   ],
   "metadata": {
    "id": "tXDgAKGadyDx",
    "ExecuteTime": {
     "end_time": "2023-10-21T06:39:16.605419Z",
     "start_time": "2023-10-21T06:39:16.603123Z"
    }
   },
   "execution_count": 97,
   "outputs": []
  },
  {
   "cell_type": "markdown",
   "source": [
    "## 12. Implement the following methods\n",
    "\n",
    "* add_item(item: str) -> None: Add an item to the shopping list.\n",
    "* remove_item(item: str) -> None: Remove an item from the shopping list.\n",
    "* display_list() -> List[str]: Return the current shopping list.\n",
    "* quit() -> None: Exit the shopping list.\n"
   ],
   "metadata": {
    "id": "aTfwJbtWeNxR"
   }
  },
  {
   "cell_type": "code",
   "source": [
    "##%%mypy\n",
    "\n",
    "from typing import List, Dict, Callable, Any\n",
    "\n",
    "items = []\n",
    "\n",
    "def add_item(item: str) -> None:\n",
    "  #implement your code in one line\n",
    "  items.append(str)\n",
    "  pass\n",
    "\n",
    "def remove_item(item: str) -> None:\n",
    "  #implement your code in one line\n",
    "  items.remove(str)\n",
    "  pass\n",
    "\n",
    "def display_list(item: str) -> List[str]:\n",
    "  #implement your code in one line\n",
    "  return items\n",
    "  pass\n",
    "\n",
    "def quit(item: str) -> None:\n",
    "  #implement your code in one line\n",
    "  exit()\n",
    "  pass\n",
    "\n",
    "commands = {'add': add_item,\n",
    "            'remove': remove_item,\n",
    "            'display': display_list,\n",
    "            'exit': quit}\n",
    "\n",
    "input_data_shopping_list = [(\"add\", \"apple\"), (\"add\", \"banana\"),\n",
    "                            (\"add\", \"orange\"), (\"display\", ''),\n",
    "                            (\"remove\", \"banana\"), (\"display\", ''),\n",
    "                            (\"exit\", '')]\n",
    "\n",
    "output_data_shopping_list = [None, None,None,[\"apple\", \"banana\", \"orange\"], None,[\"apple\", \"orange\"],None]\n",
    "\n",
    "for (action, item), expected_output in zip(input_data_shopping_list, output_data_shopping_list):\n",
    "  assert commands[action](item) == expected_output\n"
   ],
   "metadata": {
    "id": "APNy8a6ZeO6l",
    "ExecuteTime": {
     "end_time": "2023-10-21T06:44:21.462549Z",
     "start_time": "2023-10-21T06:44:21.445690Z"
    }
   },
   "execution_count": 98,
   "outputs": [
    {
     "ename": "AssertionError",
     "evalue": "",
     "output_type": "error",
     "traceback": [
      "\u001B[0;31m---------------------------------------------------------------------------\u001B[0m",
      "\u001B[0;31mAssertionError\u001B[0m                            Traceback (most recent call last)",
      "Cell \u001B[0;32mIn[98], line 40\u001B[0m\n\u001B[1;32m     37\u001B[0m output_data_shopping_list \u001B[38;5;241m=\u001B[39m [\u001B[38;5;28;01mNone\u001B[39;00m, \u001B[38;5;28;01mNone\u001B[39;00m,\u001B[38;5;28;01mNone\u001B[39;00m,[\u001B[38;5;124m\"\u001B[39m\u001B[38;5;124mapple\u001B[39m\u001B[38;5;124m\"\u001B[39m, \u001B[38;5;124m\"\u001B[39m\u001B[38;5;124mbanana\u001B[39m\u001B[38;5;124m\"\u001B[39m, \u001B[38;5;124m\"\u001B[39m\u001B[38;5;124morange\u001B[39m\u001B[38;5;124m\"\u001B[39m], \u001B[38;5;28;01mNone\u001B[39;00m,[\u001B[38;5;124m\"\u001B[39m\u001B[38;5;124mapple\u001B[39m\u001B[38;5;124m\"\u001B[39m, \u001B[38;5;124m\"\u001B[39m\u001B[38;5;124morange\u001B[39m\u001B[38;5;124m\"\u001B[39m],\u001B[38;5;28;01mNone\u001B[39;00m]\n\u001B[1;32m     39\u001B[0m \u001B[38;5;28;01mfor\u001B[39;00m (action, item), expected_output \u001B[38;5;129;01min\u001B[39;00m \u001B[38;5;28mzip\u001B[39m(input_data_shopping_list, output_data_shopping_list):\n\u001B[0;32m---> 40\u001B[0m   \u001B[38;5;28;01massert\u001B[39;00m commands[action](item) \u001B[38;5;241m==\u001B[39m expected_output\n",
      "\u001B[0;31mAssertionError\u001B[0m: "
     ]
    }
   ]
  }
 ]
}
