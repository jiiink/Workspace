{
 "nbformat": 4,
 "nbformat_minor": 0,
 "metadata": {
  "colab": {
   "provenance": [],
   "toc_visible": true
  },
  "kernelspec": {
   "name": "python3",
   "language": "python",
   "display_name": "Python 3 (ipykernel)"
  },
  "language_info": {
   "name": "python"
  }
 },
 "cells": [
  {
   "cell_type": "markdown",
   "source": [
    "## Prerequisite"
   ],
   "metadata": {
    "id": "0AZqhmeccW7p"
   }
  },
  {
   "cell_type": "code",
   "source": [
    "from google.colab import drive\n",
    "\n",
    "drive.mount('/content/gdrive/', force_remount=True)"
   ],
   "metadata": {
    "colab": {
     "base_uri": "https://localhost:8080/"
    },
    "id": "ZDeM7aGRQfp2",
    "outputId": "14420227-2375-4967-a4fa-7788763b57df"
   },
   "execution_count": null,
   "outputs": [
    {
     "output_type": "stream",
     "name": "stdout",
     "text": [
      "Mounted at /content/gdrive/\n"
     ]
    }
   ]
  },
  {
   "cell_type": "markdown",
   "source": [
    "## User-Defined Classes\n",
    "\n",
    "\n"
   ],
   "metadata": {
    "id": "AL3MoBZO5NpL"
   }
  },
  {
   "cell_type": "code",
   "source": [
    "class Rectangle:\n",
    "  def __init__(self, width=1, height=1):\n",
    "    self._width = width\n",
    "    self._height = height\n",
    "    self.__width = width\n",
    "    self.__height = height\n",
    "\n",
    "  def setWidth(self, width):\n",
    "    self._width = width\n",
    "\n",
    "  def setHeight(self, height):\n",
    "    self._height = height\n",
    "\n",
    "  def getWidth(self):\n",
    "    return self._width\n",
    "\n",
    "  def getHeight(self):\n",
    "    return self._height\n",
    "\n",
    "  def area(self):\n",
    "    return self._width * self._height\n",
    "\n",
    "  def perimeter(self):\n",
    "    return 2 * (self._width + self._height)\n",
    "\n",
    "  def __area(self):\n",
    "      return self.__width * self.__height\n",
    "\n",
    "  def _area(self):\n",
    "      return self.__width * self.__height\n",
    "\n",
    "  def __perimeter(self):\n",
    "      return 2 * (self.__width + self.__height)\n",
    "\n",
    "  def _perimeter(self):\n",
    "      return 2 * (self.__width + self.__height)\n",
    "\n",
    "  def __str__(self):\n",
    "    return (\"Width: \" + str(self._width) + \"\\nHeight: \" + str(self._height))\n"
   ],
   "metadata": {
    "id": "M3ABCUJiIqOC"
   },
   "execution_count": null,
   "outputs": []
  },
  {
   "cell_type": "code",
   "source": [
    "# Create a rectangle of width 4 and height 5\n",
    "r = Rectangle(4, 5)\n",
    "print(r) # Uses the __str__ method to report the state\n",
    "# Create a rectangle with the default values for width and\n",
    "# height\n",
    "r = Rectangle()\n",
    "print(r)\n",
    "# Create a rectangle of width 4 and default height 1\n",
    "r = Rectangle(4)\n",
    "print(r)\n",
    "r = Rectangle()\n",
    "# Use the mutator methods.\n",
    "r.setWidth(4)\n",
    "r.setHeight(5)\n",
    "print(\"The rectangle has the following measurements:\")\n",
    "# Use the accessor methods.\n",
    "print(\"Width is\", r.getWidth())\n",
    "print(\"Height is\", r.getHeight())\n",
    "# Use other methods.\n",
    "print(\"Area is\", r.area())\n",
    "print(\"Perimeter is\", r.perimeter())"
   ],
   "metadata": {
    "colab": {
     "base_uri": "https://localhost:8080/"
    },
    "id": "ywmEZzMyLzZk",
    "outputId": "a79de206-5a56-4c43-ffc7-a65b17e5c7ad"
   },
   "execution_count": null,
   "outputs": [
    {
     "output_type": "stream",
     "name": "stdout",
     "text": [
      "Width: 4\n",
      "Height: 5\n",
      "Width: 1\n",
      "Height: 1\n",
      "Width: 4\n",
      "Height: 1\n",
      "The rectangle has the following measurements:\n",
      "Width is 4\n",
      "Height is 5\n",
      "Area is 20\n",
      "Perimeter is 18\n"
     ]
    }
   ]
  },
  {
   "cell_type": "code",
   "source": [
    "print(\"Width is\", r._width)\n",
    "print(\"Height is\", r._height)\n",
    "print(\"Area is\", r.area())\n",
    "print(\"Perimeter is\", r.perimeter())\n",
    "r.__dict__.keys()"
   ],
   "metadata": {
    "colab": {
     "base_uri": "https://localhost:8080/"
    },
    "id": "RpcSVieaL_nb",
    "outputId": "c622d20f-5559-400e-d18e-e944fb3447dc"
   },
   "execution_count": null,
   "outputs": [
    {
     "output_type": "stream",
     "name": "stdout",
     "text": [
      "Width is 4\n",
      "Height is 5\n",
      "Area is 20\n",
      "Perimeter is 18\n"
     ]
    },
    {
     "output_type": "execute_result",
     "data": {
      "text/plain": [
       "dict_keys(['_width', '_height', '_Rectangle__width', '_Rectangle__height'])"
      ]
     },
     "metadata": {},
     "execution_count": 49
    }
   ]
  },
  {
   "cell_type": "code",
   "source": [
    "print(dir(Rectangle))"
   ],
   "metadata": {
    "colab": {
     "base_uri": "https://localhost:8080/"
    },
    "id": "2aP11_HXV-1M",
    "outputId": "9a0aa106-0b6c-46a3-f938-aec063a19a18"
   },
   "execution_count": null,
   "outputs": [
    {
     "output_type": "stream",
     "name": "stdout",
     "text": [
      "['_Rectangle__area', '_Rectangle__perimeter', '__class__', '__delattr__', '__dict__', '__dir__', '__doc__', '__eq__', '__format__', '__ge__', '__getattribute__', '__gt__', '__hash__', '__init__', '__init_subclass__', '__le__', '__lt__', '__module__', '__ne__', '__new__', '__reduce__', '__reduce_ex__', '__repr__', '__setattr__', '__sizeof__', '__str__', '__subclasshook__', '__weakref__', '_area', '_perimeter', 'area', 'getHeight', 'getWidth', 'perimeter', 'setHeight', 'setWidth']\n"
     ]
    }
   ]
  },
  {
   "cell_type": "code",
   "source": [
    "#https://docs.python.org/2/tutorial/classes.html#private-variables-and-class-local-references\n",
    "#print(\"__Width is\", r.__width)\n",
    "#print(\"__Height is\", r.__height)\n",
    "print(\"__Area is\", r._area())\n",
    "print(\"__Perimeter is\", r._perimeter())"
   ],
   "metadata": {
    "id": "SBUQ1WRTc1Nz",
    "colab": {
     "base_uri": "https://localhost:8080/"
    },
    "outputId": "7c8b8878-2b26-4280-9392-0a9230396831"
   },
   "execution_count": null,
   "outputs": [
    {
     "output_type": "stream",
     "name": "stdout",
     "text": [
      "__Area is 1\n",
      "__Perimeter is 4\n"
     ]
    }
   ]
  },
  {
   "cell_type": "markdown",
   "source": [
    "## LGstudent Class"
   ],
   "metadata": {
    "id": "qHeiIk6Pdh9y"
   }
  },
  {
   "cell_type": "markdown",
   "source": [
    "* letter-grade students - (A, B, C, D, F)"
   ],
   "metadata": {
    "id": "TSa9F56LYKUn"
   }
  },
  {
   "cell_type": "code",
   "source": [
    "class LGstudent:\n",
    "  def __init__(self, name=\"\", midterm=0, final=0):\n",
    "    self.__name = name\n",
    "    self.__midterm = midterm\n",
    "    self.__final = final\n",
    "\n",
    "  def setName(self, name):\n",
    "    self.__name = name\n",
    "\n",
    "  def setMidterm(self, midterm):\n",
    "    self.__midterm = midterm\n",
    "\n",
    "  def setFinal(self, final):\n",
    "    self.__final = final\n",
    "\n",
    "  def calcSemGrade(self):\n",
    "    grade = (self.__midterm + self.__final) / 2\n",
    "    grade = round(grade)\n",
    "    if grade >= 90: return \"A\"\n",
    "    elif grade >= 80: return \"B\"\n",
    "    elif grade >= 70: return \"C\"\n",
    "    elif grade >= 60: return \"D\"\n",
    "    else: return \"F\"\n",
    "\n",
    "  def __str__(self):\n",
    "    return self.__name + \"\\t\" + self.calcSemGrade()"
   ],
   "metadata": {
    "id": "xMQLNosZeBz3"
   },
   "execution_count": null,
   "outputs": []
  },
  {
   "cell_type": "code",
   "source": [
    "def main():\n",
    "  ## Calculate and display a student's semester letter grade.\n",
    "  name = input(\"Enter student's name: \")\n",
    "  midterm = float(input(\"Enter grade on midterm exam: \"))\n",
    "  final = float(input(\"Enter grade on final exam: \"))\n",
    "  # Create an instance of an LGstudent object.\n",
    "  st = LGstudent(name, midterm, final)\n",
    "  print(\"\\nNAME\\tGRADE\")\n",
    "  # Display student's name and semester letter grade.\n",
    "  print(st)\n",
    "\n",
    "main()"
   ],
   "metadata": {
    "colab": {
     "base_uri": "https://localhost:8080/"
    },
    "id": "9SdhMfnjIOXN",
    "outputId": "850dbc90-80f1-4d7a-a6a1-6176c324b90b"
   },
   "execution_count": null,
   "outputs": [
    {
     "output_type": "stream",
     "name": "stdout",
     "text": [
      "Enter student's name: Kim\n",
      "Enter grade on midterm exam: 90\n",
      "Enter grade on final exam: 80\n",
      "\n",
      "NAME\tGRADE\n",
      "Kim\tB\n"
     ]
    }
   ]
  },
  {
   "cell_type": "markdown",
   "source": [
    "## Lists of Objects"
   ],
   "metadata": {
    "id": "jez5PEIbfiMt"
   }
  },
  {
   "cell_type": "code",
   "source": [
    "def main():\n",
    "  ## Calculate and display students' semester letter grades.\n",
    "  listOfStudents = [] # To holds objects each for a student\n",
    "  carryOn = 'Y'\n",
    "  while carryOn == 'Y': # Repeat until user says 'N'\n",
    "    st = LGstudent()\n",
    "    # Obtain student's name and grades.\n",
    "    name = input(\"Enter student's name: \")\n",
    "    midterm = float(input(\"Enter student's grade on midterm exam: \"))\n",
    "    final = float(input(\"Enter student's grade on final exam: \"))\n",
    "    # Create an instance of an LGstudent object.\n",
    "    st = LGstudent(name, midterm, final)\n",
    "    listOfStudents.append(st)\n",
    "    # Insert object into list.\n",
    "    carryOn = input(\"Do you want to continue (Y/N)? \")\n",
    "    carryOn = carryOn.upper()\n",
    "  print(\"\\nNAME\\tGRADE\")\n",
    "  # Display students, names and semester letter grades.\n",
    "  for pupil in listOfStudents:\n",
    "    print(pupil)\n",
    "\n",
    "main()"
   ],
   "metadata": {
    "colab": {
     "base_uri": "https://localhost:8080/"
    },
    "id": "YhrsG-RVHpfI",
    "outputId": "17cb2af5-f248-431c-8f60-5a677c39a74f"
   },
   "execution_count": null,
   "outputs": [
    {
     "output_type": "stream",
     "name": "stdout",
     "text": [
      "Enter student's name: Kim\n",
      "Enter student's grade on midterm exam: 78\n",
      "Enter student's grade on final exam: 90\n",
      "Do you want to continue (Y/N)? N\n",
      "\n",
      "NAME\tGRADE\n",
      "Kim\tB\n"
     ]
    }
   ]
  },
  {
   "cell_type": "markdown",
   "source": [
    "## Inheritance"
   ],
   "metadata": {
    "id": "hslGpsG-gll4"
   }
  },
  {
   "cell_type": "code",
   "source": [
    "class Student: # Superclass\n",
    "  def __init__(self, name=\"\", midterm=0, final=0):\n",
    "    self._name = name\n",
    "    self._midterm = midterm\n",
    "    self._final = final\n",
    "\n",
    "  def setName(self, name):\n",
    "    self._name = name\n",
    "\n",
    "  def setMidterm(self, midterm):\n",
    "    self._midterm = midterm\n",
    "\n",
    "  def setFinal(self, final):\n",
    "    self._final = final\n",
    "\n",
    "  def getName(self):\n",
    "    return self._name\n",
    "\n",
    "  def calcSemGrade(self):\n",
    "    pass\n",
    "\n",
    "  def __str__(self):\n",
    "    return self._name + \"\\t\" + self.calcSemGrade()\n",
    "\n",
    "s = Student()\n",
    "print(s.__dict__.keys())\n",
    "print(s.calcSemGrade())"
   ],
   "metadata": {
    "id": "e2egenn1ISmS",
    "colab": {
     "base_uri": "https://localhost:8080/"
    },
    "outputId": "bb760ae9-e290-48b7-fcbf-1197d3ca2880"
   },
   "execution_count": null,
   "outputs": [
    {
     "output_type": "stream",
     "name": "stdout",
     "text": [
      "dict_keys(['_name', '_midterm', '_final'])\n",
      "None\n"
     ]
    }
   ]
  },
  {
   "cell_type": "code",
   "source": [
    "# letter-grade students\n",
    "class LGstudent(Student): # Subclass of Student\n",
    "  def calcSemGrade(self):\n",
    "    average = round((self._midterm + self._final) / 2)\n",
    "    if average >= 90: return \"A\"\n",
    "    elif average >= 80: return \"B\"\n",
    "    elif average >= 70: return \"C\"\n",
    "    elif average >= 60: return \"D\"\n",
    "    else: return \"F\"\n",
    "\n",
    "# pass-fail students\n",
    "class PFstudent(Student): # Subclass of Student\n",
    "  def calcSemGrade(self):\n",
    "    average = round((self._midterm + self._final) / 2)\n",
    "    if average >= 60: return \"Pass\"\n",
    "    else: return \"Fail\"\n",
    "\n",
    "\n",
    "lg = LGstudent()\n",
    "pf = PFstudent()\n",
    "\n",
    "print(dir(lg))\n",
    "print(dir(pf))\n",
    "print(lg.__dict__.keys())\n",
    "print(pf.__dict__.keys())\n",
    "print(lg.calcSemGrade())\n",
    "print(pf.calcSemGrade())"
   ],
   "metadata": {
    "colab": {
     "base_uri": "https://localhost:8080/"
    },
    "id": "biRIzRNoMd44",
    "outputId": "0449f1ab-e525-4570-8335-7ff2a2292f53"
   },
   "execution_count": null,
   "outputs": [
    {
     "output_type": "stream",
     "name": "stdout",
     "text": [
      "['__class__', '__delattr__', '__dict__', '__dir__', '__doc__', '__eq__', '__format__', '__ge__', '__getattribute__', '__gt__', '__hash__', '__init__', '__init_subclass__', '__le__', '__lt__', '__module__', '__ne__', '__new__', '__reduce__', '__reduce_ex__', '__repr__', '__setattr__', '__sizeof__', '__str__', '__subclasshook__', '__weakref__', '_final', '_midterm', '_name', 'calcSemGrade', 'getName', 'setFinal', 'setMidterm', 'setName']\n",
      "['__class__', '__delattr__', '__dict__', '__dir__', '__doc__', '__eq__', '__format__', '__ge__', '__getattribute__', '__gt__', '__hash__', '__init__', '__init_subclass__', '__le__', '__lt__', '__module__', '__ne__', '__new__', '__reduce__', '__reduce_ex__', '__repr__', '__setattr__', '__sizeof__', '__str__', '__subclasshook__', '__weakref__', '_final', '_midterm', '_name', 'calcSemGrade', 'getName', 'setFinal', 'setMidterm', 'setName']\n",
      "dict_keys(['_name', '_midterm', '_final'])\n",
      "dict_keys(['_name', '_midterm', '_final'])\n",
      "F\n",
      "Fail\n"
     ]
    }
   ]
  },
  {
   "cell_type": "code",
   "source": [
    "def main():\n",
    "  # students and grades\n",
    "  listOfStudents = obtainListOfStudents()\n",
    "  displayResults(listOfStudents)\n",
    "\n",
    "def obtainListOfStudents():\n",
    "  listOfStudents = []\n",
    "  carryOn = 'Y'\n",
    "  while carryOn == 'Y':\n",
    "    name = input(\"Enter student's name: \")\n",
    "    midterm = float(input(\"Enter grade on midterm: \"))\n",
    "    final = float(input(\"Enter grade on final: \"))\n",
    "    category = input(\"Enter category (LG or PF): \")\n",
    "    if category.upper() == \"LG\":\n",
    "      st = LGstudent(name, midterm, final)\n",
    "    else:\n",
    "      st = PFstudent(name, midterm, final)\n",
    "    listOfStudents.append(st)\n",
    "    carryOn = input(\"Do you want to continue (Y/N)? \")\n",
    "    carryOn = carryOn.upper()\n",
    "  return listOfStudents\n",
    "\n",
    "def displayResults(listOfStudents):\n",
    "  print(\"\\nNAME\\tGRADE\")\n",
    "  # Sort students by name.\n",
    "  listOfStudents.sort(key = lambda x: x.getName())\n",
    "  for pupil in listOfStudents:\n",
    "    print(pupil)\n",
    "\n",
    "\n",
    "main()"
   ],
   "metadata": {
    "id": "GtR4wC0NMgpy"
   },
   "execution_count": null,
   "outputs": []
  },
  {
   "cell_type": "code",
   "source": [
    "def displayResults(listOfStudents):\n",
    "  print(\"\\nNAME\\tGRADE\")\n",
    "  numberOfLGstudents = 0\n",
    "  listOfStudents.sort(key = lambda x: x.getName())\n",
    "  for pupil in listOfStudents:\n",
    "    print(pupil)\n",
    "    # Keep track of number of letter-grade students.\n",
    "    if isinstance(pupil, LGstudent):\n",
    "      numberOfLGstudents += 1\n",
    "  # Display number of students in each category.\n",
    "  print(\"Number of letter-grade students:\", numberOfLGstudents)\n",
    "  print(\"Number of pass-fail students:\", len(listOfStudents) - numberOfLGstudents)\n",
    "\n",
    "main()"
   ],
   "metadata": {
    "colab": {
     "base_uri": "https://localhost:8080/"
    },
    "id": "q14HlQIdHcHt",
    "outputId": "d674cdb1-5385-4a23-ff0d-db1b1566c35b"
   },
   "execution_count": null,
   "outputs": [
    {
     "output_type": "stream",
     "name": "stdout",
     "text": [
      "Enter student's name: Kim\n",
      "Enter grade on midterm: 78\n",
      "Enter grade on final: 90\n",
      "Enter category (LG or PF): LG\n",
      "Do you want to continue (Y/N)? N\n",
      "\n",
      "NAME\tGRADE\n",
      "Kim\tB\n",
      "Number of letter-grade students: 1\n",
      "Number of pass-fail students: 0\n"
     ]
    }
   ]
  },
  {
   "cell_type": "markdown",
   "source": [
    "## Adding New Instance Variables to a Subclass"
   ],
   "metadata": {
    "id": "McMsVb4Iq40K"
   }
  },
  {
   "cell_type": "code",
   "source": [
    "class PFstudent(Student):\n",
    "  # A new Boolean parameter fullTime is added\n",
    "  def __init__(self, name=\"\", midterm=0, final=0, fullTime=True):\n",
    "    super().__init__(name, midterm, final)\n",
    "    self._fullTime = fullTime\n",
    "\n",
    "  def setFullTime(self, fullTime):\n",
    "    self._fullTime = fullTime\n",
    "\n",
    "  def getFullTime(self):\n",
    "    return self._fullTime\n",
    "\n",
    "  def calcSemGrade(self):\n",
    "    average = round((self._midterm + self._final) / 2)\n",
    "    if average >= 60: return \"Pass\"\n",
    "    else: return \"Fail\"\n",
    "\n",
    "  def __str__(self):\n",
    "    if self._fullTime:\n",
    "      status = \"Full-time student\"\n",
    "    else:\n",
    "      status = \"Part-time student\"\n",
    "    return (self._name + \"\\t\" + self.calcSemGrade() + \"\\t\" + status)\n"
   ],
   "metadata": {
    "id": "enDvASizGj4y"
   },
   "execution_count": null,
   "outputs": []
  },
  {
   "cell_type": "code",
   "source": [
    "def main():\n",
    "  ## Calculate and display a student's semester letter grade\n",
    "  ## and status. Obtain student's name, grade on midterm\n",
    "  ## exam, and grade on final.\n",
    "  name = input(\"Enter student's name: \")\n",
    "  midterm = float(input(\"Enter grade on midterm: \"))\n",
    "  final = float(input(\"Enter grade on final: \"))\n",
    "  category = input(\"Enter category (LG or PF): \")\n",
    "  if category.upper() == \"LG\":\n",
    "    st = LGstudent(name, midterm, final)\n",
    "  else:\n",
    "    question = input(\"Is \" + name + \" a full time student (Y/N)? \")\n",
    "    if question.upper() == 'Y': fullTime = True\n",
    "    else: fullTime = False\n",
    "    st = PFstudent(name, midterm, final, fullTime)\n",
    "    # Display student's name, semester letter grade, and status.\n",
    "  print(\"\\nNAME\\tGRADE\\tSTATUS\")\n",
    "  print(st)\n",
    "\n",
    "main()"
   ],
   "metadata": {
    "colab": {
     "base_uri": "https://localhost:8080/"
    },
    "id": "YWJHyp8PGIXS",
    "outputId": "f8f15a4e-bf51-4370-dfc3-b57228df2819"
   },
   "execution_count": null,
   "outputs": [
    {
     "output_type": "stream",
     "name": "stdout",
     "text": [
      "Enter student's name: Kim\n",
      "Enter grade on midterm: 78\n",
      "Enter grade on final: 90\n",
      "Enter category (LG or PF): LG\n",
      "\n",
      "NAME\tGRADE\tSTATUS\n",
      "Kim\tB\n"
     ]
    }
   ]
  },
  {
   "cell_type": "markdown",
   "source": [
    "## Overriding a Method"
   ],
   "metadata": {
    "id": "trpfqkpuq8VX"
   }
  },
  {
   "cell_type": "code",
   "source": [
    "class LGstudent:\n",
    "  def __init__(self, name=\"\", midterm=0, final=0):\n",
    "    self._name = name\n",
    "    self._midterm = midterm\n",
    "    self._final = final\n",
    "\n",
    "  def setName(self, name):\n",
    "    self._name = name\n",
    "\n",
    "  def setMidterm(self, midterm):\n",
    "    self._midterm = midterm\n",
    "\n",
    "  def setFinal(self, final):\n",
    "    self._final = final\n",
    "\n",
    "  def getName(self):\n",
    "    return self._name\n",
    "\n",
    "  def calcSemGrade(self):\n",
    "    average = round((self._midterm + self._final) / 2)\n",
    "    if average >= 90: return \"A\"\n",
    "    elif average >= 80: return \"B\"\n",
    "    elif average >= 70: return \"C\"\n",
    "    elif average >= 60: return \"D\"\n",
    "    else: return \"F\"\n",
    "\n",
    "  def __str__(self):\n",
    "    return self._name + \"\\t\" + self.calcSemGrade()\n",
    "\n",
    "\n",
    "class PFstudent(LGstudent):\n",
    "  def calcSemGrade(self):\n",
    "    average = round((self._midterm + self._final) / 2)\n",
    "    if average >= 60: return \"Pass\"\n",
    "    else: return \"Fail\"\n"
   ],
   "metadata": {
    "id": "jb13r8SPrnHQ"
   },
   "execution_count": null,
   "outputs": []
  },
  {
   "cell_type": "code",
   "source": [
    "def main():\n",
    "  # Students and grades\n",
    "  listOfStudents = obtainListOfStudents()\n",
    "  displayResults(listOfStudents)\n",
    "\n",
    "def obtainListOfStudents():\n",
    "  listOfStudents = []\n",
    "  carryOn = 'Y'\n",
    "  while carryOn == 'Y':\n",
    "    name = input(\"Enter student's name: \")\n",
    "    midterm = float(input(\"Enter grade on midterm: \"))\n",
    "    final = float(input(\"Enter grade on final: \"))\n",
    "    category = input(\"Enter category (LG or PF): \")\n",
    "    if category.upper() == \"LG\":\n",
    "      st = LGstudent(name, midterm, final)\n",
    "    else:\n",
    "      st = PFstudent(name, midterm, final)\n",
    "    listOfStudents.append(st)\n",
    "    carryOn = input(\"Do you want to continue (Y/N)? \")\n",
    "    carryOn = carryOn.upper()\n",
    "  return listOfStudents\n",
    "\n",
    "def displayResults(listOfStudents):\n",
    "  print(\"\\nNAME\\tGRADE\")\n",
    "  listOfStudents.sort(key = lambda x: x.getName())\n",
    "  for pupil in listOfStudents:\n",
    "    print(pupil)\n",
    "\n",
    "\n",
    "main()\n"
   ],
   "metadata": {
    "colab": {
     "base_uri": "https://localhost:8080/"
    },
    "id": "Ldsc9TuDrA_B",
    "outputId": "5940256b-c293-4a9a-94a5-674f170a74fe"
   },
   "execution_count": null,
   "outputs": [
    {
     "output_type": "stream",
     "name": "stdout",
     "text": [
      "Enter student's name: Kim\n",
      "Enter grade on midterm: 78\n",
      "Enter grade on final: 90\n",
      "Enter category (LG or PF): PF\n",
      "Do you want to continue (Y/N)? N\n",
      "\n",
      "NAME\tGRADE\n",
      "Kim\tPass\n"
     ]
    }
   ]
  },
  {
   "cell_type": "markdown",
   "source": [
    "## Decorators  for Class"
   ],
   "metadata": {
    "id": "hto5wpofviTw"
   }
  },
  {
   "cell_type": "code",
   "source": [
    "# Immutable Object\n",
    "class PNUStudent():\n",
    "  def __init__(self, name, major):\n",
    "    self._name = name\n",
    "    self._major = major\n",
    "\n",
    "  @staticmethod\n",
    "  def university():\n",
    "    return \"Pusan National University\"\n",
    "\n",
    "  @property\n",
    "  def name(self):\n",
    "    return self._name\n",
    "\n",
    "  # Validating Input Values\n",
    "  # @name.setter\n",
    "  # def name(self, name):\n",
    "  #   self._name = name.upper();\n",
    "\n",
    "  @property\n",
    "  def major(self):\n",
    "    return self._major\n",
    "\n",
    "  # Validating Input Values\n",
    "  # @major.setter\n",
    "  # def major(self, major):\n",
    "  #   self._major = major.upper()\n",
    "\n",
    "  def __str__(self):\n",
    "    return f\"name: {self._name}, major: {self._major}\"\n",
    "\n",
    "\n",
    "print(PNUStudent.university())\n",
    "\n",
    "ps = PNUStudent('Kim', 'CS')\n",
    "print(ps.university())\n",
    "print(ps.__dict__.keys())\n",
    "print(ps.name)\n",
    "print(ps.major)\n",
    "\n",
    "# the leading underscore (_) in names\n",
    "# non-public attributes and shouldn’t be accessed using dot notation\n",
    "ps._name = 'hello'\n",
    "ps._major = 'math'\n",
    "print(str(ps))\n",
    "\n",
    "ps.name = 'hello'\n",
    "ps.major = 'math'\n"
   ],
   "metadata": {
    "id": "uCVvfxGQvkr_"
   },
   "execution_count": null,
   "outputs": []
  },
  {
   "cell_type": "code",
   "source": [
    "PNUStudent.university()"
   ],
   "metadata": {
    "colab": {
     "base_uri": "https://localhost:8080/",
     "height": 35
    },
    "id": "EmIFfddQv4g_",
    "outputId": "442848e4-7783-4d31-9f86-a660e6c971b5"
   },
   "execution_count": null,
   "outputs": [
    {
     "output_type": "execute_result",
     "data": {
      "text/plain": [
       "'Pusan National University'"
      ],
      "application/vnd.google.colaboratory.intrinsic+json": {
       "type": "string"
      }
     },
     "metadata": {},
     "execution_count": 61
    }
   ]
  },
  {
   "cell_type": "code",
   "source": [
    "# some student\n",
    "class PNUStudent():\n",
    "  def __init__(self, name, major):\n",
    "    self.__name = name\n",
    "    self.__major = major\n",
    "\n",
    "  def __str__(self):\n",
    "    return f\"name: {self.__name}, major: {self.__major}\"\n",
    "\n",
    "ps = PNUStudent('Kim', 'CS')\n",
    "print(ps.__dict__.keys())\n",
    "#print(ps.__name)\n",
    "#print(ps.__major)\n",
    "\n",
    "ps.__name = 'hello'  # ??\n",
    "ps.__major = 'math'  # ??\n",
    "\n",
    "print(ps.__dict__.keys())\n",
    "print(str(ps))\n"
   ],
   "metadata": {
    "colab": {
     "base_uri": "https://localhost:8080/"
    },
    "id": "_2GcAV3a2oMR",
    "outputId": "0917073f-2437-465d-8e6e-31c199790aea"
   },
   "execution_count": null,
   "outputs": [
    {
     "output_type": "stream",
     "name": "stdout",
     "text": [
      "dict_keys(['_PNUStudent__name', '_PNUStudent__major'])\n",
      "dict_keys(['_PNUStudent__name', '_PNUStudent__major', '__name', '__major'])\n",
      "name: Kim, major: CS\n"
     ]
    }
   ]
  },
  {
   "cell_type": "markdown",
   "source": [
    "# Lab12"
   ],
   "metadata": {
    "id": "Q8GmLMjqs3Ek"
   }
  },
  {
   "cell_type": "markdown",
   "source": [
    "## 1. Create a class named \"ShoppingCart\" with the following methods and attributes:\n",
    "\n",
    "* add_item(item_name, price, quantity)\n",
    "* remove_item(item_name, quantity)\n",
    "* get_total_price()\n",
    "* items (dictionary, keys are item names and values are item price and quantities)"
   ],
   "metadata": {
    "id": "UlT2GU_N6Tl0"
   }
  },
  {
   "cell_type": "code",
   "source": [
    "\n",
    "class ShoppingCart:\n",
    "  def __init__(self):\n",
    "    self._item = dict()\n",
    "  def add_item(self, item_name, price, quantity):\n",
    "    self._item[item_name] = [price, quantity]\n",
    "  def remove_item(self, item_name, quantity):\n",
    "    self._item[item_name][1] -= quantity\n",
    "  def get_total_price(self):\n",
    "    result = 0\n",
    "    for item in self._item:\n",
    "      result += self._item[item][0] * self._item[item][1]\n",
    "    return result\n",
    "  pass\n",
    "\n",
    "\n",
    "def main():\n",
    "  cart = ShoppingCart()\n",
    "  cart.add_item(\"Apple\", 1.9, 5)\n",
    "  cart.add_item(\"Banana\", 0.9, 3)\n",
    "  cart.add_item(\"Orange\", 2.9, 2)\n",
    "  cart.remove_item(\"Apple\", 2)\n",
    "  cart.remove_item(\"Orange\", 2)\n",
    "\n",
    "  print('{:.2f}'.format(cart.get_total_price()))\n",
    "\n",
    "\n",
    "main()"
   ],
   "metadata": {
    "id": "iqIe1ijPrx0z",
    "ExecuteTime": {
     "end_time": "2023-10-22T04:19:32.736163Z",
     "start_time": "2023-10-22T04:19:32.721443Z"
    }
   },
   "execution_count": 2,
   "outputs": [
    {
     "name": "stdout",
     "output_type": "stream",
     "text": [
      "8.40\n"
     ]
    }
   ]
  },
  {
   "cell_type": "markdown",
   "source": [
    "## 2. Create a class named \"TimeSeriesData\" with the following methods and attributes:\n",
    "\n",
    "* get_max_value()\n",
    "* get_min_value()\n",
    "* get_average_value()\n",
    "* data (list of tuples, each tuple contains a timestamp and a value)"
   ],
   "metadata": {
    "id": "mKgtxNrn8m_a"
   }
  },
  {
   "cell_type": "code",
   "source": [
    "\n",
    "class TimeSeriesData():\n",
    "  def __init__(self, data):\n",
    "    self.__data = data\n",
    "  def get_max_value(self):\n",
    "    return max([x[1] for x in self.__data])\n",
    "  def get_min_value(self):\n",
    "    return min([x[1] for x in self.__data])\n",
    "  def get_average_value(self):\n",
    "    return sum([x[1] for x in self.__data]) / len(self.__data)\n",
    "  \n",
    "  pass\n",
    "\n",
    "def main():\n",
    "  data = [(\"2023-01-01\", 1.0), (\"2023-01-02\", 2.0), (\"2023-01-03\", 3.0), (\"2023-01-04\", 2.5)]\n",
    "\n",
    "  time_series = TimeSeriesData(data)\n",
    "  print('{:.2f}'.format(time_series.get_max_value()))\n",
    "  print('{:.2f}'.format(time_series.get_min_value()))\n",
    "  print('{:.2f}'.format(time_series.get_average_value()))\n",
    "\n",
    "main()"
   ],
   "metadata": {
    "id": "ioqrxwWI8nbq",
    "ExecuteTime": {
     "end_time": "2023-10-22T04:49:40.906170Z",
     "start_time": "2023-10-22T04:49:40.859998Z"
    }
   },
   "execution_count": 4,
   "outputs": [
    {
     "name": "stdout",
     "output_type": "stream",
     "text": [
      "3.00\n",
      "1.00\n",
      "2.12\n"
     ]
    }
   ]
  },
  {
   "cell_type": "markdown",
   "source": [
    "## 3. Create a class named \"SimpleLinearRegression\" with the following methods and attributes:\n",
    "\n",
    "* get_slope()\n",
    "* get_intercept()\n",
    "* predict(x)\n",
    "* x (list of floats)\n",
    "* y (list of floats)"
   ],
   "metadata": {
    "id": "o205__Y09RrY"
   }
  },
  {
   "cell_type": "code",
   "source": [
    "# First, you can use the matplotlib, numpy, and sklearn modules\n",
    "import matplotlib.pyplot as plt\n",
    "import numpy as np\n",
    "from sklearn.linear_model import LinearRegression\n",
    "\n",
    "class SimpleLinearRegression():  # ax + b = 0\n",
    "  pass\n",
    "\n",
    "\n",
    "# secondly, you can use the least-squares estimation method,\n",
    "# you can find the best-fitting line by calculating\n",
    "# the slope (a) and intercept (b) using these formulas:\n",
    "\n",
    "# Slope (a):\n",
    "# a = (Σ(x*y) - n * mean(x) * mean(y)) / (Σ(x^2) - n * mean(x)^2)\n",
    "\n",
    "# Intercept (b):\n",
    "# b = mean(y) - a * mean(x)\n",
    "\n",
    "\n",
    "def main():\n",
    "  x = [1, 2, 3, 4, 5, 6, 7, 8]\n",
    "  y = [2, 4, 5, 4, 5, 5, 8, 6]\n",
    "\n",
    "  regression = SimpleLinearRegression(x, y)\n",
    "  print('{:.2f}'.format(regression.get_slope()))          # a\n",
    "  print('{:.2f}'.format(regression.get_intercept()))      # b\n",
    "  print('{:.2f}'.format(regression.predict(6)))\n",
    "\n",
    "  regression.show_plot()\n",
    "\n",
    "  # regression2 = SimpleLinearRegression2(x, y)\n",
    "  # print('{:.2f}'.format(regression2.get_slope()))          # a\n",
    "  # print('{:.2f}'.format(regression2.get_intercept()))      # b\n",
    "  # print('{:.2f}'.format(regression2.predict(6)))\n",
    "\n",
    "  # regression2.show_plot()\n",
    "\n",
    "main()"
   ],
   "metadata": {
    "id": "_GMyehYz9Qv-"
   },
   "execution_count": null,
   "outputs": []
  }
 ]
}
