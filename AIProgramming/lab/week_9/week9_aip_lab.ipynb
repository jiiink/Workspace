{
 "nbformat": 4,
 "nbformat_minor": 0,
 "metadata": {
  "colab": {
   "provenance": []
  },
  "kernelspec": {
   "name": "python3",
   "display_name": "Python 3"
  },
  "language_info": {
   "name": "python"
  }
 },
 "cells": [
  {
   "cell_type": "markdown",
   "source": [
    "* Create a class Rectangle with attributes length and width. Implement methods to calculate the area and perimeter.\n",
    "* Extend this class with a subclass named Square. Ensure the Square class correctly calculates the area and perimeter using the properties of a square."
   ],
   "metadata": {
    "id": "iARzVQICNSl0"
   }
  },
  {
   "cell_type": "code",
   "execution_count": null,
   "metadata": {
    "id": "R10Uo5RFNOhB",
    "is_executing": true
   },
   "outputs": [],
   "source": [
    "class Rectangle:\n",
    "    def __init__(self, length, width):\n",
    "        self.__length = length\n",
    "        self.__width = width\n",
    "    def get_area(self):\n",
    "        return self.__width * self.__length\n",
    "    def get_perimeter(self):\n",
    "        return (self.__width + self.__length) * 2\n",
    "\n",
    "class Square(Rectangle):\n",
    "    def __init__(self, length, width):\n",
    "        super().__init__(length, width)\n",
    "        self.__length = length\n",
    "    def get_area(self):\n",
    "        return self.__length ** 2\n",
    "    def get_perimeter(self):\n",
    "        return self.__length * 4\n"
   ]
  },
  {
   "cell_type": "code",
   "source": [
    "def test_rectangle_square():\n",
    "    r = Rectangle(5, 10)\n",
    "    assert r.area() == 50\n",
    "    assert r.perimeter() == 30\n",
    "\n",
    "    s = Square(4)\n",
    "    assert s.area() == 16\n",
    "    assert s.perimeter() == 16\n",
    "\n",
    "test_rectangle_square()"
   ],
   "metadata": {
    "id": "5YmAI5G1OLNM",
    "is_executing": true
   },
   "execution_count": null,
   "outputs": []
  },
  {
   "cell_type": "markdown",
   "source": [
    "Implement a simple greedy algorithm. Given a list of intervals (start, end), select the maximum number of non-overlapping intervals."
   ],
   "metadata": {
    "id": "4MMywJIbNbr5"
   }
  },
  {
   "cell_type": "code",
   "source": [
    "def max_non_overlapping_intervals(intervals):\n",
    "\n"
   ],
   "metadata": {
    "id": "m2iv8AapNcTM"
   },
   "execution_count": null,
   "outputs": []
  },
  {
   "cell_type": "code",
   "source": [
    "def test_max_non_overlapping_intervals():\n",
    "    intervals = [(1,2), (2,3), (3,4), (0,1)]\n",
    "    assert max_non_overlapping_intervals(intervals) == 4\n",
    "\n",
    "    intervals = [(1,2), (2,3), (3,5), (4,5)]\n",
    "    assert max_non_overlapping_intervals(intervals) == 3\n",
    "\n",
    "test_max_non_overlapping_intervals()"
   ],
   "metadata": {
    "id": "PC9c2ripOSIu"
   },
   "execution_count": null,
   "outputs": []
  },
  {
   "cell_type": "markdown",
   "source": [
    "Write a recursive function that computes the nth Fibonacci number. Convert this recursive solution to an iterative one using a loop."
   ],
   "metadata": {
    "id": "4Fd7rneMNc3c"
   }
  },
  {
   "cell_type": "code",
   "source": [
    "def fibonacci_recursive(n):    rows, cols = len(maze), len(maze[0])\n",
    "    visited = [[False for _ in range(cols)] for _ in range(rows)]\n",
    "    queue = deque([start])\n",
    "\n",
    "    while queue:\n",
    "        x, y = queue.popleft()\n",
    "        if (x, y) == end:\n",
    "            return True\n",
    "        for dx, dy in [(1, 0), (-1, 0), (0, 1), (0, -1)]:\n",
    "            nx, ny = x + dx, y + dy\n",
    "            if 0 <= nx < rows and 0 <= ny < cols and not visited[nx][ny] and maze[nx][ny] == 0:\n",
    "                visited[nx][ny] = True\n",
    "                queue.append((nx, ny))\n",
    "    return False\n",
    "\n",
    "\n",
    "def fibonacci_iterative(n):\n",
    "\n",
    "\n",
    "    return b\n"
   ],
   "metadata": {
    "id": "E9NJokX5Nemi"
   },
   "execution_count": null,
   "outputs": []
  },
  {
   "cell_type": "code",
   "source": [
    "def test_fibonacci():\n",
    "    assert fibonacci_recursive(5) == 5\n",
    "    assert fibonacci_iterative(5) == 5\n",
    "\n",
    "    assert fibonacci_recursive(10) == 55\n",
    "    assert fibonacci_iterative(10) == 55\n",
    "\n",
    "test_fibonacci()"
   ],
   "metadata": {
    "id": "klLE-JZDOayP"
   },
   "execution_count": null,
   "outputs": []
  },
  {
   "cell_type": "markdown",
   "source": [
    "Implement a function that calculates the exponential value of a number using both a recursive and an iterative approach."
   ],
   "metadata": {
    "id": "6A0de12fNkcJ"
   }
  },
  {
   "cell_type": "code",
   "source": [
    "def power_recursive(base, exponent):\n",
    "\n",
    "\n",
    "def power_iterative(base, exponent):\n",
    "\n",
    "\n"
   ],
   "metadata": {
    "id": "3McQOEO-Nk-2"
   },
   "execution_count": null,
   "outputs": []
  },
  {
   "cell_type": "code",
   "source": [
    "def test_power():\n",
    "    assert power_recursive(2, 3) == 8\n",
    "    assert power_recursive(3, 2) == 9\n",
    "    assert power_iterative(2, 3) == 8\n",
    "    assert power_iterative(3, 2) == 9\n"
   ],
   "metadata": {
    "id": "meNispZzP2YI"
   },
   "execution_count": null,
   "outputs": []
  },
  {
   "cell_type": "markdown",
   "source": [
    "Implement a Python function that returns the prime factorization of a given number."
   ],
   "metadata": {
    "id": "hS7Y6nlvNe7i"
   }
  },
  {
   "cell_type": "code",
   "source": [
    "def prime_factors(n):\n",
    "\n"
   ],
   "metadata": {
    "id": "FaSoWn6fNgzq"
   },
   "execution_count": null,
   "outputs": []
  },
  {
   "cell_type": "code",
   "source": [
    "def test_prime_factors():\n",
    "    assert prime_factors(315) == [3, 3, 5, 7]\n",
    "    assert prime_factors(28) == [2, 2, 7]\n",
    "    assert prime_factors(19) == [19]\n",
    "\n",
    "test_prime_factors()"
   ],
   "metadata": {
    "id": "4uWRmdApOgY2"
   },
   "execution_count": null,
   "outputs": []
  },
  {
   "cell_type": "markdown",
   "source": [
    "Given an undirected graph in the form of an adjacency list, implement a BFS algorithm to check if a path exists between two nodes."
   ],
   "metadata": {
    "id": "WsPk_819Nm9N"
   }
  },
  {
   "cell_type": "code",
   "source": [
    "from collections import deque\n",
    "\n",
    "def bfs(graph, start, end):\n",
    "\n"
   ],
   "metadata": {
    "id": "FFbEzM1xNnnd"
   },
   "execution_count": null,
   "outputs": []
  },
  {
   "cell_type": "code",
   "source": [
    "def test_bfs():\n",
    "    graph = {\n",
    "        'A': ['B', 'C'],\n",
    "        'B': ['A', 'D'],\n",
    "        'C': ['A', 'D'],\n",
    "        'D': ['B', 'C']\n",
    "    }\n",
    "    assert bfs(graph, 'A', 'D') == True\n",
    "    assert bfs(graph, 'A', 'E') == False\n"
   ],
   "metadata": {
    "id": "i7Q_SSm-P5uV"
   },
   "execution_count": null,
   "outputs": []
  },
  {
   "cell_type": "markdown",
   "source": [
    "Given a starting point, implement a Breadth-First Search (BFS) algorithm to find a path to the goal in a simple maze (2D matrix with no loops)."
   ],
   "metadata": {
    "id": "fVwo16bHNpKE"
   }
  },
  {
   "cell_type": "code",
   "source": [
    "def bfs_maze(maze, start, end):\n",
    "\n"
   ],
   "metadata": {
    "id": "8wcAFg54NpjV"
   },
   "execution_count": null,
   "outputs": []
  },
  {
   "cell_type": "code",
   "source": [
    "    rows, cols = len(maze), len(maze[0])\n",
    "    visited = [[False for _ in range(cols)] for _ in range(rows)]\n",
    "    queue = deque([start])\n",
    "\n",
    "    while queue:\n",
    "        x, y = queue.popleft()\n",
    "        if (x, y) == end:\n",
    "            return True\n",
    "        for dx, dy in [(1, 0), (-1, 0), (0, 1), (0, -1)]:\n",
    "            nx, ny = x + dx, y + dy\n",
    "            if 0 <= nx < rows and 0 <= ny < cols and not visited[nx][ny] and maze[nx][ny] == 0:\n",
    "                visited[nx][ny] = True\n",
    "                queue.append((nx, ny))\n",
    "    return Falsedef test_bfs_maze():\n",
    "    maze = [\n",
    "        [0, 1, 0, 0, 0],\n",
    "        [0, 1, 0, 1, 0],\n",
    "        [0, 0, 0, 0, 0],\n",
    "        [0, 1, 1, 1, 1],\n",
    "        [0, 0, 0, 0, 0]\n",
    "    ]\n",
    "    assert bfs_maze(maze, (0, 0), (4, 4)) == True\n",
    "    assert bfs_maze(maze, (0, 0), (3, 3)) == False\n"
   ],
   "metadata": {
    "id": "a4UEFN2CQA9U"
   },
   "execution_count": null,
   "outputs": []
  }
 ]
}
