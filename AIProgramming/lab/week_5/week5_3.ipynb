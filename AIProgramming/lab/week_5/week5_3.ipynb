{
 "nbformat": 4,
 "nbformat_minor": 0,
 "metadata": {
  "colab": {
   "provenance": [],
   "toc_visible": true
  },
  "kernelspec": {
   "name": "python3",
   "language": "python",
   "display_name": "Python 3 (ipykernel)"
  },
  "language_info": {
   "name": "python"
  }
 },
 "cells": [
  {
   "cell_type": "markdown",
   "source": [
    "# Pandas"
   ],
   "metadata": {
    "id": "ZYJeA4fpcGNk"
   }
  },
  {
   "cell_type": "markdown",
   "source": [
    "## 0. Prerequisite"
   ],
   "metadata": {
    "id": "0AZqhmeccW7p"
   }
  },
  {
   "cell_type": "code",
   "source": [
    "from google.colab import drive\n",
    "\n",
    "drive.mount('/content/gdrive/', force_remount=True)\n"
   ],
   "metadata": {
    "colab": {
     "base_uri": "https://localhost:8080/"
    },
    "id": "ZDeM7aGRQfp2",
    "outputId": "3a83e5d3-748a-4fe1-d31b-8ca04da98bbe"
   },
   "execution_count": null,
   "outputs": [
    {
     "output_type": "stream",
     "name": "stdout",
     "text": [
      "Mounted at /content/gdrive/\n"
     ]
    }
   ]
  },
  {
   "cell_type": "code",
   "source": [
    "!cat /content/gdrive/MyDrive/UN.txt"
   ],
   "metadata": {
    "id": "1ECWxFCy1fQf"
   },
   "execution_count": null,
   "outputs": []
  },
  {
   "cell_type": "markdown",
   "source": [
    "## 1. Data Import\n",
    "\n"
   ],
   "metadata": {
    "id": "AL3MoBZO5NpL"
   }
  },
  {
   "cell_type": "code",
   "source": [
    "import pandas as pd\n",
    "\n",
    "# https://pandas.pydata.org/docs/reference/api/pandas.read_csv.html\n",
    "fileName = 'AIP_05_Data Processing and File Access_data/UN.txt'\n",
    "df = pd.read_csv(fileName, header=None, names=['Country', 'Continent', 'Population', 'Area'])\n",
    "df.head()"
   ],
   "metadata": {
    "colab": {
     "base_uri": "https://localhost:8080/",
     "height": 206
    },
    "id": "M3ABCUJiIqOC",
    "outputId": "8d1376ef-cc57-4958-944e-08dd688f2bf8",
    "ExecuteTime": {
     "end_time": "2023-10-21T11:04:49.285080Z",
     "start_time": "2023-10-21T11:04:49.245545Z"
    }
   },
   "execution_count": 5,
   "outputs": [
    {
     "data": {
      "text/plain": "       Country Continent  Population      Area\n0  Afghanistan      Asia      31.800  251772.0\n1      Albania    Europe       3.000   11100.0\n2      Algeria    Africa      38.300  919595.0\n3      Andorra    Europe       0.085     181.0\n4       Angola    Africa      19.100  481354.0",
      "text/html": "<div>\n<style scoped>\n    .dataframe tbody tr th:only-of-type {\n        vertical-align: middle;\n    }\n\n    .dataframe tbody tr th {\n        vertical-align: top;\n    }\n\n    .dataframe thead th {\n        text-align: right;\n    }\n</style>\n<table border=\"1\" class=\"dataframe\">\n  <thead>\n    <tr style=\"text-align: right;\">\n      <th></th>\n      <th>Country</th>\n      <th>Continent</th>\n      <th>Population</th>\n      <th>Area</th>\n    </tr>\n  </thead>\n  <tbody>\n    <tr>\n      <th>0</th>\n      <td>Afghanistan</td>\n      <td>Asia</td>\n      <td>31.800</td>\n      <td>251772.0</td>\n    </tr>\n    <tr>\n      <th>1</th>\n      <td>Albania</td>\n      <td>Europe</td>\n      <td>3.000</td>\n      <td>11100.0</td>\n    </tr>\n    <tr>\n      <th>2</th>\n      <td>Algeria</td>\n      <td>Africa</td>\n      <td>38.300</td>\n      <td>919595.0</td>\n    </tr>\n    <tr>\n      <th>3</th>\n      <td>Andorra</td>\n      <td>Europe</td>\n      <td>0.085</td>\n      <td>181.0</td>\n    </tr>\n    <tr>\n      <th>4</th>\n      <td>Angola</td>\n      <td>Africa</td>\n      <td>19.100</td>\n      <td>481354.0</td>\n    </tr>\n  </tbody>\n</table>\n</div>"
     },
     "execution_count": 5,
     "metadata": {},
     "output_type": "execute_result"
    }
   ]
  },
  {
   "cell_type": "code",
   "source": [
    "df = pd.read_csv('https://raw.githubusercontent.com/agconti/kaggle-titanic/master/data/train.csv')\n",
    "df.head()"
   ],
   "metadata": {
    "id": "SBUQ1WRTc1Nz",
    "colab": {
     "base_uri": "https://localhost:8080/",
     "height": 389
    },
    "outputId": "7147a837-3f6d-4136-d98b-e2fbcf7b3df0",
    "ExecuteTime": {
     "end_time": "2023-10-21T11:04:54.138496Z",
     "start_time": "2023-10-21T11:04:53.684943Z"
    }
   },
   "execution_count": 6,
   "outputs": [
    {
     "data": {
      "text/plain": "   PassengerId  Survived  Pclass  \\\n0            1         0       3   \n1            2         1       1   \n2            3         1       3   \n3            4         1       1   \n4            5         0       3   \n\n                                                Name     Sex   Age  SibSp  \\\n0                            Braund, Mr. Owen Harris    male  22.0      1   \n1  Cumings, Mrs. John Bradley (Florence Briggs Th...  female  38.0      1   \n2                             Heikkinen, Miss. Laina  female  26.0      0   \n3       Futrelle, Mrs. Jacques Heath (Lily May Peel)  female  35.0      1   \n4                           Allen, Mr. William Henry    male  35.0      0   \n\n   Parch            Ticket     Fare Cabin Embarked  \n0      0         A/5 21171   7.2500   NaN        S  \n1      0          PC 17599  71.2833   C85        C  \n2      0  STON/O2. 3101282   7.9250   NaN        S  \n3      0            113803  53.1000  C123        S  \n4      0            373450   8.0500   NaN        S  ",
      "text/html": "<div>\n<style scoped>\n    .dataframe tbody tr th:only-of-type {\n        vertical-align: middle;\n    }\n\n    .dataframe tbody tr th {\n        vertical-align: top;\n    }\n\n    .dataframe thead th {\n        text-align: right;\n    }\n</style>\n<table border=\"1\" class=\"dataframe\">\n  <thead>\n    <tr style=\"text-align: right;\">\n      <th></th>\n      <th>PassengerId</th>\n      <th>Survived</th>\n      <th>Pclass</th>\n      <th>Name</th>\n      <th>Sex</th>\n      <th>Age</th>\n      <th>SibSp</th>\n      <th>Parch</th>\n      <th>Ticket</th>\n      <th>Fare</th>\n      <th>Cabin</th>\n      <th>Embarked</th>\n    </tr>\n  </thead>\n  <tbody>\n    <tr>\n      <th>0</th>\n      <td>1</td>\n      <td>0</td>\n      <td>3</td>\n      <td>Braund, Mr. Owen Harris</td>\n      <td>male</td>\n      <td>22.0</td>\n      <td>1</td>\n      <td>0</td>\n      <td>A/5 21171</td>\n      <td>7.2500</td>\n      <td>NaN</td>\n      <td>S</td>\n    </tr>\n    <tr>\n      <th>1</th>\n      <td>2</td>\n      <td>1</td>\n      <td>1</td>\n      <td>Cumings, Mrs. John Bradley (Florence Briggs Th...</td>\n      <td>female</td>\n      <td>38.0</td>\n      <td>1</td>\n      <td>0</td>\n      <td>PC 17599</td>\n      <td>71.2833</td>\n      <td>C85</td>\n      <td>C</td>\n    </tr>\n    <tr>\n      <th>2</th>\n      <td>3</td>\n      <td>1</td>\n      <td>3</td>\n      <td>Heikkinen, Miss. Laina</td>\n      <td>female</td>\n      <td>26.0</td>\n      <td>0</td>\n      <td>0</td>\n      <td>STON/O2. 3101282</td>\n      <td>7.9250</td>\n      <td>NaN</td>\n      <td>S</td>\n    </tr>\n    <tr>\n      <th>3</th>\n      <td>4</td>\n      <td>1</td>\n      <td>1</td>\n      <td>Futrelle, Mrs. Jacques Heath (Lily May Peel)</td>\n      <td>female</td>\n      <td>35.0</td>\n      <td>1</td>\n      <td>0</td>\n      <td>113803</td>\n      <td>53.1000</td>\n      <td>C123</td>\n      <td>S</td>\n    </tr>\n    <tr>\n      <th>4</th>\n      <td>5</td>\n      <td>0</td>\n      <td>3</td>\n      <td>Allen, Mr. William Henry</td>\n      <td>male</td>\n      <td>35.0</td>\n      <td>0</td>\n      <td>0</td>\n      <td>373450</td>\n      <td>8.0500</td>\n      <td>NaN</td>\n      <td>S</td>\n    </tr>\n  </tbody>\n</table>\n</div>"
     },
     "execution_count": 6,
     "metadata": {},
     "output_type": "execute_result"
    }
   ]
  },
  {
   "cell_type": "code",
   "source": [
    "lst = pd.read_html('https://docs.python.org/3/library/operator.html')\n",
    "for df in lst:\n",
    "  print(df.head())\n",
    "\n",
    "df = lst[0]\n",
    "df.head()"
   ],
   "metadata": {
    "colab": {
     "base_uri": "https://localhost:8080/",
     "height": 316
    },
    "id": "2gd1k6dp4y_-",
    "outputId": "3c60bcc8-0ffa-43fa-fd0b-1c72af71faed",
    "ExecuteTime": {
     "end_time": "2023-10-21T11:05:28.194395Z",
     "start_time": "2023-10-21T11:05:28.049259Z"
    }
   },
   "execution_count": 7,
   "outputs": [
    {
     "ename": "ImportError",
     "evalue": "Missing optional dependency 'lxml'.  Use pip or conda to install lxml.",
     "output_type": "error",
     "traceback": [
      "\u001B[0;31m---------------------------------------------------------------------------\u001B[0m",
      "\u001B[0;31mModuleNotFoundError\u001B[0m                       Traceback (most recent call last)",
      "File \u001B[0;32m~/Workspace/AIProgramming/venv/lib/python3.9/site-packages/pandas/compat/_optional.py:132\u001B[0m, in \u001B[0;36mimport_optional_dependency\u001B[0;34m(name, extra, errors, min_version)\u001B[0m\n\u001B[1;32m    131\u001B[0m \u001B[38;5;28;01mtry\u001B[39;00m:\n\u001B[0;32m--> 132\u001B[0m     module \u001B[38;5;241m=\u001B[39m \u001B[43mimportlib\u001B[49m\u001B[38;5;241;43m.\u001B[39;49m\u001B[43mimport_module\u001B[49m\u001B[43m(\u001B[49m\u001B[43mname\u001B[49m\u001B[43m)\u001B[49m\n\u001B[1;32m    133\u001B[0m \u001B[38;5;28;01mexcept\u001B[39;00m \u001B[38;5;167;01mImportError\u001B[39;00m:\n",
      "File \u001B[0;32m/Library/Developer/CommandLineTools/Library/Frameworks/Python3.framework/Versions/3.9/lib/python3.9/importlib/__init__.py:127\u001B[0m, in \u001B[0;36mimport_module\u001B[0;34m(name, package)\u001B[0m\n\u001B[1;32m    126\u001B[0m         level \u001B[38;5;241m+\u001B[39m\u001B[38;5;241m=\u001B[39m \u001B[38;5;241m1\u001B[39m\n\u001B[0;32m--> 127\u001B[0m \u001B[38;5;28;01mreturn\u001B[39;00m \u001B[43m_bootstrap\u001B[49m\u001B[38;5;241;43m.\u001B[39;49m\u001B[43m_gcd_import\u001B[49m\u001B[43m(\u001B[49m\u001B[43mname\u001B[49m\u001B[43m[\u001B[49m\u001B[43mlevel\u001B[49m\u001B[43m:\u001B[49m\u001B[43m]\u001B[49m\u001B[43m,\u001B[49m\u001B[43m \u001B[49m\u001B[43mpackage\u001B[49m\u001B[43m,\u001B[49m\u001B[43m \u001B[49m\u001B[43mlevel\u001B[49m\u001B[43m)\u001B[49m\n",
      "File \u001B[0;32m<frozen importlib._bootstrap>:1030\u001B[0m, in \u001B[0;36m_gcd_import\u001B[0;34m(name, package, level)\u001B[0m\n",
      "File \u001B[0;32m<frozen importlib._bootstrap>:1007\u001B[0m, in \u001B[0;36m_find_and_load\u001B[0;34m(name, import_)\u001B[0m\n",
      "File \u001B[0;32m<frozen importlib._bootstrap>:972\u001B[0m, in \u001B[0;36m_find_and_load_unlocked\u001B[0;34m(name, import_)\u001B[0m\n",
      "File \u001B[0;32m<frozen importlib._bootstrap>:228\u001B[0m, in \u001B[0;36m_call_with_frames_removed\u001B[0;34m(f, *args, **kwds)\u001B[0m\n",
      "File \u001B[0;32m<frozen importlib._bootstrap>:1030\u001B[0m, in \u001B[0;36m_gcd_import\u001B[0;34m(name, package, level)\u001B[0m\n",
      "File \u001B[0;32m<frozen importlib._bootstrap>:1007\u001B[0m, in \u001B[0;36m_find_and_load\u001B[0;34m(name, import_)\u001B[0m\n",
      "File \u001B[0;32m<frozen importlib._bootstrap>:984\u001B[0m, in \u001B[0;36m_find_and_load_unlocked\u001B[0;34m(name, import_)\u001B[0m\n",
      "\u001B[0;31mModuleNotFoundError\u001B[0m: No module named 'lxml'",
      "\nDuring handling of the above exception, another exception occurred:\n",
      "\u001B[0;31mImportError\u001B[0m                               Traceback (most recent call last)",
      "Cell \u001B[0;32mIn[7], line 1\u001B[0m\n\u001B[0;32m----> 1\u001B[0m lst \u001B[38;5;241m=\u001B[39m \u001B[43mpd\u001B[49m\u001B[38;5;241;43m.\u001B[39;49m\u001B[43mread_html\u001B[49m\u001B[43m(\u001B[49m\u001B[38;5;124;43m'\u001B[39;49m\u001B[38;5;124;43mhttps://docs.python.org/3/library/operator.html\u001B[39;49m\u001B[38;5;124;43m'\u001B[39;49m\u001B[43m)\u001B[49m\n\u001B[1;32m      2\u001B[0m \u001B[38;5;28;01mfor\u001B[39;00m df \u001B[38;5;129;01min\u001B[39;00m lst:\n\u001B[1;32m      3\u001B[0m   \u001B[38;5;28mprint\u001B[39m(df\u001B[38;5;241m.\u001B[39mhead())\n",
      "File \u001B[0;32m~/Workspace/AIProgramming/venv/lib/python3.9/site-packages/pandas/io/html.py:1245\u001B[0m, in \u001B[0;36mread_html\u001B[0;34m(io, match, flavor, header, index_col, skiprows, attrs, parse_dates, thousands, encoding, decimal, converters, na_values, keep_default_na, displayed_only, extract_links, dtype_backend, storage_options)\u001B[0m\n\u001B[1;32m   1229\u001B[0m \u001B[38;5;28;01mif\u001B[39;00m \u001B[38;5;28misinstance\u001B[39m(io, \u001B[38;5;28mstr\u001B[39m) \u001B[38;5;129;01mand\u001B[39;00m \u001B[38;5;129;01mnot\u001B[39;00m \u001B[38;5;28many\u001B[39m(\n\u001B[1;32m   1230\u001B[0m     [\n\u001B[1;32m   1231\u001B[0m         is_file_like(io),\n\u001B[0;32m   (...)\u001B[0m\n\u001B[1;32m   1235\u001B[0m     ]\n\u001B[1;32m   1236\u001B[0m ):\n\u001B[1;32m   1237\u001B[0m     warnings\u001B[38;5;241m.\u001B[39mwarn(\n\u001B[1;32m   1238\u001B[0m         \u001B[38;5;124m\"\u001B[39m\u001B[38;5;124mPassing literal html to \u001B[39m\u001B[38;5;124m'\u001B[39m\u001B[38;5;124mread_html\u001B[39m\u001B[38;5;124m'\u001B[39m\u001B[38;5;124m is deprecated and \u001B[39m\u001B[38;5;124m\"\u001B[39m\n\u001B[1;32m   1239\u001B[0m         \u001B[38;5;124m\"\u001B[39m\u001B[38;5;124mwill be removed in a future version. To read from a \u001B[39m\u001B[38;5;124m\"\u001B[39m\n\u001B[0;32m   (...)\u001B[0m\n\u001B[1;32m   1242\u001B[0m         stacklevel\u001B[38;5;241m=\u001B[39mfind_stack_level(),\n\u001B[1;32m   1243\u001B[0m     )\n\u001B[0;32m-> 1245\u001B[0m \u001B[38;5;28;01mreturn\u001B[39;00m \u001B[43m_parse\u001B[49m\u001B[43m(\u001B[49m\n\u001B[1;32m   1246\u001B[0m \u001B[43m    \u001B[49m\u001B[43mflavor\u001B[49m\u001B[38;5;241;43m=\u001B[39;49m\u001B[43mflavor\u001B[49m\u001B[43m,\u001B[49m\n\u001B[1;32m   1247\u001B[0m \u001B[43m    \u001B[49m\u001B[43mio\u001B[49m\u001B[38;5;241;43m=\u001B[39;49m\u001B[43mio\u001B[49m\u001B[43m,\u001B[49m\n\u001B[1;32m   1248\u001B[0m \u001B[43m    \u001B[49m\u001B[43mmatch\u001B[49m\u001B[38;5;241;43m=\u001B[39;49m\u001B[43mmatch\u001B[49m\u001B[43m,\u001B[49m\n\u001B[1;32m   1249\u001B[0m \u001B[43m    \u001B[49m\u001B[43mheader\u001B[49m\u001B[38;5;241;43m=\u001B[39;49m\u001B[43mheader\u001B[49m\u001B[43m,\u001B[49m\n\u001B[1;32m   1250\u001B[0m \u001B[43m    \u001B[49m\u001B[43mindex_col\u001B[49m\u001B[38;5;241;43m=\u001B[39;49m\u001B[43mindex_col\u001B[49m\u001B[43m,\u001B[49m\n\u001B[1;32m   1251\u001B[0m \u001B[43m    \u001B[49m\u001B[43mskiprows\u001B[49m\u001B[38;5;241;43m=\u001B[39;49m\u001B[43mskiprows\u001B[49m\u001B[43m,\u001B[49m\n\u001B[1;32m   1252\u001B[0m \u001B[43m    \u001B[49m\u001B[43mparse_dates\u001B[49m\u001B[38;5;241;43m=\u001B[39;49m\u001B[43mparse_dates\u001B[49m\u001B[43m,\u001B[49m\n\u001B[1;32m   1253\u001B[0m \u001B[43m    \u001B[49m\u001B[43mthousands\u001B[49m\u001B[38;5;241;43m=\u001B[39;49m\u001B[43mthousands\u001B[49m\u001B[43m,\u001B[49m\n\u001B[1;32m   1254\u001B[0m \u001B[43m    \u001B[49m\u001B[43mattrs\u001B[49m\u001B[38;5;241;43m=\u001B[39;49m\u001B[43mattrs\u001B[49m\u001B[43m,\u001B[49m\n\u001B[1;32m   1255\u001B[0m \u001B[43m    \u001B[49m\u001B[43mencoding\u001B[49m\u001B[38;5;241;43m=\u001B[39;49m\u001B[43mencoding\u001B[49m\u001B[43m,\u001B[49m\n\u001B[1;32m   1256\u001B[0m \u001B[43m    \u001B[49m\u001B[43mdecimal\u001B[49m\u001B[38;5;241;43m=\u001B[39;49m\u001B[43mdecimal\u001B[49m\u001B[43m,\u001B[49m\n\u001B[1;32m   1257\u001B[0m \u001B[43m    \u001B[49m\u001B[43mconverters\u001B[49m\u001B[38;5;241;43m=\u001B[39;49m\u001B[43mconverters\u001B[49m\u001B[43m,\u001B[49m\n\u001B[1;32m   1258\u001B[0m \u001B[43m    \u001B[49m\u001B[43mna_values\u001B[49m\u001B[38;5;241;43m=\u001B[39;49m\u001B[43mna_values\u001B[49m\u001B[43m,\u001B[49m\n\u001B[1;32m   1259\u001B[0m \u001B[43m    \u001B[49m\u001B[43mkeep_default_na\u001B[49m\u001B[38;5;241;43m=\u001B[39;49m\u001B[43mkeep_default_na\u001B[49m\u001B[43m,\u001B[49m\n\u001B[1;32m   1260\u001B[0m \u001B[43m    \u001B[49m\u001B[43mdisplayed_only\u001B[49m\u001B[38;5;241;43m=\u001B[39;49m\u001B[43mdisplayed_only\u001B[49m\u001B[43m,\u001B[49m\n\u001B[1;32m   1261\u001B[0m \u001B[43m    \u001B[49m\u001B[43mextract_links\u001B[49m\u001B[38;5;241;43m=\u001B[39;49m\u001B[43mextract_links\u001B[49m\u001B[43m,\u001B[49m\n\u001B[1;32m   1262\u001B[0m \u001B[43m    \u001B[49m\u001B[43mdtype_backend\u001B[49m\u001B[38;5;241;43m=\u001B[39;49m\u001B[43mdtype_backend\u001B[49m\u001B[43m,\u001B[49m\n\u001B[1;32m   1263\u001B[0m \u001B[43m    \u001B[49m\u001B[43mstorage_options\u001B[49m\u001B[38;5;241;43m=\u001B[39;49m\u001B[43mstorage_options\u001B[49m\u001B[43m,\u001B[49m\n\u001B[1;32m   1264\u001B[0m \u001B[43m\u001B[49m\u001B[43m)\u001B[49m\n",
      "File \u001B[0;32m~/Workspace/AIProgramming/venv/lib/python3.9/site-packages/pandas/io/html.py:976\u001B[0m, in \u001B[0;36m_parse\u001B[0;34m(flavor, io, match, attrs, encoding, displayed_only, extract_links, storage_options, **kwargs)\u001B[0m\n\u001B[1;32m    974\u001B[0m retained \u001B[38;5;241m=\u001B[39m \u001B[38;5;28;01mNone\u001B[39;00m\n\u001B[1;32m    975\u001B[0m \u001B[38;5;28;01mfor\u001B[39;00m flav \u001B[38;5;129;01min\u001B[39;00m flavor:\n\u001B[0;32m--> 976\u001B[0m     parser \u001B[38;5;241m=\u001B[39m \u001B[43m_parser_dispatch\u001B[49m\u001B[43m(\u001B[49m\u001B[43mflav\u001B[49m\u001B[43m)\u001B[49m\n\u001B[1;32m    977\u001B[0m     p \u001B[38;5;241m=\u001B[39m parser(\n\u001B[1;32m    978\u001B[0m         io,\n\u001B[1;32m    979\u001B[0m         compiled_match,\n\u001B[0;32m   (...)\u001B[0m\n\u001B[1;32m    984\u001B[0m         storage_options,\n\u001B[1;32m    985\u001B[0m     )\n\u001B[1;32m    987\u001B[0m     \u001B[38;5;28;01mtry\u001B[39;00m:\n",
      "File \u001B[0;32m~/Workspace/AIProgramming/venv/lib/python3.9/site-packages/pandas/io/html.py:923\u001B[0m, in \u001B[0;36m_parser_dispatch\u001B[0;34m(flavor)\u001B[0m\n\u001B[1;32m    921\u001B[0m     import_optional_dependency(\u001B[38;5;124m\"\u001B[39m\u001B[38;5;124mbs4\u001B[39m\u001B[38;5;124m\"\u001B[39m)\n\u001B[1;32m    922\u001B[0m \u001B[38;5;28;01melse\u001B[39;00m:\n\u001B[0;32m--> 923\u001B[0m     \u001B[43mimport_optional_dependency\u001B[49m\u001B[43m(\u001B[49m\u001B[38;5;124;43m\"\u001B[39;49m\u001B[38;5;124;43mlxml.etree\u001B[39;49m\u001B[38;5;124;43m\"\u001B[39;49m\u001B[43m)\u001B[49m\n\u001B[1;32m    924\u001B[0m \u001B[38;5;28;01mreturn\u001B[39;00m _valid_parsers[flavor]\n",
      "File \u001B[0;32m~/Workspace/AIProgramming/venv/lib/python3.9/site-packages/pandas/compat/_optional.py:135\u001B[0m, in \u001B[0;36mimport_optional_dependency\u001B[0;34m(name, extra, errors, min_version)\u001B[0m\n\u001B[1;32m    133\u001B[0m \u001B[38;5;28;01mexcept\u001B[39;00m \u001B[38;5;167;01mImportError\u001B[39;00m:\n\u001B[1;32m    134\u001B[0m     \u001B[38;5;28;01mif\u001B[39;00m errors \u001B[38;5;241m==\u001B[39m \u001B[38;5;124m\"\u001B[39m\u001B[38;5;124mraise\u001B[39m\u001B[38;5;124m\"\u001B[39m:\n\u001B[0;32m--> 135\u001B[0m         \u001B[38;5;28;01mraise\u001B[39;00m \u001B[38;5;167;01mImportError\u001B[39;00m(msg)\n\u001B[1;32m    136\u001B[0m     \u001B[38;5;28;01mreturn\u001B[39;00m \u001B[38;5;28;01mNone\u001B[39;00m\n\u001B[1;32m    138\u001B[0m \u001B[38;5;66;03m# Handle submodules: if we have submodule, grab parent module from sys.modules\u001B[39;00m\n",
      "\u001B[0;31mImportError\u001B[0m: Missing optional dependency 'lxml'.  Use pip or conda to install lxml."
     ]
    }
   ]
  },
  {
   "cell_type": "code",
   "source": [
    "!pip install SQLAlchemy"
   ],
   "metadata": {
    "colab": {
     "base_uri": "https://localhost:8080/"
    },
    "id": "fGBf0Msxh3c9",
    "outputId": "af857a25-44b9-463d-c5a1-4db19aa52270"
   },
   "execution_count": null,
   "outputs": [
    {
     "output_type": "stream",
     "name": "stdout",
     "text": [
      "Looking in indexes: https://pypi.org/simple, https://us-python.pkg.dev/colab-wheels/public/simple/\n",
      "Requirement already satisfied: SQLAlchemy in /usr/local/lib/python3.9/dist-packages (2.0.9)\n",
      "Requirement already satisfied: greenlet!=0.4.17 in /usr/local/lib/python3.9/dist-packages (from SQLAlchemy) (2.0.2)\n",
      "Requirement already satisfied: typing-extensions>=4.2.0 in /usr/local/lib/python3.9/dist-packages (from SQLAlchemy) (4.5.0)\n"
     ]
    }
   ]
  },
  {
   "cell_type": "code",
   "source": [
    "import sqlalchemy\n",
    "\n",
    "url = 'YOUR MYSQL URL'\n",
    "engine = sqlalchemy.create_engine(url)\n",
    "\n",
    "from sqlalchemy.sql import text\n",
    "sql = '''\n",
    "    SELECT * FROM titanic;\n",
    "'''\n",
    "with engine.connect() as conn:\n",
    "    query = conn.execute(text(sql))\n",
    "df = pd.DataFrame(query.fetchall())\n",
    "df"
   ],
   "metadata": {
    "colab": {
     "base_uri": "https://localhost:8080/",
     "height": 606
    },
    "id": "SJr9ADmih9rY",
    "outputId": "2d91ea24-5d13-4a34-db6a-9b7bb9ca9548"
   },
   "execution_count": null,
   "outputs": [
    {
     "output_type": "execute_result",
     "data": {
      "text/plain": [
       "     PassengerId  Survived  Pclass  \\\n",
       "0              1         0       3   \n",
       "1              2         1       1   \n",
       "2              3         1       3   \n",
       "3              4         1       1   \n",
       "4              5         0       3   \n",
       "..           ...       ...     ...   \n",
       "886          887         0       2   \n",
       "887          888         1       1   \n",
       "888          889         0       3   \n",
       "889          890         1       1   \n",
       "890          891         0       3   \n",
       "\n",
       "                                                  Name     Sex  Age  SibSp  \\\n",
       "0                              Braund, Mr. Owen Harris    male   22      1   \n",
       "1    Cumings, Mrs. John Bradley (Florence Briggs Th...  female   38      1   \n",
       "2                               Heikkinen, Miss. Laina  female   26      0   \n",
       "3         Futrelle, Mrs. Jacques Heath (Lily May Peel)  female   35      1   \n",
       "4                             Allen, Mr. William Henry    male   35      0   \n",
       "..                                                 ...     ...  ...    ...   \n",
       "886                              Montvila, Rev. Juozas    male   27      0   \n",
       "887                       Graham, Miss. Margaret Edith  female   19      0   \n",
       "888         Johnston, Miss. Catherine Helen \"Carrie\"\"\"  female    0      1   \n",
       "889                              Behr, Mr. Karl Howell    male   26      0   \n",
       "890                                Dooley, Mr. Patrick    male   32      0   \n",
       "\n",
       "     Parch            Ticket     Fare Cabin Embarked  \n",
       "0        0         A/5 21171   7.2500              S  \n",
       "1        0          PC 17599  71.2833   C85        C  \n",
       "2        0  STON/O2. 3101282   7.9250              S  \n",
       "3        0            113803  53.1000  C123        S  \n",
       "4        0            373450   8.0500              S  \n",
       "..     ...               ...      ...   ...      ...  \n",
       "886      0            211536  13.0000              S  \n",
       "887      0            112053  30.0000   B42        S  \n",
       "888      2        W./C. 6607  23.4500              S  \n",
       "889      0            111369  30.0000  C148        C  \n",
       "890      0            370376   7.7500              Q  \n",
       "\n",
       "[891 rows x 12 columns]"
      ],
      "text/html": [
       "\n",
       "  <div id=\"df-8a970fa7-1e60-48e4-8696-71d463d19df6\">\n",
       "    <div class=\"colab-df-container\">\n",
       "      <div>\n",
       "<style scoped>\n",
       "    .dataframe tbody tr th:only-of-type {\n",
       "        vertical-align: middle;\n",
       "    }\n",
       "\n",
       "    .dataframe tbody tr th {\n",
       "        vertical-align: top;\n",
       "    }\n",
       "\n",
       "    .dataframe thead th {\n",
       "        text-align: right;\n",
       "    }\n",
       "</style>\n",
       "<table border=\"1\" class=\"dataframe\">\n",
       "  <thead>\n",
       "    <tr style=\"text-align: right;\">\n",
       "      <th></th>\n",
       "      <th>PassengerId</th>\n",
       "      <th>Survived</th>\n",
       "      <th>Pclass</th>\n",
       "      <th>Name</th>\n",
       "      <th>Sex</th>\n",
       "      <th>Age</th>\n",
       "      <th>SibSp</th>\n",
       "      <th>Parch</th>\n",
       "      <th>Ticket</th>\n",
       "      <th>Fare</th>\n",
       "      <th>Cabin</th>\n",
       "      <th>Embarked</th>\n",
       "    </tr>\n",
       "  </thead>\n",
       "  <tbody>\n",
       "    <tr>\n",
       "      <th>0</th>\n",
       "      <td>1</td>\n",
       "      <td>0</td>\n",
       "      <td>3</td>\n",
       "      <td>Braund, Mr. Owen Harris</td>\n",
       "      <td>male</td>\n",
       "      <td>22</td>\n",
       "      <td>1</td>\n",
       "      <td>0</td>\n",
       "      <td>A/5 21171</td>\n",
       "      <td>7.2500</td>\n",
       "      <td></td>\n",
       "      <td>S</td>\n",
       "    </tr>\n",
       "    <tr>\n",
       "      <th>1</th>\n",
       "      <td>2</td>\n",
       "      <td>1</td>\n",
       "      <td>1</td>\n",
       "      <td>Cumings, Mrs. John Bradley (Florence Briggs Th...</td>\n",
       "      <td>female</td>\n",
       "      <td>38</td>\n",
       "      <td>1</td>\n",
       "      <td>0</td>\n",
       "      <td>PC 17599</td>\n",
       "      <td>71.2833</td>\n",
       "      <td>C85</td>\n",
       "      <td>C</td>\n",
       "    </tr>\n",
       "    <tr>\n",
       "      <th>2</th>\n",
       "      <td>3</td>\n",
       "      <td>1</td>\n",
       "      <td>3</td>\n",
       "      <td>Heikkinen, Miss. Laina</td>\n",
       "      <td>female</td>\n",
       "      <td>26</td>\n",
       "      <td>0</td>\n",
       "      <td>0</td>\n",
       "      <td>STON/O2. 3101282</td>\n",
       "      <td>7.9250</td>\n",
       "      <td></td>\n",
       "      <td>S</td>\n",
       "    </tr>\n",
       "    <tr>\n",
       "      <th>3</th>\n",
       "      <td>4</td>\n",
       "      <td>1</td>\n",
       "      <td>1</td>\n",
       "      <td>Futrelle, Mrs. Jacques Heath (Lily May Peel)</td>\n",
       "      <td>female</td>\n",
       "      <td>35</td>\n",
       "      <td>1</td>\n",
       "      <td>0</td>\n",
       "      <td>113803</td>\n",
       "      <td>53.1000</td>\n",
       "      <td>C123</td>\n",
       "      <td>S</td>\n",
       "    </tr>\n",
       "    <tr>\n",
       "      <th>4</th>\n",
       "      <td>5</td>\n",
       "      <td>0</td>\n",
       "      <td>3</td>\n",
       "      <td>Allen, Mr. William Henry</td>\n",
       "      <td>male</td>\n",
       "      <td>35</td>\n",
       "      <td>0</td>\n",
       "      <td>0</td>\n",
       "      <td>373450</td>\n",
       "      <td>8.0500</td>\n",
       "      <td></td>\n",
       "      <td>S</td>\n",
       "    </tr>\n",
       "    <tr>\n",
       "      <th>...</th>\n",
       "      <td>...</td>\n",
       "      <td>...</td>\n",
       "      <td>...</td>\n",
       "      <td>...</td>\n",
       "      <td>...</td>\n",
       "      <td>...</td>\n",
       "      <td>...</td>\n",
       "      <td>...</td>\n",
       "      <td>...</td>\n",
       "      <td>...</td>\n",
       "      <td>...</td>\n",
       "      <td>...</td>\n",
       "    </tr>\n",
       "    <tr>\n",
       "      <th>886</th>\n",
       "      <td>887</td>\n",
       "      <td>0</td>\n",
       "      <td>2</td>\n",
       "      <td>Montvila, Rev. Juozas</td>\n",
       "      <td>male</td>\n",
       "      <td>27</td>\n",
       "      <td>0</td>\n",
       "      <td>0</td>\n",
       "      <td>211536</td>\n",
       "      <td>13.0000</td>\n",
       "      <td></td>\n",
       "      <td>S</td>\n",
       "    </tr>\n",
       "    <tr>\n",
       "      <th>887</th>\n",
       "      <td>888</td>\n",
       "      <td>1</td>\n",
       "      <td>1</td>\n",
       "      <td>Graham, Miss. Margaret Edith</td>\n",
       "      <td>female</td>\n",
       "      <td>19</td>\n",
       "      <td>0</td>\n",
       "      <td>0</td>\n",
       "      <td>112053</td>\n",
       "      <td>30.0000</td>\n",
       "      <td>B42</td>\n",
       "      <td>S</td>\n",
       "    </tr>\n",
       "    <tr>\n",
       "      <th>888</th>\n",
       "      <td>889</td>\n",
       "      <td>0</td>\n",
       "      <td>3</td>\n",
       "      <td>Johnston, Miss. Catherine Helen \"Carrie\"\"\"</td>\n",
       "      <td>female</td>\n",
       "      <td>0</td>\n",
       "      <td>1</td>\n",
       "      <td>2</td>\n",
       "      <td>W./C. 6607</td>\n",
       "      <td>23.4500</td>\n",
       "      <td></td>\n",
       "      <td>S</td>\n",
       "    </tr>\n",
       "    <tr>\n",
       "      <th>889</th>\n",
       "      <td>890</td>\n",
       "      <td>1</td>\n",
       "      <td>1</td>\n",
       "      <td>Behr, Mr. Karl Howell</td>\n",
       "      <td>male</td>\n",
       "      <td>26</td>\n",
       "      <td>0</td>\n",
       "      <td>0</td>\n",
       "      <td>111369</td>\n",
       "      <td>30.0000</td>\n",
       "      <td>C148</td>\n",
       "      <td>C</td>\n",
       "    </tr>\n",
       "    <tr>\n",
       "      <th>890</th>\n",
       "      <td>891</td>\n",
       "      <td>0</td>\n",
       "      <td>3</td>\n",
       "      <td>Dooley, Mr. Patrick</td>\n",
       "      <td>male</td>\n",
       "      <td>32</td>\n",
       "      <td>0</td>\n",
       "      <td>0</td>\n",
       "      <td>370376</td>\n",
       "      <td>7.7500</td>\n",
       "      <td></td>\n",
       "      <td>Q</td>\n",
       "    </tr>\n",
       "  </tbody>\n",
       "</table>\n",
       "<p>891 rows × 12 columns</p>\n",
       "</div>\n",
       "      <button class=\"colab-df-convert\" onclick=\"convertToInteractive('df-8a970fa7-1e60-48e4-8696-71d463d19df6')\"\n",
       "              title=\"Convert this dataframe to an interactive table.\"\n",
       "              style=\"display:none;\">\n",
       "        \n",
       "  <svg xmlns=\"http://www.w3.org/2000/svg\" height=\"24px\"viewBox=\"0 0 24 24\"\n",
       "       width=\"24px\">\n",
       "    <path d=\"M0 0h24v24H0V0z\" fill=\"none\"/>\n",
       "    <path d=\"M18.56 5.44l.94 2.06.94-2.06 2.06-.94-2.06-.94-.94-2.06-.94 2.06-2.06.94zm-11 1L8.5 8.5l.94-2.06 2.06-.94-2.06-.94L8.5 2.5l-.94 2.06-2.06.94zm10 10l.94 2.06.94-2.06 2.06-.94-2.06-.94-.94-2.06-.94 2.06-2.06.94z\"/><path d=\"M17.41 7.96l-1.37-1.37c-.4-.4-.92-.59-1.43-.59-.52 0-1.04.2-1.43.59L10.3 9.45l-7.72 7.72c-.78.78-.78 2.05 0 2.83L4 21.41c.39.39.9.59 1.41.59.51 0 1.02-.2 1.41-.59l7.78-7.78 2.81-2.81c.8-.78.8-2.07 0-2.86zM5.41 20L4 18.59l7.72-7.72 1.47 1.35L5.41 20z\"/>\n",
       "  </svg>\n",
       "      </button>\n",
       "      \n",
       "  <style>\n",
       "    .colab-df-container {\n",
       "      display:flex;\n",
       "      flex-wrap:wrap;\n",
       "      gap: 12px;\n",
       "    }\n",
       "\n",
       "    .colab-df-convert {\n",
       "      background-color: #E8F0FE;\n",
       "      border: none;\n",
       "      border-radius: 50%;\n",
       "      cursor: pointer;\n",
       "      display: none;\n",
       "      fill: #1967D2;\n",
       "      height: 32px;\n",
       "      padding: 0 0 0 0;\n",
       "      width: 32px;\n",
       "    }\n",
       "\n",
       "    .colab-df-convert:hover {\n",
       "      background-color: #E2EBFA;\n",
       "      box-shadow: 0px 1px 2px rgba(60, 64, 67, 0.3), 0px 1px 3px 1px rgba(60, 64, 67, 0.15);\n",
       "      fill: #174EA6;\n",
       "    }\n",
       "\n",
       "    [theme=dark] .colab-df-convert {\n",
       "      background-color: #3B4455;\n",
       "      fill: #D2E3FC;\n",
       "    }\n",
       "\n",
       "    [theme=dark] .colab-df-convert:hover {\n",
       "      background-color: #434B5C;\n",
       "      box-shadow: 0px 1px 3px 1px rgba(0, 0, 0, 0.15);\n",
       "      filter: drop-shadow(0px 1px 2px rgba(0, 0, 0, 0.3));\n",
       "      fill: #FFFFFF;\n",
       "    }\n",
       "  </style>\n",
       "\n",
       "      <script>\n",
       "        const buttonEl =\n",
       "          document.querySelector('#df-8a970fa7-1e60-48e4-8696-71d463d19df6 button.colab-df-convert');\n",
       "        buttonEl.style.display =\n",
       "          google.colab.kernel.accessAllowed ? 'block' : 'none';\n",
       "\n",
       "        async function convertToInteractive(key) {\n",
       "          const element = document.querySelector('#df-8a970fa7-1e60-48e4-8696-71d463d19df6');\n",
       "          const dataTable =\n",
       "            await google.colab.kernel.invokeFunction('convertToInteractive',\n",
       "                                                     [key], {});\n",
       "          if (!dataTable) return;\n",
       "\n",
       "          const docLinkHtml = 'Like what you see? Visit the ' +\n",
       "            '<a target=\"_blank\" href=https://colab.research.google.com/notebooks/data_table.ipynb>data table notebook</a>'\n",
       "            + ' to learn more about interactive tables.';\n",
       "          element.innerHTML = '';\n",
       "          dataTable['output_type'] = 'display_data';\n",
       "          await google.colab.output.renderOutput(dataTable, element);\n",
       "          const docLink = document.createElement('div');\n",
       "          docLink.innerHTML = docLinkHtml;\n",
       "          element.appendChild(docLink);\n",
       "        }\n",
       "      </script>\n",
       "    </div>\n",
       "  </div>\n",
       "  "
      ]
     },
     "metadata": {},
     "execution_count": 5
    }
   ]
  },
  {
   "cell_type": "markdown",
   "source": [
    "## 2. Data Export"
   ],
   "metadata": {
    "id": "lQ4kNpgpHGd7"
   }
  },
  {
   "cell_type": "code",
   "source": [
    "lst = pd.read_html('https://docs.python.org/3/library/operator.html')\n",
    "df = lst[0]\n",
    "df.to_csv('/content/gdrive/MyDrive/Python_Operator.csv')"
   ],
   "metadata": {
    "id": "e2egenn1ISmS",
    "ExecuteTime": {
     "end_time": "2023-10-21T11:05:58.667674Z",
     "start_time": "2023-10-21T11:05:58.601590Z"
    }
   },
   "execution_count": 8,
   "outputs": [
    {
     "ename": "ImportError",
     "evalue": "Missing optional dependency 'lxml'.  Use pip or conda to install lxml.",
     "output_type": "error",
     "traceback": [
      "\u001B[0;31m---------------------------------------------------------------------------\u001B[0m",
      "\u001B[0;31mModuleNotFoundError\u001B[0m                       Traceback (most recent call last)",
      "File \u001B[0;32m~/Workspace/AIProgramming/venv/lib/python3.9/site-packages/pandas/compat/_optional.py:132\u001B[0m, in \u001B[0;36mimport_optional_dependency\u001B[0;34m(name, extra, errors, min_version)\u001B[0m\n\u001B[1;32m    131\u001B[0m \u001B[38;5;28;01mtry\u001B[39;00m:\n\u001B[0;32m--> 132\u001B[0m     module \u001B[38;5;241m=\u001B[39m \u001B[43mimportlib\u001B[49m\u001B[38;5;241;43m.\u001B[39;49m\u001B[43mimport_module\u001B[49m\u001B[43m(\u001B[49m\u001B[43mname\u001B[49m\u001B[43m)\u001B[49m\n\u001B[1;32m    133\u001B[0m \u001B[38;5;28;01mexcept\u001B[39;00m \u001B[38;5;167;01mImportError\u001B[39;00m:\n",
      "File \u001B[0;32m/Library/Developer/CommandLineTools/Library/Frameworks/Python3.framework/Versions/3.9/lib/python3.9/importlib/__init__.py:127\u001B[0m, in \u001B[0;36mimport_module\u001B[0;34m(name, package)\u001B[0m\n\u001B[1;32m    126\u001B[0m         level \u001B[38;5;241m+\u001B[39m\u001B[38;5;241m=\u001B[39m \u001B[38;5;241m1\u001B[39m\n\u001B[0;32m--> 127\u001B[0m \u001B[38;5;28;01mreturn\u001B[39;00m \u001B[43m_bootstrap\u001B[49m\u001B[38;5;241;43m.\u001B[39;49m\u001B[43m_gcd_import\u001B[49m\u001B[43m(\u001B[49m\u001B[43mname\u001B[49m\u001B[43m[\u001B[49m\u001B[43mlevel\u001B[49m\u001B[43m:\u001B[49m\u001B[43m]\u001B[49m\u001B[43m,\u001B[49m\u001B[43m \u001B[49m\u001B[43mpackage\u001B[49m\u001B[43m,\u001B[49m\u001B[43m \u001B[49m\u001B[43mlevel\u001B[49m\u001B[43m)\u001B[49m\n",
      "File \u001B[0;32m<frozen importlib._bootstrap>:1030\u001B[0m, in \u001B[0;36m_gcd_import\u001B[0;34m(name, package, level)\u001B[0m\n",
      "File \u001B[0;32m<frozen importlib._bootstrap>:1007\u001B[0m, in \u001B[0;36m_find_and_load\u001B[0;34m(name, import_)\u001B[0m\n",
      "File \u001B[0;32m<frozen importlib._bootstrap>:972\u001B[0m, in \u001B[0;36m_find_and_load_unlocked\u001B[0;34m(name, import_)\u001B[0m\n",
      "File \u001B[0;32m<frozen importlib._bootstrap>:228\u001B[0m, in \u001B[0;36m_call_with_frames_removed\u001B[0;34m(f, *args, **kwds)\u001B[0m\n",
      "File \u001B[0;32m<frozen importlib._bootstrap>:1030\u001B[0m, in \u001B[0;36m_gcd_import\u001B[0;34m(name, package, level)\u001B[0m\n",
      "File \u001B[0;32m<frozen importlib._bootstrap>:1007\u001B[0m, in \u001B[0;36m_find_and_load\u001B[0;34m(name, import_)\u001B[0m\n",
      "File \u001B[0;32m<frozen importlib._bootstrap>:984\u001B[0m, in \u001B[0;36m_find_and_load_unlocked\u001B[0;34m(name, import_)\u001B[0m\n",
      "\u001B[0;31mModuleNotFoundError\u001B[0m: No module named 'lxml'",
      "\nDuring handling of the above exception, another exception occurred:\n",
      "\u001B[0;31mImportError\u001B[0m                               Traceback (most recent call last)",
      "Cell \u001B[0;32mIn[8], line 1\u001B[0m\n\u001B[0;32m----> 1\u001B[0m lst \u001B[38;5;241m=\u001B[39m \u001B[43mpd\u001B[49m\u001B[38;5;241;43m.\u001B[39;49m\u001B[43mread_html\u001B[49m\u001B[43m(\u001B[49m\u001B[38;5;124;43m'\u001B[39;49m\u001B[38;5;124;43mhttps://docs.python.org/3/library/operator.html\u001B[39;49m\u001B[38;5;124;43m'\u001B[39;49m\u001B[43m)\u001B[49m\n\u001B[1;32m      2\u001B[0m df \u001B[38;5;241m=\u001B[39m lst[\u001B[38;5;241m0\u001B[39m]\n\u001B[1;32m      3\u001B[0m df\u001B[38;5;241m.\u001B[39mto_csv(\u001B[38;5;124m'\u001B[39m\u001B[38;5;124m/content/gdrive/MyDrive/Python_Operator.csv\u001B[39m\u001B[38;5;124m'\u001B[39m)\n",
      "File \u001B[0;32m~/Workspace/AIProgramming/venv/lib/python3.9/site-packages/pandas/io/html.py:1245\u001B[0m, in \u001B[0;36mread_html\u001B[0;34m(io, match, flavor, header, index_col, skiprows, attrs, parse_dates, thousands, encoding, decimal, converters, na_values, keep_default_na, displayed_only, extract_links, dtype_backend, storage_options)\u001B[0m\n\u001B[1;32m   1229\u001B[0m \u001B[38;5;28;01mif\u001B[39;00m \u001B[38;5;28misinstance\u001B[39m(io, \u001B[38;5;28mstr\u001B[39m) \u001B[38;5;129;01mand\u001B[39;00m \u001B[38;5;129;01mnot\u001B[39;00m \u001B[38;5;28many\u001B[39m(\n\u001B[1;32m   1230\u001B[0m     [\n\u001B[1;32m   1231\u001B[0m         is_file_like(io),\n\u001B[0;32m   (...)\u001B[0m\n\u001B[1;32m   1235\u001B[0m     ]\n\u001B[1;32m   1236\u001B[0m ):\n\u001B[1;32m   1237\u001B[0m     warnings\u001B[38;5;241m.\u001B[39mwarn(\n\u001B[1;32m   1238\u001B[0m         \u001B[38;5;124m\"\u001B[39m\u001B[38;5;124mPassing literal html to \u001B[39m\u001B[38;5;124m'\u001B[39m\u001B[38;5;124mread_html\u001B[39m\u001B[38;5;124m'\u001B[39m\u001B[38;5;124m is deprecated and \u001B[39m\u001B[38;5;124m\"\u001B[39m\n\u001B[1;32m   1239\u001B[0m         \u001B[38;5;124m\"\u001B[39m\u001B[38;5;124mwill be removed in a future version. To read from a \u001B[39m\u001B[38;5;124m\"\u001B[39m\n\u001B[0;32m   (...)\u001B[0m\n\u001B[1;32m   1242\u001B[0m         stacklevel\u001B[38;5;241m=\u001B[39mfind_stack_level(),\n\u001B[1;32m   1243\u001B[0m     )\n\u001B[0;32m-> 1245\u001B[0m \u001B[38;5;28;01mreturn\u001B[39;00m \u001B[43m_parse\u001B[49m\u001B[43m(\u001B[49m\n\u001B[1;32m   1246\u001B[0m \u001B[43m    \u001B[49m\u001B[43mflavor\u001B[49m\u001B[38;5;241;43m=\u001B[39;49m\u001B[43mflavor\u001B[49m\u001B[43m,\u001B[49m\n\u001B[1;32m   1247\u001B[0m \u001B[43m    \u001B[49m\u001B[43mio\u001B[49m\u001B[38;5;241;43m=\u001B[39;49m\u001B[43mio\u001B[49m\u001B[43m,\u001B[49m\n\u001B[1;32m   1248\u001B[0m \u001B[43m    \u001B[49m\u001B[43mmatch\u001B[49m\u001B[38;5;241;43m=\u001B[39;49m\u001B[43mmatch\u001B[49m\u001B[43m,\u001B[49m\n\u001B[1;32m   1249\u001B[0m \u001B[43m    \u001B[49m\u001B[43mheader\u001B[49m\u001B[38;5;241;43m=\u001B[39;49m\u001B[43mheader\u001B[49m\u001B[43m,\u001B[49m\n\u001B[1;32m   1250\u001B[0m \u001B[43m    \u001B[49m\u001B[43mindex_col\u001B[49m\u001B[38;5;241;43m=\u001B[39;49m\u001B[43mindex_col\u001B[49m\u001B[43m,\u001B[49m\n\u001B[1;32m   1251\u001B[0m \u001B[43m    \u001B[49m\u001B[43mskiprows\u001B[49m\u001B[38;5;241;43m=\u001B[39;49m\u001B[43mskiprows\u001B[49m\u001B[43m,\u001B[49m\n\u001B[1;32m   1252\u001B[0m \u001B[43m    \u001B[49m\u001B[43mparse_dates\u001B[49m\u001B[38;5;241;43m=\u001B[39;49m\u001B[43mparse_dates\u001B[49m\u001B[43m,\u001B[49m\n\u001B[1;32m   1253\u001B[0m \u001B[43m    \u001B[49m\u001B[43mthousands\u001B[49m\u001B[38;5;241;43m=\u001B[39;49m\u001B[43mthousands\u001B[49m\u001B[43m,\u001B[49m\n\u001B[1;32m   1254\u001B[0m \u001B[43m    \u001B[49m\u001B[43mattrs\u001B[49m\u001B[38;5;241;43m=\u001B[39;49m\u001B[43mattrs\u001B[49m\u001B[43m,\u001B[49m\n\u001B[1;32m   1255\u001B[0m \u001B[43m    \u001B[49m\u001B[43mencoding\u001B[49m\u001B[38;5;241;43m=\u001B[39;49m\u001B[43mencoding\u001B[49m\u001B[43m,\u001B[49m\n\u001B[1;32m   1256\u001B[0m \u001B[43m    \u001B[49m\u001B[43mdecimal\u001B[49m\u001B[38;5;241;43m=\u001B[39;49m\u001B[43mdecimal\u001B[49m\u001B[43m,\u001B[49m\n\u001B[1;32m   1257\u001B[0m \u001B[43m    \u001B[49m\u001B[43mconverters\u001B[49m\u001B[38;5;241;43m=\u001B[39;49m\u001B[43mconverters\u001B[49m\u001B[43m,\u001B[49m\n\u001B[1;32m   1258\u001B[0m \u001B[43m    \u001B[49m\u001B[43mna_values\u001B[49m\u001B[38;5;241;43m=\u001B[39;49m\u001B[43mna_values\u001B[49m\u001B[43m,\u001B[49m\n\u001B[1;32m   1259\u001B[0m \u001B[43m    \u001B[49m\u001B[43mkeep_default_na\u001B[49m\u001B[38;5;241;43m=\u001B[39;49m\u001B[43mkeep_default_na\u001B[49m\u001B[43m,\u001B[49m\n\u001B[1;32m   1260\u001B[0m \u001B[43m    \u001B[49m\u001B[43mdisplayed_only\u001B[49m\u001B[38;5;241;43m=\u001B[39;49m\u001B[43mdisplayed_only\u001B[49m\u001B[43m,\u001B[49m\n\u001B[1;32m   1261\u001B[0m \u001B[43m    \u001B[49m\u001B[43mextract_links\u001B[49m\u001B[38;5;241;43m=\u001B[39;49m\u001B[43mextract_links\u001B[49m\u001B[43m,\u001B[49m\n\u001B[1;32m   1262\u001B[0m \u001B[43m    \u001B[49m\u001B[43mdtype_backend\u001B[49m\u001B[38;5;241;43m=\u001B[39;49m\u001B[43mdtype_backend\u001B[49m\u001B[43m,\u001B[49m\n\u001B[1;32m   1263\u001B[0m \u001B[43m    \u001B[49m\u001B[43mstorage_options\u001B[49m\u001B[38;5;241;43m=\u001B[39;49m\u001B[43mstorage_options\u001B[49m\u001B[43m,\u001B[49m\n\u001B[1;32m   1264\u001B[0m \u001B[43m\u001B[49m\u001B[43m)\u001B[49m\n",
      "File \u001B[0;32m~/Workspace/AIProgramming/venv/lib/python3.9/site-packages/pandas/io/html.py:976\u001B[0m, in \u001B[0;36m_parse\u001B[0;34m(flavor, io, match, attrs, encoding, displayed_only, extract_links, storage_options, **kwargs)\u001B[0m\n\u001B[1;32m    974\u001B[0m retained \u001B[38;5;241m=\u001B[39m \u001B[38;5;28;01mNone\u001B[39;00m\n\u001B[1;32m    975\u001B[0m \u001B[38;5;28;01mfor\u001B[39;00m flav \u001B[38;5;129;01min\u001B[39;00m flavor:\n\u001B[0;32m--> 976\u001B[0m     parser \u001B[38;5;241m=\u001B[39m \u001B[43m_parser_dispatch\u001B[49m\u001B[43m(\u001B[49m\u001B[43mflav\u001B[49m\u001B[43m)\u001B[49m\n\u001B[1;32m    977\u001B[0m     p \u001B[38;5;241m=\u001B[39m parser(\n\u001B[1;32m    978\u001B[0m         io,\n\u001B[1;32m    979\u001B[0m         compiled_match,\n\u001B[0;32m   (...)\u001B[0m\n\u001B[1;32m    984\u001B[0m         storage_options,\n\u001B[1;32m    985\u001B[0m     )\n\u001B[1;32m    987\u001B[0m     \u001B[38;5;28;01mtry\u001B[39;00m:\n",
      "File \u001B[0;32m~/Workspace/AIProgramming/venv/lib/python3.9/site-packages/pandas/io/html.py:923\u001B[0m, in \u001B[0;36m_parser_dispatch\u001B[0;34m(flavor)\u001B[0m\n\u001B[1;32m    921\u001B[0m     import_optional_dependency(\u001B[38;5;124m\"\u001B[39m\u001B[38;5;124mbs4\u001B[39m\u001B[38;5;124m\"\u001B[39m)\n\u001B[1;32m    922\u001B[0m \u001B[38;5;28;01melse\u001B[39;00m:\n\u001B[0;32m--> 923\u001B[0m     \u001B[43mimport_optional_dependency\u001B[49m\u001B[43m(\u001B[49m\u001B[38;5;124;43m\"\u001B[39;49m\u001B[38;5;124;43mlxml.etree\u001B[39;49m\u001B[38;5;124;43m\"\u001B[39;49m\u001B[43m)\u001B[49m\n\u001B[1;32m    924\u001B[0m \u001B[38;5;28;01mreturn\u001B[39;00m _valid_parsers[flavor]\n",
      "File \u001B[0;32m~/Workspace/AIProgramming/venv/lib/python3.9/site-packages/pandas/compat/_optional.py:135\u001B[0m, in \u001B[0;36mimport_optional_dependency\u001B[0;34m(name, extra, errors, min_version)\u001B[0m\n\u001B[1;32m    133\u001B[0m \u001B[38;5;28;01mexcept\u001B[39;00m \u001B[38;5;167;01mImportError\u001B[39;00m:\n\u001B[1;32m    134\u001B[0m     \u001B[38;5;28;01mif\u001B[39;00m errors \u001B[38;5;241m==\u001B[39m \u001B[38;5;124m\"\u001B[39m\u001B[38;5;124mraise\u001B[39m\u001B[38;5;124m\"\u001B[39m:\n\u001B[0;32m--> 135\u001B[0m         \u001B[38;5;28;01mraise\u001B[39;00m \u001B[38;5;167;01mImportError\u001B[39;00m(msg)\n\u001B[1;32m    136\u001B[0m     \u001B[38;5;28;01mreturn\u001B[39;00m \u001B[38;5;28;01mNone\u001B[39;00m\n\u001B[1;32m    138\u001B[0m \u001B[38;5;66;03m# Handle submodules: if we have submodule, grab parent module from sys.modules\u001B[39;00m\n",
      "\u001B[0;31mImportError\u001B[0m: Missing optional dependency 'lxml'.  Use pip or conda to install lxml."
     ]
    }
   ]
  },
  {
   "cell_type": "code",
   "source": [
    "!cat /content/gdrive/MyDrive/Python_Operator.csv"
   ],
   "metadata": {
    "colab": {
     "base_uri": "https://localhost:8080/"
    },
    "id": "OcDMlB9PHkyz",
    "outputId": "0f866f55-b3ce-4bb5-b100-6087ba9e7e03"
   },
   "execution_count": null,
   "outputs": [
    {
     "output_type": "stream",
     "name": "stdout",
     "text": [
      ",Operation,Syntax,Function\n",
      "0,Addition,a + b,\"add(a, b)\"\n",
      "1,Concatenation,seq1 + seq2,\"concat(seq1, seq2)\"\n",
      "2,Containment Test,obj in seq,\"contains(seq, obj)\"\n",
      "3,Division,a / b,\"truediv(a, b)\"\n",
      "4,Division,a // b,\"floordiv(a, b)\"\n",
      "5,Bitwise And,a & b,\"and_(a, b)\"\n",
      "6,Bitwise Exclusive Or,a ^ b,\"xor(a, b)\"\n",
      "7,Bitwise Inversion,~ a,invert(a)\n",
      "8,Bitwise Or,a | b,\"or_(a, b)\"\n",
      "9,Exponentiation,a ** b,\"pow(a, b)\"\n",
      "10,Identity,a is b,\"is_(a, b)\"\n",
      "11,Identity,a is not b,\"is_not(a, b)\"\n",
      "12,Indexed Assignment,obj[k] = v,\"setitem(obj, k, v)\"\n",
      "13,Indexed Deletion,del obj[k],\"delitem(obj, k)\"\n",
      "14,Indexing,obj[k],\"getitem(obj, k)\"\n",
      "15,Left Shift,a << b,\"lshift(a, b)\"\n",
      "16,Modulo,a % b,\"mod(a, b)\"\n",
      "17,Multiplication,a * b,\"mul(a, b)\"\n",
      "18,Matrix Multiplication,a @ b,\"matmul(a, b)\"\n",
      "19,Negation (Arithmetic),- a,neg(a)\n",
      "20,Negation (Logical),not a,not_(a)\n",
      "21,Positive,+ a,pos(a)\n",
      "22,Right Shift,a >> b,\"rshift(a, b)\"\n",
      "23,Slice Assignment,seq[i:j] = values,\"setitem(seq, slice(i, j), values)\"\n",
      "24,Slice Deletion,del seq[i:j],\"delitem(seq, slice(i, j))\"\n",
      "25,Slicing,seq[i:j],\"getitem(seq, slice(i, j))\"\n",
      "26,String Formatting,s % obj,\"mod(s, obj)\"\n",
      "27,Subtraction,a - b,\"sub(a, b)\"\n",
      "28,Truth Test,obj,truth(obj)\n",
      "29,Ordering,a < b,\"lt(a, b)\"\n",
      "30,Ordering,a <= b,\"le(a, b)\"\n",
      "31,Equality,a == b,\"eq(a, b)\"\n",
      "32,Difference,a != b,\"ne(a, b)\"\n",
      "33,Ordering,a >= b,\"ge(a, b)\"\n",
      "34,Ordering,a > b,\"gt(a, b)\"\n"
     ]
    }
   ]
  },
  {
   "cell_type": "code",
   "source": [
    "df = pd.read_csv('https://raw.githubusercontent.com/agconti/kaggle-titanic/master/data/train.csv')\n",
    "df.head().to_markdown('/content/gdrive/MyDrive/titanic_train.md')"
   ],
   "metadata": {
    "id": "wswmLVv_Ho90"
   },
   "execution_count": null,
   "outputs": []
  },
  {
   "cell_type": "code",
   "source": [
    "!cat /content/gdrive/MyDrive/titanic_train.md"
   ],
   "metadata": {
    "colab": {
     "base_uri": "https://localhost:8080/"
    },
    "id": "INWorZyqIEZL",
    "outputId": "6af7e883-8d13-4d39-b7b3-0bd1f3925f31"
   },
   "execution_count": null,
   "outputs": [
    {
     "output_type": "stream",
     "name": "stdout",
     "text": [
      "|    |   PassengerId |   Survived |   Pclass | Name                                                | Sex    |   Age |   SibSp |   Parch | Ticket           |    Fare | Cabin   | Embarked   |\n",
      "|---:|--------------:|-----------:|---------:|:----------------------------------------------------|:-------|------:|--------:|--------:|:-----------------|--------:|:--------|:-----------|\n",
      "|  0 |             1 |          0 |        3 | Braund, Mr. Owen Harris                             | male   |    22 |       1 |       0 | A/5 21171        |  7.25   | nan     | S          |\n",
      "|  1 |             2 |          1 |        1 | Cumings, Mrs. John Bradley (Florence Briggs Thayer) | female |    38 |       1 |       0 | PC 17599         | 71.2833 | C85     | C          |\n",
      "|  2 |             3 |          1 |        3 | Heikkinen, Miss. Laina                              | female |    26 |       0 |       0 | STON/O2. 3101282 |  7.925  | nan     | S          |\n",
      "|  3 |             4 |          1 |        1 | Futrelle, Mrs. Jacques Heath (Lily May Peel)        | female |    35 |       1 |       0 | 113803           | 53.1    | C123    | S          |\n",
      "|  4 |             5 |          0 |        3 | Allen, Mr. William Henry                            | male   |    35 |       0 |       0 | 373450           |  8.05   | nan     | S          |"
     ]
    }
   ]
  },
  {
   "cell_type": "markdown",
   "source": [
    "## 3. DataFrame Operators"
   ],
   "metadata": {
    "id": "G2ZhHjuwIJPy"
   }
  },
  {
   "cell_type": "code",
   "source": [
    "# https://www.kaggle.com/competitions/titanic/data\n",
    "\n",
    "df = pd.read_csv('https://raw.githubusercontent.com/agconti/kaggle-titanic/master/data/train.csv')\n",
    "df.info()"
   ],
   "metadata": {
    "colab": {
     "base_uri": "https://localhost:8080/"
    },
    "id": "biRIzRNoMd44",
    "outputId": "b7509af5-6682-4002-ce2d-fcd95031eea0",
    "ExecuteTime": {
     "end_time": "2023-10-21T11:07:35.337502Z",
     "start_time": "2023-10-21T11:07:35.225679Z"
    }
   },
   "execution_count": 11,
   "outputs": [
    {
     "name": "stdout",
     "output_type": "stream",
     "text": [
      "<class 'pandas.core.frame.DataFrame'>\n",
      "RangeIndex: 891 entries, 0 to 890\n",
      "Data columns (total 12 columns):\n",
      " #   Column       Non-Null Count  Dtype  \n",
      "---  ------       --------------  -----  \n",
      " 0   PassengerId  891 non-null    int64  \n",
      " 1   Survived     891 non-null    int64  \n",
      " 2   Pclass       891 non-null    int64  \n",
      " 3   Name         891 non-null    object \n",
      " 4   Sex          891 non-null    object \n",
      " 5   Age          714 non-null    float64\n",
      " 6   SibSp        891 non-null    int64  \n",
      " 7   Parch        891 non-null    int64  \n",
      " 8   Ticket       891 non-null    object \n",
      " 9   Fare         891 non-null    float64\n",
      " 10  Cabin        204 non-null    object \n",
      " 11  Embarked     889 non-null    object \n",
      "dtypes: float64(2), int64(5), object(5)\n",
      "memory usage: 83.7+ KB\n"
     ]
    }
   ]
  },
  {
   "cell_type": "code",
   "source": [
    "df.describe()"
   ],
   "metadata": {
    "colab": {
     "base_uri": "https://localhost:8080/",
     "height": 300
    },
    "id": "e59NVV3HIfy7",
    "outputId": "d3efff91-f2f9-408e-b686-9aeb5fb01a57",
    "ExecuteTime": {
     "end_time": "2023-10-21T11:07:40.073466Z",
     "start_time": "2023-10-21T11:07:40.030224Z"
    }
   },
   "execution_count": 12,
   "outputs": [
    {
     "data": {
      "text/plain": "       PassengerId    Survived      Pclass         Age       SibSp  \\\ncount   891.000000  891.000000  891.000000  714.000000  891.000000   \nmean    446.000000    0.383838    2.308642   29.699118    0.523008   \nstd     257.353842    0.486592    0.836071   14.526497    1.102743   \nmin       1.000000    0.000000    1.000000    0.420000    0.000000   \n25%     223.500000    0.000000    2.000000   20.125000    0.000000   \n50%     446.000000    0.000000    3.000000   28.000000    0.000000   \n75%     668.500000    1.000000    3.000000   38.000000    1.000000   \nmax     891.000000    1.000000    3.000000   80.000000    8.000000   \n\n            Parch        Fare  \ncount  891.000000  891.000000  \nmean     0.381594   32.204208  \nstd      0.806057   49.693429  \nmin      0.000000    0.000000  \n25%      0.000000    7.910400  \n50%      0.000000   14.454200  \n75%      0.000000   31.000000  \nmax      6.000000  512.329200  ",
      "text/html": "<div>\n<style scoped>\n    .dataframe tbody tr th:only-of-type {\n        vertical-align: middle;\n    }\n\n    .dataframe tbody tr th {\n        vertical-align: top;\n    }\n\n    .dataframe thead th {\n        text-align: right;\n    }\n</style>\n<table border=\"1\" class=\"dataframe\">\n  <thead>\n    <tr style=\"text-align: right;\">\n      <th></th>\n      <th>PassengerId</th>\n      <th>Survived</th>\n      <th>Pclass</th>\n      <th>Age</th>\n      <th>SibSp</th>\n      <th>Parch</th>\n      <th>Fare</th>\n    </tr>\n  </thead>\n  <tbody>\n    <tr>\n      <th>count</th>\n      <td>891.000000</td>\n      <td>891.000000</td>\n      <td>891.000000</td>\n      <td>714.000000</td>\n      <td>891.000000</td>\n      <td>891.000000</td>\n      <td>891.000000</td>\n    </tr>\n    <tr>\n      <th>mean</th>\n      <td>446.000000</td>\n      <td>0.383838</td>\n      <td>2.308642</td>\n      <td>29.699118</td>\n      <td>0.523008</td>\n      <td>0.381594</td>\n      <td>32.204208</td>\n    </tr>\n    <tr>\n      <th>std</th>\n      <td>257.353842</td>\n      <td>0.486592</td>\n      <td>0.836071</td>\n      <td>14.526497</td>\n      <td>1.102743</td>\n      <td>0.806057</td>\n      <td>49.693429</td>\n    </tr>\n    <tr>\n      <th>min</th>\n      <td>1.000000</td>\n      <td>0.000000</td>\n      <td>1.000000</td>\n      <td>0.420000</td>\n      <td>0.000000</td>\n      <td>0.000000</td>\n      <td>0.000000</td>\n    </tr>\n    <tr>\n      <th>25%</th>\n      <td>223.500000</td>\n      <td>0.000000</td>\n      <td>2.000000</td>\n      <td>20.125000</td>\n      <td>0.000000</td>\n      <td>0.000000</td>\n      <td>7.910400</td>\n    </tr>\n    <tr>\n      <th>50%</th>\n      <td>446.000000</td>\n      <td>0.000000</td>\n      <td>3.000000</td>\n      <td>28.000000</td>\n      <td>0.000000</td>\n      <td>0.000000</td>\n      <td>14.454200</td>\n    </tr>\n    <tr>\n      <th>75%</th>\n      <td>668.500000</td>\n      <td>1.000000</td>\n      <td>3.000000</td>\n      <td>38.000000</td>\n      <td>1.000000</td>\n      <td>0.000000</td>\n      <td>31.000000</td>\n    </tr>\n    <tr>\n      <th>max</th>\n      <td>891.000000</td>\n      <td>1.000000</td>\n      <td>3.000000</td>\n      <td>80.000000</td>\n      <td>8.000000</td>\n      <td>6.000000</td>\n      <td>512.329200</td>\n    </tr>\n  </tbody>\n</table>\n</div>"
     },
     "execution_count": 12,
     "metadata": {},
     "output_type": "execute_result"
    }
   ]
  },
  {
   "cell_type": "code",
   "execution_count": 15,
   "outputs": [
    {
     "data": {
      "text/plain": "   PassengerId  Survived  Pclass  \\\n0            1         0       3   \n1            2         1       1   \n2            3         1       3   \n3            4         1       1   \n4            5         0       3   \n\n                                                Name     Sex   Age  SibSp  \\\n0                            Braund, Mr. Owen Harris    male  22.0      1   \n1  Cumings, Mrs. John Bradley (Florence Briggs Th...  female  38.0      1   \n2                             Heikkinen, Miss. Laina  female  26.0      0   \n3       Futrelle, Mrs. Jacques Heath (Lily May Peel)  female  35.0      1   \n4                           Allen, Mr. William Henry    male  35.0      0   \n\n   Parch            Ticket     Fare Cabin Embarked  \n0      0         A/5 21171   7.2500   NaN        S  \n1      0          PC 17599  71.2833   C85        C  \n2      0  STON/O2. 3101282   7.9250   NaN        S  \n3      0            113803  53.1000  C123        S  \n4      0            373450   8.0500   NaN        S  ",
      "text/html": "<div>\n<style scoped>\n    .dataframe tbody tr th:only-of-type {\n        vertical-align: middle;\n    }\n\n    .dataframe tbody tr th {\n        vertical-align: top;\n    }\n\n    .dataframe thead th {\n        text-align: right;\n    }\n</style>\n<table border=\"1\" class=\"dataframe\">\n  <thead>\n    <tr style=\"text-align: right;\">\n      <th></th>\n      <th>PassengerId</th>\n      <th>Survived</th>\n      <th>Pclass</th>\n      <th>Name</th>\n      <th>Sex</th>\n      <th>Age</th>\n      <th>SibSp</th>\n      <th>Parch</th>\n      <th>Ticket</th>\n      <th>Fare</th>\n      <th>Cabin</th>\n      <th>Embarked</th>\n    </tr>\n  </thead>\n  <tbody>\n    <tr>\n      <th>0</th>\n      <td>1</td>\n      <td>0</td>\n      <td>3</td>\n      <td>Braund, Mr. Owen Harris</td>\n      <td>male</td>\n      <td>22.0</td>\n      <td>1</td>\n      <td>0</td>\n      <td>A/5 21171</td>\n      <td>7.2500</td>\n      <td>NaN</td>\n      <td>S</td>\n    </tr>\n    <tr>\n      <th>1</th>\n      <td>2</td>\n      <td>1</td>\n      <td>1</td>\n      <td>Cumings, Mrs. John Bradley (Florence Briggs Th...</td>\n      <td>female</td>\n      <td>38.0</td>\n      <td>1</td>\n      <td>0</td>\n      <td>PC 17599</td>\n      <td>71.2833</td>\n      <td>C85</td>\n      <td>C</td>\n    </tr>\n    <tr>\n      <th>2</th>\n      <td>3</td>\n      <td>1</td>\n      <td>3</td>\n      <td>Heikkinen, Miss. Laina</td>\n      <td>female</td>\n      <td>26.0</td>\n      <td>0</td>\n      <td>0</td>\n      <td>STON/O2. 3101282</td>\n      <td>7.9250</td>\n      <td>NaN</td>\n      <td>S</td>\n    </tr>\n    <tr>\n      <th>3</th>\n      <td>4</td>\n      <td>1</td>\n      <td>1</td>\n      <td>Futrelle, Mrs. Jacques Heath (Lily May Peel)</td>\n      <td>female</td>\n      <td>35.0</td>\n      <td>1</td>\n      <td>0</td>\n      <td>113803</td>\n      <td>53.1000</td>\n      <td>C123</td>\n      <td>S</td>\n    </tr>\n    <tr>\n      <th>4</th>\n      <td>5</td>\n      <td>0</td>\n      <td>3</td>\n      <td>Allen, Mr. William Henry</td>\n      <td>male</td>\n      <td>35.0</td>\n      <td>0</td>\n      <td>0</td>\n      <td>373450</td>\n      <td>8.0500</td>\n      <td>NaN</td>\n      <td>S</td>\n    </tr>\n  </tbody>\n</table>\n</div>"
     },
     "execution_count": 15,
     "metadata": {},
     "output_type": "execute_result"
    }
   ],
   "source": [
    "df.head()"
   ],
   "metadata": {
    "collapsed": false,
    "ExecuteTime": {
     "end_time": "2023-10-21T11:09:16.013240Z",
     "start_time": "2023-10-21T11:09:15.977517Z"
    }
   }
  },
  {
   "cell_type": "code",
   "source": [
    "df['Pclass'].value_counts()"
   ],
   "metadata": {
    "colab": {
     "base_uri": "https://localhost:8080/"
    },
    "id": "N-0J2vdVIipD",
    "outputId": "5f5d6642-ff66-4956-d536-0e6b13b388a3",
    "ExecuteTime": {
     "end_time": "2023-10-21T11:08:27.296314Z",
     "start_time": "2023-10-21T11:08:27.243754Z"
    }
   },
   "execution_count": 13,
   "outputs": [
    {
     "data": {
      "text/plain": "Pclass\n3    491\n1    216\n2    184\nName: count, dtype: int64"
     },
     "execution_count": 13,
     "metadata": {},
     "output_type": "execute_result"
    }
   ]
  },
  {
   "cell_type": "code",
   "source": [
    "# https://pandas.pydata.org/docs/reference/api/pandas.DataFrame.mode.html\n",
    "\n",
    "df['Pclass'].mode()"
   ],
   "metadata": {
    "colab": {
     "base_uri": "https://localhost:8080/"
    },
    "id": "TC5_t5r_IyYj",
    "outputId": "bcfcbd0d-4b41-437f-daa0-aa41be752125",
    "ExecuteTime": {
     "end_time": "2023-10-21T11:11:44.466640Z",
     "start_time": "2023-10-21T11:11:44.432353Z"
    }
   },
   "execution_count": 16,
   "outputs": [
    {
     "data": {
      "text/plain": "0    3\nName: Pclass, dtype: int64"
     },
     "execution_count": 16,
     "metadata": {},
     "output_type": "execute_result"
    }
   ]
  },
  {
   "cell_type": "code",
   "source": [
    "df.nlargest(3, ['Age'])"
   ],
   "metadata": {
    "colab": {
     "base_uri": "https://localhost:8080/",
     "height": 257
    },
    "id": "jZ6n9yTRJBjq",
    "outputId": "ed601ac8-d164-4eaa-ace6-d0ed676cde07",
    "ExecuteTime": {
     "end_time": "2023-10-21T11:12:16.042728Z",
     "start_time": "2023-10-21T11:12:15.913740Z"
    }
   },
   "execution_count": 17,
   "outputs": [
    {
     "data": {
      "text/plain": "     PassengerId  Survived  Pclass                                  Name  \\\n630          631         1       1  Barkworth, Mr. Algernon Henry Wilson   \n851          852         0       3                   Svensson, Mr. Johan   \n96            97         0       1             Goldschmidt, Mr. George B   \n\n      Sex   Age  SibSp  Parch    Ticket     Fare Cabin Embarked  \n630  male  80.0      0      0     27042  30.0000   A23        S  \n851  male  74.0      0      0    347060   7.7750   NaN        S  \n96   male  71.0      0      0  PC 17754  34.6542    A5        C  ",
      "text/html": "<div>\n<style scoped>\n    .dataframe tbody tr th:only-of-type {\n        vertical-align: middle;\n    }\n\n    .dataframe tbody tr th {\n        vertical-align: top;\n    }\n\n    .dataframe thead th {\n        text-align: right;\n    }\n</style>\n<table border=\"1\" class=\"dataframe\">\n  <thead>\n    <tr style=\"text-align: right;\">\n      <th></th>\n      <th>PassengerId</th>\n      <th>Survived</th>\n      <th>Pclass</th>\n      <th>Name</th>\n      <th>Sex</th>\n      <th>Age</th>\n      <th>SibSp</th>\n      <th>Parch</th>\n      <th>Ticket</th>\n      <th>Fare</th>\n      <th>Cabin</th>\n      <th>Embarked</th>\n    </tr>\n  </thead>\n  <tbody>\n    <tr>\n      <th>630</th>\n      <td>631</td>\n      <td>1</td>\n      <td>1</td>\n      <td>Barkworth, Mr. Algernon Henry Wilson</td>\n      <td>male</td>\n      <td>80.0</td>\n      <td>0</td>\n      <td>0</td>\n      <td>27042</td>\n      <td>30.0000</td>\n      <td>A23</td>\n      <td>S</td>\n    </tr>\n    <tr>\n      <th>851</th>\n      <td>852</td>\n      <td>0</td>\n      <td>3</td>\n      <td>Svensson, Mr. Johan</td>\n      <td>male</td>\n      <td>74.0</td>\n      <td>0</td>\n      <td>0</td>\n      <td>347060</td>\n      <td>7.7750</td>\n      <td>NaN</td>\n      <td>S</td>\n    </tr>\n    <tr>\n      <th>96</th>\n      <td>97</td>\n      <td>0</td>\n      <td>1</td>\n      <td>Goldschmidt, Mr. George B</td>\n      <td>male</td>\n      <td>71.0</td>\n      <td>0</td>\n      <td>0</td>\n      <td>PC 17754</td>\n      <td>34.6542</td>\n      <td>A5</td>\n      <td>C</td>\n    </tr>\n  </tbody>\n</table>\n</div>"
     },
     "execution_count": 17,
     "metadata": {},
     "output_type": "execute_result"
    }
   ]
  },
  {
   "cell_type": "code",
   "source": [
    "df['Age'] = df['Age'].fillna(df['Age'].mean())\n",
    "lower = df.Age.quantile(0.05)\n",
    "upper = df.Age.quantile(0.95)\n",
    "df.Age.clip(lower=lower, upper=upper) # the age cloumn includes missing values"
   ],
   "metadata": {
    "id": "PvjmpvplJiQD"
   },
   "execution_count": null,
   "outputs": []
  },
  {
   "cell_type": "code",
   "source": [
    "df.sum(numeric_only=True)"
   ],
   "metadata": {
    "colab": {
     "base_uri": "https://localhost:8080/"
    },
    "id": "GtR4wC0NMgpy",
    "outputId": "3279cfbc-6ae0-4abf-d9b2-766c9d8cd6a2"
   },
   "execution_count": null,
   "outputs": [
    {
     "output_type": "execute_result",
     "data": {
      "text/plain": [
       "PassengerId    397386.0000\n",
       "Survived          342.0000\n",
       "Pclass           2057.0000\n",
       "Age             21205.1700\n",
       "SibSp             466.0000\n",
       "Parch             340.0000\n",
       "Fare            28693.9493\n",
       "dtype: float64"
      ]
     },
     "metadata": {},
     "execution_count": 52
    }
   ]
  },
  {
   "cell_type": "code",
   "source": [
    "df.sum(numeric_only=True, axis=1)"
   ],
   "metadata": {
    "colab": {
     "base_uri": "https://localhost:8080/"
    },
    "id": "k2BlPyFHLZ6a",
    "outputId": "ca6874db-39f6-4c35-dc1a-d11156b383e1"
   },
   "execution_count": null,
   "outputs": [
    {
     "output_type": "execute_result",
     "data": {
      "text/plain": [
       "0       34.2500\n",
       "1      114.2833\n",
       "2       40.9250\n",
       "3       95.1000\n",
       "4       51.0500\n",
       "         ...   \n",
       "886    929.0000\n",
       "887    939.0000\n",
       "888    918.4500\n",
       "889    948.0000\n",
       "890    933.7500\n",
       "Length: 891, dtype: float64"
      ]
     },
     "metadata": {},
     "execution_count": 51
    }
   ]
  },
  {
   "cell_type": "markdown",
   "source": [
    "## 4. Creating DataFrames from/to list, dict, and numpy"
   ],
   "metadata": {
    "id": "Uueh44IBLmn7"
   }
  },
  {
   "cell_type": "code",
   "source": [
    "lst = [ 1, 2, 3 ]\n",
    "df = pd.DataFrame(lst, columns=['num'])\n",
    "df"
   ],
   "metadata": {
    "colab": {
     "base_uri": "https://localhost:8080/",
     "height": 143
    },
    "id": "q14HlQIdHcHt",
    "outputId": "8f6cbb49-a3da-4049-cff9-ff2d51e33563",
    "ExecuteTime": {
     "end_time": "2023-10-21T11:14:30.079978Z",
     "start_time": "2023-10-21T11:14:29.562372Z"
    }
   },
   "execution_count": 18,
   "outputs": [
    {
     "data": {
      "text/plain": "   num\n0    1\n1    2\n2    3",
      "text/html": "<div>\n<style scoped>\n    .dataframe tbody tr th:only-of-type {\n        vertical-align: middle;\n    }\n\n    .dataframe tbody tr th {\n        vertical-align: top;\n    }\n\n    .dataframe thead th {\n        text-align: right;\n    }\n</style>\n<table border=\"1\" class=\"dataframe\">\n  <thead>\n    <tr style=\"text-align: right;\">\n      <th></th>\n      <th>num</th>\n    </tr>\n  </thead>\n  <tbody>\n    <tr>\n      <th>0</th>\n      <td>1</td>\n    </tr>\n    <tr>\n      <th>1</th>\n      <td>2</td>\n    </tr>\n    <tr>\n      <th>2</th>\n      <td>3</td>\n    </tr>\n  </tbody>\n</table>\n</div>"
     },
     "execution_count": 18,
     "metadata": {},
     "output_type": "execute_result"
    }
   ]
  },
  {
   "cell_type": "code",
   "source": [
    "d = dict = {'a': [1, 2, 3],\n",
    "        'b': [4, 5, 6]}\n",
    "df = pd.DataFrame(d)\n",
    "df"
   ],
   "metadata": {
    "colab": {
     "base_uri": "https://localhost:8080/",
     "height": 143
    },
    "id": "1pR7EZClL8Ya",
    "outputId": "b4d9385b-0439-40e4-8c41-2c7dcf1178c3",
    "ExecuteTime": {
     "end_time": "2023-10-21T11:15:38.537890Z",
     "start_time": "2023-10-21T11:15:38.363767Z"
    }
   },
   "execution_count": 19,
   "outputs": [
    {
     "data": {
      "text/plain": "   a  b\n0  1  4\n1  2  5\n2  3  6",
      "text/html": "<div>\n<style scoped>\n    .dataframe tbody tr th:only-of-type {\n        vertical-align: middle;\n    }\n\n    .dataframe tbody tr th {\n        vertical-align: top;\n    }\n\n    .dataframe thead th {\n        text-align: right;\n    }\n</style>\n<table border=\"1\" class=\"dataframe\">\n  <thead>\n    <tr style=\"text-align: right;\">\n      <th></th>\n      <th>a</th>\n      <th>b</th>\n    </tr>\n  </thead>\n  <tbody>\n    <tr>\n      <th>0</th>\n      <td>1</td>\n      <td>4</td>\n    </tr>\n    <tr>\n      <th>1</th>\n      <td>2</td>\n      <td>5</td>\n    </tr>\n    <tr>\n      <th>2</th>\n      <td>3</td>\n      <td>6</td>\n    </tr>\n  </tbody>\n</table>\n</div>"
     },
     "execution_count": 19,
     "metadata": {},
     "output_type": "execute_result"
    }
   ]
  },
  {
   "cell_type": "code",
   "source": [
    "import numpy as np\n",
    "arr = np.array([[1, 2, 3],\n",
    "         [4, 5, 6]])\n",
    "df = pd.DataFrame(arr, columns=['num1', 'num2', 'num3'])\n",
    "df"
   ],
   "metadata": {
    "colab": {
     "base_uri": "https://localhost:8080/",
     "height": 112
    },
    "id": "PicCltU5MOTi",
    "outputId": "b76bd757-ee91-490d-dcb8-82d8734374f9",
    "ExecuteTime": {
     "end_time": "2023-10-21T11:16:31.661193Z",
     "start_time": "2023-10-21T11:16:31.466266Z"
    }
   },
   "execution_count": 20,
   "outputs": [
    {
     "data": {
      "text/plain": "   num1  num2  num3\n0     1     2     3\n1     4     5     6",
      "text/html": "<div>\n<style scoped>\n    .dataframe tbody tr th:only-of-type {\n        vertical-align: middle;\n    }\n\n    .dataframe tbody tr th {\n        vertical-align: top;\n    }\n\n    .dataframe thead th {\n        text-align: right;\n    }\n</style>\n<table border=\"1\" class=\"dataframe\">\n  <thead>\n    <tr style=\"text-align: right;\">\n      <th></th>\n      <th>num1</th>\n      <th>num2</th>\n      <th>num3</th>\n    </tr>\n  </thead>\n  <tbody>\n    <tr>\n      <th>0</th>\n      <td>1</td>\n      <td>2</td>\n      <td>3</td>\n    </tr>\n    <tr>\n      <th>1</th>\n      <td>4</td>\n      <td>5</td>\n      <td>6</td>\n    </tr>\n  </tbody>\n</table>\n</div>"
     },
     "execution_count": 20,
     "metadata": {},
     "output_type": "execute_result"
    }
   ]
  },
  {
   "cell_type": "code",
   "source": [
    "df = pd.read_csv('https://raw.githubusercontent.com/agconti/kaggle-titanic/master/data/train.csv')\n",
    "df.to_dict('list')"
   ],
   "metadata": {
    "id": "enDvASizGj4y",
    "ExecuteTime": {
     "end_time": "2023-10-21T11:16:42.171769Z",
     "start_time": "2023-10-21T11:16:41.634861Z"
    }
   },
   "execution_count": 21,
   "outputs": [
    {
     "data": {
      "text/plain": "{'PassengerId': [1,\n  2,\n  3,\n  4,\n  5,\n  6,\n  7,\n  8,\n  9,\n  10,\n  11,\n  12,\n  13,\n  14,\n  15,\n  16,\n  17,\n  18,\n  19,\n  20,\n  21,\n  22,\n  23,\n  24,\n  25,\n  26,\n  27,\n  28,\n  29,\n  30,\n  31,\n  32,\n  33,\n  34,\n  35,\n  36,\n  37,\n  38,\n  39,\n  40,\n  41,\n  42,\n  43,\n  44,\n  45,\n  46,\n  47,\n  48,\n  49,\n  50,\n  51,\n  52,\n  53,\n  54,\n  55,\n  56,\n  57,\n  58,\n  59,\n  60,\n  61,\n  62,\n  63,\n  64,\n  65,\n  66,\n  67,\n  68,\n  69,\n  70,\n  71,\n  72,\n  73,\n  74,\n  75,\n  76,\n  77,\n  78,\n  79,\n  80,\n  81,\n  82,\n  83,\n  84,\n  85,\n  86,\n  87,\n  88,\n  89,\n  90,\n  91,\n  92,\n  93,\n  94,\n  95,\n  96,\n  97,\n  98,\n  99,\n  100,\n  101,\n  102,\n  103,\n  104,\n  105,\n  106,\n  107,\n  108,\n  109,\n  110,\n  111,\n  112,\n  113,\n  114,\n  115,\n  116,\n  117,\n  118,\n  119,\n  120,\n  121,\n  122,\n  123,\n  124,\n  125,\n  126,\n  127,\n  128,\n  129,\n  130,\n  131,\n  132,\n  133,\n  134,\n  135,\n  136,\n  137,\n  138,\n  139,\n  140,\n  141,\n  142,\n  143,\n  144,\n  145,\n  146,\n  147,\n  148,\n  149,\n  150,\n  151,\n  152,\n  153,\n  154,\n  155,\n  156,\n  157,\n  158,\n  159,\n  160,\n  161,\n  162,\n  163,\n  164,\n  165,\n  166,\n  167,\n  168,\n  169,\n  170,\n  171,\n  172,\n  173,\n  174,\n  175,\n  176,\n  177,\n  178,\n  179,\n  180,\n  181,\n  182,\n  183,\n  184,\n  185,\n  186,\n  187,\n  188,\n  189,\n  190,\n  191,\n  192,\n  193,\n  194,\n  195,\n  196,\n  197,\n  198,\n  199,\n  200,\n  201,\n  202,\n  203,\n  204,\n  205,\n  206,\n  207,\n  208,\n  209,\n  210,\n  211,\n  212,\n  213,\n  214,\n  215,\n  216,\n  217,\n  218,\n  219,\n  220,\n  221,\n  222,\n  223,\n  224,\n  225,\n  226,\n  227,\n  228,\n  229,\n  230,\n  231,\n  232,\n  233,\n  234,\n  235,\n  236,\n  237,\n  238,\n  239,\n  240,\n  241,\n  242,\n  243,\n  244,\n  245,\n  246,\n  247,\n  248,\n  249,\n  250,\n  251,\n  252,\n  253,\n  254,\n  255,\n  256,\n  257,\n  258,\n  259,\n  260,\n  261,\n  262,\n  263,\n  264,\n  265,\n  266,\n  267,\n  268,\n  269,\n  270,\n  271,\n  272,\n  273,\n  274,\n  275,\n  276,\n  277,\n  278,\n  279,\n  280,\n  281,\n  282,\n  283,\n  284,\n  285,\n  286,\n  287,\n  288,\n  289,\n  290,\n  291,\n  292,\n  293,\n  294,\n  295,\n  296,\n  297,\n  298,\n  299,\n  300,\n  301,\n  302,\n  303,\n  304,\n  305,\n  306,\n  307,\n  308,\n  309,\n  310,\n  311,\n  312,\n  313,\n  314,\n  315,\n  316,\n  317,\n  318,\n  319,\n  320,\n  321,\n  322,\n  323,\n  324,\n  325,\n  326,\n  327,\n  328,\n  329,\n  330,\n  331,\n  332,\n  333,\n  334,\n  335,\n  336,\n  337,\n  338,\n  339,\n  340,\n  341,\n  342,\n  343,\n  344,\n  345,\n  346,\n  347,\n  348,\n  349,\n  350,\n  351,\n  352,\n  353,\n  354,\n  355,\n  356,\n  357,\n  358,\n  359,\n  360,\n  361,\n  362,\n  363,\n  364,\n  365,\n  366,\n  367,\n  368,\n  369,\n  370,\n  371,\n  372,\n  373,\n  374,\n  375,\n  376,\n  377,\n  378,\n  379,\n  380,\n  381,\n  382,\n  383,\n  384,\n  385,\n  386,\n  387,\n  388,\n  389,\n  390,\n  391,\n  392,\n  393,\n  394,\n  395,\n  396,\n  397,\n  398,\n  399,\n  400,\n  401,\n  402,\n  403,\n  404,\n  405,\n  406,\n  407,\n  408,\n  409,\n  410,\n  411,\n  412,\n  413,\n  414,\n  415,\n  416,\n  417,\n  418,\n  419,\n  420,\n  421,\n  422,\n  423,\n  424,\n  425,\n  426,\n  427,\n  428,\n  429,\n  430,\n  431,\n  432,\n  433,\n  434,\n  435,\n  436,\n  437,\n  438,\n  439,\n  440,\n  441,\n  442,\n  443,\n  444,\n  445,\n  446,\n  447,\n  448,\n  449,\n  450,\n  451,\n  452,\n  453,\n  454,\n  455,\n  456,\n  457,\n  458,\n  459,\n  460,\n  461,\n  462,\n  463,\n  464,\n  465,\n  466,\n  467,\n  468,\n  469,\n  470,\n  471,\n  472,\n  473,\n  474,\n  475,\n  476,\n  477,\n  478,\n  479,\n  480,\n  481,\n  482,\n  483,\n  484,\n  485,\n  486,\n  487,\n  488,\n  489,\n  490,\n  491,\n  492,\n  493,\n  494,\n  495,\n  496,\n  497,\n  498,\n  499,\n  500,\n  501,\n  502,\n  503,\n  504,\n  505,\n  506,\n  507,\n  508,\n  509,\n  510,\n  511,\n  512,\n  513,\n  514,\n  515,\n  516,\n  517,\n  518,\n  519,\n  520,\n  521,\n  522,\n  523,\n  524,\n  525,\n  526,\n  527,\n  528,\n  529,\n  530,\n  531,\n  532,\n  533,\n  534,\n  535,\n  536,\n  537,\n  538,\n  539,\n  540,\n  541,\n  542,\n  543,\n  544,\n  545,\n  546,\n  547,\n  548,\n  549,\n  550,\n  551,\n  552,\n  553,\n  554,\n  555,\n  556,\n  557,\n  558,\n  559,\n  560,\n  561,\n  562,\n  563,\n  564,\n  565,\n  566,\n  567,\n  568,\n  569,\n  570,\n  571,\n  572,\n  573,\n  574,\n  575,\n  576,\n  577,\n  578,\n  579,\n  580,\n  581,\n  582,\n  583,\n  584,\n  585,\n  586,\n  587,\n  588,\n  589,\n  590,\n  591,\n  592,\n  593,\n  594,\n  595,\n  596,\n  597,\n  598,\n  599,\n  600,\n  601,\n  602,\n  603,\n  604,\n  605,\n  606,\n  607,\n  608,\n  609,\n  610,\n  611,\n  612,\n  613,\n  614,\n  615,\n  616,\n  617,\n  618,\n  619,\n  620,\n  621,\n  622,\n  623,\n  624,\n  625,\n  626,\n  627,\n  628,\n  629,\n  630,\n  631,\n  632,\n  633,\n  634,\n  635,\n  636,\n  637,\n  638,\n  639,\n  640,\n  641,\n  642,\n  643,\n  644,\n  645,\n  646,\n  647,\n  648,\n  649,\n  650,\n  651,\n  652,\n  653,\n  654,\n  655,\n  656,\n  657,\n  658,\n  659,\n  660,\n  661,\n  662,\n  663,\n  664,\n  665,\n  666,\n  667,\n  668,\n  669,\n  670,\n  671,\n  672,\n  673,\n  674,\n  675,\n  676,\n  677,\n  678,\n  679,\n  680,\n  681,\n  682,\n  683,\n  684,\n  685,\n  686,\n  687,\n  688,\n  689,\n  690,\n  691,\n  692,\n  693,\n  694,\n  695,\n  696,\n  697,\n  698,\n  699,\n  700,\n  701,\n  702,\n  703,\n  704,\n  705,\n  706,\n  707,\n  708,\n  709,\n  710,\n  711,\n  712,\n  713,\n  714,\n  715,\n  716,\n  717,\n  718,\n  719,\n  720,\n  721,\n  722,\n  723,\n  724,\n  725,\n  726,\n  727,\n  728,\n  729,\n  730,\n  731,\n  732,\n  733,\n  734,\n  735,\n  736,\n  737,\n  738,\n  739,\n  740,\n  741,\n  742,\n  743,\n  744,\n  745,\n  746,\n  747,\n  748,\n  749,\n  750,\n  751,\n  752,\n  753,\n  754,\n  755,\n  756,\n  757,\n  758,\n  759,\n  760,\n  761,\n  762,\n  763,\n  764,\n  765,\n  766,\n  767,\n  768,\n  769,\n  770,\n  771,\n  772,\n  773,\n  774,\n  775,\n  776,\n  777,\n  778,\n  779,\n  780,\n  781,\n  782,\n  783,\n  784,\n  785,\n  786,\n  787,\n  788,\n  789,\n  790,\n  791,\n  792,\n  793,\n  794,\n  795,\n  796,\n  797,\n  798,\n  799,\n  800,\n  801,\n  802,\n  803,\n  804,\n  805,\n  806,\n  807,\n  808,\n  809,\n  810,\n  811,\n  812,\n  813,\n  814,\n  815,\n  816,\n  817,\n  818,\n  819,\n  820,\n  821,\n  822,\n  823,\n  824,\n  825,\n  826,\n  827,\n  828,\n  829,\n  830,\n  831,\n  832,\n  833,\n  834,\n  835,\n  836,\n  837,\n  838,\n  839,\n  840,\n  841,\n  842,\n  843,\n  844,\n  845,\n  846,\n  847,\n  848,\n  849,\n  850,\n  851,\n  852,\n  853,\n  854,\n  855,\n  856,\n  857,\n  858,\n  859,\n  860,\n  861,\n  862,\n  863,\n  864,\n  865,\n  866,\n  867,\n  868,\n  869,\n  870,\n  871,\n  872,\n  873,\n  874,\n  875,\n  876,\n  877,\n  878,\n  879,\n  880,\n  881,\n  882,\n  883,\n  884,\n  885,\n  886,\n  887,\n  888,\n  889,\n  890,\n  891],\n 'Survived': [0,\n  1,\n  1,\n  1,\n  0,\n  0,\n  0,\n  0,\n  1,\n  1,\n  1,\n  1,\n  0,\n  0,\n  0,\n  1,\n  0,\n  1,\n  0,\n  1,\n  0,\n  1,\n  1,\n  1,\n  0,\n  1,\n  0,\n  0,\n  1,\n  0,\n  0,\n  1,\n  1,\n  0,\n  0,\n  0,\n  1,\n  0,\n  0,\n  1,\n  0,\n  0,\n  0,\n  1,\n  1,\n  0,\n  0,\n  1,\n  0,\n  0,\n  0,\n  0,\n  1,\n  1,\n  0,\n  1,\n  1,\n  0,\n  1,\n  0,\n  0,\n  1,\n  0,\n  0,\n  0,\n  1,\n  1,\n  0,\n  1,\n  0,\n  0,\n  0,\n  0,\n  0,\n  1,\n  0,\n  0,\n  0,\n  1,\n  1,\n  0,\n  1,\n  1,\n  0,\n  1,\n  1,\n  0,\n  0,\n  1,\n  0,\n  0,\n  0,\n  0,\n  0,\n  0,\n  0,\n  0,\n  1,\n  1,\n  0,\n  0,\n  0,\n  0,\n  0,\n  0,\n  0,\n  1,\n  1,\n  0,\n  1,\n  0,\n  0,\n  0,\n  0,\n  0,\n  0,\n  0,\n  0,\n  0,\n  0,\n  0,\n  0,\n  0,\n  1,\n  0,\n  1,\n  0,\n  1,\n  1,\n  0,\n  0,\n  0,\n  0,\n  1,\n  0,\n  0,\n  1,\n  0,\n  0,\n  0,\n  0,\n  1,\n  1,\n  0,\n  0,\n  0,\n  1,\n  0,\n  0,\n  0,\n  0,\n  1,\n  0,\n  0,\n  0,\n  0,\n  1,\n  0,\n  0,\n  0,\n  0,\n  1,\n  0,\n  0,\n  0,\n  1,\n  1,\n  0,\n  0,\n  0,\n  0,\n  0,\n  1,\n  0,\n  0,\n  0,\n  0,\n  0,\n  0,\n  0,\n  0,\n  0,\n  0,\n  1,\n  1,\n  0,\n  1,\n  1,\n  0,\n  0,\n  1,\n  0,\n  1,\n  1,\n  1,\n  1,\n  0,\n  0,\n  1,\n  0,\n  0,\n  0,\n  0,\n  0,\n  1,\n  0,\n  0,\n  1,\n  1,\n  1,\n  0,\n  1,\n  0,\n  0,\n  0,\n  1,\n  1,\n  0,\n  1,\n  0,\n  1,\n  0,\n  0,\n  0,\n  1,\n  0,\n  1,\n  0,\n  0,\n  0,\n  1,\n  0,\n  0,\n  1,\n  0,\n  0,\n  0,\n  1,\n  0,\n  0,\n  0,\n  1,\n  0,\n  0,\n  0,\n  0,\n  0,\n  1,\n  1,\n  0,\n  0,\n  0,\n  0,\n  0,\n  0,\n  1,\n  1,\n  1,\n  1,\n  1,\n  0,\n  1,\n  0,\n  0,\n  0,\n  0,\n  0,\n  1,\n  1,\n  1,\n  0,\n  1,\n  1,\n  0,\n  1,\n  1,\n  0,\n  0,\n  0,\n  1,\n  0,\n  0,\n  0,\n  1,\n  0,\n  0,\n  1,\n  0,\n  1,\n  1,\n  1,\n  1,\n  0,\n  0,\n  0,\n  0,\n  0,\n  0,\n  1,\n  1,\n  1,\n  1,\n  0,\n  1,\n  0,\n  1,\n  1,\n  1,\n  0,\n  1,\n  1,\n  1,\n  0,\n  0,\n  0,\n  1,\n  1,\n  0,\n  1,\n  1,\n  0,\n  0,\n  1,\n  1,\n  0,\n  1,\n  0,\n  1,\n  1,\n  1,\n  1,\n  0,\n  0,\n  0,\n  1,\n  0,\n  0,\n  1,\n  1,\n  0,\n  1,\n  1,\n  0,\n  0,\n  0,\n  1,\n  1,\n  1,\n  1,\n  0,\n  0,\n  0,\n  0,\n  0,\n  0,\n  0,\n  1,\n  0,\n  1,\n  1,\n  0,\n  0,\n  0,\n  0,\n  0,\n  0,\n  1,\n  1,\n  1,\n  1,\n  1,\n  0,\n  0,\n  0,\n  0,\n  1,\n  1,\n  0,\n  0,\n  0,\n  1,\n  1,\n  0,\n  1,\n  0,\n  0,\n  0,\n  1,\n  0,\n  1,\n  1,\n  1,\n  0,\n  1,\n  1,\n  0,\n  0,\n  0,\n  0,\n  1,\n  1,\n  0,\n  0,\n  0,\n  0,\n  0,\n  0,\n  1,\n  0,\n  0,\n  0,\n  0,\n  1,\n  0,\n  1,\n  0,\n  1,\n  1,\n  0,\n  0,\n  0,\n  0,\n  0,\n  0,\n  0,\n  0,\n  1,\n  1,\n  0,\n  1,\n  1,\n  1,\n  1,\n  0,\n  0,\n  1,\n  0,\n  1,\n  0,\n  0,\n  1,\n  0,\n  0,\n  1,\n  1,\n  1,\n  1,\n  1,\n  1,\n  1,\n  0,\n  0,\n  0,\n  1,\n  0,\n  1,\n  0,\n  1,\n  1,\n  0,\n  1,\n  0,\n  0,\n  0,\n  0,\n  0,\n  0,\n  0,\n  0,\n  1,\n  0,\n  0,\n  1,\n  1,\n  0,\n  0,\n  0,\n  0,\n  0,\n  1,\n  0,\n  0,\n  0,\n  1,\n  1,\n  0,\n  1,\n  0,\n  0,\n  1,\n  0,\n  0,\n  0,\n  0,\n  0,\n  0,\n  1,\n  0,\n  0,\n  0,\n  0,\n  0,\n  0,\n  0,\n  1,\n  0,\n  1,\n  1,\n  0,\n  1,\n  1,\n  0,\n  1,\n  1,\n  0,\n  0,\n  1,\n  0,\n  1,\n  0,\n  1,\n  0,\n  0,\n  1,\n  0,\n  0,\n  1,\n  0,\n  0,\n  0,\n  1,\n  0,\n  0,\n  1,\n  0,\n  1,\n  0,\n  1,\n  0,\n  1,\n  1,\n  0,\n  0,\n  1,\n  0,\n  0,\n  1,\n  1,\n  0,\n  1,\n  1,\n  0,\n  0,\n  1,\n  1,\n  0,\n  1,\n  0,\n  1,\n  1,\n  0,\n  0,\n  0,\n  0,\n  0,\n  0,\n  0,\n  0,\n  0,\n  1,\n  1,\n  1,\n  1,\n  1,\n  0,\n  0,\n  1,\n  1,\n  0,\n  1,\n  1,\n  1,\n  0,\n  0,\n  0,\n  1,\n  0,\n  1,\n  0,\n  0,\n  0,\n  1,\n  0,\n  0,\n  0,\n  0,\n  1,\n  0,\n  0,\n  1,\n  1,\n  0,\n  0,\n  0,\n  1,\n  0,\n  0,\n  1,\n  1,\n  1,\n  0,\n  0,\n  1,\n  0,\n  0,\n  1,\n  0,\n  0,\n  1,\n  0,\n  0,\n  1,\n  1,\n  0,\n  0,\n  0,\n  0,\n  1,\n  0,\n  0,\n  1,\n  0,\n  1,\n  0,\n  0,\n  1,\n  0,\n  0,\n  0,\n  0,\n  0,\n  1,\n  0,\n  1,\n  1,\n  1,\n  0,\n  1,\n  0,\n  1,\n  0,\n  1,\n  0,\n  1,\n  0,\n  0,\n  0,\n  0,\n  0,\n  0,\n  1,\n  0,\n  0,\n  0,\n  1,\n  0,\n  0,\n  0,\n  0,\n  1,\n  1,\n  0,\n  0,\n  1,\n  0,\n  0,\n  0,\n  1,\n  0,\n  1,\n  0,\n  1,\n  0,\n  0,\n  0,\n  0,\n  0,\n  0,\n  0,\n  1,\n  1,\n  1,\n  1,\n  0,\n  0,\n  0,\n  0,\n  1,\n  0,\n  0,\n  1,\n  1,\n  0,\n  0,\n  0,\n  0,\n  1,\n  1,\n  1,\n  1,\n  1,\n  0,\n  1,\n  0,\n  0,\n  0,\n  1,\n  1,\n  0,\n  0,\n  1,\n  0,\n  0,\n  0,\n  1,\n  0,\n  1,\n  1,\n  0,\n  0,\n  1,\n  0,\n  0,\n  0,\n  0,\n  0,\n  0,\n  1,\n  0,\n  0,\n  1,\n  0,\n  1,\n  0,\n  1,\n  0,\n  0,\n  1,\n  0,\n  0,\n  1,\n  1,\n  0,\n  0,\n  1,\n  1,\n  0,\n  0,\n  0,\n  1,\n  0,\n  0,\n  1,\n  1,\n  0,\n  1,\n  0,\n  0,\n  0,\n  0,\n  0,\n  0,\n  0,\n  0,\n  1,\n  0,\n  0,\n  1,\n  0,\n  1,\n  1,\n  1,\n  0,\n  0,\n  0,\n  0,\n  1,\n  0,\n  1,\n  0,\n  0,\n  0,\n  0,\n  0,\n  0,\n  0,\n  1,\n  1,\n  0,\n  0,\n  0,\n  1,\n  1,\n  1,\n  1,\n  0,\n  0,\n  0,\n  0,\n  1,\n  0,\n  0,\n  0,\n  0,\n  0,\n  0,\n  0,\n  0,\n  0,\n  0,\n  1,\n  1,\n  0,\n  1,\n  0,\n  0,\n  0,\n  1,\n  1,\n  1,\n  1,\n  1,\n  0,\n  0,\n  0,\n  1,\n  0,\n  0,\n  1,\n  1,\n  0,\n  0,\n  1,\n  0,\n  0,\n  0,\n  0,\n  0,\n  0,\n  1,\n  0,\n  0,\n  0,\n  1,\n  0,\n  1,\n  1,\n  1,\n  1,\n  0,\n  0,\n  0,\n  1,\n  0,\n  0,\n  1,\n  1,\n  0,\n  0,\n  1,\n  0,\n  1,\n  0,\n  0,\n  1,\n  1,\n  0,\n  0,\n  0,\n  1,\n  1,\n  0,\n  0,\n  0,\n  0,\n  0,\n  0,\n  1,\n  0,\n  1,\n  0],\n 'Pclass': [3,\n  1,\n  3,\n  1,\n  3,\n  3,\n  1,\n  3,\n  3,\n  2,\n  3,\n  1,\n  3,\n  3,\n  3,\n  2,\n  3,\n  2,\n  3,\n  3,\n  2,\n  2,\n  3,\n  1,\n  3,\n  3,\n  3,\n  1,\n  3,\n  3,\n  1,\n  1,\n  3,\n  2,\n  1,\n  1,\n  3,\n  3,\n  3,\n  3,\n  3,\n  2,\n  3,\n  2,\n  3,\n  3,\n  3,\n  3,\n  3,\n  3,\n  3,\n  3,\n  1,\n  2,\n  1,\n  1,\n  2,\n  3,\n  2,\n  3,\n  3,\n  1,\n  1,\n  3,\n  1,\n  3,\n  2,\n  3,\n  3,\n  3,\n  2,\n  3,\n  2,\n  3,\n  3,\n  3,\n  3,\n  3,\n  2,\n  3,\n  3,\n  3,\n  3,\n  1,\n  2,\n  3,\n  3,\n  3,\n  1,\n  3,\n  3,\n  3,\n  1,\n  3,\n  3,\n  3,\n  1,\n  1,\n  2,\n  2,\n  3,\n  3,\n  1,\n  3,\n  3,\n  3,\n  3,\n  3,\n  3,\n  3,\n  1,\n  3,\n  3,\n  3,\n  3,\n  3,\n  3,\n  2,\n  1,\n  3,\n  2,\n  3,\n  2,\n  2,\n  1,\n  3,\n  3,\n  3,\n  3,\n  3,\n  3,\n  3,\n  3,\n  2,\n  2,\n  2,\n  1,\n  1,\n  3,\n  1,\n  3,\n  3,\n  3,\n  3,\n  2,\n  2,\n  3,\n  3,\n  2,\n  2,\n  2,\n  1,\n  3,\n  3,\n  3,\n  1,\n  3,\n  3,\n  3,\n  3,\n  3,\n  2,\n  3,\n  3,\n  3,\n  3,\n  1,\n  3,\n  1,\n  3,\n  1,\n  3,\n  3,\n  3,\n  1,\n  3,\n  3,\n  1,\n  2,\n  3,\n  3,\n  2,\n  3,\n  2,\n  3,\n  1,\n  3,\n  1,\n  3,\n  3,\n  2,\n  2,\n  3,\n  2,\n  1,\n  1,\n  3,\n  3,\n  3,\n  2,\n  3,\n  3,\n  3,\n  3,\n  3,\n  3,\n  3,\n  3,\n  3,\n  1,\n  3,\n  2,\n  3,\n  2,\n  3,\n  1,\n  3,\n  2,\n  1,\n  2,\n  3,\n  2,\n  3,\n  3,\n  1,\n  3,\n  2,\n  3,\n  2,\n  3,\n  1,\n  3,\n  2,\n  3,\n  2,\n  3,\n  2,\n  2,\n  2,\n  2,\n  3,\n  3,\n  2,\n  3,\n  3,\n  1,\n  3,\n  2,\n  1,\n  2,\n  3,\n  3,\n  1,\n  3,\n  3,\n  3,\n  1,\n  1,\n  1,\n  2,\n  3,\n  3,\n  1,\n  1,\n  3,\n  2,\n  3,\n  3,\n  1,\n  1,\n  1,\n  3,\n  2,\n  1,\n  3,\n  1,\n  3,\n  2,\n  3,\n  3,\n  3,\n  3,\n  3,\n  3,\n  1,\n  3,\n  3,\n  3,\n  2,\n  3,\n  1,\n  1,\n  2,\n  3,\n  3,\n  1,\n  3,\n  1,\n  1,\n  1,\n  3,\n  3,\n  3,\n  2,\n  3,\n  1,\n  1,\n  1,\n  2,\n  1,\n  1,\n  1,\n  2,\n  3,\n  2,\n  3,\n  2,\n  2,\n  1,\n  1,\n  3,\n  3,\n  2,\n  2,\n  3,\n  1,\n  3,\n  2,\n  3,\n  1,\n  3,\n  1,\n  1,\n  3,\n  1,\n  3,\n  1,\n  1,\n  3,\n  1,\n  2,\n  1,\n  2,\n  2,\n  2,\n  2,\n  2,\n  3,\n  3,\n  3,\n  3,\n  1,\n  3,\n  3,\n  3,\n  3,\n  1,\n  2,\n  3,\n  3,\n  3,\n  2,\n  3,\n  3,\n  3,\n  3,\n  1,\n  3,\n  3,\n  1,\n  1,\n  3,\n  3,\n  1,\n  3,\n  1,\n  3,\n  1,\n  3,\n  3,\n  1,\n  3,\n  3,\n  1,\n  3,\n  2,\n  3,\n  2,\n  3,\n  2,\n  1,\n  3,\n  3,\n  1,\n  3,\n  3,\n  3,\n  2,\n  2,\n  2,\n  3,\n  3,\n  3,\n  3,\n  3,\n  2,\n  3,\n  2,\n  3,\n  3,\n  3,\n  3,\n  1,\n  2,\n  3,\n  3,\n  2,\n  2,\n  2,\n  3,\n  3,\n  3,\n  3,\n  3,\n  3,\n  3,\n  2,\n  2,\n  3,\n  3,\n  1,\n  3,\n  2,\n  3,\n  1,\n  1,\n  3,\n  2,\n  1,\n  2,\n  2,\n  3,\n  3,\n  2,\n  3,\n  1,\n  2,\n  1,\n  3,\n  1,\n  2,\n  3,\n  1,\n  1,\n  3,\n  3,\n  1,\n  1,\n  2,\n  3,\n  1,\n  3,\n  1,\n  2,\n  3,\n  3,\n  2,\n  1,\n  3,\n  3,\n  3,\n  3,\n  2,\n  2,\n  3,\n  1,\n  2,\n  3,\n  3,\n  3,\n  3,\n  2,\n  3,\n  3,\n  1,\n  3,\n  1,\n  1,\n  3,\n  3,\n  3,\n  3,\n  1,\n  1,\n  3,\n  3,\n  1,\n  3,\n  1,\n  3,\n  3,\n  3,\n  3,\n  3,\n  1,\n  1,\n  2,\n  1,\n  3,\n  3,\n  3,\n  3,\n  1,\n  1,\n  3,\n  1,\n  2,\n  3,\n  2,\n  3,\n  1,\n  3,\n  3,\n  1,\n  3,\n  3,\n  2,\n  1,\n  3,\n  2,\n  2,\n  3,\n  3,\n  3,\n  3,\n  2,\n  1,\n  1,\n  3,\n  1,\n  1,\n  3,\n  3,\n  2,\n  1,\n  1,\n  2,\n  2,\n  3,\n  2,\n  1,\n  2,\n  3,\n  3,\n  3,\n  1,\n  1,\n  1,\n  1,\n  3,\n  3,\n  3,\n  2,\n  3,\n  3,\n  3,\n  3,\n  3,\n  3,\n  3,\n  2,\n  1,\n  1,\n  3,\n  3,\n  3,\n  2,\n  1,\n  3,\n  3,\n  2,\n  1,\n  2,\n  1,\n  3,\n  1,\n  2,\n  1,\n  3,\n  3,\n  3,\n  1,\n  3,\n  3,\n  2,\n  3,\n  2,\n  3,\n  3,\n  1,\n  2,\n  3,\n  1,\n  3,\n  1,\n  3,\n  3,\n  1,\n  2,\n  1,\n  3,\n  3,\n  3,\n  3,\n  3,\n  2,\n  3,\n  3,\n  2,\n  2,\n  3,\n  1,\n  3,\n  3,\n  3,\n  1,\n  2,\n  1,\n  3,\n  3,\n  1,\n  3,\n  1,\n  1,\n  3,\n  2,\n  3,\n  2,\n  3,\n  3,\n  3,\n  1,\n  3,\n  3,\n  3,\n  1,\n  3,\n  1,\n  3,\n  3,\n  3,\n  2,\n  3,\n  3,\n  3,\n  2,\n  3,\n  3,\n  2,\n  1,\n  1,\n  3,\n  1,\n  3,\n  3,\n  2,\n  2,\n  3,\n  3,\n  1,\n  2,\n  1,\n  2,\n  2,\n  2,\n  3,\n  3,\n  3,\n  3,\n  1,\n  3,\n  1,\n  3,\n  3,\n  2,\n  2,\n  3,\n  3,\n  3,\n  1,\n  1,\n  3,\n  3,\n  3,\n  1,\n  2,\n  3,\n  3,\n  1,\n  3,\n  1,\n  1,\n  3,\n  3,\n  3,\n  2,\n  2,\n  1,\n  1,\n  3,\n  1,\n  1,\n  1,\n  3,\n  2,\n  3,\n  1,\n  2,\n  3,\n  3,\n  2,\n  3,\n  2,\n  2,\n  1,\n  3,\n  2,\n  3,\n  2,\n  3,\n  1,\n  3,\n  2,\n  2,\n  2,\n  3,\n  3,\n  1,\n  3,\n  3,\n  1,\n  1,\n  1,\n  3,\n  3,\n  1,\n  3,\n  2,\n  1,\n  3,\n  2,\n  3,\n  3,\n  3,\n  2,\n  2,\n  3,\n  2,\n  3,\n  1,\n  3,\n  3,\n  3,\n  1,\n  3,\n  1,\n  1,\n  3,\n  3,\n  3,\n  3,\n  3,\n  2,\n  3,\n  2,\n  3,\n  3,\n  3,\n  3,\n  1,\n  3,\n  1,\n  1,\n  3,\n  3,\n  3,\n  3,\n  3,\n  3,\n  1,\n  3,\n  2,\n  3,\n  1,\n  3,\n  2,\n  1,\n  3,\n  3,\n  3,\n  2,\n  2,\n  1,\n  3,\n  3,\n  3,\n  1,\n  3,\n  2,\n  1,\n  3,\n  3,\n  2,\n  3,\n  3,\n  1,\n  3,\n  2,\n  3,\n  3,\n  1,\n  3,\n  1,\n  3,\n  3,\n  3,\n  3,\n  2,\n  3,\n  1,\n  3,\n  2,\n  3,\n  3,\n  3,\n  1,\n  3,\n  3,\n  3,\n  1,\n  3,\n  2,\n  1,\n  3,\n  3,\n  3,\n  3,\n  3,\n  2,\n  1,\n  3,\n  3,\n  3,\n  1,\n  2,\n  3,\n  1,\n  1,\n  3,\n  3,\n  3,\n  2,\n  1,\n  3,\n  2,\n  2,\n  2,\n  1,\n  3,\n  3,\n  3,\n  1,\n  1,\n  3,\n  2,\n  3,\n  3,\n  3,\n  3,\n  1,\n  2,\n  3,\n  3,\n  2,\n  3,\n  3,\n  2,\n  1,\n  3,\n  1,\n  3],\n 'Name': ['Braund, Mr. Owen Harris',\n  'Cumings, Mrs. John Bradley (Florence Briggs Thayer)',\n  'Heikkinen, Miss. Laina',\n  'Futrelle, Mrs. Jacques Heath (Lily May Peel)',\n  'Allen, Mr. William Henry',\n  'Moran, Mr. James',\n  'McCarthy, Mr. Timothy J',\n  'Palsson, Master. Gosta Leonard',\n  'Johnson, Mrs. Oscar W (Elisabeth Vilhelmina Berg)',\n  'Nasser, Mrs. Nicholas (Adele Achem)',\n  'Sandstrom, Miss. Marguerite Rut',\n  'Bonnell, Miss. Elizabeth',\n  'Saundercock, Mr. William Henry',\n  'Andersson, Mr. Anders Johan',\n  'Vestrom, Miss. Hulda Amanda Adolfina',\n  'Hewlett, Mrs. (Mary D Kingcome) ',\n  'Rice, Master. Eugene',\n  'Williams, Mr. Charles Eugene',\n  'Vander Planke, Mrs. Julius (Emelia Maria Vandemoortele)',\n  'Masselmani, Mrs. Fatima',\n  'Fynney, Mr. Joseph J',\n  'Beesley, Mr. Lawrence',\n  'McGowan, Miss. Anna \"Annie\"',\n  'Sloper, Mr. William Thompson',\n  'Palsson, Miss. Torborg Danira',\n  'Asplund, Mrs. Carl Oscar (Selma Augusta Emilia Johansson)',\n  'Emir, Mr. Farred Chehab',\n  'Fortune, Mr. Charles Alexander',\n  'O\\'Dwyer, Miss. Ellen \"Nellie\"',\n  'Todoroff, Mr. Lalio',\n  'Uruchurtu, Don. Manuel E',\n  'Spencer, Mrs. William Augustus (Marie Eugenie)',\n  'Glynn, Miss. Mary Agatha',\n  'Wheadon, Mr. Edward H',\n  'Meyer, Mr. Edgar Joseph',\n  'Holverson, Mr. Alexander Oskar',\n  'Mamee, Mr. Hanna',\n  'Cann, Mr. Ernest Charles',\n  'Vander Planke, Miss. Augusta Maria',\n  'Nicola-Yarred, Miss. Jamila',\n  'Ahlin, Mrs. Johan (Johanna Persdotter Larsson)',\n  'Turpin, Mrs. William John Robert (Dorothy Ann Wonnacott)',\n  'Kraeff, Mr. Theodor',\n  'Laroche, Miss. Simonne Marie Anne Andree',\n  'Devaney, Miss. Margaret Delia',\n  'Rogers, Mr. William John',\n  'Lennon, Mr. Denis',\n  \"O'Driscoll, Miss. Bridget\",\n  'Samaan, Mr. Youssef',\n  'Arnold-Franchi, Mrs. Josef (Josefine Franchi)',\n  'Panula, Master. Juha Niilo',\n  'Nosworthy, Mr. Richard Cater',\n  'Harper, Mrs. Henry Sleeper (Myna Haxtun)',\n  'Faunthorpe, Mrs. Lizzie (Elizabeth Anne Wilkinson)',\n  'Ostby, Mr. Engelhart Cornelius',\n  'Woolner, Mr. Hugh',\n  'Rugg, Miss. Emily',\n  'Novel, Mr. Mansouer',\n  'West, Miss. Constance Mirium',\n  'Goodwin, Master. William Frederick',\n  'Sirayanian, Mr. Orsen',\n  'Icard, Miss. Amelie',\n  'Harris, Mr. Henry Birkhardt',\n  'Skoog, Master. Harald',\n  'Stewart, Mr. Albert A',\n  'Moubarek, Master. Gerios',\n  'Nye, Mrs. (Elizabeth Ramell)',\n  'Crease, Mr. Ernest James',\n  'Andersson, Miss. Erna Alexandra',\n  'Kink, Mr. Vincenz',\n  'Jenkin, Mr. Stephen Curnow',\n  'Goodwin, Miss. Lillian Amy',\n  'Hood, Mr. Ambrose Jr',\n  'Chronopoulos, Mr. Apostolos',\n  'Bing, Mr. Lee',\n  'Moen, Mr. Sigurd Hansen',\n  'Staneff, Mr. Ivan',\n  'Moutal, Mr. Rahamin Haim',\n  'Caldwell, Master. Alden Gates',\n  'Dowdell, Miss. Elizabeth',\n  'Waelens, Mr. Achille',\n  'Sheerlinck, Mr. Jan Baptist',\n  'McDermott, Miss. Brigdet Delia',\n  'Carrau, Mr. Francisco M',\n  'Ilett, Miss. Bertha',\n  'Backstrom, Mrs. Karl Alfred (Maria Mathilda Gustafsson)',\n  'Ford, Mr. William Neal',\n  'Slocovski, Mr. Selman Francis',\n  'Fortune, Miss. Mabel Helen',\n  'Celotti, Mr. Francesco',\n  'Christmann, Mr. Emil',\n  'Andreasson, Mr. Paul Edvin',\n  'Chaffee, Mr. Herbert Fuller',\n  'Dean, Mr. Bertram Frank',\n  'Coxon, Mr. Daniel',\n  'Shorney, Mr. Charles Joseph',\n  'Goldschmidt, Mr. George B',\n  'Greenfield, Mr. William Bertram',\n  'Doling, Mrs. John T (Ada Julia Bone)',\n  'Kantor, Mr. Sinai',\n  'Petranec, Miss. Matilda',\n  'Petroff, Mr. Pastcho (\"Pentcho\")',\n  'White, Mr. Richard Frasar',\n  'Johansson, Mr. Gustaf Joel',\n  'Gustafsson, Mr. Anders Vilhelm',\n  'Mionoff, Mr. Stoytcho',\n  'Salkjelsvik, Miss. Anna Kristine',\n  'Moss, Mr. Albert Johan',\n  'Rekic, Mr. Tido',\n  'Moran, Miss. Bertha',\n  'Porter, Mr. Walter Chamberlain',\n  'Zabour, Miss. Hileni',\n  'Barton, Mr. David John',\n  'Jussila, Miss. Katriina',\n  'Attalah, Miss. Malake',\n  'Pekoniemi, Mr. Edvard',\n  'Connors, Mr. Patrick',\n  'Turpin, Mr. William John Robert',\n  'Baxter, Mr. Quigg Edmond',\n  'Andersson, Miss. Ellis Anna Maria',\n  'Hickman, Mr. Stanley George',\n  'Moore, Mr. Leonard Charles',\n  'Nasser, Mr. Nicholas',\n  'Webber, Miss. Susan',\n  'White, Mr. Percival Wayland',\n  'Nicola-Yarred, Master. Elias',\n  'McMahon, Mr. Martin',\n  'Madsen, Mr. Fridtjof Arne',\n  'Peter, Miss. Anna',\n  'Ekstrom, Mr. Johan',\n  'Drazenoic, Mr. Jozef',\n  'Coelho, Mr. Domingos Fernandeo',\n  'Robins, Mrs. Alexander A (Grace Charity Laury)',\n  'Weisz, Mrs. Leopold (Mathilde Francoise Pede)',\n  'Sobey, Mr. Samuel James Hayden',\n  'Richard, Mr. Emile',\n  'Newsom, Miss. Helen Monypeny',\n  'Futrelle, Mr. Jacques Heath',\n  'Osen, Mr. Olaf Elon',\n  'Giglio, Mr. Victor',\n  'Boulos, Mrs. Joseph (Sultana)',\n  'Nysten, Miss. Anna Sofia',\n  'Hakkarainen, Mrs. Pekka Pietari (Elin Matilda Dolck)',\n  'Burke, Mr. Jeremiah',\n  'Andrew, Mr. Edgardo Samuel',\n  'Nicholls, Mr. Joseph Charles',\n  'Andersson, Mr. August Edvard (\"Wennerstrom\")',\n  'Ford, Miss. Robina Maggie \"Ruby\"',\n  'Navratil, Mr. Michel (\"Louis M Hoffman\")',\n  'Byles, Rev. Thomas Roussel Davids',\n  'Bateman, Rev. Robert James',\n  'Pears, Mrs. Thomas (Edith Wearne)',\n  'Meo, Mr. Alfonzo',\n  'van Billiard, Mr. Austin Blyler',\n  'Olsen, Mr. Ole Martin',\n  'Williams, Mr. Charles Duane',\n  'Gilnagh, Miss. Katherine \"Katie\"',\n  'Corn, Mr. Harry',\n  'Smiljanic, Mr. Mile',\n  'Sage, Master. Thomas Henry',\n  'Cribb, Mr. John Hatfield',\n  'Watt, Mrs. James (Elizabeth \"Bessie\" Inglis Milne)',\n  'Bengtsson, Mr. John Viktor',\n  'Calic, Mr. Jovo',\n  'Panula, Master. Eino Viljami',\n  'Goldsmith, Master. Frank John William \"Frankie\"',\n  'Chibnall, Mrs. (Edith Martha Bowerman)',\n  'Skoog, Mrs. William (Anna Bernhardina Karlsson)',\n  'Baumann, Mr. John D',\n  'Ling, Mr. Lee',\n  'Van der hoef, Mr. Wyckoff',\n  'Rice, Master. Arthur',\n  'Johnson, Miss. Eleanor Ileen',\n  'Sivola, Mr. Antti Wilhelm',\n  'Smith, Mr. James Clinch',\n  'Klasen, Mr. Klas Albin',\n  'Lefebre, Master. Henry Forbes',\n  'Isham, Miss. Ann Elizabeth',\n  'Hale, Mr. Reginald',\n  'Leonard, Mr. Lionel',\n  'Sage, Miss. Constance Gladys',\n  'Pernot, Mr. Rene',\n  'Asplund, Master. Clarence Gustaf Hugo',\n  'Becker, Master. Richard F',\n  'Kink-Heilmann, Miss. Luise Gretchen',\n  'Rood, Mr. Hugh Roscoe',\n  'O\\'Brien, Mrs. Thomas (Johanna \"Hannah\" Godfrey)',\n  'Romaine, Mr. Charles Hallace (\"Mr C Rolmane\")',\n  'Bourke, Mr. John',\n  'Turcin, Mr. Stjepan',\n  'Pinsky, Mrs. (Rosa)',\n  'Carbines, Mr. William',\n  'Andersen-Jensen, Miss. Carla Christine Nielsine',\n  'Navratil, Master. Michel M',\n  'Brown, Mrs. James Joseph (Margaret Tobin)',\n  'Lurette, Miss. Elise',\n  'Mernagh, Mr. Robert',\n  'Olsen, Mr. Karl Siegwart Andreas',\n  'Madigan, Miss. Margaret \"Maggie\"',\n  'Yrois, Miss. Henriette (\"Mrs Harbeck\")',\n  'Vande Walle, Mr. Nestor Cyriel',\n  'Sage, Mr. Frederick',\n  'Johanson, Mr. Jakob Alfred',\n  'Youseff, Mr. Gerious',\n  'Cohen, Mr. Gurshon \"Gus\"',\n  'Strom, Miss. Telma Matilda',\n  'Backstrom, Mr. Karl Alfred',\n  'Albimona, Mr. Nassef Cassem',\n  'Carr, Miss. Helen \"Ellen\"',\n  'Blank, Mr. Henry',\n  'Ali, Mr. Ahmed',\n  'Cameron, Miss. Clear Annie',\n  'Perkin, Mr. John Henry',\n  'Givard, Mr. Hans Kristensen',\n  'Kiernan, Mr. Philip',\n  'Newell, Miss. Madeleine',\n  'Honkanen, Miss. Eliina',\n  'Jacobsohn, Mr. Sidney Samuel',\n  'Bazzani, Miss. Albina',\n  'Harris, Mr. Walter',\n  'Sunderland, Mr. Victor Francis',\n  'Bracken, Mr. James H',\n  'Green, Mr. George Henry',\n  'Nenkoff, Mr. Christo',\n  'Hoyt, Mr. Frederick Maxfield',\n  'Berglund, Mr. Karl Ivar Sven',\n  'Mellors, Mr. William John',\n  'Lovell, Mr. John Hall (\"Henry\")',\n  'Fahlstrom, Mr. Arne Jonas',\n  'Lefebre, Miss. Mathilde',\n  'Harris, Mrs. Henry Birkhardt (Irene Wallach)',\n  'Larsson, Mr. Bengt Edvin',\n  'Sjostedt, Mr. Ernst Adolf',\n  'Asplund, Miss. Lillian Gertrud',\n  'Leyson, Mr. Robert William Norman',\n  'Harknett, Miss. Alice Phoebe',\n  'Hold, Mr. Stephen',\n  'Collyer, Miss. Marjorie \"Lottie\"',\n  'Pengelly, Mr. Frederick William',\n  'Hunt, Mr. George Henry',\n  'Zabour, Miss. Thamine',\n  'Murphy, Miss. Katherine \"Kate\"',\n  'Coleridge, Mr. Reginald Charles',\n  'Maenpaa, Mr. Matti Alexanteri',\n  'Attalah, Mr. Sleiman',\n  'Minahan, Dr. William Edward',\n  'Lindahl, Miss. Agda Thorilda Viktoria',\n  'Hamalainen, Mrs. William (Anna)',\n  'Beckwith, Mr. Richard Leonard',\n  'Carter, Rev. Ernest Courtenay',\n  'Reed, Mr. James George',\n  'Strom, Mrs. Wilhelm (Elna Matilda Persson)',\n  'Stead, Mr. William Thomas',\n  'Lobb, Mr. William Arthur',\n  'Rosblom, Mrs. Viktor (Helena Wilhelmina)',\n  'Touma, Mrs. Darwis (Hanne Youssef Razi)',\n  'Thorne, Mrs. Gertrude Maybelle',\n  'Cherry, Miss. Gladys',\n  'Ward, Miss. Anna',\n  'Parrish, Mrs. (Lutie Davis)',\n  'Smith, Mr. Thomas',\n  'Asplund, Master. Edvin Rojj Felix',\n  'Taussig, Mr. Emil',\n  'Harrison, Mr. William',\n  'Henry, Miss. Delia',\n  'Reeves, Mr. David',\n  'Panula, Mr. Ernesti Arvid',\n  'Persson, Mr. Ernst Ulrik',\n  'Graham, Mrs. William Thompson (Edith Junkins)',\n  'Bissette, Miss. Amelia',\n  'Cairns, Mr. Alexander',\n  'Tornquist, Mr. William Henry',\n  'Mellinger, Mrs. (Elizabeth Anne Maidment)',\n  'Natsch, Mr. Charles H',\n  'Healy, Miss. Hanora \"Nora\"',\n  'Andrews, Miss. Kornelia Theodosia',\n  'Lindblom, Miss. Augusta Charlotta',\n  'Parkes, Mr. Francis \"Frank\"',\n  'Rice, Master. Eric',\n  'Abbott, Mrs. Stanton (Rosa Hunt)',\n  'Duane, Mr. Frank',\n  'Olsson, Mr. Nils Johan Goransson',\n  'de Pelsmaeker, Mr. Alfons',\n  'Dorking, Mr. Edward Arthur',\n  'Smith, Mr. Richard William',\n  'Stankovic, Mr. Ivan',\n  'de Mulder, Mr. Theodore',\n  'Naidenoff, Mr. Penko',\n  'Hosono, Mr. Masabumi',\n  'Connolly, Miss. Kate',\n  'Barber, Miss. Ellen \"Nellie\"',\n  'Bishop, Mrs. Dickinson H (Helen Walton)',\n  'Levy, Mr. Rene Jacques',\n  'Haas, Miss. Aloisia',\n  'Mineff, Mr. Ivan',\n  'Lewy, Mr. Ervin G',\n  'Hanna, Mr. Mansour',\n  'Allison, Miss. Helen Loraine',\n  'Saalfeld, Mr. Adolphe',\n  'Baxter, Mrs. James (Helene DeLaudeniere Chaput)',\n  'Kelly, Miss. Anna Katherine \"Annie Kate\"',\n  'McCoy, Mr. Bernard',\n  'Johnson, Mr. William Cahoone Jr',\n  'Keane, Miss. Nora A',\n  'Williams, Mr. Howard Hugh \"Harry\"',\n  'Allison, Master. Hudson Trevor',\n  'Fleming, Miss. Margaret',\n  'Penasco y Castellana, Mrs. Victor de Satode (Maria Josefa Perez de Soto y Vallejo)',\n  'Abelson, Mr. Samuel',\n  'Francatelli, Miss. Laura Mabel',\n  'Hays, Miss. Margaret Bechstein',\n  'Ryerson, Miss. Emily Borie',\n  'Lahtinen, Mrs. William (Anna Sylfven)',\n  'Hendekovic, Mr. Ignjac',\n  'Hart, Mr. Benjamin',\n  'Nilsson, Miss. Helmina Josefina',\n  'Kantor, Mrs. Sinai (Miriam Sternin)',\n  'Moraweck, Dr. Ernest',\n  'Wick, Miss. Mary Natalie',\n  'Spedden, Mrs. Frederic Oakley (Margaretta Corning Stone)',\n  'Dennis, Mr. Samuel',\n  'Danoff, Mr. Yoto',\n  'Slayter, Miss. Hilda Mary',\n  'Caldwell, Mrs. Albert Francis (Sylvia Mae Harbaugh)',\n  'Sage, Mr. George John Jr',\n  'Young, Miss. Marie Grice',\n  'Nysveen, Mr. Johan Hansen',\n  'Ball, Mrs. (Ada E Hall)',\n  'Goldsmith, Mrs. Frank John (Emily Alice Brown)',\n  'Hippach, Miss. Jean Gertrude',\n  'McCoy, Miss. Agnes',\n  'Partner, Mr. Austen',\n  'Graham, Mr. George Edward',\n  'Vander Planke, Mr. Leo Edmondus',\n  'Frauenthal, Mrs. Henry William (Clara Heinsheimer)',\n  'Denkoff, Mr. Mitto',\n  'Pears, Mr. Thomas Clinton',\n  'Burns, Miss. Elizabeth Margaret',\n  'Dahl, Mr. Karl Edwart',\n  'Blackwell, Mr. Stephen Weart',\n  'Navratil, Master. Edmond Roger',\n  'Fortune, Miss. Alice Elizabeth',\n  'Collander, Mr. Erik Gustaf',\n  'Sedgwick, Mr. Charles Frederick Waddington',\n  'Fox, Mr. Stanley Hubert',\n  'Brown, Miss. Amelia \"Mildred\"',\n  'Smith, Miss. Marion Elsie',\n  'Davison, Mrs. Thomas Henry (Mary E Finck)',\n  'Coutts, Master. William Loch \"William\"',\n  'Dimic, Mr. Jovan',\n  'Odahl, Mr. Nils Martin',\n  'Williams-Lambert, Mr. Fletcher Fellows',\n  'Elias, Mr. Tannous',\n  'Arnold-Franchi, Mr. Josef',\n  'Yousif, Mr. Wazli',\n  'Vanden Steen, Mr. Leo Peter',\n  'Bowerman, Miss. Elsie Edith',\n  'Funk, Miss. Annie Clemmer',\n  'McGovern, Miss. Mary',\n  'Mockler, Miss. Helen Mary \"Ellie\"',\n  'Skoog, Mr. Wilhelm',\n  'del Carlo, Mr. Sebastiano',\n  'Barbara, Mrs. (Catherine David)',\n  'Asim, Mr. Adola',\n  \"O'Brien, Mr. Thomas\",\n  'Adahl, Mr. Mauritz Nils Martin',\n  'Warren, Mrs. Frank Manley (Anna Sophia Atkinson)',\n  'Moussa, Mrs. (Mantoura Boulos)',\n  'Jermyn, Miss. Annie',\n  'Aubart, Mme. Leontine Pauline',\n  'Harder, Mr. George Achilles',\n  'Wiklund, Mr. Jakob Alfred',\n  'Beavan, Mr. William Thomas',\n  'Ringhini, Mr. Sante',\n  'Palsson, Miss. Stina Viola',\n  'Meyer, Mrs. Edgar Joseph (Leila Saks)',\n  'Landergren, Miss. Aurora Adelia',\n  'Widener, Mr. Harry Elkins',\n  'Betros, Mr. Tannous',\n  'Gustafsson, Mr. Karl Gideon',\n  'Bidois, Miss. Rosalie',\n  'Nakid, Miss. Maria (\"Mary\")',\n  'Tikkanen, Mr. Juho',\n  'Holverson, Mrs. Alexander Oskar (Mary Aline Towner)',\n  'Plotcharsky, Mr. Vasil',\n  'Davies, Mr. Charles Henry',\n  'Goodwin, Master. Sidney Leonard',\n  'Buss, Miss. Kate',\n  'Sadlier, Mr. Matthew',\n  'Lehmann, Miss. Bertha',\n  'Carter, Mr. William Ernest',\n  'Jansson, Mr. Carl Olof',\n  'Gustafsson, Mr. Johan Birger',\n  'Newell, Miss. Marjorie',\n  'Sandstrom, Mrs. Hjalmar (Agnes Charlotta Bengtsson)',\n  'Johansson, Mr. Erik',\n  'Olsson, Miss. Elina',\n  'McKane, Mr. Peter David',\n  'Pain, Dr. Alfred',\n  'Trout, Mrs. William H (Jessie L)',\n  'Niskanen, Mr. Juha',\n  'Adams, Mr. John',\n  'Jussila, Miss. Mari Aina',\n  'Hakkarainen, Mr. Pekka Pietari',\n  'Oreskovic, Miss. Marija',\n  'Gale, Mr. Shadrach',\n  'Widegren, Mr. Carl/Charles Peter',\n  'Richards, Master. William Rowe',\n  'Birkeland, Mr. Hans Martin Monsen',\n  'Lefebre, Miss. Ida',\n  'Sdycoff, Mr. Todor',\n  'Hart, Mr. Henry',\n  'Minahan, Miss. Daisy E',\n  'Cunningham, Mr. Alfred Fleming',\n  'Sundman, Mr. Johan Julian',\n  'Meek, Mrs. Thomas (Annie Louise Rowley)',\n  'Drew, Mrs. James Vivian (Lulu Thorne Christian)',\n  'Silven, Miss. Lyyli Karoliina',\n  'Matthews, Mr. William John',\n  'Van Impe, Miss. Catharina',\n  'Gheorgheff, Mr. Stanio',\n  'Charters, Mr. David',\n  'Zimmerman, Mr. Leo',\n  'Danbom, Mrs. Ernst Gilbert (Anna Sigrid Maria Brogren)',\n  'Rosblom, Mr. Viktor Richard',\n  'Wiseman, Mr. Phillippe',\n  'Clarke, Mrs. Charles V (Ada Maria Winfield)',\n  'Phillips, Miss. Kate Florence (\"Mrs Kate Louise Phillips Marshall\")',\n  'Flynn, Mr. James',\n  'Pickard, Mr. Berk (Berk Trembisky)',\n  'Bjornstrom-Steffansson, Mr. Mauritz Hakan',\n  'Thorneycroft, Mrs. Percival (Florence Kate White)',\n  'Louch, Mrs. Charles Alexander (Alice Adelaide Slow)',\n  'Kallio, Mr. Nikolai Erland',\n  'Silvey, Mr. William Baird',\n  'Carter, Miss. Lucile Polk',\n  'Ford, Miss. Doolina Margaret \"Daisy\"',\n  'Richards, Mrs. Sidney (Emily Hocking)',\n  'Fortune, Mr. Mark',\n  'Kvillner, Mr. Johan Henrik Johannesson',\n  'Hart, Mrs. Benjamin (Esther Ada Bloomfield)',\n  'Hampe, Mr. Leon',\n  'Petterson, Mr. Johan Emil',\n  'Reynaldo, Ms. Encarnacion',\n  'Johannesen-Bratthammer, Mr. Bernt',\n  'Dodge, Master. Washington',\n  'Mellinger, Miss. Madeleine Violet',\n  'Seward, Mr. Frederic Kimber',\n  'Baclini, Miss. Marie Catherine',\n  'Peuchen, Major. Arthur Godfrey',\n  'West, Mr. Edwy Arthur',\n  'Hagland, Mr. Ingvald Olai Olsen',\n  'Foreman, Mr. Benjamin Laventall',\n  'Goldenberg, Mr. Samuel L',\n  'Peduzzi, Mr. Joseph',\n  'Jalsevac, Mr. Ivan',\n  'Millet, Mr. Francis Davis',\n  'Kenyon, Mrs. Frederick R (Marion)',\n  'Toomey, Miss. Ellen',\n  \"O'Connor, Mr. Maurice\",\n  'Anderson, Mr. Harry',\n  'Morley, Mr. William',\n  'Gee, Mr. Arthur H',\n  'Milling, Mr. Jacob Christian',\n  'Maisner, Mr. Simon',\n  'Goncalves, Mr. Manuel Estanslas',\n  'Campbell, Mr. William',\n  'Smart, Mr. John Montgomery',\n  'Scanlan, Mr. James',\n  'Baclini, Miss. Helene Barbara',\n  'Keefe, Mr. Arthur',\n  'Cacic, Mr. Luka',\n  'West, Mrs. Edwy Arthur (Ada Mary Worth)',\n  'Jerwan, Mrs. Amin S (Marie Marthe Thuillard)',\n  'Strandberg, Miss. Ida Sofia',\n  'Clifford, Mr. George Quincy',\n  'Renouf, Mr. Peter Henry',\n  'Braund, Mr. Lewis Richard',\n  'Karlsson, Mr. Nils August',\n  'Hirvonen, Miss. Hildur E',\n  'Goodwin, Master. Harold Victor',\n  'Frost, Mr. Anthony Wood \"Archie\"',\n  'Rouse, Mr. Richard Henry',\n  'Turkula, Mrs. (Hedwig)',\n  'Bishop, Mr. Dickinson H',\n  'Lefebre, Miss. Jeannie',\n  'Hoyt, Mrs. Frederick Maxfield (Jane Anne Forby)',\n  'Kent, Mr. Edward Austin',\n  'Somerton, Mr. Francis William',\n  'Coutts, Master. Eden Leslie \"Neville\"',\n  'Hagland, Mr. Konrad Mathias Reiersen',\n  'Windelov, Mr. Einar',\n  'Molson, Mr. Harry Markland',\n  'Artagaveytia, Mr. Ramon',\n  'Stanley, Mr. Edward Roland',\n  'Yousseff, Mr. Gerious',\n  'Eustis, Miss. Elizabeth Mussey',\n  'Shellard, Mr. Frederick William',\n  'Allison, Mrs. Hudson J C (Bessie Waldo Daniels)',\n  'Svensson, Mr. Olof',\n  'Calic, Mr. Petar',\n  'Canavan, Miss. Mary',\n  \"O'Sullivan, Miss. Bridget Mary\",\n  'Laitinen, Miss. Kristina Sofia',\n  'Maioni, Miss. Roberta',\n  'Penasco y Castellana, Mr. Victor de Satode',\n  'Quick, Mrs. Frederick Charles (Jane Richards)',\n  'Bradley, Mr. George (\"George Arthur Brayton\")',\n  'Olsen, Mr. Henry Margido',\n  'Lang, Mr. Fang',\n  'Daly, Mr. Eugene Patrick',\n  'Webber, Mr. James',\n  'McGough, Mr. James Robert',\n  'Rothschild, Mrs. Martin (Elizabeth L. Barrett)',\n  'Coleff, Mr. Satio',\n  'Walker, Mr. William Anderson',\n  'Lemore, Mrs. (Amelia Milley)',\n  'Ryan, Mr. Patrick',\n  'Angle, Mrs. William A (Florence \"Mary\" Agnes Hughes)',\n  'Pavlovic, Mr. Stefo',\n  'Perreault, Miss. Anne',\n  'Vovk, Mr. Janko',\n  'Lahoud, Mr. Sarkis',\n  'Hippach, Mrs. Louis Albert (Ida Sophia Fischer)',\n  'Kassem, Mr. Fared',\n  'Farrell, Mr. James',\n  'Ridsdale, Miss. Lucy',\n  'Farthing, Mr. John',\n  'Salonen, Mr. Johan Werner',\n  'Hocking, Mr. Richard George',\n  'Quick, Miss. Phyllis May',\n  'Toufik, Mr. Nakli',\n  'Elias, Mr. Joseph Jr',\n  'Peter, Mrs. Catherine (Catherine Rizk)',\n  'Cacic, Miss. Marija',\n  'Hart, Miss. Eva Miriam',\n  'Butt, Major. Archibald Willingham',\n  'LeRoy, Miss. Bertha',\n  'Risien, Mr. Samuel Beard',\n  'Frolicher, Miss. Hedwig Margaritha',\n  'Crosby, Miss. Harriet R',\n  'Andersson, Miss. Ingeborg Constanzia',\n  'Andersson, Miss. Sigrid Elisabeth',\n  'Beane, Mr. Edward',\n  'Douglas, Mr. Walter Donald',\n  'Nicholson, Mr. Arthur Ernest',\n  'Beane, Mrs. Edward (Ethel Clarke)',\n  'Padro y Manent, Mr. Julian',\n  'Goldsmith, Mr. Frank John',\n  'Davies, Master. John Morgan Jr',\n  'Thayer, Mr. John Borland Jr',\n  'Sharp, Mr. Percival James R',\n  \"O'Brien, Mr. Timothy\",\n  'Leeni, Mr. Fahim (\"Philip Zenni\")',\n  'Ohman, Miss. Velin',\n  'Wright, Mr. George',\n  'Duff Gordon, Lady. (Lucille Christiana Sutherland) (\"Mrs Morgan\")',\n  'Robbins, Mr. Victor',\n  'Taussig, Mrs. Emil (Tillie Mandelbaum)',\n  'de Messemaeker, Mrs. Guillaume Joseph (Emma)',\n  'Morrow, Mr. Thomas Rowan',\n  'Sivic, Mr. Husein',\n  'Norman, Mr. Robert Douglas',\n  'Simmons, Mr. John',\n  'Meanwell, Miss. (Marion Ogden)',\n  'Davies, Mr. Alfred J',\n  'Stoytcheff, Mr. Ilia',\n  'Palsson, Mrs. Nils (Alma Cornelia Berglund)',\n  'Doharr, Mr. Tannous',\n  'Jonsson, Mr. Carl',\n  'Harris, Mr. George',\n  'Appleton, Mrs. Edward Dale (Charlotte Lamson)',\n  'Flynn, Mr. John Irwin (\"Irving\")',\n  'Kelly, Miss. Mary',\n  'Rush, Mr. Alfred George John',\n  'Patchett, Mr. George',\n  'Garside, Miss. Ethel',\n  'Silvey, Mrs. William Baird (Alice Munger)',\n  'Caram, Mrs. Joseph (Maria Elias)',\n  'Jussila, Mr. Eiriik',\n  'Christy, Miss. Julie Rachel',\n  'Thayer, Mrs. John Borland (Marian Longstreth Morris)',\n  'Downton, Mr. William James',\n  'Ross, Mr. John Hugo',\n  'Paulner, Mr. Uscher',\n  'Taussig, Miss. Ruth',\n  'Jarvis, Mr. John Denzil',\n  'Frolicher-Stehli, Mr. Maxmillian',\n  'Gilinski, Mr. Eliezer',\n  'Murdlin, Mr. Joseph',\n  'Rintamaki, Mr. Matti',\n  'Stephenson, Mrs. Walter Bertram (Martha Eustis)',\n  'Elsbury, Mr. William James',\n  'Bourke, Miss. Mary',\n  'Chapman, Mr. John Henry',\n  'Van Impe, Mr. Jean Baptiste',\n  'Leitch, Miss. Jessie Wills',\n  'Johnson, Mr. Alfred',\n  'Boulos, Mr. Hanna',\n  'Duff Gordon, Sir. Cosmo Edmund (\"Mr Morgan\")',\n  'Jacobsohn, Mrs. Sidney Samuel (Amy Frances Christy)',\n  'Slabenoff, Mr. Petco',\n  'Harrington, Mr. Charles H',\n  'Torber, Mr. Ernst William',\n  'Homer, Mr. Harry (\"Mr E Haven\")',\n  'Lindell, Mr. Edvard Bengtsson',\n  'Karaic, Mr. Milan',\n  'Daniel, Mr. Robert Williams',\n  'Laroche, Mrs. Joseph (Juliette Marie Louise Lafargue)',\n  'Shutes, Miss. Elizabeth W',\n  'Andersson, Mrs. Anders Johan (Alfrida Konstantia Brogren)',\n  'Jardin, Mr. Jose Neto',\n  'Murphy, Miss. Margaret Jane',\n  'Horgan, Mr. John',\n  'Brocklebank, Mr. William Alfred',\n  'Herman, Miss. Alice',\n  'Danbom, Mr. Ernst Gilbert',\n  'Lobb, Mrs. William Arthur (Cordelia K Stanlick)',\n  'Becker, Miss. Marion Louise',\n  'Gavey, Mr. Lawrence',\n  'Yasbeck, Mr. Antoni',\n  'Kimball, Mr. Edwin Nelson Jr',\n  'Nakid, Mr. Sahid',\n  'Hansen, Mr. Henry Damsgaard',\n  'Bowen, Mr. David John \"Dai\"',\n  'Sutton, Mr. Frederick',\n  'Kirkland, Rev. Charles Leonard',\n  'Longley, Miss. Gretchen Fiske',\n  'Bostandyeff, Mr. Guentcho',\n  \"O'Connell, Mr. Patrick D\",\n  'Barkworth, Mr. Algernon Henry Wilson',\n  'Lundahl, Mr. Johan Svensson',\n  'Stahelin-Maeglin, Dr. Max',\n  'Parr, Mr. William Henry Marsh',\n  'Skoog, Miss. Mabel',\n  'Davis, Miss. Mary',\n  'Leinonen, Mr. Antti Gustaf',\n  'Collyer, Mr. Harvey',\n  'Panula, Mrs. Juha (Maria Emilia Ojala)',\n  'Thorneycroft, Mr. Percival',\n  'Jensen, Mr. Hans Peder',\n  'Sagesser, Mlle. Emma',\n  'Skoog, Miss. Margit Elizabeth',\n  'Foo, Mr. Choong',\n  'Baclini, Miss. Eugenie',\n  'Harper, Mr. Henry Sleeper',\n  'Cor, Mr. Liudevit',\n  'Simonius-Blumer, Col. Oberst Alfons',\n  'Willey, Mr. Edward',\n  'Stanley, Miss. Amy Zillah Elsie',\n  'Mitkoff, Mr. Mito',\n  'Doling, Miss. Elsie',\n  'Kalvik, Mr. Johannes Halvorsen',\n  'O\\'Leary, Miss. Hanora \"Norah\"',\n  'Hegarty, Miss. Hanora \"Nora\"',\n  'Hickman, Mr. Leonard Mark',\n  'Radeff, Mr. Alexander',\n  'Bourke, Mrs. John (Catherine)',\n  'Eitemiller, Mr. George Floyd',\n  'Newell, Mr. Arthur Webster',\n  'Frauenthal, Dr. Henry William',\n  'Badt, Mr. Mohamed',\n  'Colley, Mr. Edward Pomeroy',\n  'Coleff, Mr. Peju',\n  'Lindqvist, Mr. Eino William',\n  'Hickman, Mr. Lewis',\n  'Butler, Mr. Reginald Fenton',\n  'Rommetvedt, Mr. Knud Paust',\n  'Cook, Mr. Jacob',\n  'Taylor, Mrs. Elmer Zebley (Juliet Cummins Wright)',\n  'Brown, Mrs. Thomas William Solomon (Elizabeth Catherine Ford)',\n  'Davidson, Mr. Thornton',\n  'Mitchell, Mr. Henry Michael',\n  'Wilhelms, Mr. Charles',\n  'Watson, Mr. Ennis Hastings',\n  'Edvardsson, Mr. Gustaf Hjalmar',\n  'Sawyer, Mr. Frederick Charles',\n  'Turja, Miss. Anna Sofia',\n  'Goodwin, Mrs. Frederick (Augusta Tyler)',\n  'Cardeza, Mr. Thomas Drake Martinez',\n  'Peters, Miss. Katie',\n  'Hassab, Mr. Hammad',\n  'Olsvigen, Mr. Thor Anderson',\n  'Goodwin, Mr. Charles Edward',\n  'Brown, Mr. Thomas William Solomon',\n  'Laroche, Mr. Joseph Philippe Lemercier',\n  'Panula, Mr. Jaako Arnold',\n  'Dakic, Mr. Branko',\n  'Fischer, Mr. Eberhard Thelander',\n  'Madill, Miss. Georgette Alexandra',\n  'Dick, Mr. Albert Adrian',\n  'Karun, Miss. Manca',\n  'Lam, Mr. Ali',\n  'Saad, Mr. Khalil',\n  'Weir, Col. John',\n  'Chapman, Mr. Charles Henry',\n  'Kelly, Mr. James',\n  'Mullens, Miss. Katherine \"Katie\"',\n  'Thayer, Mr. John Borland',\n  'Humblen, Mr. Adolf Mathias Nicolai Olsen',\n  'Astor, Mrs. John Jacob (Madeleine Talmadge Force)',\n  'Silverthorne, Mr. Spencer Victor',\n  'Barbara, Miss. Saiide',\n  'Gallagher, Mr. Martin',\n  'Hansen, Mr. Henrik Juul',\n  'Morley, Mr. Henry Samuel (\"Mr Henry Marshall\")',\n  'Kelly, Mrs. Florence \"Fannie\"',\n  'Calderhead, Mr. Edward Pennington',\n  'Cleaver, Miss. Alice',\n  'Moubarek, Master. Halim Gonios (\"William George\")',\n  'Mayne, Mlle. Berthe Antonine (\"Mrs de Villiers\")',\n  'Klaber, Mr. Herman',\n  'Taylor, Mr. Elmer Zebley',\n  'Larsson, Mr. August Viktor',\n  'Greenberg, Mr. Samuel',\n  'Soholt, Mr. Peter Andreas Lauritz Andersen',\n  'Endres, Miss. Caroline Louise',\n  'Troutt, Miss. Edwina Celia \"Winnie\"',\n  'McEvoy, Mr. Michael',\n  'Johnson, Mr. Malkolm Joackim',\n  'Harper, Miss. Annie Jessie \"Nina\"',\n  'Jensen, Mr. Svend Lauritz',\n  'Gillespie, Mr. William Henry',\n  'Hodges, Mr. Henry Price',\n  'Chambers, Mr. Norman Campbell',\n  'Oreskovic, Mr. Luka',\n  'Renouf, Mrs. Peter Henry (Lillian Jefferys)',\n  'Mannion, Miss. Margareth',\n  'Bryhl, Mr. Kurt Arnold Gottfrid',\n  'Ilmakangas, Miss. Pieta Sofia',\n  'Allen, Miss. Elisabeth Walton',\n  'Hassan, Mr. Houssein G N',\n  'Knight, Mr. Robert J',\n  'Berriman, Mr. William John',\n  'Troupiansky, Mr. Moses Aaron',\n  'Williams, Mr. Leslie',\n  'Ford, Mrs. Edward (Margaret Ann Watson)',\n  'Lesurer, Mr. Gustave J',\n  'Ivanoff, Mr. Kanio',\n  'Nankoff, Mr. Minko',\n  'Hawksford, Mr. Walter James',\n  'Cavendish, Mr. Tyrell William',\n  'Ryerson, Miss. Susan Parker \"Suzette\"',\n  'McNamee, Mr. Neal',\n  'Stranden, Mr. Juho',\n  'Crosby, Capt. Edward Gifford',\n  'Abbott, Mr. Rossmore Edward',\n  'Sinkkonen, Miss. Anna',\n  'Marvin, Mr. Daniel Warner',\n  'Connaghton, Mr. Michael',\n  'Wells, Miss. Joan',\n  'Moor, Master. Meier',\n  'Vande Velde, Mr. Johannes Joseph',\n  'Jonkoff, Mr. Lalio',\n  'Herman, Mrs. Samuel (Jane Laver)',\n  'Hamalainen, Master. Viljo',\n  'Carlsson, Mr. August Sigfrid',\n  'Bailey, Mr. Percy Andrew',\n  'Theobald, Mr. Thomas Leonard',\n  'Rothes, the Countess. of (Lucy Noel Martha Dyer-Edwards)',\n  'Garfirth, Mr. John',\n  'Nirva, Mr. Iisakki Antino Aijo',\n  'Barah, Mr. Hanna Assi',\n  'Carter, Mrs. William Ernest (Lucile Polk)',\n  'Eklund, Mr. Hans Linus',\n  'Hogeboom, Mrs. John C (Anna Andrews)',\n  'Brewe, Dr. Arthur Jackson',\n  'Mangan, Miss. Mary',\n  'Moran, Mr. Daniel J',\n  'Gronnestad, Mr. Daniel Danielsen',\n  'Lievens, Mr. Rene Aime',\n  'Jensen, Mr. Niels Peder',\n  'Mack, Mrs. (Mary)',\n  'Elias, Mr. Dibo',\n  'Hocking, Mrs. Elizabeth (Eliza Needs)',\n  'Myhrman, Mr. Pehr Fabian Oliver Malkolm',\n  'Tobin, Mr. Roger',\n  'Emanuel, Miss. Virginia Ethel',\n  'Kilgannon, Mr. Thomas J',\n  'Robert, Mrs. Edward Scott (Elisabeth Walton McMillan)',\n  'Ayoub, Miss. Banoura',\n  'Dick, Mrs. Albert Adrian (Vera Gillespie)',\n  'Long, Mr. Milton Clyde',\n  'Johnston, Mr. Andrew G',\n  'Ali, Mr. William',\n  'Harmer, Mr. Abraham (David Lishin)',\n  'Sjoblom, Miss. Anna Sofia',\n  'Rice, Master. George Hugh',\n  'Dean, Master. Bertram Vere',\n  'Guggenheim, Mr. Benjamin',\n  'Keane, Mr. Andrew \"Andy\"',\n  'Gaskell, Mr. Alfred',\n  'Sage, Miss. Stella Anna',\n  'Hoyt, Mr. William Fisher',\n  'Dantcheff, Mr. Ristiu',\n  'Otter, Mr. Richard',\n  'Leader, Dr. Alice (Farnham)',\n  'Osman, Mrs. Mara',\n  'Ibrahim Shawah, Mr. Yousseff',\n  'Van Impe, Mrs. Jean Baptiste (Rosalie Paula Govaert)',\n  'Ponesell, Mr. Martin',\n  'Collyer, Mrs. Harvey (Charlotte Annie Tate)',\n  'Carter, Master. William Thornton II',\n  'Thomas, Master. Assad Alexander',\n  'Hedman, Mr. Oskar Arvid',\n  'Johansson, Mr. Karl Johan',\n  'Andrews, Mr. Thomas Jr',\n  'Pettersson, Miss. Ellen Natalia',\n  'Meyer, Mr. August',\n  'Chambers, Mrs. Norman Campbell (Bertha Griggs)',\n  'Alexander, Mr. William',\n  'Lester, Mr. James',\n  'Slemen, Mr. Richard James',\n  'Andersson, Miss. Ebba Iris Alfrida',\n  'Tomlin, Mr. Ernest Portage',\n  'Fry, Mr. Richard',\n  'Heininen, Miss. Wendla Maria',\n  'Mallet, Mr. Albert',\n  'Holm, Mr. John Fredrik Alexander',\n  'Skoog, Master. Karl Thorsten',\n  'Hays, Mrs. Charles Melville (Clara Jennings Gregg)',\n  'Lulic, Mr. Nikola',\n  'Reuchlin, Jonkheer. John George',\n  'Moor, Mrs. (Beila)',\n  'Panula, Master. Urho Abraham',\n  'Flynn, Mr. John',\n  'Lam, Mr. Len',\n  'Mallet, Master. Andre',\n  'McCormack, Mr. Thomas Joseph',\n  'Stone, Mrs. George Nelson (Martha Evelyn)',\n  'Yasbeck, Mrs. Antoni (Selini Alexander)',\n  'Richards, Master. George Sibley',\n  'Saad, Mr. Amin',\n  'Augustsson, Mr. Albert',\n  'Allum, Mr. Owen George',\n  'Compton, Miss. Sara Rebecca',\n  'Pasic, Mr. Jakob',\n  'Sirota, Mr. Maurice',\n  'Chip, Mr. Chang',\n  'Marechal, Mr. Pierre',\n  'Alhomaki, Mr. Ilmari Rudolf',\n  'Mudd, Mr. Thomas Charles',\n  'Serepeca, Miss. Augusta',\n  'Lemberopolous, Mr. Peter L',\n  'Culumovic, Mr. Jeso',\n  'Abbing, Mr. Anthony',\n  'Sage, Mr. Douglas Bullen',\n  'Markoff, Mr. Marin',\n  'Harper, Rev. John',\n  'Goldenberg, Mrs. Samuel L (Edwiga Grabowska)',\n  'Andersson, Master. Sigvard Harald Elias',\n  'Svensson, Mr. Johan',\n  'Boulos, Miss. Nourelain',\n  'Lines, Miss. Mary Conover',\n  'Carter, Mrs. Ernest Courtenay (Lilian Hughes)',\n  'Aks, Mrs. Sam (Leah Rosen)',\n  'Wick, Mrs. George Dennick (Mary Hitchcock)',\n  'Daly, Mr. Peter Denis ',\n  'Baclini, Mrs. Solomon (Latifa Qurban)',\n  'Razi, Mr. Raihed',\n  'Hansen, Mr. Claus Peter',\n  'Giles, Mr. Frederick Edward',\n  'Swift, Mrs. Frederick Joel (Margaret Welles Barron)',\n  'Sage, Miss. Dorothy Edith \"Dolly\"',\n  'Gill, Mr. John William',\n  'Bystrom, Mrs. (Karolina)',\n  'Duran y More, Miss. Asuncion',\n  'Roebling, Mr. Washington Augustus II',\n  'van Melkebeke, Mr. Philemon',\n  'Johnson, Master. Harold Theodor',\n  'Balkic, Mr. Cerin',\n  'Beckwith, Mrs. Richard Leonard (Sallie Monypeny)',\n  'Carlsson, Mr. Frans Olof',\n  'Vander Cruyssen, Mr. Victor',\n  'Abelson, Mrs. Samuel (Hannah Wizosky)',\n  'Najib, Miss. Adele Kiamie \"Jane\"',\n  'Gustafsson, Mr. Alfred Ossian',\n  'Petroff, Mr. Nedelio',\n  'Laleff, Mr. Kristo',\n  'Potter, Mrs. Thomas Jr (Lily Alexenia Wilson)',\n  'Shelley, Mrs. William (Imanita Parrish Hall)',\n  'Markun, Mr. Johann',\n  'Dahlberg, Miss. Gerda Ulrika',\n  'Banfield, Mr. Frederick James',\n  'Sutehall, Mr. Henry Jr',\n  'Rice, Mrs. William (Margaret Norton)',\n  'Montvila, Rev. Juozas',\n  'Graham, Miss. Margaret Edith',\n  'Johnston, Miss. Catherine Helen \"Carrie\"',\n  'Behr, Mr. Karl Howell',\n  'Dooley, Mr. Patrick'],\n 'Sex': ['male',\n  'female',\n  'female',\n  'female',\n  'male',\n  'male',\n  'male',\n  'male',\n  'female',\n  'female',\n  'female',\n  'female',\n  'male',\n  'male',\n  'female',\n  'female',\n  'male',\n  'male',\n  'female',\n  'female',\n  'male',\n  'male',\n  'female',\n  'male',\n  'female',\n  'female',\n  'male',\n  'male',\n  'female',\n  'male',\n  'male',\n  'female',\n  'female',\n  'male',\n  'male',\n  'male',\n  'male',\n  'male',\n  'female',\n  'female',\n  'female',\n  'female',\n  'male',\n  'female',\n  'female',\n  'male',\n  'male',\n  'female',\n  'male',\n  'female',\n  'male',\n  'male',\n  'female',\n  'female',\n  'male',\n  'male',\n  'female',\n  'male',\n  'female',\n  'male',\n  'male',\n  'female',\n  'male',\n  'male',\n  'male',\n  'male',\n  'female',\n  'male',\n  'female',\n  'male',\n  'male',\n  'female',\n  'male',\n  'male',\n  'male',\n  'male',\n  'male',\n  'male',\n  'male',\n  'female',\n  'male',\n  'male',\n  'female',\n  'male',\n  'female',\n  'female',\n  'male',\n  'male',\n  'female',\n  'male',\n  'male',\n  'male',\n  'male',\n  'male',\n  'male',\n  'male',\n  'male',\n  'male',\n  'female',\n  'male',\n  'female',\n  'male',\n  'male',\n  'male',\n  'male',\n  'male',\n  'female',\n  'male',\n  'male',\n  'female',\n  'male',\n  'female',\n  'male',\n  'female',\n  'female',\n  'male',\n  'male',\n  'male',\n  'male',\n  'female',\n  'male',\n  'male',\n  'male',\n  'female',\n  'male',\n  'male',\n  'male',\n  'male',\n  'female',\n  'male',\n  'male',\n  'male',\n  'female',\n  'female',\n  'male',\n  'male',\n  'female',\n  'male',\n  'male',\n  'male',\n  'female',\n  'female',\n  'female',\n  'male',\n  'male',\n  'male',\n  'male',\n  'female',\n  'male',\n  'male',\n  'male',\n  'female',\n  'male',\n  'male',\n  'male',\n  'male',\n  'female',\n  'male',\n  'male',\n  'male',\n  'male',\n  'female',\n  'male',\n  'male',\n  'male',\n  'male',\n  'female',\n  'female',\n  'male',\n  'male',\n  'male',\n  'male',\n  'female',\n  'male',\n  'male',\n  'male',\n  'male',\n  'female',\n  'male',\n  'male',\n  'female',\n  'male',\n  'male',\n  'male',\n  'female',\n  'male',\n  'female',\n  'male',\n  'male',\n  'male',\n  'female',\n  'male',\n  'female',\n  'male',\n  'female',\n  'female',\n  'male',\n  'male',\n  'female',\n  'female',\n  'male',\n  'male',\n  'male',\n  'male',\n  'male',\n  'female',\n  'male',\n  'male',\n  'female',\n  'male',\n  'male',\n  'female',\n  'male',\n  'male',\n  'male',\n  'female',\n  'female',\n  'male',\n  'female',\n  'male',\n  'male',\n  'male',\n  'male',\n  'male',\n  'male',\n  'male',\n  'male',\n  'male',\n  'male',\n  'female',\n  'female',\n  'male',\n  'male',\n  'female',\n  'male',\n  'female',\n  'male',\n  'female',\n  'male',\n  'male',\n  'female',\n  'female',\n  'male',\n  'male',\n  'male',\n  'male',\n  'female',\n  'female',\n  'male',\n  'male',\n  'male',\n  'female',\n  'male',\n  'male',\n  'female',\n  'female',\n  'female',\n  'female',\n  'female',\n  'female',\n  'male',\n  'male',\n  'male',\n  'male',\n  'female',\n  'male',\n  'male',\n  'male',\n  'female',\n  'female',\n  'male',\n  'male',\n  'female',\n  'male',\n  'female',\n  'female',\n  'female',\n  'male',\n  'male',\n  'female',\n  'male',\n  'male',\n  'male',\n  'male',\n  'male',\n  'male',\n  'male',\n  'male',\n  'male',\n  'female',\n  'female',\n  'female',\n  'male',\n  'female',\n  'male',\n  'male',\n  'male',\n  'female',\n  'male',\n  'female',\n  'female',\n  'male',\n  'male',\n  'female',\n  'male',\n  'male',\n  'female',\n  'female',\n  'male',\n  'female',\n  'female',\n  'female',\n  'female',\n  'male',\n  'male',\n  'female',\n  'female',\n  'male',\n  'female',\n  'female',\n  'male',\n  'male',\n  'female',\n  'female',\n  'male',\n  'female',\n  'male',\n  'female',\n  'female',\n  'female',\n  'female',\n  'male',\n  'male',\n  'male',\n  'female',\n  'male',\n  'male',\n  'female',\n  'male',\n  'male',\n  'male',\n  'female',\n  'male',\n  'male',\n  'male',\n  'female',\n  'female',\n  'female',\n  'male',\n  'male',\n  'male',\n  'male',\n  'male',\n  'male',\n  'male',\n  'male',\n  'female',\n  'female',\n  'female',\n  'female',\n  'male',\n  'male',\n  'female',\n  'male',\n  'male',\n  'male',\n  'female',\n  'female',\n  'female',\n  'female',\n  'male',\n  'male',\n  'male',\n  'male',\n  'female',\n  'female',\n  'female',\n  'male',\n  'male',\n  'male',\n  'female',\n  'female',\n  'male',\n  'female',\n  'male',\n  'male',\n  'male',\n  'female',\n  'male',\n  'female',\n  'male',\n  'male',\n  'male',\n  'female',\n  'female',\n  'male',\n  'female',\n  'male',\n  'male',\n  'female',\n  'male',\n  'male',\n  'female',\n  'male',\n  'female',\n  'male',\n  'male',\n  'male',\n  'male',\n  'female',\n  'male',\n  'male',\n  'female',\n  'male',\n  'male',\n  'female',\n  'female',\n  'female',\n  'male',\n  'female',\n  'male',\n  'male',\n  'male',\n  'female',\n  'male',\n  'male',\n  'female',\n  'female',\n  'male',\n  'male',\n  'male',\n  'female',\n  'female',\n  'male',\n  'male',\n  'female',\n  'female',\n  'female',\n  'male',\n  'male',\n  'female',\n  'male',\n  'male',\n  'female',\n  'male',\n  'male',\n  'female',\n  'male',\n  'female',\n  'male',\n  'male',\n  'male',\n  'male',\n  'male',\n  'male',\n  'male',\n  'male',\n  'female',\n  'female',\n  'male',\n  'male',\n  'male',\n  'male',\n  'male',\n  'male',\n  'male',\n  'male',\n  'male',\n  'male',\n  'female',\n  'male',\n  'male',\n  'female',\n  'female',\n  'female',\n  'male',\n  'male',\n  'male',\n  'male',\n  'female',\n  'male',\n  'male',\n  'male',\n  'female',\n  'male',\n  'female',\n  'female',\n  'male',\n  'male',\n  'male',\n  'male',\n  'male',\n  'male',\n  'male',\n  'male',\n  'male',\n  'female',\n  'male',\n  'female',\n  'male',\n  'male',\n  'female',\n  'female',\n  'female',\n  'female',\n  'male',\n  'female',\n  'male',\n  'male',\n  'male',\n  'male',\n  'male',\n  'male',\n  'female',\n  'male',\n  'male',\n  'female',\n  'male',\n  'female',\n  'male',\n  'female',\n  'male',\n  'male',\n  'female',\n  'male',\n  'male',\n  'female',\n  'male',\n  'male',\n  'male',\n  'female',\n  'male',\n  'male',\n  'female',\n  'female',\n  'female',\n  'male',\n  'female',\n  'male',\n  'female',\n  'female',\n  'female',\n  'female',\n  'male',\n  'male',\n  'male',\n  'female',\n  'male',\n  'male',\n  'male',\n  'male',\n  'male',\n  'male',\n  'male',\n  'female',\n  'male',\n  'female',\n  'male',\n  'female',\n  'female',\n  'male',\n  'male',\n  'male',\n  'male',\n  'female',\n  'male',\n  'male',\n  'female',\n  'male',\n  'male',\n  'male',\n  'female',\n  'male',\n  'female',\n  'male',\n  'male',\n  'female',\n  'female',\n  'female',\n  'male',\n  'female',\n  'female',\n  'male',\n  'male',\n  'male',\n  'female',\n  'male',\n  'male',\n  'male',\n  'male',\n  'male',\n  'female',\n  'male',\n  'female',\n  'male',\n  'male',\n  'female',\n  'male',\n  'male',\n  'male',\n  'female',\n  'male',\n  'male',\n  'male',\n  'male',\n  'male',\n  'male',\n  'male',\n  'female',\n  'female',\n  'female',\n  'male',\n  'female',\n  'male',\n  'male',\n  'female',\n  'male',\n  'female',\n  'female',\n  'male',\n  'male',\n  'male',\n  'male',\n  'male',\n  'male',\n  'male',\n  'male',\n  'female',\n  'male',\n  'male',\n  'male',\n  'male',\n  'male',\n  'male',\n  'female',\n  'female',\n  'male',\n  'male',\n  'female',\n  'male',\n  'male',\n  'female',\n  'female',\n  'male',\n  'female',\n  'male',\n  'male',\n  'male',\n  'male',\n  'female',\n  'male',\n  'female',\n  'male',\n  'female',\n  'female',\n  'male',\n  'male',\n  'female',\n  'male',\n  'male',\n  'male',\n  'male',\n  'male',\n  'male',\n  'male',\n  'male',\n  'male',\n  'male',\n  'male',\n  'female',\n  'female',\n  'male',\n  'male',\n  'male',\n  'male',\n  'male',\n  'male',\n  'female',\n  'female',\n  'male',\n  'female',\n  'male',\n  'male',\n  'male',\n  'male',\n  'male',\n  'male',\n  'male',\n  'male',\n  'female',\n  'male',\n  'female',\n  'male',\n  'male',\n  'male',\n  'male',\n  'male',\n  'female',\n  'male',\n  'male',\n  'female',\n  'male',\n  'female',\n  'male',\n  'male',\n  'male',\n  'female',\n  'male',\n  'female',\n  'male',\n  'female',\n  'male',\n  'male',\n  'male',\n  'male',\n  'male',\n  'female',\n  'female',\n  'male',\n  'male',\n  'female',\n  'male',\n  'male',\n  'male',\n  'male',\n  'male',\n  'female',\n  'female',\n  'male',\n  'female',\n  'female',\n  'male',\n  'male',\n  'male',\n  'male',\n  'male',\n  'female',\n  'male',\n  'male',\n  'male',\n  'male',\n  'male',\n  'female',\n  'male',\n  'male',\n  'male',\n  'male',\n  'female',\n  'male',\n  'male',\n  'female',\n  'male',\n  'male',\n  'male',\n  'female',\n  'male',\n  'male',\n  'male',\n  'male',\n  'female',\n  'male',\n  'male',\n  'male',\n  'female',\n  'male',\n  'female',\n  'male',\n  'female',\n  'male',\n  'male',\n  'male',\n  'male',\n  'female',\n  'male',\n  'female',\n  'male',\n  'male',\n  'female',\n  'male',\n  'female',\n  'female',\n  'female',\n  'male',\n  'male',\n  'male',\n  'male',\n  'female',\n  'male',\n  'male',\n  'male',\n  'male',\n  'male',\n  'female',\n  'male',\n  'male',\n  'male',\n  'female',\n  'female',\n  'male',\n  'female',\n  'male',\n  'female',\n  'male',\n  'male',\n  'male',\n  'male',\n  'male',\n  'female',\n  'male',\n  'female',\n  'male',\n  'male',\n  'male',\n  'female',\n  'male',\n  'male',\n  'female',\n  'male',\n  'male',\n  'male',\n  'female',\n  'male',\n  'male',\n  'female',\n  'male',\n  'male',\n  'male',\n  'male',\n  'male',\n  'female',\n  'female',\n  'male',\n  'male',\n  'male',\n  'male',\n  'female',\n  'male',\n  'male',\n  'male',\n  'male',\n  'male',\n  'male',\n  'female',\n  'male',\n  'male',\n  'male',\n  'male',\n  'male',\n  'male',\n  'female',\n  'male',\n  'male',\n  'female',\n  'female',\n  'female',\n  'female',\n  'female',\n  'male',\n  'female',\n  'male',\n  'male',\n  'male',\n  'female',\n  'female',\n  'male',\n  'female',\n  'female',\n  'male',\n  'male',\n  'male',\n  'male',\n  'female',\n  'male',\n  'male',\n  'female',\n  'female',\n  'male',\n  'male',\n  'male',\n  'female',\n  'female',\n  'male',\n  'female',\n  'male',\n  'male',\n  'female',\n  'male',\n  'female',\n  'female',\n  'male',\n  'male'],\n 'Age': [22.0,\n  38.0,\n  26.0,\n  35.0,\n  35.0,\n  nan,\n  54.0,\n  2.0,\n  27.0,\n  14.0,\n  4.0,\n  58.0,\n  20.0,\n  39.0,\n  14.0,\n  55.0,\n  2.0,\n  nan,\n  31.0,\n  nan,\n  35.0,\n  34.0,\n  15.0,\n  28.0,\n  8.0,\n  38.0,\n  nan,\n  19.0,\n  nan,\n  nan,\n  40.0,\n  nan,\n  nan,\n  66.0,\n  28.0,\n  42.0,\n  nan,\n  21.0,\n  18.0,\n  14.0,\n  40.0,\n  27.0,\n  nan,\n  3.0,\n  19.0,\n  nan,\n  nan,\n  nan,\n  nan,\n  18.0,\n  7.0,\n  21.0,\n  49.0,\n  29.0,\n  65.0,\n  nan,\n  21.0,\n  28.5,\n  5.0,\n  11.0,\n  22.0,\n  38.0,\n  45.0,\n  4.0,\n  nan,\n  nan,\n  29.0,\n  19.0,\n  17.0,\n  26.0,\n  32.0,\n  16.0,\n  21.0,\n  26.0,\n  32.0,\n  25.0,\n  nan,\n  nan,\n  0.83,\n  30.0,\n  22.0,\n  29.0,\n  nan,\n  28.0,\n  17.0,\n  33.0,\n  16.0,\n  nan,\n  23.0,\n  24.0,\n  29.0,\n  20.0,\n  46.0,\n  26.0,\n  59.0,\n  nan,\n  71.0,\n  23.0,\n  34.0,\n  34.0,\n  28.0,\n  nan,\n  21.0,\n  33.0,\n  37.0,\n  28.0,\n  21.0,\n  nan,\n  38.0,\n  nan,\n  47.0,\n  14.5,\n  22.0,\n  20.0,\n  17.0,\n  21.0,\n  70.5,\n  29.0,\n  24.0,\n  2.0,\n  21.0,\n  nan,\n  32.5,\n  32.5,\n  54.0,\n  12.0,\n  nan,\n  24.0,\n  nan,\n  45.0,\n  33.0,\n  20.0,\n  47.0,\n  29.0,\n  25.0,\n  23.0,\n  19.0,\n  37.0,\n  16.0,\n  24.0,\n  nan,\n  22.0,\n  24.0,\n  19.0,\n  18.0,\n  19.0,\n  27.0,\n  9.0,\n  36.5,\n  42.0,\n  51.0,\n  22.0,\n  55.5,\n  40.5,\n  nan,\n  51.0,\n  16.0,\n  30.0,\n  nan,\n  nan,\n  44.0,\n  40.0,\n  26.0,\n  17.0,\n  1.0,\n  9.0,\n  nan,\n  45.0,\n  nan,\n  28.0,\n  61.0,\n  4.0,\n  1.0,\n  21.0,\n  56.0,\n  18.0,\n  nan,\n  50.0,\n  30.0,\n  36.0,\n  nan,\n  nan,\n  9.0,\n  1.0,\n  4.0,\n  nan,\n  nan,\n  45.0,\n  40.0,\n  36.0,\n  32.0,\n  19.0,\n  19.0,\n  3.0,\n  44.0,\n  58.0,\n  nan,\n  42.0,\n  nan,\n  24.0,\n  28.0,\n  nan,\n  34.0,\n  45.5,\n  18.0,\n  2.0,\n  32.0,\n  26.0,\n  16.0,\n  40.0,\n  24.0,\n  35.0,\n  22.0,\n  30.0,\n  nan,\n  31.0,\n  27.0,\n  42.0,\n  32.0,\n  30.0,\n  16.0,\n  27.0,\n  51.0,\n  nan,\n  38.0,\n  22.0,\n  19.0,\n  20.5,\n  18.0,\n  nan,\n  35.0,\n  29.0,\n  59.0,\n  5.0,\n  24.0,\n  nan,\n  44.0,\n  8.0,\n  19.0,\n  33.0,\n  nan,\n  nan,\n  29.0,\n  22.0,\n  30.0,\n  44.0,\n  25.0,\n  24.0,\n  37.0,\n  54.0,\n  nan,\n  29.0,\n  62.0,\n  30.0,\n  41.0,\n  29.0,\n  nan,\n  30.0,\n  35.0,\n  50.0,\n  nan,\n  3.0,\n  52.0,\n  40.0,\n  nan,\n  36.0,\n  16.0,\n  25.0,\n  58.0,\n  35.0,\n  nan,\n  25.0,\n  41.0,\n  37.0,\n  nan,\n  63.0,\n  45.0,\n  nan,\n  7.0,\n  35.0,\n  65.0,\n  28.0,\n  16.0,\n  19.0,\n  nan,\n  33.0,\n  30.0,\n  22.0,\n  42.0,\n  22.0,\n  26.0,\n  19.0,\n  36.0,\n  24.0,\n  24.0,\n  nan,\n  23.5,\n  2.0,\n  nan,\n  50.0,\n  nan,\n  nan,\n  19.0,\n  nan,\n  nan,\n  0.92,\n  nan,\n  17.0,\n  30.0,\n  30.0,\n  24.0,\n  18.0,\n  26.0,\n  28.0,\n  43.0,\n  26.0,\n  24.0,\n  54.0,\n  31.0,\n  40.0,\n  22.0,\n  27.0,\n  30.0,\n  22.0,\n  nan,\n  36.0,\n  61.0,\n  36.0,\n  31.0,\n  16.0,\n  nan,\n  45.5,\n  38.0,\n  16.0,\n  nan,\n  nan,\n  29.0,\n  41.0,\n  45.0,\n  45.0,\n  2.0,\n  24.0,\n  28.0,\n  25.0,\n  36.0,\n  24.0,\n  40.0,\n  nan,\n  3.0,\n  42.0,\n  23.0,\n  nan,\n  15.0,\n  25.0,\n  nan,\n  28.0,\n  22.0,\n  38.0,\n  nan,\n  nan,\n  40.0,\n  29.0,\n  45.0,\n  35.0,\n  nan,\n  30.0,\n  60.0,\n  nan,\n  nan,\n  24.0,\n  25.0,\n  18.0,\n  19.0,\n  22.0,\n  3.0,\n  nan,\n  22.0,\n  27.0,\n  20.0,\n  19.0,\n  42.0,\n  1.0,\n  32.0,\n  35.0,\n  nan,\n  18.0,\n  1.0,\n  36.0,\n  nan,\n  17.0,\n  36.0,\n  21.0,\n  28.0,\n  23.0,\n  24.0,\n  22.0,\n  31.0,\n  46.0,\n  23.0,\n  28.0,\n  39.0,\n  26.0,\n  21.0,\n  28.0,\n  20.0,\n  34.0,\n  51.0,\n  3.0,\n  21.0,\n  nan,\n  nan,\n  nan,\n  33.0,\n  nan,\n  44.0,\n  nan,\n  34.0,\n  18.0,\n  30.0,\n  10.0,\n  nan,\n  21.0,\n  29.0,\n  28.0,\n  18.0,\n  nan,\n  28.0,\n  19.0,\n  nan,\n  32.0,\n  28.0,\n  nan,\n  42.0,\n  17.0,\n  50.0,\n  14.0,\n  21.0,\n  24.0,\n  64.0,\n  31.0,\n  45.0,\n  20.0,\n  25.0,\n  28.0,\n  nan,\n  4.0,\n  13.0,\n  34.0,\n  5.0,\n  52.0,\n  36.0,\n  nan,\n  30.0,\n  49.0,\n  nan,\n  29.0,\n  65.0,\n  nan,\n  50.0,\n  nan,\n  48.0,\n  34.0,\n  47.0,\n  48.0,\n  nan,\n  38.0,\n  nan,\n  56.0,\n  nan,\n  0.75,\n  nan,\n  38.0,\n  33.0,\n  23.0,\n  22.0,\n  nan,\n  34.0,\n  29.0,\n  22.0,\n  2.0,\n  9.0,\n  nan,\n  50.0,\n  63.0,\n  25.0,\n  nan,\n  35.0,\n  58.0,\n  30.0,\n  9.0,\n  nan,\n  21.0,\n  55.0,\n  71.0,\n  21.0,\n  nan,\n  54.0,\n  nan,\n  25.0,\n  24.0,\n  17.0,\n  21.0,\n  nan,\n  37.0,\n  16.0,\n  18.0,\n  33.0,\n  nan,\n  28.0,\n  26.0,\n  29.0,\n  nan,\n  36.0,\n  54.0,\n  24.0,\n  47.0,\n  34.0,\n  nan,\n  36.0,\n  32.0,\n  30.0,\n  22.0,\n  nan,\n  44.0,\n  nan,\n  40.5,\n  50.0,\n  nan,\n  39.0,\n  23.0,\n  2.0,\n  nan,\n  17.0,\n  nan,\n  30.0,\n  7.0,\n  45.0,\n  30.0,\n  nan,\n  22.0,\n  36.0,\n  9.0,\n  11.0,\n  32.0,\n  50.0,\n  64.0,\n  19.0,\n  nan,\n  33.0,\n  8.0,\n  17.0,\n  27.0,\n  nan,\n  22.0,\n  22.0,\n  62.0,\n  48.0,\n  nan,\n  39.0,\n  36.0,\n  nan,\n  40.0,\n  28.0,\n  nan,\n  nan,\n  24.0,\n  19.0,\n  29.0,\n  nan,\n  32.0,\n  62.0,\n  53.0,\n  36.0,\n  nan,\n  16.0,\n  19.0,\n  34.0,\n  39.0,\n  nan,\n  32.0,\n  25.0,\n  39.0,\n  54.0,\n  36.0,\n  nan,\n  18.0,\n  47.0,\n  60.0,\n  22.0,\n  nan,\n  35.0,\n  52.0,\n  47.0,\n  nan,\n  37.0,\n  36.0,\n  nan,\n  49.0,\n  nan,\n  49.0,\n  24.0,\n  nan,\n  nan,\n  44.0,\n  35.0,\n  36.0,\n  30.0,\n  27.0,\n  22.0,\n  40.0,\n  39.0,\n  nan,\n  nan,\n  nan,\n  35.0,\n  24.0,\n  34.0,\n  26.0,\n  4.0,\n  26.0,\n  27.0,\n  42.0,\n  20.0,\n  21.0,\n  21.0,\n  61.0,\n  57.0,\n  21.0,\n  26.0,\n  nan,\n  80.0,\n  51.0,\n  32.0,\n  nan,\n  9.0,\n  28.0,\n  32.0,\n  31.0,\n  41.0,\n  nan,\n  20.0,\n  24.0,\n  2.0,\n  nan,\n  0.75,\n  48.0,\n  19.0,\n  56.0,\n  nan,\n  23.0,\n  nan,\n  18.0,\n  21.0,\n  nan,\n  18.0,\n  24.0,\n  nan,\n  32.0,\n  23.0,\n  58.0,\n  50.0,\n  40.0,\n  47.0,\n  36.0,\n  20.0,\n  32.0,\n  25.0,\n  nan,\n  43.0,\n  nan,\n  40.0,\n  31.0,\n  70.0,\n  31.0,\n  nan,\n  18.0,\n  24.5,\n  18.0,\n  43.0,\n  36.0,\n  nan,\n  27.0,\n  20.0,\n  14.0,\n  60.0,\n  25.0,\n  14.0,\n  19.0,\n  18.0,\n  15.0,\n  31.0,\n  4.0,\n  nan,\n  25.0,\n  60.0,\n  52.0,\n  44.0,\n  nan,\n  49.0,\n  42.0,\n  18.0,\n  35.0,\n  18.0,\n  25.0,\n  26.0,\n  39.0,\n  45.0,\n  42.0,\n  22.0,\n  nan,\n  24.0,\n  nan,\n  48.0,\n  29.0,\n  52.0,\n  19.0,\n  38.0,\n  27.0,\n  nan,\n  33.0,\n  6.0,\n  17.0,\n  34.0,\n  50.0,\n  27.0,\n  20.0,\n  30.0,\n  nan,\n  25.0,\n  25.0,\n  29.0,\n  11.0,\n  nan,\n  23.0,\n  23.0,\n  28.5,\n  48.0,\n  35.0,\n  nan,\n  nan,\n  nan,\n  36.0,\n  21.0,\n  24.0,\n  31.0,\n  70.0,\n  16.0,\n  30.0,\n  19.0,\n  31.0,\n  4.0,\n  6.0,\n  33.0,\n  23.0,\n  48.0,\n  0.67,\n  28.0,\n  18.0,\n  34.0,\n  33.0,\n  nan,\n  41.0,\n  20.0,\n  36.0,\n  16.0,\n  51.0,\n  nan,\n  30.5,\n  nan,\n  32.0,\n  24.0,\n  48.0,\n  57.0,\n  nan,\n  54.0,\n  18.0,\n  nan,\n  5.0,\n  nan,\n  43.0,\n  13.0,\n  17.0,\n  29.0,\n  nan,\n  25.0,\n  25.0,\n  18.0,\n  8.0,\n  1.0,\n  46.0,\n  nan,\n  16.0,\n  nan,\n  nan,\n  25.0,\n  39.0,\n  49.0,\n  31.0,\n  30.0,\n  30.0,\n  34.0,\n  31.0,\n  11.0,\n  0.42,\n  27.0,\n  31.0,\n  39.0,\n  18.0,\n  39.0,\n  33.0,\n  26.0,\n  39.0,\n  35.0,\n  6.0,\n  30.5,\n  nan,\n  23.0,\n  31.0,\n  43.0,\n  10.0,\n  52.0,\n  27.0,\n  38.0,\n  27.0,\n  2.0,\n  nan,\n  nan,\n  1.0,\n  nan,\n  62.0,\n  15.0,\n  0.83,\n  nan,\n  23.0,\n  18.0,\n  39.0,\n  21.0,\n  nan,\n  32.0,\n  nan,\n  20.0,\n  16.0,\n  30.0,\n  34.5,\n  17.0,\n  42.0,\n  nan,\n  35.0,\n  28.0,\n  nan,\n  4.0,\n  74.0,\n  9.0,\n  16.0,\n  44.0,\n  18.0,\n  45.0,\n  51.0,\n  24.0,\n  nan,\n  41.0,\n  21.0,\n  48.0,\n  nan,\n  24.0,\n  42.0,\n  27.0,\n  31.0,\n  nan,\n  4.0,\n  26.0,\n  47.0,\n  33.0,\n  47.0,\n  28.0,\n  15.0,\n  20.0,\n  19.0,\n  nan,\n  56.0,\n  25.0,\n  33.0,\n  22.0,\n  28.0,\n  25.0,\n  39.0,\n  27.0,\n  19.0,\n  nan,\n  26.0,\n  32.0],\n 'SibSp': [1,\n  1,\n  0,\n  1,\n  0,\n  0,\n  0,\n  3,\n  0,\n  1,\n  1,\n  0,\n  0,\n  1,\n  0,\n  0,\n  4,\n  0,\n  1,\n  0,\n  0,\n  0,\n  0,\n  0,\n  3,\n  1,\n  0,\n  3,\n  0,\n  0,\n  0,\n  1,\n  0,\n  0,\n  1,\n  1,\n  0,\n  0,\n  2,\n  1,\n  1,\n  1,\n  0,\n  1,\n  0,\n  0,\n  1,\n  0,\n  2,\n  1,\n  4,\n  0,\n  1,\n  1,\n  0,\n  0,\n  0,\n  0,\n  1,\n  5,\n  0,\n  0,\n  1,\n  3,\n  0,\n  1,\n  0,\n  0,\n  4,\n  2,\n  0,\n  5,\n  0,\n  1,\n  0,\n  0,\n  0,\n  0,\n  0,\n  0,\n  0,\n  0,\n  0,\n  0,\n  0,\n  3,\n  1,\n  0,\n  3,\n  0,\n  0,\n  0,\n  1,\n  1,\n  0,\n  0,\n  0,\n  0,\n  0,\n  1,\n  0,\n  0,\n  0,\n  0,\n  2,\n  0,\n  0,\n  0,\n  0,\n  1,\n  0,\n  1,\n  0,\n  1,\n  0,\n  0,\n  0,\n  1,\n  0,\n  4,\n  2,\n  0,\n  1,\n  0,\n  0,\n  1,\n  0,\n  0,\n  1,\n  0,\n  0,\n  0,\n  1,\n  1,\n  0,\n  0,\n  0,\n  1,\n  0,\n  0,\n  0,\n  0,\n  1,\n  0,\n  0,\n  1,\n  0,\n  2,\n  0,\n  0,\n  0,\n  1,\n  0,\n  0,\n  0,\n  0,\n  0,\n  0,\n  0,\n  8,\n  0,\n  0,\n  0,\n  0,\n  4,\n  0,\n  0,\n  1,\n  0,\n  0,\n  0,\n  4,\n  1,\n  0,\n  0,\n  1,\n  3,\n  0,\n  0,\n  0,\n  8,\n  0,\n  4,\n  2,\n  0,\n  0,\n  1,\n  0,\n  1,\n  0,\n  0,\n  0,\n  1,\n  1,\n  0,\n  0,\n  0,\n  0,\n  0,\n  0,\n  0,\n  8,\n  0,\n  0,\n  0,\n  0,\n  1,\n  0,\n  0,\n  0,\n  0,\n  0,\n  0,\n  0,\n  1,\n  1,\n  0,\n  1,\n  0,\n  0,\n  0,\n  0,\n  0,\n  0,\n  1,\n  0,\n  0,\n  0,\n  0,\n  3,\n  1,\n  0,\n  0,\n  4,\n  0,\n  0,\n  1,\n  0,\n  0,\n  0,\n  1,\n  1,\n  0,\n  0,\n  0,\n  2,\n  0,\n  0,\n  1,\n  1,\n  0,\n  1,\n  0,\n  1,\n  0,\n  0,\n  0,\n  0,\n  0,\n  0,\n  0,\n  4,\n  1,\n  0,\n  0,\n  0,\n  4,\n  1,\n  0,\n  0,\n  0,\n  0,\n  0,\n  0,\n  0,\n  1,\n  0,\n  0,\n  4,\n  1,\n  0,\n  0,\n  0,\n  0,\n  0,\n  0,\n  0,\n  0,\n  0,\n  0,\n  0,\n  1,\n  0,\n  0,\n  0,\n  0,\n  0,\n  1,\n  0,\n  0,\n  0,\n  2,\n  0,\n  0,\n  0,\n  1,\n  0,\n  1,\n  1,\n  0,\n  0,\n  2,\n  1,\n  0,\n  1,\n  0,\n  1,\n  0,\n  0,\n  1,\n  0,\n  0,\n  0,\n  1,\n  8,\n  0,\n  0,\n  0,\n  1,\n  0,\n  2,\n  0,\n  0,\n  2,\n  1,\n  0,\n  1,\n  0,\n  0,\n  0,\n  1,\n  3,\n  0,\n  0,\n  0,\n  0,\n  0,\n  1,\n  1,\n  0,\n  0,\n  0,\n  1,\n  1,\n  0,\n  0,\n  0,\n  0,\n  0,\n  0,\n  1,\n  1,\n  0,\n  0,\n  1,\n  0,\n  1,\n  0,\n  0,\n  0,\n  1,\n  1,\n  0,\n  0,\n  3,\n  1,\n  0,\n  0,\n  0,\n  0,\n  0,\n  0,\n  0,\n  1,\n  0,\n  0,\n  5,\n  0,\n  0,\n  0,\n  1,\n  0,\n  2,\n  1,\n  0,\n  0,\n  0,\n  0,\n  0,\n  0,\n  0,\n  0,\n  1,\n  1,\n  0,\n  1,\n  0,\n  1,\n  0,\n  3,\n  0,\n  0,\n  1,\n  0,\n  0,\n  0,\n  1,\n  0,\n  0,\n  0,\n  0,\n  0,\n  0,\n  1,\n  1,\n  0,\n  1,\n  0,\n  0,\n  0,\n  0,\n  1,\n  1,\n  0,\n  1,\n  1,\n  2,\n  2,\n  1,\n  0,\n  1,\n  0,\n  1,\n  0,\n  0,\n  0,\n  0,\n  0,\n  2,\n  0,\n  1,\n  1,\n  0,\n  1,\n  0,\n  0,\n  0,\n  1,\n  0,\n  0,\n  0,\n  0,\n  0,\n  0,\n  0,\n  0,\n  0,\n  0,\n  0,\n  2,\n  0,\n  0,\n  1,\n  0,\n  0,\n  0,\n  1,\n  1,\n  0,\n  0,\n  5,\n  0,\n  0,\n  0,\n  1,\n  3,\n  1,\n  0,\n  0,\n  1,\n  1,\n  0,\n  0,\n  0,\n  0,\n  0,\n  1,\n  0,\n  1,\n  0,\n  0,\n  0,\n  0,\n  0,\n  0,\n  1,\n  0,\n  0,\n  0,\n  0,\n  0,\n  0,\n  0,\n  1,\n  0,\n  0,\n  0,\n  0,\n  1,\n  0,\n  0,\n  0,\n  0,\n  0,\n  0,\n  0,\n  0,\n  0,\n  0,\n  2,\n  1,\n  0,\n  1,\n  0,\n  0,\n  0,\n  0,\n  0,\n  0,\n  0,\n  0,\n  4,\n  4,\n  1,\n  1,\n  0,\n  1,\n  0,\n  1,\n  1,\n  0,\n  0,\n  0,\n  0,\n  0,\n  0,\n  1,\n  0,\n  1,\n  1,\n  0,\n  0,\n  0,\n  0,\n  0,\n  2,\n  0,\n  0,\n  0,\n  0,\n  0,\n  2,\n  0,\n  0,\n  0,\n  0,\n  0,\n  1,\n  1,\n  0,\n  1,\n  1,\n  0,\n  0,\n  0,\n  0,\n  0,\n  1,\n  0,\n  0,\n  0,\n  1,\n  0,\n  0,\n  1,\n  1,\n  0,\n  0,\n  0,\n  1,\n  2,\n  0,\n  0,\n  0,\n  0,\n  1,\n  0,\n  0,\n  1,\n  0,\n  1,\n  0,\n  1,\n  0,\n  0,\n  1,\n  1,\n  1,\n  2,\n  0,\n  1,\n  1,\n  1,\n  0,\n  0,\n  0,\n  0,\n  0,\n  0,\n  0,\n  0,\n  0,\n  0,\n  0,\n  3,\n  0,\n  0,\n  1,\n  0,\n  1,\n  0,\n  0,\n  3,\n  0,\n  2,\n  1,\n  0,\n  0,\n  0,\n  0,\n  0,\n  0,\n  0,\n  0,\n  0,\n  2,\n  0,\n  1,\n  0,\n  0,\n  2,\n  0,\n  0,\n  0,\n  1,\n  2,\n  0,\n  0,\n  0,\n  1,\n  1,\n  1,\n  0,\n  0,\n  0,\n  0,\n  0,\n  0,\n  1,\n  0,\n  0,\n  0,\n  0,\n  5,\n  1,\n  1,\n  4,\n  0,\n  0,\n  0,\n  1,\n  0,\n  0,\n  0,\n  0,\n  0,\n  0,\n  0,\n  1,\n  0,\n  1,\n  0,\n  0,\n  0,\n  1,\n  0,\n  0,\n  0,\n  0,\n  1,\n  0,\n  0,\n  1,\n  0,\n  0,\n  0,\n  0,\n  0,\n  0,\n  0,\n  0,\n  1,\n  0,\n  0,\n  1,\n  0,\n  3,\n  0,\n  1,\n  1,\n  0,\n  0,\n  0,\n  0,\n  0,\n  0,\n  1,\n  0,\n  0,\n  0,\n  0,\n  1,\n  2,\n  1,\n  0,\n  1,\n  1,\n  0,\n  1,\n  0,\n  1,\n  0,\n  0,\n  0,\n  1,\n  1,\n  0,\n  0,\n  0,\n  0,\n  0,\n  0,\n  0,\n  1,\n  0,\n  1,\n  0,\n  0,\n  1,\n  0,\n  0,\n  0,\n  0,\n  0,\n  1,\n  0,\n  0,\n  0,\n  0,\n  0,\n  0,\n  1,\n  0,\n  1,\n  0,\n  0,\n  0,\n  4,\n  1,\n  0,\n  0,\n  0,\n  8,\n  0,\n  0,\n  0,\n  0,\n  0,\n  0,\n  1,\n  0,\n  1,\n  1,\n  0,\n  0,\n  0,\n  0,\n  0,\n  0,\n  1,\n  0,\n  0,\n  0,\n  4,\n  0,\n  0,\n  0,\n  1,\n  0,\n  3,\n  1,\n  0,\n  0,\n  0,\n  4,\n  0,\n  0,\n  0,\n  0,\n  0,\n  1,\n  1,\n  0,\n  0,\n  0,\n  1,\n  0,\n  0,\n  0,\n  0,\n  0,\n  0,\n  0,\n  0,\n  0,\n  0,\n  8,\n  0,\n  0,\n  1,\n  4,\n  0,\n  1,\n  0,\n  1,\n  0,\n  1,\n  0,\n  0,\n  0,\n  2,\n  1,\n  0,\n  8,\n  0,\n  0,\n  1,\n  0,\n  0,\n  1,\n  0,\n  1,\n  0,\n  0,\n  1,\n  0,\n  0,\n  0,\n  0,\n  0,\n  0,\n  0,\n  0,\n  0,\n  0,\n  0,\n  0,\n  0,\n  1,\n  0,\n  0],\n 'Parch': [0,\n  0,\n  0,\n  0,\n  0,\n  0,\n  0,\n  1,\n  2,\n  0,\n  1,\n  0,\n  0,\n  5,\n  0,\n  0,\n  1,\n  0,\n  0,\n  0,\n  0,\n  0,\n  0,\n  0,\n  1,\n  5,\n  0,\n  2,\n  0,\n  0,\n  0,\n  0,\n  0,\n  0,\n  0,\n  0,\n  0,\n  0,\n  0,\n  0,\n  0,\n  0,\n  0,\n  2,\n  0,\n  0,\n  0,\n  0,\n  0,\n  0,\n  1,\n  0,\n  0,\n  0,\n  1,\n  0,\n  0,\n  0,\n  2,\n  2,\n  0,\n  0,\n  0,\n  2,\n  0,\n  1,\n  0,\n  0,\n  2,\n  0,\n  0,\n  2,\n  0,\n  0,\n  0,\n  0,\n  0,\n  0,\n  2,\n  0,\n  0,\n  0,\n  0,\n  0,\n  0,\n  0,\n  3,\n  0,\n  2,\n  0,\n  0,\n  0,\n  0,\n  2,\n  0,\n  0,\n  0,\n  1,\n  1,\n  0,\n  0,\n  0,\n  1,\n  0,\n  0,\n  0,\n  0,\n  0,\n  0,\n  0,\n  0,\n  0,\n  0,\n  0,\n  0,\n  0,\n  0,\n  0,\n  1,\n  2,\n  0,\n  0,\n  0,\n  0,\n  1,\n  0,\n  0,\n  0,\n  1,\n  0,\n  0,\n  0,\n  0,\n  0,\n  0,\n  0,\n  2,\n  0,\n  0,\n  0,\n  2,\n  0,\n  0,\n  0,\n  0,\n  1,\n  0,\n  2,\n  2,\n  0,\n  0,\n  0,\n  0,\n  2,\n  0,\n  1,\n  0,\n  0,\n  0,\n  2,\n  1,\n  0,\n  0,\n  0,\n  1,\n  2,\n  1,\n  4,\n  0,\n  0,\n  0,\n  1,\n  1,\n  0,\n  0,\n  1,\n  1,\n  0,\n  0,\n  0,\n  2,\n  0,\n  2,\n  1,\n  2,\n  0,\n  0,\n  0,\n  1,\n  0,\n  0,\n  0,\n  0,\n  1,\n  0,\n  0,\n  0,\n  1,\n  0,\n  0,\n  0,\n  2,\n  0,\n  0,\n  0,\n  1,\n  0,\n  0,\n  0,\n  0,\n  0,\n  0,\n  0,\n  0,\n  0,\n  0,\n  0,\n  0,\n  0,\n  0,\n  0,\n  0,\n  0,\n  0,\n  0,\n  0,\n  0,\n  0,\n  0,\n  1,\n  0,\n  0,\n  0,\n  2,\n  0,\n  0,\n  0,\n  2,\n  0,\n  0,\n  0,\n  0,\n  0,\n  0,\n  0,\n  0,\n  0,\n  2,\n  1,\n  0,\n  0,\n  1,\n  0,\n  0,\n  2,\n  2,\n  0,\n  0,\n  0,\n  1,\n  0,\n  2,\n  1,\n  0,\n  0,\n  0,\n  1,\n  0,\n  1,\n  0,\n  0,\n  0,\n  1,\n  1,\n  0,\n  0,\n  0,\n  0,\n  1,\n  1,\n  0,\n  0,\n  0,\n  0,\n  0,\n  0,\n  0,\n  0,\n  0,\n  0,\n  0,\n  0,\n  0,\n  0,\n  0,\n  0,\n  0,\n  2,\n  0,\n  1,\n  0,\n  0,\n  0,\n  0,\n  0,\n  2,\n  0,\n  0,\n  0,\n  0,\n  0,\n  2,\n  1,\n  0,\n  1,\n  0,\n  0,\n  0,\n  2,\n  1,\n  0,\n  0,\n  0,\n  1,\n  2,\n  0,\n  0,\n  0,\n  1,\n  1,\n  0,\n  0,\n  1,\n  0,\n  0,\n  0,\n  0,\n  0,\n  0,\n  0,\n  1,\n  2,\n  0,\n  0,\n  0,\n  0,\n  0,\n  0,\n  1,\n  0,\n  0,\n  0,\n  1,\n  0,\n  0,\n  0,\n  1,\n  0,\n  0,\n  0,\n  4,\n  0,\n  1,\n  0,\n  0,\n  0,\n  0,\n  0,\n  0,\n  0,\n  0,\n  0,\n  0,\n  0,\n  1,\n  0,\n  0,\n  2,\n  0,\n  0,\n  0,\n  2,\n  0,\n  0,\n  0,\n  0,\n  2,\n  0,\n  0,\n  0,\n  2,\n  0,\n  0,\n  0,\n  2,\n  0,\n  0,\n  0,\n  0,\n  0,\n  0,\n  0,\n  0,\n  0,\n  0,\n  0,\n  0,\n  1,\n  0,\n  1,\n  0,\n  0,\n  0,\n  0,\n  0,\n  0,\n  1,\n  2,\n  0,\n  2,\n  0,\n  0,\n  0,\n  1,\n  1,\n  0,\n  0,\n  0,\n  0,\n  0,\n  0,\n  0,\n  0,\n  0,\n  0,\n  2,\n  2,\n  3,\n  4,\n  0,\n  1,\n  0,\n  0,\n  0,\n  0,\n  2,\n  1,\n  0,\n  1,\n  0,\n  2,\n  0,\n  0,\n  0,\n  0,\n  0,\n  0,\n  0,\n  0,\n  0,\n  0,\n  0,\n  0,\n  0,\n  0,\n  0,\n  0,\n  0,\n  0,\n  1,\n  0,\n  0,\n  2,\n  0,\n  0,\n  0,\n  0,\n  0,\n  0,\n  1,\n  2,\n  0,\n  0,\n  0,\n  0,\n  1,\n  0,\n  0,\n  0,\n  1,\n  0,\n  0,\n  0,\n  0,\n  0,\n  0,\n  0,\n  0,\n  2,\n  0,\n  0,\n  0,\n  0,\n  0,\n  0,\n  0,\n  2,\n  0,\n  0,\n  0,\n  0,\n  0,\n  0,\n  0,\n  0,\n  0,\n  0,\n  0,\n  0,\n  0,\n  0,\n  0,\n  0,\n  1,\n  0,\n  0,\n  0,\n  0,\n  0,\n  1,\n  1,\n  0,\n  1,\n  2,\n  0,\n  2,\n  0,\n  0,\n  0,\n  2,\n  2,\n  2,\n  2,\n  0,\n  0,\n  0,\n  0,\n  0,\n  1,\n  1,\n  2,\n  0,\n  0,\n  0,\n  0,\n  0,\n  0,\n  0,\n  1,\n  0,\n  0,\n  0,\n  0,\n  0,\n  0,\n  0,\n  0,\n  4,\n  0,\n  0,\n  0,\n  0,\n  0,\n  0,\n  0,\n  0,\n  0,\n  0,\n  0,\n  0,\n  1,\n  1,\n  0,\n  0,\n  0,\n  2,\n  0,\n  1,\n  0,\n  0,\n  0,\n  0,\n  0,\n  2,\n  0,\n  1,\n  0,\n  0,\n  0,\n  0,\n  1,\n  0,\n  0,\n  0,\n  0,\n  0,\n  0,\n  0,\n  2,\n  0,\n  5,\n  0,\n  0,\n  0,\n  0,\n  2,\n  1,\n  0,\n  1,\n  0,\n  0,\n  0,\n  1,\n  0,\n  0,\n  0,\n  0,\n  0,\n  0,\n  0,\n  0,\n  0,\n  0,\n  0,\n  2,\n  0,\n  0,\n  1,\n  5,\n  0,\n  0,\n  0,\n  2,\n  0,\n  1,\n  0,\n  0,\n  0,\n  0,\n  0,\n  0,\n  1,\n  0,\n  0,\n  0,\n  0,\n  0,\n  1,\n  0,\n  2,\n  0,\n  0,\n  0,\n  0,\n  0,\n  0,\n  0,\n  0,\n  0,\n  0,\n  1,\n  0,\n  0,\n  0,\n  0,\n  0,\n  0,\n  0,\n  6,\n  1,\n  0,\n  0,\n  0,\n  2,\n  1,\n  2,\n  1,\n  0,\n  0,\n  1,\n  0,\n  1,\n  0,\n  0,\n  0,\n  0,\n  0,\n  0,\n  1,\n  0,\n  0,\n  0,\n  1,\n  0,\n  0,\n  0,\n  0,\n  0,\n  0,\n  1,\n  0,\n  0,\n  0,\n  0,\n  0,\n  0,\n  0,\n  0,\n  0,\n  0,\n  1,\n  0,\n  0,\n  0,\n  0,\n  0,\n  0,\n  0,\n  0,\n  0,\n  0,\n  0,\n  0,\n  0,\n  0,\n  0,\n  3,\n  0,\n  0,\n  0,\n  0,\n  0,\n  2,\n  0,\n  0,\n  1,\n  1,\n  0,\n  0,\n  0,\n  1,\n  1,\n  0,\n  0,\n  2,\n  1,\n  0,\n  0,\n  0,\n  0,\n  0,\n  0,\n  0,\n  2,\n  0,\n  0,\n  0,\n  0,\n  0,\n  0,\n  0,\n  0,\n  0,\n  0,\n  3,\n  0,\n  0,\n  0,\n  0,\n  1,\n  0,\n  0,\n  0,\n  2,\n  0,\n  0,\n  0,\n  1,\n  2,\n  0,\n  0,\n  0,\n  2,\n  0,\n  0,\n  0,\n  0,\n  0,\n  0,\n  1,\n  0,\n  1,\n  2,\n  1,\n  0,\n  0,\n  0,\n  0,\n  0,\n  0,\n  0,\n  0,\n  0,\n  2,\n  0,\n  0,\n  0,\n  1,\n  0,\n  2,\n  1,\n  0,\n  0,\n  1,\n  1,\n  0,\n  0,\n  2,\n  0,\n  0,\n  0,\n  1,\n  0,\n  0,\n  0,\n  1,\n  0,\n  0,\n  0,\n  0,\n  0,\n  0,\n  0,\n  0,\n  0,\n  0,\n  2,\n  0,\n  1,\n  0,\n  2,\n  0,\n  1,\n  1,\n  0,\n  1,\n  1,\n  0,\n  3,\n  0,\n  0,\n  0,\n  0,\n  2,\n  0,\n  0,\n  0,\n  0,\n  0,\n  1,\n  0,\n  1,\n  0,\n  0,\n  0,\n  0,\n  0,\n  0,\n  0,\n  1,\n  1,\n  0,\n  0,\n  0,\n  0,\n  5,\n  0,\n  0,\n  2,\n  0,\n  0],\n 'Ticket': ['A/5 21171',\n  'PC 17599',\n  'STON/O2. 3101282',\n  '113803',\n  '373450',\n  '330877',\n  '17463',\n  '349909',\n  '347742',\n  '237736',\n  'PP 9549',\n  '113783',\n  'A/5. 2151',\n  '347082',\n  '350406',\n  '248706',\n  '382652',\n  '244373',\n  '345763',\n  '2649',\n  '239865',\n  '248698',\n  '330923',\n  '113788',\n  '349909',\n  '347077',\n  '2631',\n  '19950',\n  '330959',\n  '349216',\n  'PC 17601',\n  'PC 17569',\n  '335677',\n  'C.A. 24579',\n  'PC 17604',\n  '113789',\n  '2677',\n  'A./5. 2152',\n  '345764',\n  '2651',\n  '7546',\n  '11668',\n  '349253',\n  'SC/Paris 2123',\n  '330958',\n  'S.C./A.4. 23567',\n  '370371',\n  '14311',\n  '2662',\n  '349237',\n  '3101295',\n  'A/4. 39886',\n  'PC 17572',\n  '2926',\n  '113509',\n  '19947',\n  'C.A. 31026',\n  '2697',\n  'C.A. 34651',\n  'CA 2144',\n  '2669',\n  '113572',\n  '36973',\n  '347088',\n  'PC 17605',\n  '2661',\n  'C.A. 29395',\n  'S.P. 3464',\n  '3101281',\n  '315151',\n  'C.A. 33111',\n  'CA 2144',\n  'S.O.C. 14879',\n  '2680',\n  '1601',\n  '348123',\n  '349208',\n  '374746',\n  '248738',\n  '364516',\n  '345767',\n  '345779',\n  '330932',\n  '113059',\n  'SO/C 14885',\n  '3101278',\n  'W./C. 6608',\n  'SOTON/OQ 392086',\n  '19950',\n  '343275',\n  '343276',\n  '347466',\n  'W.E.P. 5734',\n  'C.A. 2315',\n  '364500',\n  '374910',\n  'PC 17754',\n  'PC 17759',\n  '231919',\n  '244367',\n  '349245',\n  '349215',\n  '35281',\n  '7540',\n  '3101276',\n  '349207',\n  '343120',\n  '312991',\n  '349249',\n  '371110',\n  '110465',\n  '2665',\n  '324669',\n  '4136',\n  '2627',\n  'STON/O 2. 3101294',\n  '370369',\n  '11668',\n  'PC 17558',\n  '347082',\n  'S.O.C. 14879',\n  'A4. 54510',\n  '237736',\n  '27267',\n  '35281',\n  '2651',\n  '370372',\n  'C 17369',\n  '2668',\n  '347061',\n  '349241',\n  'SOTON/O.Q. 3101307',\n  'A/5. 3337',\n  '228414',\n  'C.A. 29178',\n  'SC/PARIS 2133',\n  '11752',\n  '113803',\n  '7534',\n  'PC 17593',\n  '2678',\n  '347081',\n  'STON/O2. 3101279',\n  '365222',\n  '231945',\n  'C.A. 33112',\n  '350043',\n  'W./C. 6608',\n  '230080',\n  '244310',\n  'S.O.P. 1166',\n  '113776',\n  'A.5. 11206',\n  'A/5. 851',\n  'Fa 265302',\n  'PC 17597',\n  '35851',\n  'SOTON/OQ 392090',\n  '315037',\n  'CA. 2343',\n  '371362',\n  'C.A. 33595',\n  '347068',\n  '315093',\n  '3101295',\n  '363291',\n  '113505',\n  '347088',\n  'PC 17318',\n  '1601',\n  '111240',\n  '382652',\n  '347742',\n  'STON/O 2. 3101280',\n  '17764',\n  '350404',\n  '4133',\n  'PC 17595',\n  '250653',\n  'LINE',\n  'CA. 2343',\n  'SC/PARIS 2131',\n  '347077',\n  '230136',\n  '315153',\n  '113767',\n  '370365',\n  '111428',\n  '364849',\n  '349247',\n  '234604',\n  '28424',\n  '350046',\n  '230080',\n  'PC 17610',\n  'PC 17569',\n  '368703',\n  '4579',\n  '370370',\n  '248747',\n  '345770',\n  'CA. 2343',\n  '3101264',\n  '2628',\n  'A/5 3540',\n  '347054',\n  '3101278',\n  '2699',\n  '367231',\n  '112277',\n  'SOTON/O.Q. 3101311',\n  'F.C.C. 13528',\n  'A/5 21174',\n  '250646',\n  '367229',\n  '35273',\n  'STON/O2. 3101283',\n  '243847',\n  '11813',\n  'W/C 14208',\n  'SOTON/OQ 392089',\n  '220367',\n  '21440',\n  '349234',\n  '19943',\n  'PP 4348',\n  'SW/PP 751',\n  'A/5 21173',\n  '236171',\n  '4133',\n  '36973',\n  '347067',\n  '237442',\n  '347077',\n  'C.A. 29566',\n  'W./C. 6609',\n  '26707',\n  'C.A. 31921',\n  '28665',\n  'SCO/W 1585',\n  '2665',\n  '367230',\n  'W./C. 14263',\n  'STON/O 2. 3101275',\n  '2694',\n  '19928',\n  '347071',\n  '250649',\n  '11751',\n  '244252',\n  '362316',\n  '347054',\n  '113514',\n  'A/5. 3336',\n  '370129',\n  '2650',\n  'PC 17585',\n  '110152',\n  'PC 17755',\n  '230433',\n  '384461',\n  '347077',\n  '110413',\n  '112059',\n  '382649',\n  'C.A. 17248',\n  '3101295',\n  '347083',\n  'PC 17582',\n  'PC 17760',\n  '113798',\n  'LINE',\n  '250644',\n  'PC 17596',\n  '370375',\n  '13502',\n  '347073',\n  '239853',\n  '382652',\n  'C.A. 2673',\n  '336439',\n  '347464',\n  '345778',\n  'A/5. 10482',\n  '113056',\n  '349239',\n  '345774',\n  '349206',\n  '237798',\n  '370373',\n  '19877',\n  '11967',\n  'SC/Paris 2163',\n  '349236',\n  '349233',\n  'PC 17612',\n  '2693',\n  '113781',\n  '19988',\n  'PC 17558',\n  '9234',\n  '367226',\n  'LINE',\n  '226593',\n  'A/5 2466',\n  '113781',\n  '17421',\n  'PC 17758',\n  'P/PP 3381',\n  'PC 17485',\n  '11767',\n  'PC 17608',\n  '250651',\n  '349243',\n  'F.C.C. 13529',\n  '347470',\n  '244367',\n  '29011',\n  '36928',\n  '16966',\n  'A/5 21172',\n  '349219',\n  '234818',\n  '248738',\n  'CA. 2343',\n  'PC 17760',\n  '345364',\n  '28551',\n  '363291',\n  '111361',\n  '367226',\n  '113043',\n  'PC 17582',\n  '345764',\n  'PC 17611',\n  '349225',\n  '113776',\n  '16966',\n  '7598',\n  '113784',\n  '230080',\n  '19950',\n  '248740',\n  '244361',\n  '229236',\n  '248733',\n  '31418',\n  '386525',\n  'C.A. 37671',\n  '315088',\n  '7267',\n  '113510',\n  '2695',\n  '349237',\n  '2647',\n  '345783',\n  '113505',\n  '237671',\n  '330931',\n  '330980',\n  '347088',\n  'SC/PARIS 2167',\n  '2691',\n  'SOTON/O.Q. 3101310',\n  '370365',\n  'C 7076',\n  '110813',\n  '2626',\n  '14313',\n  'PC 17477',\n  '11765',\n  '3101267',\n  '323951',\n  'PC 17760',\n  '349909',\n  'PC 17604',\n  'C 7077',\n  '113503',\n  '2648',\n  '347069',\n  'PC 17757',\n  '2653',\n  'STON/O 2. 3101293',\n  '113789',\n  '349227',\n  'S.O.C. 14879',\n  'CA 2144',\n  '27849',\n  '367655',\n  'SC 1748',\n  '113760',\n  '350034',\n  '3101277',\n  '35273',\n  'PP 9549',\n  '350052',\n  '350407',\n  '28403',\n  '244278',\n  '240929',\n  'STON/O 2. 3101289',\n  '341826',\n  '4137',\n  'STON/O2. 3101279',\n  '315096',\n  '28664',\n  '347064',\n  '29106',\n  '312992',\n  '4133',\n  '349222',\n  '394140',\n  '19928',\n  '239853',\n  'STON/O 2. 3101269',\n  '343095',\n  '28220',\n  '250652',\n  '28228',\n  '345773',\n  '349254',\n  'A/5. 13032',\n  '315082',\n  '347080',\n  '370129',\n  'A/4. 34244',\n  '2003',\n  '250655',\n  '364851',\n  'SOTON/O.Q. 392078',\n  '110564',\n  '376564',\n  'SC/AH 3085',\n  'STON/O 2. 3101274',\n  '13507',\n  '113760',\n  'W./C. 6608',\n  '29106',\n  '19950',\n  'C.A. 18723',\n  'F.C.C. 13529',\n  '345769',\n  '347076',\n  '230434',\n  '65306',\n  '33638',\n  '250644',\n  '113794',\n  '2666',\n  '113786',\n  'C.A. 34651',\n  '65303',\n  '113051',\n  '17453',\n  'A/5 2817',\n  '349240',\n  '13509',\n  '17464',\n  'F.C.C. 13531',\n  '371060',\n  '19952',\n  '364506',\n  '111320',\n  '234360',\n  'A/S 2816',\n  'SOTON/O.Q. 3101306',\n  '239853',\n  '113792',\n  '36209',\n  '2666',\n  '323592',\n  '315089',\n  'C.A. 34651',\n  'SC/AH Basle 541',\n  '7553',\n  '110465',\n  '31027',\n  '3460',\n  '350060',\n  '3101298',\n  'CA 2144',\n  '239854',\n  'A/5 3594',\n  '4134',\n  '11967',\n  '4133',\n  '19943',\n  '11771',\n  'A.5. 18509',\n  'C.A. 37671',\n  '65304',\n  'SOTON/OQ 3101317',\n  '113787',\n  'PC 17609',\n  'A/4 45380',\n  '2627',\n  '36947',\n  'C.A. 6212',\n  '113781',\n  '350035',\n  '315086',\n  '364846',\n  '330909',\n  '4135',\n  '110152',\n  'PC 17758',\n  '26360',\n  '111427',\n  'C 4001',\n  '1601',\n  '382651',\n  'SOTON/OQ 3101316',\n  'PC 17473',\n  'PC 17603',\n  '349209',\n  '36967',\n  'C.A. 34260',\n  '371110',\n  '226875',\n  '349242',\n  '12749',\n  '349252',\n  '2624',\n  '111361',\n  '2700',\n  '367232',\n  'W./C. 14258',\n  'PC 17483',\n  '3101296',\n  '29104',\n  '26360',\n  '2641',\n  '2690',\n  '2668',\n  '315084',\n  'F.C.C. 13529',\n  '113050',\n  'PC 17761',\n  '364498',\n  '13568',\n  'WE/P 5735',\n  '347082',\n  '347082',\n  '2908',\n  'PC 17761',\n  '693',\n  '2908',\n  'SC/PARIS 2146',\n  '363291',\n  'C.A. 33112',\n  '17421',\n  '244358',\n  '330979',\n  '2620',\n  '347085',\n  '113807',\n  '11755',\n  'PC 17757',\n  '110413',\n  '345572',\n  '372622',\n  '349251',\n  '218629',\n  'SOTON/OQ 392082',\n  'SOTON/O.Q. 392087',\n  'A/4 48871',\n  '349205',\n  '349909',\n  '2686',\n  '350417',\n  'S.W./PP 752',\n  '11769',\n  'PC 17474',\n  '14312',\n  'A/4. 20589',\n  '358585',\n  '243880',\n  '13507',\n  '2689',\n  'STON/O 2. 3101286',\n  '237789',\n  '17421',\n  '28403',\n  '13049',\n  '3411',\n  '110413',\n  '237565',\n  '13567',\n  '14973',\n  'A./5. 3235',\n  'STON/O 2. 3101273',\n  '36947',\n  'A/5 3902',\n  '364848',\n  'SC/AH 29037',\n  '345773',\n  '248727',\n  'LINE',\n  '2664',\n  'PC 17485',\n  '243847',\n  '349214',\n  '113796',\n  '364511',\n  '111426',\n  '349910',\n  '349246',\n  '113804',\n  'SC/Paris 2123',\n  'PC 17582',\n  '347082',\n  'SOTON/O.Q. 3101305',\n  '367230',\n  '370377',\n  '364512',\n  '220845',\n  '347080',\n  'A/5. 3336',\n  '230136',\n  '31028',\n  '2659',\n  '11753',\n  '2653',\n  '350029',\n  '54636',\n  '36963',\n  '219533',\n  '13502',\n  '349224',\n  '334912',\n  '27042',\n  '347743',\n  '13214',\n  '112052',\n  '347088',\n  '237668',\n  'STON/O 2. 3101292',\n  'C.A. 31921',\n  '3101295',\n  '376564',\n  '350050',\n  'PC 17477',\n  '347088',\n  '1601',\n  '2666',\n  'PC 17572',\n  '349231',\n  '13213',\n  'S.O./P.P. 751',\n  'CA. 2314',\n  '349221',\n  '231919',\n  '8475',\n  '330919',\n  '365226',\n  'S.O.C. 14879',\n  '349223',\n  '364849',\n  '29751',\n  '35273',\n  'PC 17611',\n  '2623',\n  '5727',\n  '349210',\n  'STON/O 2. 3101285',\n  'S.O.C. 14879',\n  '234686',\n  '312993',\n  'A/5 3536',\n  '19996',\n  '29750',\n  'F.C. 12750',\n  'C.A. 24580',\n  '244270',\n  '239856',\n  '349912',\n  '342826',\n  '4138',\n  'CA 2144',\n  'PC 17755',\n  '330935',\n  'PC 17572',\n  '6563',\n  'CA 2144',\n  '29750',\n  'SC/Paris 2123',\n  '3101295',\n  '349228',\n  '350036',\n  '24160',\n  '17474',\n  '349256',\n  '1601',\n  '2672',\n  '113800',\n  '248731',\n  '363592',\n  '35852',\n  '17421',\n  '348121',\n  'PC 17757',\n  'PC 17475',\n  '2691',\n  '36864',\n  '350025',\n  '250655',\n  '223596',\n  'PC 17476',\n  '113781',\n  '2661',\n  'PC 17482',\n  '113028',\n  '19996',\n  '7545',\n  '250647',\n  '348124',\n  'PC 17757',\n  '34218',\n  '36568',\n  '347062',\n  '248727',\n  '350048',\n  '12233',\n  '250643',\n  '113806',\n  '315094',\n  '31027',\n  '36866',\n  '236853',\n  'STON/O2. 3101271',\n  '24160',\n  '2699',\n  '239855',\n  '28425',\n  '233639',\n  '54636',\n  'W./C. 6608',\n  'PC 17755',\n  '349201',\n  '349218',\n  '16988',\n  '19877',\n  'PC 17608',\n  '376566',\n  'STON/O 2. 3101288',\n  'WE/P 5735',\n  'C.A. 2673',\n  '250648',\n  '113773',\n  '335097',\n  '29103',\n  '392096',\n  '345780',\n  '349204',\n  '220845',\n  '250649',\n  '350042',\n  '29108',\n  '363294',\n  '110152',\n  '358585',\n  'SOTON/O2 3101272',\n  '2663',\n  '113760',\n  '347074',\n  '13502',\n  '112379',\n  '364850',\n  '371110',\n  '8471',\n  '345781',\n  '350047',\n  'S.O./P.P. 3',\n  '2674',\n  '29105',\n  '347078',\n  '383121',\n  '364516',\n  '36865',\n  '24160',\n  '2687',\n  '17474',\n  '113501',\n  'W./C. 6607',\n  'SOTON/O.Q. 3101312',\n  '374887',\n  '3101265',\n  '382652',\n  'C.A. 2315',\n  'PC 17593',\n  '12460',\n  '239865',\n  'CA. 2343',\n  'PC 17600',\n  '349203',\n  '28213',\n  '17465',\n  '349244',\n  '2685',\n  '345773',\n  '250647',\n  'C.A. 31921',\n  '113760',\n  '2625',\n  '347089',\n  '347063',\n  '112050',\n  '347087',\n  '248723',\n  '113806',\n  '3474',\n  'A/4 48871',\n  '28206',\n  '347082',\n  '364499',\n  '112058',\n  'STON/O2. 3101290',\n  'S.C./PARIS 2079',\n  'C 7075',\n  '347088',\n  '12749',\n  '315098',\n  '19972',\n  '392096',\n  '3101295',\n  '368323',\n  '1601',\n  'S.C./PARIS 2079',\n  '367228',\n  '113572',\n  '2659',\n  '29106',\n  '2671',\n  '347468',\n  '2223',\n  'PC 17756',\n  '315097',\n  '392092',\n  '1601',\n  '11774',\n  'SOTON/O2 3101287',\n  'S.O./P.P. 3',\n  '113798',\n  '2683',\n  '315090',\n  'C.A. 5547',\n  'CA. 2343',\n  '349213',\n  '248727',\n  '17453',\n  '347082',\n  '347060',\n  '2678',\n  'PC 17592',\n  '244252',\n  '392091',\n  '36928',\n  '113055',\n  '2666',\n  '2629',\n  '350026',\n  '28134',\n  '17466',\n  'CA. 2343',\n  '233866',\n  '236852',\n  'SC/PARIS 2149',\n  'PC 17590',\n  '345777',\n  '347742',\n  '349248',\n  '11751',\n  '695',\n  '345765',\n  'P/PP 3381',\n  '2667',\n  '7534',\n  '349212',\n  '349217',\n  '11767',\n  '230433',\n  '349257',\n  '7552',\n  'C.A./SOTON 34068',\n  'SOTON/OQ 392076',\n  '382652',\n  '211536',\n  '112053',\n  'W./C. 6607',\n  '111369',\n  '370376'],\n 'Fare': [7.25,\n  71.2833,\n  7.925,\n  53.1,\n  8.05,\n  8.4583,\n  51.8625,\n  21.075,\n  11.1333,\n  30.0708,\n  16.7,\n  26.55,\n  8.05,\n  31.275,\n  7.8542,\n  16.0,\n  29.125,\n  13.0,\n  18.0,\n  7.225,\n  26.0,\n  13.0,\n  8.0292,\n  35.5,\n  21.075,\n  31.3875,\n  7.225,\n  263.0,\n  7.8792,\n  7.8958,\n  27.7208,\n  146.5208,\n  7.75,\n  10.5,\n  82.1708,\n  52.0,\n  7.2292,\n  8.05,\n  18.0,\n  11.2417,\n  9.475,\n  21.0,\n  7.8958,\n  41.5792,\n  7.8792,\n  8.05,\n  15.5,\n  7.75,\n  21.6792,\n  17.8,\n  39.6875,\n  7.8,\n  76.7292,\n  26.0,\n  61.9792,\n  35.5,\n  10.5,\n  7.2292,\n  27.75,\n  46.9,\n  7.2292,\n  80.0,\n  83.475,\n  27.9,\n  27.7208,\n  15.2458,\n  10.5,\n  8.1583,\n  7.925,\n  8.6625,\n  10.5,\n  46.9,\n  73.5,\n  14.4542,\n  56.4958,\n  7.65,\n  7.8958,\n  8.05,\n  29.0,\n  12.475,\n  9.0,\n  9.5,\n  7.7875,\n  47.1,\n  10.5,\n  15.85,\n  34.375,\n  8.05,\n  263.0,\n  8.05,\n  8.05,\n  7.8542,\n  61.175,\n  20.575,\n  7.25,\n  8.05,\n  34.6542,\n  63.3583,\n  23.0,\n  26.0,\n  7.8958,\n  7.8958,\n  77.2875,\n  8.6542,\n  7.925,\n  7.8958,\n  7.65,\n  7.775,\n  7.8958,\n  24.15,\n  52.0,\n  14.4542,\n  8.05,\n  9.825,\n  14.4583,\n  7.925,\n  7.75,\n  21.0,\n  247.5208,\n  31.275,\n  73.5,\n  8.05,\n  30.0708,\n  13.0,\n  77.2875,\n  11.2417,\n  7.75,\n  7.1417,\n  22.3583,\n  6.975,\n  7.8958,\n  7.05,\n  14.5,\n  26.0,\n  13.0,\n  15.0458,\n  26.2833,\n  53.1,\n  9.2167,\n  79.2,\n  15.2458,\n  7.75,\n  15.85,\n  6.75,\n  11.5,\n  36.75,\n  7.7958,\n  34.375,\n  26.0,\n  13.0,\n  12.525,\n  66.6,\n  8.05,\n  14.5,\n  7.3125,\n  61.3792,\n  7.7333,\n  8.05,\n  8.6625,\n  69.55,\n  16.1,\n  15.75,\n  7.775,\n  8.6625,\n  39.6875,\n  20.525,\n  55.0,\n  27.9,\n  25.925,\n  56.4958,\n  33.5,\n  29.125,\n  11.1333,\n  7.925,\n  30.6958,\n  7.8542,\n  25.4667,\n  28.7125,\n  13.0,\n  0.0,\n  69.55,\n  15.05,\n  31.3875,\n  39.0,\n  22.025,\n  50.0,\n  15.5,\n  26.55,\n  15.5,\n  7.8958,\n  13.0,\n  13.0,\n  7.8542,\n  26.0,\n  27.7208,\n  146.5208,\n  7.75,\n  8.4042,\n  7.75,\n  13.0,\n  9.5,\n  69.55,\n  6.4958,\n  7.225,\n  8.05,\n  10.4625,\n  15.85,\n  18.7875,\n  7.75,\n  31.0,\n  7.05,\n  21.0,\n  7.25,\n  13.0,\n  7.75,\n  113.275,\n  7.925,\n  27.0,\n  76.2917,\n  10.5,\n  8.05,\n  13.0,\n  8.05,\n  7.8958,\n  90.0,\n  9.35,\n  10.5,\n  7.25,\n  13.0,\n  25.4667,\n  83.475,\n  7.775,\n  13.5,\n  31.3875,\n  10.5,\n  7.55,\n  26.0,\n  26.25,\n  10.5,\n  12.275,\n  14.4542,\n  15.5,\n  10.5,\n  7.125,\n  7.225,\n  90.0,\n  7.775,\n  14.5,\n  52.5542,\n  26.0,\n  7.25,\n  10.4625,\n  26.55,\n  16.1,\n  20.2125,\n  15.2458,\n  79.2,\n  86.5,\n  512.3292,\n  26.0,\n  7.75,\n  31.3875,\n  79.65,\n  0.0,\n  7.75,\n  10.5,\n  39.6875,\n  7.775,\n  153.4625,\n  135.6333,\n  31.0,\n  0.0,\n  19.5,\n  29.7,\n  7.75,\n  77.9583,\n  7.75,\n  0.0,\n  29.125,\n  20.25,\n  7.75,\n  7.8542,\n  9.5,\n  8.05,\n  26.0,\n  8.6625,\n  9.5,\n  7.8958,\n  13.0,\n  7.75,\n  78.85,\n  91.0792,\n  12.875,\n  8.85,\n  7.8958,\n  27.7208,\n  7.2292,\n  151.55,\n  30.5,\n  247.5208,\n  7.75,\n  23.25,\n  0.0,\n  12.35,\n  8.05,\n  151.55,\n  110.8833,\n  108.9,\n  24.0,\n  56.9292,\n  83.1583,\n  262.375,\n  26.0,\n  7.8958,\n  26.25,\n  7.8542,\n  26.0,\n  14.0,\n  164.8667,\n  134.5,\n  7.25,\n  7.8958,\n  12.35,\n  29.0,\n  69.55,\n  135.6333,\n  6.2375,\n  13.0,\n  20.525,\n  57.9792,\n  23.25,\n  28.5,\n  153.4625,\n  18.0,\n  133.65,\n  7.8958,\n  66.6,\n  134.5,\n  8.05,\n  35.5,\n  26.0,\n  263.0,\n  13.0,\n  13.0,\n  13.0,\n  13.0,\n  13.0,\n  16.1,\n  15.9,\n  8.6625,\n  9.225,\n  35.0,\n  7.2292,\n  17.8,\n  7.225,\n  9.5,\n  55.0,\n  13.0,\n  7.8792,\n  7.8792,\n  27.9,\n  27.7208,\n  14.4542,\n  7.05,\n  15.5,\n  7.25,\n  75.25,\n  7.2292,\n  7.75,\n  69.3,\n  55.4417,\n  6.4958,\n  8.05,\n  135.6333,\n  21.075,\n  82.1708,\n  7.25,\n  211.5,\n  4.0125,\n  7.775,\n  227.525,\n  15.7417,\n  7.925,\n  52.0,\n  7.8958,\n  73.5,\n  46.9,\n  13.0,\n  7.7292,\n  12.0,\n  120.0,\n  7.7958,\n  7.925,\n  113.275,\n  16.7,\n  7.7958,\n  7.8542,\n  26.0,\n  10.5,\n  12.65,\n  7.925,\n  8.05,\n  9.825,\n  15.85,\n  8.6625,\n  21.0,\n  7.75,\n  18.75,\n  7.775,\n  25.4667,\n  7.8958,\n  6.8583,\n  90.0,\n  0.0,\n  7.925,\n  8.05,\n  32.5,\n  13.0,\n  13.0,\n  24.15,\n  7.8958,\n  7.7333,\n  7.875,\n  14.4,\n  20.2125,\n  7.25,\n  26.0,\n  26.0,\n  7.75,\n  8.05,\n  26.55,\n  16.1,\n  26.0,\n  7.125,\n  55.9,\n  120.0,\n  34.375,\n  18.75,\n  263.0,\n  10.5,\n  26.25,\n  9.5,\n  7.775,\n  13.0,\n  8.1125,\n  81.8583,\n  19.5,\n  26.55,\n  19.2583,\n  30.5,\n  27.75,\n  19.9667,\n  27.75,\n  89.1042,\n  8.05,\n  7.8958,\n  26.55,\n  51.8625,\n  10.5,\n  7.75,\n  26.55,\n  8.05,\n  38.5,\n  13.0,\n  8.05,\n  7.05,\n  0.0,\n  26.55,\n  7.725,\n  19.2583,\n  7.25,\n  8.6625,\n  27.75,\n  13.7917,\n  9.8375,\n  52.0,\n  21.0,\n  7.0458,\n  7.5208,\n  12.2875,\n  46.9,\n  0.0,\n  8.05,\n  9.5875,\n  91.0792,\n  25.4667,\n  90.0,\n  29.7,\n  8.05,\n  15.9,\n  19.9667,\n  7.25,\n  30.5,\n  49.5042,\n  8.05,\n  14.4583,\n  78.2667,\n  15.1,\n  151.55,\n  7.7958,\n  8.6625,\n  7.75,\n  7.6292,\n  9.5875,\n  86.5,\n  108.9,\n  26.0,\n  26.55,\n  22.525,\n  56.4958,\n  7.75,\n  8.05,\n  26.2875,\n  59.4,\n  7.4958,\n  34.0208,\n  10.5,\n  24.15,\n  26.0,\n  7.8958,\n  93.5,\n  7.8958,\n  7.225,\n  57.9792,\n  7.2292,\n  7.75,\n  10.5,\n  221.7792,\n  7.925,\n  11.5,\n  26.0,\n  7.2292,\n  7.2292,\n  22.3583,\n  8.6625,\n  26.25,\n  26.55,\n  106.425,\n  14.5,\n  49.5,\n  71.0,\n  31.275,\n  31.275,\n  26.0,\n  106.425,\n  26.0,\n  26.0,\n  13.8625,\n  20.525,\n  36.75,\n  110.8833,\n  26.0,\n  7.8292,\n  7.225,\n  7.775,\n  26.55,\n  39.6,\n  227.525,\n  79.65,\n  17.4,\n  7.75,\n  7.8958,\n  13.5,\n  8.05,\n  8.05,\n  24.15,\n  7.8958,\n  21.075,\n  7.2292,\n  7.8542,\n  10.5,\n  51.4792,\n  26.3875,\n  7.75,\n  8.05,\n  14.5,\n  13.0,\n  55.9,\n  14.4583,\n  7.925,\n  30.0,\n  110.8833,\n  26.0,\n  40.125,\n  8.7125,\n  79.65,\n  15.0,\n  79.2,\n  8.05,\n  8.05,\n  7.125,\n  78.2667,\n  7.25,\n  7.75,\n  26.0,\n  24.15,\n  33.0,\n  0.0,\n  7.225,\n  56.9292,\n  27.0,\n  7.8958,\n  42.4,\n  8.05,\n  26.55,\n  15.55,\n  7.8958,\n  30.5,\n  41.5792,\n  153.4625,\n  31.275,\n  7.05,\n  15.5,\n  7.75,\n  8.05,\n  65.0,\n  14.4,\n  16.1,\n  39.0,\n  10.5,\n  14.4542,\n  52.5542,\n  15.7417,\n  7.8542,\n  16.1,\n  32.3208,\n  12.35,\n  77.9583,\n  7.8958,\n  7.7333,\n  30.0,\n  7.0542,\n  30.5,\n  0.0,\n  27.9,\n  13.0,\n  7.925,\n  26.25,\n  39.6875,\n  16.1,\n  7.8542,\n  69.3,\n  27.9,\n  56.4958,\n  19.2583,\n  76.7292,\n  7.8958,\n  35.5,\n  7.55,\n  7.55,\n  7.8958,\n  23.0,\n  8.4333,\n  7.8292,\n  6.75,\n  73.5,\n  7.8958,\n  15.5,\n  13.0,\n  113.275,\n  133.65,\n  7.225,\n  25.5875,\n  7.4958,\n  7.925,\n  73.5,\n  13.0,\n  7.775,\n  8.05,\n  52.0,\n  39.0,\n  52.0,\n  10.5,\n  13.0,\n  0.0,\n  7.775,\n  8.05,\n  9.8417,\n  46.9,\n  512.3292,\n  8.1375,\n  76.7292,\n  9.225,\n  46.9,\n  39.0,\n  41.5792,\n  39.6875,\n  10.1708,\n  7.7958,\n  211.3375,\n  57.0,\n  13.4167,\n  56.4958,\n  7.225,\n  26.55,\n  13.5,\n  8.05,\n  7.7333,\n  110.8833,\n  7.65,\n  227.525,\n  26.2875,\n  14.4542,\n  7.7417,\n  7.8542,\n  26.0,\n  13.5,\n  26.2875,\n  151.55,\n  15.2458,\n  49.5042,\n  26.55,\n  52.0,\n  9.4833,\n  13.0,\n  7.65,\n  227.525,\n  10.5,\n  15.5,\n  7.775,\n  33.0,\n  7.0542,\n  13.0,\n  13.0,\n  53.1,\n  8.6625,\n  21.0,\n  7.7375,\n  26.0,\n  7.925,\n  211.3375,\n  18.7875,\n  0.0,\n  13.0,\n  13.0,\n  16.1,\n  34.375,\n  512.3292,\n  7.8958,\n  7.8958,\n  30.0,\n  78.85,\n  262.375,\n  16.1,\n  7.925,\n  71.0,\n  20.25,\n  13.0,\n  53.1,\n  7.75,\n  23.0,\n  12.475,\n  9.5,\n  7.8958,\n  65.0,\n  14.5,\n  7.7958,\n  11.5,\n  8.05,\n  86.5,\n  14.5,\n  7.125,\n  7.2292,\n  120.0,\n  7.775,\n  77.9583,\n  39.6,\n  7.75,\n  24.15,\n  8.3625,\n  9.5,\n  7.8542,\n  10.5,\n  7.225,\n  23.0,\n  7.75,\n  7.75,\n  12.475,\n  7.7375,\n  211.3375,\n  7.2292,\n  57.0,\n  30.0,\n  23.45,\n  7.05,\n  7.25,\n  7.4958,\n  29.125,\n  20.575,\n  79.2,\n  7.75,\n  26.0,\n  69.55,\n  30.6958,\n  7.8958,\n  13.0,\n  25.9292,\n  8.6833,\n  7.2292,\n  24.15,\n  13.0,\n  26.25,\n  120.0,\n  8.5167,\n  6.975,\n  7.775,\n  0.0,\n  7.775,\n  13.0,\n  53.1,\n  7.8875,\n  24.15,\n  10.5,\n  31.275,\n  8.05,\n  0.0,\n  7.925,\n  37.0042,\n  6.45,\n  27.9,\n  93.5,\n  8.6625,\n  0.0,\n  12.475,\n  39.6875,\n  6.95,\n  56.4958,\n  37.0042,\n  7.75,\n  80.0,\n  14.4542,\n  18.75,\n  7.2292,\n  7.8542,\n  8.3,\n  83.1583,\n  8.6625,\n  8.05,\n  56.4958,\n  29.7,\n  7.925,\n  10.5,\n  31.0,\n  6.4375,\n  8.6625,\n  7.55,\n  69.55,\n  7.8958,\n  33.0,\n  89.1042,\n  31.275,\n  7.775,\n  15.2458,\n  39.4,\n  26.0,\n  9.35,\n  164.8667,\n  26.55,\n  19.2583,\n  7.2292,\n  14.1083,\n  11.5,\n  25.9292,\n  69.55,\n  13.0,\n  13.0,\n  13.8583,\n  50.4958,\n  9.5,\n  11.1333,\n  7.8958,\n  52.5542,\n  5.0,\n  9.0,\n  24.0,\n  7.225,\n  9.8458,\n  7.8958,\n  7.8958,\n  83.1583,\n  26.0,\n  7.8958,\n  10.5167,\n  10.5,\n  7.05,\n  29.125,\n  13.0,\n  30.0,\n  23.45,\n  30.0,\n  7.75],\n 'Cabin': [nan,\n  'C85',\n  nan,\n  'C123',\n  nan,\n  nan,\n  'E46',\n  nan,\n  nan,\n  nan,\n  'G6',\n  'C103',\n  nan,\n  nan,\n  nan,\n  nan,\n  nan,\n  nan,\n  nan,\n  nan,\n  nan,\n  'D56',\n  nan,\n  'A6',\n  nan,\n  nan,\n  nan,\n  'C23 C25 C27',\n  nan,\n  nan,\n  nan,\n  'B78',\n  nan,\n  nan,\n  nan,\n  nan,\n  nan,\n  nan,\n  nan,\n  nan,\n  nan,\n  nan,\n  nan,\n  nan,\n  nan,\n  nan,\n  nan,\n  nan,\n  nan,\n  nan,\n  nan,\n  nan,\n  'D33',\n  nan,\n  'B30',\n  'C52',\n  nan,\n  nan,\n  nan,\n  nan,\n  nan,\n  'B28',\n  'C83',\n  nan,\n  nan,\n  nan,\n  'F33',\n  nan,\n  nan,\n  nan,\n  nan,\n  nan,\n  nan,\n  nan,\n  nan,\n  'F G73',\n  nan,\n  nan,\n  nan,\n  nan,\n  nan,\n  nan,\n  nan,\n  nan,\n  nan,\n  nan,\n  nan,\n  nan,\n  'C23 C25 C27',\n  nan,\n  nan,\n  nan,\n  'E31',\n  nan,\n  nan,\n  nan,\n  'A5',\n  'D10 D12',\n  nan,\n  nan,\n  nan,\n  nan,\n  'D26',\n  nan,\n  nan,\n  nan,\n  nan,\n  nan,\n  nan,\n  nan,\n  'C110',\n  nan,\n  nan,\n  nan,\n  nan,\n  nan,\n  nan,\n  nan,\n  'B58 B60',\n  nan,\n  nan,\n  nan,\n  nan,\n  'E101',\n  'D26',\n  nan,\n  nan,\n  nan,\n  'F E69',\n  nan,\n  nan,\n  nan,\n  nan,\n  nan,\n  nan,\n  nan,\n  'D47',\n  'C123',\n  nan,\n  'B86',\n  nan,\n  nan,\n  nan,\n  nan,\n  nan,\n  nan,\n  nan,\n  nan,\n  'F2',\n  nan,\n  nan,\n  'C2',\n  nan,\n  nan,\n  nan,\n  nan,\n  nan,\n  nan,\n  nan,\n  nan,\n  nan,\n  nan,\n  nan,\n  nan,\n  nan,\n  nan,\n  'E33',\n  nan,\n  nan,\n  nan,\n  'B19',\n  nan,\n  nan,\n  nan,\n  'A7',\n  nan,\n  nan,\n  'C49',\n  nan,\n  nan,\n  nan,\n  nan,\n  nan,\n  'F4',\n  nan,\n  'A32',\n  nan,\n  nan,\n  nan,\n  nan,\n  nan,\n  nan,\n  nan,\n  'F2',\n  'B4',\n  'B80',\n  nan,\n  nan,\n  nan,\n  nan,\n  nan,\n  nan,\n  nan,\n  nan,\n  nan,\n  'G6',\n  nan,\n  nan,\n  nan,\n  'A31',\n  nan,\n  nan,\n  nan,\n  nan,\n  nan,\n  'D36',\n  nan,\n  nan,\n  'D15',\n  nan,\n  nan,\n  nan,\n  nan,\n  nan,\n  'C93',\n  nan,\n  nan,\n  nan,\n  nan,\n  nan,\n  'C83',\n  nan,\n  nan,\n  nan,\n  nan,\n  nan,\n  nan,\n  nan,\n  nan,\n  nan,\n  nan,\n  nan,\n  nan,\n  nan,\n  nan,\n  'C78',\n  nan,\n  nan,\n  'D35',\n  nan,\n  nan,\n  'G6',\n  'C87',\n  nan,\n  nan,\n  nan,\n  nan,\n  'B77',\n  nan,\n  nan,\n  nan,\n  nan,\n  'E67',\n  'B94',\n  nan,\n  nan,\n  nan,\n  nan,\n  'C125',\n  'C99',\n  nan,\n  nan,\n  nan,\n  'C118',\n  nan,\n  'D7',\n  nan,\n  nan,\n  nan,\n  nan,\n  nan,\n  nan,\n  nan,\n  nan,\n  'A19',\n  nan,\n  nan,\n  nan,\n  nan,\n  nan,\n  nan,\n  'B49',\n  'D',\n  nan,\n  nan,\n  nan,\n  nan,\n  'C22 C26',\n  'C106',\n  'B58 B60',\n  nan,\n  nan,\n  nan,\n  'E101',\n  nan,\n  'C22 C26',\n  nan,\n  'C65',\n  nan,\n  'E36',\n  'C54',\n  'B57 B59 B63 B66',\n  nan,\n  nan,\n  nan,\n  nan,\n  nan,\n  nan,\n  'C7',\n  'E34',\n  nan,\n  nan,\n  nan,\n  nan,\n  nan,\n  'C32',\n  nan,\n  'D',\n  nan,\n  'B18',\n  nan,\n  'C124',\n  'C91',\n  nan,\n  nan,\n  nan,\n  'C2',\n  'E40',\n  nan,\n  'T',\n  'F2',\n  'C23 C25 C27',\n  nan,\n  nan,\n  nan,\n  'F33',\n  nan,\n  nan,\n  nan,\n  nan,\n  nan,\n  'C128',\n  nan,\n  nan,\n  nan,\n  nan,\n  'E33',\n  nan,\n  nan,\n  nan,\n  nan,\n  nan,\n  nan,\n  nan,\n  nan,\n  nan,\n  'D37',\n  nan,\n  nan,\n  'B35',\n  'E50',\n  nan,\n  nan,\n  nan,\n  nan,\n  nan,\n  nan,\n  'C82',\n  nan,\n  nan,\n  nan,\n  nan,\n  nan,\n  nan,\n  nan,\n  nan,\n  nan,\n  nan,\n  nan,\n  nan,\n  'B96 B98',\n  nan,\n  nan,\n  'D36',\n  'G6',\n  nan,\n  nan,\n  nan,\n  nan,\n  nan,\n  nan,\n  nan,\n  nan,\n  nan,\n  nan,\n  nan,\n  nan,\n  nan,\n  nan,\n  nan,\n  nan,\n  nan,\n  'C78',\n  nan,\n  nan,\n  nan,\n  nan,\n  nan,\n  nan,\n  nan,\n  nan,\n  nan,\n  nan,\n  nan,\n  nan,\n  nan,\n  nan,\n  nan,\n  nan,\n  'E10',\n  'C52',\n  nan,\n  nan,\n  nan,\n  'E44',\n  'B96 B98',\n  nan,\n  nan,\n  'C23 C25 C27',\n  nan,\n  nan,\n  nan,\n  nan,\n  nan,\n  nan,\n  'A34',\n  nan,\n  nan,\n  nan,\n  'C104',\n  nan,\n  nan,\n  'C111',\n  'C92',\n  nan,\n  nan,\n  'E38',\n  'D21',\n  nan,\n  nan,\n  'E12',\n  nan,\n  'E63',\n  nan,\n  nan,\n  nan,\n  nan,\n  nan,\n  nan,\n  nan,\n  nan,\n  nan,\n  nan,\n  'D',\n  nan,\n  'A14',\n  nan,\n  nan,\n  nan,\n  nan,\n  nan,\n  nan,\n  nan,\n  nan,\n  'B49',\n  nan,\n  'C93',\n  'B37',\n  nan,\n  nan,\n  nan,\n  nan,\n  'C30',\n  nan,\n  nan,\n  nan,\n  'D20',\n  nan,\n  'C22 C26',\n  nan,\n  nan,\n  nan,\n  nan,\n  nan,\n  'B79',\n  'C65',\n  nan,\n  nan,\n  nan,\n  nan,\n  nan,\n  nan,\n  'E25',\n  nan,\n  nan,\n  'D46',\n  'F33',\n  nan,\n  nan,\n  nan,\n  'B73',\n  nan,\n  nan,\n  'B18',\n  nan,\n  nan,\n  nan,\n  'C95',\n  nan,\n  nan,\n  nan,\n  nan,\n  nan,\n  nan,\n  nan,\n  nan,\n  'B38',\n  nan,\n  nan,\n  'B39',\n  'B22',\n  nan,\n  nan,\n  nan,\n  'C86',\n  nan,\n  nan,\n  nan,\n  nan,\n  nan,\n  'C70',\n  nan,\n  nan,\n  nan,\n  nan,\n  nan,\n  'A16',\n  nan,\n  'E67',\n  nan,\n  nan,\n  nan,\n  nan,\n  nan,\n  nan,\n  nan,\n  nan,\n  nan,\n  nan,\n  nan,\n  nan,\n  'C101',\n  'E25',\n  nan,\n  nan,\n  nan,\n  nan,\n  'E44',\n  nan,\n  nan,\n  nan,\n  'C68',\n  nan,\n  'A10',\n  nan,\n  'E68',\n  nan,\n  'B41',\n  nan,\n  nan,\n  nan,\n  'D20',\n  nan,\n  nan,\n  nan,\n  nan,\n  nan,\n  nan,\n  nan,\n  'A20',\n  nan,\n  nan,\n  nan,\n  nan,\n  nan,\n  nan,\n  nan,\n  nan,\n  nan,\n  'C125',\n  nan,\n  nan,\n  nan,\n  nan,\n  nan,\n  nan,\n  nan,\n  nan,\n  'F4',\n  nan,\n  nan,\n  'D19',\n  nan,\n  nan,\n  nan,\n  'D50',\n  nan,\n  'D9',\n  nan,\n  nan,\n  'A23',\n  nan,\n  'B50',\n  nan,\n  nan,\n  nan,\n  nan,\n  nan,\n  nan,\n  nan,\n  nan,\n  'B35',\n  nan,\n  nan,\n  nan,\n  'D33',\n  nan,\n  'A26',\n  nan,\n  nan,\n  nan,\n  nan,\n  nan,\n  nan,\n  nan,\n  nan,\n  nan,\n  nan,\n  nan,\n  'D48',\n  nan,\n  nan,\n  'E58',\n  nan,\n  nan,\n  nan,\n  nan,\n  nan,\n  nan,\n  'C126',\n  nan,\n  'B71',\n  nan,\n  nan,\n  nan,\n  nan,\n  nan,\n  nan,\n  nan,\n  'B51 B53 B55',\n  nan,\n  'D49',\n  nan,\n  nan,\n  nan,\n  nan,\n  nan,\n  nan,\n  nan,\n  'B5',\n  'B20',\n  nan,\n  nan,\n  nan,\n  nan,\n  nan,\n  nan,\n  nan,\n  'C68',\n  'F G63',\n  'C62 C64',\n  'E24',\n  nan,\n  nan,\n  nan,\n  nan,\n  nan,\n  'E24',\n  nan,\n  nan,\n  'C90',\n  'C124',\n  'C126',\n  nan,\n  nan,\n  'F G73',\n  'C45',\n  'E101',\n  nan,\n  nan,\n  nan,\n  nan,\n  nan,\n  nan,\n  'E8',\n  nan,\n  nan,\n  nan,\n  nan,\n  nan,\n  'B5',\n  nan,\n  nan,\n  nan,\n  nan,\n  nan,\n  nan,\n  'B101',\n  nan,\n  nan,\n  'D45',\n  'C46',\n  'B57 B59 B63 B66',\n  nan,\n  nan,\n  'B22',\n  nan,\n  nan,\n  'D30',\n  nan,\n  nan,\n  'E121',\n  nan,\n  nan,\n  nan,\n  nan,\n  nan,\n  nan,\n  nan,\n  'B77',\n  nan,\n  nan,\n  nan,\n  'B96 B98',\n  nan,\n  'D11',\n  nan,\n  nan,\n  nan,\n  nan,\n  nan,\n  nan,\n  'E77',\n  nan,\n  nan,\n  nan,\n  'F38',\n  nan,\n  nan,\n  'B3',\n  nan,\n  'B20',\n  'D6',\n  nan,\n  nan,\n  nan,\n  nan,\n  nan,\n  nan,\n  'B82 B84',\n  nan,\n  nan,\n  nan,\n  nan,\n  nan,\n  nan,\n  'D17',\n  nan,\n  nan,\n  nan,\n  nan,\n  nan,\n  'B96 B98',\n  nan,\n  nan,\n  nan,\n  'A36',\n  nan,\n  nan,\n  'E8',\n  nan,\n  nan,\n  nan,\n  nan,\n  nan,\n  'B102',\n  nan,\n  nan,\n  nan,\n  nan,\n  'B69',\n  nan,\n  nan,\n  'E121',\n  nan,\n  nan,\n  nan,\n  nan,\n  nan,\n  'B28',\n  nan,\n  nan,\n  nan,\n  nan,\n  nan,\n  'E49',\n  nan,\n  nan,\n  nan,\n  'C47',\n  nan,\n  nan,\n  nan,\n  nan,\n  nan,\n  nan,\n  nan,\n  nan,\n  nan,\n  'C92',\n  nan,\n  nan,\n  nan,\n  'D28',\n  nan,\n  nan,\n  nan,\n  'E17',\n  nan,\n  nan,\n  nan,\n  nan,\n  'D17',\n  nan,\n  nan,\n  nan,\n  nan,\n  'A24',\n  nan,\n  nan,\n  nan,\n  'D35',\n  'B51 B53 B55',\n  nan,\n  nan,\n  nan,\n  nan,\n  nan,\n  nan,\n  'C50',\n  nan,\n  nan,\n  nan,\n  nan,\n  nan,\n  nan,\n  nan,\n  'B42',\n  nan,\n  'C148',\n  nan],\n 'Embarked': ['S',\n  'C',\n  'S',\n  'S',\n  'S',\n  'Q',\n  'S',\n  'S',\n  'S',\n  'C',\n  'S',\n  'S',\n  'S',\n  'S',\n  'S',\n  'S',\n  'Q',\n  'S',\n  'S',\n  'C',\n  'S',\n  'S',\n  'Q',\n  'S',\n  'S',\n  'S',\n  'C',\n  'S',\n  'Q',\n  'S',\n  'C',\n  'C',\n  'Q',\n  'S',\n  'C',\n  'S',\n  'C',\n  'S',\n  'S',\n  'C',\n  'S',\n  'S',\n  'C',\n  'C',\n  'Q',\n  'S',\n  'Q',\n  'Q',\n  'C',\n  'S',\n  'S',\n  'S',\n  'C',\n  'S',\n  'C',\n  'S',\n  'S',\n  'C',\n  'S',\n  'S',\n  'C',\n  nan,\n  'S',\n  'S',\n  'C',\n  'C',\n  'S',\n  'S',\n  'S',\n  'S',\n  'S',\n  'S',\n  'S',\n  'C',\n  'S',\n  'S',\n  'S',\n  'S',\n  'S',\n  'S',\n  'S',\n  'S',\n  'Q',\n  'S',\n  'S',\n  'S',\n  'S',\n  'S',\n  'S',\n  'S',\n  'S',\n  'S',\n  'S',\n  'S',\n  'S',\n  'S',\n  'C',\n  'C',\n  'S',\n  'S',\n  'S',\n  'S',\n  'S',\n  'S',\n  'S',\n  'S',\n  'S',\n  'S',\n  'S',\n  'Q',\n  'S',\n  'C',\n  'S',\n  'S',\n  'C',\n  'S',\n  'Q',\n  'S',\n  'C',\n  'S',\n  'S',\n  'S',\n  'C',\n  'S',\n  'S',\n  'C',\n  'Q',\n  'S',\n  'C',\n  'S',\n  'C',\n  'S',\n  'S',\n  'S',\n  'S',\n  'C',\n  'S',\n  'S',\n  'S',\n  'C',\n  'C',\n  'S',\n  'S',\n  'Q',\n  'S',\n  'S',\n  'S',\n  'S',\n  'S',\n  'S',\n  'S',\n  'S',\n  'S',\n  'S',\n  'S',\n  'C',\n  'Q',\n  'S',\n  'S',\n  'S',\n  'S',\n  'S',\n  'S',\n  'S',\n  'S',\n  'S',\n  'S',\n  'S',\n  'S',\n  'S',\n  'S',\n  'Q',\n  'S',\n  'S',\n  'C',\n  'S',\n  'S',\n  'C',\n  'S',\n  'S',\n  'S',\n  'C',\n  'S',\n  'S',\n  'S',\n  'S',\n  'Q',\n  'S',\n  'Q',\n  'S',\n  'S',\n  'S',\n  'S',\n  'S',\n  'C',\n  'C',\n  'Q',\n  'S',\n  'Q',\n  'S',\n  'S',\n  'S',\n  'S',\n  'C',\n  'S',\n  'S',\n  'S',\n  'C',\n  'Q',\n  'C',\n  'S',\n  'S',\n  'S',\n  'S',\n  'Q',\n  'C',\n  'S',\n  'S',\n  'C',\n  'S',\n  'S',\n  'S',\n  'S',\n  'S',\n  'S',\n  'S',\n  'S',\n  'S',\n  'S',\n  'S',\n  'S',\n  'S',\n  'S',\n  'S',\n  'S',\n  'S',\n  'S',\n  'S',\n  'S',\n  'S',\n  'C',\n  'Q',\n  'S',\n  'S',\n  'C',\n  'Q',\n  'S',\n  'S',\n  'S',\n  'S',\n  'S',\n  'S',\n  'S',\n  'S',\n  'S',\n  'C',\n  'C',\n  'S',\n  'C',\n  'S',\n  'Q',\n  'S',\n  'S',\n  'S',\n  'Q',\n  'S',\n  'S',\n  'S',\n  'S',\n  'S',\n  'S',\n  'S',\n  'S',\n  'C',\n  'Q',\n  'S',\n  'S',\n  'S',\n  'Q',\n  'S',\n  'Q',\n  'S',\n  'S',\n  'S',\n  'S',\n  'C',\n  'S',\n  'S',\n  'S',\n  'Q',\n  'S',\n  'C',\n  'C',\n  'S',\n  'S',\n  'C',\n  'C',\n  'S',\n  'S',\n  'C',\n  'Q',\n  'Q',\n  'S',\n  'Q',\n  'S',\n  'S',\n  'C',\n  'C',\n  'C',\n  'C',\n  'C',\n  'C',\n  'S',\n  'S',\n  'S',\n  'S',\n  'S',\n  'S',\n  'S',\n  'C',\n  'S',\n  'S',\n  'Q',\n  'S',\n  'S',\n  'C',\n  'S',\n  'S',\n  'S',\n  'C',\n  'Q',\n  'S',\n  'S',\n  'S',\n  'S',\n  'S',\n  'S',\n  'C',\n  'S',\n  'S',\n  'S',\n  'S',\n  'S',\n  'S',\n  'S',\n  'S',\n  'S',\n  'S',\n  'S',\n  'S',\n  'S',\n  'S',\n  'C',\n  'S',\n  'C',\n  'S',\n  'S',\n  'S',\n  'Q',\n  'Q',\n  'S',\n  'C',\n  'C',\n  'S',\n  'Q',\n  'S',\n  'C',\n  'C',\n  'Q',\n  'C',\n  'C',\n  'S',\n  'S',\n  'C',\n  'S',\n  'C',\n  'S',\n  'C',\n  'C',\n  'S',\n  'C',\n  'C',\n  'S',\n  'S',\n  'S',\n  'S',\n  'S',\n  'S',\n  'Q',\n  'C',\n  'S',\n  'S',\n  'S',\n  'C',\n  'S',\n  'S',\n  'S',\n  'S',\n  'S',\n  'S',\n  'S',\n  'S',\n  'S',\n  'S',\n  'S',\n  'S',\n  'S',\n  'S',\n  'S',\n  'S',\n  'S',\n  'Q',\n  'Q',\n  'S',\n  'S',\n  'S',\n  'S',\n  'S',\n  'S',\n  'S',\n  'C',\n  'Q',\n  'S',\n  'S',\n  'S',\n  'S',\n  'S',\n  'S',\n  'Q',\n  'S',\n  'S',\n  'S',\n  'S',\n  'S',\n  'S',\n  'S',\n  'S',\n  'S',\n  'S',\n  'S',\n  'S',\n  'S',\n  'S',\n  'S',\n  'S',\n  'S',\n  'S',\n  'S',\n  'C',\n  'S',\n  'S',\n  'S',\n  'C',\n  'C',\n  'S',\n  'C',\n  'S',\n  'S',\n  'S',\n  'Q',\n  'S',\n  'S',\n  'S',\n  'S',\n  'S',\n  'S',\n  'S',\n  'S',\n  'Q',\n  'C',\n  'S',\n  'S',\n  'S',\n  'C',\n  'S',\n  'S',\n  'S',\n  'S',\n  'S',\n  'S',\n  'S',\n  'S',\n  'S',\n  'S',\n  'C',\n  'S',\n  'S',\n  'C',\n  'S',\n  'S',\n  'S',\n  'S',\n  'S',\n  'C',\n  'S',\n  'C',\n  'C',\n  'S',\n  'S',\n  'S',\n  'S',\n  'Q',\n  'Q',\n  'S',\n  'S',\n  'C',\n  'S',\n  'S',\n  'S',\n  'S',\n  'Q',\n  'S',\n  'S',\n  'C',\n  'S',\n  'S',\n  'S',\n  'Q',\n  'S',\n  'S',\n  'S',\n  'S',\n  'C',\n  'C',\n  'C',\n  'Q',\n  'S',\n  'S',\n  'S',\n  'S',\n  'S',\n  'C',\n  'C',\n  'C',\n  'S',\n  'S',\n  'S',\n  'C',\n  'S',\n  'C',\n  'S',\n  'S',\n  'S',\n  'S',\n  'C',\n  'S',\n  'S',\n  'C',\n  'S',\n  'S',\n  'C',\n  'S',\n  'Q',\n  'C',\n  'S',\n  'S',\n  'C',\n  'C',\n  'S',\n  'S',\n  'Q',\n  'S',\n  'S',\n  'S',\n  'S',\n  'S',\n  'S',\n  'S',\n  'C',\n  'S',\n  'S',\n  'S',\n  'S',\n  'Q',\n  'S',\n  'S',\n  'S',\n  'S',\n  'C',\n  'S',\n  'S',\n  'C',\n  'S',\n  'C',\n  'C',\n  'S',\n  'S',\n  'C',\n  'S',\n  'S',\n  'S',\n  'C',\n  'S',\n  'Q',\n  'S',\n  'S',\n  'S',\n  'S',\n  'C',\n  'C',\n  'S',\n  'S',\n  'S',\n  'S',\n  'C',\n  'S',\n  'S',\n  'S',\n  'C',\n  'S',\n  'S',\n  'S',\n  'Q',\n  'Q',\n  'S',\n  'S',\n  'S',\n  'S',\n  'S',\n  'S',\n  'C',\n  'S',\n  'C',\n  'S',\n  'S',\n  'S',\n  'Q',\n  'S',\n  'S',\n  'Q',\n  'S',\n  'S',\n  'C',\n  'S',\n  'S',\n  'S',\n  'S',\n  'S',\n  'S',\n  'S',\n  'S',\n  'C',\n  'S',\n  'S',\n  'C',\n  'C',\n  'S',\n  'C',\n  'S',\n  'S',\n  'S',\n  'S',\n  'S',\n  'Q',\n  'Q',\n  'S',\n  'S',\n  'Q',\n  'S',\n  'C',\n  'S',\n  'C',\n  'S',\n  'S',\n  'S',\n  'S',\n  'S',\n  'S',\n  'S',\n  'S',\n  'S',\n  'S',\n  'S',\n  'S',\n  'S',\n  'S',\n  'S',\n  'S',\n  'S',\n  'C',\n  'Q',\n  'C',\n  'S',\n  'S',\n  'S',\n  'C',\n  'S',\n  'S',\n  'S',\n  'S',\n  'S',\n  'C',\n  'S',\n  'C',\n  'S',\n  'S',\n  'S',\n  'Q',\n  'C',\n  'S',\n  'C',\n  'S',\n  'C',\n  'Q',\n  'S',\n  'S',\n  'S',\n  'S',\n  'S',\n  'C',\n  'C',\n  'S',\n  'S',\n  'S',\n  'S',\n  'S',\n  'C',\n  'S',\n  'Q',\n  'S',\n  'S',\n  'S',\n  'S',\n  'S',\n  'S',\n  'S',\n  'S',\n  'Q',\n  'S',\n  'S',\n  'S',\n  'C',\n  'S',\n  'S',\n  'S',\n  'S',\n  'S',\n  'C',\n  'S',\n  'S',\n  'S',\n  'S',\n  'C',\n  'S',\n  'S',\n  'S',\n  'S',\n  'S',\n  'S',\n  'Q',\n  'S',\n  'S',\n  'S',\n  'S',\n  'S',\n  'S',\n  'S',\n  'S',\n  'S',\n  'S',\n  'S',\n  'S',\n  'C',\n  'S',\n  'S',\n  'S',\n  'C',\n  'Q',\n  'Q',\n  'S',\n  'S',\n  'S',\n  'S',\n  'C',\n  'S',\n  'S',\n  'Q',\n  'S',\n  'Q',\n  'S',\n  'C',\n  'S',\n  'S',\n  'S',\n  'S',\n  'S',\n  'S',\n  'Q',\n  'S',\n  'C',\n  'Q',\n  'S',\n  'S',\n  'C',\n  'S',\n  'S',\n  'S',\n  'S',\n  'C',\n  'S',\n  'S',\n  'S',\n  'S',\n  'C',\n  'S',\n  'S',\n  'S',\n  'S',\n  'S',\n  'S',\n  'S',\n  'S',\n  'S',\n  'S',\n  'S',\n  'S',\n  'S',\n  'C',\n  'S',\n  'S',\n  'S',\n  'S',\n  'S',\n  'S',\n  'S',\n  'Q',\n  'S',\n  'C',\n  'Q',\n  nan,\n  'C',\n  'S',\n  'C',\n  'S',\n  'S',\n  'C',\n  'S',\n  'S',\n  'S',\n  'C',\n  'S',\n  'S',\n  'C',\n  'C',\n  'S',\n  'S',\n  'S',\n  'C',\n  'S',\n  'C',\n  'S',\n  'S',\n  'C',\n  'S',\n  'S',\n  'S',\n  'S',\n  'S',\n  'C',\n  'C',\n  'S',\n  'S',\n  'S',\n  'S',\n  'S',\n  'S',\n  'C',\n  'S',\n  'S',\n  'S',\n  'S',\n  'S',\n  'S',\n  'S',\n  'C',\n  'C',\n  'S',\n  'S',\n  'S',\n  'C',\n  'S',\n  'S',\n  'S',\n  'S',\n  'S',\n  'Q',\n  'S',\n  'S',\n  'S',\n  'C',\n  'Q']}"
     },
     "execution_count": 21,
     "metadata": {},
     "output_type": "execute_result"
    }
   ]
  },
  {
   "cell_type": "code",
   "source": [
    "df.values"
   ],
   "metadata": {
    "colab": {
     "base_uri": "https://localhost:8080/"
    },
    "id": "YWJHyp8PGIXS",
    "outputId": "265ef7ab-3972-4f6d-c6bc-7649cc8949b5",
    "ExecuteTime": {
     "end_time": "2023-10-21T11:16:50.745317Z",
     "start_time": "2023-10-21T11:16:50.725043Z"
    }
   },
   "execution_count": 22,
   "outputs": [
    {
     "data": {
      "text/plain": "array([[1, 0, 3, ..., 7.25, nan, 'S'],\n       [2, 1, 1, ..., 71.2833, 'C85', 'C'],\n       [3, 1, 3, ..., 7.925, nan, 'S'],\n       ...,\n       [889, 0, 3, ..., 23.45, nan, 'S'],\n       [890, 1, 1, ..., 30.0, 'C148', 'C'],\n       [891, 0, 3, ..., 7.75, nan, 'Q']], dtype=object)"
     },
     "execution_count": 22,
     "metadata": {},
     "output_type": "execute_result"
    }
   ]
  },
  {
   "cell_type": "code",
   "source": [
    "df.values.tolist()"
   ],
   "metadata": {
    "id": "bgIFV9n7NN1C",
    "ExecuteTime": {
     "end_time": "2023-10-21T11:16:57.593973Z",
     "start_time": "2023-10-21T11:16:57.500533Z"
    }
   },
   "execution_count": 23,
   "outputs": [
    {
     "data": {
      "text/plain": "[[1,\n  0,\n  3,\n  'Braund, Mr. Owen Harris',\n  'male',\n  22.0,\n  1,\n  0,\n  'A/5 21171',\n  7.25,\n  nan,\n  'S'],\n [2,\n  1,\n  1,\n  'Cumings, Mrs. John Bradley (Florence Briggs Thayer)',\n  'female',\n  38.0,\n  1,\n  0,\n  'PC 17599',\n  71.2833,\n  'C85',\n  'C'],\n [3,\n  1,\n  3,\n  'Heikkinen, Miss. Laina',\n  'female',\n  26.0,\n  0,\n  0,\n  'STON/O2. 3101282',\n  7.925,\n  nan,\n  'S'],\n [4,\n  1,\n  1,\n  'Futrelle, Mrs. Jacques Heath (Lily May Peel)',\n  'female',\n  35.0,\n  1,\n  0,\n  '113803',\n  53.1,\n  'C123',\n  'S'],\n [5,\n  0,\n  3,\n  'Allen, Mr. William Henry',\n  'male',\n  35.0,\n  0,\n  0,\n  '373450',\n  8.05,\n  nan,\n  'S'],\n [6, 0, 3, 'Moran, Mr. James', 'male', nan, 0, 0, '330877', 8.4583, nan, 'Q'],\n [7,\n  0,\n  1,\n  'McCarthy, Mr. Timothy J',\n  'male',\n  54.0,\n  0,\n  0,\n  '17463',\n  51.8625,\n  'E46',\n  'S'],\n [8,\n  0,\n  3,\n  'Palsson, Master. Gosta Leonard',\n  'male',\n  2.0,\n  3,\n  1,\n  '349909',\n  21.075,\n  nan,\n  'S'],\n [9,\n  1,\n  3,\n  'Johnson, Mrs. Oscar W (Elisabeth Vilhelmina Berg)',\n  'female',\n  27.0,\n  0,\n  2,\n  '347742',\n  11.1333,\n  nan,\n  'S'],\n [10,\n  1,\n  2,\n  'Nasser, Mrs. Nicholas (Adele Achem)',\n  'female',\n  14.0,\n  1,\n  0,\n  '237736',\n  30.0708,\n  nan,\n  'C'],\n [11,\n  1,\n  3,\n  'Sandstrom, Miss. Marguerite Rut',\n  'female',\n  4.0,\n  1,\n  1,\n  'PP 9549',\n  16.7,\n  'G6',\n  'S'],\n [12,\n  1,\n  1,\n  'Bonnell, Miss. Elizabeth',\n  'female',\n  58.0,\n  0,\n  0,\n  '113783',\n  26.55,\n  'C103',\n  'S'],\n [13,\n  0,\n  3,\n  'Saundercock, Mr. William Henry',\n  'male',\n  20.0,\n  0,\n  0,\n  'A/5. 2151',\n  8.05,\n  nan,\n  'S'],\n [14,\n  0,\n  3,\n  'Andersson, Mr. Anders Johan',\n  'male',\n  39.0,\n  1,\n  5,\n  '347082',\n  31.275,\n  nan,\n  'S'],\n [15,\n  0,\n  3,\n  'Vestrom, Miss. Hulda Amanda Adolfina',\n  'female',\n  14.0,\n  0,\n  0,\n  '350406',\n  7.8542,\n  nan,\n  'S'],\n [16,\n  1,\n  2,\n  'Hewlett, Mrs. (Mary D Kingcome) ',\n  'female',\n  55.0,\n  0,\n  0,\n  '248706',\n  16.0,\n  nan,\n  'S'],\n [17,\n  0,\n  3,\n  'Rice, Master. Eugene',\n  'male',\n  2.0,\n  4,\n  1,\n  '382652',\n  29.125,\n  nan,\n  'Q'],\n [18,\n  1,\n  2,\n  'Williams, Mr. Charles Eugene',\n  'male',\n  nan,\n  0,\n  0,\n  '244373',\n  13.0,\n  nan,\n  'S'],\n [19,\n  0,\n  3,\n  'Vander Planke, Mrs. Julius (Emelia Maria Vandemoortele)',\n  'female',\n  31.0,\n  1,\n  0,\n  '345763',\n  18.0,\n  nan,\n  'S'],\n [20,\n  1,\n  3,\n  'Masselmani, Mrs. Fatima',\n  'female',\n  nan,\n  0,\n  0,\n  '2649',\n  7.225,\n  nan,\n  'C'],\n [21,\n  0,\n  2,\n  'Fynney, Mr. Joseph J',\n  'male',\n  35.0,\n  0,\n  0,\n  '239865',\n  26.0,\n  nan,\n  'S'],\n [22,\n  1,\n  2,\n  'Beesley, Mr. Lawrence',\n  'male',\n  34.0,\n  0,\n  0,\n  '248698',\n  13.0,\n  'D56',\n  'S'],\n [23,\n  1,\n  3,\n  'McGowan, Miss. Anna \"Annie\"',\n  'female',\n  15.0,\n  0,\n  0,\n  '330923',\n  8.0292,\n  nan,\n  'Q'],\n [24,\n  1,\n  1,\n  'Sloper, Mr. William Thompson',\n  'male',\n  28.0,\n  0,\n  0,\n  '113788',\n  35.5,\n  'A6',\n  'S'],\n [25,\n  0,\n  3,\n  'Palsson, Miss. Torborg Danira',\n  'female',\n  8.0,\n  3,\n  1,\n  '349909',\n  21.075,\n  nan,\n  'S'],\n [26,\n  1,\n  3,\n  'Asplund, Mrs. Carl Oscar (Selma Augusta Emilia Johansson)',\n  'female',\n  38.0,\n  1,\n  5,\n  '347077',\n  31.3875,\n  nan,\n  'S'],\n [27,\n  0,\n  3,\n  'Emir, Mr. Farred Chehab',\n  'male',\n  nan,\n  0,\n  0,\n  '2631',\n  7.225,\n  nan,\n  'C'],\n [28,\n  0,\n  1,\n  'Fortune, Mr. Charles Alexander',\n  'male',\n  19.0,\n  3,\n  2,\n  '19950',\n  263.0,\n  'C23 C25 C27',\n  'S'],\n [29,\n  1,\n  3,\n  'O\\'Dwyer, Miss. Ellen \"Nellie\"',\n  'female',\n  nan,\n  0,\n  0,\n  '330959',\n  7.8792,\n  nan,\n  'Q'],\n [30,\n  0,\n  3,\n  'Todoroff, Mr. Lalio',\n  'male',\n  nan,\n  0,\n  0,\n  '349216',\n  7.8958,\n  nan,\n  'S'],\n [31,\n  0,\n  1,\n  'Uruchurtu, Don. Manuel E',\n  'male',\n  40.0,\n  0,\n  0,\n  'PC 17601',\n  27.7208,\n  nan,\n  'C'],\n [32,\n  1,\n  1,\n  'Spencer, Mrs. William Augustus (Marie Eugenie)',\n  'female',\n  nan,\n  1,\n  0,\n  'PC 17569',\n  146.5208,\n  'B78',\n  'C'],\n [33,\n  1,\n  3,\n  'Glynn, Miss. Mary Agatha',\n  'female',\n  nan,\n  0,\n  0,\n  '335677',\n  7.75,\n  nan,\n  'Q'],\n [34,\n  0,\n  2,\n  'Wheadon, Mr. Edward H',\n  'male',\n  66.0,\n  0,\n  0,\n  'C.A. 24579',\n  10.5,\n  nan,\n  'S'],\n [35,\n  0,\n  1,\n  'Meyer, Mr. Edgar Joseph',\n  'male',\n  28.0,\n  1,\n  0,\n  'PC 17604',\n  82.1708,\n  nan,\n  'C'],\n [36,\n  0,\n  1,\n  'Holverson, Mr. Alexander Oskar',\n  'male',\n  42.0,\n  1,\n  0,\n  '113789',\n  52.0,\n  nan,\n  'S'],\n [37, 1, 3, 'Mamee, Mr. Hanna', 'male', nan, 0, 0, '2677', 7.2292, nan, 'C'],\n [38,\n  0,\n  3,\n  'Cann, Mr. Ernest Charles',\n  'male',\n  21.0,\n  0,\n  0,\n  'A./5. 2152',\n  8.05,\n  nan,\n  'S'],\n [39,\n  0,\n  3,\n  'Vander Planke, Miss. Augusta Maria',\n  'female',\n  18.0,\n  2,\n  0,\n  '345764',\n  18.0,\n  nan,\n  'S'],\n [40,\n  1,\n  3,\n  'Nicola-Yarred, Miss. Jamila',\n  'female',\n  14.0,\n  1,\n  0,\n  '2651',\n  11.2417,\n  nan,\n  'C'],\n [41,\n  0,\n  3,\n  'Ahlin, Mrs. Johan (Johanna Persdotter Larsson)',\n  'female',\n  40.0,\n  1,\n  0,\n  '7546',\n  9.475,\n  nan,\n  'S'],\n [42,\n  0,\n  2,\n  'Turpin, Mrs. William John Robert (Dorothy Ann Wonnacott)',\n  'female',\n  27.0,\n  1,\n  0,\n  '11668',\n  21.0,\n  nan,\n  'S'],\n [43,\n  0,\n  3,\n  'Kraeff, Mr. Theodor',\n  'male',\n  nan,\n  0,\n  0,\n  '349253',\n  7.8958,\n  nan,\n  'C'],\n [44,\n  1,\n  2,\n  'Laroche, Miss. Simonne Marie Anne Andree',\n  'female',\n  3.0,\n  1,\n  2,\n  'SC/Paris 2123',\n  41.5792,\n  nan,\n  'C'],\n [45,\n  1,\n  3,\n  'Devaney, Miss. Margaret Delia',\n  'female',\n  19.0,\n  0,\n  0,\n  '330958',\n  7.8792,\n  nan,\n  'Q'],\n [46,\n  0,\n  3,\n  'Rogers, Mr. William John',\n  'male',\n  nan,\n  0,\n  0,\n  'S.C./A.4. 23567',\n  8.05,\n  nan,\n  'S'],\n [47, 0, 3, 'Lennon, Mr. Denis', 'male', nan, 1, 0, '370371', 15.5, nan, 'Q'],\n [48,\n  1,\n  3,\n  \"O'Driscoll, Miss. Bridget\",\n  'female',\n  nan,\n  0,\n  0,\n  '14311',\n  7.75,\n  nan,\n  'Q'],\n [49,\n  0,\n  3,\n  'Samaan, Mr. Youssef',\n  'male',\n  nan,\n  2,\n  0,\n  '2662',\n  21.6792,\n  nan,\n  'C'],\n [50,\n  0,\n  3,\n  'Arnold-Franchi, Mrs. Josef (Josefine Franchi)',\n  'female',\n  18.0,\n  1,\n  0,\n  '349237',\n  17.8,\n  nan,\n  'S'],\n [51,\n  0,\n  3,\n  'Panula, Master. Juha Niilo',\n  'male',\n  7.0,\n  4,\n  1,\n  '3101295',\n  39.6875,\n  nan,\n  'S'],\n [52,\n  0,\n  3,\n  'Nosworthy, Mr. Richard Cater',\n  'male',\n  21.0,\n  0,\n  0,\n  'A/4. 39886',\n  7.8,\n  nan,\n  'S'],\n [53,\n  1,\n  1,\n  'Harper, Mrs. Henry Sleeper (Myna Haxtun)',\n  'female',\n  49.0,\n  1,\n  0,\n  'PC 17572',\n  76.7292,\n  'D33',\n  'C'],\n [54,\n  1,\n  2,\n  'Faunthorpe, Mrs. Lizzie (Elizabeth Anne Wilkinson)',\n  'female',\n  29.0,\n  1,\n  0,\n  '2926',\n  26.0,\n  nan,\n  'S'],\n [55,\n  0,\n  1,\n  'Ostby, Mr. Engelhart Cornelius',\n  'male',\n  65.0,\n  0,\n  1,\n  '113509',\n  61.9792,\n  'B30',\n  'C'],\n [56, 1, 1, 'Woolner, Mr. Hugh', 'male', nan, 0, 0, '19947', 35.5, 'C52', 'S'],\n [57,\n  1,\n  2,\n  'Rugg, Miss. Emily',\n  'female',\n  21.0,\n  0,\n  0,\n  'C.A. 31026',\n  10.5,\n  nan,\n  'S'],\n [58,\n  0,\n  3,\n  'Novel, Mr. Mansouer',\n  'male',\n  28.5,\n  0,\n  0,\n  '2697',\n  7.2292,\n  nan,\n  'C'],\n [59,\n  1,\n  2,\n  'West, Miss. Constance Mirium',\n  'female',\n  5.0,\n  1,\n  2,\n  'C.A. 34651',\n  27.75,\n  nan,\n  'S'],\n [60,\n  0,\n  3,\n  'Goodwin, Master. William Frederick',\n  'male',\n  11.0,\n  5,\n  2,\n  'CA 2144',\n  46.9,\n  nan,\n  'S'],\n [61,\n  0,\n  3,\n  'Sirayanian, Mr. Orsen',\n  'male',\n  22.0,\n  0,\n  0,\n  '2669',\n  7.2292,\n  nan,\n  'C'],\n [62,\n  1,\n  1,\n  'Icard, Miss. Amelie',\n  'female',\n  38.0,\n  0,\n  0,\n  '113572',\n  80.0,\n  'B28',\n  nan],\n [63,\n  0,\n  1,\n  'Harris, Mr. Henry Birkhardt',\n  'male',\n  45.0,\n  1,\n  0,\n  '36973',\n  83.475,\n  'C83',\n  'S'],\n [64,\n  0,\n  3,\n  'Skoog, Master. Harald',\n  'male',\n  4.0,\n  3,\n  2,\n  '347088',\n  27.9,\n  nan,\n  'S'],\n [65,\n  0,\n  1,\n  'Stewart, Mr. Albert A',\n  'male',\n  nan,\n  0,\n  0,\n  'PC 17605',\n  27.7208,\n  nan,\n  'C'],\n [66,\n  1,\n  3,\n  'Moubarek, Master. Gerios',\n  'male',\n  nan,\n  1,\n  1,\n  '2661',\n  15.2458,\n  nan,\n  'C'],\n [67,\n  1,\n  2,\n  'Nye, Mrs. (Elizabeth Ramell)',\n  'female',\n  29.0,\n  0,\n  0,\n  'C.A. 29395',\n  10.5,\n  'F33',\n  'S'],\n [68,\n  0,\n  3,\n  'Crease, Mr. Ernest James',\n  'male',\n  19.0,\n  0,\n  0,\n  'S.P. 3464',\n  8.1583,\n  nan,\n  'S'],\n [69,\n  1,\n  3,\n  'Andersson, Miss. Erna Alexandra',\n  'female',\n  17.0,\n  4,\n  2,\n  '3101281',\n  7.925,\n  nan,\n  'S'],\n [70,\n  0,\n  3,\n  'Kink, Mr. Vincenz',\n  'male',\n  26.0,\n  2,\n  0,\n  '315151',\n  8.6625,\n  nan,\n  'S'],\n [71,\n  0,\n  2,\n  'Jenkin, Mr. Stephen Curnow',\n  'male',\n  32.0,\n  0,\n  0,\n  'C.A. 33111',\n  10.5,\n  nan,\n  'S'],\n [72,\n  0,\n  3,\n  'Goodwin, Miss. Lillian Amy',\n  'female',\n  16.0,\n  5,\n  2,\n  'CA 2144',\n  46.9,\n  nan,\n  'S'],\n [73,\n  0,\n  2,\n  'Hood, Mr. Ambrose Jr',\n  'male',\n  21.0,\n  0,\n  0,\n  'S.O.C. 14879',\n  73.5,\n  nan,\n  'S'],\n [74,\n  0,\n  3,\n  'Chronopoulos, Mr. Apostolos',\n  'male',\n  26.0,\n  1,\n  0,\n  '2680',\n  14.4542,\n  nan,\n  'C'],\n [75, 1, 3, 'Bing, Mr. Lee', 'male', 32.0, 0, 0, '1601', 56.4958, nan, 'S'],\n [76,\n  0,\n  3,\n  'Moen, Mr. Sigurd Hansen',\n  'male',\n  25.0,\n  0,\n  0,\n  '348123',\n  7.65,\n  'F G73',\n  'S'],\n [77,\n  0,\n  3,\n  'Staneff, Mr. Ivan',\n  'male',\n  nan,\n  0,\n  0,\n  '349208',\n  7.8958,\n  nan,\n  'S'],\n [78,\n  0,\n  3,\n  'Moutal, Mr. Rahamin Haim',\n  'male',\n  nan,\n  0,\n  0,\n  '374746',\n  8.05,\n  nan,\n  'S'],\n [79,\n  1,\n  2,\n  'Caldwell, Master. Alden Gates',\n  'male',\n  0.83,\n  0,\n  2,\n  '248738',\n  29.0,\n  nan,\n  'S'],\n [80,\n  1,\n  3,\n  'Dowdell, Miss. Elizabeth',\n  'female',\n  30.0,\n  0,\n  0,\n  '364516',\n  12.475,\n  nan,\n  'S'],\n [81,\n  0,\n  3,\n  'Waelens, Mr. Achille',\n  'male',\n  22.0,\n  0,\n  0,\n  '345767',\n  9.0,\n  nan,\n  'S'],\n [82,\n  1,\n  3,\n  'Sheerlinck, Mr. Jan Baptist',\n  'male',\n  29.0,\n  0,\n  0,\n  '345779',\n  9.5,\n  nan,\n  'S'],\n [83,\n  1,\n  3,\n  'McDermott, Miss. Brigdet Delia',\n  'female',\n  nan,\n  0,\n  0,\n  '330932',\n  7.7875,\n  nan,\n  'Q'],\n [84,\n  0,\n  1,\n  'Carrau, Mr. Francisco M',\n  'male',\n  28.0,\n  0,\n  0,\n  '113059',\n  47.1,\n  nan,\n  'S'],\n [85,\n  1,\n  2,\n  'Ilett, Miss. Bertha',\n  'female',\n  17.0,\n  0,\n  0,\n  'SO/C 14885',\n  10.5,\n  nan,\n  'S'],\n [86,\n  1,\n  3,\n  'Backstrom, Mrs. Karl Alfred (Maria Mathilda Gustafsson)',\n  'female',\n  33.0,\n  3,\n  0,\n  '3101278',\n  15.85,\n  nan,\n  'S'],\n [87,\n  0,\n  3,\n  'Ford, Mr. William Neal',\n  'male',\n  16.0,\n  1,\n  3,\n  'W./C. 6608',\n  34.375,\n  nan,\n  'S'],\n [88,\n  0,\n  3,\n  'Slocovski, Mr. Selman Francis',\n  'male',\n  nan,\n  0,\n  0,\n  'SOTON/OQ 392086',\n  8.05,\n  nan,\n  'S'],\n [89,\n  1,\n  1,\n  'Fortune, Miss. Mabel Helen',\n  'female',\n  23.0,\n  3,\n  2,\n  '19950',\n  263.0,\n  'C23 C25 C27',\n  'S'],\n [90,\n  0,\n  3,\n  'Celotti, Mr. Francesco',\n  'male',\n  24.0,\n  0,\n  0,\n  '343275',\n  8.05,\n  nan,\n  'S'],\n [91,\n  0,\n  3,\n  'Christmann, Mr. Emil',\n  'male',\n  29.0,\n  0,\n  0,\n  '343276',\n  8.05,\n  nan,\n  'S'],\n [92,\n  0,\n  3,\n  'Andreasson, Mr. Paul Edvin',\n  'male',\n  20.0,\n  0,\n  0,\n  '347466',\n  7.8542,\n  nan,\n  'S'],\n [93,\n  0,\n  1,\n  'Chaffee, Mr. Herbert Fuller',\n  'male',\n  46.0,\n  1,\n  0,\n  'W.E.P. 5734',\n  61.175,\n  'E31',\n  'S'],\n [94,\n  0,\n  3,\n  'Dean, Mr. Bertram Frank',\n  'male',\n  26.0,\n  1,\n  2,\n  'C.A. 2315',\n  20.575,\n  nan,\n  'S'],\n [95, 0, 3, 'Coxon, Mr. Daniel', 'male', 59.0, 0, 0, '364500', 7.25, nan, 'S'],\n [96,\n  0,\n  3,\n  'Shorney, Mr. Charles Joseph',\n  'male',\n  nan,\n  0,\n  0,\n  '374910',\n  8.05,\n  nan,\n  'S'],\n [97,\n  0,\n  1,\n  'Goldschmidt, Mr. George B',\n  'male',\n  71.0,\n  0,\n  0,\n  'PC 17754',\n  34.6542,\n  'A5',\n  'C'],\n [98,\n  1,\n  1,\n  'Greenfield, Mr. William Bertram',\n  'male',\n  23.0,\n  0,\n  1,\n  'PC 17759',\n  63.3583,\n  'D10 D12',\n  'C'],\n [99,\n  1,\n  2,\n  'Doling, Mrs. John T (Ada Julia Bone)',\n  'female',\n  34.0,\n  0,\n  1,\n  '231919',\n  23.0,\n  nan,\n  'S'],\n [100,\n  0,\n  2,\n  'Kantor, Mr. Sinai',\n  'male',\n  34.0,\n  1,\n  0,\n  '244367',\n  26.0,\n  nan,\n  'S'],\n [101,\n  0,\n  3,\n  'Petranec, Miss. Matilda',\n  'female',\n  28.0,\n  0,\n  0,\n  '349245',\n  7.8958,\n  nan,\n  'S'],\n [102,\n  0,\n  3,\n  'Petroff, Mr. Pastcho (\"Pentcho\")',\n  'male',\n  nan,\n  0,\n  0,\n  '349215',\n  7.8958,\n  nan,\n  'S'],\n [103,\n  0,\n  1,\n  'White, Mr. Richard Frasar',\n  'male',\n  21.0,\n  0,\n  1,\n  '35281',\n  77.2875,\n  'D26',\n  'S'],\n [104,\n  0,\n  3,\n  'Johansson, Mr. Gustaf Joel',\n  'male',\n  33.0,\n  0,\n  0,\n  '7540',\n  8.6542,\n  nan,\n  'S'],\n [105,\n  0,\n  3,\n  'Gustafsson, Mr. Anders Vilhelm',\n  'male',\n  37.0,\n  2,\n  0,\n  '3101276',\n  7.925,\n  nan,\n  'S'],\n [106,\n  0,\n  3,\n  'Mionoff, Mr. Stoytcho',\n  'male',\n  28.0,\n  0,\n  0,\n  '349207',\n  7.8958,\n  nan,\n  'S'],\n [107,\n  1,\n  3,\n  'Salkjelsvik, Miss. Anna Kristine',\n  'female',\n  21.0,\n  0,\n  0,\n  '343120',\n  7.65,\n  nan,\n  'S'],\n [108,\n  1,\n  3,\n  'Moss, Mr. Albert Johan',\n  'male',\n  nan,\n  0,\n  0,\n  '312991',\n  7.775,\n  nan,\n  'S'],\n [109,\n  0,\n  3,\n  'Rekic, Mr. Tido',\n  'male',\n  38.0,\n  0,\n  0,\n  '349249',\n  7.8958,\n  nan,\n  'S'],\n [110,\n  1,\n  3,\n  'Moran, Miss. Bertha',\n  'female',\n  nan,\n  1,\n  0,\n  '371110',\n  24.15,\n  nan,\n  'Q'],\n [111,\n  0,\n  1,\n  'Porter, Mr. Walter Chamberlain',\n  'male',\n  47.0,\n  0,\n  0,\n  '110465',\n  52.0,\n  'C110',\n  'S'],\n [112,\n  0,\n  3,\n  'Zabour, Miss. Hileni',\n  'female',\n  14.5,\n  1,\n  0,\n  '2665',\n  14.4542,\n  nan,\n  'C'],\n [113,\n  0,\n  3,\n  'Barton, Mr. David John',\n  'male',\n  22.0,\n  0,\n  0,\n  '324669',\n  8.05,\n  nan,\n  'S'],\n [114,\n  0,\n  3,\n  'Jussila, Miss. Katriina',\n  'female',\n  20.0,\n  1,\n  0,\n  '4136',\n  9.825,\n  nan,\n  'S'],\n [115,\n  0,\n  3,\n  'Attalah, Miss. Malake',\n  'female',\n  17.0,\n  0,\n  0,\n  '2627',\n  14.4583,\n  nan,\n  'C'],\n [116,\n  0,\n  3,\n  'Pekoniemi, Mr. Edvard',\n  'male',\n  21.0,\n  0,\n  0,\n  'STON/O 2. 3101294',\n  7.925,\n  nan,\n  'S'],\n [117,\n  0,\n  3,\n  'Connors, Mr. Patrick',\n  'male',\n  70.5,\n  0,\n  0,\n  '370369',\n  7.75,\n  nan,\n  'Q'],\n [118,\n  0,\n  2,\n  'Turpin, Mr. William John Robert',\n  'male',\n  29.0,\n  1,\n  0,\n  '11668',\n  21.0,\n  nan,\n  'S'],\n [119,\n  0,\n  1,\n  'Baxter, Mr. Quigg Edmond',\n  'male',\n  24.0,\n  0,\n  1,\n  'PC 17558',\n  247.5208,\n  'B58 B60',\n  'C'],\n [120,\n  0,\n  3,\n  'Andersson, Miss. Ellis Anna Maria',\n  'female',\n  2.0,\n  4,\n  2,\n  '347082',\n  31.275,\n  nan,\n  'S'],\n [121,\n  0,\n  2,\n  'Hickman, Mr. Stanley George',\n  'male',\n  21.0,\n  2,\n  0,\n  'S.O.C. 14879',\n  73.5,\n  nan,\n  'S'],\n [122,\n  0,\n  3,\n  'Moore, Mr. Leonard Charles',\n  'male',\n  nan,\n  0,\n  0,\n  'A4. 54510',\n  8.05,\n  nan,\n  'S'],\n [123,\n  0,\n  2,\n  'Nasser, Mr. Nicholas',\n  'male',\n  32.5,\n  1,\n  0,\n  '237736',\n  30.0708,\n  nan,\n  'C'],\n [124,\n  1,\n  2,\n  'Webber, Miss. Susan',\n  'female',\n  32.5,\n  0,\n  0,\n  '27267',\n  13.0,\n  'E101',\n  'S'],\n [125,\n  0,\n  1,\n  'White, Mr. Percival Wayland',\n  'male',\n  54.0,\n  0,\n  1,\n  '35281',\n  77.2875,\n  'D26',\n  'S'],\n [126,\n  1,\n  3,\n  'Nicola-Yarred, Master. Elias',\n  'male',\n  12.0,\n  1,\n  0,\n  '2651',\n  11.2417,\n  nan,\n  'C'],\n [127,\n  0,\n  3,\n  'McMahon, Mr. Martin',\n  'male',\n  nan,\n  0,\n  0,\n  '370372',\n  7.75,\n  nan,\n  'Q'],\n [128,\n  1,\n  3,\n  'Madsen, Mr. Fridtjof Arne',\n  'male',\n  24.0,\n  0,\n  0,\n  'C 17369',\n  7.1417,\n  nan,\n  'S'],\n [129,\n  1,\n  3,\n  'Peter, Miss. Anna',\n  'female',\n  nan,\n  1,\n  1,\n  '2668',\n  22.3583,\n  'F E69',\n  'C'],\n [130,\n  0,\n  3,\n  'Ekstrom, Mr. Johan',\n  'male',\n  45.0,\n  0,\n  0,\n  '347061',\n  6.975,\n  nan,\n  'S'],\n [131,\n  0,\n  3,\n  'Drazenoic, Mr. Jozef',\n  'male',\n  33.0,\n  0,\n  0,\n  '349241',\n  7.8958,\n  nan,\n  'C'],\n [132,\n  0,\n  3,\n  'Coelho, Mr. Domingos Fernandeo',\n  'male',\n  20.0,\n  0,\n  0,\n  'SOTON/O.Q. 3101307',\n  7.05,\n  nan,\n  'S'],\n [133,\n  0,\n  3,\n  'Robins, Mrs. Alexander A (Grace Charity Laury)',\n  'female',\n  47.0,\n  1,\n  0,\n  'A/5. 3337',\n  14.5,\n  nan,\n  'S'],\n [134,\n  1,\n  2,\n  'Weisz, Mrs. Leopold (Mathilde Francoise Pede)',\n  'female',\n  29.0,\n  1,\n  0,\n  '228414',\n  26.0,\n  nan,\n  'S'],\n [135,\n  0,\n  2,\n  'Sobey, Mr. Samuel James Hayden',\n  'male',\n  25.0,\n  0,\n  0,\n  'C.A. 29178',\n  13.0,\n  nan,\n  'S'],\n [136,\n  0,\n  2,\n  'Richard, Mr. Emile',\n  'male',\n  23.0,\n  0,\n  0,\n  'SC/PARIS 2133',\n  15.0458,\n  nan,\n  'C'],\n [137,\n  1,\n  1,\n  'Newsom, Miss. Helen Monypeny',\n  'female',\n  19.0,\n  0,\n  2,\n  '11752',\n  26.2833,\n  'D47',\n  'S'],\n [138,\n  0,\n  1,\n  'Futrelle, Mr. Jacques Heath',\n  'male',\n  37.0,\n  1,\n  0,\n  '113803',\n  53.1,\n  'C123',\n  'S'],\n [139,\n  0,\n  3,\n  'Osen, Mr. Olaf Elon',\n  'male',\n  16.0,\n  0,\n  0,\n  '7534',\n  9.2167,\n  nan,\n  'S'],\n [140,\n  0,\n  1,\n  'Giglio, Mr. Victor',\n  'male',\n  24.0,\n  0,\n  0,\n  'PC 17593',\n  79.2,\n  'B86',\n  'C'],\n [141,\n  0,\n  3,\n  'Boulos, Mrs. Joseph (Sultana)',\n  'female',\n  nan,\n  0,\n  2,\n  '2678',\n  15.2458,\n  nan,\n  'C'],\n [142,\n  1,\n  3,\n  'Nysten, Miss. Anna Sofia',\n  'female',\n  22.0,\n  0,\n  0,\n  '347081',\n  7.75,\n  nan,\n  'S'],\n [143,\n  1,\n  3,\n  'Hakkarainen, Mrs. Pekka Pietari (Elin Matilda Dolck)',\n  'female',\n  24.0,\n  1,\n  0,\n  'STON/O2. 3101279',\n  15.85,\n  nan,\n  'S'],\n [144,\n  0,\n  3,\n  'Burke, Mr. Jeremiah',\n  'male',\n  19.0,\n  0,\n  0,\n  '365222',\n  6.75,\n  nan,\n  'Q'],\n [145,\n  0,\n  2,\n  'Andrew, Mr. Edgardo Samuel',\n  'male',\n  18.0,\n  0,\n  0,\n  '231945',\n  11.5,\n  nan,\n  'S'],\n [146,\n  0,\n  2,\n  'Nicholls, Mr. Joseph Charles',\n  'male',\n  19.0,\n  1,\n  1,\n  'C.A. 33112',\n  36.75,\n  nan,\n  'S'],\n [147,\n  1,\n  3,\n  'Andersson, Mr. August Edvard (\"Wennerstrom\")',\n  'male',\n  27.0,\n  0,\n  0,\n  '350043',\n  7.7958,\n  nan,\n  'S'],\n [148,\n  0,\n  3,\n  'Ford, Miss. Robina Maggie \"Ruby\"',\n  'female',\n  9.0,\n  2,\n  2,\n  'W./C. 6608',\n  34.375,\n  nan,\n  'S'],\n [149,\n  0,\n  2,\n  'Navratil, Mr. Michel (\"Louis M Hoffman\")',\n  'male',\n  36.5,\n  0,\n  2,\n  '230080',\n  26.0,\n  'F2',\n  'S'],\n [150,\n  0,\n  2,\n  'Byles, Rev. Thomas Roussel Davids',\n  'male',\n  42.0,\n  0,\n  0,\n  '244310',\n  13.0,\n  nan,\n  'S'],\n [151,\n  0,\n  2,\n  'Bateman, Rev. Robert James',\n  'male',\n  51.0,\n  0,\n  0,\n  'S.O.P. 1166',\n  12.525,\n  nan,\n  'S'],\n [152,\n  1,\n  1,\n  'Pears, Mrs. Thomas (Edith Wearne)',\n  'female',\n  22.0,\n  1,\n  0,\n  '113776',\n  66.6,\n  'C2',\n  'S'],\n [153,\n  0,\n  3,\n  'Meo, Mr. Alfonzo',\n  'male',\n  55.5,\n  0,\n  0,\n  'A.5. 11206',\n  8.05,\n  nan,\n  'S'],\n [154,\n  0,\n  3,\n  'van Billiard, Mr. Austin Blyler',\n  'male',\n  40.5,\n  0,\n  2,\n  'A/5. 851',\n  14.5,\n  nan,\n  'S'],\n [155,\n  0,\n  3,\n  'Olsen, Mr. Ole Martin',\n  'male',\n  nan,\n  0,\n  0,\n  'Fa 265302',\n  7.3125,\n  nan,\n  'S'],\n [156,\n  0,\n  1,\n  'Williams, Mr. Charles Duane',\n  'male',\n  51.0,\n  0,\n  1,\n  'PC 17597',\n  61.3792,\n  nan,\n  'C'],\n [157,\n  1,\n  3,\n  'Gilnagh, Miss. Katherine \"Katie\"',\n  'female',\n  16.0,\n  0,\n  0,\n  '35851',\n  7.7333,\n  nan,\n  'Q'],\n [158,\n  0,\n  3,\n  'Corn, Mr. Harry',\n  'male',\n  30.0,\n  0,\n  0,\n  'SOTON/OQ 392090',\n  8.05,\n  nan,\n  'S'],\n [159,\n  0,\n  3,\n  'Smiljanic, Mr. Mile',\n  'male',\n  nan,\n  0,\n  0,\n  '315037',\n  8.6625,\n  nan,\n  'S'],\n [160,\n  0,\n  3,\n  'Sage, Master. Thomas Henry',\n  'male',\n  nan,\n  8,\n  2,\n  'CA. 2343',\n  69.55,\n  nan,\n  'S'],\n [161,\n  0,\n  3,\n  'Cribb, Mr. John Hatfield',\n  'male',\n  44.0,\n  0,\n  1,\n  '371362',\n  16.1,\n  nan,\n  'S'],\n [162,\n  1,\n  2,\n  'Watt, Mrs. James (Elizabeth \"Bessie\" Inglis Milne)',\n  'female',\n  40.0,\n  0,\n  0,\n  'C.A. 33595',\n  15.75,\n  nan,\n  'S'],\n [163,\n  0,\n  3,\n  'Bengtsson, Mr. John Viktor',\n  'male',\n  26.0,\n  0,\n  0,\n  '347068',\n  7.775,\n  nan,\n  'S'],\n [164,\n  0,\n  3,\n  'Calic, Mr. Jovo',\n  'male',\n  17.0,\n  0,\n  0,\n  '315093',\n  8.6625,\n  nan,\n  'S'],\n [165,\n  0,\n  3,\n  'Panula, Master. Eino Viljami',\n  'male',\n  1.0,\n  4,\n  1,\n  '3101295',\n  39.6875,\n  nan,\n  'S'],\n [166,\n  1,\n  3,\n  'Goldsmith, Master. Frank John William \"Frankie\"',\n  'male',\n  9.0,\n  0,\n  2,\n  '363291',\n  20.525,\n  nan,\n  'S'],\n [167,\n  1,\n  1,\n  'Chibnall, Mrs. (Edith Martha Bowerman)',\n  'female',\n  nan,\n  0,\n  1,\n  '113505',\n  55.0,\n  'E33',\n  'S'],\n [168,\n  0,\n  3,\n  'Skoog, Mrs. William (Anna Bernhardina Karlsson)',\n  'female',\n  45.0,\n  1,\n  4,\n  '347088',\n  27.9,\n  nan,\n  'S'],\n [169,\n  0,\n  1,\n  'Baumann, Mr. John D',\n  'male',\n  nan,\n  0,\n  0,\n  'PC 17318',\n  25.925,\n  nan,\n  'S'],\n [170, 0, 3, 'Ling, Mr. Lee', 'male', 28.0, 0, 0, '1601', 56.4958, nan, 'S'],\n [171,\n  0,\n  1,\n  'Van der hoef, Mr. Wyckoff',\n  'male',\n  61.0,\n  0,\n  0,\n  '111240',\n  33.5,\n  'B19',\n  'S'],\n [172,\n  0,\n  3,\n  'Rice, Master. Arthur',\n  'male',\n  4.0,\n  4,\n  1,\n  '382652',\n  29.125,\n  nan,\n  'Q'],\n [173,\n  1,\n  3,\n  'Johnson, Miss. Eleanor Ileen',\n  'female',\n  1.0,\n  1,\n  1,\n  '347742',\n  11.1333,\n  nan,\n  'S'],\n [174,\n  0,\n  3,\n  'Sivola, Mr. Antti Wilhelm',\n  'male',\n  21.0,\n  0,\n  0,\n  'STON/O 2. 3101280',\n  7.925,\n  nan,\n  'S'],\n [175,\n  0,\n  1,\n  'Smith, Mr. James Clinch',\n  'male',\n  56.0,\n  0,\n  0,\n  '17764',\n  30.6958,\n  'A7',\n  'C'],\n [176,\n  0,\n  3,\n  'Klasen, Mr. Klas Albin',\n  'male',\n  18.0,\n  1,\n  1,\n  '350404',\n  7.8542,\n  nan,\n  'S'],\n [177,\n  0,\n  3,\n  'Lefebre, Master. Henry Forbes',\n  'male',\n  nan,\n  3,\n  1,\n  '4133',\n  25.4667,\n  nan,\n  'S'],\n [178,\n  0,\n  1,\n  'Isham, Miss. Ann Elizabeth',\n  'female',\n  50.0,\n  0,\n  0,\n  'PC 17595',\n  28.7125,\n  'C49',\n  'C'],\n [179,\n  0,\n  2,\n  'Hale, Mr. Reginald',\n  'male',\n  30.0,\n  0,\n  0,\n  '250653',\n  13.0,\n  nan,\n  'S'],\n [180, 0, 3, 'Leonard, Mr. Lionel', 'male', 36.0, 0, 0, 'LINE', 0.0, nan, 'S'],\n [181,\n  0,\n  3,\n  'Sage, Miss. Constance Gladys',\n  'female',\n  nan,\n  8,\n  2,\n  'CA. 2343',\n  69.55,\n  nan,\n  'S'],\n [182,\n  0,\n  2,\n  'Pernot, Mr. Rene',\n  'male',\n  nan,\n  0,\n  0,\n  'SC/PARIS 2131',\n  15.05,\n  nan,\n  'C'],\n [183,\n  0,\n  3,\n  'Asplund, Master. Clarence Gustaf Hugo',\n  'male',\n  9.0,\n  4,\n  2,\n  '347077',\n  31.3875,\n  nan,\n  'S'],\n [184,\n  1,\n  2,\n  'Becker, Master. Richard F',\n  'male',\n  1.0,\n  2,\n  1,\n  '230136',\n  39.0,\n  'F4',\n  'S'],\n [185,\n  1,\n  3,\n  'Kink-Heilmann, Miss. Luise Gretchen',\n  'female',\n  4.0,\n  0,\n  2,\n  '315153',\n  22.025,\n  nan,\n  'S'],\n [186,\n  0,\n  1,\n  'Rood, Mr. Hugh Roscoe',\n  'male',\n  nan,\n  0,\n  0,\n  '113767',\n  50.0,\n  'A32',\n  'S'],\n [187,\n  1,\n  3,\n  'O\\'Brien, Mrs. Thomas (Johanna \"Hannah\" Godfrey)',\n  'female',\n  nan,\n  1,\n  0,\n  '370365',\n  15.5,\n  nan,\n  'Q'],\n [188,\n  1,\n  1,\n  'Romaine, Mr. Charles Hallace (\"Mr C Rolmane\")',\n  'male',\n  45.0,\n  0,\n  0,\n  '111428',\n  26.55,\n  nan,\n  'S'],\n [189, 0, 3, 'Bourke, Mr. John', 'male', 40.0, 1, 1, '364849', 15.5, nan, 'Q'],\n [190,\n  0,\n  3,\n  'Turcin, Mr. Stjepan',\n  'male',\n  36.0,\n  0,\n  0,\n  '349247',\n  7.8958,\n  nan,\n  'S'],\n [191,\n  1,\n  2,\n  'Pinsky, Mrs. (Rosa)',\n  'female',\n  32.0,\n  0,\n  0,\n  '234604',\n  13.0,\n  nan,\n  'S'],\n [192,\n  0,\n  2,\n  'Carbines, Mr. William',\n  'male',\n  19.0,\n  0,\n  0,\n  '28424',\n  13.0,\n  nan,\n  'S'],\n [193,\n  1,\n  3,\n  'Andersen-Jensen, Miss. Carla Christine Nielsine',\n  'female',\n  19.0,\n  1,\n  0,\n  '350046',\n  7.8542,\n  nan,\n  'S'],\n [194,\n  1,\n  2,\n  'Navratil, Master. Michel M',\n  'male',\n  3.0,\n  1,\n  1,\n  '230080',\n  26.0,\n  'F2',\n  'S'],\n [195,\n  1,\n  1,\n  'Brown, Mrs. James Joseph (Margaret Tobin)',\n  'female',\n  44.0,\n  0,\n  0,\n  'PC 17610',\n  27.7208,\n  'B4',\n  'C'],\n [196,\n  1,\n  1,\n  'Lurette, Miss. Elise',\n  'female',\n  58.0,\n  0,\n  0,\n  'PC 17569',\n  146.5208,\n  'B80',\n  'C'],\n [197,\n  0,\n  3,\n  'Mernagh, Mr. Robert',\n  'male',\n  nan,\n  0,\n  0,\n  '368703',\n  7.75,\n  nan,\n  'Q'],\n [198,\n  0,\n  3,\n  'Olsen, Mr. Karl Siegwart Andreas',\n  'male',\n  42.0,\n  0,\n  1,\n  '4579',\n  8.4042,\n  nan,\n  'S'],\n [199,\n  1,\n  3,\n  'Madigan, Miss. Margaret \"Maggie\"',\n  'female',\n  nan,\n  0,\n  0,\n  '370370',\n  7.75,\n  nan,\n  'Q'],\n [200,\n  0,\n  2,\n  'Yrois, Miss. Henriette (\"Mrs Harbeck\")',\n  'female',\n  24.0,\n  0,\n  0,\n  '248747',\n  13.0,\n  nan,\n  'S'],\n [201,\n  0,\n  3,\n  'Vande Walle, Mr. Nestor Cyriel',\n  'male',\n  28.0,\n  0,\n  0,\n  '345770',\n  9.5,\n  nan,\n  'S'],\n [202,\n  0,\n  3,\n  'Sage, Mr. Frederick',\n  'male',\n  nan,\n  8,\n  2,\n  'CA. 2343',\n  69.55,\n  nan,\n  'S'],\n [203,\n  0,\n  3,\n  'Johanson, Mr. Jakob Alfred',\n  'male',\n  34.0,\n  0,\n  0,\n  '3101264',\n  6.4958,\n  nan,\n  'S'],\n [204,\n  0,\n  3,\n  'Youseff, Mr. Gerious',\n  'male',\n  45.5,\n  0,\n  0,\n  '2628',\n  7.225,\n  nan,\n  'C'],\n [205,\n  1,\n  3,\n  'Cohen, Mr. Gurshon \"Gus\"',\n  'male',\n  18.0,\n  0,\n  0,\n  'A/5 3540',\n  8.05,\n  nan,\n  'S'],\n [206,\n  0,\n  3,\n  'Strom, Miss. Telma Matilda',\n  'female',\n  2.0,\n  0,\n  1,\n  '347054',\n  10.4625,\n  'G6',\n  'S'],\n [207,\n  0,\n  3,\n  'Backstrom, Mr. Karl Alfred',\n  'male',\n  32.0,\n  1,\n  0,\n  '3101278',\n  15.85,\n  nan,\n  'S'],\n [208,\n  1,\n  3,\n  'Albimona, Mr. Nassef Cassem',\n  'male',\n  26.0,\n  0,\n  0,\n  '2699',\n  18.7875,\n  nan,\n  'C'],\n [209,\n  1,\n  3,\n  'Carr, Miss. Helen \"Ellen\"',\n  'female',\n  16.0,\n  0,\n  0,\n  '367231',\n  7.75,\n  nan,\n  'Q'],\n [210,\n  1,\n  1,\n  'Blank, Mr. Henry',\n  'male',\n  40.0,\n  0,\n  0,\n  '112277',\n  31.0,\n  'A31',\n  'C'],\n [211,\n  0,\n  3,\n  'Ali, Mr. Ahmed',\n  'male',\n  24.0,\n  0,\n  0,\n  'SOTON/O.Q. 3101311',\n  7.05,\n  nan,\n  'S'],\n [212,\n  1,\n  2,\n  'Cameron, Miss. Clear Annie',\n  'female',\n  35.0,\n  0,\n  0,\n  'F.C.C. 13528',\n  21.0,\n  nan,\n  'S'],\n [213,\n  0,\n  3,\n  'Perkin, Mr. John Henry',\n  'male',\n  22.0,\n  0,\n  0,\n  'A/5 21174',\n  7.25,\n  nan,\n  'S'],\n [214,\n  0,\n  2,\n  'Givard, Mr. Hans Kristensen',\n  'male',\n  30.0,\n  0,\n  0,\n  '250646',\n  13.0,\n  nan,\n  'S'],\n [215,\n  0,\n  3,\n  'Kiernan, Mr. Philip',\n  'male',\n  nan,\n  1,\n  0,\n  '367229',\n  7.75,\n  nan,\n  'Q'],\n [216,\n  1,\n  1,\n  'Newell, Miss. Madeleine',\n  'female',\n  31.0,\n  1,\n  0,\n  '35273',\n  113.275,\n  'D36',\n  'C'],\n [217,\n  1,\n  3,\n  'Honkanen, Miss. Eliina',\n  'female',\n  27.0,\n  0,\n  0,\n  'STON/O2. 3101283',\n  7.925,\n  nan,\n  'S'],\n [218,\n  0,\n  2,\n  'Jacobsohn, Mr. Sidney Samuel',\n  'male',\n  42.0,\n  1,\n  0,\n  '243847',\n  27.0,\n  nan,\n  'S'],\n [219,\n  1,\n  1,\n  'Bazzani, Miss. Albina',\n  'female',\n  32.0,\n  0,\n  0,\n  '11813',\n  76.2917,\n  'D15',\n  'C'],\n [220,\n  0,\n  2,\n  'Harris, Mr. Walter',\n  'male',\n  30.0,\n  0,\n  0,\n  'W/C 14208',\n  10.5,\n  nan,\n  'S'],\n [221,\n  1,\n  3,\n  'Sunderland, Mr. Victor Francis',\n  'male',\n  16.0,\n  0,\n  0,\n  'SOTON/OQ 392089',\n  8.05,\n  nan,\n  'S'],\n [222,\n  0,\n  2,\n  'Bracken, Mr. James H',\n  'male',\n  27.0,\n  0,\n  0,\n  '220367',\n  13.0,\n  nan,\n  'S'],\n [223,\n  0,\n  3,\n  'Green, Mr. George Henry',\n  'male',\n  51.0,\n  0,\n  0,\n  '21440',\n  8.05,\n  nan,\n  'S'],\n [224,\n  0,\n  3,\n  'Nenkoff, Mr. Christo',\n  'male',\n  nan,\n  0,\n  0,\n  '349234',\n  7.8958,\n  nan,\n  'S'],\n [225,\n  1,\n  1,\n  'Hoyt, Mr. Frederick Maxfield',\n  'male',\n  38.0,\n  1,\n  0,\n  '19943',\n  90.0,\n  'C93',\n  'S'],\n [226,\n  0,\n  3,\n  'Berglund, Mr. Karl Ivar Sven',\n  'male',\n  22.0,\n  0,\n  0,\n  'PP 4348',\n  9.35,\n  nan,\n  'S'],\n [227,\n  1,\n  2,\n  'Mellors, Mr. William John',\n  'male',\n  19.0,\n  0,\n  0,\n  'SW/PP 751',\n  10.5,\n  nan,\n  'S'],\n [228,\n  0,\n  3,\n  'Lovell, Mr. John Hall (\"Henry\")',\n  'male',\n  20.5,\n  0,\n  0,\n  'A/5 21173',\n  7.25,\n  nan,\n  'S'],\n [229,\n  0,\n  2,\n  'Fahlstrom, Mr. Arne Jonas',\n  'male',\n  18.0,\n  0,\n  0,\n  '236171',\n  13.0,\n  nan,\n  'S'],\n [230,\n  0,\n  3,\n  'Lefebre, Miss. Mathilde',\n  'female',\n  nan,\n  3,\n  1,\n  '4133',\n  25.4667,\n  nan,\n  'S'],\n [231,\n  1,\n  1,\n  'Harris, Mrs. Henry Birkhardt (Irene Wallach)',\n  'female',\n  35.0,\n  1,\n  0,\n  '36973',\n  83.475,\n  'C83',\n  'S'],\n [232,\n  0,\n  3,\n  'Larsson, Mr. Bengt Edvin',\n  'male',\n  29.0,\n  0,\n  0,\n  '347067',\n  7.775,\n  nan,\n  'S'],\n [233,\n  0,\n  2,\n  'Sjostedt, Mr. Ernst Adolf',\n  'male',\n  59.0,\n  0,\n  0,\n  '237442',\n  13.5,\n  nan,\n  'S'],\n [234,\n  1,\n  3,\n  'Asplund, Miss. Lillian Gertrud',\n  'female',\n  5.0,\n  4,\n  2,\n  '347077',\n  31.3875,\n  nan,\n  'S'],\n [235,\n  0,\n  2,\n  'Leyson, Mr. Robert William Norman',\n  'male',\n  24.0,\n  0,\n  0,\n  'C.A. 29566',\n  10.5,\n  nan,\n  'S'],\n [236,\n  0,\n  3,\n  'Harknett, Miss. Alice Phoebe',\n  'female',\n  nan,\n  0,\n  0,\n  'W./C. 6609',\n  7.55,\n  nan,\n  'S'],\n [237, 0, 2, 'Hold, Mr. Stephen', 'male', 44.0, 1, 0, '26707', 26.0, nan, 'S'],\n [238,\n  1,\n  2,\n  'Collyer, Miss. Marjorie \"Lottie\"',\n  'female',\n  8.0,\n  0,\n  2,\n  'C.A. 31921',\n  26.25,\n  nan,\n  'S'],\n [239,\n  0,\n  2,\n  'Pengelly, Mr. Frederick William',\n  'male',\n  19.0,\n  0,\n  0,\n  '28665',\n  10.5,\n  nan,\n  'S'],\n [240,\n  0,\n  2,\n  'Hunt, Mr. George Henry',\n  'male',\n  33.0,\n  0,\n  0,\n  'SCO/W 1585',\n  12.275,\n  nan,\n  'S'],\n [241,\n  0,\n  3,\n  'Zabour, Miss. Thamine',\n  'female',\n  nan,\n  1,\n  0,\n  '2665',\n  14.4542,\n  nan,\n  'C'],\n [242,\n  1,\n  3,\n  'Murphy, Miss. Katherine \"Kate\"',\n  'female',\n  nan,\n  1,\n  0,\n  '367230',\n  15.5,\n  nan,\n  'Q'],\n [243,\n  0,\n  2,\n  'Coleridge, Mr. Reginald Charles',\n  'male',\n  29.0,\n  0,\n  0,\n  'W./C. 14263',\n  10.5,\n  nan,\n  'S'],\n [244,\n  0,\n  3,\n  'Maenpaa, Mr. Matti Alexanteri',\n  'male',\n  22.0,\n  0,\n  0,\n  'STON/O 2. 3101275',\n  7.125,\n  nan,\n  'S'],\n [245,\n  0,\n  3,\n  'Attalah, Mr. Sleiman',\n  'male',\n  30.0,\n  0,\n  0,\n  '2694',\n  7.225,\n  nan,\n  'C'],\n [246,\n  0,\n  1,\n  'Minahan, Dr. William Edward',\n  'male',\n  44.0,\n  2,\n  0,\n  '19928',\n  90.0,\n  'C78',\n  'Q'],\n [247,\n  0,\n  3,\n  'Lindahl, Miss. Agda Thorilda Viktoria',\n  'female',\n  25.0,\n  0,\n  0,\n  '347071',\n  7.775,\n  nan,\n  'S'],\n [248,\n  1,\n  2,\n  'Hamalainen, Mrs. William (Anna)',\n  'female',\n  24.0,\n  0,\n  2,\n  '250649',\n  14.5,\n  nan,\n  'S'],\n [249,\n  1,\n  1,\n  'Beckwith, Mr. Richard Leonard',\n  'male',\n  37.0,\n  1,\n  1,\n  '11751',\n  52.5542,\n  'D35',\n  'S'],\n [250,\n  0,\n  2,\n  'Carter, Rev. Ernest Courtenay',\n  'male',\n  54.0,\n  1,\n  0,\n  '244252',\n  26.0,\n  nan,\n  'S'],\n [251,\n  0,\n  3,\n  'Reed, Mr. James George',\n  'male',\n  nan,\n  0,\n  0,\n  '362316',\n  7.25,\n  nan,\n  'S'],\n [252,\n  0,\n  3,\n  'Strom, Mrs. Wilhelm (Elna Matilda Persson)',\n  'female',\n  29.0,\n  1,\n  1,\n  '347054',\n  10.4625,\n  'G6',\n  'S'],\n [253,\n  0,\n  1,\n  'Stead, Mr. William Thomas',\n  'male',\n  62.0,\n  0,\n  0,\n  '113514',\n  26.55,\n  'C87',\n  'S'],\n [254,\n  0,\n  3,\n  'Lobb, Mr. William Arthur',\n  'male',\n  30.0,\n  1,\n  0,\n  'A/5. 3336',\n  16.1,\n  nan,\n  'S'],\n [255,\n  0,\n  3,\n  'Rosblom, Mrs. Viktor (Helena Wilhelmina)',\n  'female',\n  41.0,\n  0,\n  2,\n  '370129',\n  20.2125,\n  nan,\n  'S'],\n [256,\n  1,\n  3,\n  'Touma, Mrs. Darwis (Hanne Youssef Razi)',\n  'female',\n  29.0,\n  0,\n  2,\n  '2650',\n  15.2458,\n  nan,\n  'C'],\n [257,\n  1,\n  1,\n  'Thorne, Mrs. Gertrude Maybelle',\n  'female',\n  nan,\n  0,\n  0,\n  'PC 17585',\n  79.2,\n  nan,\n  'C'],\n [258,\n  1,\n  1,\n  'Cherry, Miss. Gladys',\n  'female',\n  30.0,\n  0,\n  0,\n  '110152',\n  86.5,\n  'B77',\n  'S'],\n [259,\n  1,\n  1,\n  'Ward, Miss. Anna',\n  'female',\n  35.0,\n  0,\n  0,\n  'PC 17755',\n  512.3292,\n  nan,\n  'C'],\n [260,\n  1,\n  2,\n  'Parrish, Mrs. (Lutie Davis)',\n  'female',\n  50.0,\n  0,\n  1,\n  '230433',\n  26.0,\n  nan,\n  'S'],\n [261, 0, 3, 'Smith, Mr. Thomas', 'male', nan, 0, 0, '384461', 7.75, nan, 'Q'],\n [262,\n  1,\n  3,\n  'Asplund, Master. Edvin Rojj Felix',\n  'male',\n  3.0,\n  4,\n  2,\n  '347077',\n  31.3875,\n  nan,\n  'S'],\n [263,\n  0,\n  1,\n  'Taussig, Mr. Emil',\n  'male',\n  52.0,\n  1,\n  1,\n  '110413',\n  79.65,\n  'E67',\n  'S'],\n [264,\n  0,\n  1,\n  'Harrison, Mr. William',\n  'male',\n  40.0,\n  0,\n  0,\n  '112059',\n  0.0,\n  'B94',\n  'S'],\n [265,\n  0,\n  3,\n  'Henry, Miss. Delia',\n  'female',\n  nan,\n  0,\n  0,\n  '382649',\n  7.75,\n  nan,\n  'Q'],\n [266,\n  0,\n  2,\n  'Reeves, Mr. David',\n  'male',\n  36.0,\n  0,\n  0,\n  'C.A. 17248',\n  10.5,\n  nan,\n  'S'],\n [267,\n  0,\n  3,\n  'Panula, Mr. Ernesti Arvid',\n  'male',\n  16.0,\n  4,\n  1,\n  '3101295',\n  39.6875,\n  nan,\n  'S'],\n [268,\n  1,\n  3,\n  'Persson, Mr. Ernst Ulrik',\n  'male',\n  25.0,\n  1,\n  0,\n  '347083',\n  7.775,\n  nan,\n  'S'],\n [269,\n  1,\n  1,\n  'Graham, Mrs. William Thompson (Edith Junkins)',\n  'female',\n  58.0,\n  0,\n  1,\n  'PC 17582',\n  153.4625,\n  'C125',\n  'S'],\n [270,\n  1,\n  1,\n  'Bissette, Miss. Amelia',\n  'female',\n  35.0,\n  0,\n  0,\n  'PC 17760',\n  135.6333,\n  'C99',\n  'S'],\n [271,\n  0,\n  1,\n  'Cairns, Mr. Alexander',\n  'male',\n  nan,\n  0,\n  0,\n  '113798',\n  31.0,\n  nan,\n  'S'],\n [272,\n  1,\n  3,\n  'Tornquist, Mr. William Henry',\n  'male',\n  25.0,\n  0,\n  0,\n  'LINE',\n  0.0,\n  nan,\n  'S'],\n [273,\n  1,\n  2,\n  'Mellinger, Mrs. (Elizabeth Anne Maidment)',\n  'female',\n  41.0,\n  0,\n  1,\n  '250644',\n  19.5,\n  nan,\n  'S'],\n [274,\n  0,\n  1,\n  'Natsch, Mr. Charles H',\n  'male',\n  37.0,\n  0,\n  1,\n  'PC 17596',\n  29.7,\n  'C118',\n  'C'],\n [275,\n  1,\n  3,\n  'Healy, Miss. Hanora \"Nora\"',\n  'female',\n  nan,\n  0,\n  0,\n  '370375',\n  7.75,\n  nan,\n  'Q'],\n [276,\n  1,\n  1,\n  'Andrews, Miss. Kornelia Theodosia',\n  'female',\n  63.0,\n  1,\n  0,\n  '13502',\n  77.9583,\n  'D7',\n  'S'],\n [277,\n  0,\n  3,\n  'Lindblom, Miss. Augusta Charlotta',\n  'female',\n  45.0,\n  0,\n  0,\n  '347073',\n  7.75,\n  nan,\n  'S'],\n [278,\n  0,\n  2,\n  'Parkes, Mr. Francis \"Frank\"',\n  'male',\n  nan,\n  0,\n  0,\n  '239853',\n  0.0,\n  nan,\n  'S'],\n [279,\n  0,\n  3,\n  'Rice, Master. Eric',\n  'male',\n  7.0,\n  4,\n  1,\n  '382652',\n  29.125,\n  nan,\n  'Q'],\n [280,\n  1,\n  3,\n  'Abbott, Mrs. Stanton (Rosa Hunt)',\n  'female',\n  35.0,\n  1,\n  1,\n  'C.A. 2673',\n  20.25,\n  nan,\n  'S'],\n [281, 0, 3, 'Duane, Mr. Frank', 'male', 65.0, 0, 0, '336439', 7.75, nan, 'Q'],\n [282,\n  0,\n  3,\n  'Olsson, Mr. Nils Johan Goransson',\n  'male',\n  28.0,\n  0,\n  0,\n  '347464',\n  7.8542,\n  nan,\n  'S'],\n [283,\n  0,\n  3,\n  'de Pelsmaeker, Mr. Alfons',\n  'male',\n  16.0,\n  0,\n  0,\n  '345778',\n  9.5,\n  nan,\n  'S'],\n [284,\n  1,\n  3,\n  'Dorking, Mr. Edward Arthur',\n  'male',\n  19.0,\n  0,\n  0,\n  'A/5. 10482',\n  8.05,\n  nan,\n  'S'],\n [285,\n  0,\n  1,\n  'Smith, Mr. Richard William',\n  'male',\n  nan,\n  0,\n  0,\n  '113056',\n  26.0,\n  'A19',\n  'S'],\n [286,\n  0,\n  3,\n  'Stankovic, Mr. Ivan',\n  'male',\n  33.0,\n  0,\n  0,\n  '349239',\n  8.6625,\n  nan,\n  'C'],\n [287,\n  1,\n  3,\n  'de Mulder, Mr. Theodore',\n  'male',\n  30.0,\n  0,\n  0,\n  '345774',\n  9.5,\n  nan,\n  'S'],\n [288,\n  0,\n  3,\n  'Naidenoff, Mr. Penko',\n  'male',\n  22.0,\n  0,\n  0,\n  '349206',\n  7.8958,\n  nan,\n  'S'],\n [289,\n  1,\n  2,\n  'Hosono, Mr. Masabumi',\n  'male',\n  42.0,\n  0,\n  0,\n  '237798',\n  13.0,\n  nan,\n  'S'],\n [290,\n  1,\n  3,\n  'Connolly, Miss. Kate',\n  'female',\n  22.0,\n  0,\n  0,\n  '370373',\n  7.75,\n  nan,\n  'Q'],\n [291,\n  1,\n  1,\n  'Barber, Miss. Ellen \"Nellie\"',\n  'female',\n  26.0,\n  0,\n  0,\n  '19877',\n  78.85,\n  nan,\n  'S'],\n [292,\n  1,\n  1,\n  'Bishop, Mrs. Dickinson H (Helen Walton)',\n  'female',\n  19.0,\n  1,\n  0,\n  '11967',\n  91.0792,\n  'B49',\n  'C'],\n [293,\n  0,\n  2,\n  'Levy, Mr. Rene Jacques',\n  'male',\n  36.0,\n  0,\n  0,\n  'SC/Paris 2163',\n  12.875,\n  'D',\n  'C'],\n [294,\n  0,\n  3,\n  'Haas, Miss. Aloisia',\n  'female',\n  24.0,\n  0,\n  0,\n  '349236',\n  8.85,\n  nan,\n  'S'],\n [295,\n  0,\n  3,\n  'Mineff, Mr. Ivan',\n  'male',\n  24.0,\n  0,\n  0,\n  '349233',\n  7.8958,\n  nan,\n  'S'],\n [296,\n  0,\n  1,\n  'Lewy, Mr. Ervin G',\n  'male',\n  nan,\n  0,\n  0,\n  'PC 17612',\n  27.7208,\n  nan,\n  'C'],\n [297,\n  0,\n  3,\n  'Hanna, Mr. Mansour',\n  'male',\n  23.5,\n  0,\n  0,\n  '2693',\n  7.2292,\n  nan,\n  'C'],\n [298,\n  0,\n  1,\n  'Allison, Miss. Helen Loraine',\n  'female',\n  2.0,\n  1,\n  2,\n  '113781',\n  151.55,\n  'C22 C26',\n  'S'],\n [299,\n  1,\n  1,\n  'Saalfeld, Mr. Adolphe',\n  'male',\n  nan,\n  0,\n  0,\n  '19988',\n  30.5,\n  'C106',\n  'S'],\n [300,\n  1,\n  1,\n  'Baxter, Mrs. James (Helene DeLaudeniere Chaput)',\n  'female',\n  50.0,\n  0,\n  1,\n  'PC 17558',\n  247.5208,\n  'B58 B60',\n  'C'],\n [301,\n  1,\n  3,\n  'Kelly, Miss. Anna Katherine \"Annie Kate\"',\n  'female',\n  nan,\n  0,\n  0,\n  '9234',\n  7.75,\n  nan,\n  'Q'],\n [302,\n  1,\n  3,\n  'McCoy, Mr. Bernard',\n  'male',\n  nan,\n  2,\n  0,\n  '367226',\n  23.25,\n  nan,\n  'Q'],\n [303,\n  0,\n  3,\n  'Johnson, Mr. William Cahoone Jr',\n  'male',\n  19.0,\n  0,\n  0,\n  'LINE',\n  0.0,\n  nan,\n  'S'],\n [304,\n  1,\n  2,\n  'Keane, Miss. Nora A',\n  'female',\n  nan,\n  0,\n  0,\n  '226593',\n  12.35,\n  'E101',\n  'Q'],\n [305,\n  0,\n  3,\n  'Williams, Mr. Howard Hugh \"Harry\"',\n  'male',\n  nan,\n  0,\n  0,\n  'A/5 2466',\n  8.05,\n  nan,\n  'S'],\n [306,\n  1,\n  1,\n  'Allison, Master. Hudson Trevor',\n  'male',\n  0.92,\n  1,\n  2,\n  '113781',\n  151.55,\n  'C22 C26',\n  'S'],\n [307,\n  1,\n  1,\n  'Fleming, Miss. Margaret',\n  'female',\n  nan,\n  0,\n  0,\n  '17421',\n  110.8833,\n  nan,\n  'C'],\n [308,\n  1,\n  1,\n  'Penasco y Castellana, Mrs. Victor de Satode (Maria Josefa Perez de Soto y Vallejo)',\n  'female',\n  17.0,\n  1,\n  0,\n  'PC 17758',\n  108.9,\n  'C65',\n  'C'],\n [309,\n  0,\n  2,\n  'Abelson, Mr. Samuel',\n  'male',\n  30.0,\n  1,\n  0,\n  'P/PP 3381',\n  24.0,\n  nan,\n  'C'],\n [310,\n  1,\n  1,\n  'Francatelli, Miss. Laura Mabel',\n  'female',\n  30.0,\n  0,\n  0,\n  'PC 17485',\n  56.9292,\n  'E36',\n  'C'],\n [311,\n  1,\n  1,\n  'Hays, Miss. Margaret Bechstein',\n  'female',\n  24.0,\n  0,\n  0,\n  '11767',\n  83.1583,\n  'C54',\n  'C'],\n [312,\n  1,\n  1,\n  'Ryerson, Miss. Emily Borie',\n  'female',\n  18.0,\n  2,\n  2,\n  'PC 17608',\n  262.375,\n  'B57 B59 B63 B66',\n  'C'],\n [313,\n  0,\n  2,\n  'Lahtinen, Mrs. William (Anna Sylfven)',\n  'female',\n  26.0,\n  1,\n  1,\n  '250651',\n  26.0,\n  nan,\n  'S'],\n [314,\n  0,\n  3,\n  'Hendekovic, Mr. Ignjac',\n  'male',\n  28.0,\n  0,\n  0,\n  '349243',\n  7.8958,\n  nan,\n  'S'],\n [315,\n  0,\n  2,\n  'Hart, Mr. Benjamin',\n  'male',\n  43.0,\n  1,\n  1,\n  'F.C.C. 13529',\n  26.25,\n  nan,\n  'S'],\n [316,\n  1,\n  3,\n  'Nilsson, Miss. Helmina Josefina',\n  'female',\n  26.0,\n  0,\n  0,\n  '347470',\n  7.8542,\n  nan,\n  'S'],\n [317,\n  1,\n  2,\n  'Kantor, Mrs. Sinai (Miriam Sternin)',\n  'female',\n  24.0,\n  1,\n  0,\n  '244367',\n  26.0,\n  nan,\n  'S'],\n [318,\n  0,\n  2,\n  'Moraweck, Dr. Ernest',\n  'male',\n  54.0,\n  0,\n  0,\n  '29011',\n  14.0,\n  nan,\n  'S'],\n [319,\n  1,\n  1,\n  'Wick, Miss. Mary Natalie',\n  'female',\n  31.0,\n  0,\n  2,\n  '36928',\n  164.8667,\n  'C7',\n  'S'],\n [320,\n  1,\n  1,\n  'Spedden, Mrs. Frederic Oakley (Margaretta Corning Stone)',\n  'female',\n  40.0,\n  1,\n  1,\n  '16966',\n  134.5,\n  'E34',\n  'C'],\n [321,\n  0,\n  3,\n  'Dennis, Mr. Samuel',\n  'male',\n  22.0,\n  0,\n  0,\n  'A/5 21172',\n  7.25,\n  nan,\n  'S'],\n [322,\n  0,\n  3,\n  'Danoff, Mr. Yoto',\n  'male',\n  27.0,\n  0,\n  0,\n  '349219',\n  7.8958,\n  nan,\n  'S'],\n [323,\n  1,\n  2,\n  'Slayter, Miss. Hilda Mary',\n  'female',\n  30.0,\n  0,\n  0,\n  '234818',\n  12.35,\n  nan,\n  'Q'],\n [324,\n  1,\n  2,\n  'Caldwell, Mrs. Albert Francis (Sylvia Mae Harbaugh)',\n  'female',\n  22.0,\n  1,\n  1,\n  '248738',\n  29.0,\n  nan,\n  'S'],\n [325,\n  0,\n  3,\n  'Sage, Mr. George John Jr',\n  'male',\n  nan,\n  8,\n  2,\n  'CA. 2343',\n  69.55,\n  nan,\n  'S'],\n [326,\n  1,\n  1,\n  'Young, Miss. Marie Grice',\n  'female',\n  36.0,\n  0,\n  0,\n  'PC 17760',\n  135.6333,\n  'C32',\n  'C'],\n [327,\n  0,\n  3,\n  'Nysveen, Mr. Johan Hansen',\n  'male',\n  61.0,\n  0,\n  0,\n  '345364',\n  6.2375,\n  nan,\n  'S'],\n [328,\n  1,\n  2,\n  'Ball, Mrs. (Ada E Hall)',\n  'female',\n  36.0,\n  0,\n  0,\n  '28551',\n  13.0,\n  'D',\n  'S'],\n [329,\n  1,\n  3,\n  'Goldsmith, Mrs. Frank John (Emily Alice Brown)',\n  'female',\n  31.0,\n  1,\n  1,\n  '363291',\n  20.525,\n  nan,\n  'S'],\n [330,\n  1,\n  1,\n  'Hippach, Miss. Jean Gertrude',\n  'female',\n  16.0,\n  0,\n  1,\n  '111361',\n  57.9792,\n  'B18',\n  'C'],\n [331,\n  1,\n  3,\n  'McCoy, Miss. Agnes',\n  'female',\n  nan,\n  2,\n  0,\n  '367226',\n  23.25,\n  nan,\n  'Q'],\n [332,\n  0,\n  1,\n  'Partner, Mr. Austen',\n  'male',\n  45.5,\n  0,\n  0,\n  '113043',\n  28.5,\n  'C124',\n  'S'],\n [333,\n  0,\n  1,\n  'Graham, Mr. George Edward',\n  'male',\n  38.0,\n  0,\n  1,\n  'PC 17582',\n  153.4625,\n  'C91',\n  'S'],\n [334,\n  0,\n  3,\n  'Vander Planke, Mr. Leo Edmondus',\n  'male',\n  16.0,\n  2,\n  0,\n  '345764',\n  18.0,\n  nan,\n  'S'],\n [335,\n  1,\n  1,\n  'Frauenthal, Mrs. Henry William (Clara Heinsheimer)',\n  'female',\n  nan,\n  1,\n  0,\n  'PC 17611',\n  133.65,\n  nan,\n  'S'],\n [336,\n  0,\n  3,\n  'Denkoff, Mr. Mitto',\n  'male',\n  nan,\n  0,\n  0,\n  '349225',\n  7.8958,\n  nan,\n  'S'],\n [337,\n  0,\n  1,\n  'Pears, Mr. Thomas Clinton',\n  'male',\n  29.0,\n  1,\n  0,\n  '113776',\n  66.6,\n  'C2',\n  'S'],\n [338,\n  1,\n  1,\n  'Burns, Miss. Elizabeth Margaret',\n  'female',\n  41.0,\n  0,\n  0,\n  '16966',\n  134.5,\n  'E40',\n  'C'],\n [339,\n  1,\n  3,\n  'Dahl, Mr. Karl Edwart',\n  'male',\n  45.0,\n  0,\n  0,\n  '7598',\n  8.05,\n  nan,\n  'S'],\n [340,\n  0,\n  1,\n  'Blackwell, Mr. Stephen Weart',\n  'male',\n  45.0,\n  0,\n  0,\n  '113784',\n  35.5,\n  'T',\n  'S'],\n [341,\n  1,\n  2,\n  'Navratil, Master. Edmond Roger',\n  'male',\n  2.0,\n  1,\n  1,\n  '230080',\n  26.0,\n  'F2',\n  'S'],\n [342,\n  1,\n  1,\n  'Fortune, Miss. Alice Elizabeth',\n  'female',\n  24.0,\n  3,\n  2,\n  '19950',\n  263.0,\n  'C23 C25 C27',\n  'S'],\n [343,\n  0,\n  2,\n  'Collander, Mr. Erik Gustaf',\n  'male',\n  28.0,\n  0,\n  0,\n  '248740',\n  13.0,\n  nan,\n  'S'],\n [344,\n  0,\n  2,\n  'Sedgwick, Mr. Charles Frederick Waddington',\n  'male',\n  25.0,\n  0,\n  0,\n  '244361',\n  13.0,\n  nan,\n  'S'],\n [345,\n  0,\n  2,\n  'Fox, Mr. Stanley Hubert',\n  'male',\n  36.0,\n  0,\n  0,\n  '229236',\n  13.0,\n  nan,\n  'S'],\n [346,\n  1,\n  2,\n  'Brown, Miss. Amelia \"Mildred\"',\n  'female',\n  24.0,\n  0,\n  0,\n  '248733',\n  13.0,\n  'F33',\n  'S'],\n [347,\n  1,\n  2,\n  'Smith, Miss. Marion Elsie',\n  'female',\n  40.0,\n  0,\n  0,\n  '31418',\n  13.0,\n  nan,\n  'S'],\n [348,\n  1,\n  3,\n  'Davison, Mrs. Thomas Henry (Mary E Finck)',\n  'female',\n  nan,\n  1,\n  0,\n  '386525',\n  16.1,\n  nan,\n  'S'],\n [349,\n  1,\n  3,\n  'Coutts, Master. William Loch \"William\"',\n  'male',\n  3.0,\n  1,\n  1,\n  'C.A. 37671',\n  15.9,\n  nan,\n  'S'],\n [350,\n  0,\n  3,\n  'Dimic, Mr. Jovan',\n  'male',\n  42.0,\n  0,\n  0,\n  '315088',\n  8.6625,\n  nan,\n  'S'],\n [351,\n  0,\n  3,\n  'Odahl, Mr. Nils Martin',\n  'male',\n  23.0,\n  0,\n  0,\n  '7267',\n  9.225,\n  nan,\n  'S'],\n [352,\n  0,\n  1,\n  'Williams-Lambert, Mr. Fletcher Fellows',\n  'male',\n  nan,\n  0,\n  0,\n  '113510',\n  35.0,\n  'C128',\n  'S'],\n [353,\n  0,\n  3,\n  'Elias, Mr. Tannous',\n  'male',\n  15.0,\n  1,\n  1,\n  '2695',\n  7.2292,\n  nan,\n  'C'],\n [354,\n  0,\n  3,\n  'Arnold-Franchi, Mr. Josef',\n  'male',\n  25.0,\n  1,\n  0,\n  '349237',\n  17.8,\n  nan,\n  'S'],\n [355, 0, 3, 'Yousif, Mr. Wazli', 'male', nan, 0, 0, '2647', 7.225, nan, 'C'],\n [356,\n  0,\n  3,\n  'Vanden Steen, Mr. Leo Peter',\n  'male',\n  28.0,\n  0,\n  0,\n  '345783',\n  9.5,\n  nan,\n  'S'],\n [357,\n  1,\n  1,\n  'Bowerman, Miss. Elsie Edith',\n  'female',\n  22.0,\n  0,\n  1,\n  '113505',\n  55.0,\n  'E33',\n  'S'],\n [358,\n  0,\n  2,\n  'Funk, Miss. Annie Clemmer',\n  'female',\n  38.0,\n  0,\n  0,\n  '237671',\n  13.0,\n  nan,\n  'S'],\n [359,\n  1,\n  3,\n  'McGovern, Miss. Mary',\n  'female',\n  nan,\n  0,\n  0,\n  '330931',\n  7.8792,\n  nan,\n  'Q'],\n [360,\n  1,\n  3,\n  'Mockler, Miss. Helen Mary \"Ellie\"',\n  'female',\n  nan,\n  0,\n  0,\n  '330980',\n  7.8792,\n  nan,\n  'Q'],\n [361,\n  0,\n  3,\n  'Skoog, Mr. Wilhelm',\n  'male',\n  40.0,\n  1,\n  4,\n  '347088',\n  27.9,\n  nan,\n  'S'],\n [362,\n  0,\n  2,\n  'del Carlo, Mr. Sebastiano',\n  'male',\n  29.0,\n  1,\n  0,\n  'SC/PARIS 2167',\n  27.7208,\n  nan,\n  'C'],\n [363,\n  0,\n  3,\n  'Barbara, Mrs. (Catherine David)',\n  'female',\n  45.0,\n  0,\n  1,\n  '2691',\n  14.4542,\n  nan,\n  'C'],\n [364,\n  0,\n  3,\n  'Asim, Mr. Adola',\n  'male',\n  35.0,\n  0,\n  0,\n  'SOTON/O.Q. 3101310',\n  7.05,\n  nan,\n  'S'],\n [365,\n  0,\n  3,\n  \"O'Brien, Mr. Thomas\",\n  'male',\n  nan,\n  1,\n  0,\n  '370365',\n  15.5,\n  nan,\n  'Q'],\n [366,\n  0,\n  3,\n  'Adahl, Mr. Mauritz Nils Martin',\n  'male',\n  30.0,\n  0,\n  0,\n  'C 7076',\n  7.25,\n  nan,\n  'S'],\n [367,\n  1,\n  1,\n  'Warren, Mrs. Frank Manley (Anna Sophia Atkinson)',\n  'female',\n  60.0,\n  1,\n  0,\n  '110813',\n  75.25,\n  'D37',\n  'C'],\n [368,\n  1,\n  3,\n  'Moussa, Mrs. (Mantoura Boulos)',\n  'female',\n  nan,\n  0,\n  0,\n  '2626',\n  7.2292,\n  nan,\n  'C'],\n [369,\n  1,\n  3,\n  'Jermyn, Miss. Annie',\n  'female',\n  nan,\n  0,\n  0,\n  '14313',\n  7.75,\n  nan,\n  'Q'],\n [370,\n  1,\n  1,\n  'Aubart, Mme. Leontine Pauline',\n  'female',\n  24.0,\n  0,\n  0,\n  'PC 17477',\n  69.3,\n  'B35',\n  'C'],\n [371,\n  1,\n  1,\n  'Harder, Mr. George Achilles',\n  'male',\n  25.0,\n  1,\n  0,\n  '11765',\n  55.4417,\n  'E50',\n  'C'],\n [372,\n  0,\n  3,\n  'Wiklund, Mr. Jakob Alfred',\n  'male',\n  18.0,\n  1,\n  0,\n  '3101267',\n  6.4958,\n  nan,\n  'S'],\n [373,\n  0,\n  3,\n  'Beavan, Mr. William Thomas',\n  'male',\n  19.0,\n  0,\n  0,\n  '323951',\n  8.05,\n  nan,\n  'S'],\n [374,\n  0,\n  1,\n  'Ringhini, Mr. Sante',\n  'male',\n  22.0,\n  0,\n  0,\n  'PC 17760',\n  135.6333,\n  nan,\n  'C'],\n [375,\n  0,\n  3,\n  'Palsson, Miss. Stina Viola',\n  'female',\n  3.0,\n  3,\n  1,\n  '349909',\n  21.075,\n  nan,\n  'S'],\n [376,\n  1,\n  1,\n  'Meyer, Mrs. Edgar Joseph (Leila Saks)',\n  'female',\n  nan,\n  1,\n  0,\n  'PC 17604',\n  82.1708,\n  nan,\n  'C'],\n [377,\n  1,\n  3,\n  'Landergren, Miss. Aurora Adelia',\n  'female',\n  22.0,\n  0,\n  0,\n  'C 7077',\n  7.25,\n  nan,\n  'S'],\n [378,\n  0,\n  1,\n  'Widener, Mr. Harry Elkins',\n  'male',\n  27.0,\n  0,\n  2,\n  '113503',\n  211.5,\n  'C82',\n  'C'],\n [379,\n  0,\n  3,\n  'Betros, Mr. Tannous',\n  'male',\n  20.0,\n  0,\n  0,\n  '2648',\n  4.0125,\n  nan,\n  'C'],\n [380,\n  0,\n  3,\n  'Gustafsson, Mr. Karl Gideon',\n  'male',\n  19.0,\n  0,\n  0,\n  '347069',\n  7.775,\n  nan,\n  'S'],\n [381,\n  1,\n  1,\n  'Bidois, Miss. Rosalie',\n  'female',\n  42.0,\n  0,\n  0,\n  'PC 17757',\n  227.525,\n  nan,\n  'C'],\n [382,\n  1,\n  3,\n  'Nakid, Miss. Maria (\"Mary\")',\n  'female',\n  1.0,\n  0,\n  2,\n  '2653',\n  15.7417,\n  nan,\n  'C'],\n [383,\n  0,\n  3,\n  'Tikkanen, Mr. Juho',\n  'male',\n  32.0,\n  0,\n  0,\n  'STON/O 2. 3101293',\n  7.925,\n  nan,\n  'S'],\n [384,\n  1,\n  1,\n  'Holverson, Mrs. Alexander Oskar (Mary Aline Towner)',\n  'female',\n  35.0,\n  1,\n  0,\n  '113789',\n  52.0,\n  nan,\n  'S'],\n [385,\n  0,\n  3,\n  'Plotcharsky, Mr. Vasil',\n  'male',\n  nan,\n  0,\n  0,\n  '349227',\n  7.8958,\n  nan,\n  'S'],\n [386,\n  0,\n  2,\n  'Davies, Mr. Charles Henry',\n  'male',\n  18.0,\n  0,\n  0,\n  'S.O.C. 14879',\n  73.5,\n  nan,\n  'S'],\n [387,\n  0,\n  3,\n  'Goodwin, Master. Sidney Leonard',\n  'male',\n  1.0,\n  5,\n  2,\n  'CA 2144',\n  46.9,\n  nan,\n  'S'],\n [388,\n  1,\n  2,\n  'Buss, Miss. Kate',\n  'female',\n  36.0,\n  0,\n  0,\n  '27849',\n  13.0,\n  nan,\n  'S'],\n [389,\n  0,\n  3,\n  'Sadlier, Mr. Matthew',\n  'male',\n  nan,\n  0,\n  0,\n  '367655',\n  7.7292,\n  nan,\n  'Q'],\n [390,\n  1,\n  2,\n  'Lehmann, Miss. Bertha',\n  'female',\n  17.0,\n  0,\n  0,\n  'SC 1748',\n  12.0,\n  nan,\n  'C'],\n [391,\n  1,\n  1,\n  'Carter, Mr. William Ernest',\n  'male',\n  36.0,\n  1,\n  2,\n  '113760',\n  120.0,\n  'B96 B98',\n  'S'],\n [392,\n  1,\n  3,\n  'Jansson, Mr. Carl Olof',\n  'male',\n  21.0,\n  0,\n  0,\n  '350034',\n  7.7958,\n  nan,\n  'S'],\n [393,\n  0,\n  3,\n  'Gustafsson, Mr. Johan Birger',\n  'male',\n  28.0,\n  2,\n  0,\n  '3101277',\n  7.925,\n  nan,\n  'S'],\n [394,\n  1,\n  1,\n  'Newell, Miss. Marjorie',\n  'female',\n  23.0,\n  1,\n  0,\n  '35273',\n  113.275,\n  'D36',\n  'C'],\n [395,\n  1,\n  3,\n  'Sandstrom, Mrs. Hjalmar (Agnes Charlotta Bengtsson)',\n  'female',\n  24.0,\n  0,\n  2,\n  'PP 9549',\n  16.7,\n  'G6',\n  'S'],\n [396,\n  0,\n  3,\n  'Johansson, Mr. Erik',\n  'male',\n  22.0,\n  0,\n  0,\n  '350052',\n  7.7958,\n  nan,\n  'S'],\n [397,\n  0,\n  3,\n  'Olsson, Miss. Elina',\n  'female',\n  31.0,\n  0,\n  0,\n  '350407',\n  7.8542,\n  nan,\n  'S'],\n [398,\n  0,\n  2,\n  'McKane, Mr. Peter David',\n  'male',\n  46.0,\n  0,\n  0,\n  '28403',\n  26.0,\n  nan,\n  'S'],\n [399, 0, 2, 'Pain, Dr. Alfred', 'male', 23.0, 0, 0, '244278', 10.5, nan, 'S'],\n [400,\n  1,\n  2,\n  'Trout, Mrs. William H (Jessie L)',\n  'female',\n  28.0,\n  0,\n  0,\n  '240929',\n  12.65,\n  nan,\n  'S'],\n [401,\n  1,\n  3,\n  'Niskanen, Mr. Juha',\n  'male',\n  39.0,\n  0,\n  0,\n  'STON/O 2. 3101289',\n  7.925,\n  nan,\n  'S'],\n [402, 0, 3, 'Adams, Mr. John', 'male', 26.0, 0, 0, '341826', 8.05, nan, 'S'],\n [403,\n  0,\n  3,\n  'Jussila, Miss. Mari Aina',\n  'female',\n  21.0,\n  1,\n  0,\n  '4137',\n  9.825,\n  nan,\n  'S'],\n [404,\n  0,\n  3,\n  'Hakkarainen, Mr. Pekka Pietari',\n  'male',\n  28.0,\n  1,\n  0,\n  'STON/O2. 3101279',\n  15.85,\n  nan,\n  'S'],\n [405,\n  0,\n  3,\n  'Oreskovic, Miss. Marija',\n  'female',\n  20.0,\n  0,\n  0,\n  '315096',\n  8.6625,\n  nan,\n  'S'],\n [406,\n  0,\n  2,\n  'Gale, Mr. Shadrach',\n  'male',\n  34.0,\n  1,\n  0,\n  '28664',\n  21.0,\n  nan,\n  'S'],\n [407,\n  0,\n  3,\n  'Widegren, Mr. Carl/Charles Peter',\n  'male',\n  51.0,\n  0,\n  0,\n  '347064',\n  7.75,\n  nan,\n  'S'],\n [408,\n  1,\n  2,\n  'Richards, Master. William Rowe',\n  'male',\n  3.0,\n  1,\n  1,\n  '29106',\n  18.75,\n  nan,\n  'S'],\n [409,\n  0,\n  3,\n  'Birkeland, Mr. Hans Martin Monsen',\n  'male',\n  21.0,\n  0,\n  0,\n  '312992',\n  7.775,\n  nan,\n  'S'],\n [410,\n  0,\n  3,\n  'Lefebre, Miss. Ida',\n  'female',\n  nan,\n  3,\n  1,\n  '4133',\n  25.4667,\n  nan,\n  'S'],\n [411,\n  0,\n  3,\n  'Sdycoff, Mr. Todor',\n  'male',\n  nan,\n  0,\n  0,\n  '349222',\n  7.8958,\n  nan,\n  'S'],\n [412, 0, 3, 'Hart, Mr. Henry', 'male', nan, 0, 0, '394140', 6.8583, nan, 'Q'],\n [413,\n  1,\n  1,\n  'Minahan, Miss. Daisy E',\n  'female',\n  33.0,\n  1,\n  0,\n  '19928',\n  90.0,\n  'C78',\n  'Q'],\n [414,\n  0,\n  2,\n  'Cunningham, Mr. Alfred Fleming',\n  'male',\n  nan,\n  0,\n  0,\n  '239853',\n  0.0,\n  nan,\n  'S'],\n [415,\n  1,\n  3,\n  'Sundman, Mr. Johan Julian',\n  'male',\n  44.0,\n  0,\n  0,\n  'STON/O 2. 3101269',\n  7.925,\n  nan,\n  'S'],\n [416,\n  0,\n  3,\n  'Meek, Mrs. Thomas (Annie Louise Rowley)',\n  'female',\n  nan,\n  0,\n  0,\n  '343095',\n  8.05,\n  nan,\n  'S'],\n [417,\n  1,\n  2,\n  'Drew, Mrs. James Vivian (Lulu Thorne Christian)',\n  'female',\n  34.0,\n  1,\n  1,\n  '28220',\n  32.5,\n  nan,\n  'S'],\n [418,\n  1,\n  2,\n  'Silven, Miss. Lyyli Karoliina',\n  'female',\n  18.0,\n  0,\n  2,\n  '250652',\n  13.0,\n  nan,\n  'S'],\n [419,\n  0,\n  2,\n  'Matthews, Mr. William John',\n  'male',\n  30.0,\n  0,\n  0,\n  '28228',\n  13.0,\n  nan,\n  'S'],\n [420,\n  0,\n  3,\n  'Van Impe, Miss. Catharina',\n  'female',\n  10.0,\n  0,\n  2,\n  '345773',\n  24.15,\n  nan,\n  'S'],\n [421,\n  0,\n  3,\n  'Gheorgheff, Mr. Stanio',\n  'male',\n  nan,\n  0,\n  0,\n  '349254',\n  7.8958,\n  nan,\n  'C'],\n [422,\n  0,\n  3,\n  'Charters, Mr. David',\n  'male',\n  21.0,\n  0,\n  0,\n  'A/5. 13032',\n  7.7333,\n  nan,\n  'Q'],\n [423,\n  0,\n  3,\n  'Zimmerman, Mr. Leo',\n  'male',\n  29.0,\n  0,\n  0,\n  '315082',\n  7.875,\n  nan,\n  'S'],\n [424,\n  0,\n  3,\n  'Danbom, Mrs. Ernst Gilbert (Anna Sigrid Maria Brogren)',\n  'female',\n  28.0,\n  1,\n  1,\n  '347080',\n  14.4,\n  nan,\n  'S'],\n [425,\n  0,\n  3,\n  'Rosblom, Mr. Viktor Richard',\n  'male',\n  18.0,\n  1,\n  1,\n  '370129',\n  20.2125,\n  nan,\n  'S'],\n [426,\n  0,\n  3,\n  'Wiseman, Mr. Phillippe',\n  'male',\n  nan,\n  0,\n  0,\n  'A/4. 34244',\n  7.25,\n  nan,\n  'S'],\n [427,\n  1,\n  2,\n  'Clarke, Mrs. Charles V (Ada Maria Winfield)',\n  'female',\n  28.0,\n  1,\n  0,\n  '2003',\n  26.0,\n  nan,\n  'S'],\n [428,\n  1,\n  2,\n  'Phillips, Miss. Kate Florence (\"Mrs Kate Louise Phillips Marshall\")',\n  'female',\n  19.0,\n  0,\n  0,\n  '250655',\n  26.0,\n  nan,\n  'S'],\n [429, 0, 3, 'Flynn, Mr. James', 'male', nan, 0, 0, '364851', 7.75, nan, 'Q'],\n [430,\n  1,\n  3,\n  'Pickard, Mr. Berk (Berk Trembisky)',\n  'male',\n  32.0,\n  0,\n  0,\n  'SOTON/O.Q. 392078',\n  8.05,\n  'E10',\n  'S'],\n [431,\n  1,\n  1,\n  'Bjornstrom-Steffansson, Mr. Mauritz Hakan',\n  'male',\n  28.0,\n  0,\n  0,\n  '110564',\n  26.55,\n  'C52',\n  'S'],\n [432,\n  1,\n  3,\n  'Thorneycroft, Mrs. Percival (Florence Kate White)',\n  'female',\n  nan,\n  1,\n  0,\n  '376564',\n  16.1,\n  nan,\n  'S'],\n [433,\n  1,\n  2,\n  'Louch, Mrs. Charles Alexander (Alice Adelaide Slow)',\n  'female',\n  42.0,\n  1,\n  0,\n  'SC/AH 3085',\n  26.0,\n  nan,\n  'S'],\n [434,\n  0,\n  3,\n  'Kallio, Mr. Nikolai Erland',\n  'male',\n  17.0,\n  0,\n  0,\n  'STON/O 2. 3101274',\n  7.125,\n  nan,\n  'S'],\n [435,\n  0,\n  1,\n  'Silvey, Mr. William Baird',\n  'male',\n  50.0,\n  1,\n  0,\n  '13507',\n  55.9,\n  'E44',\n  'S'],\n [436,\n  1,\n  1,\n  'Carter, Miss. Lucile Polk',\n  'female',\n  14.0,\n  1,\n  2,\n  '113760',\n  120.0,\n  'B96 B98',\n  'S'],\n [437,\n  0,\n  3,\n  'Ford, Miss. Doolina Margaret \"Daisy\"',\n  'female',\n  21.0,\n  2,\n  2,\n  'W./C. 6608',\n  34.375,\n  nan,\n  'S'],\n [438,\n  1,\n  2,\n  'Richards, Mrs. Sidney (Emily Hocking)',\n  'female',\n  24.0,\n  2,\n  3,\n  '29106',\n  18.75,\n  nan,\n  'S'],\n [439,\n  0,\n  1,\n  'Fortune, Mr. Mark',\n  'male',\n  64.0,\n  1,\n  4,\n  '19950',\n  263.0,\n  'C23 C25 C27',\n  'S'],\n [440,\n  0,\n  2,\n  'Kvillner, Mr. Johan Henrik Johannesson',\n  'male',\n  31.0,\n  0,\n  0,\n  'C.A. 18723',\n  10.5,\n  nan,\n  'S'],\n [441,\n  1,\n  2,\n  'Hart, Mrs. Benjamin (Esther Ada Bloomfield)',\n  'female',\n  45.0,\n  1,\n  1,\n  'F.C.C. 13529',\n  26.25,\n  nan,\n  'S'],\n [442, 0, 3, 'Hampe, Mr. Leon', 'male', 20.0, 0, 0, '345769', 9.5, nan, 'S'],\n [443,\n  0,\n  3,\n  'Petterson, Mr. Johan Emil',\n  'male',\n  25.0,\n  1,\n  0,\n  '347076',\n  7.775,\n  nan,\n  'S'],\n [444,\n  1,\n  2,\n  'Reynaldo, Ms. Encarnacion',\n  'female',\n  28.0,\n  0,\n  0,\n  '230434',\n  13.0,\n  nan,\n  'S'],\n [445,\n  1,\n  3,\n  'Johannesen-Bratthammer, Mr. Bernt',\n  'male',\n  nan,\n  0,\n  0,\n  '65306',\n  8.1125,\n  nan,\n  'S'],\n [446,\n  1,\n  1,\n  'Dodge, Master. Washington',\n  'male',\n  4.0,\n  0,\n  2,\n  '33638',\n  81.8583,\n  'A34',\n  'S'],\n [447,\n  1,\n  2,\n  'Mellinger, Miss. Madeleine Violet',\n  'female',\n  13.0,\n  0,\n  1,\n  '250644',\n  19.5,\n  nan,\n  'S'],\n [448,\n  1,\n  1,\n  'Seward, Mr. Frederic Kimber',\n  'male',\n  34.0,\n  0,\n  0,\n  '113794',\n  26.55,\n  nan,\n  'S'],\n [449,\n  1,\n  3,\n  'Baclini, Miss. Marie Catherine',\n  'female',\n  5.0,\n  2,\n  1,\n  '2666',\n  19.2583,\n  nan,\n  'C'],\n [450,\n  1,\n  1,\n  'Peuchen, Major. Arthur Godfrey',\n  'male',\n  52.0,\n  0,\n  0,\n  '113786',\n  30.5,\n  'C104',\n  'S'],\n [451,\n  0,\n  2,\n  'West, Mr. Edwy Arthur',\n  'male',\n  36.0,\n  1,\n  2,\n  'C.A. 34651',\n  27.75,\n  nan,\n  'S'],\n [452,\n  0,\n  3,\n  'Hagland, Mr. Ingvald Olai Olsen',\n  'male',\n  nan,\n  1,\n  0,\n  '65303',\n  19.9667,\n  nan,\n  'S'],\n [453,\n  0,\n  1,\n  'Foreman, Mr. Benjamin Laventall',\n  'male',\n  30.0,\n  0,\n  0,\n  '113051',\n  27.75,\n  'C111',\n  'C'],\n [454,\n  1,\n  1,\n  'Goldenberg, Mr. Samuel L',\n  'male',\n  49.0,\n  1,\n  0,\n  '17453',\n  89.1042,\n  'C92',\n  'C'],\n [455,\n  0,\n  3,\n  'Peduzzi, Mr. Joseph',\n  'male',\n  nan,\n  0,\n  0,\n  'A/5 2817',\n  8.05,\n  nan,\n  'S'],\n [456,\n  1,\n  3,\n  'Jalsevac, Mr. Ivan',\n  'male',\n  29.0,\n  0,\n  0,\n  '349240',\n  7.8958,\n  nan,\n  'C'],\n [457,\n  0,\n  1,\n  'Millet, Mr. Francis Davis',\n  'male',\n  65.0,\n  0,\n  0,\n  '13509',\n  26.55,\n  'E38',\n  'S'],\n [458,\n  1,\n  1,\n  'Kenyon, Mrs. Frederick R (Marion)',\n  'female',\n  nan,\n  1,\n  0,\n  '17464',\n  51.8625,\n  'D21',\n  'S'],\n [459,\n  1,\n  2,\n  'Toomey, Miss. Ellen',\n  'female',\n  50.0,\n  0,\n  0,\n  'F.C.C. 13531',\n  10.5,\n  nan,\n  'S'],\n [460,\n  0,\n  3,\n  \"O'Connor, Mr. Maurice\",\n  'male',\n  nan,\n  0,\n  0,\n  '371060',\n  7.75,\n  nan,\n  'Q'],\n [461,\n  1,\n  1,\n  'Anderson, Mr. Harry',\n  'male',\n  48.0,\n  0,\n  0,\n  '19952',\n  26.55,\n  'E12',\n  'S'],\n [462,\n  0,\n  3,\n  'Morley, Mr. William',\n  'male',\n  34.0,\n  0,\n  0,\n  '364506',\n  8.05,\n  nan,\n  'S'],\n [463,\n  0,\n  1,\n  'Gee, Mr. Arthur H',\n  'male',\n  47.0,\n  0,\n  0,\n  '111320',\n  38.5,\n  'E63',\n  'S'],\n [464,\n  0,\n  2,\n  'Milling, Mr. Jacob Christian',\n  'male',\n  48.0,\n  0,\n  0,\n  '234360',\n  13.0,\n  nan,\n  'S'],\n [465,\n  0,\n  3,\n  'Maisner, Mr. Simon',\n  'male',\n  nan,\n  0,\n  0,\n  'A/S 2816',\n  8.05,\n  nan,\n  'S'],\n [466,\n  0,\n  3,\n  'Goncalves, Mr. Manuel Estanslas',\n  'male',\n  38.0,\n  0,\n  0,\n  'SOTON/O.Q. 3101306',\n  7.05,\n  nan,\n  'S'],\n [467,\n  0,\n  2,\n  'Campbell, Mr. William',\n  'male',\n  nan,\n  0,\n  0,\n  '239853',\n  0.0,\n  nan,\n  'S'],\n [468,\n  0,\n  1,\n  'Smart, Mr. John Montgomery',\n  'male',\n  56.0,\n  0,\n  0,\n  '113792',\n  26.55,\n  nan,\n  'S'],\n [469,\n  0,\n  3,\n  'Scanlan, Mr. James',\n  'male',\n  nan,\n  0,\n  0,\n  '36209',\n  7.725,\n  nan,\n  'Q'],\n [470,\n  1,\n  3,\n  'Baclini, Miss. Helene Barbara',\n  'female',\n  0.75,\n  2,\n  1,\n  '2666',\n  19.2583,\n  nan,\n  'C'],\n [471, 0, 3, 'Keefe, Mr. Arthur', 'male', nan, 0, 0, '323592', 7.25, nan, 'S'],\n [472,\n  0,\n  3,\n  'Cacic, Mr. Luka',\n  'male',\n  38.0,\n  0,\n  0,\n  '315089',\n  8.6625,\n  nan,\n  'S'],\n [473,\n  1,\n  2,\n  'West, Mrs. Edwy Arthur (Ada Mary Worth)',\n  'female',\n  33.0,\n  1,\n  2,\n  'C.A. 34651',\n  27.75,\n  nan,\n  'S'],\n [474,\n  1,\n  2,\n  'Jerwan, Mrs. Amin S (Marie Marthe Thuillard)',\n  'female',\n  23.0,\n  0,\n  0,\n  'SC/AH Basle 541',\n  13.7917,\n  'D',\n  'C'],\n [475,\n  0,\n  3,\n  'Strandberg, Miss. Ida Sofia',\n  'female',\n  22.0,\n  0,\n  0,\n  '7553',\n  9.8375,\n  nan,\n  'S'],\n [476,\n  0,\n  1,\n  'Clifford, Mr. George Quincy',\n  'male',\n  nan,\n  0,\n  0,\n  '110465',\n  52.0,\n  'A14',\n  'S'],\n [477,\n  0,\n  2,\n  'Renouf, Mr. Peter Henry',\n  'male',\n  34.0,\n  1,\n  0,\n  '31027',\n  21.0,\n  nan,\n  'S'],\n [478,\n  0,\n  3,\n  'Braund, Mr. Lewis Richard',\n  'male',\n  29.0,\n  1,\n  0,\n  '3460',\n  7.0458,\n  nan,\n  'S'],\n [479,\n  0,\n  3,\n  'Karlsson, Mr. Nils August',\n  'male',\n  22.0,\n  0,\n  0,\n  '350060',\n  7.5208,\n  nan,\n  'S'],\n [480,\n  1,\n  3,\n  'Hirvonen, Miss. Hildur E',\n  'female',\n  2.0,\n  0,\n  1,\n  '3101298',\n  12.2875,\n  nan,\n  'S'],\n [481,\n  0,\n  3,\n  'Goodwin, Master. Harold Victor',\n  'male',\n  9.0,\n  5,\n  2,\n  'CA 2144',\n  46.9,\n  nan,\n  'S'],\n [482,\n  0,\n  2,\n  'Frost, Mr. Anthony Wood \"Archie\"',\n  'male',\n  nan,\n  0,\n  0,\n  '239854',\n  0.0,\n  nan,\n  'S'],\n [483,\n  0,\n  3,\n  'Rouse, Mr. Richard Henry',\n  'male',\n  50.0,\n  0,\n  0,\n  'A/5 3594',\n  8.05,\n  nan,\n  'S'],\n [484,\n  1,\n  3,\n  'Turkula, Mrs. (Hedwig)',\n  'female',\n  63.0,\n  0,\n  0,\n  '4134',\n  9.5875,\n  nan,\n  'S'],\n [485,\n  1,\n  1,\n  'Bishop, Mr. Dickinson H',\n  'male',\n  25.0,\n  1,\n  0,\n  '11967',\n  91.0792,\n  'B49',\n  'C'],\n [486,\n  0,\n  3,\n  'Lefebre, Miss. Jeannie',\n  'female',\n  nan,\n  3,\n  1,\n  '4133',\n  25.4667,\n  nan,\n  'S'],\n [487,\n  1,\n  1,\n  'Hoyt, Mrs. Frederick Maxfield (Jane Anne Forby)',\n  'female',\n  35.0,\n  1,\n  0,\n  '19943',\n  90.0,\n  'C93',\n  'S'],\n [488,\n  0,\n  1,\n  'Kent, Mr. Edward Austin',\n  'male',\n  58.0,\n  0,\n  0,\n  '11771',\n  29.7,\n  'B37',\n  'C'],\n [489,\n  0,\n  3,\n  'Somerton, Mr. Francis William',\n  'male',\n  30.0,\n  0,\n  0,\n  'A.5. 18509',\n  8.05,\n  nan,\n  'S'],\n [490,\n  1,\n  3,\n  'Coutts, Master. Eden Leslie \"Neville\"',\n  'male',\n  9.0,\n  1,\n  1,\n  'C.A. 37671',\n  15.9,\n  nan,\n  'S'],\n [491,\n  0,\n  3,\n  'Hagland, Mr. Konrad Mathias Reiersen',\n  'male',\n  nan,\n  1,\n  0,\n  '65304',\n  19.9667,\n  nan,\n  'S'],\n [492,\n  0,\n  3,\n  'Windelov, Mr. Einar',\n  'male',\n  21.0,\n  0,\n  0,\n  'SOTON/OQ 3101317',\n  7.25,\n  nan,\n  'S'],\n [493,\n  0,\n  1,\n  'Molson, Mr. Harry Markland',\n  'male',\n  55.0,\n  0,\n  0,\n  '113787',\n  30.5,\n  'C30',\n  'S'],\n [494,\n  0,\n  1,\n  'Artagaveytia, Mr. Ramon',\n  'male',\n  71.0,\n  0,\n  0,\n  'PC 17609',\n  49.5042,\n  nan,\n  'C'],\n [495,\n  0,\n  3,\n  'Stanley, Mr. Edward Roland',\n  'male',\n  21.0,\n  0,\n  0,\n  'A/4 45380',\n  8.05,\n  nan,\n  'S'],\n [496,\n  0,\n  3,\n  'Yousseff, Mr. Gerious',\n  'male',\n  nan,\n  0,\n  0,\n  '2627',\n  14.4583,\n  nan,\n  'C'],\n [497,\n  1,\n  1,\n  'Eustis, Miss. Elizabeth Mussey',\n  'female',\n  54.0,\n  1,\n  0,\n  '36947',\n  78.2667,\n  'D20',\n  'C'],\n [498,\n  0,\n  3,\n  'Shellard, Mr. Frederick William',\n  'male',\n  nan,\n  0,\n  0,\n  'C.A. 6212',\n  15.1,\n  nan,\n  'S'],\n [499,\n  0,\n  1,\n  'Allison, Mrs. Hudson J C (Bessie Waldo Daniels)',\n  'female',\n  25.0,\n  1,\n  2,\n  '113781',\n  151.55,\n  'C22 C26',\n  'S'],\n [500,\n  0,\n  3,\n  'Svensson, Mr. Olof',\n  'male',\n  24.0,\n  0,\n  0,\n  '350035',\n  7.7958,\n  nan,\n  'S'],\n [501,\n  0,\n  3,\n  'Calic, Mr. Petar',\n  'male',\n  17.0,\n  0,\n  0,\n  '315086',\n  8.6625,\n  nan,\n  'S'],\n [502,\n  0,\n  3,\n  'Canavan, Miss. Mary',\n  'female',\n  21.0,\n  0,\n  0,\n  '364846',\n  7.75,\n  nan,\n  'Q'],\n [503,\n  0,\n  3,\n  \"O'Sullivan, Miss. Bridget Mary\",\n  'female',\n  nan,\n  0,\n  0,\n  '330909',\n  7.6292,\n  nan,\n  'Q'],\n [504,\n  0,\n  3,\n  'Laitinen, Miss. Kristina Sofia',\n  'female',\n  37.0,\n  0,\n  0,\n  '4135',\n  9.5875,\n  nan,\n  'S'],\n [505,\n  1,\n  1,\n  'Maioni, Miss. Roberta',\n  'female',\n  16.0,\n  0,\n  0,\n  '110152',\n  86.5,\n  'B79',\n  'S'],\n [506,\n  0,\n  1,\n  'Penasco y Castellana, Mr. Victor de Satode',\n  'male',\n  18.0,\n  1,\n  0,\n  'PC 17758',\n  108.9,\n  'C65',\n  'C'],\n [507,\n  1,\n  2,\n  'Quick, Mrs. Frederick Charles (Jane Richards)',\n  'female',\n  33.0,\n  0,\n  2,\n  '26360',\n  26.0,\n  nan,\n  'S'],\n [508,\n  1,\n  1,\n  'Bradley, Mr. George (\"George Arthur Brayton\")',\n  'male',\n  nan,\n  0,\n  0,\n  '111427',\n  26.55,\n  nan,\n  'S'],\n [509,\n  0,\n  3,\n  'Olsen, Mr. Henry Margido',\n  'male',\n  28.0,\n  0,\n  0,\n  'C 4001',\n  22.525,\n  nan,\n  'S'],\n [510, 1, 3, 'Lang, Mr. Fang', 'male', 26.0, 0, 0, '1601', 56.4958, nan, 'S'],\n [511,\n  1,\n  3,\n  'Daly, Mr. Eugene Patrick',\n  'male',\n  29.0,\n  0,\n  0,\n  '382651',\n  7.75,\n  nan,\n  'Q'],\n [512,\n  0,\n  3,\n  'Webber, Mr. James',\n  'male',\n  nan,\n  0,\n  0,\n  'SOTON/OQ 3101316',\n  8.05,\n  nan,\n  'S'],\n [513,\n  1,\n  1,\n  'McGough, Mr. James Robert',\n  'male',\n  36.0,\n  0,\n  0,\n  'PC 17473',\n  26.2875,\n  'E25',\n  'S'],\n [514,\n  1,\n  1,\n  'Rothschild, Mrs. Martin (Elizabeth L. Barrett)',\n  'female',\n  54.0,\n  1,\n  0,\n  'PC 17603',\n  59.4,\n  nan,\n  'C'],\n [515,\n  0,\n  3,\n  'Coleff, Mr. Satio',\n  'male',\n  24.0,\n  0,\n  0,\n  '349209',\n  7.4958,\n  nan,\n  'S'],\n [516,\n  0,\n  1,\n  'Walker, Mr. William Anderson',\n  'male',\n  47.0,\n  0,\n  0,\n  '36967',\n  34.0208,\n  'D46',\n  'S'],\n [517,\n  1,\n  2,\n  'Lemore, Mrs. (Amelia Milley)',\n  'female',\n  34.0,\n  0,\n  0,\n  'C.A. 34260',\n  10.5,\n  'F33',\n  'S'],\n [518,\n  0,\n  3,\n  'Ryan, Mr. Patrick',\n  'male',\n  nan,\n  0,\n  0,\n  '371110',\n  24.15,\n  nan,\n  'Q'],\n [519,\n  1,\n  2,\n  'Angle, Mrs. William A (Florence \"Mary\" Agnes Hughes)',\n  'female',\n  36.0,\n  1,\n  0,\n  '226875',\n  26.0,\n  nan,\n  'S'],\n [520,\n  0,\n  3,\n  'Pavlovic, Mr. Stefo',\n  'male',\n  32.0,\n  0,\n  0,\n  '349242',\n  7.8958,\n  nan,\n  'S'],\n [521,\n  1,\n  1,\n  'Perreault, Miss. Anne',\n  'female',\n  30.0,\n  0,\n  0,\n  '12749',\n  93.5,\n  'B73',\n  'S'],\n [522,\n  0,\n  3,\n  'Vovk, Mr. Janko',\n  'male',\n  22.0,\n  0,\n  0,\n  '349252',\n  7.8958,\n  nan,\n  'S'],\n [523, 0, 3, 'Lahoud, Mr. Sarkis', 'male', nan, 0, 0, '2624', 7.225, nan, 'C'],\n [524,\n  1,\n  1,\n  'Hippach, Mrs. Louis Albert (Ida Sophia Fischer)',\n  'female',\n  44.0,\n  0,\n  1,\n  '111361',\n  57.9792,\n  'B18',\n  'C'],\n [525, 0, 3, 'Kassem, Mr. Fared', 'male', nan, 0, 0, '2700', 7.2292, nan, 'C'],\n [526,\n  0,\n  3,\n  'Farrell, Mr. James',\n  'male',\n  40.5,\n  0,\n  0,\n  '367232',\n  7.75,\n  nan,\n  'Q'],\n [527,\n  1,\n  2,\n  'Ridsdale, Miss. Lucy',\n  'female',\n  50.0,\n  0,\n  0,\n  'W./C. 14258',\n  10.5,\n  nan,\n  'S'],\n [528,\n  0,\n  1,\n  'Farthing, Mr. John',\n  'male',\n  nan,\n  0,\n  0,\n  'PC 17483',\n  221.7792,\n  'C95',\n  'S'],\n [529,\n  0,\n  3,\n  'Salonen, Mr. Johan Werner',\n  'male',\n  39.0,\n  0,\n  0,\n  '3101296',\n  7.925,\n  nan,\n  'S'],\n [530,\n  0,\n  2,\n  'Hocking, Mr. Richard George',\n  'male',\n  23.0,\n  2,\n  1,\n  '29104',\n  11.5,\n  nan,\n  'S'],\n [531,\n  1,\n  2,\n  'Quick, Miss. Phyllis May',\n  'female',\n  2.0,\n  1,\n  1,\n  '26360',\n  26.0,\n  nan,\n  'S'],\n [532, 0, 3, 'Toufik, Mr. Nakli', 'male', nan, 0, 0, '2641', 7.2292, nan, 'C'],\n [533,\n  0,\n  3,\n  'Elias, Mr. Joseph Jr',\n  'male',\n  17.0,\n  1,\n  1,\n  '2690',\n  7.2292,\n  nan,\n  'C'],\n [534,\n  1,\n  3,\n  'Peter, Mrs. Catherine (Catherine Rizk)',\n  'female',\n  nan,\n  0,\n  2,\n  '2668',\n  22.3583,\n  nan,\n  'C'],\n [535,\n  0,\n  3,\n  'Cacic, Miss. Marija',\n  'female',\n  30.0,\n  0,\n  0,\n  '315084',\n  8.6625,\n  nan,\n  'S'],\n [536,\n  1,\n  2,\n  'Hart, Miss. Eva Miriam',\n  'female',\n  7.0,\n  0,\n  2,\n  'F.C.C. 13529',\n  26.25,\n  nan,\n  'S'],\n [537,\n  0,\n  1,\n  'Butt, Major. Archibald Willingham',\n  'male',\n  45.0,\n  0,\n  0,\n  '113050',\n  26.55,\n  'B38',\n  'S'],\n [538,\n  1,\n  1,\n  'LeRoy, Miss. Bertha',\n  'female',\n  30.0,\n  0,\n  0,\n  'PC 17761',\n  106.425,\n  nan,\n  'C'],\n [539,\n  0,\n  3,\n  'Risien, Mr. Samuel Beard',\n  'male',\n  nan,\n  0,\n  0,\n  '364498',\n  14.5,\n  nan,\n  'S'],\n [540,\n  1,\n  1,\n  'Frolicher, Miss. Hedwig Margaritha',\n  'female',\n  22.0,\n  0,\n  2,\n  '13568',\n  49.5,\n  'B39',\n  'C'],\n [541,\n  1,\n  1,\n  'Crosby, Miss. Harriet R',\n  'female',\n  36.0,\n  0,\n  2,\n  'WE/P 5735',\n  71.0,\n  'B22',\n  'S'],\n [542,\n  0,\n  3,\n  'Andersson, Miss. Ingeborg Constanzia',\n  'female',\n  9.0,\n  4,\n  2,\n  '347082',\n  31.275,\n  nan,\n  'S'],\n [543,\n  0,\n  3,\n  'Andersson, Miss. Sigrid Elisabeth',\n  'female',\n  11.0,\n  4,\n  2,\n  '347082',\n  31.275,\n  nan,\n  'S'],\n [544, 1, 2, 'Beane, Mr. Edward', 'male', 32.0, 1, 0, '2908', 26.0, nan, 'S'],\n [545,\n  0,\n  1,\n  'Douglas, Mr. Walter Donald',\n  'male',\n  50.0,\n  1,\n  0,\n  'PC 17761',\n  106.425,\n  'C86',\n  'C'],\n [546,\n  0,\n  1,\n  'Nicholson, Mr. Arthur Ernest',\n  'male',\n  64.0,\n  0,\n  0,\n  '693',\n  26.0,\n  nan,\n  'S'],\n [547,\n  1,\n  2,\n  'Beane, Mrs. Edward (Ethel Clarke)',\n  'female',\n  19.0,\n  1,\n  0,\n  '2908',\n  26.0,\n  nan,\n  'S'],\n [548,\n  1,\n  2,\n  'Padro y Manent, Mr. Julian',\n  'male',\n  nan,\n  0,\n  0,\n  'SC/PARIS 2146',\n  13.8625,\n  nan,\n  'C'],\n [549,\n  0,\n  3,\n  'Goldsmith, Mr. Frank John',\n  'male',\n  33.0,\n  1,\n  1,\n  '363291',\n  20.525,\n  nan,\n  'S'],\n [550,\n  1,\n  2,\n  'Davies, Master. John Morgan Jr',\n  'male',\n  8.0,\n  1,\n  1,\n  'C.A. 33112',\n  36.75,\n  nan,\n  'S'],\n [551,\n  1,\n  1,\n  'Thayer, Mr. John Borland Jr',\n  'male',\n  17.0,\n  0,\n  2,\n  '17421',\n  110.8833,\n  'C70',\n  'C'],\n [552,\n  0,\n  2,\n  'Sharp, Mr. Percival James R',\n  'male',\n  27.0,\n  0,\n  0,\n  '244358',\n  26.0,\n  nan,\n  'S'],\n [553,\n  0,\n  3,\n  \"O'Brien, Mr. Timothy\",\n  'male',\n  nan,\n  0,\n  0,\n  '330979',\n  7.8292,\n  nan,\n  'Q'],\n [554,\n  1,\n  3,\n  'Leeni, Mr. Fahim (\"Philip Zenni\")',\n  'male',\n  22.0,\n  0,\n  0,\n  '2620',\n  7.225,\n  nan,\n  'C'],\n [555,\n  1,\n  3,\n  'Ohman, Miss. Velin',\n  'female',\n  22.0,\n  0,\n  0,\n  '347085',\n  7.775,\n  nan,\n  'S'],\n [556,\n  0,\n  1,\n  'Wright, Mr. George',\n  'male',\n  62.0,\n  0,\n  0,\n  '113807',\n  26.55,\n  nan,\n  'S'],\n [557,\n  1,\n  1,\n  'Duff Gordon, Lady. (Lucille Christiana Sutherland) (\"Mrs Morgan\")',\n  'female',\n  48.0,\n  1,\n  0,\n  '11755',\n  39.6,\n  'A16',\n  'C'],\n [558,\n  0,\n  1,\n  'Robbins, Mr. Victor',\n  'male',\n  nan,\n  0,\n  0,\n  'PC 17757',\n  227.525,\n  nan,\n  'C'],\n [559,\n  1,\n  1,\n  'Taussig, Mrs. Emil (Tillie Mandelbaum)',\n  'female',\n  39.0,\n  1,\n  1,\n  '110413',\n  79.65,\n  'E67',\n  'S'],\n [560,\n  1,\n  3,\n  'de Messemaeker, Mrs. Guillaume Joseph (Emma)',\n  'female',\n  36.0,\n  1,\n  0,\n  '345572',\n  17.4,\n  nan,\n  'S'],\n [561,\n  0,\n  3,\n  'Morrow, Mr. Thomas Rowan',\n  'male',\n  nan,\n  0,\n  0,\n  '372622',\n  7.75,\n  nan,\n  'Q'],\n [562,\n  0,\n  3,\n  'Sivic, Mr. Husein',\n  'male',\n  40.0,\n  0,\n  0,\n  '349251',\n  7.8958,\n  nan,\n  'S'],\n [563,\n  0,\n  2,\n  'Norman, Mr. Robert Douglas',\n  'male',\n  28.0,\n  0,\n  0,\n  '218629',\n  13.5,\n  nan,\n  'S'],\n [564,\n  0,\n  3,\n  'Simmons, Mr. John',\n  'male',\n  nan,\n  0,\n  0,\n  'SOTON/OQ 392082',\n  8.05,\n  nan,\n  'S'],\n [565,\n  0,\n  3,\n  'Meanwell, Miss. (Marion Ogden)',\n  'female',\n  nan,\n  0,\n  0,\n  'SOTON/O.Q. 392087',\n  8.05,\n  nan,\n  'S'],\n [566,\n  0,\n  3,\n  'Davies, Mr. Alfred J',\n  'male',\n  24.0,\n  2,\n  0,\n  'A/4 48871',\n  24.15,\n  nan,\n  'S'],\n [567,\n  0,\n  3,\n  'Stoytcheff, Mr. Ilia',\n  'male',\n  19.0,\n  0,\n  0,\n  '349205',\n  7.8958,\n  nan,\n  'S'],\n [568,\n  0,\n  3,\n  'Palsson, Mrs. Nils (Alma Cornelia Berglund)',\n  'female',\n  29.0,\n  0,\n  4,\n  '349909',\n  21.075,\n  nan,\n  'S'],\n [569,\n  0,\n  3,\n  'Doharr, Mr. Tannous',\n  'male',\n  nan,\n  0,\n  0,\n  '2686',\n  7.2292,\n  nan,\n  'C'],\n [570,\n  1,\n  3,\n  'Jonsson, Mr. Carl',\n  'male',\n  32.0,\n  0,\n  0,\n  '350417',\n  7.8542,\n  nan,\n  'S'],\n [571,\n  1,\n  2,\n  'Harris, Mr. George',\n  'male',\n  62.0,\n  0,\n  0,\n  'S.W./PP 752',\n  10.5,\n  nan,\n  'S'],\n [572,\n  1,\n  1,\n  'Appleton, Mrs. Edward Dale (Charlotte Lamson)',\n  'female',\n  53.0,\n  2,\n  0,\n  '11769',\n  51.4792,\n  'C101',\n  'S'],\n [573,\n  1,\n  1,\n  'Flynn, Mr. John Irwin (\"Irving\")',\n  'male',\n  36.0,\n  0,\n  0,\n  'PC 17474',\n  26.3875,\n  'E25',\n  'S'],\n [574,\n  1,\n  3,\n  'Kelly, Miss. Mary',\n  'female',\n  nan,\n  0,\n  0,\n  '14312',\n  7.75,\n  nan,\n  'Q'],\n [575,\n  0,\n  3,\n  'Rush, Mr. Alfred George John',\n  'male',\n  16.0,\n  0,\n  0,\n  'A/4. 20589',\n  8.05,\n  nan,\n  'S'],\n [576,\n  0,\n  3,\n  'Patchett, Mr. George',\n  'male',\n  19.0,\n  0,\n  0,\n  '358585',\n  14.5,\n  nan,\n  'S'],\n [577,\n  1,\n  2,\n  'Garside, Miss. Ethel',\n  'female',\n  34.0,\n  0,\n  0,\n  '243880',\n  13.0,\n  nan,\n  'S'],\n [578,\n  1,\n  1,\n  'Silvey, Mrs. William Baird (Alice Munger)',\n  'female',\n  39.0,\n  1,\n  0,\n  '13507',\n  55.9,\n  'E44',\n  'S'],\n [579,\n  0,\n  3,\n  'Caram, Mrs. Joseph (Maria Elias)',\n  'female',\n  nan,\n  1,\n  0,\n  '2689',\n  14.4583,\n  nan,\n  'C'],\n [580,\n  1,\n  3,\n  'Jussila, Mr. Eiriik',\n  'male',\n  32.0,\n  0,\n  0,\n  'STON/O 2. 3101286',\n  7.925,\n  nan,\n  'S'],\n [581,\n  1,\n  2,\n  'Christy, Miss. Julie Rachel',\n  'female',\n  25.0,\n  1,\n  1,\n  '237789',\n  30.0,\n  nan,\n  'S'],\n [582,\n  1,\n  1,\n  'Thayer, Mrs. John Borland (Marian Longstreth Morris)',\n  'female',\n  39.0,\n  1,\n  1,\n  '17421',\n  110.8833,\n  'C68',\n  'C'],\n [583,\n  0,\n  2,\n  'Downton, Mr. William James',\n  'male',\n  54.0,\n  0,\n  0,\n  '28403',\n  26.0,\n  nan,\n  'S'],\n [584,\n  0,\n  1,\n  'Ross, Mr. John Hugo',\n  'male',\n  36.0,\n  0,\n  0,\n  '13049',\n  40.125,\n  'A10',\n  'C'],\n [585,\n  0,\n  3,\n  'Paulner, Mr. Uscher',\n  'male',\n  nan,\n  0,\n  0,\n  '3411',\n  8.7125,\n  nan,\n  'C'],\n [586,\n  1,\n  1,\n  'Taussig, Miss. Ruth',\n  'female',\n  18.0,\n  0,\n  2,\n  '110413',\n  79.65,\n  'E68',\n  'S'],\n [587,\n  0,\n  2,\n  'Jarvis, Mr. John Denzil',\n  'male',\n  47.0,\n  0,\n  0,\n  '237565',\n  15.0,\n  nan,\n  'S'],\n [588,\n  1,\n  1,\n  'Frolicher-Stehli, Mr. Maxmillian',\n  'male',\n  60.0,\n  1,\n  1,\n  '13567',\n  79.2,\n  'B41',\n  'C'],\n [589,\n  0,\n  3,\n  'Gilinski, Mr. Eliezer',\n  'male',\n  22.0,\n  0,\n  0,\n  '14973',\n  8.05,\n  nan,\n  'S'],\n [590,\n  0,\n  3,\n  'Murdlin, Mr. Joseph',\n  'male',\n  nan,\n  0,\n  0,\n  'A./5. 3235',\n  8.05,\n  nan,\n  'S'],\n [591,\n  0,\n  3,\n  'Rintamaki, Mr. Matti',\n  'male',\n  35.0,\n  0,\n  0,\n  'STON/O 2. 3101273',\n  7.125,\n  nan,\n  'S'],\n [592,\n  1,\n  1,\n  'Stephenson, Mrs. Walter Bertram (Martha Eustis)',\n  'female',\n  52.0,\n  1,\n  0,\n  '36947',\n  78.2667,\n  'D20',\n  'C'],\n [593,\n  0,\n  3,\n  'Elsbury, Mr. William James',\n  'male',\n  47.0,\n  0,\n  0,\n  'A/5 3902',\n  7.25,\n  nan,\n  'S'],\n [594,\n  0,\n  3,\n  'Bourke, Miss. Mary',\n  'female',\n  nan,\n  0,\n  2,\n  '364848',\n  7.75,\n  nan,\n  'Q'],\n [595,\n  0,\n  2,\n  'Chapman, Mr. John Henry',\n  'male',\n  37.0,\n  1,\n  0,\n  'SC/AH 29037',\n  26.0,\n  nan,\n  'S'],\n [596,\n  0,\n  3,\n  'Van Impe, Mr. Jean Baptiste',\n  'male',\n  36.0,\n  1,\n  1,\n  '345773',\n  24.15,\n  nan,\n  'S'],\n [597,\n  1,\n  2,\n  'Leitch, Miss. Jessie Wills',\n  'female',\n  nan,\n  0,\n  0,\n  '248727',\n  33.0,\n  nan,\n  'S'],\n [598, 0, 3, 'Johnson, Mr. Alfred', 'male', 49.0, 0, 0, 'LINE', 0.0, nan, 'S'],\n [599, 0, 3, 'Boulos, Mr. Hanna', 'male', nan, 0, 0, '2664', 7.225, nan, 'C'],\n [600,\n  1,\n  1,\n  'Duff Gordon, Sir. Cosmo Edmund (\"Mr Morgan\")',\n  'male',\n  49.0,\n  1,\n  0,\n  'PC 17485',\n  56.9292,\n  'A20',\n  'C'],\n [601,\n  1,\n  2,\n  'Jacobsohn, Mrs. Sidney Samuel (Amy Frances Christy)',\n  'female',\n  24.0,\n  2,\n  1,\n  '243847',\n  27.0,\n  nan,\n  'S'],\n [602,\n  0,\n  3,\n  'Slabenoff, Mr. Petco',\n  'male',\n  nan,\n  0,\n  0,\n  '349214',\n  7.8958,\n  nan,\n  'S'],\n [603,\n  0,\n  1,\n  'Harrington, Mr. Charles H',\n  'male',\n  nan,\n  0,\n  0,\n  '113796',\n  42.4,\n  nan,\n  'S'],\n [604,\n  0,\n  3,\n  'Torber, Mr. Ernst William',\n  'male',\n  44.0,\n  0,\n  0,\n  '364511',\n  8.05,\n  nan,\n  'S'],\n [605,\n  1,\n  1,\n  'Homer, Mr. Harry (\"Mr E Haven\")',\n  'male',\n  35.0,\n  0,\n  0,\n  '111426',\n  26.55,\n  nan,\n  'C'],\n [606,\n  0,\n  3,\n  'Lindell, Mr. Edvard Bengtsson',\n  'male',\n  36.0,\n  1,\n  0,\n  '349910',\n  15.55,\n  nan,\n  'S'],\n [607,\n  0,\n  3,\n  'Karaic, Mr. Milan',\n  'male',\n  30.0,\n  0,\n  0,\n  '349246',\n  7.8958,\n  nan,\n  'S'],\n [608,\n  1,\n  1,\n  'Daniel, Mr. Robert Williams',\n  'male',\n  27.0,\n  0,\n  0,\n  '113804',\n  30.5,\n  nan,\n  'S'],\n [609,\n  1,\n  2,\n  'Laroche, Mrs. Joseph (Juliette Marie Louise Lafargue)',\n  'female',\n  22.0,\n  1,\n  2,\n  'SC/Paris 2123',\n  41.5792,\n  nan,\n  'C'],\n [610,\n  1,\n  1,\n  'Shutes, Miss. Elizabeth W',\n  'female',\n  40.0,\n  0,\n  0,\n  'PC 17582',\n  153.4625,\n  'C125',\n  'S'],\n [611,\n  0,\n  3,\n  'Andersson, Mrs. Anders Johan (Alfrida Konstantia Brogren)',\n  'female',\n  39.0,\n  1,\n  5,\n  '347082',\n  31.275,\n  nan,\n  'S'],\n [612,\n  0,\n  3,\n  'Jardin, Mr. Jose Neto',\n  'male',\n  nan,\n  0,\n  0,\n  'SOTON/O.Q. 3101305',\n  7.05,\n  nan,\n  'S'],\n [613,\n  1,\n  3,\n  'Murphy, Miss. Margaret Jane',\n  'female',\n  nan,\n  1,\n  0,\n  '367230',\n  15.5,\n  nan,\n  'Q'],\n [614, 0, 3, 'Horgan, Mr. John', 'male', nan, 0, 0, '370377', 7.75, nan, 'Q'],\n [615,\n  0,\n  3,\n  'Brocklebank, Mr. William Alfred',\n  'male',\n  35.0,\n  0,\n  0,\n  '364512',\n  8.05,\n  nan,\n  'S'],\n [616,\n  1,\n  2,\n  'Herman, Miss. Alice',\n  'female',\n  24.0,\n  1,\n  2,\n  '220845',\n  65.0,\n  nan,\n  'S'],\n [617,\n  0,\n  3,\n  'Danbom, Mr. Ernst Gilbert',\n  'male',\n  34.0,\n  1,\n  1,\n  '347080',\n  14.4,\n  nan,\n  'S'],\n [618,\n  0,\n  3,\n  'Lobb, Mrs. William Arthur (Cordelia K Stanlick)',\n  'female',\n  26.0,\n  1,\n  0,\n  'A/5. 3336',\n  16.1,\n  nan,\n  'S'],\n [619,\n  1,\n  2,\n  'Becker, Miss. Marion Louise',\n  'female',\n  4.0,\n  2,\n  1,\n  '230136',\n  39.0,\n  'F4',\n  'S'],\n [620,\n  0,\n  2,\n  'Gavey, Mr. Lawrence',\n  'male',\n  26.0,\n  0,\n  0,\n  '31028',\n  10.5,\n  nan,\n  'S'],\n [621,\n  0,\n  3,\n  'Yasbeck, Mr. Antoni',\n  'male',\n  27.0,\n  1,\n  0,\n  '2659',\n  14.4542,\n  nan,\n  'C'],\n [622,\n  1,\n  1,\n  'Kimball, Mr. Edwin Nelson Jr',\n  'male',\n  42.0,\n  1,\n  0,\n  '11753',\n  52.5542,\n  'D19',\n  'S'],\n [623,\n  1,\n  3,\n  'Nakid, Mr. Sahid',\n  'male',\n  20.0,\n  1,\n  1,\n  '2653',\n  15.7417,\n  nan,\n  'C'],\n [624,\n  0,\n  3,\n  'Hansen, Mr. Henry Damsgaard',\n  'male',\n  21.0,\n  0,\n  0,\n  '350029',\n  7.8542,\n  nan,\n  'S'],\n [625,\n  0,\n  3,\n  'Bowen, Mr. David John \"Dai\"',\n  'male',\n  21.0,\n  0,\n  0,\n  '54636',\n  16.1,\n  nan,\n  'S'],\n [626,\n  0,\n  1,\n  'Sutton, Mr. Frederick',\n  'male',\n  61.0,\n  0,\n  0,\n  '36963',\n  32.3208,\n  'D50',\n  'S'],\n [627,\n  0,\n  2,\n  'Kirkland, Rev. Charles Leonard',\n  'male',\n  57.0,\n  0,\n  0,\n  '219533',\n  12.35,\n  nan,\n  'Q'],\n [628,\n  1,\n  1,\n  'Longley, Miss. Gretchen Fiske',\n  'female',\n  21.0,\n  0,\n  0,\n  '13502',\n  77.9583,\n  'D9',\n  'S'],\n [629,\n  0,\n  3,\n  'Bostandyeff, Mr. Guentcho',\n  'male',\n  26.0,\n  0,\n  0,\n  '349224',\n  7.8958,\n  nan,\n  'S'],\n [630,\n  0,\n  3,\n  \"O'Connell, Mr. Patrick D\",\n  'male',\n  nan,\n  0,\n  0,\n  '334912',\n  7.7333,\n  nan,\n  'Q'],\n [631,\n  1,\n  1,\n  'Barkworth, Mr. Algernon Henry Wilson',\n  'male',\n  80.0,\n  0,\n  0,\n  '27042',\n  30.0,\n  'A23',\n  'S'],\n [632,\n  0,\n  3,\n  'Lundahl, Mr. Johan Svensson',\n  'male',\n  51.0,\n  0,\n  0,\n  '347743',\n  7.0542,\n  nan,\n  'S'],\n [633,\n  1,\n  1,\n  'Stahelin-Maeglin, Dr. Max',\n  'male',\n  32.0,\n  0,\n  0,\n  '13214',\n  30.5,\n  'B50',\n  'C'],\n [634,\n  0,\n  1,\n  'Parr, Mr. William Henry Marsh',\n  'male',\n  nan,\n  0,\n  0,\n  '112052',\n  0.0,\n  nan,\n  'S'],\n [635,\n  0,\n  3,\n  'Skoog, Miss. Mabel',\n  'female',\n  9.0,\n  3,\n  2,\n  '347088',\n  27.9,\n  nan,\n  'S'],\n [636,\n  1,\n  2,\n  'Davis, Miss. Mary',\n  'female',\n  28.0,\n  0,\n  0,\n  '237668',\n  13.0,\n  nan,\n  'S'],\n [637,\n  0,\n  3,\n  'Leinonen, Mr. Antti Gustaf',\n  'male',\n  32.0,\n  0,\n  0,\n  'STON/O 2. 3101292',\n  7.925,\n  nan,\n  'S'],\n [638,\n  0,\n  2,\n  'Collyer, Mr. Harvey',\n  'male',\n  31.0,\n  1,\n  1,\n  'C.A. 31921',\n  26.25,\n  nan,\n  'S'],\n [639,\n  0,\n  3,\n  'Panula, Mrs. Juha (Maria Emilia Ojala)',\n  'female',\n  41.0,\n  0,\n  5,\n  '3101295',\n  39.6875,\n  nan,\n  'S'],\n [640,\n  0,\n  3,\n  'Thorneycroft, Mr. Percival',\n  'male',\n  nan,\n  1,\n  0,\n  '376564',\n  16.1,\n  nan,\n  'S'],\n [641,\n  0,\n  3,\n  'Jensen, Mr. Hans Peder',\n  'male',\n  20.0,\n  0,\n  0,\n  '350050',\n  7.8542,\n  nan,\n  'S'],\n [642,\n  1,\n  1,\n  'Sagesser, Mlle. Emma',\n  'female',\n  24.0,\n  0,\n  0,\n  'PC 17477',\n  69.3,\n  'B35',\n  'C'],\n [643,\n  0,\n  3,\n  'Skoog, Miss. Margit Elizabeth',\n  'female',\n  2.0,\n  3,\n  2,\n  '347088',\n  27.9,\n  nan,\n  'S'],\n [644, 1, 3, 'Foo, Mr. Choong', 'male', nan, 0, 0, '1601', 56.4958, nan, 'S'],\n [645,\n  1,\n  3,\n  'Baclini, Miss. Eugenie',\n  'female',\n  0.75,\n  2,\n  1,\n  '2666',\n  19.2583,\n  nan,\n  'C'],\n [646,\n  1,\n  1,\n  'Harper, Mr. Henry Sleeper',\n  'male',\n  48.0,\n  1,\n  0,\n  'PC 17572',\n  76.7292,\n  'D33',\n  'C'],\n [647,\n  0,\n  3,\n  'Cor, Mr. Liudevit',\n  'male',\n  19.0,\n  0,\n  0,\n  '349231',\n  7.8958,\n  nan,\n  'S'],\n [648,\n  1,\n  1,\n  'Simonius-Blumer, Col. Oberst Alfons',\n  'male',\n  56.0,\n  0,\n  0,\n  '13213',\n  35.5,\n  'A26',\n  'C'],\n [649,\n  0,\n  3,\n  'Willey, Mr. Edward',\n  'male',\n  nan,\n  0,\n  0,\n  'S.O./P.P. 751',\n  7.55,\n  nan,\n  'S'],\n [650,\n  1,\n  3,\n  'Stanley, Miss. Amy Zillah Elsie',\n  'female',\n  23.0,\n  0,\n  0,\n  'CA. 2314',\n  7.55,\n  nan,\n  'S'],\n [651,\n  0,\n  3,\n  'Mitkoff, Mr. Mito',\n  'male',\n  nan,\n  0,\n  0,\n  '349221',\n  7.8958,\n  nan,\n  'S'],\n [652,\n  1,\n  2,\n  'Doling, Miss. Elsie',\n  'female',\n  18.0,\n  0,\n  1,\n  '231919',\n  23.0,\n  nan,\n  'S'],\n [653,\n  0,\n  3,\n  'Kalvik, Mr. Johannes Halvorsen',\n  'male',\n  21.0,\n  0,\n  0,\n  '8475',\n  8.4333,\n  nan,\n  'S'],\n [654,\n  1,\n  3,\n  'O\\'Leary, Miss. Hanora \"Norah\"',\n  'female',\n  nan,\n  0,\n  0,\n  '330919',\n  7.8292,\n  nan,\n  'Q'],\n [655,\n  0,\n  3,\n  'Hegarty, Miss. Hanora \"Nora\"',\n  'female',\n  18.0,\n  0,\n  0,\n  '365226',\n  6.75,\n  nan,\n  'Q'],\n [656,\n  0,\n  2,\n  'Hickman, Mr. Leonard Mark',\n  'male',\n  24.0,\n  2,\n  0,\n  'S.O.C. 14879',\n  73.5,\n  nan,\n  'S'],\n [657,\n  0,\n  3,\n  'Radeff, Mr. Alexander',\n  'male',\n  nan,\n  0,\n  0,\n  '349223',\n  7.8958,\n  nan,\n  'S'],\n [658,\n  0,\n  3,\n  'Bourke, Mrs. John (Catherine)',\n  'female',\n  32.0,\n  1,\n  1,\n  '364849',\n  15.5,\n  nan,\n  'Q'],\n [659,\n  0,\n  2,\n  'Eitemiller, Mr. George Floyd',\n  'male',\n  23.0,\n  0,\n  0,\n  '29751',\n  13.0,\n  nan,\n  'S'],\n [660,\n  0,\n  1,\n  'Newell, Mr. Arthur Webster',\n  'male',\n  58.0,\n  0,\n  2,\n  '35273',\n  113.275,\n  'D48',\n  'C'],\n [661,\n  1,\n  1,\n  'Frauenthal, Dr. Henry William',\n  'male',\n  50.0,\n  2,\n  0,\n  'PC 17611',\n  133.65,\n  nan,\n  'S'],\n [662, 0, 3, 'Badt, Mr. Mohamed', 'male', 40.0, 0, 0, '2623', 7.225, nan, 'C'],\n [663,\n  0,\n  1,\n  'Colley, Mr. Edward Pomeroy',\n  'male',\n  47.0,\n  0,\n  0,\n  '5727',\n  25.5875,\n  'E58',\n  'S'],\n [664,\n  0,\n  3,\n  'Coleff, Mr. Peju',\n  'male',\n  36.0,\n  0,\n  0,\n  '349210',\n  7.4958,\n  nan,\n  'S'],\n [665,\n  1,\n  3,\n  'Lindqvist, Mr. Eino William',\n  'male',\n  20.0,\n  1,\n  0,\n  'STON/O 2. 3101285',\n  7.925,\n  nan,\n  'S'],\n [666,\n  0,\n  2,\n  'Hickman, Mr. Lewis',\n  'male',\n  32.0,\n  2,\n  0,\n  'S.O.C. 14879',\n  73.5,\n  nan,\n  'S'],\n [667,\n  0,\n  2,\n  'Butler, Mr. Reginald Fenton',\n  'male',\n  25.0,\n  0,\n  0,\n  '234686',\n  13.0,\n  nan,\n  'S'],\n [668,\n  0,\n  3,\n  'Rommetvedt, Mr. Knud Paust',\n  'male',\n  nan,\n  0,\n  0,\n  '312993',\n  7.775,\n  nan,\n  'S'],\n [669,\n  0,\n  3,\n  'Cook, Mr. Jacob',\n  'male',\n  43.0,\n  0,\n  0,\n  'A/5 3536',\n  8.05,\n  nan,\n  'S'],\n [670,\n  1,\n  1,\n  'Taylor, Mrs. Elmer Zebley (Juliet Cummins Wright)',\n  'female',\n  nan,\n  1,\n  0,\n  '19996',\n  52.0,\n  'C126',\n  'S'],\n [671,\n  1,\n  2,\n  'Brown, Mrs. Thomas William Solomon (Elizabeth Catherine Ford)',\n  'female',\n  40.0,\n  1,\n  1,\n  '29750',\n  39.0,\n  nan,\n  'S'],\n [672,\n  0,\n  1,\n  'Davidson, Mr. Thornton',\n  'male',\n  31.0,\n  1,\n  0,\n  'F.C. 12750',\n  52.0,\n  'B71',\n  'S'],\n [673,\n  0,\n  2,\n  'Mitchell, Mr. Henry Michael',\n  'male',\n  70.0,\n  0,\n  0,\n  'C.A. 24580',\n  10.5,\n  nan,\n  'S'],\n [674,\n  1,\n  2,\n  'Wilhelms, Mr. Charles',\n  'male',\n  31.0,\n  0,\n  0,\n  '244270',\n  13.0,\n  nan,\n  'S'],\n [675,\n  0,\n  2,\n  'Watson, Mr. Ennis Hastings',\n  'male',\n  nan,\n  0,\n  0,\n  '239856',\n  0.0,\n  nan,\n  'S'],\n [676,\n  0,\n  3,\n  'Edvardsson, Mr. Gustaf Hjalmar',\n  'male',\n  18.0,\n  0,\n  0,\n  '349912',\n  7.775,\n  nan,\n  'S'],\n [677,\n  0,\n  3,\n  'Sawyer, Mr. Frederick Charles',\n  'male',\n  24.5,\n  0,\n  0,\n  '342826',\n  8.05,\n  nan,\n  'S'],\n [678,\n  1,\n  3,\n  'Turja, Miss. Anna Sofia',\n  'female',\n  18.0,\n  0,\n  0,\n  '4138',\n  9.8417,\n  nan,\n  'S'],\n [679,\n  0,\n  3,\n  'Goodwin, Mrs. Frederick (Augusta Tyler)',\n  'female',\n  43.0,\n  1,\n  6,\n  'CA 2144',\n  46.9,\n  nan,\n  'S'],\n [680,\n  1,\n  1,\n  'Cardeza, Mr. Thomas Drake Martinez',\n  'male',\n  36.0,\n  0,\n  1,\n  'PC 17755',\n  512.3292,\n  'B51 B53 B55',\n  'C'],\n [681,\n  0,\n  3,\n  'Peters, Miss. Katie',\n  'female',\n  nan,\n  0,\n  0,\n  '330935',\n  8.1375,\n  nan,\n  'Q'],\n [682,\n  1,\n  1,\n  'Hassab, Mr. Hammad',\n  'male',\n  27.0,\n  0,\n  0,\n  'PC 17572',\n  76.7292,\n  'D49',\n  'C'],\n [683,\n  0,\n  3,\n  'Olsvigen, Mr. Thor Anderson',\n  'male',\n  20.0,\n  0,\n  0,\n  '6563',\n  9.225,\n  nan,\n  'S'],\n [684,\n  0,\n  3,\n  'Goodwin, Mr. Charles Edward',\n  'male',\n  14.0,\n  5,\n  2,\n  'CA 2144',\n  46.9,\n  nan,\n  'S'],\n [685,\n  0,\n  2,\n  'Brown, Mr. Thomas William Solomon',\n  'male',\n  60.0,\n  1,\n  1,\n  '29750',\n  39.0,\n  nan,\n  'S'],\n [686,\n  0,\n  2,\n  'Laroche, Mr. Joseph Philippe Lemercier',\n  'male',\n  25.0,\n  1,\n  2,\n  'SC/Paris 2123',\n  41.5792,\n  nan,\n  'C'],\n [687,\n  0,\n  3,\n  'Panula, Mr. Jaako Arnold',\n  'male',\n  14.0,\n  4,\n  1,\n  '3101295',\n  39.6875,\n  nan,\n  'S'],\n [688,\n  0,\n  3,\n  'Dakic, Mr. Branko',\n  'male',\n  19.0,\n  0,\n  0,\n  '349228',\n  10.1708,\n  nan,\n  'S'],\n [689,\n  0,\n  3,\n  'Fischer, Mr. Eberhard Thelander',\n  'male',\n  18.0,\n  0,\n  0,\n  '350036',\n  7.7958,\n  nan,\n  'S'],\n [690,\n  1,\n  1,\n  'Madill, Miss. Georgette Alexandra',\n  'female',\n  15.0,\n  0,\n  1,\n  '24160',\n  211.3375,\n  'B5',\n  'S'],\n [691,\n  1,\n  1,\n  'Dick, Mr. Albert Adrian',\n  'male',\n  31.0,\n  1,\n  0,\n  '17474',\n  57.0,\n  'B20',\n  'S'],\n [692,\n  1,\n  3,\n  'Karun, Miss. Manca',\n  'female',\n  4.0,\n  0,\n  1,\n  '349256',\n  13.4167,\n  nan,\n  'C'],\n [693, 1, 3, 'Lam, Mr. Ali', 'male', nan, 0, 0, '1601', 56.4958, nan, 'S'],\n [694, 0, 3, 'Saad, Mr. Khalil', 'male', 25.0, 0, 0, '2672', 7.225, nan, 'C'],\n [695, 0, 1, 'Weir, Col. John', 'male', 60.0, 0, 0, '113800', 26.55, nan, 'S'],\n [696,\n  0,\n  2,\n  'Chapman, Mr. Charles Henry',\n  'male',\n  52.0,\n  0,\n  0,\n  '248731',\n  13.5,\n  nan,\n  'S'],\n [697, 0, 3, 'Kelly, Mr. James', 'male', 44.0, 0, 0, '363592', 8.05, nan, 'S'],\n [698,\n  1,\n  3,\n  'Mullens, Miss. Katherine \"Katie\"',\n  'female',\n  nan,\n  0,\n  0,\n  '35852',\n  7.7333,\n  nan,\n  'Q'],\n [699,\n  0,\n  1,\n  'Thayer, Mr. John Borland',\n  'male',\n  49.0,\n  1,\n  1,\n  '17421',\n  110.8833,\n  'C68',\n  'C'],\n [700,\n  0,\n  3,\n  'Humblen, Mr. Adolf Mathias Nicolai Olsen',\n  'male',\n  42.0,\n  0,\n  0,\n  '348121',\n  7.65,\n  'F G63',\n  'S'],\n [701,\n  1,\n  1,\n  'Astor, Mrs. John Jacob (Madeleine Talmadge Force)',\n  'female',\n  18.0,\n  1,\n  0,\n  'PC 17757',\n  227.525,\n  'C62 C64',\n  'C'],\n [702,\n  1,\n  1,\n  'Silverthorne, Mr. Spencer Victor',\n  'male',\n  35.0,\n  0,\n  0,\n  'PC 17475',\n  26.2875,\n  'E24',\n  'S'],\n [703,\n  0,\n  3,\n  'Barbara, Miss. Saiide',\n  'female',\n  18.0,\n  0,\n  1,\n  '2691',\n  14.4542,\n  nan,\n  'C'],\n [704,\n  0,\n  3,\n  'Gallagher, Mr. Martin',\n  'male',\n  25.0,\n  0,\n  0,\n  '36864',\n  7.7417,\n  nan,\n  'Q'],\n [705,\n  0,\n  3,\n  'Hansen, Mr. Henrik Juul',\n  'male',\n  26.0,\n  1,\n  0,\n  '350025',\n  7.8542,\n  nan,\n  'S'],\n [706,\n  0,\n  2,\n  'Morley, Mr. Henry Samuel (\"Mr Henry Marshall\")',\n  'male',\n  39.0,\n  0,\n  0,\n  '250655',\n  26.0,\n  nan,\n  'S'],\n [707,\n  1,\n  2,\n  'Kelly, Mrs. Florence \"Fannie\"',\n  'female',\n  45.0,\n  0,\n  0,\n  '223596',\n  13.5,\n  nan,\n  'S'],\n [708,\n  1,\n  1,\n  'Calderhead, Mr. Edward Pennington',\n  'male',\n  42.0,\n  0,\n  0,\n  'PC 17476',\n  26.2875,\n  'E24',\n  'S'],\n [709,\n  1,\n  1,\n  'Cleaver, Miss. Alice',\n  'female',\n  22.0,\n  0,\n  0,\n  '113781',\n  151.55,\n  nan,\n  'S'],\n [710,\n  1,\n  3,\n  'Moubarek, Master. Halim Gonios (\"William George\")',\n  'male',\n  nan,\n  1,\n  1,\n  '2661',\n  15.2458,\n  nan,\n  'C'],\n [711,\n  1,\n  1,\n  'Mayne, Mlle. Berthe Antonine (\"Mrs de Villiers\")',\n  'female',\n  24.0,\n  0,\n  0,\n  'PC 17482',\n  49.5042,\n  'C90',\n  'C'],\n [712,\n  0,\n  1,\n  'Klaber, Mr. Herman',\n  'male',\n  nan,\n  0,\n  0,\n  '113028',\n  26.55,\n  'C124',\n  'S'],\n [713,\n  1,\n  1,\n  'Taylor, Mr. Elmer Zebley',\n  'male',\n  48.0,\n  1,\n  0,\n  '19996',\n  52.0,\n  'C126',\n  'S'],\n [714,\n  0,\n  3,\n  'Larsson, Mr. August Viktor',\n  'male',\n  29.0,\n  0,\n  0,\n  '7545',\n  9.4833,\n  nan,\n  'S'],\n [715,\n  0,\n  2,\n  'Greenberg, Mr. Samuel',\n  'male',\n  52.0,\n  0,\n  0,\n  '250647',\n  13.0,\n  nan,\n  'S'],\n [716,\n  0,\n  3,\n  'Soholt, Mr. Peter Andreas Lauritz Andersen',\n  'male',\n  19.0,\n  0,\n  0,\n  '348124',\n  7.65,\n  'F G73',\n  'S'],\n [717,\n  1,\n  1,\n  'Endres, Miss. Caroline Louise',\n  'female',\n  38.0,\n  0,\n  0,\n  'PC 17757',\n  227.525,\n  'C45',\n  'C'],\n [718,\n  1,\n  2,\n  'Troutt, Miss. Edwina Celia \"Winnie\"',\n  'female',\n  27.0,\n  0,\n  0,\n  '34218',\n  10.5,\n  'E101',\n  'S'],\n [719,\n  0,\n  3,\n  'McEvoy, Mr. Michael',\n  'male',\n  nan,\n  0,\n  0,\n  '36568',\n  15.5,\n  nan,\n  'Q'],\n [720,\n  0,\n  3,\n  'Johnson, Mr. Malkolm Joackim',\n  'male',\n  33.0,\n  0,\n  0,\n  '347062',\n  7.775,\n  nan,\n  'S'],\n [721,\n  1,\n  2,\n  'Harper, Miss. Annie Jessie \"Nina\"',\n  'female',\n  6.0,\n  0,\n  1,\n  '248727',\n  33.0,\n  nan,\n  'S'],\n [722,\n  0,\n  3,\n  'Jensen, Mr. Svend Lauritz',\n  'male',\n  17.0,\n  1,\n  0,\n  '350048',\n  7.0542,\n  nan,\n  'S'],\n [723,\n  0,\n  2,\n  'Gillespie, Mr. William Henry',\n  'male',\n  34.0,\n  0,\n  0,\n  '12233',\n  13.0,\n  nan,\n  'S'],\n [724,\n  0,\n  2,\n  'Hodges, Mr. Henry Price',\n  'male',\n  50.0,\n  0,\n  0,\n  '250643',\n  13.0,\n  nan,\n  'S'],\n [725,\n  1,\n  1,\n  'Chambers, Mr. Norman Campbell',\n  'male',\n  27.0,\n  1,\n  0,\n  '113806',\n  53.1,\n  'E8',\n  'S'],\n [726,\n  0,\n  3,\n  'Oreskovic, Mr. Luka',\n  'male',\n  20.0,\n  0,\n  0,\n  '315094',\n  8.6625,\n  nan,\n  'S'],\n [727,\n  1,\n  2,\n  'Renouf, Mrs. Peter Henry (Lillian Jefferys)',\n  'female',\n  30.0,\n  3,\n  0,\n  '31027',\n  21.0,\n  nan,\n  'S'],\n [728,\n  1,\n  3,\n  'Mannion, Miss. Margareth',\n  'female',\n  nan,\n  0,\n  0,\n  '36866',\n  7.7375,\n  nan,\n  'Q'],\n [729,\n  0,\n  2,\n  'Bryhl, Mr. Kurt Arnold Gottfrid',\n  'male',\n  25.0,\n  1,\n  0,\n  '236853',\n  26.0,\n  nan,\n  'S'],\n [730,\n  0,\n  3,\n  'Ilmakangas, Miss. Pieta Sofia',\n  'female',\n  25.0,\n  1,\n  0,\n  'STON/O2. 3101271',\n  7.925,\n  nan,\n  'S'],\n [731,\n  1,\n  1,\n  'Allen, Miss. Elisabeth Walton',\n  'female',\n  29.0,\n  0,\n  0,\n  '24160',\n  211.3375,\n  'B5',\n  'S'],\n [732,\n  0,\n  3,\n  'Hassan, Mr. Houssein G N',\n  'male',\n  11.0,\n  0,\n  0,\n  '2699',\n  18.7875,\n  nan,\n  'C'],\n [733,\n  0,\n  2,\n  'Knight, Mr. Robert J',\n  'male',\n  nan,\n  0,\n  0,\n  '239855',\n  0.0,\n  nan,\n  'S'],\n [734,\n  0,\n  2,\n  'Berriman, Mr. William John',\n  'male',\n  23.0,\n  0,\n  0,\n  '28425',\n  13.0,\n  nan,\n  'S'],\n [735,\n  0,\n  2,\n  'Troupiansky, Mr. Moses Aaron',\n  'male',\n  23.0,\n  0,\n  0,\n  '233639',\n  13.0,\n  nan,\n  'S'],\n [736,\n  0,\n  3,\n  'Williams, Mr. Leslie',\n  'male',\n  28.5,\n  0,\n  0,\n  '54636',\n  16.1,\n  nan,\n  'S'],\n [737,\n  0,\n  3,\n  'Ford, Mrs. Edward (Margaret Ann Watson)',\n  'female',\n  48.0,\n  1,\n  3,\n  'W./C. 6608',\n  34.375,\n  nan,\n  'S'],\n [738,\n  1,\n  1,\n  'Lesurer, Mr. Gustave J',\n  'male',\n  35.0,\n  0,\n  0,\n  'PC 17755',\n  512.3292,\n  'B101',\n  'C'],\n [739,\n  0,\n  3,\n  'Ivanoff, Mr. Kanio',\n  'male',\n  nan,\n  0,\n  0,\n  '349201',\n  7.8958,\n  nan,\n  'S'],\n [740,\n  0,\n  3,\n  'Nankoff, Mr. Minko',\n  'male',\n  nan,\n  0,\n  0,\n  '349218',\n  7.8958,\n  nan,\n  'S'],\n [741,\n  1,\n  1,\n  'Hawksford, Mr. Walter James',\n  'male',\n  nan,\n  0,\n  0,\n  '16988',\n  30.0,\n  'D45',\n  'S'],\n [742,\n  0,\n  1,\n  'Cavendish, Mr. Tyrell William',\n  'male',\n  36.0,\n  1,\n  0,\n  '19877',\n  78.85,\n  'C46',\n  'S'],\n [743,\n  1,\n  1,\n  'Ryerson, Miss. Susan Parker \"Suzette\"',\n  'female',\n  21.0,\n  2,\n  2,\n  'PC 17608',\n  262.375,\n  'B57 B59 B63 B66',\n  'C'],\n [744,\n  0,\n  3,\n  'McNamee, Mr. Neal',\n  'male',\n  24.0,\n  1,\n  0,\n  '376566',\n  16.1,\n  nan,\n  'S'],\n [745,\n  1,\n  3,\n  'Stranden, Mr. Juho',\n  'male',\n  31.0,\n  0,\n  0,\n  'STON/O 2. 3101288',\n  7.925,\n  nan,\n  'S'],\n [746,\n  0,\n  1,\n  'Crosby, Capt. Edward Gifford',\n  'male',\n  70.0,\n  1,\n  1,\n  'WE/P 5735',\n  71.0,\n  'B22',\n  'S'],\n [747,\n  0,\n  3,\n  'Abbott, Mr. Rossmore Edward',\n  'male',\n  16.0,\n  1,\n  1,\n  'C.A. 2673',\n  20.25,\n  nan,\n  'S'],\n [748,\n  1,\n  2,\n  'Sinkkonen, Miss. Anna',\n  'female',\n  30.0,\n  0,\n  0,\n  '250648',\n  13.0,\n  nan,\n  'S'],\n [749,\n  0,\n  1,\n  'Marvin, Mr. Daniel Warner',\n  'male',\n  19.0,\n  1,\n  0,\n  '113773',\n  53.1,\n  'D30',\n  'S'],\n [750,\n  0,\n  3,\n  'Connaghton, Mr. Michael',\n  'male',\n  31.0,\n  0,\n  0,\n  '335097',\n  7.75,\n  nan,\n  'Q'],\n [751,\n  1,\n  2,\n  'Wells, Miss. Joan',\n  'female',\n  4.0,\n  1,\n  1,\n  '29103',\n  23.0,\n  nan,\n  'S'],\n [752,\n  1,\n  3,\n  'Moor, Master. Meier',\n  'male',\n  6.0,\n  0,\n  1,\n  '392096',\n  12.475,\n  'E121',\n  'S'],\n [753,\n  0,\n  3,\n  'Vande Velde, Mr. Johannes Joseph',\n  'male',\n  33.0,\n  0,\n  0,\n  '345780',\n  9.5,\n  nan,\n  'S'],\n [754,\n  0,\n  3,\n  'Jonkoff, Mr. Lalio',\n  'male',\n  23.0,\n  0,\n  0,\n  '349204',\n  7.8958,\n  nan,\n  'S'],\n [755,\n  1,\n  2,\n  'Herman, Mrs. Samuel (Jane Laver)',\n  'female',\n  48.0,\n  1,\n  2,\n  '220845',\n  65.0,\n  nan,\n  'S'],\n [756,\n  1,\n  2,\n  'Hamalainen, Master. Viljo',\n  'male',\n  0.67,\n  1,\n  1,\n  '250649',\n  14.5,\n  nan,\n  'S'],\n [757,\n  0,\n  3,\n  'Carlsson, Mr. August Sigfrid',\n  'male',\n  28.0,\n  0,\n  0,\n  '350042',\n  7.7958,\n  nan,\n  'S'],\n [758,\n  0,\n  2,\n  'Bailey, Mr. Percy Andrew',\n  'male',\n  18.0,\n  0,\n  0,\n  '29108',\n  11.5,\n  nan,\n  'S'],\n [759,\n  0,\n  3,\n  'Theobald, Mr. Thomas Leonard',\n  'male',\n  34.0,\n  0,\n  0,\n  '363294',\n  8.05,\n  nan,\n  'S'],\n [760,\n  1,\n  1,\n  'Rothes, the Countess. of (Lucy Noel Martha Dyer-Edwards)',\n  'female',\n  33.0,\n  0,\n  0,\n  '110152',\n  86.5,\n  'B77',\n  'S'],\n [761,\n  0,\n  3,\n  'Garfirth, Mr. John',\n  'male',\n  nan,\n  0,\n  0,\n  '358585',\n  14.5,\n  nan,\n  'S'],\n [762,\n  0,\n  3,\n  'Nirva, Mr. Iisakki Antino Aijo',\n  'male',\n  41.0,\n  0,\n  0,\n  'SOTON/O2 3101272',\n  7.125,\n  nan,\n  'S'],\n [763,\n  1,\n  3,\n  'Barah, Mr. Hanna Assi',\n  'male',\n  20.0,\n  0,\n  0,\n  '2663',\n  7.2292,\n  nan,\n  'C'],\n [764,\n  1,\n  1,\n  'Carter, Mrs. William Ernest (Lucile Polk)',\n  'female',\n  36.0,\n  1,\n  2,\n  '113760',\n  120.0,\n  'B96 B98',\n  'S'],\n [765,\n  0,\n  3,\n  'Eklund, Mr. Hans Linus',\n  'male',\n  16.0,\n  0,\n  0,\n  '347074',\n  7.775,\n  nan,\n  'S'],\n [766,\n  1,\n  1,\n  'Hogeboom, Mrs. John C (Anna Andrews)',\n  'female',\n  51.0,\n  1,\n  0,\n  '13502',\n  77.9583,\n  'D11',\n  'S'],\n [767,\n  0,\n  1,\n  'Brewe, Dr. Arthur Jackson',\n  'male',\n  nan,\n  0,\n  0,\n  '112379',\n  39.6,\n  nan,\n  'C'],\n [768,\n  0,\n  3,\n  'Mangan, Miss. Mary',\n  'female',\n  30.5,\n  0,\n  0,\n  '364850',\n  7.75,\n  nan,\n  'Q'],\n [769,\n  0,\n  3,\n  'Moran, Mr. Daniel J',\n  'male',\n  nan,\n  1,\n  0,\n  '371110',\n  24.15,\n  nan,\n  'Q'],\n [770,\n  0,\n  3,\n  'Gronnestad, Mr. Daniel Danielsen',\n  'male',\n  32.0,\n  0,\n  0,\n  '8471',\n  8.3625,\n  nan,\n  'S'],\n [771,\n  0,\n  3,\n  'Lievens, Mr. Rene Aime',\n  'male',\n  24.0,\n  0,\n  0,\n  '345781',\n  9.5,\n  nan,\n  'S'],\n [772,\n  0,\n  3,\n  'Jensen, Mr. Niels Peder',\n  'male',\n  48.0,\n  0,\n  0,\n  '350047',\n  7.8542,\n  nan,\n  'S'],\n [773,\n  0,\n  2,\n  'Mack, Mrs. (Mary)',\n  'female',\n  57.0,\n  0,\n  0,\n  'S.O./P.P. 3',\n  10.5,\n  'E77',\n  'S'],\n [774, 0, 3, 'Elias, Mr. Dibo', 'male', nan, 0, 0, '2674', 7.225, nan, 'C'],\n [775,\n  1,\n  2,\n  'Hocking, Mrs. Elizabeth (Eliza Needs)',\n  'female',\n  54.0,\n  1,\n  3,\n  '29105',\n  23.0,\n  nan,\n  'S'],\n [776,\n  0,\n  3,\n  'Myhrman, Mr. Pehr Fabian Oliver Malkolm',\n  'male',\n  18.0,\n  0,\n  0,\n  '347078',\n  7.75,\n  nan,\n  'S'],\n [777,\n  0,\n  3,\n  'Tobin, Mr. Roger',\n  'male',\n  nan,\n  0,\n  0,\n  '383121',\n  7.75,\n  'F38',\n  'Q'],\n [778,\n  1,\n  3,\n  'Emanuel, Miss. Virginia Ethel',\n  'female',\n  5.0,\n  0,\n  0,\n  '364516',\n  12.475,\n  nan,\n  'S'],\n [779,\n  0,\n  3,\n  'Kilgannon, Mr. Thomas J',\n  'male',\n  nan,\n  0,\n  0,\n  '36865',\n  7.7375,\n  nan,\n  'Q'],\n [780,\n  1,\n  1,\n  'Robert, Mrs. Edward Scott (Elisabeth Walton McMillan)',\n  'female',\n  43.0,\n  0,\n  1,\n  '24160',\n  211.3375,\n  'B3',\n  'S'],\n [781,\n  1,\n  3,\n  'Ayoub, Miss. Banoura',\n  'female',\n  13.0,\n  0,\n  0,\n  '2687',\n  7.2292,\n  nan,\n  'C'],\n [782,\n  1,\n  1,\n  'Dick, Mrs. Albert Adrian (Vera Gillespie)',\n  'female',\n  17.0,\n  1,\n  0,\n  '17474',\n  57.0,\n  'B20',\n  'S'],\n [783,\n  0,\n  1,\n  'Long, Mr. Milton Clyde',\n  'male',\n  29.0,\n  0,\n  0,\n  '113501',\n  30.0,\n  'D6',\n  'S'],\n [784,\n  0,\n  3,\n  'Johnston, Mr. Andrew G',\n  'male',\n  nan,\n  1,\n  2,\n  'W./C. 6607',\n  23.45,\n  nan,\n  'S'],\n [785,\n  0,\n  3,\n  'Ali, Mr. William',\n  'male',\n  25.0,\n  0,\n  0,\n  'SOTON/O.Q. 3101312',\n  7.05,\n  nan,\n  'S'],\n [786,\n  0,\n  3,\n  'Harmer, Mr. Abraham (David Lishin)',\n  'male',\n  25.0,\n  0,\n  0,\n  '374887',\n  7.25,\n  nan,\n  'S'],\n [787,\n  1,\n  3,\n  'Sjoblom, Miss. Anna Sofia',\n  'female',\n  18.0,\n  0,\n  0,\n  '3101265',\n  7.4958,\n  nan,\n  'S'],\n [788,\n  0,\n  3,\n  'Rice, Master. George Hugh',\n  'male',\n  8.0,\n  4,\n  1,\n  '382652',\n  29.125,\n  nan,\n  'Q'],\n [789,\n  1,\n  3,\n  'Dean, Master. Bertram Vere',\n  'male',\n  1.0,\n  1,\n  2,\n  'C.A. 2315',\n  20.575,\n  nan,\n  'S'],\n [790,\n  0,\n  1,\n  'Guggenheim, Mr. Benjamin',\n  'male',\n  46.0,\n  0,\n  0,\n  'PC 17593',\n  79.2,\n  'B82 B84',\n  'C'],\n [791,\n  0,\n  3,\n  'Keane, Mr. Andrew \"Andy\"',\n  'male',\n  nan,\n  0,\n  0,\n  '12460',\n  7.75,\n  nan,\n  'Q'],\n [792,\n  0,\n  2,\n  'Gaskell, Mr. Alfred',\n  'male',\n  16.0,\n  0,\n  0,\n  '239865',\n  26.0,\n  nan,\n  'S'],\n [793,\n  0,\n  3,\n  'Sage, Miss. Stella Anna',\n  'female',\n  nan,\n  8,\n  2,\n  'CA. 2343',\n  69.55,\n  nan,\n  'S'],\n [794,\n  0,\n  1,\n  'Hoyt, Mr. William Fisher',\n  'male',\n  nan,\n  0,\n  0,\n  'PC 17600',\n  30.6958,\n  nan,\n  'C'],\n [795,\n  0,\n  3,\n  'Dantcheff, Mr. Ristiu',\n  'male',\n  25.0,\n  0,\n  0,\n  '349203',\n  7.8958,\n  nan,\n  'S'],\n [796,\n  0,\n  2,\n  'Otter, Mr. Richard',\n  'male',\n  39.0,\n  0,\n  0,\n  '28213',\n  13.0,\n  nan,\n  'S'],\n [797,\n  1,\n  1,\n  'Leader, Dr. Alice (Farnham)',\n  'female',\n  49.0,\n  0,\n  0,\n  '17465',\n  25.9292,\n  'D17',\n  'S'],\n [798,\n  1,\n  3,\n  'Osman, Mrs. Mara',\n  'female',\n  31.0,\n  0,\n  0,\n  '349244',\n  8.6833,\n  nan,\n  'S'],\n [799,\n  0,\n  3,\n  'Ibrahim Shawah, Mr. Yousseff',\n  'male',\n  30.0,\n  0,\n  0,\n  '2685',\n  7.2292,\n  nan,\n  'C'],\n [800,\n  0,\n  3,\n  'Van Impe, Mrs. Jean Baptiste (Rosalie Paula Govaert)',\n  'female',\n  30.0,\n  1,\n  1,\n  '345773',\n  24.15,\n  nan,\n  'S'],\n [801,\n  0,\n  2,\n  'Ponesell, Mr. Martin',\n  'male',\n  34.0,\n  0,\n  0,\n  '250647',\n  13.0,\n  nan,\n  'S'],\n [802,\n  1,\n  2,\n  'Collyer, Mrs. Harvey (Charlotte Annie Tate)',\n  'female',\n  31.0,\n  1,\n  1,\n  'C.A. 31921',\n  26.25,\n  nan,\n  'S'],\n [803,\n  1,\n  1,\n  'Carter, Master. William Thornton II',\n  'male',\n  11.0,\n  1,\n  2,\n  '113760',\n  120.0,\n  'B96 B98',\n  'S'],\n [804,\n  1,\n  3,\n  'Thomas, Master. Assad Alexander',\n  'male',\n  0.42,\n  0,\n  1,\n  '2625',\n  8.5167,\n  nan,\n  'C'],\n [805,\n  1,\n  3,\n  'Hedman, Mr. Oskar Arvid',\n  'male',\n  27.0,\n  0,\n  0,\n  '347089',\n  6.975,\n  nan,\n  'S'],\n [806,\n  0,\n  3,\n  'Johansson, Mr. Karl Johan',\n  'male',\n  31.0,\n  0,\n  0,\n  '347063',\n  7.775,\n  nan,\n  'S'],\n [807,\n  0,\n  1,\n  'Andrews, Mr. Thomas Jr',\n  'male',\n  39.0,\n  0,\n  0,\n  '112050',\n  0.0,\n  'A36',\n  'S'],\n [808,\n  0,\n  3,\n  'Pettersson, Miss. Ellen Natalia',\n  'female',\n  18.0,\n  0,\n  0,\n  '347087',\n  7.775,\n  nan,\n  'S'],\n [809,\n  0,\n  2,\n  'Meyer, Mr. August',\n  'male',\n  39.0,\n  0,\n  0,\n  '248723',\n  13.0,\n  nan,\n  'S'],\n [810,\n  1,\n  1,\n  'Chambers, Mrs. Norman Campbell (Bertha Griggs)',\n  'female',\n  33.0,\n  1,\n  0,\n  '113806',\n  53.1,\n  'E8',\n  'S'],\n [811,\n  0,\n  3,\n  'Alexander, Mr. William',\n  'male',\n  26.0,\n  0,\n  0,\n  '3474',\n  7.8875,\n  nan,\n  'S'],\n [812,\n  0,\n  3,\n  'Lester, Mr. James',\n  'male',\n  39.0,\n  0,\n  0,\n  'A/4 48871',\n  24.15,\n  nan,\n  'S'],\n [813,\n  0,\n  2,\n  'Slemen, Mr. Richard James',\n  'male',\n  35.0,\n  0,\n  0,\n  '28206',\n  10.5,\n  nan,\n  'S'],\n [814,\n  0,\n  3,\n  'Andersson, Miss. Ebba Iris Alfrida',\n  'female',\n  6.0,\n  4,\n  2,\n  '347082',\n  31.275,\n  nan,\n  'S'],\n [815,\n  0,\n  3,\n  'Tomlin, Mr. Ernest Portage',\n  'male',\n  30.5,\n  0,\n  0,\n  '364499',\n  8.05,\n  nan,\n  'S'],\n [816,\n  0,\n  1,\n  'Fry, Mr. Richard',\n  'male',\n  nan,\n  0,\n  0,\n  '112058',\n  0.0,\n  'B102',\n  'S'],\n [817,\n  0,\n  3,\n  'Heininen, Miss. Wendla Maria',\n  'female',\n  23.0,\n  0,\n  0,\n  'STON/O2. 3101290',\n  7.925,\n  nan,\n  'S'],\n [818,\n  0,\n  2,\n  'Mallet, Mr. Albert',\n  'male',\n  31.0,\n  1,\n  1,\n  'S.C./PARIS 2079',\n  37.0042,\n  nan,\n  'C'],\n [819,\n  0,\n  3,\n  'Holm, Mr. John Fredrik Alexander',\n  'male',\n  43.0,\n  0,\n  0,\n  'C 7075',\n  6.45,\n  nan,\n  'S'],\n [820,\n  0,\n  3,\n  'Skoog, Master. Karl Thorsten',\n  'male',\n  10.0,\n  3,\n  2,\n  '347088',\n  27.9,\n  nan,\n  'S'],\n [821,\n  1,\n  1,\n  'Hays, Mrs. Charles Melville (Clara Jennings Gregg)',\n  'female',\n  52.0,\n  1,\n  1,\n  '12749',\n  93.5,\n  'B69',\n  'S'],\n [822,\n  1,\n  3,\n  'Lulic, Mr. Nikola',\n  'male',\n  27.0,\n  0,\n  0,\n  '315098',\n  8.6625,\n  nan,\n  'S'],\n [823,\n  0,\n  1,\n  'Reuchlin, Jonkheer. John George',\n  'male',\n  38.0,\n  0,\n  0,\n  '19972',\n  0.0,\n  nan,\n  'S'],\n [824,\n  1,\n  3,\n  'Moor, Mrs. (Beila)',\n  'female',\n  27.0,\n  0,\n  1,\n  '392096',\n  12.475,\n  'E121',\n  'S'],\n [825,\n  0,\n  3,\n  'Panula, Master. Urho Abraham',\n  'male',\n  2.0,\n  4,\n  1,\n  '3101295',\n  39.6875,\n  nan,\n  'S'],\n [826, 0, 3, 'Flynn, Mr. John', 'male', nan, 0, 0, '368323', 6.95, nan, 'Q'],\n [827, 0, 3, 'Lam, Mr. Len', 'male', nan, 0, 0, '1601', 56.4958, nan, 'S'],\n [828,\n  1,\n  2,\n  'Mallet, Master. Andre',\n  'male',\n  1.0,\n  0,\n  2,\n  'S.C./PARIS 2079',\n  37.0042,\n  nan,\n  'C'],\n [829,\n  1,\n  3,\n  'McCormack, Mr. Thomas Joseph',\n  'male',\n  nan,\n  0,\n  0,\n  '367228',\n  7.75,\n  nan,\n  'Q'],\n [830,\n  1,\n  1,\n  'Stone, Mrs. George Nelson (Martha Evelyn)',\n  'female',\n  62.0,\n  0,\n  0,\n  '113572',\n  80.0,\n  'B28',\n  nan],\n [831,\n  1,\n  3,\n  'Yasbeck, Mrs. Antoni (Selini Alexander)',\n  'female',\n  15.0,\n  1,\n  0,\n  '2659',\n  14.4542,\n  nan,\n  'C'],\n [832,\n  1,\n  2,\n  'Richards, Master. George Sibley',\n  'male',\n  0.83,\n  1,\n  1,\n  '29106',\n  18.75,\n  nan,\n  'S'],\n [833, 0, 3, 'Saad, Mr. Amin', 'male', nan, 0, 0, '2671', 7.2292, nan, 'C'],\n [834,\n  0,\n  3,\n  'Augustsson, Mr. Albert',\n  'male',\n  23.0,\n  0,\n  0,\n  '347468',\n  7.8542,\n  nan,\n  'S'],\n [835,\n  0,\n  3,\n  'Allum, Mr. Owen George',\n  'male',\n  18.0,\n  0,\n  0,\n  '2223',\n  8.3,\n  nan,\n  'S'],\n [836,\n  1,\n  1,\n  'Compton, Miss. Sara Rebecca',\n  'female',\n  39.0,\n  1,\n  1,\n  'PC 17756',\n  83.1583,\n  'E49',\n  'C'],\n [837,\n  0,\n  3,\n  'Pasic, Mr. Jakob',\n  'male',\n  21.0,\n  0,\n  0,\n  '315097',\n  8.6625,\n  nan,\n  'S'],\n [838,\n  0,\n  3,\n  'Sirota, Mr. Maurice',\n  'male',\n  nan,\n  0,\n  0,\n  '392092',\n  8.05,\n  nan,\n  'S'],\n [839, 1, 3, 'Chip, Mr. Chang', 'male', 32.0, 0, 0, '1601', 56.4958, nan, 'S'],\n [840,\n  1,\n  1,\n  'Marechal, Mr. Pierre',\n  'male',\n  nan,\n  0,\n  0,\n  '11774',\n  29.7,\n  'C47',\n  'C'],\n [841,\n  0,\n  3,\n  'Alhomaki, Mr. Ilmari Rudolf',\n  'male',\n  20.0,\n  0,\n  0,\n  'SOTON/O2 3101287',\n  7.925,\n  nan,\n  'S'],\n [842,\n  0,\n  2,\n  'Mudd, Mr. Thomas Charles',\n  'male',\n  16.0,\n  0,\n  0,\n  'S.O./P.P. 3',\n  10.5,\n  nan,\n  'S'],\n [843,\n  1,\n  1,\n  'Serepeca, Miss. Augusta',\n  'female',\n  30.0,\n  0,\n  0,\n  '113798',\n  31.0,\n  nan,\n  'C'],\n [844,\n  0,\n  3,\n  'Lemberopolous, Mr. Peter L',\n  'male',\n  34.5,\n  0,\n  0,\n  '2683',\n  6.4375,\n  nan,\n  'C'],\n [845,\n  0,\n  3,\n  'Culumovic, Mr. Jeso',\n  'male',\n  17.0,\n  0,\n  0,\n  '315090',\n  8.6625,\n  nan,\n  'S'],\n [846,\n  0,\n  3,\n  'Abbing, Mr. Anthony',\n  'male',\n  42.0,\n  0,\n  0,\n  'C.A. 5547',\n  7.55,\n  nan,\n  'S'],\n [847,\n  0,\n  3,\n  'Sage, Mr. Douglas Bullen',\n  'male',\n  nan,\n  8,\n  2,\n  'CA. 2343',\n  69.55,\n  nan,\n  'S'],\n [848,\n  0,\n  3,\n  'Markoff, Mr. Marin',\n  'male',\n  35.0,\n  0,\n  0,\n  '349213',\n  7.8958,\n  nan,\n  'C'],\n [849,\n  0,\n  2,\n  'Harper, Rev. John',\n  'male',\n  28.0,\n  0,\n  1,\n  '248727',\n  33.0,\n  nan,\n  'S'],\n [850,\n  1,\n  1,\n  'Goldenberg, Mrs. Samuel L (Edwiga Grabowska)',\n  'female',\n  nan,\n  1,\n  0,\n  '17453',\n  89.1042,\n  'C92',\n  'C'],\n [851,\n  0,\n  3,\n  'Andersson, Master. Sigvard Harald Elias',\n  'male',\n  4.0,\n  4,\n  2,\n  '347082',\n  31.275,\n  nan,\n  'S'],\n [852,\n  0,\n  3,\n  'Svensson, Mr. Johan',\n  'male',\n  74.0,\n  0,\n  0,\n  '347060',\n  7.775,\n  nan,\n  'S'],\n [853,\n  0,\n  3,\n  'Boulos, Miss. Nourelain',\n  'female',\n  9.0,\n  1,\n  1,\n  '2678',\n  15.2458,\n  nan,\n  'C'],\n [854,\n  1,\n  1,\n  'Lines, Miss. Mary Conover',\n  'female',\n  16.0,\n  0,\n  1,\n  'PC 17592',\n  39.4,\n  'D28',\n  'S'],\n [855,\n  0,\n  2,\n  'Carter, Mrs. Ernest Courtenay (Lilian Hughes)',\n  'female',\n  44.0,\n  1,\n  0,\n  '244252',\n  26.0,\n  nan,\n  'S'],\n [856,\n  1,\n  3,\n  'Aks, Mrs. Sam (Leah Rosen)',\n  'female',\n  18.0,\n  0,\n  1,\n  '392091',\n  9.35,\n  nan,\n  'S'],\n [857,\n  1,\n  1,\n  'Wick, Mrs. George Dennick (Mary Hitchcock)',\n  'female',\n  45.0,\n  1,\n  1,\n  '36928',\n  164.8667,\n  nan,\n  'S'],\n [858,\n  1,\n  1,\n  'Daly, Mr. Peter Denis ',\n  'male',\n  51.0,\n  0,\n  0,\n  '113055',\n  26.55,\n  'E17',\n  'S'],\n [859,\n  1,\n  3,\n  'Baclini, Mrs. Solomon (Latifa Qurban)',\n  'female',\n  24.0,\n  0,\n  3,\n  '2666',\n  19.2583,\n  nan,\n  'C'],\n [860, 0, 3, 'Razi, Mr. Raihed', 'male', nan, 0, 0, '2629', 7.2292, nan, 'C'],\n [861,\n  0,\n  3,\n  'Hansen, Mr. Claus Peter',\n  'male',\n  41.0,\n  2,\n  0,\n  '350026',\n  14.1083,\n  nan,\n  'S'],\n [862,\n  0,\n  2,\n  'Giles, Mr. Frederick Edward',\n  'male',\n  21.0,\n  1,\n  0,\n  '28134',\n  11.5,\n  nan,\n  'S'],\n [863,\n  1,\n  1,\n  'Swift, Mrs. Frederick Joel (Margaret Welles Barron)',\n  'female',\n  48.0,\n  0,\n  0,\n  '17466',\n  25.9292,\n  'D17',\n  'S'],\n [864,\n  0,\n  3,\n  'Sage, Miss. Dorothy Edith \"Dolly\"',\n  'female',\n  nan,\n  8,\n  2,\n  'CA. 2343',\n  69.55,\n  nan,\n  'S'],\n [865,\n  0,\n  2,\n  'Gill, Mr. John William',\n  'male',\n  24.0,\n  0,\n  0,\n  '233866',\n  13.0,\n  nan,\n  'S'],\n [866,\n  1,\n  2,\n  'Bystrom, Mrs. (Karolina)',\n  'female',\n  42.0,\n  0,\n  0,\n  '236852',\n  13.0,\n  nan,\n  'S'],\n [867,\n  1,\n  2,\n  'Duran y More, Miss. Asuncion',\n  'female',\n  27.0,\n  1,\n  0,\n  'SC/PARIS 2149',\n  13.8583,\n  nan,\n  'C'],\n [868,\n  0,\n  1,\n  'Roebling, Mr. Washington Augustus II',\n  'male',\n  31.0,\n  0,\n  0,\n  'PC 17590',\n  50.4958,\n  'A24',\n  'S'],\n [869,\n  0,\n  3,\n  'van Melkebeke, Mr. Philemon',\n  'male',\n  nan,\n  0,\n  0,\n  '345777',\n  9.5,\n  nan,\n  'S'],\n [870,\n  1,\n  3,\n  'Johnson, Master. Harold Theodor',\n  'male',\n  4.0,\n  1,\n  1,\n  '347742',\n  11.1333,\n  nan,\n  'S'],\n [871,\n  0,\n  3,\n  'Balkic, Mr. Cerin',\n  'male',\n  26.0,\n  0,\n  0,\n  '349248',\n  7.8958,\n  nan,\n  'S'],\n [872,\n  1,\n  1,\n  'Beckwith, Mrs. Richard Leonard (Sallie Monypeny)',\n  'female',\n  47.0,\n  1,\n  1,\n  '11751',\n  52.5542,\n  'D35',\n  'S'],\n [873,\n  0,\n  1,\n  'Carlsson, Mr. Frans Olof',\n  'male',\n  33.0,\n  0,\n  0,\n  '695',\n  5.0,\n  'B51 B53 B55',\n  'S'],\n [874,\n  0,\n  3,\n  'Vander Cruyssen, Mr. Victor',\n  'male',\n  47.0,\n  0,\n  0,\n  '345765',\n  9.0,\n  nan,\n  'S'],\n [875,\n  1,\n  2,\n  'Abelson, Mrs. Samuel (Hannah Wizosky)',\n  'female',\n  28.0,\n  1,\n  0,\n  'P/PP 3381',\n  24.0,\n  nan,\n  'C'],\n [876,\n  1,\n  3,\n  'Najib, Miss. Adele Kiamie \"Jane\"',\n  'female',\n  15.0,\n  0,\n  0,\n  '2667',\n  7.225,\n  nan,\n  'C'],\n [877,\n  0,\n  3,\n  'Gustafsson, Mr. Alfred Ossian',\n  'male',\n  20.0,\n  0,\n  0,\n  '7534',\n  9.8458,\n  nan,\n  'S'],\n [878,\n  0,\n  3,\n  'Petroff, Mr. Nedelio',\n  'male',\n  19.0,\n  0,\n  0,\n  '349212',\n  7.8958,\n  nan,\n  'S'],\n [879,\n  0,\n  3,\n  'Laleff, Mr. Kristo',\n  'male',\n  nan,\n  0,\n  0,\n  '349217',\n  7.8958,\n  nan,\n  'S'],\n [880,\n  1,\n  1,\n  'Potter, Mrs. Thomas Jr (Lily Alexenia Wilson)',\n  'female',\n  56.0,\n  0,\n  1,\n  '11767',\n  83.1583,\n  'C50',\n  'C'],\n [881,\n  1,\n  2,\n  'Shelley, Mrs. William (Imanita Parrish Hall)',\n  'female',\n  25.0,\n  0,\n  1,\n  '230433',\n  26.0,\n  nan,\n  'S'],\n [882,\n  0,\n  3,\n  'Markun, Mr. Johann',\n  'male',\n  33.0,\n  0,\n  0,\n  '349257',\n  7.8958,\n  nan,\n  'S'],\n [883,\n  0,\n  3,\n  'Dahlberg, Miss. Gerda Ulrika',\n  'female',\n  22.0,\n  0,\n  0,\n  '7552',\n  10.5167,\n  nan,\n  'S'],\n [884,\n  0,\n  2,\n  'Banfield, Mr. Frederick James',\n  'male',\n  28.0,\n  0,\n  0,\n  'C.A./SOTON 34068',\n  10.5,\n  nan,\n  'S'],\n [885,\n  0,\n  3,\n  'Sutehall, Mr. Henry Jr',\n  'male',\n  25.0,\n  0,\n  0,\n  'SOTON/OQ 392076',\n  7.05,\n  nan,\n  'S'],\n [886,\n  0,\n  3,\n  'Rice, Mrs. William (Margaret Norton)',\n  'female',\n  39.0,\n  0,\n  5,\n  '382652',\n  29.125,\n  nan,\n  'Q'],\n [887,\n  0,\n  2,\n  'Montvila, Rev. Juozas',\n  'male',\n  27.0,\n  0,\n  0,\n  '211536',\n  13.0,\n  nan,\n  'S'],\n [888,\n  1,\n  1,\n  'Graham, Miss. Margaret Edith',\n  'female',\n  19.0,\n  0,\n  0,\n  '112053',\n  30.0,\n  'B42',\n  'S'],\n [889,\n  0,\n  3,\n  'Johnston, Miss. Catherine Helen \"Carrie\"',\n  'female',\n  nan,\n  1,\n  2,\n  'W./C. 6607',\n  23.45,\n  nan,\n  'S'],\n [890,\n  1,\n  1,\n  'Behr, Mr. Karl Howell',\n  'male',\n  26.0,\n  0,\n  0,\n  '111369',\n  30.0,\n  'C148',\n  'C'],\n [891,\n  0,\n  3,\n  'Dooley, Mr. Patrick',\n  'male',\n  32.0,\n  0,\n  0,\n  '370376',\n  7.75,\n  nan,\n  'Q']]"
     },
     "execution_count": 23,
     "metadata": {},
     "output_type": "execute_result"
    }
   ]
  },
  {
   "cell_type": "markdown",
   "source": [
    " ## 5. Inserting and Deleting Rows and Columns"
   ],
   "metadata": {
    "id": "mGbPfQJEc5pl"
   }
  },
  {
   "cell_type": "code",
   "source": [
    "df = pd.read_csv('https://raw.githubusercontent.com/agconti/kaggle-titanic/master/data/train.csv')\n",
    "df.head()"
   ],
   "metadata": {
    "id": "mGAC-9rSc7Qd",
    "colab": {
     "base_uri": "https://localhost:8080/",
     "height": 389
    },
    "outputId": "337da69a-cf6d-4af4-fc40-9c9fa9e1d32b",
    "ExecuteTime": {
     "end_time": "2023-10-21T11:17:17.417663Z",
     "start_time": "2023-10-21T11:17:17.270841Z"
    }
   },
   "execution_count": 24,
   "outputs": [
    {
     "data": {
      "text/plain": "   PassengerId  Survived  Pclass  \\\n0            1         0       3   \n1            2         1       1   \n2            3         1       3   \n3            4         1       1   \n4            5         0       3   \n\n                                                Name     Sex   Age  SibSp  \\\n0                            Braund, Mr. Owen Harris    male  22.0      1   \n1  Cumings, Mrs. John Bradley (Florence Briggs Th...  female  38.0      1   \n2                             Heikkinen, Miss. Laina  female  26.0      0   \n3       Futrelle, Mrs. Jacques Heath (Lily May Peel)  female  35.0      1   \n4                           Allen, Mr. William Henry    male  35.0      0   \n\n   Parch            Ticket     Fare Cabin Embarked  \n0      0         A/5 21171   7.2500   NaN        S  \n1      0          PC 17599  71.2833   C85        C  \n2      0  STON/O2. 3101282   7.9250   NaN        S  \n3      0            113803  53.1000  C123        S  \n4      0            373450   8.0500   NaN        S  ",
      "text/html": "<div>\n<style scoped>\n    .dataframe tbody tr th:only-of-type {\n        vertical-align: middle;\n    }\n\n    .dataframe tbody tr th {\n        vertical-align: top;\n    }\n\n    .dataframe thead th {\n        text-align: right;\n    }\n</style>\n<table border=\"1\" class=\"dataframe\">\n  <thead>\n    <tr style=\"text-align: right;\">\n      <th></th>\n      <th>PassengerId</th>\n      <th>Survived</th>\n      <th>Pclass</th>\n      <th>Name</th>\n      <th>Sex</th>\n      <th>Age</th>\n      <th>SibSp</th>\n      <th>Parch</th>\n      <th>Ticket</th>\n      <th>Fare</th>\n      <th>Cabin</th>\n      <th>Embarked</th>\n    </tr>\n  </thead>\n  <tbody>\n    <tr>\n      <th>0</th>\n      <td>1</td>\n      <td>0</td>\n      <td>3</td>\n      <td>Braund, Mr. Owen Harris</td>\n      <td>male</td>\n      <td>22.0</td>\n      <td>1</td>\n      <td>0</td>\n      <td>A/5 21171</td>\n      <td>7.2500</td>\n      <td>NaN</td>\n      <td>S</td>\n    </tr>\n    <tr>\n      <th>1</th>\n      <td>2</td>\n      <td>1</td>\n      <td>1</td>\n      <td>Cumings, Mrs. John Bradley (Florence Briggs Th...</td>\n      <td>female</td>\n      <td>38.0</td>\n      <td>1</td>\n      <td>0</td>\n      <td>PC 17599</td>\n      <td>71.2833</td>\n      <td>C85</td>\n      <td>C</td>\n    </tr>\n    <tr>\n      <th>2</th>\n      <td>3</td>\n      <td>1</td>\n      <td>3</td>\n      <td>Heikkinen, Miss. Laina</td>\n      <td>female</td>\n      <td>26.0</td>\n      <td>0</td>\n      <td>0</td>\n      <td>STON/O2. 3101282</td>\n      <td>7.9250</td>\n      <td>NaN</td>\n      <td>S</td>\n    </tr>\n    <tr>\n      <th>3</th>\n      <td>4</td>\n      <td>1</td>\n      <td>1</td>\n      <td>Futrelle, Mrs. Jacques Heath (Lily May Peel)</td>\n      <td>female</td>\n      <td>35.0</td>\n      <td>1</td>\n      <td>0</td>\n      <td>113803</td>\n      <td>53.1000</td>\n      <td>C123</td>\n      <td>S</td>\n    </tr>\n    <tr>\n      <th>4</th>\n      <td>5</td>\n      <td>0</td>\n      <td>3</td>\n      <td>Allen, Mr. William Henry</td>\n      <td>male</td>\n      <td>35.0</td>\n      <td>0</td>\n      <td>0</td>\n      <td>373450</td>\n      <td>8.0500</td>\n      <td>NaN</td>\n      <td>S</td>\n    </tr>\n  </tbody>\n</table>\n</div>"
     },
     "execution_count": 24,
     "metadata": {},
     "output_type": "execute_result"
    }
   ]
  },
  {
   "cell_type": "code",
   "source": [
    "first = lambda x: x[0]\n",
    "def getFirstName(df):\n",
    "  return df.Name.str.replace(',','').str.split().apply(first)\n",
    "\n",
    "df2 = df.copy()\n",
    "df2['FirstName'] = getFirstName(df)\n",
    "df2.head()"
   ],
   "metadata": {
    "colab": {
     "base_uri": "https://localhost:8080/",
     "height": 548
    },
    "id": "Ga-OxubdN2yi",
    "outputId": "f6a3a70a-e089-46f0-83c2-655b15f7f800",
    "ExecuteTime": {
     "end_time": "2023-10-21T11:18:25.718649Z",
     "start_time": "2023-10-21T11:18:25.500674Z"
    }
   },
   "execution_count": 25,
   "outputs": [
    {
     "data": {
      "text/plain": "   PassengerId  Survived  Pclass  \\\n0            1         0       3   \n1            2         1       1   \n2            3         1       3   \n3            4         1       1   \n4            5         0       3   \n\n                                                Name     Sex   Age  SibSp  \\\n0                            Braund, Mr. Owen Harris    male  22.0      1   \n1  Cumings, Mrs. John Bradley (Florence Briggs Th...  female  38.0      1   \n2                             Heikkinen, Miss. Laina  female  26.0      0   \n3       Futrelle, Mrs. Jacques Heath (Lily May Peel)  female  35.0      1   \n4                           Allen, Mr. William Henry    male  35.0      0   \n\n   Parch            Ticket     Fare Cabin Embarked  FirstName  \n0      0         A/5 21171   7.2500   NaN        S     Braund  \n1      0          PC 17599  71.2833   C85        C    Cumings  \n2      0  STON/O2. 3101282   7.9250   NaN        S  Heikkinen  \n3      0            113803  53.1000  C123        S   Futrelle  \n4      0            373450   8.0500   NaN        S      Allen  ",
      "text/html": "<div>\n<style scoped>\n    .dataframe tbody tr th:only-of-type {\n        vertical-align: middle;\n    }\n\n    .dataframe tbody tr th {\n        vertical-align: top;\n    }\n\n    .dataframe thead th {\n        text-align: right;\n    }\n</style>\n<table border=\"1\" class=\"dataframe\">\n  <thead>\n    <tr style=\"text-align: right;\">\n      <th></th>\n      <th>PassengerId</th>\n      <th>Survived</th>\n      <th>Pclass</th>\n      <th>Name</th>\n      <th>Sex</th>\n      <th>Age</th>\n      <th>SibSp</th>\n      <th>Parch</th>\n      <th>Ticket</th>\n      <th>Fare</th>\n      <th>Cabin</th>\n      <th>Embarked</th>\n      <th>FirstName</th>\n    </tr>\n  </thead>\n  <tbody>\n    <tr>\n      <th>0</th>\n      <td>1</td>\n      <td>0</td>\n      <td>3</td>\n      <td>Braund, Mr. Owen Harris</td>\n      <td>male</td>\n      <td>22.0</td>\n      <td>1</td>\n      <td>0</td>\n      <td>A/5 21171</td>\n      <td>7.2500</td>\n      <td>NaN</td>\n      <td>S</td>\n      <td>Braund</td>\n    </tr>\n    <tr>\n      <th>1</th>\n      <td>2</td>\n      <td>1</td>\n      <td>1</td>\n      <td>Cumings, Mrs. John Bradley (Florence Briggs Th...</td>\n      <td>female</td>\n      <td>38.0</td>\n      <td>1</td>\n      <td>0</td>\n      <td>PC 17599</td>\n      <td>71.2833</td>\n      <td>C85</td>\n      <td>C</td>\n      <td>Cumings</td>\n    </tr>\n    <tr>\n      <th>2</th>\n      <td>3</td>\n      <td>1</td>\n      <td>3</td>\n      <td>Heikkinen, Miss. Laina</td>\n      <td>female</td>\n      <td>26.0</td>\n      <td>0</td>\n      <td>0</td>\n      <td>STON/O2. 3101282</td>\n      <td>7.9250</td>\n      <td>NaN</td>\n      <td>S</td>\n      <td>Heikkinen</td>\n    </tr>\n    <tr>\n      <th>3</th>\n      <td>4</td>\n      <td>1</td>\n      <td>1</td>\n      <td>Futrelle, Mrs. Jacques Heath (Lily May Peel)</td>\n      <td>female</td>\n      <td>35.0</td>\n      <td>1</td>\n      <td>0</td>\n      <td>113803</td>\n      <td>53.1000</td>\n      <td>C123</td>\n      <td>S</td>\n      <td>Futrelle</td>\n    </tr>\n    <tr>\n      <th>4</th>\n      <td>5</td>\n      <td>0</td>\n      <td>3</td>\n      <td>Allen, Mr. William Henry</td>\n      <td>male</td>\n      <td>35.0</td>\n      <td>0</td>\n      <td>0</td>\n      <td>373450</td>\n      <td>8.0500</td>\n      <td>NaN</td>\n      <td>S</td>\n      <td>Allen</td>\n    </tr>\n  </tbody>\n</table>\n</div>"
     },
     "execution_count": 25,
     "metadata": {},
     "output_type": "execute_result"
    }
   ]
  },
  {
   "cell_type": "code",
   "source": [
    "df3 = df.copy()\n",
    "df3.insert(3, 'FirstName', getFirstName(df))\n",
    "df3.head()"
   ],
   "metadata": {
    "colab": {
     "base_uri": "https://localhost:8080/",
     "height": 548
    },
    "id": "ts5V_w_NPMmS",
    "outputId": "fa2a97a5-46c7-4f46-f692-215ea02f3ff5",
    "ExecuteTime": {
     "end_time": "2023-10-21T11:19:32.842217Z",
     "start_time": "2023-10-21T11:19:32.681938Z"
    }
   },
   "execution_count": 26,
   "outputs": [
    {
     "data": {
      "text/plain": "   PassengerId  Survived  Pclass  FirstName  \\\n0            1         0       3     Braund   \n1            2         1       1    Cumings   \n2            3         1       3  Heikkinen   \n3            4         1       1   Futrelle   \n4            5         0       3      Allen   \n\n                                                Name     Sex   Age  SibSp  \\\n0                            Braund, Mr. Owen Harris    male  22.0      1   \n1  Cumings, Mrs. John Bradley (Florence Briggs Th...  female  38.0      1   \n2                             Heikkinen, Miss. Laina  female  26.0      0   \n3       Futrelle, Mrs. Jacques Heath (Lily May Peel)  female  35.0      1   \n4                           Allen, Mr. William Henry    male  35.0      0   \n\n   Parch            Ticket     Fare Cabin Embarked  \n0      0         A/5 21171   7.2500   NaN        S  \n1      0          PC 17599  71.2833   C85        C  \n2      0  STON/O2. 3101282   7.9250   NaN        S  \n3      0            113803  53.1000  C123        S  \n4      0            373450   8.0500   NaN        S  ",
      "text/html": "<div>\n<style scoped>\n    .dataframe tbody tr th:only-of-type {\n        vertical-align: middle;\n    }\n\n    .dataframe tbody tr th {\n        vertical-align: top;\n    }\n\n    .dataframe thead th {\n        text-align: right;\n    }\n</style>\n<table border=\"1\" class=\"dataframe\">\n  <thead>\n    <tr style=\"text-align: right;\">\n      <th></th>\n      <th>PassengerId</th>\n      <th>Survived</th>\n      <th>Pclass</th>\n      <th>FirstName</th>\n      <th>Name</th>\n      <th>Sex</th>\n      <th>Age</th>\n      <th>SibSp</th>\n      <th>Parch</th>\n      <th>Ticket</th>\n      <th>Fare</th>\n      <th>Cabin</th>\n      <th>Embarked</th>\n    </tr>\n  </thead>\n  <tbody>\n    <tr>\n      <th>0</th>\n      <td>1</td>\n      <td>0</td>\n      <td>3</td>\n      <td>Braund</td>\n      <td>Braund, Mr. Owen Harris</td>\n      <td>male</td>\n      <td>22.0</td>\n      <td>1</td>\n      <td>0</td>\n      <td>A/5 21171</td>\n      <td>7.2500</td>\n      <td>NaN</td>\n      <td>S</td>\n    </tr>\n    <tr>\n      <th>1</th>\n      <td>2</td>\n      <td>1</td>\n      <td>1</td>\n      <td>Cumings</td>\n      <td>Cumings, Mrs. John Bradley (Florence Briggs Th...</td>\n      <td>female</td>\n      <td>38.0</td>\n      <td>1</td>\n      <td>0</td>\n      <td>PC 17599</td>\n      <td>71.2833</td>\n      <td>C85</td>\n      <td>C</td>\n    </tr>\n    <tr>\n      <th>2</th>\n      <td>3</td>\n      <td>1</td>\n      <td>3</td>\n      <td>Heikkinen</td>\n      <td>Heikkinen, Miss. Laina</td>\n      <td>female</td>\n      <td>26.0</td>\n      <td>0</td>\n      <td>0</td>\n      <td>STON/O2. 3101282</td>\n      <td>7.9250</td>\n      <td>NaN</td>\n      <td>S</td>\n    </tr>\n    <tr>\n      <th>3</th>\n      <td>4</td>\n      <td>1</td>\n      <td>1</td>\n      <td>Futrelle</td>\n      <td>Futrelle, Mrs. Jacques Heath (Lily May Peel)</td>\n      <td>female</td>\n      <td>35.0</td>\n      <td>1</td>\n      <td>0</td>\n      <td>113803</td>\n      <td>53.1000</td>\n      <td>C123</td>\n      <td>S</td>\n    </tr>\n    <tr>\n      <th>4</th>\n      <td>5</td>\n      <td>0</td>\n      <td>3</td>\n      <td>Allen</td>\n      <td>Allen, Mr. William Henry</td>\n      <td>male</td>\n      <td>35.0</td>\n      <td>0</td>\n      <td>0</td>\n      <td>373450</td>\n      <td>8.0500</td>\n      <td>NaN</td>\n      <td>S</td>\n    </tr>\n  </tbody>\n</table>\n</div>"
     },
     "execution_count": 26,
     "metadata": {},
     "output_type": "execute_result"
    }
   ]
  },
  {
   "cell_type": "code",
   "source": [
    "df3.drop(['FirstName'], axis=1)\n",
    "df3.head()"
   ],
   "metadata": {
    "colab": {
     "base_uri": "https://localhost:8080/",
     "height": 389
    },
    "id": "IPVehMmXQc77",
    "outputId": "53a12031-0f87-41e3-c589-fd8023d5f3cc",
    "ExecuteTime": {
     "end_time": "2023-10-21T11:20:14.153404Z",
     "start_time": "2023-10-21T11:20:13.998059Z"
    }
   },
   "execution_count": 27,
   "outputs": [
    {
     "data": {
      "text/plain": "   PassengerId  Survived  Pclass  FirstName  \\\n0            1         0       3     Braund   \n1            2         1       1    Cumings   \n2            3         1       3  Heikkinen   \n3            4         1       1   Futrelle   \n4            5         0       3      Allen   \n\n                                                Name     Sex   Age  SibSp  \\\n0                            Braund, Mr. Owen Harris    male  22.0      1   \n1  Cumings, Mrs. John Bradley (Florence Briggs Th...  female  38.0      1   \n2                             Heikkinen, Miss. Laina  female  26.0      0   \n3       Futrelle, Mrs. Jacques Heath (Lily May Peel)  female  35.0      1   \n4                           Allen, Mr. William Henry    male  35.0      0   \n\n   Parch            Ticket     Fare Cabin Embarked  \n0      0         A/5 21171   7.2500   NaN        S  \n1      0          PC 17599  71.2833   C85        C  \n2      0  STON/O2. 3101282   7.9250   NaN        S  \n3      0            113803  53.1000  C123        S  \n4      0            373450   8.0500   NaN        S  ",
      "text/html": "<div>\n<style scoped>\n    .dataframe tbody tr th:only-of-type {\n        vertical-align: middle;\n    }\n\n    .dataframe tbody tr th {\n        vertical-align: top;\n    }\n\n    .dataframe thead th {\n        text-align: right;\n    }\n</style>\n<table border=\"1\" class=\"dataframe\">\n  <thead>\n    <tr style=\"text-align: right;\">\n      <th></th>\n      <th>PassengerId</th>\n      <th>Survived</th>\n      <th>Pclass</th>\n      <th>FirstName</th>\n      <th>Name</th>\n      <th>Sex</th>\n      <th>Age</th>\n      <th>SibSp</th>\n      <th>Parch</th>\n      <th>Ticket</th>\n      <th>Fare</th>\n      <th>Cabin</th>\n      <th>Embarked</th>\n    </tr>\n  </thead>\n  <tbody>\n    <tr>\n      <th>0</th>\n      <td>1</td>\n      <td>0</td>\n      <td>3</td>\n      <td>Braund</td>\n      <td>Braund, Mr. Owen Harris</td>\n      <td>male</td>\n      <td>22.0</td>\n      <td>1</td>\n      <td>0</td>\n      <td>A/5 21171</td>\n      <td>7.2500</td>\n      <td>NaN</td>\n      <td>S</td>\n    </tr>\n    <tr>\n      <th>1</th>\n      <td>2</td>\n      <td>1</td>\n      <td>1</td>\n      <td>Cumings</td>\n      <td>Cumings, Mrs. John Bradley (Florence Briggs Th...</td>\n      <td>female</td>\n      <td>38.0</td>\n      <td>1</td>\n      <td>0</td>\n      <td>PC 17599</td>\n      <td>71.2833</td>\n      <td>C85</td>\n      <td>C</td>\n    </tr>\n    <tr>\n      <th>2</th>\n      <td>3</td>\n      <td>1</td>\n      <td>3</td>\n      <td>Heikkinen</td>\n      <td>Heikkinen, Miss. Laina</td>\n      <td>female</td>\n      <td>26.0</td>\n      <td>0</td>\n      <td>0</td>\n      <td>STON/O2. 3101282</td>\n      <td>7.9250</td>\n      <td>NaN</td>\n      <td>S</td>\n    </tr>\n    <tr>\n      <th>3</th>\n      <td>4</td>\n      <td>1</td>\n      <td>1</td>\n      <td>Futrelle</td>\n      <td>Futrelle, Mrs. Jacques Heath (Lily May Peel)</td>\n      <td>female</td>\n      <td>35.0</td>\n      <td>1</td>\n      <td>0</td>\n      <td>113803</td>\n      <td>53.1000</td>\n      <td>C123</td>\n      <td>S</td>\n    </tr>\n    <tr>\n      <th>4</th>\n      <td>5</td>\n      <td>0</td>\n      <td>3</td>\n      <td>Allen</td>\n      <td>Allen, Mr. William Henry</td>\n      <td>male</td>\n      <td>35.0</td>\n      <td>0</td>\n      <td>0</td>\n      <td>373450</td>\n      <td>8.0500</td>\n      <td>NaN</td>\n      <td>S</td>\n    </tr>\n  </tbody>\n</table>\n</div>"
     },
     "execution_count": 27,
     "metadata": {},
     "output_type": "execute_result"
    }
   ]
  },
  {
   "cell_type": "markdown",
   "source": [
    "## 6. Indexing and Selecting Data"
   ],
   "metadata": {
    "id": "bySI95s3Q2nx"
   }
  },
  {
   "cell_type": "code",
   "source": [
    "df['Name']"
   ],
   "metadata": {
    "colab": {
     "base_uri": "https://localhost:8080/"
    },
    "id": "cAtg__AdJwac",
    "outputId": "0f0c32f8-49ad-4c50-c782-bbeb756c996f"
   },
   "execution_count": null,
   "outputs": [
    {
     "output_type": "execute_result",
     "data": {
      "text/plain": [
       "0                                Braund, Mr. Owen Harris\n",
       "1      Cumings, Mrs. John Bradley (Florence Briggs Th...\n",
       "2                                 Heikkinen, Miss. Laina\n",
       "3           Futrelle, Mrs. Jacques Heath (Lily May Peel)\n",
       "4                               Allen, Mr. William Henry\n",
       "                             ...                        \n",
       "886                                Montvila, Rev. Juozas\n",
       "887                         Graham, Miss. Margaret Edith\n",
       "888             Johnston, Miss. Catherine Helen \"Carrie\"\n",
       "889                                Behr, Mr. Karl Howell\n",
       "890                                  Dooley, Mr. Patrick\n",
       "Name: Name, Length: 891, dtype: object"
      ]
     },
     "metadata": {},
     "execution_count": 98
    }
   ]
  },
  {
   "cell_type": "code",
   "source": [
    "df[['Name', 'Pclass']]"
   ],
   "metadata": {
    "colab": {
     "base_uri": "https://localhost:8080/",
     "height": 424
    },
    "id": "oTDQMVe5Q-Yh",
    "outputId": "6cc0421d-729e-43dd-97e0-135ac1cac827",
    "ExecuteTime": {
     "end_time": "2023-10-21T11:21:33.570618Z",
     "start_time": "2023-10-21T11:21:33.436860Z"
    }
   },
   "execution_count": 28,
   "outputs": [
    {
     "data": {
      "text/plain": "                                                  Name  Pclass\n0                              Braund, Mr. Owen Harris       3\n1    Cumings, Mrs. John Bradley (Florence Briggs Th...       1\n2                               Heikkinen, Miss. Laina       3\n3         Futrelle, Mrs. Jacques Heath (Lily May Peel)       1\n4                             Allen, Mr. William Henry       3\n..                                                 ...     ...\n886                              Montvila, Rev. Juozas       2\n887                       Graham, Miss. Margaret Edith       1\n888           Johnston, Miss. Catherine Helen \"Carrie\"       3\n889                              Behr, Mr. Karl Howell       1\n890                                Dooley, Mr. Patrick       3\n\n[891 rows x 2 columns]",
      "text/html": "<div>\n<style scoped>\n    .dataframe tbody tr th:only-of-type {\n        vertical-align: middle;\n    }\n\n    .dataframe tbody tr th {\n        vertical-align: top;\n    }\n\n    .dataframe thead th {\n        text-align: right;\n    }\n</style>\n<table border=\"1\" class=\"dataframe\">\n  <thead>\n    <tr style=\"text-align: right;\">\n      <th></th>\n      <th>Name</th>\n      <th>Pclass</th>\n    </tr>\n  </thead>\n  <tbody>\n    <tr>\n      <th>0</th>\n      <td>Braund, Mr. Owen Harris</td>\n      <td>3</td>\n    </tr>\n    <tr>\n      <th>1</th>\n      <td>Cumings, Mrs. John Bradley (Florence Briggs Th...</td>\n      <td>1</td>\n    </tr>\n    <tr>\n      <th>2</th>\n      <td>Heikkinen, Miss. Laina</td>\n      <td>3</td>\n    </tr>\n    <tr>\n      <th>3</th>\n      <td>Futrelle, Mrs. Jacques Heath (Lily May Peel)</td>\n      <td>1</td>\n    </tr>\n    <tr>\n      <th>4</th>\n      <td>Allen, Mr. William Henry</td>\n      <td>3</td>\n    </tr>\n    <tr>\n      <th>...</th>\n      <td>...</td>\n      <td>...</td>\n    </tr>\n    <tr>\n      <th>886</th>\n      <td>Montvila, Rev. Juozas</td>\n      <td>2</td>\n    </tr>\n    <tr>\n      <th>887</th>\n      <td>Graham, Miss. Margaret Edith</td>\n      <td>1</td>\n    </tr>\n    <tr>\n      <th>888</th>\n      <td>Johnston, Miss. Catherine Helen \"Carrie\"</td>\n      <td>3</td>\n    </tr>\n    <tr>\n      <th>889</th>\n      <td>Behr, Mr. Karl Howell</td>\n      <td>1</td>\n    </tr>\n    <tr>\n      <th>890</th>\n      <td>Dooley, Mr. Patrick</td>\n      <td>3</td>\n    </tr>\n  </tbody>\n</table>\n<p>891 rows × 2 columns</p>\n</div>"
     },
     "execution_count": 28,
     "metadata": {},
     "output_type": "execute_result"
    }
   ]
  },
  {
   "cell_type": "code",
   "execution_count": 30,
   "outputs": [
    {
     "data": {
      "text/plain": "   PassengerId  Survived  Pclass  \\\n0            1         0       3   \n1            2         1       1   \n2            3         1       3   \n3            4         1       1   \n4            5         0       3   \n\n                                                Name     Sex   Age  SibSp  \\\n0                            Braund, Mr. Owen Harris    male  22.0      1   \n1  Cumings, Mrs. John Bradley (Florence Briggs Th...  female  38.0      1   \n2                             Heikkinen, Miss. Laina  female  26.0      0   \n3       Futrelle, Mrs. Jacques Heath (Lily May Peel)  female  35.0      1   \n4                           Allen, Mr. William Henry    male  35.0      0   \n\n   Parch            Ticket     Fare Cabin Embarked  \n0      0         A/5 21171   7.2500   NaN        S  \n1      0          PC 17599  71.2833   C85        C  \n2      0  STON/O2. 3101282   7.9250   NaN        S  \n3      0            113803  53.1000  C123        S  \n4      0            373450   8.0500   NaN        S  ",
      "text/html": "<div>\n<style scoped>\n    .dataframe tbody tr th:only-of-type {\n        vertical-align: middle;\n    }\n\n    .dataframe tbody tr th {\n        vertical-align: top;\n    }\n\n    .dataframe thead th {\n        text-align: right;\n    }\n</style>\n<table border=\"1\" class=\"dataframe\">\n  <thead>\n    <tr style=\"text-align: right;\">\n      <th></th>\n      <th>PassengerId</th>\n      <th>Survived</th>\n      <th>Pclass</th>\n      <th>Name</th>\n      <th>Sex</th>\n      <th>Age</th>\n      <th>SibSp</th>\n      <th>Parch</th>\n      <th>Ticket</th>\n      <th>Fare</th>\n      <th>Cabin</th>\n      <th>Embarked</th>\n    </tr>\n  </thead>\n  <tbody>\n    <tr>\n      <th>0</th>\n      <td>1</td>\n      <td>0</td>\n      <td>3</td>\n      <td>Braund, Mr. Owen Harris</td>\n      <td>male</td>\n      <td>22.0</td>\n      <td>1</td>\n      <td>0</td>\n      <td>A/5 21171</td>\n      <td>7.2500</td>\n      <td>NaN</td>\n      <td>S</td>\n    </tr>\n    <tr>\n      <th>1</th>\n      <td>2</td>\n      <td>1</td>\n      <td>1</td>\n      <td>Cumings, Mrs. John Bradley (Florence Briggs Th...</td>\n      <td>female</td>\n      <td>38.0</td>\n      <td>1</td>\n      <td>0</td>\n      <td>PC 17599</td>\n      <td>71.2833</td>\n      <td>C85</td>\n      <td>C</td>\n    </tr>\n    <tr>\n      <th>2</th>\n      <td>3</td>\n      <td>1</td>\n      <td>3</td>\n      <td>Heikkinen, Miss. Laina</td>\n      <td>female</td>\n      <td>26.0</td>\n      <td>0</td>\n      <td>0</td>\n      <td>STON/O2. 3101282</td>\n      <td>7.9250</td>\n      <td>NaN</td>\n      <td>S</td>\n    </tr>\n    <tr>\n      <th>3</th>\n      <td>4</td>\n      <td>1</td>\n      <td>1</td>\n      <td>Futrelle, Mrs. Jacques Heath (Lily May Peel)</td>\n      <td>female</td>\n      <td>35.0</td>\n      <td>1</td>\n      <td>0</td>\n      <td>113803</td>\n      <td>53.1000</td>\n      <td>C123</td>\n      <td>S</td>\n    </tr>\n    <tr>\n      <th>4</th>\n      <td>5</td>\n      <td>0</td>\n      <td>3</td>\n      <td>Allen, Mr. William Henry</td>\n      <td>male</td>\n      <td>35.0</td>\n      <td>0</td>\n      <td>0</td>\n      <td>373450</td>\n      <td>8.0500</td>\n      <td>NaN</td>\n      <td>S</td>\n    </tr>\n  </tbody>\n</table>\n</div>"
     },
     "execution_count": 30,
     "metadata": {},
     "output_type": "execute_result"
    }
   ],
   "source": [
    "df.head()"
   ],
   "metadata": {
    "collapsed": false,
    "ExecuteTime": {
     "end_time": "2023-10-21T11:23:00.495447Z",
     "start_time": "2023-10-21T11:23:00.463343Z"
    }
   }
  },
  {
   "cell_type": "code",
   "source": [
    "df.iloc[0]"
   ],
   "metadata": {
    "colab": {
     "base_uri": "https://localhost:8080/"
    },
    "id": "YSI7pWbFR3xy",
    "outputId": "03951464-9993-4025-f4a3-af45104d09ab",
    "ExecuteTime": {
     "end_time": "2023-10-21T11:22:44.990697Z",
     "start_time": "2023-10-21T11:22:44.956006Z"
    }
   },
   "execution_count": 29,
   "outputs": [
    {
     "data": {
      "text/plain": "PassengerId                          1\nSurvived                             0\nPclass                               3\nName           Braund, Mr. Owen Harris\nSex                               male\nAge                               22.0\nSibSp                                1\nParch                                0\nTicket                       A/5 21171\nFare                              7.25\nCabin                              NaN\nEmbarked                             S\nName: 0, dtype: object"
     },
     "execution_count": 29,
     "metadata": {},
     "output_type": "execute_result"
    }
   ]
  },
  {
   "cell_type": "code",
   "source": [
    "df.iloc[:, 3]"
   ],
   "metadata": {
    "colab": {
     "base_uri": "https://localhost:8080/"
    },
    "id": "lMP-MUQAR-Q5",
    "outputId": "a93d8b66-253b-4358-bbc4-e8344309bcf2",
    "ExecuteTime": {
     "end_time": "2023-10-21T11:23:30.162797Z",
     "start_time": "2023-10-21T11:23:30.128094Z"
    }
   },
   "execution_count": 31,
   "outputs": [
    {
     "data": {
      "text/plain": "0                                Braund, Mr. Owen Harris\n1      Cumings, Mrs. John Bradley (Florence Briggs Th...\n2                                 Heikkinen, Miss. Laina\n3           Futrelle, Mrs. Jacques Heath (Lily May Peel)\n4                               Allen, Mr. William Henry\n                             ...                        \n886                                Montvila, Rev. Juozas\n887                         Graham, Miss. Margaret Edith\n888             Johnston, Miss. Catherine Helen \"Carrie\"\n889                                Behr, Mr. Karl Howell\n890                                  Dooley, Mr. Patrick\nName: Name, Length: 891, dtype: object"
     },
     "execution_count": 31,
     "metadata": {},
     "output_type": "execute_result"
    }
   ]
  },
  {
   "cell_type": "code",
   "source": [
    "df.iloc[:10, 3:7]"
   ],
   "metadata": {
    "colab": {
     "base_uri": "https://localhost:8080/",
     "height": 363
    },
    "id": "Ef2JBP1eSL7p",
    "outputId": "b787d9dc-0b40-4d88-9a6c-d2865c0920f4",
    "ExecuteTime": {
     "end_time": "2023-10-21T11:24:39.907887Z",
     "start_time": "2023-10-21T11:24:39.763865Z"
    }
   },
   "execution_count": 32,
   "outputs": [
    {
     "data": {
      "text/plain": "                                                Name     Sex   Age  SibSp\n0                            Braund, Mr. Owen Harris    male  22.0      1\n1  Cumings, Mrs. John Bradley (Florence Briggs Th...  female  38.0      1\n2                             Heikkinen, Miss. Laina  female  26.0      0\n3       Futrelle, Mrs. Jacques Heath (Lily May Peel)  female  35.0      1\n4                           Allen, Mr. William Henry    male  35.0      0\n5                                   Moran, Mr. James    male   NaN      0\n6                            McCarthy, Mr. Timothy J    male  54.0      0\n7                     Palsson, Master. Gosta Leonard    male   2.0      3\n8  Johnson, Mrs. Oscar W (Elisabeth Vilhelmina Berg)  female  27.0      0\n9                Nasser, Mrs. Nicholas (Adele Achem)  female  14.0      1",
      "text/html": "<div>\n<style scoped>\n    .dataframe tbody tr th:only-of-type {\n        vertical-align: middle;\n    }\n\n    .dataframe tbody tr th {\n        vertical-align: top;\n    }\n\n    .dataframe thead th {\n        text-align: right;\n    }\n</style>\n<table border=\"1\" class=\"dataframe\">\n  <thead>\n    <tr style=\"text-align: right;\">\n      <th></th>\n      <th>Name</th>\n      <th>Sex</th>\n      <th>Age</th>\n      <th>SibSp</th>\n    </tr>\n  </thead>\n  <tbody>\n    <tr>\n      <th>0</th>\n      <td>Braund, Mr. Owen Harris</td>\n      <td>male</td>\n      <td>22.0</td>\n      <td>1</td>\n    </tr>\n    <tr>\n      <th>1</th>\n      <td>Cumings, Mrs. John Bradley (Florence Briggs Th...</td>\n      <td>female</td>\n      <td>38.0</td>\n      <td>1</td>\n    </tr>\n    <tr>\n      <th>2</th>\n      <td>Heikkinen, Miss. Laina</td>\n      <td>female</td>\n      <td>26.0</td>\n      <td>0</td>\n    </tr>\n    <tr>\n      <th>3</th>\n      <td>Futrelle, Mrs. Jacques Heath (Lily May Peel)</td>\n      <td>female</td>\n      <td>35.0</td>\n      <td>1</td>\n    </tr>\n    <tr>\n      <th>4</th>\n      <td>Allen, Mr. William Henry</td>\n      <td>male</td>\n      <td>35.0</td>\n      <td>0</td>\n    </tr>\n    <tr>\n      <th>5</th>\n      <td>Moran, Mr. James</td>\n      <td>male</td>\n      <td>NaN</td>\n      <td>0</td>\n    </tr>\n    <tr>\n      <th>6</th>\n      <td>McCarthy, Mr. Timothy J</td>\n      <td>male</td>\n      <td>54.0</td>\n      <td>0</td>\n    </tr>\n    <tr>\n      <th>7</th>\n      <td>Palsson, Master. Gosta Leonard</td>\n      <td>male</td>\n      <td>2.0</td>\n      <td>3</td>\n    </tr>\n    <tr>\n      <th>8</th>\n      <td>Johnson, Mrs. Oscar W (Elisabeth Vilhelmina Berg)</td>\n      <td>female</td>\n      <td>27.0</td>\n      <td>0</td>\n    </tr>\n    <tr>\n      <th>9</th>\n      <td>Nasser, Mrs. Nicholas (Adele Achem)</td>\n      <td>female</td>\n      <td>14.0</td>\n      <td>1</td>\n    </tr>\n  </tbody>\n</table>\n</div>"
     },
     "execution_count": 32,
     "metadata": {},
     "output_type": "execute_result"
    }
   ]
  },
  {
   "cell_type": "code",
   "source": [
    "df.loc[0:10, 'Name':'SibSp']"
   ],
   "metadata": {
    "colab": {
     "base_uri": "https://localhost:8080/",
     "height": 394
    },
    "id": "vzUO9z3rSWqy",
    "outputId": "40b23996-3da0-48c1-c370-613b8f20a7ec",
    "ExecuteTime": {
     "end_time": "2023-10-21T11:25:25.099514Z",
     "start_time": "2023-10-21T11:25:24.954280Z"
    }
   },
   "execution_count": 33,
   "outputs": [
    {
     "data": {
      "text/plain": "                                                 Name     Sex   Age  SibSp\n0                             Braund, Mr. Owen Harris    male  22.0      1\n1   Cumings, Mrs. John Bradley (Florence Briggs Th...  female  38.0      1\n2                              Heikkinen, Miss. Laina  female  26.0      0\n3        Futrelle, Mrs. Jacques Heath (Lily May Peel)  female  35.0      1\n4                            Allen, Mr. William Henry    male  35.0      0\n5                                    Moran, Mr. James    male   NaN      0\n6                             McCarthy, Mr. Timothy J    male  54.0      0\n7                      Palsson, Master. Gosta Leonard    male   2.0      3\n8   Johnson, Mrs. Oscar W (Elisabeth Vilhelmina Berg)  female  27.0      0\n9                 Nasser, Mrs. Nicholas (Adele Achem)  female  14.0      1\n10                    Sandstrom, Miss. Marguerite Rut  female   4.0      1",
      "text/html": "<div>\n<style scoped>\n    .dataframe tbody tr th:only-of-type {\n        vertical-align: middle;\n    }\n\n    .dataframe tbody tr th {\n        vertical-align: top;\n    }\n\n    .dataframe thead th {\n        text-align: right;\n    }\n</style>\n<table border=\"1\" class=\"dataframe\">\n  <thead>\n    <tr style=\"text-align: right;\">\n      <th></th>\n      <th>Name</th>\n      <th>Sex</th>\n      <th>Age</th>\n      <th>SibSp</th>\n    </tr>\n  </thead>\n  <tbody>\n    <tr>\n      <th>0</th>\n      <td>Braund, Mr. Owen Harris</td>\n      <td>male</td>\n      <td>22.0</td>\n      <td>1</td>\n    </tr>\n    <tr>\n      <th>1</th>\n      <td>Cumings, Mrs. John Bradley (Florence Briggs Th...</td>\n      <td>female</td>\n      <td>38.0</td>\n      <td>1</td>\n    </tr>\n    <tr>\n      <th>2</th>\n      <td>Heikkinen, Miss. Laina</td>\n      <td>female</td>\n      <td>26.0</td>\n      <td>0</td>\n    </tr>\n    <tr>\n      <th>3</th>\n      <td>Futrelle, Mrs. Jacques Heath (Lily May Peel)</td>\n      <td>female</td>\n      <td>35.0</td>\n      <td>1</td>\n    </tr>\n    <tr>\n      <th>4</th>\n      <td>Allen, Mr. William Henry</td>\n      <td>male</td>\n      <td>35.0</td>\n      <td>0</td>\n    </tr>\n    <tr>\n      <th>5</th>\n      <td>Moran, Mr. James</td>\n      <td>male</td>\n      <td>NaN</td>\n      <td>0</td>\n    </tr>\n    <tr>\n      <th>6</th>\n      <td>McCarthy, Mr. Timothy J</td>\n      <td>male</td>\n      <td>54.0</td>\n      <td>0</td>\n    </tr>\n    <tr>\n      <th>7</th>\n      <td>Palsson, Master. Gosta Leonard</td>\n      <td>male</td>\n      <td>2.0</td>\n      <td>3</td>\n    </tr>\n    <tr>\n      <th>8</th>\n      <td>Johnson, Mrs. Oscar W (Elisabeth Vilhelmina Berg)</td>\n      <td>female</td>\n      <td>27.0</td>\n      <td>0</td>\n    </tr>\n    <tr>\n      <th>9</th>\n      <td>Nasser, Mrs. Nicholas (Adele Achem)</td>\n      <td>female</td>\n      <td>14.0</td>\n      <td>1</td>\n    </tr>\n    <tr>\n      <th>10</th>\n      <td>Sandstrom, Miss. Marguerite Rut</td>\n      <td>female</td>\n      <td>4.0</td>\n      <td>1</td>\n    </tr>\n  </tbody>\n</table>\n</div>"
     },
     "execution_count": 33,
     "metadata": {},
     "output_type": "execute_result"
    }
   ]
  },
  {
   "cell_type": "code",
   "source": [
    "df['Age']> 25"
   ],
   "metadata": {
    "colab": {
     "base_uri": "https://localhost:8080/"
    },
    "id": "zANaVoHtTCYR",
    "outputId": "9b7dbbae-f516-462c-ecac-f01070ac5e0f"
   },
   "execution_count": null,
   "outputs": [
    {
     "output_type": "execute_result",
     "data": {
      "text/plain": [
       "0      False\n",
       "1       True\n",
       "2       True\n",
       "3       True\n",
       "4       True\n",
       "       ...  \n",
       "886     True\n",
       "887    False\n",
       "888    False\n",
       "889     True\n",
       "890     True\n",
       "Name: Age, Length: 891, dtype: bool"
      ]
     },
     "metadata": {},
     "execution_count": 135
    }
   ]
  },
  {
   "cell_type": "code",
   "source": [
    "(df['Age']> 25) & (df['Name'].str.contains('Mrs.'))"
   ],
   "metadata": {
    "colab": {
     "base_uri": "https://localhost:8080/"
    },
    "id": "KVwizhrqUBYh",
    "outputId": "3b6cf216-4907-4586-a85f-580c21b45230"
   },
   "execution_count": null,
   "outputs": [
    {
     "output_type": "execute_result",
     "data": {
      "text/plain": [
       "0      False\n",
       "1       True\n",
       "2      False\n",
       "3       True\n",
       "4      False\n",
       "       ...  \n",
       "886    False\n",
       "887    False\n",
       "888    False\n",
       "889    False\n",
       "890    False\n",
       "Length: 891, dtype: bool"
      ]
     },
     "metadata": {},
     "execution_count": 148
    }
   ]
  },
  {
   "cell_type": "code",
   "source": [
    "# & : element-wise logical and operator\n",
    "mask = (df['Age']> 25) & (df['Name'].str.contains('Mrs.'))\n",
    "df[mask]"
   ],
   "metadata": {
    "colab": {
     "base_uri": "https://localhost:8080/",
     "height": 1000
    },
    "id": "o9Tt3KB_S6No",
    "outputId": "64a71bc0-6d71-4fe9-a47f-dbf65eac92a6"
   },
   "execution_count": null,
   "outputs": [
    {
     "output_type": "execute_result",
     "data": {
      "text/plain": [
       "     PassengerId  Survived  Pclass  \\\n",
       "1              2         1       1   \n",
       "3              4         1       1   \n",
       "8              9         1       3   \n",
       "15            16         1       2   \n",
       "18            19         0       3   \n",
       "..           ...       ...     ...   \n",
       "865          866         1       2   \n",
       "871          872         1       1   \n",
       "874          875         1       2   \n",
       "879          880         1       1   \n",
       "885          886         0       3   \n",
       "\n",
       "                                                  Name     Sex   Age  SibSp  \\\n",
       "1    Cumings, Mrs. John Bradley (Florence Briggs Th...  female  38.0      1   \n",
       "3         Futrelle, Mrs. Jacques Heath (Lily May Peel)  female  35.0      1   \n",
       "8    Johnson, Mrs. Oscar W (Elisabeth Vilhelmina Berg)  female  27.0      0   \n",
       "15                    Hewlett, Mrs. (Mary D Kingcome)   female  55.0      0   \n",
       "18   Vander Planke, Mrs. Julius (Emelia Maria Vande...  female  31.0      1   \n",
       "..                                                 ...     ...   ...    ...   \n",
       "865                           Bystrom, Mrs. (Karolina)  female  42.0      0   \n",
       "871   Beckwith, Mrs. Richard Leonard (Sallie Monypeny)  female  47.0      1   \n",
       "874              Abelson, Mrs. Samuel (Hannah Wizosky)  female  28.0      1   \n",
       "879      Potter, Mrs. Thomas Jr (Lily Alexenia Wilson)  female  56.0      0   \n",
       "885               Rice, Mrs. William (Margaret Norton)  female  39.0      0   \n",
       "\n",
       "     Parch     Ticket     Fare Cabin Embarked  \n",
       "1        0   PC 17599  71.2833   C85        C  \n",
       "3        0     113803  53.1000  C123        S  \n",
       "8        2     347742  11.1333   NaN        S  \n",
       "15       0     248706  16.0000   NaN        S  \n",
       "18       0     345763  18.0000   NaN        S  \n",
       "..     ...        ...      ...   ...      ...  \n",
       "865      0     236852  13.0000   NaN        S  \n",
       "871      1      11751  52.5542   D35        S  \n",
       "874      0  P/PP 3381  24.0000   NaN        C  \n",
       "879      1      11767  83.1583   C50        C  \n",
       "885      5     382652  29.1250   NaN        Q  \n",
       "\n",
       "[87 rows x 12 columns]"
      ],
      "text/html": [
       "\n",
       "  <div id=\"df-8d56e538-e686-4012-996b-705181fefc01\">\n",
       "    <div class=\"colab-df-container\">\n",
       "      <div>\n",
       "<style scoped>\n",
       "    .dataframe tbody tr th:only-of-type {\n",
       "        vertical-align: middle;\n",
       "    }\n",
       "\n",
       "    .dataframe tbody tr th {\n",
       "        vertical-align: top;\n",
       "    }\n",
       "\n",
       "    .dataframe thead th {\n",
       "        text-align: right;\n",
       "    }\n",
       "</style>\n",
       "<table border=\"1\" class=\"dataframe\">\n",
       "  <thead>\n",
       "    <tr style=\"text-align: right;\">\n",
       "      <th></th>\n",
       "      <th>PassengerId</th>\n",
       "      <th>Survived</th>\n",
       "      <th>Pclass</th>\n",
       "      <th>Name</th>\n",
       "      <th>Sex</th>\n",
       "      <th>Age</th>\n",
       "      <th>SibSp</th>\n",
       "      <th>Parch</th>\n",
       "      <th>Ticket</th>\n",
       "      <th>Fare</th>\n",
       "      <th>Cabin</th>\n",
       "      <th>Embarked</th>\n",
       "    </tr>\n",
       "  </thead>\n",
       "  <tbody>\n",
       "    <tr>\n",
       "      <th>1</th>\n",
       "      <td>2</td>\n",
       "      <td>1</td>\n",
       "      <td>1</td>\n",
       "      <td>Cumings, Mrs. John Bradley (Florence Briggs Th...</td>\n",
       "      <td>female</td>\n",
       "      <td>38.0</td>\n",
       "      <td>1</td>\n",
       "      <td>0</td>\n",
       "      <td>PC 17599</td>\n",
       "      <td>71.2833</td>\n",
       "      <td>C85</td>\n",
       "      <td>C</td>\n",
       "    </tr>\n",
       "    <tr>\n",
       "      <th>3</th>\n",
       "      <td>4</td>\n",
       "      <td>1</td>\n",
       "      <td>1</td>\n",
       "      <td>Futrelle, Mrs. Jacques Heath (Lily May Peel)</td>\n",
       "      <td>female</td>\n",
       "      <td>35.0</td>\n",
       "      <td>1</td>\n",
       "      <td>0</td>\n",
       "      <td>113803</td>\n",
       "      <td>53.1000</td>\n",
       "      <td>C123</td>\n",
       "      <td>S</td>\n",
       "    </tr>\n",
       "    <tr>\n",
       "      <th>8</th>\n",
       "      <td>9</td>\n",
       "      <td>1</td>\n",
       "      <td>3</td>\n",
       "      <td>Johnson, Mrs. Oscar W (Elisabeth Vilhelmina Berg)</td>\n",
       "      <td>female</td>\n",
       "      <td>27.0</td>\n",
       "      <td>0</td>\n",
       "      <td>2</td>\n",
       "      <td>347742</td>\n",
       "      <td>11.1333</td>\n",
       "      <td>NaN</td>\n",
       "      <td>S</td>\n",
       "    </tr>\n",
       "    <tr>\n",
       "      <th>15</th>\n",
       "      <td>16</td>\n",
       "      <td>1</td>\n",
       "      <td>2</td>\n",
       "      <td>Hewlett, Mrs. (Mary D Kingcome)</td>\n",
       "      <td>female</td>\n",
       "      <td>55.0</td>\n",
       "      <td>0</td>\n",
       "      <td>0</td>\n",
       "      <td>248706</td>\n",
       "      <td>16.0000</td>\n",
       "      <td>NaN</td>\n",
       "      <td>S</td>\n",
       "    </tr>\n",
       "    <tr>\n",
       "      <th>18</th>\n",
       "      <td>19</td>\n",
       "      <td>0</td>\n",
       "      <td>3</td>\n",
       "      <td>Vander Planke, Mrs. Julius (Emelia Maria Vande...</td>\n",
       "      <td>female</td>\n",
       "      <td>31.0</td>\n",
       "      <td>1</td>\n",
       "      <td>0</td>\n",
       "      <td>345763</td>\n",
       "      <td>18.0000</td>\n",
       "      <td>NaN</td>\n",
       "      <td>S</td>\n",
       "    </tr>\n",
       "    <tr>\n",
       "      <th>...</th>\n",
       "      <td>...</td>\n",
       "      <td>...</td>\n",
       "      <td>...</td>\n",
       "      <td>...</td>\n",
       "      <td>...</td>\n",
       "      <td>...</td>\n",
       "      <td>...</td>\n",
       "      <td>...</td>\n",
       "      <td>...</td>\n",
       "      <td>...</td>\n",
       "      <td>...</td>\n",
       "      <td>...</td>\n",
       "    </tr>\n",
       "    <tr>\n",
       "      <th>865</th>\n",
       "      <td>866</td>\n",
       "      <td>1</td>\n",
       "      <td>2</td>\n",
       "      <td>Bystrom, Mrs. (Karolina)</td>\n",
       "      <td>female</td>\n",
       "      <td>42.0</td>\n",
       "      <td>0</td>\n",
       "      <td>0</td>\n",
       "      <td>236852</td>\n",
       "      <td>13.0000</td>\n",
       "      <td>NaN</td>\n",
       "      <td>S</td>\n",
       "    </tr>\n",
       "    <tr>\n",
       "      <th>871</th>\n",
       "      <td>872</td>\n",
       "      <td>1</td>\n",
       "      <td>1</td>\n",
       "      <td>Beckwith, Mrs. Richard Leonard (Sallie Monypeny)</td>\n",
       "      <td>female</td>\n",
       "      <td>47.0</td>\n",
       "      <td>1</td>\n",
       "      <td>1</td>\n",
       "      <td>11751</td>\n",
       "      <td>52.5542</td>\n",
       "      <td>D35</td>\n",
       "      <td>S</td>\n",
       "    </tr>\n",
       "    <tr>\n",
       "      <th>874</th>\n",
       "      <td>875</td>\n",
       "      <td>1</td>\n",
       "      <td>2</td>\n",
       "      <td>Abelson, Mrs. Samuel (Hannah Wizosky)</td>\n",
       "      <td>female</td>\n",
       "      <td>28.0</td>\n",
       "      <td>1</td>\n",
       "      <td>0</td>\n",
       "      <td>P/PP 3381</td>\n",
       "      <td>24.0000</td>\n",
       "      <td>NaN</td>\n",
       "      <td>C</td>\n",
       "    </tr>\n",
       "    <tr>\n",
       "      <th>879</th>\n",
       "      <td>880</td>\n",
       "      <td>1</td>\n",
       "      <td>1</td>\n",
       "      <td>Potter, Mrs. Thomas Jr (Lily Alexenia Wilson)</td>\n",
       "      <td>female</td>\n",
       "      <td>56.0</td>\n",
       "      <td>0</td>\n",
       "      <td>1</td>\n",
       "      <td>11767</td>\n",
       "      <td>83.1583</td>\n",
       "      <td>C50</td>\n",
       "      <td>C</td>\n",
       "    </tr>\n",
       "    <tr>\n",
       "      <th>885</th>\n",
       "      <td>886</td>\n",
       "      <td>0</td>\n",
       "      <td>3</td>\n",
       "      <td>Rice, Mrs. William (Margaret Norton)</td>\n",
       "      <td>female</td>\n",
       "      <td>39.0</td>\n",
       "      <td>0</td>\n",
       "      <td>5</td>\n",
       "      <td>382652</td>\n",
       "      <td>29.1250</td>\n",
       "      <td>NaN</td>\n",
       "      <td>Q</td>\n",
       "    </tr>\n",
       "  </tbody>\n",
       "</table>\n",
       "<p>87 rows × 12 columns</p>\n",
       "</div>\n",
       "      <button class=\"colab-df-convert\" onclick=\"convertToInteractive('df-8d56e538-e686-4012-996b-705181fefc01')\"\n",
       "              title=\"Convert this dataframe to an interactive table.\"\n",
       "              style=\"display:none;\">\n",
       "        \n",
       "  <svg xmlns=\"http://www.w3.org/2000/svg\" height=\"24px\"viewBox=\"0 0 24 24\"\n",
       "       width=\"24px\">\n",
       "    <path d=\"M0 0h24v24H0V0z\" fill=\"none\"/>\n",
       "    <path d=\"M18.56 5.44l.94 2.06.94-2.06 2.06-.94-2.06-.94-.94-2.06-.94 2.06-2.06.94zm-11 1L8.5 8.5l.94-2.06 2.06-.94-2.06-.94L8.5 2.5l-.94 2.06-2.06.94zm10 10l.94 2.06.94-2.06 2.06-.94-2.06-.94-.94-2.06-.94 2.06-2.06.94z\"/><path d=\"M17.41 7.96l-1.37-1.37c-.4-.4-.92-.59-1.43-.59-.52 0-1.04.2-1.43.59L10.3 9.45l-7.72 7.72c-.78.78-.78 2.05 0 2.83L4 21.41c.39.39.9.59 1.41.59.51 0 1.02-.2 1.41-.59l7.78-7.78 2.81-2.81c.8-.78.8-2.07 0-2.86zM5.41 20L4 18.59l7.72-7.72 1.47 1.35L5.41 20z\"/>\n",
       "  </svg>\n",
       "      </button>\n",
       "      \n",
       "  <style>\n",
       "    .colab-df-container {\n",
       "      display:flex;\n",
       "      flex-wrap:wrap;\n",
       "      gap: 12px;\n",
       "    }\n",
       "\n",
       "    .colab-df-convert {\n",
       "      background-color: #E8F0FE;\n",
       "      border: none;\n",
       "      border-radius: 50%;\n",
       "      cursor: pointer;\n",
       "      display: none;\n",
       "      fill: #1967D2;\n",
       "      height: 32px;\n",
       "      padding: 0 0 0 0;\n",
       "      width: 32px;\n",
       "    }\n",
       "\n",
       "    .colab-df-convert:hover {\n",
       "      background-color: #E2EBFA;\n",
       "      box-shadow: 0px 1px 2px rgba(60, 64, 67, 0.3), 0px 1px 3px 1px rgba(60, 64, 67, 0.15);\n",
       "      fill: #174EA6;\n",
       "    }\n",
       "\n",
       "    [theme=dark] .colab-df-convert {\n",
       "      background-color: #3B4455;\n",
       "      fill: #D2E3FC;\n",
       "    }\n",
       "\n",
       "    [theme=dark] .colab-df-convert:hover {\n",
       "      background-color: #434B5C;\n",
       "      box-shadow: 0px 1px 3px 1px rgba(0, 0, 0, 0.15);\n",
       "      filter: drop-shadow(0px 1px 2px rgba(0, 0, 0, 0.3));\n",
       "      fill: #FFFFFF;\n",
       "    }\n",
       "  </style>\n",
       "\n",
       "      <script>\n",
       "        const buttonEl =\n",
       "          document.querySelector('#df-8d56e538-e686-4012-996b-705181fefc01 button.colab-df-convert');\n",
       "        buttonEl.style.display =\n",
       "          google.colab.kernel.accessAllowed ? 'block' : 'none';\n",
       "\n",
       "        async function convertToInteractive(key) {\n",
       "          const element = document.querySelector('#df-8d56e538-e686-4012-996b-705181fefc01');\n",
       "          const dataTable =\n",
       "            await google.colab.kernel.invokeFunction('convertToInteractive',\n",
       "                                                     [key], {});\n",
       "          if (!dataTable) return;\n",
       "\n",
       "          const docLinkHtml = 'Like what you see? Visit the ' +\n",
       "            '<a target=\"_blank\" href=https://colab.research.google.com/notebooks/data_table.ipynb>data table notebook</a>'\n",
       "            + ' to learn more about interactive tables.';\n",
       "          element.innerHTML = '';\n",
       "          dataTable['output_type'] = 'display_data';\n",
       "          await google.colab.output.renderOutput(dataTable, element);\n",
       "          const docLink = document.createElement('div');\n",
       "          docLink.innerHTML = docLinkHtml;\n",
       "          element.appendChild(docLink);\n",
       "        }\n",
       "      </script>\n",
       "    </div>\n",
       "  </div>\n",
       "  "
      ]
     },
     "metadata": {},
     "execution_count": 142
    }
   ]
  },
  {
   "cell_type": "code",
   "source": [
    "df.query(\"Age > 25 and Name.str.contains('Mrs')\")"
   ],
   "metadata": {
    "colab": {
     "base_uri": "https://localhost:8080/",
     "height": 1000
    },
    "id": "HxLOEaPZTxsg",
    "outputId": "5d2a90e6-8bdc-4769-934e-74f963818d57"
   },
   "execution_count": null,
   "outputs": [
    {
     "output_type": "execute_result",
     "data": {
      "text/plain": [
       "     PassengerId  Survived  Pclass  \\\n",
       "1              2         1       1   \n",
       "3              4         1       1   \n",
       "8              9         1       3   \n",
       "15            16         1       2   \n",
       "18            19         0       3   \n",
       "..           ...       ...     ...   \n",
       "865          866         1       2   \n",
       "871          872         1       1   \n",
       "874          875         1       2   \n",
       "879          880         1       1   \n",
       "885          886         0       3   \n",
       "\n",
       "                                                  Name     Sex   Age  SibSp  \\\n",
       "1    Cumings, Mrs. John Bradley (Florence Briggs Th...  female  38.0      1   \n",
       "3         Futrelle, Mrs. Jacques Heath (Lily May Peel)  female  35.0      1   \n",
       "8    Johnson, Mrs. Oscar W (Elisabeth Vilhelmina Berg)  female  27.0      0   \n",
       "15                    Hewlett, Mrs. (Mary D Kingcome)   female  55.0      0   \n",
       "18   Vander Planke, Mrs. Julius (Emelia Maria Vande...  female  31.0      1   \n",
       "..                                                 ...     ...   ...    ...   \n",
       "865                           Bystrom, Mrs. (Karolina)  female  42.0      0   \n",
       "871   Beckwith, Mrs. Richard Leonard (Sallie Monypeny)  female  47.0      1   \n",
       "874              Abelson, Mrs. Samuel (Hannah Wizosky)  female  28.0      1   \n",
       "879      Potter, Mrs. Thomas Jr (Lily Alexenia Wilson)  female  56.0      0   \n",
       "885               Rice, Mrs. William (Margaret Norton)  female  39.0      0   \n",
       "\n",
       "     Parch     Ticket     Fare Cabin Embarked  \n",
       "1        0   PC 17599  71.2833   C85        C  \n",
       "3        0     113803  53.1000  C123        S  \n",
       "8        2     347742  11.1333   NaN        S  \n",
       "15       0     248706  16.0000   NaN        S  \n",
       "18       0     345763  18.0000   NaN        S  \n",
       "..     ...        ...      ...   ...      ...  \n",
       "865      0     236852  13.0000   NaN        S  \n",
       "871      1      11751  52.5542   D35        S  \n",
       "874      0  P/PP 3381  24.0000   NaN        C  \n",
       "879      1      11767  83.1583   C50        C  \n",
       "885      5     382652  29.1250   NaN        Q  \n",
       "\n",
       "[87 rows x 12 columns]"
      ],
      "text/html": [
       "\n",
       "  <div id=\"df-40825bd7-8856-4a5e-b91d-35d95c2148e4\">\n",
       "    <div class=\"colab-df-container\">\n",
       "      <div>\n",
       "<style scoped>\n",
       "    .dataframe tbody tr th:only-of-type {\n",
       "        vertical-align: middle;\n",
       "    }\n",
       "\n",
       "    .dataframe tbody tr th {\n",
       "        vertical-align: top;\n",
       "    }\n",
       "\n",
       "    .dataframe thead th {\n",
       "        text-align: right;\n",
       "    }\n",
       "</style>\n",
       "<table border=\"1\" class=\"dataframe\">\n",
       "  <thead>\n",
       "    <tr style=\"text-align: right;\">\n",
       "      <th></th>\n",
       "      <th>PassengerId</th>\n",
       "      <th>Survived</th>\n",
       "      <th>Pclass</th>\n",
       "      <th>Name</th>\n",
       "      <th>Sex</th>\n",
       "      <th>Age</th>\n",
       "      <th>SibSp</th>\n",
       "      <th>Parch</th>\n",
       "      <th>Ticket</th>\n",
       "      <th>Fare</th>\n",
       "      <th>Cabin</th>\n",
       "      <th>Embarked</th>\n",
       "    </tr>\n",
       "  </thead>\n",
       "  <tbody>\n",
       "    <tr>\n",
       "      <th>1</th>\n",
       "      <td>2</td>\n",
       "      <td>1</td>\n",
       "      <td>1</td>\n",
       "      <td>Cumings, Mrs. John Bradley (Florence Briggs Th...</td>\n",
       "      <td>female</td>\n",
       "      <td>38.0</td>\n",
       "      <td>1</td>\n",
       "      <td>0</td>\n",
       "      <td>PC 17599</td>\n",
       "      <td>71.2833</td>\n",
       "      <td>C85</td>\n",
       "      <td>C</td>\n",
       "    </tr>\n",
       "    <tr>\n",
       "      <th>3</th>\n",
       "      <td>4</td>\n",
       "      <td>1</td>\n",
       "      <td>1</td>\n",
       "      <td>Futrelle, Mrs. Jacques Heath (Lily May Peel)</td>\n",
       "      <td>female</td>\n",
       "      <td>35.0</td>\n",
       "      <td>1</td>\n",
       "      <td>0</td>\n",
       "      <td>113803</td>\n",
       "      <td>53.1000</td>\n",
       "      <td>C123</td>\n",
       "      <td>S</td>\n",
       "    </tr>\n",
       "    <tr>\n",
       "      <th>8</th>\n",
       "      <td>9</td>\n",
       "      <td>1</td>\n",
       "      <td>3</td>\n",
       "      <td>Johnson, Mrs. Oscar W (Elisabeth Vilhelmina Berg)</td>\n",
       "      <td>female</td>\n",
       "      <td>27.0</td>\n",
       "      <td>0</td>\n",
       "      <td>2</td>\n",
       "      <td>347742</td>\n",
       "      <td>11.1333</td>\n",
       "      <td>NaN</td>\n",
       "      <td>S</td>\n",
       "    </tr>\n",
       "    <tr>\n",
       "      <th>15</th>\n",
       "      <td>16</td>\n",
       "      <td>1</td>\n",
       "      <td>2</td>\n",
       "      <td>Hewlett, Mrs. (Mary D Kingcome)</td>\n",
       "      <td>female</td>\n",
       "      <td>55.0</td>\n",
       "      <td>0</td>\n",
       "      <td>0</td>\n",
       "      <td>248706</td>\n",
       "      <td>16.0000</td>\n",
       "      <td>NaN</td>\n",
       "      <td>S</td>\n",
       "    </tr>\n",
       "    <tr>\n",
       "      <th>18</th>\n",
       "      <td>19</td>\n",
       "      <td>0</td>\n",
       "      <td>3</td>\n",
       "      <td>Vander Planke, Mrs. Julius (Emelia Maria Vande...</td>\n",
       "      <td>female</td>\n",
       "      <td>31.0</td>\n",
       "      <td>1</td>\n",
       "      <td>0</td>\n",
       "      <td>345763</td>\n",
       "      <td>18.0000</td>\n",
       "      <td>NaN</td>\n",
       "      <td>S</td>\n",
       "    </tr>\n",
       "    <tr>\n",
       "      <th>...</th>\n",
       "      <td>...</td>\n",
       "      <td>...</td>\n",
       "      <td>...</td>\n",
       "      <td>...</td>\n",
       "      <td>...</td>\n",
       "      <td>...</td>\n",
       "      <td>...</td>\n",
       "      <td>...</td>\n",
       "      <td>...</td>\n",
       "      <td>...</td>\n",
       "      <td>...</td>\n",
       "      <td>...</td>\n",
       "    </tr>\n",
       "    <tr>\n",
       "      <th>865</th>\n",
       "      <td>866</td>\n",
       "      <td>1</td>\n",
       "      <td>2</td>\n",
       "      <td>Bystrom, Mrs. (Karolina)</td>\n",
       "      <td>female</td>\n",
       "      <td>42.0</td>\n",
       "      <td>0</td>\n",
       "      <td>0</td>\n",
       "      <td>236852</td>\n",
       "      <td>13.0000</td>\n",
       "      <td>NaN</td>\n",
       "      <td>S</td>\n",
       "    </tr>\n",
       "    <tr>\n",
       "      <th>871</th>\n",
       "      <td>872</td>\n",
       "      <td>1</td>\n",
       "      <td>1</td>\n",
       "      <td>Beckwith, Mrs. Richard Leonard (Sallie Monypeny)</td>\n",
       "      <td>female</td>\n",
       "      <td>47.0</td>\n",
       "      <td>1</td>\n",
       "      <td>1</td>\n",
       "      <td>11751</td>\n",
       "      <td>52.5542</td>\n",
       "      <td>D35</td>\n",
       "      <td>S</td>\n",
       "    </tr>\n",
       "    <tr>\n",
       "      <th>874</th>\n",
       "      <td>875</td>\n",
       "      <td>1</td>\n",
       "      <td>2</td>\n",
       "      <td>Abelson, Mrs. Samuel (Hannah Wizosky)</td>\n",
       "      <td>female</td>\n",
       "      <td>28.0</td>\n",
       "      <td>1</td>\n",
       "      <td>0</td>\n",
       "      <td>P/PP 3381</td>\n",
       "      <td>24.0000</td>\n",
       "      <td>NaN</td>\n",
       "      <td>C</td>\n",
       "    </tr>\n",
       "    <tr>\n",
       "      <th>879</th>\n",
       "      <td>880</td>\n",
       "      <td>1</td>\n",
       "      <td>1</td>\n",
       "      <td>Potter, Mrs. Thomas Jr (Lily Alexenia Wilson)</td>\n",
       "      <td>female</td>\n",
       "      <td>56.0</td>\n",
       "      <td>0</td>\n",
       "      <td>1</td>\n",
       "      <td>11767</td>\n",
       "      <td>83.1583</td>\n",
       "      <td>C50</td>\n",
       "      <td>C</td>\n",
       "    </tr>\n",
       "    <tr>\n",
       "      <th>885</th>\n",
       "      <td>886</td>\n",
       "      <td>0</td>\n",
       "      <td>3</td>\n",
       "      <td>Rice, Mrs. William (Margaret Norton)</td>\n",
       "      <td>female</td>\n",
       "      <td>39.0</td>\n",
       "      <td>0</td>\n",
       "      <td>5</td>\n",
       "      <td>382652</td>\n",
       "      <td>29.1250</td>\n",
       "      <td>NaN</td>\n",
       "      <td>Q</td>\n",
       "    </tr>\n",
       "  </tbody>\n",
       "</table>\n",
       "<p>87 rows × 12 columns</p>\n",
       "</div>\n",
       "      <button class=\"colab-df-convert\" onclick=\"convertToInteractive('df-40825bd7-8856-4a5e-b91d-35d95c2148e4')\"\n",
       "              title=\"Convert this dataframe to an interactive table.\"\n",
       "              style=\"display:none;\">\n",
       "        \n",
       "  <svg xmlns=\"http://www.w3.org/2000/svg\" height=\"24px\"viewBox=\"0 0 24 24\"\n",
       "       width=\"24px\">\n",
       "    <path d=\"M0 0h24v24H0V0z\" fill=\"none\"/>\n",
       "    <path d=\"M18.56 5.44l.94 2.06.94-2.06 2.06-.94-2.06-.94-.94-2.06-.94 2.06-2.06.94zm-11 1L8.5 8.5l.94-2.06 2.06-.94-2.06-.94L8.5 2.5l-.94 2.06-2.06.94zm10 10l.94 2.06.94-2.06 2.06-.94-2.06-.94-.94-2.06-.94 2.06-2.06.94z\"/><path d=\"M17.41 7.96l-1.37-1.37c-.4-.4-.92-.59-1.43-.59-.52 0-1.04.2-1.43.59L10.3 9.45l-7.72 7.72c-.78.78-.78 2.05 0 2.83L4 21.41c.39.39.9.59 1.41.59.51 0 1.02-.2 1.41-.59l7.78-7.78 2.81-2.81c.8-.78.8-2.07 0-2.86zM5.41 20L4 18.59l7.72-7.72 1.47 1.35L5.41 20z\"/>\n",
       "  </svg>\n",
       "      </button>\n",
       "      \n",
       "  <style>\n",
       "    .colab-df-container {\n",
       "      display:flex;\n",
       "      flex-wrap:wrap;\n",
       "      gap: 12px;\n",
       "    }\n",
       "\n",
       "    .colab-df-convert {\n",
       "      background-color: #E8F0FE;\n",
       "      border: none;\n",
       "      border-radius: 50%;\n",
       "      cursor: pointer;\n",
       "      display: none;\n",
       "      fill: #1967D2;\n",
       "      height: 32px;\n",
       "      padding: 0 0 0 0;\n",
       "      width: 32px;\n",
       "    }\n",
       "\n",
       "    .colab-df-convert:hover {\n",
       "      background-color: #E2EBFA;\n",
       "      box-shadow: 0px 1px 2px rgba(60, 64, 67, 0.3), 0px 1px 3px 1px rgba(60, 64, 67, 0.15);\n",
       "      fill: #174EA6;\n",
       "    }\n",
       "\n",
       "    [theme=dark] .colab-df-convert {\n",
       "      background-color: #3B4455;\n",
       "      fill: #D2E3FC;\n",
       "    }\n",
       "\n",
       "    [theme=dark] .colab-df-convert:hover {\n",
       "      background-color: #434B5C;\n",
       "      box-shadow: 0px 1px 3px 1px rgba(0, 0, 0, 0.15);\n",
       "      filter: drop-shadow(0px 1px 2px rgba(0, 0, 0, 0.3));\n",
       "      fill: #FFFFFF;\n",
       "    }\n",
       "  </style>\n",
       "\n",
       "      <script>\n",
       "        const buttonEl =\n",
       "          document.querySelector('#df-40825bd7-8856-4a5e-b91d-35d95c2148e4 button.colab-df-convert');\n",
       "        buttonEl.style.display =\n",
       "          google.colab.kernel.accessAllowed ? 'block' : 'none';\n",
       "\n",
       "        async function convertToInteractive(key) {\n",
       "          const element = document.querySelector('#df-40825bd7-8856-4a5e-b91d-35d95c2148e4');\n",
       "          const dataTable =\n",
       "            await google.colab.kernel.invokeFunction('convertToInteractive',\n",
       "                                                     [key], {});\n",
       "          if (!dataTable) return;\n",
       "\n",
       "          const docLinkHtml = 'Like what you see? Visit the ' +\n",
       "            '<a target=\"_blank\" href=https://colab.research.google.com/notebooks/data_table.ipynb>data table notebook</a>'\n",
       "            + ' to learn more about interactive tables.';\n",
       "          element.innerHTML = '';\n",
       "          dataTable['output_type'] = 'display_data';\n",
       "          await google.colab.output.renderOutput(dataTable, element);\n",
       "          const docLink = document.createElement('div');\n",
       "          docLink.innerHTML = docLinkHtml;\n",
       "          element.appendChild(docLink);\n",
       "        }\n",
       "      </script>\n",
       "    </div>\n",
       "  </div>\n",
       "  "
      ]
     },
     "metadata": {},
     "execution_count": 150
    }
   ]
  },
  {
   "cell_type": "markdown",
   "source": [
    "## 7. Series Operations\n",
    "\n"
   ],
   "metadata": {
    "id": "INqFk2K5c7ks"
   }
  },
  {
   "cell_type": "code",
   "source": [
    "import pandas as pd\n",
    "\n",
    "df = pd.read_csv('https://raw.githubusercontent.com/agconti/kaggle-titanic/master/data/train.csv')\n",
    "df.head(100)"
   ],
   "metadata": {
    "id": "B2c46qWfc8z0",
    "colab": {
     "base_uri": "https://localhost:8080/",
     "height": 389
    },
    "outputId": "e7e36f3b-0985-45ef-bfe7-698508f06d9a",
    "ExecuteTime": {
     "end_time": "2023-10-21T11:28:37.332734Z",
     "start_time": "2023-10-21T11:28:37.194203Z"
    }
   },
   "execution_count": 35,
   "outputs": [
    {
     "data": {
      "text/plain": "    PassengerId  Survived  Pclass  \\\n0             1         0       3   \n1             2         1       1   \n2             3         1       3   \n3             4         1       1   \n4             5         0       3   \n..          ...       ...     ...   \n95           96         0       3   \n96           97         0       1   \n97           98         1       1   \n98           99         1       2   \n99          100         0       2   \n\n                                                 Name     Sex   Age  SibSp  \\\n0                             Braund, Mr. Owen Harris    male  22.0      1   \n1   Cumings, Mrs. John Bradley (Florence Briggs Th...  female  38.0      1   \n2                              Heikkinen, Miss. Laina  female  26.0      0   \n3        Futrelle, Mrs. Jacques Heath (Lily May Peel)  female  35.0      1   \n4                            Allen, Mr. William Henry    male  35.0      0   \n..                                                ...     ...   ...    ...   \n95                        Shorney, Mr. Charles Joseph    male   NaN      0   \n96                          Goldschmidt, Mr. George B    male  71.0      0   \n97                    Greenfield, Mr. William Bertram    male  23.0      0   \n98               Doling, Mrs. John T (Ada Julia Bone)  female  34.0      0   \n99                                  Kantor, Mr. Sinai    male  34.0      1   \n\n    Parch            Ticket     Fare    Cabin Embarked  \n0       0         A/5 21171   7.2500      NaN        S  \n1       0          PC 17599  71.2833      C85        C  \n2       0  STON/O2. 3101282   7.9250      NaN        S  \n3       0            113803  53.1000     C123        S  \n4       0            373450   8.0500      NaN        S  \n..    ...               ...      ...      ...      ...  \n95      0            374910   8.0500      NaN        S  \n96      0          PC 17754  34.6542       A5        C  \n97      1          PC 17759  63.3583  D10 D12        C  \n98      1            231919  23.0000      NaN        S  \n99      0            244367  26.0000      NaN        S  \n\n[100 rows x 12 columns]",
      "text/html": "<div>\n<style scoped>\n    .dataframe tbody tr th:only-of-type {\n        vertical-align: middle;\n    }\n\n    .dataframe tbody tr th {\n        vertical-align: top;\n    }\n\n    .dataframe thead th {\n        text-align: right;\n    }\n</style>\n<table border=\"1\" class=\"dataframe\">\n  <thead>\n    <tr style=\"text-align: right;\">\n      <th></th>\n      <th>PassengerId</th>\n      <th>Survived</th>\n      <th>Pclass</th>\n      <th>Name</th>\n      <th>Sex</th>\n      <th>Age</th>\n      <th>SibSp</th>\n      <th>Parch</th>\n      <th>Ticket</th>\n      <th>Fare</th>\n      <th>Cabin</th>\n      <th>Embarked</th>\n    </tr>\n  </thead>\n  <tbody>\n    <tr>\n      <th>0</th>\n      <td>1</td>\n      <td>0</td>\n      <td>3</td>\n      <td>Braund, Mr. Owen Harris</td>\n      <td>male</td>\n      <td>22.0</td>\n      <td>1</td>\n      <td>0</td>\n      <td>A/5 21171</td>\n      <td>7.2500</td>\n      <td>NaN</td>\n      <td>S</td>\n    </tr>\n    <tr>\n      <th>1</th>\n      <td>2</td>\n      <td>1</td>\n      <td>1</td>\n      <td>Cumings, Mrs. John Bradley (Florence Briggs Th...</td>\n      <td>female</td>\n      <td>38.0</td>\n      <td>1</td>\n      <td>0</td>\n      <td>PC 17599</td>\n      <td>71.2833</td>\n      <td>C85</td>\n      <td>C</td>\n    </tr>\n    <tr>\n      <th>2</th>\n      <td>3</td>\n      <td>1</td>\n      <td>3</td>\n      <td>Heikkinen, Miss. Laina</td>\n      <td>female</td>\n      <td>26.0</td>\n      <td>0</td>\n      <td>0</td>\n      <td>STON/O2. 3101282</td>\n      <td>7.9250</td>\n      <td>NaN</td>\n      <td>S</td>\n    </tr>\n    <tr>\n      <th>3</th>\n      <td>4</td>\n      <td>1</td>\n      <td>1</td>\n      <td>Futrelle, Mrs. Jacques Heath (Lily May Peel)</td>\n      <td>female</td>\n      <td>35.0</td>\n      <td>1</td>\n      <td>0</td>\n      <td>113803</td>\n      <td>53.1000</td>\n      <td>C123</td>\n      <td>S</td>\n    </tr>\n    <tr>\n      <th>4</th>\n      <td>5</td>\n      <td>0</td>\n      <td>3</td>\n      <td>Allen, Mr. William Henry</td>\n      <td>male</td>\n      <td>35.0</td>\n      <td>0</td>\n      <td>0</td>\n      <td>373450</td>\n      <td>8.0500</td>\n      <td>NaN</td>\n      <td>S</td>\n    </tr>\n    <tr>\n      <th>...</th>\n      <td>...</td>\n      <td>...</td>\n      <td>...</td>\n      <td>...</td>\n      <td>...</td>\n      <td>...</td>\n      <td>...</td>\n      <td>...</td>\n      <td>...</td>\n      <td>...</td>\n      <td>...</td>\n      <td>...</td>\n    </tr>\n    <tr>\n      <th>95</th>\n      <td>96</td>\n      <td>0</td>\n      <td>3</td>\n      <td>Shorney, Mr. Charles Joseph</td>\n      <td>male</td>\n      <td>NaN</td>\n      <td>0</td>\n      <td>0</td>\n      <td>374910</td>\n      <td>8.0500</td>\n      <td>NaN</td>\n      <td>S</td>\n    </tr>\n    <tr>\n      <th>96</th>\n      <td>97</td>\n      <td>0</td>\n      <td>1</td>\n      <td>Goldschmidt, Mr. George B</td>\n      <td>male</td>\n      <td>71.0</td>\n      <td>0</td>\n      <td>0</td>\n      <td>PC 17754</td>\n      <td>34.6542</td>\n      <td>A5</td>\n      <td>C</td>\n    </tr>\n    <tr>\n      <th>97</th>\n      <td>98</td>\n      <td>1</td>\n      <td>1</td>\n      <td>Greenfield, Mr. William Bertram</td>\n      <td>male</td>\n      <td>23.0</td>\n      <td>0</td>\n      <td>1</td>\n      <td>PC 17759</td>\n      <td>63.3583</td>\n      <td>D10 D12</td>\n      <td>C</td>\n    </tr>\n    <tr>\n      <th>98</th>\n      <td>99</td>\n      <td>1</td>\n      <td>2</td>\n      <td>Doling, Mrs. John T (Ada Julia Bone)</td>\n      <td>female</td>\n      <td>34.0</td>\n      <td>0</td>\n      <td>1</td>\n      <td>231919</td>\n      <td>23.0000</td>\n      <td>NaN</td>\n      <td>S</td>\n    </tr>\n    <tr>\n      <th>99</th>\n      <td>100</td>\n      <td>0</td>\n      <td>2</td>\n      <td>Kantor, Mr. Sinai</td>\n      <td>male</td>\n      <td>34.0</td>\n      <td>1</td>\n      <td>0</td>\n      <td>244367</td>\n      <td>26.0000</td>\n      <td>NaN</td>\n      <td>S</td>\n    </tr>\n  </tbody>\n</table>\n<p>100 rows × 12 columns</p>\n</div>"
     },
     "execution_count": 35,
     "metadata": {},
     "output_type": "execute_result"
    }
   ]
  },
  {
   "cell_type": "code",
   "source": [
    "df[df['Age'].isin([26, 27, 28])]"
   ],
   "metadata": {
    "colab": {
     "base_uri": "https://localhost:8080/",
     "height": 936
    },
    "id": "2IFQxDpI4Ui5",
    "outputId": "86178559-4802-46f3-9cdb-a560c7245beb",
    "ExecuteTime": {
     "end_time": "2023-10-21T11:29:20.878641Z",
     "start_time": "2023-10-21T11:29:20.802989Z"
    }
   },
   "execution_count": 36,
   "outputs": [
    {
     "data": {
      "text/plain": "     PassengerId  Survived  Pclass  \\\n2              3         1       3   \n8              9         1       3   \n23            24         1       1   \n34            35         0       1   \n41            42         0       2   \n..           ...       ...     ...   \n870          871         0       3   \n874          875         1       2   \n883          884         0       2   \n886          887         0       2   \n889          890         1       1   \n\n                                                  Name     Sex   Age  SibSp  \\\n2                               Heikkinen, Miss. Laina  female  26.0      0   \n8    Johnson, Mrs. Oscar W (Elisabeth Vilhelmina Berg)  female  27.0      0   \n23                        Sloper, Mr. William Thompson    male  28.0      0   \n34                             Meyer, Mr. Edgar Joseph    male  28.0      1   \n41   Turpin, Mrs. William John Robert (Dorothy Ann ...  female  27.0      1   \n..                                                 ...     ...   ...    ...   \n870                                  Balkic, Mr. Cerin    male  26.0      0   \n874              Abelson, Mrs. Samuel (Hannah Wizosky)  female  28.0      1   \n883                      Banfield, Mr. Frederick James    male  28.0      0   \n886                              Montvila, Rev. Juozas    male  27.0      0   \n889                              Behr, Mr. Karl Howell    male  26.0      0   \n\n     Parch            Ticket     Fare Cabin Embarked  \n2        0  STON/O2. 3101282   7.9250   NaN        S  \n8        2            347742  11.1333   NaN        S  \n23       0            113788  35.5000    A6        S  \n34       0          PC 17604  82.1708   NaN        C  \n41       0             11668  21.0000   NaN        S  \n..     ...               ...      ...   ...      ...  \n870      0            349248   7.8958   NaN        S  \n874      0         P/PP 3381  24.0000   NaN        C  \n883      0  C.A./SOTON 34068  10.5000   NaN        S  \n886      0            211536  13.0000   NaN        S  \n889      0            111369  30.0000  C148        C  \n\n[61 rows x 12 columns]",
      "text/html": "<div>\n<style scoped>\n    .dataframe tbody tr th:only-of-type {\n        vertical-align: middle;\n    }\n\n    .dataframe tbody tr th {\n        vertical-align: top;\n    }\n\n    .dataframe thead th {\n        text-align: right;\n    }\n</style>\n<table border=\"1\" class=\"dataframe\">\n  <thead>\n    <tr style=\"text-align: right;\">\n      <th></th>\n      <th>PassengerId</th>\n      <th>Survived</th>\n      <th>Pclass</th>\n      <th>Name</th>\n      <th>Sex</th>\n      <th>Age</th>\n      <th>SibSp</th>\n      <th>Parch</th>\n      <th>Ticket</th>\n      <th>Fare</th>\n      <th>Cabin</th>\n      <th>Embarked</th>\n    </tr>\n  </thead>\n  <tbody>\n    <tr>\n      <th>2</th>\n      <td>3</td>\n      <td>1</td>\n      <td>3</td>\n      <td>Heikkinen, Miss. Laina</td>\n      <td>female</td>\n      <td>26.0</td>\n      <td>0</td>\n      <td>0</td>\n      <td>STON/O2. 3101282</td>\n      <td>7.9250</td>\n      <td>NaN</td>\n      <td>S</td>\n    </tr>\n    <tr>\n      <th>8</th>\n      <td>9</td>\n      <td>1</td>\n      <td>3</td>\n      <td>Johnson, Mrs. Oscar W (Elisabeth Vilhelmina Berg)</td>\n      <td>female</td>\n      <td>27.0</td>\n      <td>0</td>\n      <td>2</td>\n      <td>347742</td>\n      <td>11.1333</td>\n      <td>NaN</td>\n      <td>S</td>\n    </tr>\n    <tr>\n      <th>23</th>\n      <td>24</td>\n      <td>1</td>\n      <td>1</td>\n      <td>Sloper, Mr. William Thompson</td>\n      <td>male</td>\n      <td>28.0</td>\n      <td>0</td>\n      <td>0</td>\n      <td>113788</td>\n      <td>35.5000</td>\n      <td>A6</td>\n      <td>S</td>\n    </tr>\n    <tr>\n      <th>34</th>\n      <td>35</td>\n      <td>0</td>\n      <td>1</td>\n      <td>Meyer, Mr. Edgar Joseph</td>\n      <td>male</td>\n      <td>28.0</td>\n      <td>1</td>\n      <td>0</td>\n      <td>PC 17604</td>\n      <td>82.1708</td>\n      <td>NaN</td>\n      <td>C</td>\n    </tr>\n    <tr>\n      <th>41</th>\n      <td>42</td>\n      <td>0</td>\n      <td>2</td>\n      <td>Turpin, Mrs. William John Robert (Dorothy Ann ...</td>\n      <td>female</td>\n      <td>27.0</td>\n      <td>1</td>\n      <td>0</td>\n      <td>11668</td>\n      <td>21.0000</td>\n      <td>NaN</td>\n      <td>S</td>\n    </tr>\n    <tr>\n      <th>...</th>\n      <td>...</td>\n      <td>...</td>\n      <td>...</td>\n      <td>...</td>\n      <td>...</td>\n      <td>...</td>\n      <td>...</td>\n      <td>...</td>\n      <td>...</td>\n      <td>...</td>\n      <td>...</td>\n      <td>...</td>\n    </tr>\n    <tr>\n      <th>870</th>\n      <td>871</td>\n      <td>0</td>\n      <td>3</td>\n      <td>Balkic, Mr. Cerin</td>\n      <td>male</td>\n      <td>26.0</td>\n      <td>0</td>\n      <td>0</td>\n      <td>349248</td>\n      <td>7.8958</td>\n      <td>NaN</td>\n      <td>S</td>\n    </tr>\n    <tr>\n      <th>874</th>\n      <td>875</td>\n      <td>1</td>\n      <td>2</td>\n      <td>Abelson, Mrs. Samuel (Hannah Wizosky)</td>\n      <td>female</td>\n      <td>28.0</td>\n      <td>1</td>\n      <td>0</td>\n      <td>P/PP 3381</td>\n      <td>24.0000</td>\n      <td>NaN</td>\n      <td>C</td>\n    </tr>\n    <tr>\n      <th>883</th>\n      <td>884</td>\n      <td>0</td>\n      <td>2</td>\n      <td>Banfield, Mr. Frederick James</td>\n      <td>male</td>\n      <td>28.0</td>\n      <td>0</td>\n      <td>0</td>\n      <td>C.A./SOTON 34068</td>\n      <td>10.5000</td>\n      <td>NaN</td>\n      <td>S</td>\n    </tr>\n    <tr>\n      <th>886</th>\n      <td>887</td>\n      <td>0</td>\n      <td>2</td>\n      <td>Montvila, Rev. Juozas</td>\n      <td>male</td>\n      <td>27.0</td>\n      <td>0</td>\n      <td>0</td>\n      <td>211536</td>\n      <td>13.0000</td>\n      <td>NaN</td>\n      <td>S</td>\n    </tr>\n    <tr>\n      <th>889</th>\n      <td>890</td>\n      <td>1</td>\n      <td>1</td>\n      <td>Behr, Mr. Karl Howell</td>\n      <td>male</td>\n      <td>26.0</td>\n      <td>0</td>\n      <td>0</td>\n      <td>111369</td>\n      <td>30.0000</td>\n      <td>C148</td>\n      <td>C</td>\n    </tr>\n  </tbody>\n</table>\n<p>61 rows × 12 columns</p>\n</div>"
     },
     "execution_count": 36,
     "metadata": {},
     "output_type": "execute_result"
    }
   ]
  },
  {
   "cell_type": "code",
   "source": [
    "df['Name'].str.replace(',','').str.split()"
   ],
   "metadata": {
    "colab": {
     "base_uri": "https://localhost:8080/"
    },
    "id": "s8pdc9Fv4dFb",
    "outputId": "0fe447d4-5ef3-42e2-b00b-280c8d6e91ab"
   },
   "execution_count": null,
   "outputs": [
    {
     "output_type": "execute_result",
     "data": {
      "text/plain": [
       "0                            [Braund, Mr., Owen, Harris]\n",
       "1      [Cumings, Mrs., John, Bradley, (Florence, Brig...\n",
       "2                              [Heikkinen, Miss., Laina]\n",
       "3      [Futrelle, Mrs., Jacques, Heath, (Lily, May, P...\n",
       "4                           [Allen, Mr., William, Henry]\n",
       "                             ...                        \n",
       "886                             [Montvila, Rev., Juozas]\n",
       "887                     [Graham, Miss., Margaret, Edith]\n",
       "888        [Johnston, Miss., Catherine, Helen, \"Carrie\"]\n",
       "889                            [Behr, Mr., Karl, Howell]\n",
       "890                               [Dooley, Mr., Patrick]\n",
       "Name: Name, Length: 891, dtype: object"
      ]
     },
     "metadata": {},
     "execution_count": 8
    }
   ]
  },
  {
   "cell_type": "code",
   "source": [
    "df[df['Name'].str.contains('Mrs')]"
   ],
   "metadata": {
    "colab": {
     "base_uri": "https://localhost:8080/",
     "height": 954
    },
    "id": "OZpryiXP4n4x",
    "outputId": "ecad4d93-38ad-4ac9-e3f6-7be1e3b7f531"
   },
   "execution_count": null,
   "outputs": [
    {
     "output_type": "execute_result",
     "data": {
      "text/plain": [
       "     PassengerId  Survived  Pclass  \\\n",
       "1              2         1       1   \n",
       "3              4         1       1   \n",
       "8              9         1       3   \n",
       "9             10         1       2   \n",
       "15            16         1       2   \n",
       "..           ...       ...     ...   \n",
       "871          872         1       1   \n",
       "874          875         1       2   \n",
       "879          880         1       1   \n",
       "880          881         1       2   \n",
       "885          886         0       3   \n",
       "\n",
       "                                                  Name     Sex   Age  SibSp  \\\n",
       "1    Cumings, Mrs. John Bradley (Florence Briggs Th...  female  38.0      1   \n",
       "3         Futrelle, Mrs. Jacques Heath (Lily May Peel)  female  35.0      1   \n",
       "8    Johnson, Mrs. Oscar W (Elisabeth Vilhelmina Berg)  female  27.0      0   \n",
       "9                  Nasser, Mrs. Nicholas (Adele Achem)  female  14.0      1   \n",
       "15                    Hewlett, Mrs. (Mary D Kingcome)   female  55.0      0   \n",
       "..                                                 ...     ...   ...    ...   \n",
       "871   Beckwith, Mrs. Richard Leonard (Sallie Monypeny)  female  47.0      1   \n",
       "874              Abelson, Mrs. Samuel (Hannah Wizosky)  female  28.0      1   \n",
       "879      Potter, Mrs. Thomas Jr (Lily Alexenia Wilson)  female  56.0      0   \n",
       "880       Shelley, Mrs. William (Imanita Parrish Hall)  female  25.0      0   \n",
       "885               Rice, Mrs. William (Margaret Norton)  female  39.0      0   \n",
       "\n",
       "     Parch     Ticket     Fare Cabin Embarked  \n",
       "1        0   PC 17599  71.2833   C85        C  \n",
       "3        0     113803  53.1000  C123        S  \n",
       "8        2     347742  11.1333   NaN        S  \n",
       "9        0     237736  30.0708   NaN        C  \n",
       "15       0     248706  16.0000   NaN        S  \n",
       "..     ...        ...      ...   ...      ...  \n",
       "871      1      11751  52.5542   D35        S  \n",
       "874      0  P/PP 3381  24.0000   NaN        C  \n",
       "879      1      11767  83.1583   C50        C  \n",
       "880      1     230433  26.0000   NaN        S  \n",
       "885      5     382652  29.1250   NaN        Q  \n",
       "\n",
       "[129 rows x 12 columns]"
      ],
      "text/html": [
       "\n",
       "  <div id=\"df-b470e3f8-f85b-415d-909c-f1cd56279592\">\n",
       "    <div class=\"colab-df-container\">\n",
       "      <div>\n",
       "<style scoped>\n",
       "    .dataframe tbody tr th:only-of-type {\n",
       "        vertical-align: middle;\n",
       "    }\n",
       "\n",
       "    .dataframe tbody tr th {\n",
       "        vertical-align: top;\n",
       "    }\n",
       "\n",
       "    .dataframe thead th {\n",
       "        text-align: right;\n",
       "    }\n",
       "</style>\n",
       "<table border=\"1\" class=\"dataframe\">\n",
       "  <thead>\n",
       "    <tr style=\"text-align: right;\">\n",
       "      <th></th>\n",
       "      <th>PassengerId</th>\n",
       "      <th>Survived</th>\n",
       "      <th>Pclass</th>\n",
       "      <th>Name</th>\n",
       "      <th>Sex</th>\n",
       "      <th>Age</th>\n",
       "      <th>SibSp</th>\n",
       "      <th>Parch</th>\n",
       "      <th>Ticket</th>\n",
       "      <th>Fare</th>\n",
       "      <th>Cabin</th>\n",
       "      <th>Embarked</th>\n",
       "    </tr>\n",
       "  </thead>\n",
       "  <tbody>\n",
       "    <tr>\n",
       "      <th>1</th>\n",
       "      <td>2</td>\n",
       "      <td>1</td>\n",
       "      <td>1</td>\n",
       "      <td>Cumings, Mrs. John Bradley (Florence Briggs Th...</td>\n",
       "      <td>female</td>\n",
       "      <td>38.0</td>\n",
       "      <td>1</td>\n",
       "      <td>0</td>\n",
       "      <td>PC 17599</td>\n",
       "      <td>71.2833</td>\n",
       "      <td>C85</td>\n",
       "      <td>C</td>\n",
       "    </tr>\n",
       "    <tr>\n",
       "      <th>3</th>\n",
       "      <td>4</td>\n",
       "      <td>1</td>\n",
       "      <td>1</td>\n",
       "      <td>Futrelle, Mrs. Jacques Heath (Lily May Peel)</td>\n",
       "      <td>female</td>\n",
       "      <td>35.0</td>\n",
       "      <td>1</td>\n",
       "      <td>0</td>\n",
       "      <td>113803</td>\n",
       "      <td>53.1000</td>\n",
       "      <td>C123</td>\n",
       "      <td>S</td>\n",
       "    </tr>\n",
       "    <tr>\n",
       "      <th>8</th>\n",
       "      <td>9</td>\n",
       "      <td>1</td>\n",
       "      <td>3</td>\n",
       "      <td>Johnson, Mrs. Oscar W (Elisabeth Vilhelmina Berg)</td>\n",
       "      <td>female</td>\n",
       "      <td>27.0</td>\n",
       "      <td>0</td>\n",
       "      <td>2</td>\n",
       "      <td>347742</td>\n",
       "      <td>11.1333</td>\n",
       "      <td>NaN</td>\n",
       "      <td>S</td>\n",
       "    </tr>\n",
       "    <tr>\n",
       "      <th>9</th>\n",
       "      <td>10</td>\n",
       "      <td>1</td>\n",
       "      <td>2</td>\n",
       "      <td>Nasser, Mrs. Nicholas (Adele Achem)</td>\n",
       "      <td>female</td>\n",
       "      <td>14.0</td>\n",
       "      <td>1</td>\n",
       "      <td>0</td>\n",
       "      <td>237736</td>\n",
       "      <td>30.0708</td>\n",
       "      <td>NaN</td>\n",
       "      <td>C</td>\n",
       "    </tr>\n",
       "    <tr>\n",
       "      <th>15</th>\n",
       "      <td>16</td>\n",
       "      <td>1</td>\n",
       "      <td>2</td>\n",
       "      <td>Hewlett, Mrs. (Mary D Kingcome)</td>\n",
       "      <td>female</td>\n",
       "      <td>55.0</td>\n",
       "      <td>0</td>\n",
       "      <td>0</td>\n",
       "      <td>248706</td>\n",
       "      <td>16.0000</td>\n",
       "      <td>NaN</td>\n",
       "      <td>S</td>\n",
       "    </tr>\n",
       "    <tr>\n",
       "      <th>...</th>\n",
       "      <td>...</td>\n",
       "      <td>...</td>\n",
       "      <td>...</td>\n",
       "      <td>...</td>\n",
       "      <td>...</td>\n",
       "      <td>...</td>\n",
       "      <td>...</td>\n",
       "      <td>...</td>\n",
       "      <td>...</td>\n",
       "      <td>...</td>\n",
       "      <td>...</td>\n",
       "      <td>...</td>\n",
       "    </tr>\n",
       "    <tr>\n",
       "      <th>871</th>\n",
       "      <td>872</td>\n",
       "      <td>1</td>\n",
       "      <td>1</td>\n",
       "      <td>Beckwith, Mrs. Richard Leonard (Sallie Monypeny)</td>\n",
       "      <td>female</td>\n",
       "      <td>47.0</td>\n",
       "      <td>1</td>\n",
       "      <td>1</td>\n",
       "      <td>11751</td>\n",
       "      <td>52.5542</td>\n",
       "      <td>D35</td>\n",
       "      <td>S</td>\n",
       "    </tr>\n",
       "    <tr>\n",
       "      <th>874</th>\n",
       "      <td>875</td>\n",
       "      <td>1</td>\n",
       "      <td>2</td>\n",
       "      <td>Abelson, Mrs. Samuel (Hannah Wizosky)</td>\n",
       "      <td>female</td>\n",
       "      <td>28.0</td>\n",
       "      <td>1</td>\n",
       "      <td>0</td>\n",
       "      <td>P/PP 3381</td>\n",
       "      <td>24.0000</td>\n",
       "      <td>NaN</td>\n",
       "      <td>C</td>\n",
       "    </tr>\n",
       "    <tr>\n",
       "      <th>879</th>\n",
       "      <td>880</td>\n",
       "      <td>1</td>\n",
       "      <td>1</td>\n",
       "      <td>Potter, Mrs. Thomas Jr (Lily Alexenia Wilson)</td>\n",
       "      <td>female</td>\n",
       "      <td>56.0</td>\n",
       "      <td>0</td>\n",
       "      <td>1</td>\n",
       "      <td>11767</td>\n",
       "      <td>83.1583</td>\n",
       "      <td>C50</td>\n",
       "      <td>C</td>\n",
       "    </tr>\n",
       "    <tr>\n",
       "      <th>880</th>\n",
       "      <td>881</td>\n",
       "      <td>1</td>\n",
       "      <td>2</td>\n",
       "      <td>Shelley, Mrs. William (Imanita Parrish Hall)</td>\n",
       "      <td>female</td>\n",
       "      <td>25.0</td>\n",
       "      <td>0</td>\n",
       "      <td>1</td>\n",
       "      <td>230433</td>\n",
       "      <td>26.0000</td>\n",
       "      <td>NaN</td>\n",
       "      <td>S</td>\n",
       "    </tr>\n",
       "    <tr>\n",
       "      <th>885</th>\n",
       "      <td>886</td>\n",
       "      <td>0</td>\n",
       "      <td>3</td>\n",
       "      <td>Rice, Mrs. William (Margaret Norton)</td>\n",
       "      <td>female</td>\n",
       "      <td>39.0</td>\n",
       "      <td>0</td>\n",
       "      <td>5</td>\n",
       "      <td>382652</td>\n",
       "      <td>29.1250</td>\n",
       "      <td>NaN</td>\n",
       "      <td>Q</td>\n",
       "    </tr>\n",
       "  </tbody>\n",
       "</table>\n",
       "<p>129 rows × 12 columns</p>\n",
       "</div>\n",
       "      <button class=\"colab-df-convert\" onclick=\"convertToInteractive('df-b470e3f8-f85b-415d-909c-f1cd56279592')\"\n",
       "              title=\"Convert this dataframe to an interactive table.\"\n",
       "              style=\"display:none;\">\n",
       "        \n",
       "  <svg xmlns=\"http://www.w3.org/2000/svg\" height=\"24px\"viewBox=\"0 0 24 24\"\n",
       "       width=\"24px\">\n",
       "    <path d=\"M0 0h24v24H0V0z\" fill=\"none\"/>\n",
       "    <path d=\"M18.56 5.44l.94 2.06.94-2.06 2.06-.94-2.06-.94-.94-2.06-.94 2.06-2.06.94zm-11 1L8.5 8.5l.94-2.06 2.06-.94-2.06-.94L8.5 2.5l-.94 2.06-2.06.94zm10 10l.94 2.06.94-2.06 2.06-.94-2.06-.94-.94-2.06-.94 2.06-2.06.94z\"/><path d=\"M17.41 7.96l-1.37-1.37c-.4-.4-.92-.59-1.43-.59-.52 0-1.04.2-1.43.59L10.3 9.45l-7.72 7.72c-.78.78-.78 2.05 0 2.83L4 21.41c.39.39.9.59 1.41.59.51 0 1.02-.2 1.41-.59l7.78-7.78 2.81-2.81c.8-.78.8-2.07 0-2.86zM5.41 20L4 18.59l7.72-7.72 1.47 1.35L5.41 20z\"/>\n",
       "  </svg>\n",
       "      </button>\n",
       "      \n",
       "  <style>\n",
       "    .colab-df-container {\n",
       "      display:flex;\n",
       "      flex-wrap:wrap;\n",
       "      gap: 12px;\n",
       "    }\n",
       "\n",
       "    .colab-df-convert {\n",
       "      background-color: #E8F0FE;\n",
       "      border: none;\n",
       "      border-radius: 50%;\n",
       "      cursor: pointer;\n",
       "      display: none;\n",
       "      fill: #1967D2;\n",
       "      height: 32px;\n",
       "      padding: 0 0 0 0;\n",
       "      width: 32px;\n",
       "    }\n",
       "\n",
       "    .colab-df-convert:hover {\n",
       "      background-color: #E2EBFA;\n",
       "      box-shadow: 0px 1px 2px rgba(60, 64, 67, 0.3), 0px 1px 3px 1px rgba(60, 64, 67, 0.15);\n",
       "      fill: #174EA6;\n",
       "    }\n",
       "\n",
       "    [theme=dark] .colab-df-convert {\n",
       "      background-color: #3B4455;\n",
       "      fill: #D2E3FC;\n",
       "    }\n",
       "\n",
       "    [theme=dark] .colab-df-convert:hover {\n",
       "      background-color: #434B5C;\n",
       "      box-shadow: 0px 1px 3px 1px rgba(0, 0, 0, 0.15);\n",
       "      filter: drop-shadow(0px 1px 2px rgba(0, 0, 0, 0.3));\n",
       "      fill: #FFFFFF;\n",
       "    }\n",
       "  </style>\n",
       "\n",
       "      <script>\n",
       "        const buttonEl =\n",
       "          document.querySelector('#df-b470e3f8-f85b-415d-909c-f1cd56279592 button.colab-df-convert');\n",
       "        buttonEl.style.display =\n",
       "          google.colab.kernel.accessAllowed ? 'block' : 'none';\n",
       "\n",
       "        async function convertToInteractive(key) {\n",
       "          const element = document.querySelector('#df-b470e3f8-f85b-415d-909c-f1cd56279592');\n",
       "          const dataTable =\n",
       "            await google.colab.kernel.invokeFunction('convertToInteractive',\n",
       "                                                     [key], {});\n",
       "          if (!dataTable) return;\n",
       "\n",
       "          const docLinkHtml = 'Like what you see? Visit the ' +\n",
       "            '<a target=\"_blank\" href=https://colab.research.google.com/notebooks/data_table.ipynb>data table notebook</a>'\n",
       "            + ' to learn more about interactive tables.';\n",
       "          element.innerHTML = '';\n",
       "          dataTable['output_type'] = 'display_data';\n",
       "          await google.colab.output.renderOutput(dataTable, element);\n",
       "          const docLink = document.createElement('div');\n",
       "          docLink.innerHTML = docLinkHtml;\n",
       "          element.appendChild(docLink);\n",
       "        }\n",
       "      </script>\n",
       "    </div>\n",
       "  </div>\n",
       "  "
      ]
     },
     "metadata": {},
     "execution_count": 10
    }
   ]
  },
  {
   "cell_type": "code",
   "source": [
    "df['Pclass'].memory_usage()"
   ],
   "metadata": {
    "colab": {
     "base_uri": "https://localhost:8080/"
    },
    "id": "_gNo7oui5Dix",
    "outputId": "742e7f0e-ba8c-41fa-98b4-9c12e61712f7",
    "ExecuteTime": {
     "end_time": "2023-10-21T11:30:13.457206Z",
     "start_time": "2023-10-21T11:30:13.414952Z"
    }
   },
   "execution_count": 37,
   "outputs": [
    {
     "data": {
      "text/plain": "7256"
     },
     "execution_count": 37,
     "metadata": {},
     "output_type": "execute_result"
    }
   ]
  },
  {
   "cell_type": "code",
   "source": [
    "df['Pclass'].astype('category').cat.codes.memory_usage()"
   ],
   "metadata": {
    "colab": {
     "base_uri": "https://localhost:8080/"
    },
    "id": "fQgqPWd24u8J",
    "outputId": "5d07e4be-d087-4c4f-e65f-29b15966943c"
   },
   "execution_count": null,
   "outputs": [
    {
     "output_type": "execute_result",
     "data": {
      "text/plain": [
       "1019"
      ]
     },
     "metadata": {},
     "execution_count": 14
    }
   ]
  },
  {
   "cell_type": "code",
   "source": [
    "lower = df['Age'].quantile(0.05)\n",
    "upper = df['Age'].quantile(0.95)\n",
    "print(lower, upper)"
   ],
   "metadata": {
    "colab": {
     "base_uri": "https://localhost:8080/"
    },
    "id": "9JMn_jtq5ILx",
    "outputId": "fa32db23-4787-4157-f39f-ed1927032502"
   },
   "execution_count": null,
   "outputs": [
    {
     "output_type": "stream",
     "name": "stdout",
     "text": [
      "4.0 56.0\n"
     ]
    }
   ]
  },
  {
   "cell_type": "markdown",
   "source": [
    "## 8.  Index Operations\n",
    "\n",
    " Index objects are ***immutable*** and cannot be modified directly"
   ],
   "metadata": {
    "id": "jAEoPcBXc9kM"
   }
  },
  {
   "cell_type": "code",
   "source": [
    "import pandas as pd\n",
    "\n",
    "df = pd.read_csv('https://raw.githubusercontent.com/agconti/kaggle-titanic/master/data/train.csv')\n",
    "df.index"
   ],
   "metadata": {
    "id": "nJN7nZ1Nc-ad",
    "colab": {
     "base_uri": "https://localhost:8080/"
    },
    "outputId": "28193eac-1b14-4248-87c0-350302d6bbbb",
    "ExecuteTime": {
     "end_time": "2023-10-21T11:30:53.240316Z",
     "start_time": "2023-10-21T11:30:53.122775Z"
    }
   },
   "execution_count": 38,
   "outputs": [
    {
     "data": {
      "text/plain": "RangeIndex(start=0, stop=891, step=1)"
     },
     "execution_count": 38,
     "metadata": {},
     "output_type": "execute_result"
    }
   ]
  },
  {
   "cell_type": "code",
   "source": [
    "df.index.values"
   ],
   "metadata": {
    "id": "Ifb_Oi8j5vKi",
    "ExecuteTime": {
     "end_time": "2023-10-21T11:30:59.288040Z",
     "start_time": "2023-10-21T11:30:59.262706Z"
    }
   },
   "execution_count": 39,
   "outputs": [
    {
     "data": {
      "text/plain": "array([  0,   1,   2,   3,   4,   5,   6,   7,   8,   9,  10,  11,  12,\n        13,  14,  15,  16,  17,  18,  19,  20,  21,  22,  23,  24,  25,\n        26,  27,  28,  29,  30,  31,  32,  33,  34,  35,  36,  37,  38,\n        39,  40,  41,  42,  43,  44,  45,  46,  47,  48,  49,  50,  51,\n        52,  53,  54,  55,  56,  57,  58,  59,  60,  61,  62,  63,  64,\n        65,  66,  67,  68,  69,  70,  71,  72,  73,  74,  75,  76,  77,\n        78,  79,  80,  81,  82,  83,  84,  85,  86,  87,  88,  89,  90,\n        91,  92,  93,  94,  95,  96,  97,  98,  99, 100, 101, 102, 103,\n       104, 105, 106, 107, 108, 109, 110, 111, 112, 113, 114, 115, 116,\n       117, 118, 119, 120, 121, 122, 123, 124, 125, 126, 127, 128, 129,\n       130, 131, 132, 133, 134, 135, 136, 137, 138, 139, 140, 141, 142,\n       143, 144, 145, 146, 147, 148, 149, 150, 151, 152, 153, 154, 155,\n       156, 157, 158, 159, 160, 161, 162, 163, 164, 165, 166, 167, 168,\n       169, 170, 171, 172, 173, 174, 175, 176, 177, 178, 179, 180, 181,\n       182, 183, 184, 185, 186, 187, 188, 189, 190, 191, 192, 193, 194,\n       195, 196, 197, 198, 199, 200, 201, 202, 203, 204, 205, 206, 207,\n       208, 209, 210, 211, 212, 213, 214, 215, 216, 217, 218, 219, 220,\n       221, 222, 223, 224, 225, 226, 227, 228, 229, 230, 231, 232, 233,\n       234, 235, 236, 237, 238, 239, 240, 241, 242, 243, 244, 245, 246,\n       247, 248, 249, 250, 251, 252, 253, 254, 255, 256, 257, 258, 259,\n       260, 261, 262, 263, 264, 265, 266, 267, 268, 269, 270, 271, 272,\n       273, 274, 275, 276, 277, 278, 279, 280, 281, 282, 283, 284, 285,\n       286, 287, 288, 289, 290, 291, 292, 293, 294, 295, 296, 297, 298,\n       299, 300, 301, 302, 303, 304, 305, 306, 307, 308, 309, 310, 311,\n       312, 313, 314, 315, 316, 317, 318, 319, 320, 321, 322, 323, 324,\n       325, 326, 327, 328, 329, 330, 331, 332, 333, 334, 335, 336, 337,\n       338, 339, 340, 341, 342, 343, 344, 345, 346, 347, 348, 349, 350,\n       351, 352, 353, 354, 355, 356, 357, 358, 359, 360, 361, 362, 363,\n       364, 365, 366, 367, 368, 369, 370, 371, 372, 373, 374, 375, 376,\n       377, 378, 379, 380, 381, 382, 383, 384, 385, 386, 387, 388, 389,\n       390, 391, 392, 393, 394, 395, 396, 397, 398, 399, 400, 401, 402,\n       403, 404, 405, 406, 407, 408, 409, 410, 411, 412, 413, 414, 415,\n       416, 417, 418, 419, 420, 421, 422, 423, 424, 425, 426, 427, 428,\n       429, 430, 431, 432, 433, 434, 435, 436, 437, 438, 439, 440, 441,\n       442, 443, 444, 445, 446, 447, 448, 449, 450, 451, 452, 453, 454,\n       455, 456, 457, 458, 459, 460, 461, 462, 463, 464, 465, 466, 467,\n       468, 469, 470, 471, 472, 473, 474, 475, 476, 477, 478, 479, 480,\n       481, 482, 483, 484, 485, 486, 487, 488, 489, 490, 491, 492, 493,\n       494, 495, 496, 497, 498, 499, 500, 501, 502, 503, 504, 505, 506,\n       507, 508, 509, 510, 511, 512, 513, 514, 515, 516, 517, 518, 519,\n       520, 521, 522, 523, 524, 525, 526, 527, 528, 529, 530, 531, 532,\n       533, 534, 535, 536, 537, 538, 539, 540, 541, 542, 543, 544, 545,\n       546, 547, 548, 549, 550, 551, 552, 553, 554, 555, 556, 557, 558,\n       559, 560, 561, 562, 563, 564, 565, 566, 567, 568, 569, 570, 571,\n       572, 573, 574, 575, 576, 577, 578, 579, 580, 581, 582, 583, 584,\n       585, 586, 587, 588, 589, 590, 591, 592, 593, 594, 595, 596, 597,\n       598, 599, 600, 601, 602, 603, 604, 605, 606, 607, 608, 609, 610,\n       611, 612, 613, 614, 615, 616, 617, 618, 619, 620, 621, 622, 623,\n       624, 625, 626, 627, 628, 629, 630, 631, 632, 633, 634, 635, 636,\n       637, 638, 639, 640, 641, 642, 643, 644, 645, 646, 647, 648, 649,\n       650, 651, 652, 653, 654, 655, 656, 657, 658, 659, 660, 661, 662,\n       663, 664, 665, 666, 667, 668, 669, 670, 671, 672, 673, 674, 675,\n       676, 677, 678, 679, 680, 681, 682, 683, 684, 685, 686, 687, 688,\n       689, 690, 691, 692, 693, 694, 695, 696, 697, 698, 699, 700, 701,\n       702, 703, 704, 705, 706, 707, 708, 709, 710, 711, 712, 713, 714,\n       715, 716, 717, 718, 719, 720, 721, 722, 723, 724, 725, 726, 727,\n       728, 729, 730, 731, 732, 733, 734, 735, 736, 737, 738, 739, 740,\n       741, 742, 743, 744, 745, 746, 747, 748, 749, 750, 751, 752, 753,\n       754, 755, 756, 757, 758, 759, 760, 761, 762, 763, 764, 765, 766,\n       767, 768, 769, 770, 771, 772, 773, 774, 775, 776, 777, 778, 779,\n       780, 781, 782, 783, 784, 785, 786, 787, 788, 789, 790, 791, 792,\n       793, 794, 795, 796, 797, 798, 799, 800, 801, 802, 803, 804, 805,\n       806, 807, 808, 809, 810, 811, 812, 813, 814, 815, 816, 817, 818,\n       819, 820, 821, 822, 823, 824, 825, 826, 827, 828, 829, 830, 831,\n       832, 833, 834, 835, 836, 837, 838, 839, 840, 841, 842, 843, 844,\n       845, 846, 847, 848, 849, 850, 851, 852, 853, 854, 855, 856, 857,\n       858, 859, 860, 861, 862, 863, 864, 865, 866, 867, 868, 869, 870,\n       871, 872, 873, 874, 875, 876, 877, 878, 879, 880, 881, 882, 883,\n       884, 885, 886, 887, 888, 889, 890])"
     },
     "execution_count": 39,
     "metadata": {},
     "output_type": "execute_result"
    }
   ]
  },
  {
   "cell_type": "code",
   "source": [
    "df.reset_index(inplace=False)"
   ],
   "metadata": {
    "id": "SBDR0tal50_5",
    "ExecuteTime": {
     "end_time": "2023-10-21T11:31:04.547107Z",
     "start_time": "2023-10-21T11:31:04.505030Z"
    }
   },
   "execution_count": 40,
   "outputs": [
    {
     "data": {
      "text/plain": "     index  PassengerId  Survived  Pclass  \\\n0        0            1         0       3   \n1        1            2         1       1   \n2        2            3         1       3   \n3        3            4         1       1   \n4        4            5         0       3   \n..     ...          ...       ...     ...   \n886    886          887         0       2   \n887    887          888         1       1   \n888    888          889         0       3   \n889    889          890         1       1   \n890    890          891         0       3   \n\n                                                  Name     Sex   Age  SibSp  \\\n0                              Braund, Mr. Owen Harris    male  22.0      1   \n1    Cumings, Mrs. John Bradley (Florence Briggs Th...  female  38.0      1   \n2                               Heikkinen, Miss. Laina  female  26.0      0   \n3         Futrelle, Mrs. Jacques Heath (Lily May Peel)  female  35.0      1   \n4                             Allen, Mr. William Henry    male  35.0      0   \n..                                                 ...     ...   ...    ...   \n886                              Montvila, Rev. Juozas    male  27.0      0   \n887                       Graham, Miss. Margaret Edith  female  19.0      0   \n888           Johnston, Miss. Catherine Helen \"Carrie\"  female   NaN      1   \n889                              Behr, Mr. Karl Howell    male  26.0      0   \n890                                Dooley, Mr. Patrick    male  32.0      0   \n\n     Parch            Ticket     Fare Cabin Embarked  \n0        0         A/5 21171   7.2500   NaN        S  \n1        0          PC 17599  71.2833   C85        C  \n2        0  STON/O2. 3101282   7.9250   NaN        S  \n3        0            113803  53.1000  C123        S  \n4        0            373450   8.0500   NaN        S  \n..     ...               ...      ...   ...      ...  \n886      0            211536  13.0000   NaN        S  \n887      0            112053  30.0000   B42        S  \n888      2        W./C. 6607  23.4500   NaN        S  \n889      0            111369  30.0000  C148        C  \n890      0            370376   7.7500   NaN        Q  \n\n[891 rows x 13 columns]",
      "text/html": "<div>\n<style scoped>\n    .dataframe tbody tr th:only-of-type {\n        vertical-align: middle;\n    }\n\n    .dataframe tbody tr th {\n        vertical-align: top;\n    }\n\n    .dataframe thead th {\n        text-align: right;\n    }\n</style>\n<table border=\"1\" class=\"dataframe\">\n  <thead>\n    <tr style=\"text-align: right;\">\n      <th></th>\n      <th>index</th>\n      <th>PassengerId</th>\n      <th>Survived</th>\n      <th>Pclass</th>\n      <th>Name</th>\n      <th>Sex</th>\n      <th>Age</th>\n      <th>SibSp</th>\n      <th>Parch</th>\n      <th>Ticket</th>\n      <th>Fare</th>\n      <th>Cabin</th>\n      <th>Embarked</th>\n    </tr>\n  </thead>\n  <tbody>\n    <tr>\n      <th>0</th>\n      <td>0</td>\n      <td>1</td>\n      <td>0</td>\n      <td>3</td>\n      <td>Braund, Mr. Owen Harris</td>\n      <td>male</td>\n      <td>22.0</td>\n      <td>1</td>\n      <td>0</td>\n      <td>A/5 21171</td>\n      <td>7.2500</td>\n      <td>NaN</td>\n      <td>S</td>\n    </tr>\n    <tr>\n      <th>1</th>\n      <td>1</td>\n      <td>2</td>\n      <td>1</td>\n      <td>1</td>\n      <td>Cumings, Mrs. John Bradley (Florence Briggs Th...</td>\n      <td>female</td>\n      <td>38.0</td>\n      <td>1</td>\n      <td>0</td>\n      <td>PC 17599</td>\n      <td>71.2833</td>\n      <td>C85</td>\n      <td>C</td>\n    </tr>\n    <tr>\n      <th>2</th>\n      <td>2</td>\n      <td>3</td>\n      <td>1</td>\n      <td>3</td>\n      <td>Heikkinen, Miss. Laina</td>\n      <td>female</td>\n      <td>26.0</td>\n      <td>0</td>\n      <td>0</td>\n      <td>STON/O2. 3101282</td>\n      <td>7.9250</td>\n      <td>NaN</td>\n      <td>S</td>\n    </tr>\n    <tr>\n      <th>3</th>\n      <td>3</td>\n      <td>4</td>\n      <td>1</td>\n      <td>1</td>\n      <td>Futrelle, Mrs. Jacques Heath (Lily May Peel)</td>\n      <td>female</td>\n      <td>35.0</td>\n      <td>1</td>\n      <td>0</td>\n      <td>113803</td>\n      <td>53.1000</td>\n      <td>C123</td>\n      <td>S</td>\n    </tr>\n    <tr>\n      <th>4</th>\n      <td>4</td>\n      <td>5</td>\n      <td>0</td>\n      <td>3</td>\n      <td>Allen, Mr. William Henry</td>\n      <td>male</td>\n      <td>35.0</td>\n      <td>0</td>\n      <td>0</td>\n      <td>373450</td>\n      <td>8.0500</td>\n      <td>NaN</td>\n      <td>S</td>\n    </tr>\n    <tr>\n      <th>...</th>\n      <td>...</td>\n      <td>...</td>\n      <td>...</td>\n      <td>...</td>\n      <td>...</td>\n      <td>...</td>\n      <td>...</td>\n      <td>...</td>\n      <td>...</td>\n      <td>...</td>\n      <td>...</td>\n      <td>...</td>\n      <td>...</td>\n    </tr>\n    <tr>\n      <th>886</th>\n      <td>886</td>\n      <td>887</td>\n      <td>0</td>\n      <td>2</td>\n      <td>Montvila, Rev. Juozas</td>\n      <td>male</td>\n      <td>27.0</td>\n      <td>0</td>\n      <td>0</td>\n      <td>211536</td>\n      <td>13.0000</td>\n      <td>NaN</td>\n      <td>S</td>\n    </tr>\n    <tr>\n      <th>887</th>\n      <td>887</td>\n      <td>888</td>\n      <td>1</td>\n      <td>1</td>\n      <td>Graham, Miss. Margaret Edith</td>\n      <td>female</td>\n      <td>19.0</td>\n      <td>0</td>\n      <td>0</td>\n      <td>112053</td>\n      <td>30.0000</td>\n      <td>B42</td>\n      <td>S</td>\n    </tr>\n    <tr>\n      <th>888</th>\n      <td>888</td>\n      <td>889</td>\n      <td>0</td>\n      <td>3</td>\n      <td>Johnston, Miss. Catherine Helen \"Carrie\"</td>\n      <td>female</td>\n      <td>NaN</td>\n      <td>1</td>\n      <td>2</td>\n      <td>W./C. 6607</td>\n      <td>23.4500</td>\n      <td>NaN</td>\n      <td>S</td>\n    </tr>\n    <tr>\n      <th>889</th>\n      <td>889</td>\n      <td>890</td>\n      <td>1</td>\n      <td>1</td>\n      <td>Behr, Mr. Karl Howell</td>\n      <td>male</td>\n      <td>26.0</td>\n      <td>0</td>\n      <td>0</td>\n      <td>111369</td>\n      <td>30.0000</td>\n      <td>C148</td>\n      <td>C</td>\n    </tr>\n    <tr>\n      <th>890</th>\n      <td>890</td>\n      <td>891</td>\n      <td>0</td>\n      <td>3</td>\n      <td>Dooley, Mr. Patrick</td>\n      <td>male</td>\n      <td>32.0</td>\n      <td>0</td>\n      <td>0</td>\n      <td>370376</td>\n      <td>7.7500</td>\n      <td>NaN</td>\n      <td>Q</td>\n    </tr>\n  </tbody>\n</table>\n<p>891 rows × 13 columns</p>\n</div>"
     },
     "execution_count": 40,
     "metadata": {},
     "output_type": "execute_result"
    }
   ]
  },
  {
   "cell_type": "code",
   "source": [
    "df.reset_index(drop=True, inplace=False)"
   ],
   "metadata": {
    "colab": {
     "base_uri": "https://localhost:8080/",
     "height": 850
    },
    "id": "feSNz5kd6GPS",
    "outputId": "5793e7a3-9afb-44b6-8930-cdb949e6d565",
    "ExecuteTime": {
     "end_time": "2023-10-21T11:31:10.738747Z",
     "start_time": "2023-10-21T11:31:10.564804Z"
    }
   },
   "execution_count": 41,
   "outputs": [
    {
     "data": {
      "text/plain": "     PassengerId  Survived  Pclass  \\\n0              1         0       3   \n1              2         1       1   \n2              3         1       3   \n3              4         1       1   \n4              5         0       3   \n..           ...       ...     ...   \n886          887         0       2   \n887          888         1       1   \n888          889         0       3   \n889          890         1       1   \n890          891         0       3   \n\n                                                  Name     Sex   Age  SibSp  \\\n0                              Braund, Mr. Owen Harris    male  22.0      1   \n1    Cumings, Mrs. John Bradley (Florence Briggs Th...  female  38.0      1   \n2                               Heikkinen, Miss. Laina  female  26.0      0   \n3         Futrelle, Mrs. Jacques Heath (Lily May Peel)  female  35.0      1   \n4                             Allen, Mr. William Henry    male  35.0      0   \n..                                                 ...     ...   ...    ...   \n886                              Montvila, Rev. Juozas    male  27.0      0   \n887                       Graham, Miss. Margaret Edith  female  19.0      0   \n888           Johnston, Miss. Catherine Helen \"Carrie\"  female   NaN      1   \n889                              Behr, Mr. Karl Howell    male  26.0      0   \n890                                Dooley, Mr. Patrick    male  32.0      0   \n\n     Parch            Ticket     Fare Cabin Embarked  \n0        0         A/5 21171   7.2500   NaN        S  \n1        0          PC 17599  71.2833   C85        C  \n2        0  STON/O2. 3101282   7.9250   NaN        S  \n3        0            113803  53.1000  C123        S  \n4        0            373450   8.0500   NaN        S  \n..     ...               ...      ...   ...      ...  \n886      0            211536  13.0000   NaN        S  \n887      0            112053  30.0000   B42        S  \n888      2        W./C. 6607  23.4500   NaN        S  \n889      0            111369  30.0000  C148        C  \n890      0            370376   7.7500   NaN        Q  \n\n[891 rows x 12 columns]",
      "text/html": "<div>\n<style scoped>\n    .dataframe tbody tr th:only-of-type {\n        vertical-align: middle;\n    }\n\n    .dataframe tbody tr th {\n        vertical-align: top;\n    }\n\n    .dataframe thead th {\n        text-align: right;\n    }\n</style>\n<table border=\"1\" class=\"dataframe\">\n  <thead>\n    <tr style=\"text-align: right;\">\n      <th></th>\n      <th>PassengerId</th>\n      <th>Survived</th>\n      <th>Pclass</th>\n      <th>Name</th>\n      <th>Sex</th>\n      <th>Age</th>\n      <th>SibSp</th>\n      <th>Parch</th>\n      <th>Ticket</th>\n      <th>Fare</th>\n      <th>Cabin</th>\n      <th>Embarked</th>\n    </tr>\n  </thead>\n  <tbody>\n    <tr>\n      <th>0</th>\n      <td>1</td>\n      <td>0</td>\n      <td>3</td>\n      <td>Braund, Mr. Owen Harris</td>\n      <td>male</td>\n      <td>22.0</td>\n      <td>1</td>\n      <td>0</td>\n      <td>A/5 21171</td>\n      <td>7.2500</td>\n      <td>NaN</td>\n      <td>S</td>\n    </tr>\n    <tr>\n      <th>1</th>\n      <td>2</td>\n      <td>1</td>\n      <td>1</td>\n      <td>Cumings, Mrs. John Bradley (Florence Briggs Th...</td>\n      <td>female</td>\n      <td>38.0</td>\n      <td>1</td>\n      <td>0</td>\n      <td>PC 17599</td>\n      <td>71.2833</td>\n      <td>C85</td>\n      <td>C</td>\n    </tr>\n    <tr>\n      <th>2</th>\n      <td>3</td>\n      <td>1</td>\n      <td>3</td>\n      <td>Heikkinen, Miss. Laina</td>\n      <td>female</td>\n      <td>26.0</td>\n      <td>0</td>\n      <td>0</td>\n      <td>STON/O2. 3101282</td>\n      <td>7.9250</td>\n      <td>NaN</td>\n      <td>S</td>\n    </tr>\n    <tr>\n      <th>3</th>\n      <td>4</td>\n      <td>1</td>\n      <td>1</td>\n      <td>Futrelle, Mrs. Jacques Heath (Lily May Peel)</td>\n      <td>female</td>\n      <td>35.0</td>\n      <td>1</td>\n      <td>0</td>\n      <td>113803</td>\n      <td>53.1000</td>\n      <td>C123</td>\n      <td>S</td>\n    </tr>\n    <tr>\n      <th>4</th>\n      <td>5</td>\n      <td>0</td>\n      <td>3</td>\n      <td>Allen, Mr. William Henry</td>\n      <td>male</td>\n      <td>35.0</td>\n      <td>0</td>\n      <td>0</td>\n      <td>373450</td>\n      <td>8.0500</td>\n      <td>NaN</td>\n      <td>S</td>\n    </tr>\n    <tr>\n      <th>...</th>\n      <td>...</td>\n      <td>...</td>\n      <td>...</td>\n      <td>...</td>\n      <td>...</td>\n      <td>...</td>\n      <td>...</td>\n      <td>...</td>\n      <td>...</td>\n      <td>...</td>\n      <td>...</td>\n      <td>...</td>\n    </tr>\n    <tr>\n      <th>886</th>\n      <td>887</td>\n      <td>0</td>\n      <td>2</td>\n      <td>Montvila, Rev. Juozas</td>\n      <td>male</td>\n      <td>27.0</td>\n      <td>0</td>\n      <td>0</td>\n      <td>211536</td>\n      <td>13.0000</td>\n      <td>NaN</td>\n      <td>S</td>\n    </tr>\n    <tr>\n      <th>887</th>\n      <td>888</td>\n      <td>1</td>\n      <td>1</td>\n      <td>Graham, Miss. Margaret Edith</td>\n      <td>female</td>\n      <td>19.0</td>\n      <td>0</td>\n      <td>0</td>\n      <td>112053</td>\n      <td>30.0000</td>\n      <td>B42</td>\n      <td>S</td>\n    </tr>\n    <tr>\n      <th>888</th>\n      <td>889</td>\n      <td>0</td>\n      <td>3</td>\n      <td>Johnston, Miss. Catherine Helen \"Carrie\"</td>\n      <td>female</td>\n      <td>NaN</td>\n      <td>1</td>\n      <td>2</td>\n      <td>W./C. 6607</td>\n      <td>23.4500</td>\n      <td>NaN</td>\n      <td>S</td>\n    </tr>\n    <tr>\n      <th>889</th>\n      <td>890</td>\n      <td>1</td>\n      <td>1</td>\n      <td>Behr, Mr. Karl Howell</td>\n      <td>male</td>\n      <td>26.0</td>\n      <td>0</td>\n      <td>0</td>\n      <td>111369</td>\n      <td>30.0000</td>\n      <td>C148</td>\n      <td>C</td>\n    </tr>\n    <tr>\n      <th>890</th>\n      <td>891</td>\n      <td>0</td>\n      <td>3</td>\n      <td>Dooley, Mr. Patrick</td>\n      <td>male</td>\n      <td>32.0</td>\n      <td>0</td>\n      <td>0</td>\n      <td>370376</td>\n      <td>7.7500</td>\n      <td>NaN</td>\n      <td>Q</td>\n    </tr>\n  </tbody>\n</table>\n<p>891 rows × 12 columns</p>\n</div>"
     },
     "execution_count": 41,
     "metadata": {},
     "output_type": "execute_result"
    }
   ]
  },
  {
   "cell_type": "markdown",
   "source": [
    "## 9.  Aggregation Functions"
   ],
   "metadata": {
    "id": "EkRNBCyLctUY"
   }
  },
  {
   "cell_type": "code",
   "source": [
    "import pandas as pd\n",
    "\n",
    "df = pd.read_csv('https://raw.githubusercontent.com/agconti/kaggle-titanic/master/data/train.csv')\n",
    "df.sort_values(['Pclass', 'Name'], ascending=[False, True])"
   ],
   "metadata": {
    "id": "ML_Alh4iQHVT",
    "colab": {
     "base_uri": "https://localhost:8080/",
     "height": 745
    },
    "outputId": "67475611-a010-4ca4-b412-438957e3faac",
    "ExecuteTime": {
     "end_time": "2023-10-21T11:31:17.141245Z",
     "start_time": "2023-10-21T11:31:16.989342Z"
    }
   },
   "execution_count": 42,
   "outputs": [
    {
     "data": {
      "text/plain": "     PassengerId  Survived  Pclass                                    Name  \\\n845          846         0       3                     Abbing, Mr. Anthony   \n746          747         0       3             Abbott, Mr. Rossmore Edward   \n279          280         1       3        Abbott, Mrs. Stanton (Rosa Hunt)   \n365          366         0       3          Adahl, Mr. Mauritz Nils Martin   \n401          402         0       3                         Adams, Mr. John   \n..           ...       ...     ...                                     ...   \n155          156         0       1             Williams, Mr. Charles Duane   \n351          352         0       1  Williams-Lambert, Mr. Fletcher Fellows   \n55            56         1       1                       Woolner, Mr. Hugh   \n555          556         0       1                      Wright, Mr. George   \n325          326         1       1                Young, Miss. Marie Grice   \n\n        Sex   Age  SibSp  Parch     Ticket      Fare Cabin Embarked  \n845    male  42.0      0      0  C.A. 5547    7.5500   NaN        S  \n746    male  16.0      1      1  C.A. 2673   20.2500   NaN        S  \n279  female  35.0      1      1  C.A. 2673   20.2500   NaN        S  \n365    male  30.0      0      0     C 7076    7.2500   NaN        S  \n401    male  26.0      0      0     341826    8.0500   NaN        S  \n..      ...   ...    ...    ...        ...       ...   ...      ...  \n155    male  51.0      0      1   PC 17597   61.3792   NaN        C  \n351    male   NaN      0      0     113510   35.0000  C128        S  \n55     male   NaN      0      0      19947   35.5000   C52        S  \n555    male  62.0      0      0     113807   26.5500   NaN        S  \n325  female  36.0      0      0   PC 17760  135.6333   C32        C  \n\n[891 rows x 12 columns]",
      "text/html": "<div>\n<style scoped>\n    .dataframe tbody tr th:only-of-type {\n        vertical-align: middle;\n    }\n\n    .dataframe tbody tr th {\n        vertical-align: top;\n    }\n\n    .dataframe thead th {\n        text-align: right;\n    }\n</style>\n<table border=\"1\" class=\"dataframe\">\n  <thead>\n    <tr style=\"text-align: right;\">\n      <th></th>\n      <th>PassengerId</th>\n      <th>Survived</th>\n      <th>Pclass</th>\n      <th>Name</th>\n      <th>Sex</th>\n      <th>Age</th>\n      <th>SibSp</th>\n      <th>Parch</th>\n      <th>Ticket</th>\n      <th>Fare</th>\n      <th>Cabin</th>\n      <th>Embarked</th>\n    </tr>\n  </thead>\n  <tbody>\n    <tr>\n      <th>845</th>\n      <td>846</td>\n      <td>0</td>\n      <td>3</td>\n      <td>Abbing, Mr. Anthony</td>\n      <td>male</td>\n      <td>42.0</td>\n      <td>0</td>\n      <td>0</td>\n      <td>C.A. 5547</td>\n      <td>7.5500</td>\n      <td>NaN</td>\n      <td>S</td>\n    </tr>\n    <tr>\n      <th>746</th>\n      <td>747</td>\n      <td>0</td>\n      <td>3</td>\n      <td>Abbott, Mr. Rossmore Edward</td>\n      <td>male</td>\n      <td>16.0</td>\n      <td>1</td>\n      <td>1</td>\n      <td>C.A. 2673</td>\n      <td>20.2500</td>\n      <td>NaN</td>\n      <td>S</td>\n    </tr>\n    <tr>\n      <th>279</th>\n      <td>280</td>\n      <td>1</td>\n      <td>3</td>\n      <td>Abbott, Mrs. Stanton (Rosa Hunt)</td>\n      <td>female</td>\n      <td>35.0</td>\n      <td>1</td>\n      <td>1</td>\n      <td>C.A. 2673</td>\n      <td>20.2500</td>\n      <td>NaN</td>\n      <td>S</td>\n    </tr>\n    <tr>\n      <th>365</th>\n      <td>366</td>\n      <td>0</td>\n      <td>3</td>\n      <td>Adahl, Mr. Mauritz Nils Martin</td>\n      <td>male</td>\n      <td>30.0</td>\n      <td>0</td>\n      <td>0</td>\n      <td>C 7076</td>\n      <td>7.2500</td>\n      <td>NaN</td>\n      <td>S</td>\n    </tr>\n    <tr>\n      <th>401</th>\n      <td>402</td>\n      <td>0</td>\n      <td>3</td>\n      <td>Adams, Mr. John</td>\n      <td>male</td>\n      <td>26.0</td>\n      <td>0</td>\n      <td>0</td>\n      <td>341826</td>\n      <td>8.0500</td>\n      <td>NaN</td>\n      <td>S</td>\n    </tr>\n    <tr>\n      <th>...</th>\n      <td>...</td>\n      <td>...</td>\n      <td>...</td>\n      <td>...</td>\n      <td>...</td>\n      <td>...</td>\n      <td>...</td>\n      <td>...</td>\n      <td>...</td>\n      <td>...</td>\n      <td>...</td>\n      <td>...</td>\n    </tr>\n    <tr>\n      <th>155</th>\n      <td>156</td>\n      <td>0</td>\n      <td>1</td>\n      <td>Williams, Mr. Charles Duane</td>\n      <td>male</td>\n      <td>51.0</td>\n      <td>0</td>\n      <td>1</td>\n      <td>PC 17597</td>\n      <td>61.3792</td>\n      <td>NaN</td>\n      <td>C</td>\n    </tr>\n    <tr>\n      <th>351</th>\n      <td>352</td>\n      <td>0</td>\n      <td>1</td>\n      <td>Williams-Lambert, Mr. Fletcher Fellows</td>\n      <td>male</td>\n      <td>NaN</td>\n      <td>0</td>\n      <td>0</td>\n      <td>113510</td>\n      <td>35.0000</td>\n      <td>C128</td>\n      <td>S</td>\n    </tr>\n    <tr>\n      <th>55</th>\n      <td>56</td>\n      <td>1</td>\n      <td>1</td>\n      <td>Woolner, Mr. Hugh</td>\n      <td>male</td>\n      <td>NaN</td>\n      <td>0</td>\n      <td>0</td>\n      <td>19947</td>\n      <td>35.5000</td>\n      <td>C52</td>\n      <td>S</td>\n    </tr>\n    <tr>\n      <th>555</th>\n      <td>556</td>\n      <td>0</td>\n      <td>1</td>\n      <td>Wright, Mr. George</td>\n      <td>male</td>\n      <td>62.0</td>\n      <td>0</td>\n      <td>0</td>\n      <td>113807</td>\n      <td>26.5500</td>\n      <td>NaN</td>\n      <td>S</td>\n    </tr>\n    <tr>\n      <th>325</th>\n      <td>326</td>\n      <td>1</td>\n      <td>1</td>\n      <td>Young, Miss. Marie Grice</td>\n      <td>female</td>\n      <td>36.0</td>\n      <td>0</td>\n      <td>0</td>\n      <td>PC 17760</td>\n      <td>135.6333</td>\n      <td>C32</td>\n      <td>C</td>\n    </tr>\n  </tbody>\n</table>\n<p>891 rows × 12 columns</p>\n</div>"
     },
     "execution_count": 42,
     "metadata": {},
     "output_type": "execute_result"
    }
   ]
  },
  {
   "cell_type": "code",
   "source": [
    "# Count non-NA/null values\n",
    "df.count()"
   ],
   "metadata": {
    "id": "wv45rrgKvu9W",
    "colab": {
     "base_uri": "https://localhost:8080/"
    },
    "outputId": "57ab58cb-797d-4a60-a840-4c92781e205e",
    "ExecuteTime": {
     "end_time": "2023-10-21T11:32:27.830431Z",
     "start_time": "2023-10-21T11:32:27.802823Z"
    }
   },
   "execution_count": 43,
   "outputs": [
    {
     "data": {
      "text/plain": "PassengerId    891\nSurvived       891\nPclass         891\nName           891\nSex            891\nAge            714\nSibSp          891\nParch          891\nTicket         891\nFare           891\nCabin          204\nEmbarked       889\ndtype: int64"
     },
     "execution_count": 43,
     "metadata": {},
     "output_type": "execute_result"
    }
   ]
  },
  {
   "cell_type": "code",
   "source": [
    "df[['Age', 'Fare']].mean()"
   ],
   "metadata": {
    "colab": {
     "base_uri": "https://localhost:8080/"
    },
    "id": "RGvbI1d67HjZ",
    "outputId": "8c944a06-2b7a-45e6-d497-82932be154d0"
   },
   "execution_count": null,
   "outputs": [
    {
     "output_type": "execute_result",
     "data": {
      "text/plain": [
       "Age     29.699118\n",
       "Fare    32.204208\n",
       "dtype: float64"
      ]
     },
     "metadata": {},
     "execution_count": 36
    }
   ]
  },
  {
   "cell_type": "code",
   "source": [
    "grouped_df = df.groupby('Pclass')\n",
    "grouped_df.count()"
   ],
   "metadata": {
    "id": "BxdeHEF_cB3C",
    "colab": {
     "base_uri": "https://localhost:8080/",
     "height": 175
    },
    "outputId": "75d21090-2407-42e6-f462-4caffb7467b6",
    "ExecuteTime": {
     "end_time": "2023-10-21T11:33:38.043963Z",
     "start_time": "2023-10-21T11:33:37.950591Z"
    }
   },
   "execution_count": 44,
   "outputs": [
    {
     "data": {
      "text/plain": "        PassengerId  Survived  Name  Sex  Age  SibSp  Parch  Ticket  Fare  \\\nPclass                                                                      \n1               216       216   216  216  186    216    216     216   216   \n2               184       184   184  184  173    184    184     184   184   \n3               491       491   491  491  355    491    491     491   491   \n\n        Cabin  Embarked  \nPclass                   \n1         176       214  \n2          16       184  \n3          12       491  ",
      "text/html": "<div>\n<style scoped>\n    .dataframe tbody tr th:only-of-type {\n        vertical-align: middle;\n    }\n\n    .dataframe tbody tr th {\n        vertical-align: top;\n    }\n\n    .dataframe thead th {\n        text-align: right;\n    }\n</style>\n<table border=\"1\" class=\"dataframe\">\n  <thead>\n    <tr style=\"text-align: right;\">\n      <th></th>\n      <th>PassengerId</th>\n      <th>Survived</th>\n      <th>Name</th>\n      <th>Sex</th>\n      <th>Age</th>\n      <th>SibSp</th>\n      <th>Parch</th>\n      <th>Ticket</th>\n      <th>Fare</th>\n      <th>Cabin</th>\n      <th>Embarked</th>\n    </tr>\n    <tr>\n      <th>Pclass</th>\n      <th></th>\n      <th></th>\n      <th></th>\n      <th></th>\n      <th></th>\n      <th></th>\n      <th></th>\n      <th></th>\n      <th></th>\n      <th></th>\n      <th></th>\n    </tr>\n  </thead>\n  <tbody>\n    <tr>\n      <th>1</th>\n      <td>216</td>\n      <td>216</td>\n      <td>216</td>\n      <td>216</td>\n      <td>186</td>\n      <td>216</td>\n      <td>216</td>\n      <td>216</td>\n      <td>216</td>\n      <td>176</td>\n      <td>214</td>\n    </tr>\n    <tr>\n      <th>2</th>\n      <td>184</td>\n      <td>184</td>\n      <td>184</td>\n      <td>184</td>\n      <td>173</td>\n      <td>184</td>\n      <td>184</td>\n      <td>184</td>\n      <td>184</td>\n      <td>16</td>\n      <td>184</td>\n    </tr>\n    <tr>\n      <th>3</th>\n      <td>491</td>\n      <td>491</td>\n      <td>491</td>\n      <td>491</td>\n      <td>355</td>\n      <td>491</td>\n      <td>491</td>\n      <td>491</td>\n      <td>491</td>\n      <td>12</td>\n      <td>491</td>\n    </tr>\n  </tbody>\n</table>\n</div>"
     },
     "execution_count": 44,
     "metadata": {},
     "output_type": "execute_result"
    }
   ]
  },
  {
   "cell_type": "code",
   "execution_count": 46,
   "outputs": [
    {
     "data": {
      "text/plain": "    PassengerId  Survived  Pclass  \\\n0             1         0       3   \n1             2         1       1   \n2             3         1       3   \n3             4         1       1   \n4             5         0       3   \n5             6         0       3   \n6             7         0       1   \n7             8         0       3   \n9            10         1       2   \n11           12         1       1   \n15           16         1       2   \n17           18         1       2   \n20           21         0       2   \n21           22         1       2   \n23           24         1       1   \n\n                                                 Name     Sex   Age  SibSp  \\\n0                             Braund, Mr. Owen Harris    male  22.0      1   \n1   Cumings, Mrs. John Bradley (Florence Briggs Th...  female  38.0      1   \n2                              Heikkinen, Miss. Laina  female  26.0      0   \n3        Futrelle, Mrs. Jacques Heath (Lily May Peel)  female  35.0      1   \n4                            Allen, Mr. William Henry    male  35.0      0   \n5                                    Moran, Mr. James    male   NaN      0   \n6                             McCarthy, Mr. Timothy J    male  54.0      0   \n7                      Palsson, Master. Gosta Leonard    male   2.0      3   \n9                 Nasser, Mrs. Nicholas (Adele Achem)  female  14.0      1   \n11                           Bonnell, Miss. Elizabeth  female  58.0      0   \n15                   Hewlett, Mrs. (Mary D Kingcome)   female  55.0      0   \n17                       Williams, Mr. Charles Eugene    male   NaN      0   \n20                               Fynney, Mr. Joseph J    male  35.0      0   \n21                              Beesley, Mr. Lawrence    male  34.0      0   \n23                       Sloper, Mr. William Thompson    male  28.0      0   \n\n    Parch            Ticket     Fare Cabin Embarked  \n0       0         A/5 21171   7.2500   NaN        S  \n1       0          PC 17599  71.2833   C85        C  \n2       0  STON/O2. 3101282   7.9250   NaN        S  \n3       0            113803  53.1000  C123        S  \n4       0            373450   8.0500   NaN        S  \n5       0            330877   8.4583   NaN        Q  \n6       0             17463  51.8625   E46        S  \n7       1            349909  21.0750   NaN        S  \n9       0            237736  30.0708   NaN        C  \n11      0            113783  26.5500  C103        S  \n15      0            248706  16.0000   NaN        S  \n17      0            244373  13.0000   NaN        S  \n20      0            239865  26.0000   NaN        S  \n21      0            248698  13.0000   D56        S  \n23      0            113788  35.5000    A6        S  ",
      "text/html": "<div>\n<style scoped>\n    .dataframe tbody tr th:only-of-type {\n        vertical-align: middle;\n    }\n\n    .dataframe tbody tr th {\n        vertical-align: top;\n    }\n\n    .dataframe thead th {\n        text-align: right;\n    }\n</style>\n<table border=\"1\" class=\"dataframe\">\n  <thead>\n    <tr style=\"text-align: right;\">\n      <th></th>\n      <th>PassengerId</th>\n      <th>Survived</th>\n      <th>Pclass</th>\n      <th>Name</th>\n      <th>Sex</th>\n      <th>Age</th>\n      <th>SibSp</th>\n      <th>Parch</th>\n      <th>Ticket</th>\n      <th>Fare</th>\n      <th>Cabin</th>\n      <th>Embarked</th>\n    </tr>\n  </thead>\n  <tbody>\n    <tr>\n      <th>0</th>\n      <td>1</td>\n      <td>0</td>\n      <td>3</td>\n      <td>Braund, Mr. Owen Harris</td>\n      <td>male</td>\n      <td>22.0</td>\n      <td>1</td>\n      <td>0</td>\n      <td>A/5 21171</td>\n      <td>7.2500</td>\n      <td>NaN</td>\n      <td>S</td>\n    </tr>\n    <tr>\n      <th>1</th>\n      <td>2</td>\n      <td>1</td>\n      <td>1</td>\n      <td>Cumings, Mrs. John Bradley (Florence Briggs Th...</td>\n      <td>female</td>\n      <td>38.0</td>\n      <td>1</td>\n      <td>0</td>\n      <td>PC 17599</td>\n      <td>71.2833</td>\n      <td>C85</td>\n      <td>C</td>\n    </tr>\n    <tr>\n      <th>2</th>\n      <td>3</td>\n      <td>1</td>\n      <td>3</td>\n      <td>Heikkinen, Miss. Laina</td>\n      <td>female</td>\n      <td>26.0</td>\n      <td>0</td>\n      <td>0</td>\n      <td>STON/O2. 3101282</td>\n      <td>7.9250</td>\n      <td>NaN</td>\n      <td>S</td>\n    </tr>\n    <tr>\n      <th>3</th>\n      <td>4</td>\n      <td>1</td>\n      <td>1</td>\n      <td>Futrelle, Mrs. Jacques Heath (Lily May Peel)</td>\n      <td>female</td>\n      <td>35.0</td>\n      <td>1</td>\n      <td>0</td>\n      <td>113803</td>\n      <td>53.1000</td>\n      <td>C123</td>\n      <td>S</td>\n    </tr>\n    <tr>\n      <th>4</th>\n      <td>5</td>\n      <td>0</td>\n      <td>3</td>\n      <td>Allen, Mr. William Henry</td>\n      <td>male</td>\n      <td>35.0</td>\n      <td>0</td>\n      <td>0</td>\n      <td>373450</td>\n      <td>8.0500</td>\n      <td>NaN</td>\n      <td>S</td>\n    </tr>\n    <tr>\n      <th>5</th>\n      <td>6</td>\n      <td>0</td>\n      <td>3</td>\n      <td>Moran, Mr. James</td>\n      <td>male</td>\n      <td>NaN</td>\n      <td>0</td>\n      <td>0</td>\n      <td>330877</td>\n      <td>8.4583</td>\n      <td>NaN</td>\n      <td>Q</td>\n    </tr>\n    <tr>\n      <th>6</th>\n      <td>7</td>\n      <td>0</td>\n      <td>1</td>\n      <td>McCarthy, Mr. Timothy J</td>\n      <td>male</td>\n      <td>54.0</td>\n      <td>0</td>\n      <td>0</td>\n      <td>17463</td>\n      <td>51.8625</td>\n      <td>E46</td>\n      <td>S</td>\n    </tr>\n    <tr>\n      <th>7</th>\n      <td>8</td>\n      <td>0</td>\n      <td>3</td>\n      <td>Palsson, Master. Gosta Leonard</td>\n      <td>male</td>\n      <td>2.0</td>\n      <td>3</td>\n      <td>1</td>\n      <td>349909</td>\n      <td>21.0750</td>\n      <td>NaN</td>\n      <td>S</td>\n    </tr>\n    <tr>\n      <th>9</th>\n      <td>10</td>\n      <td>1</td>\n      <td>2</td>\n      <td>Nasser, Mrs. Nicholas (Adele Achem)</td>\n      <td>female</td>\n      <td>14.0</td>\n      <td>1</td>\n      <td>0</td>\n      <td>237736</td>\n      <td>30.0708</td>\n      <td>NaN</td>\n      <td>C</td>\n    </tr>\n    <tr>\n      <th>11</th>\n      <td>12</td>\n      <td>1</td>\n      <td>1</td>\n      <td>Bonnell, Miss. Elizabeth</td>\n      <td>female</td>\n      <td>58.0</td>\n      <td>0</td>\n      <td>0</td>\n      <td>113783</td>\n      <td>26.5500</td>\n      <td>C103</td>\n      <td>S</td>\n    </tr>\n    <tr>\n      <th>15</th>\n      <td>16</td>\n      <td>1</td>\n      <td>2</td>\n      <td>Hewlett, Mrs. (Mary D Kingcome)</td>\n      <td>female</td>\n      <td>55.0</td>\n      <td>0</td>\n      <td>0</td>\n      <td>248706</td>\n      <td>16.0000</td>\n      <td>NaN</td>\n      <td>S</td>\n    </tr>\n    <tr>\n      <th>17</th>\n      <td>18</td>\n      <td>1</td>\n      <td>2</td>\n      <td>Williams, Mr. Charles Eugene</td>\n      <td>male</td>\n      <td>NaN</td>\n      <td>0</td>\n      <td>0</td>\n      <td>244373</td>\n      <td>13.0000</td>\n      <td>NaN</td>\n      <td>S</td>\n    </tr>\n    <tr>\n      <th>20</th>\n      <td>21</td>\n      <td>0</td>\n      <td>2</td>\n      <td>Fynney, Mr. Joseph J</td>\n      <td>male</td>\n      <td>35.0</td>\n      <td>0</td>\n      <td>0</td>\n      <td>239865</td>\n      <td>26.0000</td>\n      <td>NaN</td>\n      <td>S</td>\n    </tr>\n    <tr>\n      <th>21</th>\n      <td>22</td>\n      <td>1</td>\n      <td>2</td>\n      <td>Beesley, Mr. Lawrence</td>\n      <td>male</td>\n      <td>34.0</td>\n      <td>0</td>\n      <td>0</td>\n      <td>248698</td>\n      <td>13.0000</td>\n      <td>D56</td>\n      <td>S</td>\n    </tr>\n    <tr>\n      <th>23</th>\n      <td>24</td>\n      <td>1</td>\n      <td>1</td>\n      <td>Sloper, Mr. William Thompson</td>\n      <td>male</td>\n      <td>28.0</td>\n      <td>0</td>\n      <td>0</td>\n      <td>113788</td>\n      <td>35.5000</td>\n      <td>A6</td>\n      <td>S</td>\n    </tr>\n  </tbody>\n</table>\n</div>"
     },
     "execution_count": 46,
     "metadata": {},
     "output_type": "execute_result"
    }
   ],
   "source": [
    "grouped_df.head()"
   ],
   "metadata": {
    "collapsed": false,
    "ExecuteTime": {
     "end_time": "2023-10-21T11:34:46.918354Z",
     "start_time": "2023-10-21T11:34:46.885172Z"
    }
   }
  },
  {
   "cell_type": "code",
   "source": [
    "grouped_df.sum()"
   ],
   "metadata": {
    "colab": {
     "base_uri": "https://localhost:8080/",
     "height": 232
    },
    "id": "WLivgaGx7xKh",
    "outputId": "a678a512-2ecc-4e5a-99a4-58b2a3cbdef1",
    "ExecuteTime": {
     "end_time": "2023-10-21T11:33:43.056735Z",
     "start_time": "2023-10-21T11:33:42.970681Z"
    }
   },
   "execution_count": 45,
   "outputs": [
    {
     "data": {
      "text/plain": "        PassengerId  Survived  \\\nPclass                          \n1             99705       136   \n2             82056        87   \n3            215625       119   \n\n                                                     Name  \\\nPclass                                                      \n1       Cumings, Mrs. John Bradley (Florence Briggs Th...   \n2       Nasser, Mrs. Nicholas (Adele Achem)Hewlett, Mr...   \n3       Braund, Mr. Owen HarrisHeikkinen, Miss. LainaA...   \n\n                                                      Sex      Age  SibSp  \\\nPclass                                                                      \n1       femalefemalemalefemalemalemalemalefemalemalema...  7111.42     90   \n2       femalefemalemalemalemalemalefemalefemalefemale...  5168.83     74   \n3       malefemalemalemalemalefemalefemalemalemalefema...  8924.92    302   \n\n        Parch                                             Ticket        Fare  \\\nPclass                                                                         \n1          77  PC 175991138031746311378311378819950PC 17601PC...  18177.4125   \n2          70  237736248706244373239865248698C.A. 2457911668S...   3801.8417   \n3         193  A/5 21171STON/O2. 3101282373450330877349909347...   6714.6951   \n\n                                                    Cabin  \\\nPclass                                                      \n1       C85C123E46C103A6C23 C25 C27B78D33B30C52B28C83C...   \n2                D56F33E101F2F4F2DE101DF2F33DF33F4E101E77   \n3              G6F G73F E69G6G6G6E10F G63F G73E121F38E121   \n\n                                                 Embarked  \nPclass                                                     \n1       CSSSSSCCCSCCSSCSSSCCSSCSSSCSCSSSCCSSCCCCCSSQSS...  \n2       CSSSSSSCSSSSSSSSSSSSCSSSCSSSSSSSCSSSSSSSSSSSSS...  \n3       SSSQSSSSSSQSCQSSCQSQCSSCSCQSQQCSSSCSCSCSSSSCSS...  ",
      "text/html": "<div>\n<style scoped>\n    .dataframe tbody tr th:only-of-type {\n        vertical-align: middle;\n    }\n\n    .dataframe tbody tr th {\n        vertical-align: top;\n    }\n\n    .dataframe thead th {\n        text-align: right;\n    }\n</style>\n<table border=\"1\" class=\"dataframe\">\n  <thead>\n    <tr style=\"text-align: right;\">\n      <th></th>\n      <th>PassengerId</th>\n      <th>Survived</th>\n      <th>Name</th>\n      <th>Sex</th>\n      <th>Age</th>\n      <th>SibSp</th>\n      <th>Parch</th>\n      <th>Ticket</th>\n      <th>Fare</th>\n      <th>Cabin</th>\n      <th>Embarked</th>\n    </tr>\n    <tr>\n      <th>Pclass</th>\n      <th></th>\n      <th></th>\n      <th></th>\n      <th></th>\n      <th></th>\n      <th></th>\n      <th></th>\n      <th></th>\n      <th></th>\n      <th></th>\n      <th></th>\n    </tr>\n  </thead>\n  <tbody>\n    <tr>\n      <th>1</th>\n      <td>99705</td>\n      <td>136</td>\n      <td>Cumings, Mrs. John Bradley (Florence Briggs Th...</td>\n      <td>femalefemalemalefemalemalemalemalefemalemalema...</td>\n      <td>7111.42</td>\n      <td>90</td>\n      <td>77</td>\n      <td>PC 175991138031746311378311378819950PC 17601PC...</td>\n      <td>18177.4125</td>\n      <td>C85C123E46C103A6C23 C25 C27B78D33B30C52B28C83C...</td>\n      <td>CSSSSSCCCSCCSSCSSSCCSSCSSSCSCSSSCCSSCCCCCSSQSS...</td>\n    </tr>\n    <tr>\n      <th>2</th>\n      <td>82056</td>\n      <td>87</td>\n      <td>Nasser, Mrs. Nicholas (Adele Achem)Hewlett, Mr...</td>\n      <td>femalefemalemalemalemalemalefemalefemalefemale...</td>\n      <td>5168.83</td>\n      <td>74</td>\n      <td>70</td>\n      <td>237736248706244373239865248698C.A. 2457911668S...</td>\n      <td>3801.8417</td>\n      <td>D56F33E101F2F4F2DE101DF2F33DF33F4E101E77</td>\n      <td>CSSSSSSCSSSSSSSSSSSSCSSSCSSSSSSSCSSSSSSSSSSSSS...</td>\n    </tr>\n    <tr>\n      <th>3</th>\n      <td>215625</td>\n      <td>119</td>\n      <td>Braund, Mr. Owen HarrisHeikkinen, Miss. LainaA...</td>\n      <td>malefemalemalemalemalefemalefemalemalemalefema...</td>\n      <td>8924.92</td>\n      <td>302</td>\n      <td>193</td>\n      <td>A/5 21171STON/O2. 3101282373450330877349909347...</td>\n      <td>6714.6951</td>\n      <td>G6F G73F E69G6G6G6E10F G63F G73E121F38E121</td>\n      <td>SSSQSSSSSSQSCQSSCQSQCSSCSCQSQQCSSSCSCSCSSSSCSS...</td>\n    </tr>\n  </tbody>\n</table>\n</div>"
     },
     "execution_count": 45,
     "metadata": {},
     "output_type": "execute_result"
    }
   ]
  },
  {
   "cell_type": "code",
   "source": [
    "grouped_df[['Age', 'Fare']].mean()"
   ],
   "metadata": {
    "colab": {
     "base_uri": "https://localhost:8080/",
     "height": 175
    },
    "id": "eo7HlcIL72F5",
    "outputId": "9953ec49-c334-403c-d4b3-cdedb1f5032e",
    "ExecuteTime": {
     "end_time": "2023-10-21T11:35:43.331524Z",
     "start_time": "2023-10-21T11:35:43.198899Z"
    }
   },
   "execution_count": 47,
   "outputs": [
    {
     "data": {
      "text/plain": "              Age       Fare\nPclass                      \n1       38.233441  84.154687\n2       29.877630  20.662183\n3       25.140620  13.675550",
      "text/html": "<div>\n<style scoped>\n    .dataframe tbody tr th:only-of-type {\n        vertical-align: middle;\n    }\n\n    .dataframe tbody tr th {\n        vertical-align: top;\n    }\n\n    .dataframe thead th {\n        text-align: right;\n    }\n</style>\n<table border=\"1\" class=\"dataframe\">\n  <thead>\n    <tr style=\"text-align: right;\">\n      <th></th>\n      <th>Age</th>\n      <th>Fare</th>\n    </tr>\n    <tr>\n      <th>Pclass</th>\n      <th></th>\n      <th></th>\n    </tr>\n  </thead>\n  <tbody>\n    <tr>\n      <th>1</th>\n      <td>38.233441</td>\n      <td>84.154687</td>\n    </tr>\n    <tr>\n      <th>2</th>\n      <td>29.877630</td>\n      <td>20.662183</td>\n    </tr>\n    <tr>\n      <th>3</th>\n      <td>25.140620</td>\n      <td>13.675550</td>\n    </tr>\n  </tbody>\n</table>\n</div>"
     },
     "execution_count": 47,
     "metadata": {},
     "output_type": "execute_result"
    }
   ]
  },
  {
   "cell_type": "code",
   "source": [
    "grouped_df.agg({'Fare': 'sum', 'Age': 'mean'})"
   ],
   "metadata": {
    "colab": {
     "base_uri": "https://localhost:8080/",
     "height": 175
    },
    "id": "Yt3N_9WI74TC",
    "outputId": "31b250a8-7c10-4edc-fa7d-2d1ff8737173",
    "ExecuteTime": {
     "end_time": "2023-10-21T11:36:31.252521Z",
     "start_time": "2023-10-21T11:36:31.134640Z"
    }
   },
   "execution_count": 48,
   "outputs": [
    {
     "data": {
      "text/plain": "              Fare        Age\nPclass                       \n1       18177.4125  38.233441\n2        3801.8417  29.877630\n3        6714.6951  25.140620",
      "text/html": "<div>\n<style scoped>\n    .dataframe tbody tr th:only-of-type {\n        vertical-align: middle;\n    }\n\n    .dataframe tbody tr th {\n        vertical-align: top;\n    }\n\n    .dataframe thead th {\n        text-align: right;\n    }\n</style>\n<table border=\"1\" class=\"dataframe\">\n  <thead>\n    <tr style=\"text-align: right;\">\n      <th></th>\n      <th>Fare</th>\n      <th>Age</th>\n    </tr>\n    <tr>\n      <th>Pclass</th>\n      <th></th>\n      <th></th>\n    </tr>\n  </thead>\n  <tbody>\n    <tr>\n      <th>1</th>\n      <td>18177.4125</td>\n      <td>38.233441</td>\n    </tr>\n    <tr>\n      <th>2</th>\n      <td>3801.8417</td>\n      <td>29.877630</td>\n    </tr>\n    <tr>\n      <th>3</th>\n      <td>6714.6951</td>\n      <td>25.140620</td>\n    </tr>\n  </tbody>\n</table>\n</div>"
     },
     "execution_count": 48,
     "metadata": {},
     "output_type": "execute_result"
    }
   ]
  },
  {
   "cell_type": "code",
   "source": [
    "grouped_df.sample(n=2)"
   ],
   "metadata": {
    "colab": {
     "base_uri": "https://localhost:8080/",
     "height": 472
    },
    "id": "FragPLEF8UtU",
    "outputId": "9b580bba-7d33-4457-fe05-8a7f6fced251",
    "ExecuteTime": {
     "end_time": "2023-10-21T11:37:34.944339Z",
     "start_time": "2023-10-21T11:37:34.826612Z"
    }
   },
   "execution_count": 49,
   "outputs": [
    {
     "data": {
      "text/plain": "     PassengerId  Survived  Pclass  \\\n583          584         0       1   \n853          854         1       1   \n655          656         0       2   \n343          344         0       2   \n198          199         1       3   \n388          389         0       3   \n\n                                           Name     Sex   Age  SibSp  Parch  \\\n583                         Ross, Mr. John Hugo    male  36.0      0      0   \n853                   Lines, Miss. Mary Conover  female  16.0      0      1   \n655                   Hickman, Mr. Leonard Mark    male  24.0      2      0   \n343  Sedgwick, Mr. Charles Frederick Waddington    male  25.0      0      0   \n198            Madigan, Miss. Margaret \"Maggie\"  female   NaN      0      0   \n388                        Sadlier, Mr. Matthew    male   NaN      0      0   \n\n           Ticket     Fare Cabin Embarked  \n583         13049  40.1250   A10        C  \n853      PC 17592  39.4000   D28        S  \n655  S.O.C. 14879  73.5000   NaN        S  \n343        244361  13.0000   NaN        S  \n198        370370   7.7500   NaN        Q  \n388        367655   7.7292   NaN        Q  ",
      "text/html": "<div>\n<style scoped>\n    .dataframe tbody tr th:only-of-type {\n        vertical-align: middle;\n    }\n\n    .dataframe tbody tr th {\n        vertical-align: top;\n    }\n\n    .dataframe thead th {\n        text-align: right;\n    }\n</style>\n<table border=\"1\" class=\"dataframe\">\n  <thead>\n    <tr style=\"text-align: right;\">\n      <th></th>\n      <th>PassengerId</th>\n      <th>Survived</th>\n      <th>Pclass</th>\n      <th>Name</th>\n      <th>Sex</th>\n      <th>Age</th>\n      <th>SibSp</th>\n      <th>Parch</th>\n      <th>Ticket</th>\n      <th>Fare</th>\n      <th>Cabin</th>\n      <th>Embarked</th>\n    </tr>\n  </thead>\n  <tbody>\n    <tr>\n      <th>583</th>\n      <td>584</td>\n      <td>0</td>\n      <td>1</td>\n      <td>Ross, Mr. John Hugo</td>\n      <td>male</td>\n      <td>36.0</td>\n      <td>0</td>\n      <td>0</td>\n      <td>13049</td>\n      <td>40.1250</td>\n      <td>A10</td>\n      <td>C</td>\n    </tr>\n    <tr>\n      <th>853</th>\n      <td>854</td>\n      <td>1</td>\n      <td>1</td>\n      <td>Lines, Miss. Mary Conover</td>\n      <td>female</td>\n      <td>16.0</td>\n      <td>0</td>\n      <td>1</td>\n      <td>PC 17592</td>\n      <td>39.4000</td>\n      <td>D28</td>\n      <td>S</td>\n    </tr>\n    <tr>\n      <th>655</th>\n      <td>656</td>\n      <td>0</td>\n      <td>2</td>\n      <td>Hickman, Mr. Leonard Mark</td>\n      <td>male</td>\n      <td>24.0</td>\n      <td>2</td>\n      <td>0</td>\n      <td>S.O.C. 14879</td>\n      <td>73.5000</td>\n      <td>NaN</td>\n      <td>S</td>\n    </tr>\n    <tr>\n      <th>343</th>\n      <td>344</td>\n      <td>0</td>\n      <td>2</td>\n      <td>Sedgwick, Mr. Charles Frederick Waddington</td>\n      <td>male</td>\n      <td>25.0</td>\n      <td>0</td>\n      <td>0</td>\n      <td>244361</td>\n      <td>13.0000</td>\n      <td>NaN</td>\n      <td>S</td>\n    </tr>\n    <tr>\n      <th>198</th>\n      <td>199</td>\n      <td>1</td>\n      <td>3</td>\n      <td>Madigan, Miss. Margaret \"Maggie\"</td>\n      <td>female</td>\n      <td>NaN</td>\n      <td>0</td>\n      <td>0</td>\n      <td>370370</td>\n      <td>7.7500</td>\n      <td>NaN</td>\n      <td>Q</td>\n    </tr>\n    <tr>\n      <th>388</th>\n      <td>389</td>\n      <td>0</td>\n      <td>3</td>\n      <td>Sadlier, Mr. Matthew</td>\n      <td>male</td>\n      <td>NaN</td>\n      <td>0</td>\n      <td>0</td>\n      <td>367655</td>\n      <td>7.7292</td>\n      <td>NaN</td>\n      <td>Q</td>\n    </tr>\n  </tbody>\n</table>\n</div>"
     },
     "execution_count": 49,
     "metadata": {},
     "output_type": "execute_result"
    }
   ]
  },
  {
   "cell_type": "markdown",
   "source": [
    "##  10. Missing Data"
   ],
   "metadata": {
    "id": "LiPdYQ0z8miS"
   }
  },
  {
   "cell_type": "code",
   "source": [
    "import pandas as pd\n",
    "\n",
    "df = pd.read_csv('https://raw.githubusercontent.com/agconti/kaggle-titanic/master/data/train.csv')\n",
    "df.info()"
   ],
   "metadata": {
    "colab": {
     "base_uri": "https://localhost:8080/"
    },
    "id": "HJJALw038j1R",
    "outputId": "5c1fdf9c-2c17-4a5b-bffc-2d1f4afa1915",
    "ExecuteTime": {
     "end_time": "2023-10-21T15:51:10.128925Z",
     "start_time": "2023-10-21T15:51:09.675Z"
    }
   },
   "execution_count": 74,
   "outputs": [
    {
     "name": "stdout",
     "output_type": "stream",
     "text": [
      "<class 'pandas.core.frame.DataFrame'>\n",
      "RangeIndex: 891 entries, 0 to 890\n",
      "Data columns (total 12 columns):\n",
      " #   Column       Non-Null Count  Dtype  \n",
      "---  ------       --------------  -----  \n",
      " 0   PassengerId  891 non-null    int64  \n",
      " 1   Survived     891 non-null    int64  \n",
      " 2   Pclass       891 non-null    int64  \n",
      " 3   Name         891 non-null    object \n",
      " 4   Sex          891 non-null    object \n",
      " 5   Age          714 non-null    float64\n",
      " 6   SibSp        891 non-null    int64  \n",
      " 7   Parch        891 non-null    int64  \n",
      " 8   Ticket       891 non-null    object \n",
      " 9   Fare         891 non-null    float64\n",
      " 10  Cabin        204 non-null    object \n",
      " 11  Embarked     889 non-null    object \n",
      "dtypes: float64(2), int64(5), object(5)\n",
      "memory usage: 83.7+ KB\n"
     ]
    }
   ]
  },
  {
   "cell_type": "code",
   "source": [
    "df.isna()"
   ],
   "metadata": {
    "colab": {
     "base_uri": "https://localhost:8080/",
     "height": 443
    },
    "id": "aQi8g-Ki8vBR",
    "outputId": "58e8f298-cfef-4531-e00e-fb9b870e1944",
    "ExecuteTime": {
     "end_time": "2023-10-21T15:51:12.627854Z",
     "start_time": "2023-10-21T15:51:12.609392Z"
    }
   },
   "execution_count": 75,
   "outputs": [
    {
     "data": {
      "text/plain": "     PassengerId  Survived  Pclass   Name    Sex    Age  SibSp  Parch  Ticket  \\\n0          False     False   False  False  False  False  False  False   False   \n1          False     False   False  False  False  False  False  False   False   \n2          False     False   False  False  False  False  False  False   False   \n3          False     False   False  False  False  False  False  False   False   \n4          False     False   False  False  False  False  False  False   False   \n..           ...       ...     ...    ...    ...    ...    ...    ...     ...   \n886        False     False   False  False  False  False  False  False   False   \n887        False     False   False  False  False  False  False  False   False   \n888        False     False   False  False  False   True  False  False   False   \n889        False     False   False  False  False  False  False  False   False   \n890        False     False   False  False  False  False  False  False   False   \n\n      Fare  Cabin  Embarked  \n0    False   True     False  \n1    False  False     False  \n2    False   True     False  \n3    False  False     False  \n4    False   True     False  \n..     ...    ...       ...  \n886  False   True     False  \n887  False  False     False  \n888  False   True     False  \n889  False  False     False  \n890  False   True     False  \n\n[891 rows x 12 columns]",
      "text/html": "<div>\n<style scoped>\n    .dataframe tbody tr th:only-of-type {\n        vertical-align: middle;\n    }\n\n    .dataframe tbody tr th {\n        vertical-align: top;\n    }\n\n    .dataframe thead th {\n        text-align: right;\n    }\n</style>\n<table border=\"1\" class=\"dataframe\">\n  <thead>\n    <tr style=\"text-align: right;\">\n      <th></th>\n      <th>PassengerId</th>\n      <th>Survived</th>\n      <th>Pclass</th>\n      <th>Name</th>\n      <th>Sex</th>\n      <th>Age</th>\n      <th>SibSp</th>\n      <th>Parch</th>\n      <th>Ticket</th>\n      <th>Fare</th>\n      <th>Cabin</th>\n      <th>Embarked</th>\n    </tr>\n  </thead>\n  <tbody>\n    <tr>\n      <th>0</th>\n      <td>False</td>\n      <td>False</td>\n      <td>False</td>\n      <td>False</td>\n      <td>False</td>\n      <td>False</td>\n      <td>False</td>\n      <td>False</td>\n      <td>False</td>\n      <td>False</td>\n      <td>True</td>\n      <td>False</td>\n    </tr>\n    <tr>\n      <th>1</th>\n      <td>False</td>\n      <td>False</td>\n      <td>False</td>\n      <td>False</td>\n      <td>False</td>\n      <td>False</td>\n      <td>False</td>\n      <td>False</td>\n      <td>False</td>\n      <td>False</td>\n      <td>False</td>\n      <td>False</td>\n    </tr>\n    <tr>\n      <th>2</th>\n      <td>False</td>\n      <td>False</td>\n      <td>False</td>\n      <td>False</td>\n      <td>False</td>\n      <td>False</td>\n      <td>False</td>\n      <td>False</td>\n      <td>False</td>\n      <td>False</td>\n      <td>True</td>\n      <td>False</td>\n    </tr>\n    <tr>\n      <th>3</th>\n      <td>False</td>\n      <td>False</td>\n      <td>False</td>\n      <td>False</td>\n      <td>False</td>\n      <td>False</td>\n      <td>False</td>\n      <td>False</td>\n      <td>False</td>\n      <td>False</td>\n      <td>False</td>\n      <td>False</td>\n    </tr>\n    <tr>\n      <th>4</th>\n      <td>False</td>\n      <td>False</td>\n      <td>False</td>\n      <td>False</td>\n      <td>False</td>\n      <td>False</td>\n      <td>False</td>\n      <td>False</td>\n      <td>False</td>\n      <td>False</td>\n      <td>True</td>\n      <td>False</td>\n    </tr>\n    <tr>\n      <th>...</th>\n      <td>...</td>\n      <td>...</td>\n      <td>...</td>\n      <td>...</td>\n      <td>...</td>\n      <td>...</td>\n      <td>...</td>\n      <td>...</td>\n      <td>...</td>\n      <td>...</td>\n      <td>...</td>\n      <td>...</td>\n    </tr>\n    <tr>\n      <th>886</th>\n      <td>False</td>\n      <td>False</td>\n      <td>False</td>\n      <td>False</td>\n      <td>False</td>\n      <td>False</td>\n      <td>False</td>\n      <td>False</td>\n      <td>False</td>\n      <td>False</td>\n      <td>True</td>\n      <td>False</td>\n    </tr>\n    <tr>\n      <th>887</th>\n      <td>False</td>\n      <td>False</td>\n      <td>False</td>\n      <td>False</td>\n      <td>False</td>\n      <td>False</td>\n      <td>False</td>\n      <td>False</td>\n      <td>False</td>\n      <td>False</td>\n      <td>False</td>\n      <td>False</td>\n    </tr>\n    <tr>\n      <th>888</th>\n      <td>False</td>\n      <td>False</td>\n      <td>False</td>\n      <td>False</td>\n      <td>False</td>\n      <td>True</td>\n      <td>False</td>\n      <td>False</td>\n      <td>False</td>\n      <td>False</td>\n      <td>True</td>\n      <td>False</td>\n    </tr>\n    <tr>\n      <th>889</th>\n      <td>False</td>\n      <td>False</td>\n      <td>False</td>\n      <td>False</td>\n      <td>False</td>\n      <td>False</td>\n      <td>False</td>\n      <td>False</td>\n      <td>False</td>\n      <td>False</td>\n      <td>False</td>\n      <td>False</td>\n    </tr>\n    <tr>\n      <th>890</th>\n      <td>False</td>\n      <td>False</td>\n      <td>False</td>\n      <td>False</td>\n      <td>False</td>\n      <td>False</td>\n      <td>False</td>\n      <td>False</td>\n      <td>False</td>\n      <td>False</td>\n      <td>True</td>\n      <td>False</td>\n    </tr>\n  </tbody>\n</table>\n<p>891 rows × 12 columns</p>\n</div>"
     },
     "execution_count": 75,
     "metadata": {},
     "output_type": "execute_result"
    }
   ]
  },
  {
   "cell_type": "code",
   "source": [
    "df[df.isna().any(axis=1)]"
   ],
   "metadata": {
    "colab": {
     "base_uri": "https://localhost:8080/",
     "height": 815
    },
    "id": "YlPcSXYv80QJ",
    "outputId": "f9652821-c199-426c-e65f-402213c7c2f8",
    "ExecuteTime": {
     "end_time": "2023-10-21T15:51:15.965193Z",
     "start_time": "2023-10-21T15:51:15.930705Z"
    }
   },
   "execution_count": 76,
   "outputs": [
    {
     "data": {
      "text/plain": "     PassengerId  Survived  Pclass                                      Name  \\\n0              1         0       3                   Braund, Mr. Owen Harris   \n2              3         1       3                    Heikkinen, Miss. Laina   \n4              5         0       3                  Allen, Mr. William Henry   \n5              6         0       3                          Moran, Mr. James   \n7              8         0       3            Palsson, Master. Gosta Leonard   \n..           ...       ...     ...                                       ...   \n884          885         0       3                    Sutehall, Mr. Henry Jr   \n885          886         0       3      Rice, Mrs. William (Margaret Norton)   \n886          887         0       2                     Montvila, Rev. Juozas   \n888          889         0       3  Johnston, Miss. Catherine Helen \"Carrie\"   \n890          891         0       3                       Dooley, Mr. Patrick   \n\n        Sex   Age  SibSp  Parch            Ticket     Fare Cabin Embarked  \n0      male  22.0      1      0         A/5 21171   7.2500   NaN        S  \n2    female  26.0      0      0  STON/O2. 3101282   7.9250   NaN        S  \n4      male  35.0      0      0            373450   8.0500   NaN        S  \n5      male   NaN      0      0            330877   8.4583   NaN        Q  \n7      male   2.0      3      1            349909  21.0750   NaN        S  \n..      ...   ...    ...    ...               ...      ...   ...      ...  \n884    male  25.0      0      0   SOTON/OQ 392076   7.0500   NaN        S  \n885  female  39.0      0      5            382652  29.1250   NaN        Q  \n886    male  27.0      0      0            211536  13.0000   NaN        S  \n888  female   NaN      1      2        W./C. 6607  23.4500   NaN        S  \n890    male  32.0      0      0            370376   7.7500   NaN        Q  \n\n[708 rows x 12 columns]",
      "text/html": "<div>\n<style scoped>\n    .dataframe tbody tr th:only-of-type {\n        vertical-align: middle;\n    }\n\n    .dataframe tbody tr th {\n        vertical-align: top;\n    }\n\n    .dataframe thead th {\n        text-align: right;\n    }\n</style>\n<table border=\"1\" class=\"dataframe\">\n  <thead>\n    <tr style=\"text-align: right;\">\n      <th></th>\n      <th>PassengerId</th>\n      <th>Survived</th>\n      <th>Pclass</th>\n      <th>Name</th>\n      <th>Sex</th>\n      <th>Age</th>\n      <th>SibSp</th>\n      <th>Parch</th>\n      <th>Ticket</th>\n      <th>Fare</th>\n      <th>Cabin</th>\n      <th>Embarked</th>\n    </tr>\n  </thead>\n  <tbody>\n    <tr>\n      <th>0</th>\n      <td>1</td>\n      <td>0</td>\n      <td>3</td>\n      <td>Braund, Mr. Owen Harris</td>\n      <td>male</td>\n      <td>22.0</td>\n      <td>1</td>\n      <td>0</td>\n      <td>A/5 21171</td>\n      <td>7.2500</td>\n      <td>NaN</td>\n      <td>S</td>\n    </tr>\n    <tr>\n      <th>2</th>\n      <td>3</td>\n      <td>1</td>\n      <td>3</td>\n      <td>Heikkinen, Miss. Laina</td>\n      <td>female</td>\n      <td>26.0</td>\n      <td>0</td>\n      <td>0</td>\n      <td>STON/O2. 3101282</td>\n      <td>7.9250</td>\n      <td>NaN</td>\n      <td>S</td>\n    </tr>\n    <tr>\n      <th>4</th>\n      <td>5</td>\n      <td>0</td>\n      <td>3</td>\n      <td>Allen, Mr. William Henry</td>\n      <td>male</td>\n      <td>35.0</td>\n      <td>0</td>\n      <td>0</td>\n      <td>373450</td>\n      <td>8.0500</td>\n      <td>NaN</td>\n      <td>S</td>\n    </tr>\n    <tr>\n      <th>5</th>\n      <td>6</td>\n      <td>0</td>\n      <td>3</td>\n      <td>Moran, Mr. James</td>\n      <td>male</td>\n      <td>NaN</td>\n      <td>0</td>\n      <td>0</td>\n      <td>330877</td>\n      <td>8.4583</td>\n      <td>NaN</td>\n      <td>Q</td>\n    </tr>\n    <tr>\n      <th>7</th>\n      <td>8</td>\n      <td>0</td>\n      <td>3</td>\n      <td>Palsson, Master. Gosta Leonard</td>\n      <td>male</td>\n      <td>2.0</td>\n      <td>3</td>\n      <td>1</td>\n      <td>349909</td>\n      <td>21.0750</td>\n      <td>NaN</td>\n      <td>S</td>\n    </tr>\n    <tr>\n      <th>...</th>\n      <td>...</td>\n      <td>...</td>\n      <td>...</td>\n      <td>...</td>\n      <td>...</td>\n      <td>...</td>\n      <td>...</td>\n      <td>...</td>\n      <td>...</td>\n      <td>...</td>\n      <td>...</td>\n      <td>...</td>\n    </tr>\n    <tr>\n      <th>884</th>\n      <td>885</td>\n      <td>0</td>\n      <td>3</td>\n      <td>Sutehall, Mr. Henry Jr</td>\n      <td>male</td>\n      <td>25.0</td>\n      <td>0</td>\n      <td>0</td>\n      <td>SOTON/OQ 392076</td>\n      <td>7.0500</td>\n      <td>NaN</td>\n      <td>S</td>\n    </tr>\n    <tr>\n      <th>885</th>\n      <td>886</td>\n      <td>0</td>\n      <td>3</td>\n      <td>Rice, Mrs. William (Margaret Norton)</td>\n      <td>female</td>\n      <td>39.0</td>\n      <td>0</td>\n      <td>5</td>\n      <td>382652</td>\n      <td>29.1250</td>\n      <td>NaN</td>\n      <td>Q</td>\n    </tr>\n    <tr>\n      <th>886</th>\n      <td>887</td>\n      <td>0</td>\n      <td>2</td>\n      <td>Montvila, Rev. Juozas</td>\n      <td>male</td>\n      <td>27.0</td>\n      <td>0</td>\n      <td>0</td>\n      <td>211536</td>\n      <td>13.0000</td>\n      <td>NaN</td>\n      <td>S</td>\n    </tr>\n    <tr>\n      <th>888</th>\n      <td>889</td>\n      <td>0</td>\n      <td>3</td>\n      <td>Johnston, Miss. Catherine Helen \"Carrie\"</td>\n      <td>female</td>\n      <td>NaN</td>\n      <td>1</td>\n      <td>2</td>\n      <td>W./C. 6607</td>\n      <td>23.4500</td>\n      <td>NaN</td>\n      <td>S</td>\n    </tr>\n    <tr>\n      <th>890</th>\n      <td>891</td>\n      <td>0</td>\n      <td>3</td>\n      <td>Dooley, Mr. Patrick</td>\n      <td>male</td>\n      <td>32.0</td>\n      <td>0</td>\n      <td>0</td>\n      <td>370376</td>\n      <td>7.7500</td>\n      <td>NaN</td>\n      <td>Q</td>\n    </tr>\n  </tbody>\n</table>\n<p>708 rows × 12 columns</p>\n</div>"
     },
     "execution_count": 76,
     "metadata": {},
     "output_type": "execute_result"
    }
   ]
  },
  {
   "cell_type": "code",
   "source": [
    "# ffill: propagate last valid observation forward to next valid.\n",
    "# backfill / bfill: use next valid observation to fill gap.\n",
    "\n",
    "df_clean = df.fillna(method='ffill')\n",
    "#df_clean = df_clean.fillna(method='backfill')\n",
    "df_clean[df_clean.isna().any(axis=1)]"
   ],
   "metadata": {
    "colab": {
     "base_uri": "https://localhost:8080/",
     "height": 153
    },
    "id": "0JTh7khA9mLR",
    "outputId": "c66e380d-aaaf-44ff-9dee-8170624c2b8a",
    "ExecuteTime": {
     "end_time": "2023-10-21T15:51:24.604452Z",
     "start_time": "2023-10-21T15:51:24.499168Z"
    }
   },
   "execution_count": 77,
   "outputs": [
    {
     "name": "stderr",
     "output_type": "stream",
     "text": [
      "/var/folders/hk/69w9p44s0sv2qr5qwwgsjm5w0000gn/T/ipykernel_55008/2646404055.py:4: FutureWarning: DataFrame.fillna with 'method' is deprecated and will raise in a future version. Use obj.ffill() or obj.bfill() instead.\n",
      "  df_clean = df.fillna(method='ffill')\n"
     ]
    },
    {
     "data": {
      "text/plain": "   PassengerId  Survived  Pclass                     Name   Sex   Age  SibSp  \\\n0            1         0       3  Braund, Mr. Owen Harris  male  22.0      1   \n\n   Parch     Ticket  Fare Cabin Embarked  \n0      0  A/5 21171  7.25   NaN        S  ",
      "text/html": "<div>\n<style scoped>\n    .dataframe tbody tr th:only-of-type {\n        vertical-align: middle;\n    }\n\n    .dataframe tbody tr th {\n        vertical-align: top;\n    }\n\n    .dataframe thead th {\n        text-align: right;\n    }\n</style>\n<table border=\"1\" class=\"dataframe\">\n  <thead>\n    <tr style=\"text-align: right;\">\n      <th></th>\n      <th>PassengerId</th>\n      <th>Survived</th>\n      <th>Pclass</th>\n      <th>Name</th>\n      <th>Sex</th>\n      <th>Age</th>\n      <th>SibSp</th>\n      <th>Parch</th>\n      <th>Ticket</th>\n      <th>Fare</th>\n      <th>Cabin</th>\n      <th>Embarked</th>\n    </tr>\n  </thead>\n  <tbody>\n    <tr>\n      <th>0</th>\n      <td>1</td>\n      <td>0</td>\n      <td>3</td>\n      <td>Braund, Mr. Owen Harris</td>\n      <td>male</td>\n      <td>22.0</td>\n      <td>1</td>\n      <td>0</td>\n      <td>A/5 21171</td>\n      <td>7.25</td>\n      <td>NaN</td>\n      <td>S</td>\n    </tr>\n  </tbody>\n</table>\n</div>"
     },
     "execution_count": 77,
     "metadata": {},
     "output_type": "execute_result"
    }
   ]
  },
  {
   "cell_type": "code",
   "source": [
    "df['Age'].fillna(df['Age'].mean(), inplace=True)\n",
    "df.info()"
   ],
   "metadata": {
    "colab": {
     "base_uri": "https://localhost:8080/"
    },
    "id": "YQJR4xh_-Fv4",
    "outputId": "dc546194-4587-4d1d-bdce-d5fac498c4ac",
    "ExecuteTime": {
     "end_time": "2023-10-21T15:51:32.080121Z",
     "start_time": "2023-10-21T15:51:32.034602Z"
    }
   },
   "execution_count": 78,
   "outputs": [
    {
     "name": "stdout",
     "output_type": "stream",
     "text": [
      "<class 'pandas.core.frame.DataFrame'>\n",
      "RangeIndex: 891 entries, 0 to 890\n",
      "Data columns (total 12 columns):\n",
      " #   Column       Non-Null Count  Dtype  \n",
      "---  ------       --------------  -----  \n",
      " 0   PassengerId  891 non-null    int64  \n",
      " 1   Survived     891 non-null    int64  \n",
      " 2   Pclass       891 non-null    int64  \n",
      " 3   Name         891 non-null    object \n",
      " 4   Sex          891 non-null    object \n",
      " 5   Age          891 non-null    float64\n",
      " 6   SibSp        891 non-null    int64  \n",
      " 7   Parch        891 non-null    int64  \n",
      " 8   Ticket       891 non-null    object \n",
      " 9   Fare         891 non-null    float64\n",
      " 10  Cabin        204 non-null    object \n",
      " 11  Embarked     889 non-null    object \n",
      "dtypes: float64(2), int64(5), object(5)\n",
      "memory usage: 83.7+ KB\n"
     ]
    }
   ]
  },
  {
   "cell_type": "code",
   "source": [
    "df_clean.info()"
   ],
   "metadata": {
    "colab": {
     "base_uri": "https://localhost:8080/"
    },
    "id": "gYqcIHNsb8vK",
    "outputId": "600693e6-30a7-4d18-a3b8-bb3871ee41fa"
   },
   "execution_count": null,
   "outputs": [
    {
     "output_type": "stream",
     "name": "stdout",
     "text": [
      "<class 'pandas.core.frame.DataFrame'>\n",
      "RangeIndex: 891 entries, 0 to 890\n",
      "Data columns (total 12 columns):\n",
      " #   Column       Non-Null Count  Dtype  \n",
      "---  ------       --------------  -----  \n",
      " 0   PassengerId  891 non-null    int64  \n",
      " 1   Survived     891 non-null    int64  \n",
      " 2   Pclass       891 non-null    int64  \n",
      " 3   Name         891 non-null    object \n",
      " 4   Sex          891 non-null    object \n",
      " 5   Age          714 non-null    float64\n",
      " 6   SibSp        891 non-null    int64  \n",
      " 7   Parch        891 non-null    int64  \n",
      " 8   Ticket       891 non-null    object \n",
      " 9   Fare         891 non-null    float64\n",
      " 10  Cabin        204 non-null    object \n",
      " 11  Embarked     889 non-null    object \n",
      "dtypes: float64(2), int64(5), object(5)\n",
      "memory usage: 83.7+ KB\n"
     ]
    }
   ]
  },
  {
   "cell_type": "code",
   "source": [
    "df_clean.mean()"
   ],
   "metadata": {
    "id": "7b7mxqnb_N2Q",
    "outputId": "8cff0e09-9a4b-4e55-cc29-8d995ec27795",
    "colab": {
     "base_uri": "https://localhost:8080/"
    }
   },
   "execution_count": null,
   "outputs": [
    {
     "output_type": "execute_result",
     "data": {
      "text/plain": [
       "29.69911764705882"
      ]
     },
     "metadata": {},
     "execution_count": 74
    }
   ]
  },
  {
   "cell_type": "code",
   "source": [
    "df_clean2 = df.fillna(df.mean())\n",
    "df_clean2.mean()"
   ],
   "metadata": {
    "colab": {
     "base_uri": "https://localhost:8080/"
    },
    "id": "YM12-c_d-GNY",
    "outputId": "2dff05ee-7f07-4a08-aca7-f0af688d0208"
   },
   "execution_count": null,
   "outputs": [
    {
     "output_type": "stream",
     "name": "stderr",
     "text": [
      "<ipython-input-73-c62473512cf5>:1: FutureWarning: The default value of numeric_only in DataFrame.mean is deprecated. In a future version, it will default to False. In addition, specifying 'numeric_only=None' is deprecated. Select only valid columns or specify the value of numeric_only to silence this warning.\n",
      "  df_clean2 = df.fillna(df.mean())\n",
      "<ipython-input-73-c62473512cf5>:2: FutureWarning: The default value of numeric_only in DataFrame.mean is deprecated. In a future version, it will default to False. In addition, specifying 'numeric_only=None' is deprecated. Select only valid columns or specify the value of numeric_only to silence this warning.\n",
      "  df_clean2.mean()\n"
     ]
    },
    {
     "output_type": "execute_result",
     "data": {
      "text/plain": [
       "PassengerId    446.000000\n",
       "Survived         0.383838\n",
       "Pclass           2.308642\n",
       "Age             29.699118\n",
       "SibSp            0.523008\n",
       "Parch            0.381594\n",
       "Fare            32.204208\n",
       "dtype: float64"
      ]
     },
     "metadata": {},
     "execution_count": 73
    }
   ]
  },
  {
   "cell_type": "markdown",
   "source": [
    "# Lab"
   ],
   "metadata": {
    "id": "WXVWGbX7Emnp"
   }
  },
  {
   "cell_type": "markdown",
   "source": [
    "## 0. Prerequisite"
   ],
   "metadata": {
    "id": "myEZNvJIDmBQ"
   }
  },
  {
   "cell_type": "code",
   "source": [
    "from google.colab import drive\n",
    "\n",
    "drive.mount('/content/gdrive/', force_remount=True)\n"
   ],
   "metadata": {
    "colab": {
     "base_uri": "https://localhost:8080/"
    },
    "outputId": "bcaa1284-94c6-42fd-c16d-d55ef2c61f90",
    "id": "OEjHDM9lDmBS"
   },
   "execution_count": null,
   "outputs": [
    {
     "output_type": "stream",
     "name": "stdout",
     "text": [
      "Mounted at /content/gdrive/\n"
     ]
    }
   ]
  },
  {
   "cell_type": "code",
   "source": [
    "!cat /content/gdrive/MyDrive/UN.txt"
   ],
   "metadata": {
    "id": "LvPi-sJkjIQ3"
   },
   "execution_count": null,
   "outputs": []
  },
  {
   "cell_type": "markdown",
   "source": [
    "## 0\n",
    "\n",
    "* Create a DataFrame from a CSV file (UN.txt).\n",
    "* The UN.txt file contains columns: 'Country', 'Continent', 'Population', and 'Area'."
   ],
   "metadata": {
    "id": "1UG4Ucc2jfFB"
   }
  },
  {
   "cell_type": "code",
   "source": [
    "import pandas as pd\n",
    "filepath = \"AIP_05_Data Processing and File Access_data/UN.txt\"\n",
    "df = pd.read_csv(filepath, header=None, names=['Country', 'Continent', 'Population', 'Area'])\n",
    "df.head()"
   ],
   "metadata": {
    "colab": {
     "base_uri": "https://localhost:8080/",
     "height": 206
    },
    "id": "hX0B2nbLjccI",
    "outputId": "a9ff92f7-e592-42e2-a1de-bc15108ea402",
    "ExecuteTime": {
     "end_time": "2023-10-21T15:09:38.993124Z",
     "start_time": "2023-10-21T15:09:38.927658Z"
    }
   },
   "execution_count": 52,
   "outputs": [
    {
     "data": {
      "text/plain": "       Country Continent  Population      Area\n0  Afghanistan      Asia      31.800  251772.0\n1      Albania    Europe       3.000   11100.0\n2      Algeria    Africa      38.300  919595.0\n3      Andorra    Europe       0.085     181.0\n4       Angola    Africa      19.100  481354.0",
      "text/html": "<div>\n<style scoped>\n    .dataframe tbody tr th:only-of-type {\n        vertical-align: middle;\n    }\n\n    .dataframe tbody tr th {\n        vertical-align: top;\n    }\n\n    .dataframe thead th {\n        text-align: right;\n    }\n</style>\n<table border=\"1\" class=\"dataframe\">\n  <thead>\n    <tr style=\"text-align: right;\">\n      <th></th>\n      <th>Country</th>\n      <th>Continent</th>\n      <th>Population</th>\n      <th>Area</th>\n    </tr>\n  </thead>\n  <tbody>\n    <tr>\n      <th>0</th>\n      <td>Afghanistan</td>\n      <td>Asia</td>\n      <td>31.800</td>\n      <td>251772.0</td>\n    </tr>\n    <tr>\n      <th>1</th>\n      <td>Albania</td>\n      <td>Europe</td>\n      <td>3.000</td>\n      <td>11100.0</td>\n    </tr>\n    <tr>\n      <th>2</th>\n      <td>Algeria</td>\n      <td>Africa</td>\n      <td>38.300</td>\n      <td>919595.0</td>\n    </tr>\n    <tr>\n      <th>3</th>\n      <td>Andorra</td>\n      <td>Europe</td>\n      <td>0.085</td>\n      <td>181.0</td>\n    </tr>\n    <tr>\n      <th>4</th>\n      <td>Angola</td>\n      <td>Africa</td>\n      <td>19.100</td>\n      <td>481354.0</td>\n    </tr>\n  </tbody>\n</table>\n</div>"
     },
     "execution_count": 52,
     "metadata": {},
     "output_type": "execute_result"
    }
   ]
  },
  {
   "cell_type": "markdown",
   "source": [
    "## 1\n",
    "* Given a DataFrame, filter rows in a DataFrame based on a specific area\n",
    "* Sort the output by area size in descending order"
   ],
   "metadata": {
    "id": "b2kOY08fldb4"
   }
  },
  {
   "cell_type": "code",
   "source": [
    "mask = df['Area'] > 100000\n",
    "df[mask].sort_values(by='Area', ascending=False)"
   ],
   "metadata": {
    "colab": {
     "base_uri": "https://localhost:8080/",
     "height": 423
    },
    "id": "mW3jv_WNjzG4",
    "outputId": "46ad2798-a6be-4881-d2c1-01511453aec7",
    "ExecuteTime": {
     "end_time": "2023-10-21T15:23:13.099968Z",
     "start_time": "2023-10-21T15:23:13.062475Z"
    }
   },
   "execution_count": 55,
   "outputs": [
    {
     "data": {
      "text/plain": "                Country          Continent  Population       Area\n140  Russian Federation             Europe       142.5  6592800.0\n30               Canada      North America        34.8  3855000.0\n184       United States      North America       318.9  3794066.0\n35                China               Asia      1355.7  3696100.0\n23               Brazil      South America       202.7  3287597.0\n..                  ...                ...         ...        ...\n81                Italy             Europe        61.7   116346.0\n132         Philippines               Asia       107.7   115831.0\n26         Burkina Faso             Africa        18.4   105792.0\n120         New Zealand  Australia/Oceania         4.4   103738.0\n60                Gabon             Africa         1.7   103347.0\n\n[75 rows x 4 columns]",
      "text/html": "<div>\n<style scoped>\n    .dataframe tbody tr th:only-of-type {\n        vertical-align: middle;\n    }\n\n    .dataframe tbody tr th {\n        vertical-align: top;\n    }\n\n    .dataframe thead th {\n        text-align: right;\n    }\n</style>\n<table border=\"1\" class=\"dataframe\">\n  <thead>\n    <tr style=\"text-align: right;\">\n      <th></th>\n      <th>Country</th>\n      <th>Continent</th>\n      <th>Population</th>\n      <th>Area</th>\n    </tr>\n  </thead>\n  <tbody>\n    <tr>\n      <th>140</th>\n      <td>Russian Federation</td>\n      <td>Europe</td>\n      <td>142.5</td>\n      <td>6592800.0</td>\n    </tr>\n    <tr>\n      <th>30</th>\n      <td>Canada</td>\n      <td>North America</td>\n      <td>34.8</td>\n      <td>3855000.0</td>\n    </tr>\n    <tr>\n      <th>184</th>\n      <td>United States</td>\n      <td>North America</td>\n      <td>318.9</td>\n      <td>3794066.0</td>\n    </tr>\n    <tr>\n      <th>35</th>\n      <td>China</td>\n      <td>Asia</td>\n      <td>1355.7</td>\n      <td>3696100.0</td>\n    </tr>\n    <tr>\n      <th>23</th>\n      <td>Brazil</td>\n      <td>South America</td>\n      <td>202.7</td>\n      <td>3287597.0</td>\n    </tr>\n    <tr>\n      <th>...</th>\n      <td>...</td>\n      <td>...</td>\n      <td>...</td>\n      <td>...</td>\n    </tr>\n    <tr>\n      <th>81</th>\n      <td>Italy</td>\n      <td>Europe</td>\n      <td>61.7</td>\n      <td>116346.0</td>\n    </tr>\n    <tr>\n      <th>132</th>\n      <td>Philippines</td>\n      <td>Asia</td>\n      <td>107.7</td>\n      <td>115831.0</td>\n    </tr>\n    <tr>\n      <th>26</th>\n      <td>Burkina Faso</td>\n      <td>Africa</td>\n      <td>18.4</td>\n      <td>105792.0</td>\n    </tr>\n    <tr>\n      <th>120</th>\n      <td>New Zealand</td>\n      <td>Australia/Oceania</td>\n      <td>4.4</td>\n      <td>103738.0</td>\n    </tr>\n    <tr>\n      <th>60</th>\n      <td>Gabon</td>\n      <td>Africa</td>\n      <td>1.7</td>\n      <td>103347.0</td>\n    </tr>\n  </tbody>\n</table>\n<p>75 rows × 4 columns</p>\n</div>"
     },
     "execution_count": 55,
     "metadata": {},
     "output_type": "execute_result"
    }
   ]
  },
  {
   "cell_type": "markdown",
   "source": [
    "## 2\n",
    "* Calculate the average population and area of UN member states."
   ],
   "metadata": {
    "id": "5-4MzONkmf_m"
   }
  },
  {
   "cell_type": "code",
   "source": [
    "df[['Population', 'Area']].mean()"
   ],
   "metadata": {
    "colab": {
     "base_uri": "https://localhost:8080/"
    },
    "id": "wjBGEp0llTHd",
    "outputId": "1e355532-e29c-48b6-c1c9-5a095f237305",
    "ExecuteTime": {
     "end_time": "2023-10-21T15:24:42.080579Z",
     "start_time": "2023-10-21T15:24:42.051750Z"
    }
   },
   "execution_count": 56,
   "outputs": [
    {
     "data": {
      "text/plain": "Population        36.972003\nArea          268550.955751\ndtype: float64"
     },
     "execution_count": 56,
     "metadata": {},
     "output_type": "execute_result"
    }
   ]
  },
  {
   "cell_type": "markdown",
   "source": [
    "## 3\n",
    "* Group the DataFrame by 'Continent' and calculate the average population and area for each continent."
   ],
   "metadata": {
    "id": "myLGdVn8nZGj"
   }
  },
  {
   "cell_type": "code",
   "source": [
    "grouped_df = df.groupby('Continent')\n",
    "grouped_df[['Population', 'Area']].mean()"
   ],
   "metadata": {
    "colab": {
     "base_uri": "https://localhost:8080/",
     "height": 269
    },
    "id": "zjj7cwoKmvuw",
    "outputId": "80835c31-6904-4903-db56-219368ef0497",
    "ExecuteTime": {
     "end_time": "2023-10-21T15:25:50.895013Z",
     "start_time": "2023-10-21T15:25:50.864170Z"
    }
   },
   "execution_count": 58,
   "outputs": [
    {
     "data": {
      "text/plain": "                   Population           Area\nContinent                                   \nAfrica              20.817074  219275.240741\nAsia                90.862553  261842.302128\nAustralia/Oceania    2.565179  233168.000000\nEurope              17.315721  206693.215349\nNorth America       24.140696  378141.347826\nSouth America       33.767500  569456.000000",
      "text/html": "<div>\n<style scoped>\n    .dataframe tbody tr th:only-of-type {\n        vertical-align: middle;\n    }\n\n    .dataframe tbody tr th {\n        vertical-align: top;\n    }\n\n    .dataframe thead th {\n        text-align: right;\n    }\n</style>\n<table border=\"1\" class=\"dataframe\">\n  <thead>\n    <tr style=\"text-align: right;\">\n      <th></th>\n      <th>Population</th>\n      <th>Area</th>\n    </tr>\n    <tr>\n      <th>Continent</th>\n      <th></th>\n      <th></th>\n    </tr>\n  </thead>\n  <tbody>\n    <tr>\n      <th>Africa</th>\n      <td>20.817074</td>\n      <td>219275.240741</td>\n    </tr>\n    <tr>\n      <th>Asia</th>\n      <td>90.862553</td>\n      <td>261842.302128</td>\n    </tr>\n    <tr>\n      <th>Australia/Oceania</th>\n      <td>2.565179</td>\n      <td>233168.000000</td>\n    </tr>\n    <tr>\n      <th>Europe</th>\n      <td>17.315721</td>\n      <td>206693.215349</td>\n    </tr>\n    <tr>\n      <th>North America</th>\n      <td>24.140696</td>\n      <td>378141.347826</td>\n    </tr>\n    <tr>\n      <th>South America</th>\n      <td>33.767500</td>\n      <td>569456.000000</td>\n    </tr>\n  </tbody>\n</table>\n</div>"
     },
     "execution_count": 58,
     "metadata": {},
     "output_type": "execute_result"
    }
   ]
  },
  {
   "cell_type": "markdown",
   "source": [
    "## 4\n",
    "* Find the top N countries with the highest one from the given DataFrame."
   ],
   "metadata": {
    "id": "bjn0HLF9xVzQ"
   }
  },
  {
   "cell_type": "code",
   "source": [
    "df.nlargest(5, 'Area')"
   ],
   "metadata": {
    "colab": {
     "base_uri": "https://localhost:8080/",
     "height": 206
    },
    "id": "8hZMhanino17",
    "outputId": "59fc68af-d96d-4c54-a456-1eceb43a678c",
    "ExecuteTime": {
     "end_time": "2023-10-21T15:26:45.907030Z",
     "start_time": "2023-10-21T15:26:45.822940Z"
    }
   },
   "execution_count": 59,
   "outputs": [
    {
     "data": {
      "text/plain": "                Country      Continent  Population       Area\n140  Russian Federation         Europe       142.5  6592800.0\n30               Canada  North America        34.8  3855000.0\n184       United States  North America       318.9  3794066.0\n35                China           Asia      1355.7  3696100.0\n23               Brazil  South America       202.7  3287597.0",
      "text/html": "<div>\n<style scoped>\n    .dataframe tbody tr th:only-of-type {\n        vertical-align: middle;\n    }\n\n    .dataframe tbody tr th {\n        vertical-align: top;\n    }\n\n    .dataframe thead th {\n        text-align: right;\n    }\n</style>\n<table border=\"1\" class=\"dataframe\">\n  <thead>\n    <tr style=\"text-align: right;\">\n      <th></th>\n      <th>Country</th>\n      <th>Continent</th>\n      <th>Population</th>\n      <th>Area</th>\n    </tr>\n  </thead>\n  <tbody>\n    <tr>\n      <th>140</th>\n      <td>Russian Federation</td>\n      <td>Europe</td>\n      <td>142.5</td>\n      <td>6592800.0</td>\n    </tr>\n    <tr>\n      <th>30</th>\n      <td>Canada</td>\n      <td>North America</td>\n      <td>34.8</td>\n      <td>3855000.0</td>\n    </tr>\n    <tr>\n      <th>184</th>\n      <td>United States</td>\n      <td>North America</td>\n      <td>318.9</td>\n      <td>3794066.0</td>\n    </tr>\n    <tr>\n      <th>35</th>\n      <td>China</td>\n      <td>Asia</td>\n      <td>1355.7</td>\n      <td>3696100.0</td>\n    </tr>\n    <tr>\n      <th>23</th>\n      <td>Brazil</td>\n      <td>South America</td>\n      <td>202.7</td>\n      <td>3287597.0</td>\n    </tr>\n  </tbody>\n</table>\n</div>"
     },
     "execution_count": 59,
     "metadata": {},
     "output_type": "execute_result"
    }
   ]
  },
  {
   "cell_type": "code",
   "source": [],
   "metadata": {
    "colab": {
     "base_uri": "https://localhost:8080/",
     "height": 206
    },
    "id": "oepnGPTPpqCF",
    "outputId": "b9f14e32-9696-4370-b414-491e7e84f148"
   },
   "execution_count": null,
   "outputs": [
    {
     "output_type": "execute_result",
     "data": {
      "text/plain": [
       "           Country      Continent  Population       Area\n",
       "35           China           Asia      1355.7  3696100.0\n",
       "75           India           Asia      1236.3  1269210.0\n",
       "184  United States  North America       318.9  3794066.0\n",
       "76       Indonesia           Asia       253.6   735355.0\n",
       "23          Brazil  South America       202.7  3287597.0"
      ],
      "text/html": [
       "\n",
       "  <div id=\"df-c91766f4-1b10-460b-865b-93d779bf2337\">\n",
       "    <div class=\"colab-df-container\">\n",
       "      <div>\n",
       "<style scoped>\n",
       "    .dataframe tbody tr th:only-of-type {\n",
       "        vertical-align: middle;\n",
       "    }\n",
       "\n",
       "    .dataframe tbody tr th {\n",
       "        vertical-align: top;\n",
       "    }\n",
       "\n",
       "    .dataframe thead th {\n",
       "        text-align: right;\n",
       "    }\n",
       "</style>\n",
       "<table border=\"1\" class=\"dataframe\">\n",
       "  <thead>\n",
       "    <tr style=\"text-align: right;\">\n",
       "      <th></th>\n",
       "      <th>Country</th>\n",
       "      <th>Continent</th>\n",
       "      <th>Population</th>\n",
       "      <th>Area</th>\n",
       "    </tr>\n",
       "  </thead>\n",
       "  <tbody>\n",
       "    <tr>\n",
       "      <th>35</th>\n",
       "      <td>China</td>\n",
       "      <td>Asia</td>\n",
       "      <td>1355.7</td>\n",
       "      <td>3696100.0</td>\n",
       "    </tr>\n",
       "    <tr>\n",
       "      <th>75</th>\n",
       "      <td>India</td>\n",
       "      <td>Asia</td>\n",
       "      <td>1236.3</td>\n",
       "      <td>1269210.0</td>\n",
       "    </tr>\n",
       "    <tr>\n",
       "      <th>184</th>\n",
       "      <td>United States</td>\n",
       "      <td>North America</td>\n",
       "      <td>318.9</td>\n",
       "      <td>3794066.0</td>\n",
       "    </tr>\n",
       "    <tr>\n",
       "      <th>76</th>\n",
       "      <td>Indonesia</td>\n",
       "      <td>Asia</td>\n",
       "      <td>253.6</td>\n",
       "      <td>735355.0</td>\n",
       "    </tr>\n",
       "    <tr>\n",
       "      <th>23</th>\n",
       "      <td>Brazil</td>\n",
       "      <td>South America</td>\n",
       "      <td>202.7</td>\n",
       "      <td>3287597.0</td>\n",
       "    </tr>\n",
       "  </tbody>\n",
       "</table>\n",
       "</div>\n",
       "      <button class=\"colab-df-convert\" onclick=\"convertToInteractive('df-c91766f4-1b10-460b-865b-93d779bf2337')\"\n",
       "              title=\"Convert this dataframe to an interactive table.\"\n",
       "              style=\"display:none;\">\n",
       "        \n",
       "  <svg xmlns=\"http://www.w3.org/2000/svg\" height=\"24px\"viewBox=\"0 0 24 24\"\n",
       "       width=\"24px\">\n",
       "    <path d=\"M0 0h24v24H0V0z\" fill=\"none\"/>\n",
       "    <path d=\"M18.56 5.44l.94 2.06.94-2.06 2.06-.94-2.06-.94-.94-2.06-.94 2.06-2.06.94zm-11 1L8.5 8.5l.94-2.06 2.06-.94-2.06-.94L8.5 2.5l-.94 2.06-2.06.94zm10 10l.94 2.06.94-2.06 2.06-.94-2.06-.94-.94-2.06-.94 2.06-2.06.94z\"/><path d=\"M17.41 7.96l-1.37-1.37c-.4-.4-.92-.59-1.43-.59-.52 0-1.04.2-1.43.59L10.3 9.45l-7.72 7.72c-.78.78-.78 2.05 0 2.83L4 21.41c.39.39.9.59 1.41.59.51 0 1.02-.2 1.41-.59l7.78-7.78 2.81-2.81c.8-.78.8-2.07 0-2.86zM5.41 20L4 18.59l7.72-7.72 1.47 1.35L5.41 20z\"/>\n",
       "  </svg>\n",
       "      </button>\n",
       "      \n",
       "  <style>\n",
       "    .colab-df-container {\n",
       "      display:flex;\n",
       "      flex-wrap:wrap;\n",
       "      gap: 12px;\n",
       "    }\n",
       "\n",
       "    .colab-df-convert {\n",
       "      background-color: #E8F0FE;\n",
       "      border: none;\n",
       "      border-radius: 50%;\n",
       "      cursor: pointer;\n",
       "      display: none;\n",
       "      fill: #1967D2;\n",
       "      height: 32px;\n",
       "      padding: 0 0 0 0;\n",
       "      width: 32px;\n",
       "    }\n",
       "\n",
       "    .colab-df-convert:hover {\n",
       "      background-color: #E2EBFA;\n",
       "      box-shadow: 0px 1px 2px rgba(60, 64, 67, 0.3), 0px 1px 3px 1px rgba(60, 64, 67, 0.15);\n",
       "      fill: #174EA6;\n",
       "    }\n",
       "\n",
       "    [theme=dark] .colab-df-convert {\n",
       "      background-color: #3B4455;\n",
       "      fill: #D2E3FC;\n",
       "    }\n",
       "\n",
       "    [theme=dark] .colab-df-convert:hover {\n",
       "      background-color: #434B5C;\n",
       "      box-shadow: 0px 1px 3px 1px rgba(0, 0, 0, 0.15);\n",
       "      filter: drop-shadow(0px 1px 2px rgba(0, 0, 0, 0.3));\n",
       "      fill: #FFFFFF;\n",
       "    }\n",
       "  </style>\n",
       "\n",
       "      <script>\n",
       "        const buttonEl =\n",
       "          document.querySelector('#df-c91766f4-1b10-460b-865b-93d779bf2337 button.colab-df-convert');\n",
       "        buttonEl.style.display =\n",
       "          google.colab.kernel.accessAllowed ? 'block' : 'none';\n",
       "\n",
       "        async function convertToInteractive(key) {\n",
       "          const element = document.querySelector('#df-c91766f4-1b10-460b-865b-93d779bf2337');\n",
       "          const dataTable =\n",
       "            await google.colab.kernel.invokeFunction('convertToInteractive',\n",
       "                                                     [key], {});\n",
       "          if (!dataTable) return;\n",
       "\n",
       "          const docLinkHtml = 'Like what you see? Visit the ' +\n",
       "            '<a target=\"_blank\" href=https://colab.research.google.com/notebooks/data_table.ipynb>data table notebook</a>'\n",
       "            + ' to learn more about interactive tables.';\n",
       "          element.innerHTML = '';\n",
       "          dataTable['output_type'] = 'display_data';\n",
       "          await google.colab.output.renderOutput(dataTable, element);\n",
       "          const docLink = document.createElement('div');\n",
       "          docLink.innerHTML = docLinkHtml;\n",
       "          element.appendChild(docLink);\n",
       "        }\n",
       "      </script>\n",
       "    </div>\n",
       "  </div>\n",
       "  "
      ]
     },
     "metadata": {},
     "execution_count": 31
    }
   ]
  },
  {
   "cell_type": "markdown",
   "source": [
    "## 5\n",
    "\n",
    "\n",
    "```python\n",
    "# read a data\n",
    "df = pd.read_csv('https://raw.githubusercontent.com/agconti/kaggle-titanic/master/data/train.csv')\n",
    "df.info()\n",
    "```\n",
    "\n",
    "* Fill missing values in the given csv  - 'https://raw.githubusercontent.com/agconti/kaggle-titanic/master/data/train.csv'\n",
    "\n",
    "* Replace missing values in the 'Age' column with the mean age.\n",
    "* Replace missing values in the 'Cabin' column with the mode value.\n",
    "* Replace missing values in the 'Embarked' column with the mode value."
   ],
   "metadata": {
    "id": "tkg4BPb-rytm"
   }
  },
  {
   "cell_type": "code",
   "source": [
    "# read a data\n",
    "df = pd.read_csv('https://raw.githubusercontent.com/agconti/kaggle-titanic/master/data/train.csv')\n",
    "df.info()"
   ],
   "metadata": {
    "id": "zUMP_DBRrh2A",
    "ExecuteTime": {
     "end_time": "2023-10-21T16:03:31.178607Z",
     "start_time": "2023-10-21T16:03:30.640577Z"
    }
   },
   "execution_count": 120,
   "outputs": [
    {
     "name": "stdout",
     "output_type": "stream",
     "text": [
      "<class 'pandas.core.frame.DataFrame'>\n",
      "RangeIndex: 891 entries, 0 to 890\n",
      "Data columns (total 12 columns):\n",
      " #   Column       Non-Null Count  Dtype  \n",
      "---  ------       --------------  -----  \n",
      " 0   PassengerId  891 non-null    int64  \n",
      " 1   Survived     891 non-null    int64  \n",
      " 2   Pclass       891 non-null    int64  \n",
      " 3   Name         891 non-null    object \n",
      " 4   Sex          891 non-null    object \n",
      " 5   Age          714 non-null    float64\n",
      " 6   SibSp        891 non-null    int64  \n",
      " 7   Parch        891 non-null    int64  \n",
      " 8   Ticket       891 non-null    object \n",
      " 9   Fare         891 non-null    float64\n",
      " 10  Cabin        204 non-null    object \n",
      " 11  Embarked     889 non-null    object \n",
      "dtypes: float64(2), int64(5), object(5)\n",
      "memory usage: 83.7+ KB\n"
     ]
    }
   ]
  },
  {
   "cell_type": "code",
   "execution_count": 122,
   "outputs": [
    {
     "name": "stdout",
     "output_type": "stream",
     "text": [
      "<class 'pandas.core.frame.DataFrame'>\n",
      "RangeIndex: 891 entries, 0 to 890\n",
      "Data columns (total 12 columns):\n",
      " #   Column       Non-Null Count  Dtype  \n",
      "---  ------       --------------  -----  \n",
      " 0   PassengerId  891 non-null    int64  \n",
      " 1   Survived     891 non-null    int64  \n",
      " 2   Pclass       891 non-null    int64  \n",
      " 3   Name         891 non-null    object \n",
      " 4   Sex          891 non-null    object \n",
      " 5   Age          891 non-null    float64\n",
      " 6   SibSp        891 non-null    int64  \n",
      " 7   Parch        891 non-null    int64  \n",
      " 8   Ticket       891 non-null    object \n",
      " 9   Fare         891 non-null    float64\n",
      " 10  Cabin        891 non-null    object \n",
      " 11  Embarked     891 non-null    object \n",
      "dtypes: float64(2), int64(5), object(5)\n",
      "memory usage: 83.7+ KB\n"
     ]
    }
   ],
   "source": [
    "# df_clean3 = df.copy()\n",
    "df['Age'].fillna(df['Age'].mean(), inplace=True)\n",
    "df['Cabin'].fillna(df['Cabin'].mode()[0], inplace=True)\n",
    "df['Embarked'].fillna(df['Embarked'].mode()[0], inplace=True)\n",
    "df.info()"
   ],
   "metadata": {
    "collapsed": false,
    "ExecuteTime": {
     "end_time": "2023-10-21T16:04:57.758159Z",
     "start_time": "2023-10-21T16:04:57.706991Z"
    }
   }
  },
  {
   "cell_type": "code",
   "execution_count": 123,
   "outputs": [
    {
     "data": {
      "text/plain": "   PassengerId  Survived  Pclass  \\\n0            1         0       3   \n1            2         1       1   \n2            3         1       3   \n3            4         1       1   \n4            5         0       3   \n\n                                                Name     Sex   Age  SibSp  \\\n0                            Braund, Mr. Owen Harris    male  22.0      1   \n1  Cumings, Mrs. John Bradley (Florence Briggs Th...  female  38.0      1   \n2                             Heikkinen, Miss. Laina  female  26.0      0   \n3       Futrelle, Mrs. Jacques Heath (Lily May Peel)  female  35.0      1   \n4                           Allen, Mr. William Henry    male  35.0      0   \n\n   Parch            Ticket     Fare    Cabin Embarked  \n0      0         A/5 21171   7.2500  B96 B98        S  \n1      0          PC 17599  71.2833      C85        C  \n2      0  STON/O2. 3101282   7.9250       G6        S  \n3      0            113803  53.1000     C123        S  \n4      0            373450   8.0500  B96 B98        S  ",
      "text/html": "<div>\n<style scoped>\n    .dataframe tbody tr th:only-of-type {\n        vertical-align: middle;\n    }\n\n    .dataframe tbody tr th {\n        vertical-align: top;\n    }\n\n    .dataframe thead th {\n        text-align: right;\n    }\n</style>\n<table border=\"1\" class=\"dataframe\">\n  <thead>\n    <tr style=\"text-align: right;\">\n      <th></th>\n      <th>PassengerId</th>\n      <th>Survived</th>\n      <th>Pclass</th>\n      <th>Name</th>\n      <th>Sex</th>\n      <th>Age</th>\n      <th>SibSp</th>\n      <th>Parch</th>\n      <th>Ticket</th>\n      <th>Fare</th>\n      <th>Cabin</th>\n      <th>Embarked</th>\n    </tr>\n  </thead>\n  <tbody>\n    <tr>\n      <th>0</th>\n      <td>1</td>\n      <td>0</td>\n      <td>3</td>\n      <td>Braund, Mr. Owen Harris</td>\n      <td>male</td>\n      <td>22.0</td>\n      <td>1</td>\n      <td>0</td>\n      <td>A/5 21171</td>\n      <td>7.2500</td>\n      <td>B96 B98</td>\n      <td>S</td>\n    </tr>\n    <tr>\n      <th>1</th>\n      <td>2</td>\n      <td>1</td>\n      <td>1</td>\n      <td>Cumings, Mrs. John Bradley (Florence Briggs Th...</td>\n      <td>female</td>\n      <td>38.0</td>\n      <td>1</td>\n      <td>0</td>\n      <td>PC 17599</td>\n      <td>71.2833</td>\n      <td>C85</td>\n      <td>C</td>\n    </tr>\n    <tr>\n      <th>2</th>\n      <td>3</td>\n      <td>1</td>\n      <td>3</td>\n      <td>Heikkinen, Miss. Laina</td>\n      <td>female</td>\n      <td>26.0</td>\n      <td>0</td>\n      <td>0</td>\n      <td>STON/O2. 3101282</td>\n      <td>7.9250</td>\n      <td>G6</td>\n      <td>S</td>\n    </tr>\n    <tr>\n      <th>3</th>\n      <td>4</td>\n      <td>1</td>\n      <td>1</td>\n      <td>Futrelle, Mrs. Jacques Heath (Lily May Peel)</td>\n      <td>female</td>\n      <td>35.0</td>\n      <td>1</td>\n      <td>0</td>\n      <td>113803</td>\n      <td>53.1000</td>\n      <td>C123</td>\n      <td>S</td>\n    </tr>\n    <tr>\n      <th>4</th>\n      <td>5</td>\n      <td>0</td>\n      <td>3</td>\n      <td>Allen, Mr. William Henry</td>\n      <td>male</td>\n      <td>35.0</td>\n      <td>0</td>\n      <td>0</td>\n      <td>373450</td>\n      <td>8.0500</td>\n      <td>B96 B98</td>\n      <td>S</td>\n    </tr>\n  </tbody>\n</table>\n</div>"
     },
     "execution_count": 123,
     "metadata": {},
     "output_type": "execute_result"
    }
   ],
   "source": [
    "df.head()"
   ],
   "metadata": {
    "collapsed": false,
    "ExecuteTime": {
     "end_time": "2023-10-21T16:09:49.895405Z",
     "start_time": "2023-10-21T16:09:49.872795Z"
    }
   }
  },
  {
   "cell_type": "markdown",
   "source": [
    "\n",
    "* Calculate the total fare for each passenger in the given DataFrame."
   ],
   "metadata": {
    "id": "7jl_6T_xvFWB"
   }
  },
  {
   "cell_type": "code",
   "source": [
    "grouped_df = df.groupby('PassengerId')\n",
    "grouped_df['Fare'].sum()"
   ],
   "metadata": {
    "colab": {
     "base_uri": "https://localhost:8080/",
     "height": 956
    },
    "id": "c7p0ANH4vXyA",
    "outputId": "00a78f39-3749-4118-c442-3699517d6157",
    "ExecuteTime": {
     "end_time": "2023-10-21T16:13:20.584986Z",
     "start_time": "2023-10-21T16:13:20.539428Z"
    }
   },
   "execution_count": 125,
   "outputs": [
    {
     "data": {
      "text/plain": "PassengerId\n1       7.2500\n2      71.2833\n3       7.9250\n4      53.1000\n5       8.0500\n        ...   \n887    13.0000\n888    30.0000\n889    23.4500\n890    30.0000\n891     7.7500\nName: Fare, Length: 891, dtype: float64"
     },
     "execution_count": 125,
     "metadata": {},
     "output_type": "execute_result"
    }
   ]
  }
 ]
}
