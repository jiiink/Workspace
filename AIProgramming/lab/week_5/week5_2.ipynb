{
 "nbformat": 4,
 "nbformat_minor": 0,
 "metadata": {
  "colab": {
   "provenance": [],
   "toc_visible": true
  },
  "kernelspec": {
   "name": "python3",
   "display_name": "Python 3"
  },
  "language_info": {
   "name": "python"
  }
 },
 "cells": [
  {
   "cell_type": "markdown",
   "source": [
    "# Lab11"
   ],
   "metadata": {
    "id": "ZYJeA4fpcGNk"
   }
  },
  {
   "cell_type": "markdown",
   "source": [
    "## 0. Prerequisite"
   ],
   "metadata": {
    "id": "0AZqhmeccW7p"
   }
  },
  {
   "cell_type": "code",
   "source": [
    "!pip install mypy\n",
    "from IPython.core.magic import register_cell_magic\n",
    "from IPython import get_ipython\n",
    "from mypy import api\n",
    "\n",
    "@register_cell_magic\n",
    "def mypy(line, cell):\n",
    "  for output in api.run(['-c', '\\n' + cell] + line.split()):\n",
    "    if output and not output.startswith('Success'):\n",
    "      raise TypeError(output)\n",
    "  get_ipython().run_cell(cell)"
   ],
   "metadata": {
    "colab": {
     "base_uri": "https://localhost:8080/"
    },
    "id": "gyxzozzA4prN",
    "outputId": "88da27f3-0f43-4081-ba4c-f32fe6489dd6"
   },
   "execution_count": null,
   "outputs": [
    {
     "output_type": "stream",
     "name": "stdout",
     "text": [
      "Looking in indexes: https://pypi.org/simple, https://us-python.pkg.dev/colab-wheels/public/simple/\n",
      "Collecting mypy\n",
      "  Downloading mypy-1.2.0-cp39-cp39-manylinux_2_17_x86_64.manylinux2014_x86_64.whl (12.2 MB)\n",
      "\u001B[2K     \u001B[90m━━━━━━━━━━━━━━━━━━━━━━━━━━━━━━━━━━━━━━━━\u001B[0m \u001B[32m12.2/12.2 MB\u001B[0m \u001B[31m8.8 MB/s\u001B[0m eta \u001B[36m0:00:00\u001B[0m\n",
      "\u001B[?25hCollecting mypy-extensions>=1.0.0\n",
      "  Downloading mypy_extensions-1.0.0-py3-none-any.whl (4.7 kB)\n",
      "Requirement already satisfied: typing-extensions>=3.10 in /usr/local/lib/python3.9/dist-packages (from mypy) (4.5.0)\n",
      "Requirement already satisfied: tomli>=1.1.0 in /usr/local/lib/python3.9/dist-packages (from mypy) (2.0.1)\n",
      "Installing collected packages: mypy-extensions, mypy\n",
      "Successfully installed mypy-1.2.0 mypy-extensions-1.0.0\n"
     ]
    }
   ]
  },
  {
   "cell_type": "code",
   "source": [
    "from google.colab import drive\n",
    "\n",
    "drive.mount('/content/gdrive/', force_remount=True)\n"
   ],
   "metadata": {
    "colab": {
     "base_uri": "https://localhost:8080/"
    },
    "id": "ZDeM7aGRQfp2",
    "outputId": "e73c8b81-7f00-4fb3-da9c-e4daa9b9ce81"
   },
   "execution_count": null,
   "outputs": [
    {
     "output_type": "stream",
     "name": "stdout",
     "text": [
      "Mounted at /content/gdrive/\n"
     ]
    }
   ]
  },
  {
   "cell_type": "markdown",
   "source": [
    "## Common Exception\n",
    "\n",
    "\n"
   ],
   "metadata": {
    "id": "AL3MoBZO5NpL"
   }
  },
  {
   "cell_type": "code",
   "source": [
    "abc=1\n",
    "print(abc)"
   ],
   "metadata": {
    "colab": {
     "base_uri": "https://localhost:8080/"
    },
    "id": "M3ABCUJiIqOC",
    "outputId": "258b166f-87fb-4658-8f20-f8aa3a4fbc4c"
   },
   "execution_count": null,
   "outputs": [
    {
     "output_type": "stream",
     "name": "stdout",
     "text": [
      "1\n"
     ]
    }
   ]
  },
  {
   "cell_type": "code",
   "source": [
    "a = '3'\n",
    "int(a)"
   ],
   "metadata": {
    "colab": {
     "base_uri": "https://localhost:8080/"
    },
    "id": "ywmEZzMyLzZk",
    "outputId": "0e460329-a8c5-4a73-8532-e76bc2a130b2"
   },
   "execution_count": null,
   "outputs": [
    {
     "output_type": "execute_result",
     "data": {
      "text/plain": [
       "3"
      ]
     },
     "metadata": {},
     "execution_count": 5
    }
   ]
  },
  {
   "cell_type": "code",
   "source": [
    "a= 3\n",
    "a=3.14\n",
    "a=[1,2,3]"
   ],
   "metadata": {
    "id": "LHYrrM3-WrCO"
   },
   "execution_count": null,
   "outputs": []
  },
  {
   "cell_type": "code",
   "source": [
    "b = '3.14'\n",
    "int(b)"
   ],
   "metadata": {
    "colab": {
     "base_uri": "https://localhost:8080/",
     "height": 204
    },
    "id": "RpcSVieaL_nb",
    "outputId": "7c5ca316-b206-4655-a3f5-6493bf7abb50"
   },
   "execution_count": null,
   "outputs": [
    {
     "output_type": "error",
     "ename": "ValueError",
     "evalue": "ignored",
     "traceback": [
      "\u001B[0;31m---------------------------------------------------------------------------\u001B[0m",
      "\u001B[0;31mValueError\u001B[0m                                Traceback (most recent call last)",
      "\u001B[0;32m<ipython-input-3-687d8850bc09>\u001B[0m in \u001B[0;36m<cell line: 2>\u001B[0;34m()\u001B[0m\n\u001B[1;32m      1\u001B[0m \u001B[0mb\u001B[0m \u001B[0;34m=\u001B[0m \u001B[0;34m'3.14'\u001B[0m\u001B[0;34m\u001B[0m\u001B[0;34m\u001B[0m\u001B[0m\n\u001B[0;32m----> 2\u001B[0;31m \u001B[0mint\u001B[0m\u001B[0;34m(\u001B[0m\u001B[0mb\u001B[0m\u001B[0;34m)\u001B[0m\u001B[0;34m\u001B[0m\u001B[0;34m\u001B[0m\u001B[0m\n\u001B[0m",
      "\u001B[0;31mValueError\u001B[0m: invalid literal for int() with base 10: '3.14'"
     ]
    }
   ]
  },
  {
   "cell_type": "code",
   "source": [
    "pi = '3.140'\n",
    "float(pi)\n",
    "\n",
    "d = '3.140'\n",
    "float(d)"
   ],
   "metadata": {
    "id": "SBUQ1WRTc1Nz",
    "colab": {
     "base_uri": "https://localhost:8080/"
    },
    "outputId": "840f1f7a-0c11-4a0b-df34-3a1267e0a59f"
   },
   "execution_count": null,
   "outputs": [
    {
     "output_type": "execute_result",
     "data": {
      "text/plain": [
       "3.14"
      ]
     },
     "metadata": {},
     "execution_count": 10
    }
   ]
  },
  {
   "cell_type": "code",
   "source": [
    "lst = ['hello', 'world', '3.14', '0.78']\n",
    "print(lst[3])\n",
    "\n",
    "#for l in lst:\n",
    "#  print(l)"
   ],
   "metadata": {
    "colab": {
     "base_uri": "https://localhost:8080/"
    },
    "id": "9SdhMfnjIOXN",
    "outputId": "f5ffed14-0092-413e-d31a-31e7ec25de3b"
   },
   "execution_count": null,
   "outputs": [
    {
     "output_type": "stream",
     "name": "stdout",
     "text": [
      "0.78\n"
     ]
    }
   ]
  },
  {
   "cell_type": "code",
   "source": [
    "lst = [0, 0, '3.14', '0.78']\n",
    "\n",
    "list(map(type, map(float, lst)))"
   ],
   "metadata": {
    "colab": {
     "base_uri": "https://localhost:8080/"
    },
    "id": "YhrsG-RVHpfI",
    "outputId": "331da291-6e4b-48b6-8607-35edd0afe1be"
   },
   "execution_count": null,
   "outputs": [
    {
     "output_type": "execute_result",
     "data": {
      "text/plain": [
       "[float, float, float, float]"
      ]
     },
     "metadata": {},
     "execution_count": 18
    }
   ]
  },
  {
   "cell_type": "code",
   "source": [
    "d = {'kim': 'hello',\n",
    "     'lee': 'world'}\n",
    "\n",
    "if 'park' in d:\n",
    "  d['park']"
   ],
   "metadata": {
    "id": "e2egenn1ISmS"
   },
   "execution_count": null,
   "outputs": []
  },
  {
   "cell_type": "code",
   "source": [
    "def f():\n",
    "  a=0\n",
    "  if 5 < 3:\n",
    "    a = 3\n",
    "  return a\n",
    "\n",
    "print(f())\n"
   ],
   "metadata": {
    "colab": {
     "base_uri": "https://localhost:8080/"
    },
    "id": "biRIzRNoMd44",
    "outputId": "2a6650b6-60ca-4a6c-d438-5b8fd76483b9"
   },
   "execution_count": null,
   "outputs": [
    {
     "output_type": "stream",
     "name": "stdout",
     "text": [
      "0\n"
     ]
    }
   ]
  },
  {
   "cell_type": "code",
   "source": [
    "def r1():\n",
    "  x = 5\n",
    "  def i():\n",
    "    return x\n",
    "  print(x)\n",
    "  return i()\n",
    "\n",
    "def r2():\n",
    "  x=5\n",
    "  def i():\n",
    "    x = 5\n",
    "    return x\n",
    "  print(x)\n",
    "  return i()\n",
    "\n",
    "r1()\n",
    "r2()"
   ],
   "metadata": {
    "colab": {
     "base_uri": "https://localhost:8080/"
    },
    "id": "GtR4wC0NMgpy",
    "outputId": "e4a48065-379e-4877-ef9c-163da2c9c452"
   },
   "execution_count": null,
   "outputs": [
    {
     "output_type": "stream",
     "name": "stdout",
     "text": [
      "5\n",
      "5\n"
     ]
    },
    {
     "output_type": "execute_result",
     "data": {
      "text/plain": [
       "5"
      ]
     },
     "metadata": {},
     "execution_count": 25
    }
   ]
  },
  {
   "cell_type": "code",
   "source": [
    "!python --version"
   ],
   "metadata": {
    "colab": {
     "base_uri": "https://localhost:8080/"
    },
    "id": "q14HlQIdHcHt",
    "outputId": "a955ee29-e6da-499c-9d9e-4d021814bc04"
   },
   "execution_count": null,
   "outputs": [
    {
     "output_type": "stream",
     "name": "stdout",
     "text": [
      "Python 3.9.16\n"
     ]
    }
   ]
  },
  {
   "cell_type": "code",
   "source": [
    "##%%mypy\n",
    "\n",
    "from typing import Union\n",
    "\n",
    "def to_float(n: str) -> Union[float, str]:\n",
    "  try:\n",
    "    return float(n)\n",
    "  except ValueError:\n",
    "    print('N is not a float type!')\n",
    "    return n"
   ],
   "metadata": {
    "id": "enDvASizGj4y"
   },
   "execution_count": null,
   "outputs": []
  },
  {
   "cell_type": "code",
   "source": [
    "lst = ['hello', 'world', '3.14', '0.78']\n",
    "number = lambda x: float(x) if x.isnumeric() else x\n",
    "list(map(type, map(to_float, lst)))"
   ],
   "metadata": {
    "colab": {
     "base_uri": "https://localhost:8080/"
    },
    "id": "YWJHyp8PGIXS",
    "outputId": "a04b0c76-b990-4ac6-e21f-6cdf044574b2"
   },
   "execution_count": null,
   "outputs": [
    {
     "output_type": "stream",
     "name": "stdout",
     "text": [
      "N is not a float type!\n",
      "N is not a float type!\n"
     ]
    },
    {
     "output_type": "execute_result",
     "data": {
      "text/plain": [
       "[str, str, float, float]"
      ]
     },
     "metadata": {},
     "execution_count": 32
    }
   ]
  },
  {
   "cell_type": "markdown",
   "source": [
    "## p3. Exception Handling (사용자 입력)\n",
    "\n",
    "<a href=\"https://docs.python.org/3/library/exceptions.html#exception-hierarchy\">Exception Hierarchy in Python</a>"
   ],
   "metadata": {
    "id": "mGbPfQJEc5pl"
   }
  },
  {
   "cell_type": "code",
   "source": [
    "numDependents = int(input(\"Enter number of dependents: \"))\n",
    "taxCredit = 1000 * numDependents\n",
    "print(\"Tax credit:\", taxCredit)"
   ],
   "metadata": {
    "id": "mGAC-9rSc7Qd",
    "colab": {
     "base_uri": "https://localhost:8080/",
     "height": 232
    },
    "outputId": "99d957ef-722a-4884-8ad8-43efc130ac99"
   },
   "execution_count": null,
   "outputs": [
    {
     "name": "stdout",
     "output_type": "stream",
     "text": [
      "Enter number of dependents: 3.14\n"
     ]
    },
    {
     "output_type": "error",
     "ename": "ValueError",
     "evalue": "ignored",
     "traceback": [
      "\u001B[0;31m---------------------------------------------------------------------------\u001B[0m",
      "\u001B[0;31mValueError\u001B[0m                                Traceback (most recent call last)",
      "\u001B[0;32m<ipython-input-35-f9095498b4a9>\u001B[0m in \u001B[0;36m<cell line: 1>\u001B[0;34m()\u001B[0m\n\u001B[0;32m----> 1\u001B[0;31m \u001B[0mnumDependents\u001B[0m \u001B[0;34m=\u001B[0m \u001B[0mint\u001B[0m\u001B[0;34m(\u001B[0m\u001B[0minput\u001B[0m\u001B[0;34m(\u001B[0m\u001B[0;34m\"Enter number of dependents: \"\u001B[0m\u001B[0;34m)\u001B[0m\u001B[0;34m)\u001B[0m\u001B[0;34m\u001B[0m\u001B[0;34m\u001B[0m\u001B[0m\n\u001B[0m\u001B[1;32m      2\u001B[0m \u001B[0mtaxCredit\u001B[0m \u001B[0;34m=\u001B[0m \u001B[0;36m1000\u001B[0m \u001B[0;34m*\u001B[0m \u001B[0mnumDependents\u001B[0m\u001B[0;34m\u001B[0m\u001B[0;34m\u001B[0m\u001B[0m\n\u001B[1;32m      3\u001B[0m \u001B[0mprint\u001B[0m\u001B[0;34m(\u001B[0m\u001B[0;34m\"Tax credit:\"\u001B[0m\u001B[0;34m,\u001B[0m \u001B[0mtaxCredit\u001B[0m\u001B[0;34m)\u001B[0m\u001B[0;34m\u001B[0m\u001B[0;34m\u001B[0m\u001B[0m\n",
      "\u001B[0;31mValueError\u001B[0m: invalid literal for int() with base 10: '3.14'"
     ]
    }
   ]
  },
  {
   "cell_type": "code",
   "source": [
    "try:\n",
    "  numDependents = int(input(\"Enter number of dependents: \"))\n",
    "except ValueError as e:\n",
    "  print(\"\\nYou did not respond with an integer value.\")\n",
    "  print(\"We will assume your answer is zero.\")\n",
    "  numDependents = 0\n",
    "  raise\n",
    "\n",
    "taxCredit = 1000 * numDependents\n",
    "print(\"Tax credit:\", taxCredit)"
   ],
   "metadata": {
    "colab": {
     "base_uri": "https://localhost:8080/",
     "height": 325
    },
    "id": "cAtg__AdJwac",
    "outputId": "7e907440-f876-407a-f64a-2ca5bb0bac92"
   },
   "execution_count": null,
   "outputs": [
    {
     "output_type": "stream",
     "name": "stdout",
     "text": [
      "Enter number of dependents: a\n",
      "\n",
      "You did not respond with an integer value.\n",
      "We will assume your answer is zero.\n"
     ]
    },
    {
     "output_type": "error",
     "ename": "ValueError",
     "evalue": "ignored",
     "traceback": [
      "\u001B[0;31m---------------------------------------------------------------------------\u001B[0m",
      "\u001B[0;31mValueError\u001B[0m                                Traceback (most recent call last)",
      "\u001B[0;32m<ipython-input-43-ac50da482cd1>\u001B[0m in \u001B[0;36m<cell line: 1>\u001B[0;34m()\u001B[0m\n\u001B[1;32m      1\u001B[0m \u001B[0;32mtry\u001B[0m\u001B[0;34m:\u001B[0m\u001B[0;34m\u001B[0m\u001B[0;34m\u001B[0m\u001B[0m\n\u001B[0;32m----> 2\u001B[0;31m   \u001B[0mnumDependents\u001B[0m \u001B[0;34m=\u001B[0m \u001B[0mint\u001B[0m\u001B[0;34m(\u001B[0m\u001B[0minput\u001B[0m\u001B[0;34m(\u001B[0m\u001B[0;34m\"Enter number of dependents: \"\u001B[0m\u001B[0;34m)\u001B[0m\u001B[0;34m)\u001B[0m\u001B[0;34m\u001B[0m\u001B[0;34m\u001B[0m\u001B[0m\n\u001B[0m\u001B[1;32m      3\u001B[0m \u001B[0;32mexcept\u001B[0m \u001B[0mValueError\u001B[0m \u001B[0;32mas\u001B[0m \u001B[0me\u001B[0m\u001B[0;34m:\u001B[0m\u001B[0;34m\u001B[0m\u001B[0;34m\u001B[0m\u001B[0m\n\u001B[1;32m      4\u001B[0m   \u001B[0mprint\u001B[0m\u001B[0;34m(\u001B[0m\u001B[0;34m\"\\nYou did not respond with an integer value.\"\u001B[0m\u001B[0;34m)\u001B[0m\u001B[0;34m\u001B[0m\u001B[0;34m\u001B[0m\u001B[0m\n\u001B[1;32m      5\u001B[0m   \u001B[0mprint\u001B[0m\u001B[0;34m(\u001B[0m\u001B[0;34m\"We will assume your answer is zero.\"\u001B[0m\u001B[0;34m)\u001B[0m\u001B[0;34m\u001B[0m\u001B[0;34m\u001B[0m\u001B[0m\n",
      "\u001B[0;31mValueError\u001B[0m: invalid literal for int() with base 10: 'a'"
     ]
    }
   ]
  },
  {
   "cell_type": "markdown",
   "source": [
    "## p8. Exception Handling (파일 처리)\n",
    "\n"
   ],
   "metadata": {
    "id": "INqFk2K5c7ks"
   }
  },
  {
   "cell_type": "code",
   "source": [
    "def main():\n",
    "  '''\n",
    "  Display the reciprocal of a number in a file.\n",
    "  '''\n",
    "  try:\n",
    "    fileName = input(\"Enter the name of a file: \")\n",
    "    infile = open(fileName, 'r')\n",
    "    num = float(infile.readline())\n",
    "    print(1 / num)\n",
    "  except FileNotFoundError as exc1:\n",
    "    print(exc1)\n",
    "  except TypeError as exc2:\n",
    "    print(exc2)\n",
    "  except:\n",
    "    print('WoW!')\n",
    "\n",
    "main()"
   ],
   "metadata": {
    "id": "B2c46qWfc8z0",
    "colab": {
     "base_uri": "https://localhost:8080/"
    },
    "outputId": "7a1ef13c-980a-4138-be1d-11c49fc27eb7"
   },
   "execution_count": null,
   "outputs": [
    {
     "output_type": "stream",
     "name": "stdout",
     "text": [
      "Enter the name of a file: hello.txt\n",
      "[Errno 2] No such file or directory: 'hello.txt'\n"
     ]
    }
   ]
  },
  {
   "cell_type": "markdown",
   "source": [
    "## p10. Exception Handling (사용자로부터 원하는 입력 받기??)"
   ],
   "metadata": {
    "id": "jAEoPcBXc9kM"
   }
  },
  {
   "cell_type": "code",
   "source": [
    "def main():\n",
    "  '''\n",
    "  Request that the user enter a proper response.\n",
    "  '''\n",
    "  phoneticAlpha = {'a':\"alpha\", 'b':\"bravo\",'c':\"charlie\"}\n",
    "  while True:\n",
    "    try:\n",
    "      letter = input(\"Enter a, b, or c: \")\n",
    "      print(phoneticAlpha[letter])\n",
    "      break\n",
    "    except KeyError:\n",
    "      print(\"Unacceptable letter was entered.\")\n",
    "\n",
    "main()"
   ],
   "metadata": {
    "id": "nJN7nZ1Nc-ad",
    "colab": {
     "base_uri": "https://localhost:8080/"
    },
    "outputId": "50749e8f-ab5e-4946-90cb-5866c020da0f"
   },
   "execution_count": null,
   "outputs": [
    {
     "output_type": "stream",
     "name": "stdout",
     "text": [
      "Enter a, b, or c: e\n",
      "Unacceptable letter was entered.\n",
      "Enter a, b, or c: f\n",
      "Unacceptable letter was entered.\n",
      "Enter a, b, or c: a\n",
      "alpha\n"
     ]
    }
   ]
  },
  {
   "cell_type": "markdown",
   "source": [
    "## p12. Exception Handling (예외는 어디서나 발생할 수 있다??)\n",
    "\n",
    "\n",
    "\n",
    "\n",
    "\n"
   ],
   "metadata": {
    "id": "EkRNBCyLctUY"
   }
  },
  {
   "cell_type": "code",
   "source": [
    "fileName = '/content/gdrive/MyDrive/Numbers.txt'\n",
    "with open(fileName, 'w') as f_write:\n",
    "  for i in range(1, 100+1):\n",
    "    f_write.write(str(i) + '\\n')"
   ],
   "metadata": {
    "id": "ML_Alh4iQHVT"
   },
   "execution_count": null,
   "outputs": []
  },
  {
   "cell_type": "code",
   "source": [
    "!cat /content/gdrive/MyDrive/Numbers.txt"
   ],
   "metadata": {
    "id": "wv45rrgKvu9W"
   },
   "execution_count": null,
   "outputs": []
  },
  {
   "cell_type": "code",
   "source": [
    "from typing import List\n",
    "\n",
    "fileName = '/content/gdrive/MyDrive/Numbers.txt'\n",
    "nonExistFileName = '/content/gdrive/MyDrive/Numbers1.txt'\n",
    "\n",
    "\n",
    "def calcAverage(fileName)->float:\n",
    "  '''\n",
    "  Calculate the average of the numbers in a file.\n",
    "  '''\n",
    "  total = 0\n",
    "  count = 0\n",
    "  foundFlag = True\n",
    "  try:\n",
    "    infile = open(fileName, 'r')\n",
    "  except FileNotFoundError:\n",
    "    print(\"File not found.\")\n",
    "    foundFlag = False\n",
    "  if foundFlag:\n",
    "    try:\n",
    "      for line in infile:\n",
    "        count += 1\n",
    "        total += float(line)\n",
    "      return total / count\n",
    "    except ValueError:\n",
    "      print(\"Line\", count, \"could not be converted to a float\")\n",
    "      if count > 1:\n",
    "        return total / (count - 1)\n",
    "      else:\n",
    "        print(\"No average can be calculated.\")\n",
    "        return -1\n",
    "    except ZeroDivisionError:\n",
    "      print(\"File was empty.\")\n",
    "      return -1\n",
    "    finally:\n",
    "      infile.close()\n",
    "\n",
    "def calcSum(fileName: str)->float:\n",
    "  '''\n",
    "  Calculate total of the numbers in a file.\n",
    "  '''\n",
    "\n",
    "  total, count = 0, 0\n",
    "  try:\n",
    "    with open(fileName, 'r') as infile:\n",
    "      for line in infile:\n",
    "        total += float(line)\n",
    "  except FileNotFoundError as e:\n",
    "    print(\"File not found.\")\n",
    "    #raise\n",
    "  except ValueError as e:\n",
    "    print(\"Line\", count, \"could not be converted to a float\")\n",
    "    #raise\n",
    "\n",
    "  return total\n",
    "\n",
    "def main(fileNameList : List[str]):\n",
    "  for f in fileNameList:\n",
    "    print(calcAverage(f))\n",
    "    print(calcSum(f))\n",
    "\n",
    "main([fileName, nonExistFileName])"
   ],
   "metadata": {
    "id": "BxdeHEF_cB3C",
    "colab": {
     "base_uri": "https://localhost:8080/"
    },
    "outputId": "5047c36d-b4c3-4ae5-f678-c9224982c390"
   },
   "execution_count": null,
   "outputs": [
    {
     "output_type": "stream",
     "name": "stdout",
     "text": [
      "50.5\n",
      "5050.0\n",
      "File not found.\n",
      "None\n",
      "File not found.\n",
      "0\n"
     ]
    }
   ]
  },
  {
   "cell_type": "markdown",
   "source": [
    "## p14. Selecting Random Values"
   ],
   "metadata": {
    "id": "tdJa-fe6Lu_N"
   }
  },
  {
   "cell_type": "code",
   "source": [
    "import random\n",
    "\n",
    "elements = [\"earth\", \"air\", \"fire\", \"water\"]\n",
    "\n",
    "print(random.choice(elements)) # with equal probability\n",
    "print(random.sample(elements, 2))\n",
    "random.shuffle(elements)\n",
    "print(elements)\n",
    "print(random.randint(1, 5)) # random integer from 1 to 5"
   ],
   "metadata": {
    "id": "4CuQ-rftL-3y",
    "colab": {
     "base_uri": "https://localhost:8080/"
    },
    "outputId": "da313387-f2bb-4fd5-9015-9a413fe5eed4"
   },
   "execution_count": null,
   "outputs": [
    {
     "output_type": "stream",
     "name": "stdout",
     "text": [
      "earth\n",
      "['earth', 'air']\n",
      "['water', 'fire', 'earth', 'air']\n",
      "5\n"
     ]
    }
   ]
  },
  {
   "cell_type": "code",
   "source": [
    "import random\n",
    "import numpy as np\n",
    "\n",
    "import matplotlib.pyplot as plt\n",
    "from typing import Any\n",
    "\n",
    "#random.seed(0)\n",
    "\n",
    "def showProbabilityAsHistogram(lst : List[Any], title: str='')->None:\n",
    "  counts, edges, bars = plt.hist(lst)\n",
    "  plt.bar_label(bars)\n",
    "  plt.title(title)\n",
    "  plt.show()\n",
    "\n",
    "elements = [\"earth\", \"air\", \"fire\", \"water\"]\n",
    "numbers = list(range(100))\n",
    "\n",
    "# generate numbers with equal probability for each number\n",
    "showProbabilityAsHistogram(random.choices(elements, k=1000), 'random.choices')\n",
    "\n",
    "# generate numbers with equal probability for each number\n",
    "showProbabilityAsHistogram(random.choices(numbers, k=1000), 'random.choices')\n",
    "\n",
    "# generate numbers with equal probability for each number\n",
    "showProbabilityAsHistogram([random.randint(1, 100) for _ in range(1000)], 'random.randint')\n",
    "\n",
    "# generate numbers with equal probability for each number\n",
    "showProbabilityAsHistogram([random.random() for _ in range(100)], 'random.random')\n",
    "\n",
    "# random samples from a normal (Gaussian) distribution\n",
    "showProbabilityAsHistogram(np.random.normal(500, 100, 1000), 'np.random.normal')"
   ],
   "metadata": {
    "colab": {
     "base_uri": "https://localhost:8080/",
     "height": 1000
    },
    "id": "M-br_ljz6_r9",
    "outputId": "d8523a26-4bad-45ff-8cf4-207171a7df37"
   },
   "execution_count": null,
   "outputs": [
    {
     "output_type": "display_data",
     "data": {
      "text/plain": [
       "<Figure size 640x480 with 1 Axes>"
      ],
      "image/png": "[encoded data removed]"
     },
     "metadata": {}
    },
    {
     "output_type": "display_data",
     "data": {
      "text/plain": [
       "<Figure size 640x480 with 1 Axes>"
      ],
      "image/png": "[encoded data removed]"
     },
     "metadata": {}
    },
    {
     "output_type": "display_data",
     "data": {
      "text/plain": [
       "<Figure size 640x480 with 1 Axes>"
      ],
      "image/png": "[encoded data removed]"
     },
     "metadata": {}
    },
    {
     "output_type": "display_data",
     "data": {
      "text/plain": [
       "<Figure size 640x480 with 1 Axes>"
      ],
      "image/png": "[encoded data removed]"
     },
     "metadata": {}
    },
    {
     "output_type": "display_data",
     "data": {
      "text/plain": [
       "<Figure size 640x480 with 1 Axes>"
      ],
      "image/png": "[encoded data removed]"
     },
     "metadata": {}
    }
   ]
  },
  {
   "cell_type": "markdown",
   "source": [
    "## p15. Selecting Random Values"
   ],
   "metadata": {
    "id": "j7bVqexB4RnI"
   }
  },
  {
   "cell_type": "code",
   "source": [
    "!cat /content/gdrive/MyDrive/DeckOfCardsList.dat"
   ],
   "metadata": {
    "colab": {
     "base_uri": "https://localhost:8080/"
    },
    "id": "J9KY58U75VKl",
    "outputId": "e29aef0a-e368-4e2d-cfef-21f09bb9e414"
   },
   "execution_count": null,
   "outputs": [
    {
     "output_type": "stream",
     "name": "stdout",
     "text": [
      "�\u0003]q\u0000(X\u0004\u0000\u0000\u00002♠q\u0001X\u0004\u0000\u0000\u00003♠q\u0002X\u0004\u0000\u0000\u00004♠q\u0003X\u0004\u0000\u0000\u00005♠q\u0004X\u0004\u0000\u0000\u00006♠q\u0005X\u0004\u0000\u0000\u00007♠q\u0006X\u0004\u0000\u0000\u00008♠q\u0007X\u0004\u0000\u0000\u00009♠q\bX\u0005\u0000\u0000\u000010♠q\tX\u0004\u0000\u0000\u0000J♠q\n",
      "X\u0004\u0000\u0000\u0000K♠q\u000BX\u0004\u0000\u0000\u0000Q♠q\fX\u0004\u0000\u0000\u0000A♠q\rX\u0004\u0000\u0000\u00002♥q\u000EX\u0004\u0000\u0000\u00003♥q\u000FX\u0004\u0000\u0000\u00004♥q\u0010X\u0004\u0000\u0000\u00005♥q\u0011X\u0004\u0000\u0000\u00006♥q\u0012X\u0004\u0000\u0000\u00007♥q\u0013X\u0004\u0000\u0000\u00008♥q\u0014X\u0004\u0000\u0000\u00009♥q\u0015X\u0005\u0000\u0000\u000010♥q\u0016X\u0004\u0000\u0000\u0000J♥q\u0017X\u0004\u0000\u0000\u0000K♥q\u0018X\u0004\u0000\u0000\u0000Q♥q\u0019X\u0004\u0000\u0000\u0000A♥q\u001AX\u0004\u0000\u0000\u00002♣q\u001BX\u0004\u0000\u0000\u00003♣q\u001CX\u0004\u0000\u0000\u00004♣q\u001DX\u0004\u0000\u0000\u00005♣q\u001EX\u0004\u0000\u0000\u00006♣q\u001FX\u0004\u0000\u0000\u00007♣q X\u0004\u0000\u0000\u00008♣q!X\u0004\u0000\u0000\u00009♣q\"X\u0005\u0000\u0000\u000010♣q#X\u0004\u0000\u0000\u0000J♣q$X\u0004\u0000\u0000\u0000K♣q%X\u0004\u0000\u0000\u0000Q♣q&X\u0004\u0000\u0000\u0000A♣q'X\u0004\u0000\u0000\u00002♦q(X\u0004\u0000\u0000\u00003♦q)X\u0004\u0000\u0000\u00004♦q*X\u0004\u0000\u0000\u00005♦q+X\u0004\u0000\u0000\u00006♦q,X\u0004\u0000\u0000\u00007♦q-X\u0004\u0000\u0000\u00008♦q.X\u0004\u0000\u0000\u00009♦q/X\u0005\u0000\u0000\u000010♦q0X\u0004\u0000\u0000\u0000J♦q1X\u0004\u0000\u0000\u0000K♦q2X\u0004\u0000\u0000\u0000Q♦q3X\u0004\u0000\u0000\u0000A♦q4e."
     ]
    }
   ]
  },
  {
   "cell_type": "code",
   "source": [
    "import random\n",
    "import pickle\n",
    "\n",
    "fileName = '/content/gdrive/MyDrive/DeckOfCardsList.dat'\n",
    "\n",
    "with open(fileName, 'rb') as infile:\n",
    "  deckOfCards = pickle.load(infile)\n",
    "\n",
    "print(deckOfCards)\n",
    "print()\n",
    "pokerHand = random.sample(deckOfCards, 5)\n",
    "print(pokerHand)\n",
    "random.shuffle(deckOfCards)\n",
    "print(deckOfCards)"
   ],
   "metadata": {
    "colab": {
     "base_uri": "https://localhost:8080/"
    },
    "id": "CuZAsrTb4RBT",
    "outputId": "a67ab4e7-a6eb-403e-b871-58d541dafcca"
   },
   "execution_count": null,
   "outputs": [
    {
     "output_type": "stream",
     "name": "stdout",
     "text": [
      "['2♠', '3♠', '4♠', '5♠', '6♠', '7♠', '8♠', '9♠', '10♠', 'J♠', 'K♠', 'Q♠', 'A♠', '2♥', '3♥', '4♥', '5♥', '6♥', '7♥', '8♥', '9♥', '10♥', 'J♥', 'K♥', 'Q♥', 'A♥', '2♣', '3♣', '4♣', '5♣', '6♣', '7♣', '8♣', '9♣', '10♣', 'J♣', 'K♣', 'Q♣', 'A♣', '2♦', '3♦', '4♦', '5♦', '6♦', '7♦', '8♦', '9♦', '10♦', 'J♦', 'K♦', 'Q♦', 'A♦']\n",
      "\n",
      "['5♠', 'A♥', 'K♥', '8♦', 'Q♥']\n",
      "['6♠', 'A♠', '9♥', 'J♥', '7♦', '9♣', '8♠', '10♦', '9♠', '2♣', '3♣', 'A♣', 'Q♣', 'K♣', 'A♥', '8♥', '4♠', 'K♥', '7♣', 'A♦', '5♦', '3♠', '5♣', 'Q♥', '6♦', '8♦', '9♦', 'K♦', 'Q♦', '4♦', '7♠', '10♣', 'K♠', '4♥', '10♥', '5♥', '10♠', '3♦', '5♠', 'J♣', '4♣', '6♣', '2♠', '6♥', 'J♦', 'J♠', '2♦', '7♥', '8♣', 'Q♠', '3♥', '2♥']\n"
     ]
    }
   ]
  },
  {
   "cell_type": "markdown",
   "source": [
    "## p18. Recursion"
   ],
   "metadata": {
    "id": "9fgcLU2reahl"
   }
  },
  {
   "cell_type": "code",
   "source": [
    "def gcd(a, b):\n",
    "  if b == 0:\n",
    "    return a\n",
    "  return gcd(b, a%b)\n",
    "\n",
    "def gcd2(a, b):\n",
    "  while b!=0:\n",
    "    a, b = b, a % b\n",
    "  return a\n",
    "\n",
    "\n",
    "for a, b in [ (4, 6), (10, 15), (10, 35), (20, 30), (2, 31) ]:\n",
    "  print(gcd(a, b), gcd2(a, b))"
   ],
   "metadata": {
    "colab": {
     "base_uri": "https://localhost:8080/"
    },
    "id": "DoKo3wWr_whP",
    "outputId": "5b1eced7-d11f-4b06-b5fa-2fced4cbf624"
   },
   "execution_count": null,
   "outputs": [
    {
     "output_type": "stream",
     "name": "stdout",
     "text": [
      "2 2\n",
      "5 5\n",
      "5 5\n",
      "10 10\n",
      "1 1\n"
     ]
    }
   ]
  },
  {
   "cell_type": "markdown",
   "source": [
    "## p22. Recursion"
   ],
   "metadata": {
    "id": "cI42-WTiDKZQ"
   }
  },
  {
   "cell_type": "code",
   "source": [
    "def isPalindrome(word :str) -> bool:\n",
    "  '''\n",
    "  Convert all letters to lowercase.\n",
    "  '''\n",
    "  word = word.lower()\n",
    "  # Words of zero or one letters are palindromes.\n",
    "  if len(word) <= 1:\n",
    "    return True\n",
    "  elif word[0] == word[-1]: # First and last letters match.\n",
    "    # Remove first and last letters.\n",
    "    word = word[1:-1]\n",
    "    return isPalindrome(word)\n",
    "  else:\n",
    "    return False\n",
    "\n",
    "def isPalindrome2(s: str):\n",
    "    # Implement your code\n",
    "    # Return true if s is palladium, false otherwise.\n",
    "    middle = len(s)//2\n",
    "    if len(s) % 2 == 0:\n",
    "      return s[:middle] == s[:middle-1:-1]\n",
    "    else:\n",
    "      return s[:middle] == s[:middle:-1]\n",
    "\n",
    "def isPalindrome3(word):\n",
    "    return word.lower() == word.lower()[::-1]\n",
    "\n",
    "input_strings = ['', 'a', 'abccba', 'racecar', 'hello', 'madam', 'python', 'level', 'world']\n",
    "\n",
    "for s in input_strings:\n",
    "  print(isPalindrome(s), isPalindrome2(s), isPalindrome3(s))\n"
   ],
   "metadata": {
    "colab": {
     "base_uri": "https://localhost:8080/"
    },
    "id": "Ch5ZVOAsDKA5",
    "outputId": "1d748c02-e07c-4260-928b-161ff9c2d833"
   },
   "execution_count": null,
   "outputs": [
    {
     "output_type": "stream",
     "name": "stdout",
     "text": [
      "True True True\n",
      "True True True\n",
      "True True True\n",
      "True True True\n",
      "False False False\n",
      "True True True\n",
      "False False False\n",
      "True True True\n",
      "False False False\n"
     ]
    }
   ]
  }
 ]
}
