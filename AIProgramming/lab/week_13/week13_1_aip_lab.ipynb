{
  "cells": [
    {
      "cell_type": "markdown",
      "metadata": {
        "id": "hvRP4GJkjAiw"
      },
      "source": [
        "# 🎉 Congratulations! The Launch of pnuopt on GitHub 🎉"
      ]
    },
    {
      "cell_type": "markdown",
      "metadata": {
        "id": "OtM1D1k3jihd"
      },
      "source": [
        "Our hard work and dedication have finally paid off. We are proud to announce the first official release of the pnuopt package on GitHub! This is a significant milestone for us and a testament to the collaborative effort and commitment of everyone involved."
      ]
    },
    {
      "cell_type": "code",
      "execution_count": null,
      "metadata": {
        "colab": {
          "base_uri": "https://localhost:8080/"
        },
        "id": "U1V3JQhXjfSM",
        "outputId": "60848bfc-c063-434e-98b5-c5b092bc00dd"
      },
      "outputs": [
        {
          "name": "stdout",
          "output_type": "stream",
          "text": [
            "Collecting git+https://github.com/kaper-edward/pnuopt.git\n",
            "  Cloning https://github.com/kaper-edward/pnuopt.git to /tmp/pip-req-build-1nxinyms\n",
            "  Running command git clone --filter=blob:none --quiet https://github.com/kaper-edward/pnuopt.git /tmp/pip-req-build-1nxinyms\n",
            "  Resolved https://github.com/kaper-edward/pnuopt.git to commit 313ea856e83dcaf2672d06f7e71faf0cbfb73927\n",
            "  Preparing metadata (setup.py) ... \u001b[?25l\u001b[?25hdone\n",
            "Requirement already satisfied: numpy>=1.15 in /usr/local/lib/python3.10/dist-packages (from pnuopt==0.1.0) (1.23.5)\n",
            "Building wheels for collected packages: pnuopt\n",
            "  Building wheel for pnuopt (setup.py) ... \u001b[?25l\u001b[?25hdone\n",
            "  Created wheel for pnuopt: filename=pnuopt-0.1.0-py3-none-any.whl size=5213 sha256=000215de1ccb42d38611085dfdb3ab4359e2e4b175f481ef7d7969f5eb59584d\n",
            "  Stored in directory: /tmp/pip-ephem-wheel-cache-h44r3vjh/wheels/b9/d7/9b/eab840a671903aa87e28c6d967cc07cda3cc54930961b3ae01\n",
            "Successfully built pnuopt\n",
            "Installing collected packages: pnuopt\n",
            "Successfully installed pnuopt-0.1.0\n"
          ]
        }
      ],
      "source": [
        "!pip install git+https://github.com/kaper-edward/pnuopt.git"
      ]
    },
    {
      "cell_type": "markdown",
      "metadata": {
        "id": "kL7hzb8tP7lO"
      },
      "source": [
        "# Genetic Algorithm Class"
      ]
    },
    {
      "cell_type": "code",
      "execution_count": 5,
      "metadata": {
        "id": "ptW40mosp1kr"
      },
      "outputs": [],
      "source": [
        "import numpy as np\n",
        "\n",
        "class GeneticAlgorithm:\n",
        "  def __init__(\n",
        "    self, fitness_function, initial_population_generator,\n",
        "        selection_function, crossover_function, mutation_function,\n",
        "        population_size=100, num_generations=1000,\n",
        "        crossover_probability=0.99,\n",
        "        mutation_probability=None\n",
        "):\n",
        "    self.fitness_function = fitness_function\n",
        "    self.initial_population_generator = initial_population_generator\n",
        "\n",
        "    self.selection = selection_function\n",
        "    self.crossover = crossover_function\n",
        "    self.mutation = mutation_function\n",
        "\n",
        "    self.population_size = population_size\n",
        "    self.num_generations = num_generations\n",
        "\n",
        "    self.crossover_probability = crossover_probability\n",
        "    self.mutation_probability = mutation_probability if mutation_probability is not None else 1 / self.population_size\n",
        "\n",
        "    self.population = None\n",
        "    self.best_solution = None\n",
        "    self.best_score = float('inf')\n",
        "\n",
        "  def fit(self):\n",
        "    self.population = self.initial_population_generator(population_size=self.population_size)\n",
        "    for generation in range(self.num_generations):\n",
        "      fitness_scores = [self.fitness_function(solution=individual) for individual in self.population]\n",
        "      best_idx = np.argmin(fitness_scores)\n",
        "\n",
        "      if fitness_scores[best_idx] < self.best_score:\n",
        "        self.best_score = fitness_scores[best_idx]\n",
        "        self.best_solution = self.population[best_idx]\n",
        "        # print('best_score', self.best_score)\n",
        "        if generation == self.num_generations - 1: break\n",
        "\n",
        "      new_population = []\n",
        "      for _ in range(self.population_size):\n",
        "        # Selection\n",
        "        parents_indices = self.selection(fitness_scores, 2)\n",
        "        parent1, parent2 = self.population[parents_indices[0]], self.population[parents_indices[1]]\n",
        "        # Crossover\n",
        "        if np.random.rand() < self.crossover_probability:\n",
        "          child = self.crossover(parent1, parent2)\n",
        "        else:\n",
        "          child = parent1.copy()\n",
        "        # Mutation\n",
        "        mutated_child = self.mutation(child, self.mutation_probability)\n",
        "        new_population.append(mutated_child)\n",
        "      self.population = new_population\n",
        "\n",
        "    return self.best_solution\n",
        "\n",
        "  def predict(self):\n",
        "      return self.best_solution\n",
        "\n",
        "  def score(self):\n",
        "      return self.best_score"
      ]
    },
    {
      "cell_type": "markdown",
      "metadata": {
        "id": "GljCr8R_7buE"
      },
      "source": [
        "#2"
      ]
    },
    {
      "cell_type": "markdown",
      "metadata": {
        "id": "MgiWOgNv2R6J"
      },
      "source": [
        "\n",
        "\n",
        "| Ackley | Griewank | Convex |\n",
        "|------|----------|-----|\n",
        "| <img src=\"https://drive.google.com/uc?id=1M1slit0Toi9fSt5A_XFPLHdC73vue9-_\" width=\"400\"/>   | <img src=\"https://drive.google.com/uc?id=1dz2iCffrUXVa7bB4ohxjvDXPp3ud0vTO\" width=\"400\"/>      |   <img src=\"https://drive.google.com/uc?id=1FRXc3t5WQlKRWHT_sj7xfhocITK3-RoW\" width=\"400\"/>  |\n",
        "\n",
        "```\n",
        "def ackley_function(x):\n",
        "    term1 = -20 * math.exp(-0.2 * math.sqrt(sum(xi ** 2 for xi in x) / len(x)))\n",
        "    term2 = -math.exp(sum(math.cos(2 * math.pi * xi) for xi in x) / len(x))\n",
        "    return 20 + math.e + term1 + term2\n",
        "\n",
        "def convex_function(x):\n",
        "    return (x[0] - 2) ** 2 + 5 * (x[1] - 5) ** 2 + 8 * (x[2] + 8) ** 2 + 3 * (x[3] + 1) ** 2 + 6 * (x[4] - 7) ** 2\n",
        "\n",
        "def griewank_function(x):\n",
        "    sum_term = sum(xi ** 2 for xi in x) / 4000\n",
        "    prod_term = math.cos(x[0])\n",
        "    for i, xi in enumerate(x[1:], start=2):\n",
        "        prod_term *= math.cos(xi / math.sqrt(i))\n",
        "    return 1 + sum_term - prod_term\n",
        "```\n",
        "\n"
      ]
    },
    {
      "cell_type": "code",
      "execution_count": 2,
      "metadata": {
        "id": "9FKD3Z_Z9YM5"
      },
      "outputs": [],
      "source": [
        "import math\n",
        "\n",
        "def griewank_function(x):\n",
        "  sum_term = sum(xi ** 2 for xi in x) / 4000\n",
        "  prod_term = math.cos(x[0])\n",
        "  for i, xi in enumerate(x[1:], start=2):\n",
        "      prod_term *= math.cos(xi / math.sqrt(i))\n",
        "  return 1 + sum_term - prod_term\n",
        "\n",
        "def convex_function(x):\n",
        "   return (x[0] - 2) ** 2 + 5 * (x[1] - 5) ** 2 + 8 * (x[2] + 8) ** 2 + 3 * (x[3] + 1) ** 2 + 6 * (x[4] - 7) **2\n",
        "\n",
        "def ackley_function(x):\n",
        "   term1 = -20 * math.exp(-0.2 * math.sqrt(sum(xi ** 2 for xi in x) / len(x)))\n",
        "   term2 = -math.exp(sum(math.cos(2 * math.pi * xi) for xi in x) / len(x))\n",
        "   return 20 + math.e + term1 + term2"
      ]
    },
    {
      "cell_type": "code",
      "execution_count": 3,
      "metadata": {
        "id": "9Rn1a8dq7edI"
      },
      "outputs": [],
      "source": [
        "from functools import partial\n",
        "\n",
        "def binary_to_real(binary, min_val=-30, max_val=30):\n",
        "  decimal = int(\"\".join(str(int(bit)) for bit in binary), 2)\n",
        "  max_decimal = 2**len(binary) - 1\n",
        "  real_value = min_val + (max_val - min_val) * decimal / max_decimal\n",
        "  return real_value\n",
        "\n",
        "def fitness_func(f, solution, n_splits=5):\n",
        "  # Splitting the binary_solution into 5 segments of 12 bits each\n",
        "  split_solution = np.split(solution, n_splits)\n",
        "  real_values = [binary_to_real(segment, -30, 30) for segment in split_solution]\n",
        "  return f(real_values)\n",
        "\n",
        "def initial_population_generator(population_size, gene_length=60):\n",
        "  return np.random.randint(2, size=(population_size, gene_length))\n",
        "  # return np.random.uniform(-30, 30, size=(population_size, gene_length))\n",
        "\n",
        "fitness_func = partial(fitness_func, f=griewank_function)"
      ]
    },
    {
      "cell_type": "code",
      "execution_count": 6,
      "metadata": {
        "colab": {
          "base_uri": "https://localhost:8080/"
        },
        "id": "qqfGSU7q9RYr",
        "outputId": "4b6173ae-5b30-47cf-b2c8-74797c1e441d"
      },
      "outputs": [
        {
          "name": "stdout",
          "output_type": "stream",
          "text": [
            "best_solution:  [0 1 1 1 0 0 1 0 1 0 1 0 0 1 1 0 1 0 1 1 1 1 1 1 1 0 0 1 0 1 1 0 1 1 1 1 1\n",
            " 0 0 0 0 0 0 0 0 0 0 0 1 0 0 1 1 1 0 1 1 1 1 0]\n",
            "best_score:  0.044109416860845796\n"
          ]
        }
      ],
      "source": [
        "def select(fitness_scores, num_parents, tournament_size=3):\n",
        "  # parents_indices = [1, 2]\n",
        "  parents_indices = []\n",
        "  parents_indices.append(np.argmin(fitness_scores))\n",
        "  parents_indices.append(np.random.randint(0, len(fitness_scores)))\n",
        "  return parents_indices\n",
        "\n",
        "def crossover(parent1, parent2):\n",
        "  rand_index = np.random.randint(0, len(parent1))\n",
        "  \n",
        "  child = np.concatenate((parent1[:rand_index], parent2[rand_index:]))\n",
        "  return child\n",
        "\n",
        "def mutate(individual, mutation_rate):\n",
        "  # print(type(individual))\n",
        "  # print(\"individual\", individual)\n",
        "  if (mutation_rate < np.random.uniform(0, 1)):\n",
        "    rand_index = np.random.randint(0, len(individual))\n",
        "    individual[rand_index] = np.random.randint(2)\n",
        "    \n",
        "  # print(np.random.randint(2))\n",
        "\n",
        "  return individual\n",
        "\n",
        "ga = GeneticAlgorithm(\n",
        "    fitness_function=fitness_func,\n",
        "    initial_population_generator=initial_population_generator,\n",
        "    selection_function=select,\n",
        "    crossover_function=crossover,\n",
        "    mutation_function=mutate,\n",
        "    population_size=30,\n",
        "    num_generations=1000,\n",
        "    crossover_probability=0.99,\n",
        "    mutation_probability=None\n",
        ")\n",
        "\n",
        "best_solution = ga.fit()\n",
        "print(\"best_solution: \", best_solution)\n",
        "print(\"best_score: \", fitness_func(solution=best_solution))"
      ]
    },
    {
      "cell_type": "markdown",
      "metadata": {
        "id": "WsPk_819Nm9N"
      },
      "source": [
        "# 1\n",
        " Make a solution for the TSP using a genetic algorithm (GA). The provided GeneticAlgorithm class serves as a framework, but you need to implement specific components suitable for solving the TSP.\n",
        "\n",
        " ```\n",
        "cities = [\n",
        "    (8, 31), (54, 97), (50, 50), (65, 16), (70, 47), (25, 100), (55, 74), (77, 87),\n",
        "    (6, 46), (70, 78), (13, 38), (100, 32), (26, 35), (55, 16), (26, 77), (17, 67),\n",
        "    (40, 36), (38, 27), (33, 2), (48, 9), (62, 20), (17, 92), (30, 2), (80, 75),\n",
        "    (32, 36), (43, 79), (57, 49), (18, 24), (96, 76), (81, 39)\n",
        "]\n",
        " ```"
      ]
    },
    {
      "cell_type": "code",
      "execution_count": null,
      "metadata": {
        "id": "7XvPcaZG8NU2"
      },
      "outputs": [],
      "source": [
        "from collections import Counter\n",
        "\n",
        "def dup(x):\n",
        "    return list(filter(lambda items: items[1] > 1, Counter(x).items()))"
      ]
    },
    {
      "cell_type": "code",
      "execution_count": null,
      "metadata": {
        "colab": {
          "base_uri": "https://localhost:8080/"
        },
        "id": "OPsgKsUWQGI8",
        "outputId": "e1f317bc-acce-4d18-802d-639d3a6460ff"
      },
      "outputs": [
        {
          "name": "stdout",
          "output_type": "stream",
          "text": [
            "best_score 1171.8225965380534\n",
            "check_duplication:  []\n",
            "best_solution:  [6, 10, 8, 15, 16, 14, 28, 2, 17, 26, 9, 5, 4, 20, 19, 0, 18, 11, 24, 22, 27, 3, 13, 29, 23, 7, 25, 1, 21, 12]\n",
            "best_score:  1171.8225965380534\n"
          ]
        }
      ],
      "source": [
        "from functools import partial\n",
        "from collections import Counter\n",
        "\n",
        "cities = [\n",
        "    (8, 31), (54, 97), (50, 50), (65, 16), (70, 47), (25, 100), (55, 74), (77, 87),\n",
        "    (6, 46), (70, 78), (13, 38), (100, 32), (26, 35), (55, 16), (26, 77), (17, 67),\n",
        "    (40, 36), (38, 27), (33, 2), (48, 9), (62, 20), (17, 92), (30, 2), (80, 75),\n",
        "    (32, 36), (43, 79), (57, 49), (18, 24), (96, 76), (81, 39)\n",
        "]\n",
        "\n",
        "def fitness_func(solution, cities):\n",
        "    total_distance = 0\n",
        "    for i in range(len(solution)):\n",
        "        start_city = cities[solution[i]]\n",
        "        end_city = cities[solution[(i + 1) % len(solution)]]\n",
        "        total_distance += np.sqrt((start_city[0] - end_city[0])**2 + (start_city[1] - end_city[1])**2)\n",
        "    return total_distance\n",
        "\n",
        "def initial_population(population_size, num_cities):\n",
        "    population = []\n",
        "    for _ in range(population_size):\n",
        "        solution = list(range(num_cities))\n",
        "        np.random.shuffle(solution)\n",
        "        population.append(solution[:])\n",
        "    return population\n",
        "\n",
        "initial_population_generator = partial(initial_population, num_cities=len(cities))\n",
        "fitness_func = partial(fitness_func, cities=cities)\n",
        "\n",
        "def select(fitness_scores, num_parents, tournament_size=3):\n",
        "  parents_indices = [1, 2]\n",
        "  return parents_indices\n",
        "\n",
        "def crossover(parent1, parent2):\n",
        "  child = parent1\n",
        "  return child\n",
        "\n",
        "def mutate(individual, mutation_rate):\n",
        "  return individual\n",
        "\n",
        "ga = GeneticAlgorithm(\n",
        "    fitness_function=fitness_func,\n",
        "    initial_population_generator=initial_population_generator,\n",
        "    selection_function=select,\n",
        "    crossover_function=crossover,\n",
        "    mutation_function=mutate,\n",
        "    population_size=500,\n",
        "    num_generations=100,\n",
        ")\n",
        "\n",
        "def dup(x):\n",
        "  return list(filter(lambda items: items[1] > 1, Counter(x).items()))\n",
        "best_solution = ga.fit()\n",
        "print(\"check_duplication: \", dup(best_solution))\n",
        "print(\"best_solution: \", best_solution)\n",
        "print(\"best_score: \", fitness_func(best_solution))"
      ]
    },
    {
      "cell_type": "code",
      "execution_count": null,
      "metadata": {
        "colab": {
          "base_uri": "https://localhost:8080/",
          "height": 452
        },
        "id": "pIooi4J6m24R",
        "outputId": "f6f2626a-f258-4680-b411-2b07be596732"
      },
      "outputs": [
        {
          "data": {
            "image/png": "[encoded data removed]",
            "text/plain": [
              "<Figure size 640x480 with 1 Axes>"
            ]
          },
          "metadata": {},
          "output_type": "display_data"
        }
      ],
      "source": [
        "import matplotlib.pyplot as plt\n",
        "\n",
        "def visualize(solution, cities):\n",
        "  fig, ax = plt.subplots()\n",
        "  cities_x, cities_y = zip(*cities)\n",
        "  solution = best_solution\n",
        "  tour_x = [cities[city][0] for city in solution + [solution[0]]]\n",
        "  tour_y = [cities[city][1] for city in solution + [solution[0]]]\n",
        "  ax.plot(tour_x, tour_y, 'r-')\n",
        "  ax.plot(cities_x, cities_y, 'o')\n",
        "  ax.set_title(\"TSP Solution Movement\")\n",
        "  plt.show()\n",
        "\n",
        "visualize(best_solution, cities)"
      ]
    },
    {
      "cell_type": "code",
      "execution_count": null,
      "metadata": {
        "id": "aOQr61kP60tS"
      },
      "outputs": [],
      "source": []
    }
  ],
  "metadata": {
    "colab": {
      "provenance": []
    },
    "kernelspec": {
      "display_name": "Python 3",
      "name": "python3"
    },
    "language_info": {
      "codemirror_mode": {
        "name": "ipython",
        "version": 3
      },
      "file_extension": ".py",
      "mimetype": "text/x-python",
      "name": "python",
      "nbconvert_exporter": "python",
      "pygments_lexer": "ipython3",
      "version": "3.9.6"
    }
  },
  "nbformat": 4,
  "nbformat_minor": 0
}
