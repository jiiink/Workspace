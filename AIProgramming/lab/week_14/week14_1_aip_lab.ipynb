{
  "cells": [
    {
      "cell_type": "markdown",
      "metadata": {
        "id": "mZhjCXJ8OVqf"
      },
      "source": [
        "# Datasets"
      ]
    },
    {
      "cell_type": "markdown",
      "metadata": {
        "id": "Neyyb3cSOXRy"
      },
      "source": [
        "## load_diabetes"
      ]
    },
    {
      "cell_type": "markdown",
      "metadata": {
        "id": "TZx387_GMXb7"
      },
      "source": [
        "https://scikit-learn.org/stable/modules/generated/sklearn.datasets.load_diabetes.html#sklearn.datasets.load_diabetes"
      ]
    },
    {
      "cell_type": "code",
      "execution_count": 1,
      "metadata": {
        "id": "CDje4-omMEt_"
      },
      "outputs": [],
      "source": [
        "from sklearn.datasets import load_diabetes"
      ]
    },
    {
      "cell_type": "code",
      "execution_count": 2,
      "metadata": {
        "colab": {
          "base_uri": "https://localhost:8080/"
        },
        "id": "DASUhrJQMKHO",
        "outputId": "5a71f00a-9408-4f58-b009-5283610e0cfd"
      },
      "outputs": [
        {
          "data": {
            "text/plain": [
              "(numpy.ndarray, numpy.ndarray)"
            ]
          },
          "execution_count": 2,
          "metadata": {},
          "output_type": "execute_result"
        }
      ],
      "source": [
        "dataset = load_diabetes()\n",
        "type(dataset.data), type(dataset.target)"
      ]
    },
    {
      "cell_type": "code",
      "execution_count": 3,
      "metadata": {
        "colab": {
          "base_uri": "https://localhost:8080/"
        },
        "id": "koL3bV6gMv3p",
        "outputId": "1e808c9f-6a10-431a-f2d9-1da21e88a857"
      },
      "outputs": [
        {
          "data": {
            "text/plain": [
              "((442, 10), (442,))"
            ]
          },
          "execution_count": 3,
          "metadata": {},
          "output_type": "execute_result"
        }
      ],
      "source": [
        "dataset.data.shape, dataset.target.shape"
      ]
    },
    {
      "cell_type": "code",
      "execution_count": 4,
      "metadata": {
        "colab": {
          "base_uri": "https://localhost:8080/"
        },
        "id": "r-s3fT8TTI3R",
        "outputId": "73ede006-db0f-4c2d-b7df-716753685893"
      },
      "outputs": [
        {
          "name": "stdout",
          "output_type": "stream",
          "text": [
            ".. _diabetes_dataset:\n",
            "\n",
            "Diabetes dataset\n",
            "----------------\n",
            "\n",
            "Ten baseline variables, age, sex, body mass index, average blood\n",
            "pressure, and six blood serum measurements were obtained for each of n =\n",
            "442 diabetes patients, as well as the response of interest, a\n",
            "quantitative measure of disease progression one year after baseline.\n",
            "\n",
            "**Data Set Characteristics:**\n",
            "\n",
            "  :Number of Instances: 442\n",
            "\n",
            "  :Number of Attributes: First 10 columns are numeric predictive values\n",
            "\n",
            "  :Target: Column 11 is a quantitative measure of disease progression one year after baseline\n",
            "\n",
            "  :Attribute Information:\n",
            "      - age     age in years\n",
            "      - sex\n",
            "      - bmi     body mass index\n",
            "      - bp      average blood pressure\n",
            "      - s1      tc, total serum cholesterol\n",
            "      - s2      ldl, low-density lipoproteins\n",
            "      - s3      hdl, high-density lipoproteins\n",
            "      - s4      tch, total cholesterol / HDL\n",
            "      - s5      ltg, possibly log of serum triglycerides level\n",
            "      - s6      glu, blood sugar level\n",
            "\n",
            "Note: Each of these 10 feature variables have been mean centered and scaled by the standard deviation times the square root of `n_samples` (i.e. the sum of squares of each column totals 1).\n",
            "\n",
            "Source URL:\n",
            "https://www4.stat.ncsu.edu/~boos/var.select/diabetes.html\n",
            "\n",
            "For more information see:\n",
            "Bradley Efron, Trevor Hastie, Iain Johnstone and Robert Tibshirani (2004) \"Least Angle Regression,\" Annals of Statistics (with discussion), 407-499.\n",
            "(https://web.stanford.edu/~hastie/Papers/LARS/LeastAngle_2002.pdf)\n",
            "\n"
          ]
        }
      ],
      "source": [
        "print(dataset.DESCR)"
      ]
    },
    {
      "cell_type": "markdown",
      "metadata": {
        "id": "bNcfJC9lOc7A"
      },
      "source": [
        "## load_iris"
      ]
    },
    {
      "cell_type": "markdown",
      "metadata": {
        "id": "X_HpPr2BOiH5"
      },
      "source": [
        "https://scikit-learn.org/stable/modules/generated/sklearn.datasets.load_iris.html#sklearn.datasets.load_iris"
      ]
    },
    {
      "cell_type": "code",
      "execution_count": 6,
      "metadata": {
        "id": "5ttwJX63M4iW"
      },
      "outputs": [],
      "source": [
        "from sklearn.datasets import load_iris"
      ]
    },
    {
      "cell_type": "code",
      "execution_count": 7,
      "metadata": {
        "colab": {
          "base_uri": "https://localhost:8080/"
        },
        "id": "Mf8S_E8tO8pa",
        "outputId": "a6de1acb-c79b-4476-87d5-6613c8c44ac7"
      },
      "outputs": [
        {
          "data": {
            "text/plain": [
              "(numpy.ndarray, numpy.ndarray)"
            ]
          },
          "execution_count": 7,
          "metadata": {},
          "output_type": "execute_result"
        }
      ],
      "source": [
        "dataset = load_iris()\n",
        "type(dataset.data), type(dataset.target)"
      ]
    },
    {
      "cell_type": "code",
      "execution_count": 8,
      "metadata": {
        "colab": {
          "base_uri": "https://localhost:8080/"
        },
        "id": "8xWI_x37N8Tp",
        "outputId": "05d82cee-ee35-473f-bd8a-f9e3526ee82d"
      },
      "outputs": [
        {
          "data": {
            "text/plain": [
              "((150, 4), (150,))"
            ]
          },
          "execution_count": 8,
          "metadata": {},
          "output_type": "execute_result"
        }
      ],
      "source": [
        "dataset.data.shape, dataset.target.shape"
      ]
    },
    {
      "cell_type": "code",
      "execution_count": 9,
      "metadata": {
        "colab": {
          "base_uri": "https://localhost:8080/"
        },
        "id": "3o2okyIt_zme",
        "outputId": "99041ae8-dd3a-4512-d67e-1cab0c22fe12"
      },
      "outputs": [
        {
          "name": "stdout",
          "output_type": "stream",
          "text": [
            ".. _iris_dataset:\n",
            "\n",
            "Iris plants dataset\n",
            "--------------------\n",
            "\n",
            "**Data Set Characteristics:**\n",
            "\n",
            "    :Number of Instances: 150 (50 in each of three classes)\n",
            "    :Number of Attributes: 4 numeric, predictive attributes and the class\n",
            "    :Attribute Information:\n",
            "        - sepal length in cm\n",
            "        - sepal width in cm\n",
            "        - petal length in cm\n",
            "        - petal width in cm\n",
            "        - class:\n",
            "                - Iris-Setosa\n",
            "                - Iris-Versicolour\n",
            "                - Iris-Virginica\n",
            "                \n",
            "    :Summary Statistics:\n",
            "\n",
            "    ============== ==== ==== ======= ===== ====================\n",
            "                    Min  Max   Mean    SD   Class Correlation\n",
            "    ============== ==== ==== ======= ===== ====================\n",
            "    sepal length:   4.3  7.9   5.84   0.83    0.7826\n",
            "    sepal width:    2.0  4.4   3.05   0.43   -0.4194\n",
            "    petal length:   1.0  6.9   3.76   1.76    0.9490  (high!)\n",
            "    petal width:    0.1  2.5   1.20   0.76    0.9565  (high!)\n",
            "    ============== ==== ==== ======= ===== ====================\n",
            "\n",
            "    :Missing Attribute Values: None\n",
            "    :Class Distribution: 33.3% for each of 3 classes.\n",
            "    :Creator: R.A. Fisher\n",
            "    :Donor: Michael Marshall (MARSHALL%PLU@io.arc.nasa.gov)\n",
            "    :Date: July, 1988\n",
            "\n",
            "The famous Iris database, first used by Sir R.A. Fisher. The dataset is taken\n",
            "from Fisher's paper. Note that it's the same as in R, but not as in the UCI\n",
            "Machine Learning Repository, which has two wrong data points.\n",
            "\n",
            "This is perhaps the best known database to be found in the\n",
            "pattern recognition literature.  Fisher's paper is a classic in the field and\n",
            "is referenced frequently to this day.  (See Duda & Hart, for example.)  The\n",
            "data set contains 3 classes of 50 instances each, where each class refers to a\n",
            "type of iris plant.  One class is linearly separable from the other 2; the\n",
            "latter are NOT linearly separable from each other.\n",
            "\n",
            "|details-start|\n",
            "**References**\n",
            "|details-split|\n",
            "\n",
            "- Fisher, R.A. \"The use of multiple measurements in taxonomic problems\"\n",
            "  Annual Eugenics, 7, Part II, 179-188 (1936); also in \"Contributions to\n",
            "  Mathematical Statistics\" (John Wiley, NY, 1950).\n",
            "- Duda, R.O., & Hart, P.E. (1973) Pattern Classification and Scene Analysis.\n",
            "  (Q327.D83) John Wiley & Sons.  ISBN 0-471-22361-1.  See page 218.\n",
            "- Dasarathy, B.V. (1980) \"Nosing Around the Neighborhood: A New System\n",
            "  Structure and Classification Rule for Recognition in Partially Exposed\n",
            "  Environments\".  IEEE Transactions on Pattern Analysis and Machine\n",
            "  Intelligence, Vol. PAMI-2, No. 1, 67-71.\n",
            "- Gates, G.W. (1972) \"The Reduced Nearest Neighbor Rule\".  IEEE Transactions\n",
            "  on Information Theory, May 1972, 431-433.\n",
            "- See also: 1988 MLC Proceedings, 54-64.  Cheeseman et al\"s AUTOCLASS II\n",
            "  conceptual clustering system finds 3 classes in the data.\n",
            "- Many, many more ...\n",
            "\n",
            "|details-end|\n"
          ]
        }
      ],
      "source": [
        "print(dataset.DESCR)"
      ]
    },
    {
      "cell_type": "markdown",
      "metadata": {
        "id": "_v2INw7uT_V7"
      },
      "source": [
        "#  k-Nearest Neighbors (k-NN) Regression\n",
        "\n",
        "\n"
      ]
    },
    {
      "cell_type": "code",
      "execution_count": 14,
      "metadata": {
        "id": "Rk8bJ2-fO6zU"
      },
      "outputs": [],
      "source": [
        "import numpy as np\n",
        "import math\n",
        "class KNNRegressor:\n",
        "  def __init__(self, k=3):\n",
        "    self.k = k\n",
        "    self.X_train = None\n",
        "    self.y_train = None\n",
        "\n",
        "  def fit(self, X, y):\n",
        "    self.X_train = X\n",
        "    # print(type(self.X_train), self.X_train.shape)\n",
        "    # print(self.X_train)\n",
        "    self.y_train = y\n",
        "    # print(type(self.y_train), self.y_train.shape)\n",
        "    pass\n",
        "\n",
        "  def predict(self, X):\n",
        "    predictions = []\n",
        "    # print(X.shape)\n",
        "    # print(self.X_train.shape)\n",
        "    # distance = np.sqrt(np.sum((self.X_train - X) ** 2, axis=1))\n",
        "    for x in X:\n",
        "      distances = [np.sqrt(np.sum((x_train - x) ** 2)) for x_train in self.X_train]\n",
        "      sorted_distances = np.array(np.argsort(distances))\n",
        "      # print(np.argsort(distances))\n",
        "      # print(type(sorted_distances), sorted_distances.shape)\n",
        "      # print(sorted_distances)\n",
        "      top_k = sorted_distances[:self.k]\n",
        "      avg = top_k.mean()\n",
        "      # print(avg)\n",
        "    # print(type(distance), distance.shape)\n",
        "      predictions.append(avg)\n",
        "    return np.array(predictions)"
      ]
    },
    {
      "cell_type": "code",
      "execution_count": 15,
      "metadata": {
        "colab": {
          "base_uri": "https://localhost:8080/"
        },
        "id": "9HTsUkMTR_eO",
        "outputId": "6c0b22fc-99d5-4666-ae53-68b329bbdf98"
      },
      "outputs": [
        {
          "name": "stdout",
          "output_type": "stream",
          "text": [
            "Mean squared error: 6763.44\n"
          ]
        }
      ],
      "source": [
        "from sklearn import datasets\n",
        "from sklearn.model_selection import train_test_split\n",
        "from sklearn.metrics import mean_squared_error\n",
        "\n",
        "diabetes = datasets.load_diabetes()\n",
        "X_train, X_test, y_train, y_test = train_test_split(diabetes.data, diabetes.target)\n",
        "\n",
        "knn_regressor = KNNRegressor(k=5)\n",
        "knn_regressor.fit(X_train, y_train)\n",
        "y_pred = knn_regressor.predict(X_test)\n",
        "\n",
        "print(\"Mean squared error: %.2f\" % mean_squared_error(y_test, y_pred))"
      ]
    },
    {
      "cell_type": "code",
      "execution_count": null,
      "metadata": {
        "colab": {
          "base_uri": "https://localhost:8080/",
          "height": 489
        },
        "id": "OvxsncZhjXHn",
        "outputId": "faa78777-bb9e-41b9-eb3b-958e56110ab2"
      },
      "outputs": [
        {
          "name": "stdout",
          "output_type": "stream",
          "text": [
            "Mean squared error: 4636.67\n"
          ]
        },
        {
          "data": {
            "image/png": "[encoded data removed]",
            "text/plain": [
              "<Figure size 640x480 with 1 Axes>"
            ]
          },
          "metadata": {},
          "output_type": "display_data"
        }
      ],
      "source": []
    },
    {
      "cell_type": "markdown",
      "metadata": {
        "id": "eK2A7aVAMYwE"
      },
      "source": [
        "# k-Nearest Neighbors (k-NN) classifier"
      ]
    },
    {
      "cell_type": "code",
      "execution_count": null,
      "metadata": {
        "id": "WPMkCj3aSKyp"
      },
      "outputs": [],
      "source": [
        "import numpy as np\n",
        "\n",
        "class KNNClassifier:\n",
        "  def __init__(self, k=3):\n",
        "    self.k = k\n",
        "    self.X_train = None\n",
        "    self.y_train = None\n",
        "\n",
        "  def fit(self, X, y):\n",
        "    self.X_train = X\n",
        "    self.y_train = y\n",
        "    pass\n",
        "\n",
        "  def predict(self, X):\n",
        "    predictions = []\n",
        "    return np.array(predictions)"
      ]
    },
    {
      "cell_type": "code",
      "execution_count": 49,
      "metadata": {
        "colab": {
          "base_uri": "https://localhost:8080/"
        },
        "id": "mdB6noQr2Aq8",
        "outputId": "22216043-4944-45d8-9ed5-d5fa4debb7b9"
      },
      "outputs": [
        {
          "name": "stdout",
          "output_type": "stream",
          "text": [
            "(112, 4) (112,)\n"
          ]
        },
        {
          "ename": "NameError",
          "evalue": "name 'KNNClassifier' is not defined",
          "output_type": "error",
          "traceback": [
            "\u001b[1;31m---------------------------------------------------------------------------\u001b[0m",
            "\u001b[1;31mNameError\u001b[0m                                 Traceback (most recent call last)",
            "\u001b[1;32mc:\\Users\\bhkim\\Workspace\\AIProgramming\\lab\\week_14\\week14_1_aip_lab.ipynb Cell 20\u001b[0m line \u001b[0;36m9\n\u001b[0;32m      <a href='vscode-notebook-cell:/c%3A/Users/bhkim/Workspace/AIProgramming/lab/week_14/week14_1_aip_lab.ipynb#X25sZmlsZQ%3D%3D?line=5'>6</a>\u001b[0m X_train, X_test, y_train, y_test \u001b[39m=\u001b[39m train_test_split(iris\u001b[39m.\u001b[39mdata, iris\u001b[39m.\u001b[39mtarget)\n\u001b[0;32m      <a href='vscode-notebook-cell:/c%3A/Users/bhkim/Workspace/AIProgramming/lab/week_14/week14_1_aip_lab.ipynb#X25sZmlsZQ%3D%3D?line=6'>7</a>\u001b[0m \u001b[39mprint\u001b[39m(X_train\u001b[39m.\u001b[39mshape, y_train\u001b[39m.\u001b[39mshape)\n\u001b[1;32m----> <a href='vscode-notebook-cell:/c%3A/Users/bhkim/Workspace/AIProgramming/lab/week_14/week14_1_aip_lab.ipynb#X25sZmlsZQ%3D%3D?line=8'>9</a>\u001b[0m knn_classifier \u001b[39m=\u001b[39m KNNClassifier(k\u001b[39m=\u001b[39m\u001b[39m5\u001b[39m)\n\u001b[0;32m     <a href='vscode-notebook-cell:/c%3A/Users/bhkim/Workspace/AIProgramming/lab/week_14/week14_1_aip_lab.ipynb#X25sZmlsZQ%3D%3D?line=9'>10</a>\u001b[0m knn_classifier\u001b[39m.\u001b[39mfit(X_train, y_train)\n\u001b[0;32m     <a href='vscode-notebook-cell:/c%3A/Users/bhkim/Workspace/AIProgramming/lab/week_14/week14_1_aip_lab.ipynb#X25sZmlsZQ%3D%3D?line=10'>11</a>\u001b[0m y_pred \u001b[39m=\u001b[39m knn_classifier\u001b[39m.\u001b[39mpredict(X_test)\n",
            "\u001b[1;31mNameError\u001b[0m: name 'KNNClassifier' is not defined"
          ]
        }
      ],
      "source": [
        "from sklearn import datasets\n",
        "from sklearn.model_selection import train_test_split\n",
        "from sklearn.metrics import accuracy_score\n",
        "\n",
        "iris = datasets.load_iris()\n",
        "X_train, X_test, y_train, y_test = train_test_split(iris.data, iris.target)\n",
        "print(X_train.shape, y_train.shape)\n",
        "\n",
        "knn_classifier = KNNClassifier(k=5)\n",
        "knn_classifier.fit(X_train, y_train)\n",
        "y_pred = knn_classifier.predict(X_test)\n",
        "\n",
        "print(\"Accuracy: %.2f\" % accuracy_score(y_test, y_pred))\n"
      ]
    },
    {
      "cell_type": "code",
      "execution_count": null,
      "metadata": {
        "colab": {
          "base_uri": "https://localhost:8080/",
          "height": 489
        },
        "id": "3ia2GZqs2Ihi",
        "outputId": "c075440a-6429-4739-88e0-affc47622539"
      },
      "outputs": [
        {
          "name": "stdout",
          "output_type": "stream",
          "text": [
            "Accuracy: 0.97\n"
          ]
        },
        {
          "data": {
            "image/png": "[encoded data removed]",
            "text/plain": [
              "<Figure size 640x480 with 1 Axes>"
            ]
          },
          "metadata": {},
          "output_type": "display_data"
        }
      ],
      "source": [
        "import matplotlib.pyplot as plt\n",
        "from sklearn import datasets\n",
        "from sklearn.model_selection import train_test_split\n",
        "\n",
        "x_min, x_max = X_test[:, 0].min() - 1, X_test[:, 0].max() + 1\n",
        "y_min, y_max = X_test[:, 2].min() - 1, X_test[:, 2].max() + 1\n",
        "x1, x2 = np.meshgrid(np.arange(x_min, x_max, 0.1), np.arange(y_min, y_max, 0.1))\n",
        "\n",
        "knn_classifier = KNNClassifier(k=5)\n",
        "knn_classifier.fit(X_train[:, [0,2]], y_train)\n",
        "y_pred = knn_classifier.predict(X_test[:, [0,2]])\n",
        "print(\"Accuracy: %.2f\" % accuracy_score(y_test, y_pred))\n",
        "\n",
        "Z = knn_classifier.predict(np.c_[x1.ravel(), x2.ravel()])\n",
        "Z = Z.reshape(x1.shape)\n",
        "plt.contourf(x1, x2, Z, alpha=0.4)\n",
        "plt.scatter(X_test[:, 0], X_test[:, 2], c=y_test)\n",
        "plt.title('KNN Decision Boundaries with k=5')\n",
        "plt.xlabel('Age')\n",
        "plt.ylabel('BMI')\n",
        "plt.show()"
      ]
    }
  ],
  "metadata": {
    "colab": {
      "provenance": []
    },
    "kernelspec": {
      "display_name": "Python 3",
      "name": "python3"
    },
    "language_info": {
      "codemirror_mode": {
        "name": "ipython",
        "version": 3
      },
      "file_extension": ".py",
      "mimetype": "text/x-python",
      "name": "python",
      "nbconvert_exporter": "python",
      "pygments_lexer": "ipython3",
      "version": "3.9.6"
    }
  },
  "nbformat": 4,
  "nbformat_minor": 0
}
