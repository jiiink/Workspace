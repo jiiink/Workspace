{
 "cells": [
  {
   "cell_type": "markdown",
   "metadata": {
    "id": "WSGyXe1gWE0y"
   },
   "source": [
    "# Opearators\n",
    "\n",
    "https://docs.python.org/3/library/stdtypes.html"
   ]
  },
  {
   "cell_type": "markdown",
   "metadata": {
    "id": "QBUY-4C-Y57l"
   },
   "source": [
    "## Arithmetic Operators"
   ]
  },
  {
   "cell_type": "code",
   "execution_count": 1,
   "metadata": {
    "colab": {
     "base_uri": "https://localhost:8080/"
    },
    "id": "h5bQB3HGWFK3",
    "outputId": "d5b1b883-bf31-4f7e-8827-89f58ed4fb42",
    "ExecuteTime": {
     "end_time": "2023-10-21T00:05:43.085598Z",
     "start_time": "2023-10-21T00:05:43.075495Z"
    }
   },
   "outputs": [
    {
     "name": "stdout",
     "output_type": "stream",
     "text": [
      "8\n",
      "8.0\n",
      "26\n",
      "-5.2\n",
      "6\n",
      "6.0\n",
      "81\n",
      "5.0\n",
      "5\n",
      "1.0\n",
      "1\n",
      "1.5\n"
     ]
    }
   ],
   "source": [
    "print(3 + 5)    # Plus\n",
    "print(3 + 5.0)\n",
    "print(50 - 24)  # Minus\n",
    "print(-5.2)\n",
    "print(2 * 3)    # Multiply\n",
    "print(2.0 * 3)\n",
    "print(3 ** 4)   # Power\n",
    "print(15 / 3)   # Float division\n",
    "print(15 // 3)  # Integer division -> int\n",
    "print(3.5 // 2) # Integer division -> float\n",
    "print(13 % 3)   # Modulo\n",
    "print(-25.5 % 2.25)"
   ]
  },
  {
   "cell_type": "markdown",
   "metadata": {
    "id": "xbckNc7TbXJA"
   },
   "source": [
    "## Bitwise operators\n"
   ]
  },
  {
   "cell_type": "code",
   "execution_count": 7,
   "metadata": {
    "colab": {
     "base_uri": "https://localhost:8080/"
    },
    "id": "c4ov2dpKZyXM",
    "outputId": "97647e94-fcb7-46f5-e1d9-d5d673317b94"
   },
   "outputs": [
    {
     "name": "stdout",
     "output_type": "stream",
     "text": [
      "8\n",
      "5\n",
      "1\n",
      "7\n",
      "6\n",
      "-6\n"
     ]
    }
   ],
   "source": [
    "print(2 << 2)   # Left Shift\n",
    "print(11 >> 1)  # Right Shift\n",
    "print(5 & 3)    # Bitwise AND\n",
    "print(5 | 3)    # Bitwise OR\n",
    "print(5 ^ 3)    # Bitwise XOR\n",
    "print(~ 5)      # Bitwise Invert  --> -(x+1) but, unlimited length integers"
   ]
  },
  {
   "cell_type": "markdown",
   "metadata": {
    "id": "-drHSAsubaEP"
   },
   "source": [
    "## Comparison Operators"
   ]
  },
  {
   "cell_type": "code",
   "execution_count": null,
   "metadata": {
    "colab": {
     "base_uri": "https://localhost:8080/"
    },
    "id": "h_spLVi2ZMuy",
    "outputId": "a16eec60-9f9e-4a97-ca3b-196eac9e9b0c"
   },
   "outputs": [
    {
     "name": "stdout",
     "output_type": "stream",
     "text": [
      "False\n",
      "True\n",
      "True\n",
      "True\n"
     ]
    }
   ],
   "source": [
    "print(5 < 3)      # Less Than\n",
    "print(3 < 5)      # Greater Than\n",
    "print(3 < 5 < 7)  # Chaining comparison operators\n",
    "print(5 > 3)      # Greater Than\n"
   ]
  },
  {
   "cell_type": "code",
   "execution_count": null,
   "metadata": {
    "colab": {
     "base_uri": "https://localhost:8080/"
    },
    "id": "yTkWtVxBc3Qr",
    "outputId": "38cf63cf-b565-4e6a-b90e-7ffa7456cef0"
   },
   "outputs": [
    {
     "data": {
      "text/plain": [
       "True"
      ]
     },
     "execution_count": 14,
     "metadata": {},
     "output_type": "execute_result"
    }
   ],
   "source": [
    "x = 3\n",
    "y = 6\n",
    "x <= y    # Less Than or Equal To"
   ]
  },
  {
   "cell_type": "code",
   "execution_count": null,
   "metadata": {
    "colab": {
     "base_uri": "https://localhost:8080/"
    },
    "id": "cXjB6QuEc9mB",
    "outputId": "386f509b-acee-4393-d2e1-c491e99a59e8"
   },
   "outputs": [
    {
     "data": {
      "text/plain": [
       "True"
      ]
     },
     "execution_count": 15,
     "metadata": {},
     "output_type": "execute_result"
    }
   ],
   "source": [
    "x = 4\n",
    "y = 3\n",
    "x >= y    # Greater Than or Equal To\n"
   ]
  },
  {
   "cell_type": "code",
   "execution_count": null,
   "metadata": {
    "colab": {
     "base_uri": "https://localhost:8080/"
    },
    "id": "QhYuceMVdC5M",
    "outputId": "18ee6faf-2d13-4c17-80ca-c56656fc76ce"
   },
   "outputs": [
    {
     "name": "stdout",
     "output_type": "stream",
     "text": [
      "True\n",
      "False\n",
      "True\n"
     ]
    }
   ],
   "source": [
    "print(2 == 2)    # Equal To\n",
    "print('str' == 'stR')\n",
    "print('str' == 'str')"
   ]
  },
  {
   "cell_type": "code",
   "execution_count": null,
   "metadata": {
    "colab": {
     "base_uri": "https://localhost:8080/"
    },
    "id": "yuaAEJAMdOSO",
    "outputId": "dd77eb02-0532-4829-d1e4-3389e472adf1"
   },
   "outputs": [
    {
     "data": {
      "text/plain": [
       "True"
      ]
     },
     "execution_count": 18,
     "metadata": {},
     "output_type": "execute_result"
    }
   ],
   "source": [
    "2 != 3     # Not Equal To"
   ]
  },
  {
   "cell_type": "markdown",
   "metadata": {
    "id": "UQfKSWgOdadR"
   },
   "source": [
    "## Logical Operators"
   ]
  },
  {
   "cell_type": "code",
   "execution_count": null,
   "metadata": {
    "colab": {
     "base_uri": "https://localhost:8080/"
    },
    "id": "Sh3U8_uXdawi",
    "outputId": "3a4b1cb0-00ed-4d9f-808c-60b689b9f878"
   },
   "outputs": [
    {
     "data": {
      "text/plain": [
       "False"
      ]
     },
     "execution_count": 19,
     "metadata": {},
     "output_type": "execute_result"
    }
   ],
   "source": [
    "x = True\n",
    "not x      # Boolean Not"
   ]
  },
  {
   "cell_type": "code",
   "execution_count": null,
   "metadata": {
    "colab": {
     "base_uri": "https://localhost:8080/"
    },
    "id": "GZXySRHmdh0T",
    "outputId": "be2892a4-75f1-4543-c81a-a12e167519f5"
   },
   "outputs": [
    {
     "data": {
      "text/plain": [
       "False"
      ]
     },
     "execution_count": 23,
     "metadata": {},
     "output_type": "execute_result"
    }
   ],
   "source": [
    "x = False\n",
    "y = True\n",
    "x and y   # Boolean AND"
   ]
  },
  {
   "cell_type": "code",
   "execution_count": null,
   "metadata": {
    "colab": {
     "base_uri": "https://localhost:8080/"
    },
    "id": "3x3iIOt0dxlr",
    "outputId": "6c65506c-cd06-402c-8208-9e1ed3e28d7d"
   },
   "outputs": [
    {
     "data": {
      "text/plain": [
       "True"
      ]
     },
     "execution_count": 24,
     "metadata": {},
     "output_type": "execute_result"
    }
   ],
   "source": [
    "x = False\n",
    "y = True\n",
    "x or y    # Boolean OR"
   ]
  },
  {
   "cell_type": "code",
   "execution_count": null,
   "metadata": {
    "colab": {
     "base_uri": "https://localhost:8080/"
    },
    "id": "bOObe5A_d2gW",
    "outputId": "58041b45-64db-4f1f-fa46-625eff23fae9"
   },
   "outputs": [
    {
     "data": {
      "text/plain": [
       "False"
      ]
     },
     "execution_count": 25,
     "metadata": {},
     "output_type": "execute_result"
    }
   ],
   "source": [
    "l = 10\n",
    "m = 5\n",
    "n = 0\n",
    "(n !=0) and (1 == (m/n))"
   ]
  },
  {
   "cell_type": "markdown",
   "metadata": {
    "id": "NqeG-IUteHoB"
   },
   "source": [
    "## Membership Operators"
   ]
  },
  {
   "cell_type": "code",
   "execution_count": null,
   "metadata": {
    "colab": {
     "base_uri": "https://localhost:8080/"
    },
    "id": "NMshzFFyeMH1",
    "outputId": "66ecadeb-88ea-425e-c26b-cd32041f714b"
   },
   "outputs": [
    {
     "name": "stdout",
     "output_type": "stream",
     "text": [
      "True\n",
      "False\n"
     ]
    }
   ],
   "source": [
    "print(3 in [1, 2, 3])\n",
    "print(2 in [1])"
   ]
  },
  {
   "cell_type": "markdown",
   "metadata": {
    "id": "lPp6WZcmek_K"
   },
   "source": [
    "## String methods"
   ]
  },
  {
   "cell_type": "code",
   "execution_count": null,
   "metadata": {
    "colab": {
     "base_uri": "https://localhost:8080/"
    },
    "id": "CsbtdxJRemoN",
    "outputId": "bee0b313-1bca-4e29-e157-81298e629f2e"
   },
   "outputs": [
    {
     "name": "stdout",
     "output_type": "stream",
     "text": [
      "False\n",
      "True\n",
      "True\n",
      "True\n",
      "False\n",
      "False\n"
     ]
    }
   ],
   "source": [
    "str1 = 'hello'\n",
    "print(str1.isdigit())\n",
    "print(str1.isalpha())\n",
    "print(str1.isalnum())\n",
    "print(str1.islower())\n",
    "print(str1.isupper())\n",
    "print(str1.isspace())"
   ]
  },
  {
   "cell_type": "markdown",
   "metadata": {
    "id": "OenvG-9vfQLK"
   },
   "source": [
    "## Assignment Operators"
   ]
  },
  {
   "cell_type": "code",
   "execution_count": null,
   "metadata": {
    "colab": {
     "base_uri": "https://localhost:8080/"
    },
    "id": "aYhYPPLrfP4l",
    "outputId": "da51685a-1947-4d4b-e9ab-8318c740a283"
   },
   "outputs": [
    {
     "data": {
      "text/plain": [
       "5"
      ]
     },
     "execution_count": 31,
     "metadata": {},
     "output_type": "execute_result"
    }
   ],
   "source": [
    "a = 2\n",
    "a = a + 3\n",
    "a"
   ]
  },
  {
   "cell_type": "code",
   "execution_count": null,
   "metadata": {
    "colab": {
     "base_uri": "https://localhost:8080/"
    },
    "id": "XTBWPM5tfj3s",
    "outputId": "d661925e-02fc-4a84-cfaa-ea9eb987f429"
   },
   "outputs": [
    {
     "data": {
      "text/plain": [
       "5"
      ]
     },
     "execution_count": 32,
     "metadata": {},
     "output_type": "execute_result"
    }
   ],
   "source": [
    "a = 2\n",
    "a += 3\n",
    "a"
   ]
  },
  {
   "cell_type": "markdown",
   "metadata": {
    "id": "yhyR7W2sfmbP"
   },
   "source": [
    "## Precedence and Order of Evaluation\n",
    "\n",
    "https://docs.python.org/3/reference/expressions.html#operator-precedence\n",
    "\n",
    "* It is better to use parentheses to group operators and operands\n",
    "appropriately in order to explicitly specify the precedence\n",
    "\n",
    "* Operators are usually associated from left to right\n",
    "\n",
    "* Some operators like assignment operators have right to left associativity"
   ]
  },
  {
   "cell_type": "markdown",
   "metadata": {
    "id": "hnIdE5cSgEPO"
   },
   "source": [
    "## Expressions\n",
    "\n",
    "* An expression is a combination of values, variables, and operators"
   ]
  },
  {
   "cell_type": "code",
   "execution_count": null,
   "metadata": {
    "colab": {
     "base_uri": "https://localhost:8080/"
    },
    "id": "xGkfgBiAgGkL",
    "outputId": "915aeaba-4480-4f7a-ed46-b5cc3d1a8c92"
   },
   "outputs": [
    {
     "name": "stdout",
     "output_type": "stream",
     "text": [
      "17\n",
      "7\n",
      "24\n"
     ]
    }
   ],
   "source": [
    "print(17)        # values\n",
    "x = 7\n",
    "print(x)        # variables\n",
    "print(x + 17)   # operators"
   ]
  },
  {
   "cell_type": "markdown",
   "metadata": {
    "id": "v1Jz0OORgpH_"
   },
   "source": [
    "## Statements\n",
    "\n",
    "https://docs.python.org/3/reference/simple_stmts.html#simple-statements\n",
    "\n",
    "https://docs.python.org/3/reference/compound_stmts.html\n"
   ]
  },
  {
   "cell_type": "markdown",
   "metadata": {
    "id": "ltw6yJ0NgjCm"
   },
   "source": [
    "* A statement is a unit of code that the Python interpreter can execute\n",
    "\n",
    "* We have seen two kinds of statement: print and assignment\n",
    "\n",
    "* Technically an expression is also a statement\n",
    "\n",
    "* The important difference is that an expression has a value;\n",
    "a statement does not"
   ]
  },
  {
   "cell_type": "code",
   "execution_count": null,
   "metadata": {
    "colab": {
     "base_uri": "https://localhost:8080/"
    },
    "id": "hvXnBrjhgkGD",
    "outputId": "4f72615e-baae-4dbf-e00a-214dbb86c785"
   },
   "outputs": [
    {
     "name": "stdout",
     "output_type": "stream",
     "text": [
      "Area is 10\n",
      "Perimeter is 14\n"
     ]
    }
   ],
   "source": [
    "length = 5\n",
    "breadth = 2\n",
    "\n",
    "area = length * breadth\n",
    "\n",
    "print('Area is', area)\n",
    "print('Perimeter is', 2 * (length + breadth))"
   ]
  },
  {
   "cell_type": "markdown",
   "metadata": {
    "id": "ZYJeA4fpcGNk"
   },
   "source": [
    "# Lab"
   ]
  },
  {
   "cell_type": "markdown",
   "metadata": {
    "id": "0AZqhmeccW7p"
   },
   "source": [
    "1. Write a program that takes a number from the user and determines whether it's even or odd.\n",
    "\n",
    "\toutput: odd or even\n",
    "\n",
    "\n"
   ]
  },
  {
   "cell_type": "code",
   "execution_count": null,
   "metadata": {
    "id": "SBUQ1WRTc1Nz"
   },
   "outputs": [],
   "source": []
  },
  {
   "cell_type": "markdown",
   "metadata": {
    "id": "mGbPfQJEc5pl"
   },
   "source": [
    "2. Write a program that takes three numbers from the user and determines the largest of the three.\n",
    "\n",
    "\n"
   ]
  },
  {
   "cell_type": "code",
   "execution_count": null,
   "metadata": {
    "id": "mGAC-9rSc7Qd"
   },
   "outputs": [],
   "source": []
  },
  {
   "cell_type": "markdown",
   "metadata": {
    "id": "INqFk2K5c7ks"
   },
   "source": [
    "\n",
    "3. Write a program that reads an integer as input and determines if it is a multiple of both 3 and 5.\n",
    "\n",
    "\toutput: multiple or not multiple\n",
    "\n"
   ]
  },
  {
   "cell_type": "code",
   "execution_count": null,
   "metadata": {
    "id": "B2c46qWfc8z0"
   },
   "outputs": [],
   "source": []
  },
  {
   "cell_type": "markdown",
   "metadata": {
    "id": "jAEoPcBXc9kM"
   },
   "source": [
    "\n",
    "4. Write a Python program that takes three numbers as input and determines whether they form a Pythagorean triple.\n",
    "\n",
    "\toutput: pythagorean or not pythagorean"
   ]
  },
  {
   "cell_type": "code",
   "execution_count": null,
   "metadata": {
    "id": "nJN7nZ1Nc-ad"
   },
   "outputs": [],
   "source": []
  },
  {
   "cell_type": "markdown",
   "metadata": {
    "id": "EkRNBCyLctUY"
   },
   "source": [
    "5. Write a Python program that takes a user's weight and height as input and calculates their body mass index (BMI).\n",
    "\n",
    "\toutput: BMI < 18.5 : underweight, 18.5 <= BMI < 24.9 normal weight, 25.0 <= BMI overweight\n",
    "\n",
    "\n",
    "\n",
    "\n"
   ]
  },
  {
   "cell_type": "code",
   "execution_count": null,
   "metadata": {
    "id": "BxdeHEF_cB3C"
   },
   "outputs": [],
   "source": []
  },
  {
   "cell_type": "markdown",
   "metadata": {
    "id": "tdJa-fe6Lu_N"
   },
   "source": [
    "6. Write a Python program that takes two strings as input and determines whether they are anagrams. If the two strings are anagrams (i.e., they have the same letters in a different order)\n",
    "\n",
    "  output: anagrams or not anagrams"
   ]
  },
  {
   "cell_type": "code",
   "execution_count": null,
   "metadata": {
    "id": "4CuQ-rftL-3y"
   },
   "outputs": [],
   "source": [
    "# bored = robed\n"
   ]
  },
  {
   "cell_type": "markdown",
   "metadata": {
    "id": "Q4vE7-p5mbp_"
   },
   "source": [
    "# Control Flow"
   ]
  },
  {
   "cell_type": "markdown",
   "metadata": {
    "id": "Ll3NRukEeTeB"
   },
   "source": [
    "## if-else"
   ]
  },
  {
   "cell_type": "code",
   "execution_count": null,
   "metadata": {
    "id": "Ir8ZXCs0eN5f"
   },
   "outputs": [],
   "source": [
    "number = 23\n",
    "guess = int(input('Enter an integer: '))\n",
    "\n",
    "if guess == number:\n",
    "  print('Congratulations, you guessed it.')\n",
    "  print('(but you do not win any prizes!)')\n",
    "else:\n",
    "  if guess < number:\n",
    "    print('No, it is a little higher than that')\n",
    "  else:\n",
    "    print('No, it is a little lower than that')\n",
    "\n",
    "print('Done')"
   ]
  },
  {
   "cell_type": "markdown",
   "metadata": {
    "id": "uSVjkUtUk0cz"
   },
   "source": [
    "## equivalent to that of the previous example"
   ]
  },
  {
   "cell_type": "code",
   "execution_count": null,
   "metadata": {
    "id": "1iGE3bR1e1io"
   },
   "outputs": [],
   "source": [
    "number = 23\n",
    "guess = int(input('Enter an integer: '))\n",
    "\n",
    "if guess == number:\n",
    "  print('Congratulations, you guessed it.')\n",
    "  print('(but you do not win any prizes!)')\n",
    "elif guess < number:\n",
    "  print('No, it is a little higher than that')\n",
    "else:\n",
    "  print('No, it is a little lower than that')\n",
    "\n",
    "print('Done')"
   ]
  },
  {
   "cell_type": "markdown",
   "metadata": {
    "id": "RdYopMk_k2dU"
   },
   "source": [
    "## Find the largest of three numbers"
   ]
  },
  {
   "cell_type": "code",
   "execution_count": null,
   "metadata": {
    "id": "XlvbDXkTfCqa"
   },
   "outputs": [],
   "source": [
    "firstNumber = eval(input('Enter the first number: '))\n",
    "secondNumber = eval(input('Enter the second number: '))\n",
    "thirdNumber = eval(input('Enter the third number: '))\n",
    "\n",
    "largest = firstNumber\n",
    "if secondNumber > largest:\n",
    "  largest = secondNumber\n",
    "if thirdNumber > largest:\n",
    "  largest = thirdNumber\n",
    "\n",
    "#print('The largest number is', str(largest) + '.')\n",
    "print('The largest number is', largest, '.')"
   ]
  },
  {
   "cell_type": "markdown",
   "metadata": {
    "id": "trAgorKOfwVl"
   },
   "source": [
    "## while"
   ]
  },
  {
   "cell_type": "code",
   "execution_count": null,
   "metadata": {
    "id": "m4ZjbUfnfzMb"
   },
   "outputs": [],
   "source": [
    "number = 23\n",
    "running = True\n",
    "\n",
    "while running:\n",
    "  guess = int(input('Enter an integer: '))\n",
    "  if guess == number:\n",
    "    print('Congratulations, you guessed it.')\n",
    "    running = False\n",
    "  elif guess < number:\n",
    "    print('No, it is a little higher than that.')\n",
    "  else:\n",
    "    print('No, it is a little lower than that.')\n",
    "else:\n",
    "  print('The while loop is over.')\n",
    "print('Done')"
   ]
  },
  {
   "cell_type": "markdown",
   "metadata": {
    "id": "MNYDNZhpkmN4"
   },
   "source": [
    "## Find the minimum, maximum, and average"
   ]
  },
  {
   "cell_type": "code",
   "execution_count": null,
   "metadata": {
    "id": "50W8M_4agXAW"
   },
   "outputs": [],
   "source": [
    "count = 0\n",
    "total = 0\n",
    "\n",
    "print('(Enter -1 to terminate entering numbers.)')\n",
    "num = int(input('Enter a nonnegative integer: '))\n",
    "min_val = num\n",
    "max_val = num\n",
    "\n",
    "while num != -1:\n",
    "  count += 1\n",
    "  total += num\n",
    "  if num < min_val:\n",
    "    min_val = num\n",
    "  if num > max_val:\n",
    "    max_val = num\n",
    "  num = int(input('Enter a nonnegative integer: '))\n",
    "\n",
    "if count > 0:\n",
    "  print('Minimum:', min_val)\n",
    "  print('Maximum:', max_val)\n",
    "  print('Average:', total / count)\n",
    "else:\n",
    "  print('No nonnegative integers were entered.')"
   ]
  },
  {
   "cell_type": "markdown",
   "metadata": {
    "id": "b00BsI0LhJ5U"
   },
   "source": [
    "## for"
   ]
  },
  {
   "cell_type": "code",
   "execution_count": null,
   "metadata": {
    "id": "hSljRhY0hM-e"
   },
   "outputs": [],
   "source": [
    "for i in range(1, 5):\n",
    "  print(i)\n",
    "else:\n",
    "  print('The for loop is over')"
   ]
  },
  {
   "cell_type": "markdown",
   "metadata": {
    "id": "WXiWptvWkSHC"
   },
   "source": [
    "## Nested for loops"
   ]
  },
  {
   "cell_type": "code",
   "execution_count": null,
   "metadata": {
    "id": "O09LQ8VUhTq6"
   },
   "outputs": [],
   "source": [
    "numberOfRows = int(input('Enter a number from 1 to 20: '))\n",
    "\n",
    "for i in range(numberOfRows):\n",
    "  for j in range(i + 1):\n",
    "    print('*', end='')\n",
    "  print()\n",
    "\n"
   ]
  },
  {
   "cell_type": "markdown",
   "metadata": {
    "id": "G6d85K-JkPwM"
   },
   "source": [
    "## Looping through the characters of a string"
   ]
  },
  {
   "cell_type": "code",
   "execution_count": null,
   "metadata": {
    "id": "xMJgWvM-hk1C"
   },
   "outputs": [],
   "source": [
    "word = input('Enter a word: ')\n",
    "reversedWord = ''\n",
    "\n",
    "for ch in word:\n",
    "  reversedWord = ch + reversedWord\n",
    "\n",
    "#print('The reversed word is ' + reversedWord + '.')\n",
    "print(f'The reversed word is {reversedWord}.')"
   ]
  },
  {
   "cell_type": "markdown",
   "metadata": {
    "id": "xnYn3GVSkIND"
   },
   "source": [
    "## Looping through the lines of a text file"
   ]
  },
  {
   "cell_type": "markdown",
   "metadata": {
    "id": "ezudbQNYjBtv"
   },
   "source": [
    "### Prerequisite"
   ]
  },
  {
   "cell_type": "code",
   "execution_count": null,
   "metadata": {
    "id": "SCNS-RH6i_N6"
   },
   "outputs": [],
   "source": [
    "from google.colab import drive\n",
    "\n",
    "drive.mount('/content/gdrive/', force_remount=True)\n",
    "!cat /content/gdrive/MyDrive/USPresidents.txt"
   ]
  },
  {
   "cell_type": "code",
   "execution_count": null,
   "metadata": {
    "id": "wfTsqy5CiEcd"
   },
   "outputs": [],
   "source": [
    "filename = '/content/gdrive/MyDrive/USPresidents.txt'\n",
    "\n",
    "firstName = input('Enter a first name: ')\n",
    "foundFlag = False\n",
    "infile = open(filename, 'r')\n",
    "for line in infile:\n",
    "  if line.startswith(firstName + ' '):\n",
    "    print(line.rstrip())\n",
    "    foundFlag = True\n",
    "infile.close()\n",
    "if not foundFlag:\n",
    "  print(f'No president had the first name {firstName}.')"
   ]
  },
  {
   "cell_type": "markdown",
   "metadata": {
    "id": "E98SHJ6Lj-NI"
   },
   "source": [
    "## pass"
   ]
  },
  {
   "cell_type": "code",
   "execution_count": null,
   "metadata": {
    "id": "y36kmhvtjayQ"
   },
   "outputs": [],
   "source": [
    "filename = '/content/gdrive/MyDrive/USPresidents.txt'\n",
    "\n",
    "infile = open(filename, 'r')\n",
    "for line in infile:\n",
    "  pass\n",
    "print(line.rstrip())\n",
    "infile.close()"
   ]
  },
  {
   "cell_type": "markdown",
   "metadata": {
    "id": "Upbf-CrekXr9"
   },
   "source": [
    "## break"
   ]
  },
  {
   "cell_type": "code",
   "execution_count": null,
   "metadata": {
    "id": "QUhDuPlRkY7m"
   },
   "outputs": [],
   "source": [
    "print('Enter QUIT to terminate entering something')\n",
    "while True:\n",
    "  s = input('Enter something: ')\n",
    "  if s == 'QUIT':\n",
    "    break\n",
    "  print('Length of the string is', len(s))\n",
    "print('Done')"
   ]
  },
  {
   "cell_type": "markdown",
   "metadata": {
    "id": "1EdKg13ylPqI"
   },
   "source": [
    "## continue"
   ]
  },
  {
   "cell_type": "code",
   "execution_count": null,
   "metadata": {
    "id": "JYNE5b6LlRLA"
   },
   "outputs": [],
   "source": [
    "while True:\n",
    "  s = input('Enter something: ')\n",
    "  if s == 'quit':\n",
    "    break\n",
    "  if len(s) < 3:\n",
    "    print('Too short')\n",
    "    continue\n",
    "  print('Input is of sufficient length')"
   ]
  },
  {
   "cell_type": "markdown",
   "metadata": {
    "id": "mi-2Csvsmltp"
   },
   "source": [
    "# Lab"
   ]
  },
  {
   "cell_type": "markdown",
   "metadata": {
    "id": "dI9p5_rNec8G"
   },
   "source": [
    "1. Write a program to find the sum of all numbers between 1 and 100 that are divisible by 7 using a while loop."
   ]
  },
  {
   "cell_type": "code",
   "execution_count": null,
   "metadata": {
    "id": "aiDLWClum0Da"
   },
   "outputs": [],
   "source": [
    "arr = [i for i in range(1, 101) if not i%7]"
   ]
  },
  {
   "cell_type": "markdown",
   "metadata": {
    "id": "wDOVnwLTee8p"
   },
   "source": [
    "2. Write a program that prints the multiplication table for a given number using a for loop."
   ]
  },
  {
   "cell_type": "code",
   "execution_count": null,
   "metadata": {
    "id": "YeC_cgT3ee8q"
   },
   "outputs": [],
   "source": []
  },
  {
   "cell_type": "markdown",
   "metadata": {
    "id": "J5zjEzX3efP0"
   },
   "source": [
    "3. Write a program that reads a positive integer and checks if it's a prime number using a for loop."
   ]
  },
  {
   "cell_type": "code",
   "execution_count": null,
   "metadata": {
    "id": "Q7DxZNeGefP0"
   },
   "outputs": [],
   "source": []
  },
  {
   "cell_type": "markdown",
   "metadata": {
    "id": "P5k8YQd9dmUT"
   },
   "source": [
    "4. Write a program that reads a string and reverses it using a loop. The program should also count and display the number of vowels in the string.\n"
   ]
  },
  {
   "cell_type": "code",
   "execution_count": null,
   "metadata": {
    "id": "EBIwt03Kdnpp"
   },
   "outputs": [],
   "source": []
  },
  {
   "cell_type": "markdown",
   "metadata": {
    "id": "mPv8F8IDdsNB"
   },
   "source": [
    "5. Write a program that prints the following patterns using loops:\n",
    "\n",
    "```\n",
    "*****\n",
    " ****\n",
    "  ***\n",
    "   **\n",
    "    *\n",
    "```"
   ]
  },
  {
   "cell_type": "code",
   "execution_count": null,
   "metadata": {
    "id": "tXDgAKGadyDx"
   },
   "outputs": [],
   "source": []
  },
  {
   "cell_type": "markdown",
   "metadata": {
    "id": "a3a1yIQKoOVC"
   },
   "source": [
    "6. Write a Python program to find all the duplicate elements in a given list of integers."
   ]
  },
  {
   "cell_type": "code",
   "execution_count": null,
   "metadata": {
    "colab": {
     "base_uri": "https://localhost:8080/"
    },
    "id": "nl2__oQ5oQTn",
    "outputId": "d91fd122-7319-49cc-be86-2c20a69566b1"
   },
   "outputs": [
    {
     "data": {
      "text/plain": [
       "[2, 3, 6]"
      ]
     },
     "execution_count": 25,
     "metadata": {},
     "output_type": "execute_result"
    }
   ],
   "source": [
    "nums = [1, 2, 3, 4, 5, 2, 3, 6, 7, 8, 6]\n"
   ]
  },
  {
   "cell_type": "markdown",
   "metadata": {
    "id": "JNEaQe2Iobtt"
   },
   "source": [
    "7. Write a Python program to print the first n rows of <a href=\"https://en.wikipedia.org/wiki/Pascal%27s_triangle\">Pascal's Triangle</a>.\n",
    "\n",
    "\n",
    "```\n",
    "    1\n",
    "   1 1\n",
    "  1 2 1\n",
    " 1 3 3 1\n",
    "1 4 6 4 1\n",
    "```"
   ]
  },
  {
   "cell_type": "code",
   "execution_count": null,
   "metadata": {
    "id": "75GtnRADoiMp"
   },
   "outputs": [],
   "source": []
  },
  {
   "cell_type": "markdown",
   "metadata": {
    "id": "SfIPxRBAs1A7"
   },
   "source": [
    "8. Given a DNA string comprised of the characters 'A', 'C', 'G', and 'T', find all starting indices of a given substring within the DNA string. Additionally, allow for up to k mismatches in the substring.\n",
    "\n",
    "Input:\n",
    "\n",
    "* dna = \"ACGTACGTGACG\",\n",
    "* sub = \"GTA\",\n",
    "* k = 1\n",
    "\n",
    "Output: [2, 6]"
   ]
  },
  {
   "cell_type": "code",
   "execution_count": null,
   "metadata": {
    "id": "TjNBAcvJt8g3"
   },
   "outputs": [],
   "source": []
  }
 ],
 "metadata": {
  "colab": {
   "provenance": [],
   "toc_visible": true
  },
  "kernelspec": {
   "name": "python3",
   "language": "python",
   "display_name": "Python 3 (ipykernel)"
  },
  "language_info": {
   "codemirror_mode": {
    "name": "ipython",
    "version": 3
   },
   "file_extension": ".py",
   "mimetype": "text/x-python",
   "name": "python",
   "nbconvert_exporter": "python",
   "pygments_lexer": "ipython3",
   "version": "3.9.6"
  }
 },
 "nbformat": 4,
 "nbformat_minor": 0
}
