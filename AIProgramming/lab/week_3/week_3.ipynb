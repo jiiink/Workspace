{
 "nbformat": 4,
 "nbformat_minor": 0,
 "metadata": {
  "colab": {
   "provenance": [],
   "toc_visible": true
  },
  "kernelspec": {
   "name": "python3",
   "language": "python",
   "display_name": "Python 3 (ipykernel)"
  },
  "language_info": {
   "name": "python"
  }
 },
 "cells": [
  {
   "cell_type": "markdown",
   "source": [
    "## List"
   ],
   "metadata": {
    "id": "sAzF9fEb8QwM"
   }
  },
  {
   "cell_type": "markdown",
   "source": [
    "A list is an ordered sequence of Python objects of any type\n",
    "\n",
    "* The objects do not have to all be the same type\n"
   ],
   "metadata": {
    "id": "ED-8FMVO9LMY"
   }
  },
  {
   "cell_type": "code",
   "source": [
    "team = ['Seahawks', 2014, 'CenturyLink Field']\n",
    "nums = [5, 10, 4, 5]\n",
    "words = ['spam', 'ni']"
   ],
   "metadata": {
    "id": "E_Ph7F8p8fu0",
    "ExecuteTime": {
     "end_time": "2023-10-21T00:35:12.613574Z",
     "start_time": "2023-10-21T00:35:12.601816Z"
    }
   },
   "execution_count": 11,
   "outputs": []
  },
  {
   "cell_type": "code",
   "source": [
    "words[1] = 'eggs'\n",
    "words"
   ],
   "metadata": {
    "colab": {
     "base_uri": "https://localhost:8080/"
    },
    "id": "fXMQyKBL9Qza",
    "outputId": "8ebe2717-04f1-4f0f-8006-f5d61864bff8",
    "ExecuteTime": {
     "end_time": "2023-10-21T00:35:17.322822Z",
     "start_time": "2023-10-21T00:35:17.305751Z"
    }
   },
   "execution_count": 12,
   "outputs": [
    {
     "data": {
      "text/plain": "['spam', 'eggs']"
     },
     "execution_count": 12,
     "metadata": {},
     "output_type": "execute_result"
    }
   ]
  },
  {
   "cell_type": "markdown",
   "source": [
    "## Objects and Classes"
   ],
   "metadata": {
    "id": "cs46BkAP9XIn"
   }
  },
  {
   "cell_type": "code",
   "source": [
    "i = 5\n",
    "type(i)"
   ],
   "metadata": {
    "id": "KYKlamaa9Zjd",
    "ExecuteTime": {
     "end_time": "2023-10-21T00:35:18.871237Z",
     "start_time": "2023-10-21T00:35:18.856887Z"
    }
   },
   "execution_count": 13,
   "outputs": [
    {
     "data": {
      "text/plain": "int"
     },
     "execution_count": 13,
     "metadata": {},
     "output_type": "execute_result"
    }
   ]
  },
  {
   "cell_type": "code",
   "source": [
    "help(int)"
   ],
   "metadata": {
    "id": "QxncYmhR9gFd",
    "ExecuteTime": {
     "end_time": "2023-10-21T00:34:44.039644Z",
     "start_time": "2023-10-21T00:34:44.017598Z"
    }
   },
   "execution_count": 2,
   "outputs": [
    {
     "name": "stdout",
     "output_type": "stream",
     "text": [
      "Help on class int in module builtins:\n",
      "\n",
      "class int(object)\n",
      " |  int([x]) -> integer\n",
      " |  int(x, base=10) -> integer\n",
      " |  \n",
      " |  Convert a number or string to an integer, or return 0 if no arguments\n",
      " |  are given.  If x is a number, return x.__int__().  For floating point\n",
      " |  numbers, this truncates towards zero.\n",
      " |  \n",
      " |  If x is not a number or if base is given, then x must be a string,\n",
      " |  bytes, or bytearray instance representing an integer literal in the\n",
      " |  given base.  The literal can be preceded by '+' or '-' and be surrounded\n",
      " |  by whitespace.  The base defaults to 10.  Valid bases are 0 and 2-36.\n",
      " |  Base 0 means to interpret the base from the string as an integer literal.\n",
      " |  >>> int('0b100', base=0)\n",
      " |  4\n",
      " |  \n",
      " |  Built-in subclasses:\n",
      " |      bool\n",
      " |  \n",
      " |  Methods defined here:\n",
      " |  \n",
      " |  __abs__(self, /)\n",
      " |      abs(self)\n",
      " |  \n",
      " |  __add__(self, value, /)\n",
      " |      Return self+value.\n",
      " |  \n",
      " |  __and__(self, value, /)\n",
      " |      Return self&value.\n",
      " |  \n",
      " |  __bool__(self, /)\n",
      " |      self != 0\n",
      " |  \n",
      " |  __ceil__(...)\n",
      " |      Ceiling of an Integral returns itself.\n",
      " |  \n",
      " |  __divmod__(self, value, /)\n",
      " |      Return divmod(self, value).\n",
      " |  \n",
      " |  __eq__(self, value, /)\n",
      " |      Return self==value.\n",
      " |  \n",
      " |  __float__(self, /)\n",
      " |      float(self)\n",
      " |  \n",
      " |  __floor__(...)\n",
      " |      Flooring an Integral returns itself.\n",
      " |  \n",
      " |  __floordiv__(self, value, /)\n",
      " |      Return self//value.\n",
      " |  \n",
      " |  __format__(self, format_spec, /)\n",
      " |      Default object formatter.\n",
      " |  \n",
      " |  __ge__(self, value, /)\n",
      " |      Return self>=value.\n",
      " |  \n",
      " |  __getattribute__(self, name, /)\n",
      " |      Return getattr(self, name).\n",
      " |  \n",
      " |  __getnewargs__(self, /)\n",
      " |  \n",
      " |  __gt__(self, value, /)\n",
      " |      Return self>value.\n",
      " |  \n",
      " |  __hash__(self, /)\n",
      " |      Return hash(self).\n",
      " |  \n",
      " |  __index__(self, /)\n",
      " |      Return self converted to an integer, if self is suitable for use as an index into a list.\n",
      " |  \n",
      " |  __int__(self, /)\n",
      " |      int(self)\n",
      " |  \n",
      " |  __invert__(self, /)\n",
      " |      ~self\n",
      " |  \n",
      " |  __le__(self, value, /)\n",
      " |      Return self<=value.\n",
      " |  \n",
      " |  __lshift__(self, value, /)\n",
      " |      Return self<<value.\n",
      " |  \n",
      " |  __lt__(self, value, /)\n",
      " |      Return self<value.\n",
      " |  \n",
      " |  __mod__(self, value, /)\n",
      " |      Return self%value.\n",
      " |  \n",
      " |  __mul__(self, value, /)\n",
      " |      Return self*value.\n",
      " |  \n",
      " |  __ne__(self, value, /)\n",
      " |      Return self!=value.\n",
      " |  \n",
      " |  __neg__(self, /)\n",
      " |      -self\n",
      " |  \n",
      " |  __or__(self, value, /)\n",
      " |      Return self|value.\n",
      " |  \n",
      " |  __pos__(self, /)\n",
      " |      +self\n",
      " |  \n",
      " |  __pow__(self, value, mod=None, /)\n",
      " |      Return pow(self, value, mod).\n",
      " |  \n",
      " |  __radd__(self, value, /)\n",
      " |      Return value+self.\n",
      " |  \n",
      " |  __rand__(self, value, /)\n",
      " |      Return value&self.\n",
      " |  \n",
      " |  __rdivmod__(self, value, /)\n",
      " |      Return divmod(value, self).\n",
      " |  \n",
      " |  __repr__(self, /)\n",
      " |      Return repr(self).\n",
      " |  \n",
      " |  __rfloordiv__(self, value, /)\n",
      " |      Return value//self.\n",
      " |  \n",
      " |  __rlshift__(self, value, /)\n",
      " |      Return value<<self.\n",
      " |  \n",
      " |  __rmod__(self, value, /)\n",
      " |      Return value%self.\n",
      " |  \n",
      " |  __rmul__(self, value, /)\n",
      " |      Return value*self.\n",
      " |  \n",
      " |  __ror__(self, value, /)\n",
      " |      Return value|self.\n",
      " |  \n",
      " |  __round__(...)\n",
      " |      Rounding an Integral returns itself.\n",
      " |      Rounding with an ndigits argument also returns an integer.\n",
      " |  \n",
      " |  __rpow__(self, value, mod=None, /)\n",
      " |      Return pow(value, self, mod).\n",
      " |  \n",
      " |  __rrshift__(self, value, /)\n",
      " |      Return value>>self.\n",
      " |  \n",
      " |  __rshift__(self, value, /)\n",
      " |      Return self>>value.\n",
      " |  \n",
      " |  __rsub__(self, value, /)\n",
      " |      Return value-self.\n",
      " |  \n",
      " |  __rtruediv__(self, value, /)\n",
      " |      Return value/self.\n",
      " |  \n",
      " |  __rxor__(self, value, /)\n",
      " |      Return value^self.\n",
      " |  \n",
      " |  __sizeof__(self, /)\n",
      " |      Returns size in memory, in bytes.\n",
      " |  \n",
      " |  __sub__(self, value, /)\n",
      " |      Return self-value.\n",
      " |  \n",
      " |  __truediv__(self, value, /)\n",
      " |      Return self/value.\n",
      " |  \n",
      " |  __trunc__(...)\n",
      " |      Truncating an Integral returns itself.\n",
      " |  \n",
      " |  __xor__(self, value, /)\n",
      " |      Return self^value.\n",
      " |  \n",
      " |  as_integer_ratio(self, /)\n",
      " |      Return integer ratio.\n",
      " |      \n",
      " |      Return a pair of integers, whose ratio is exactly equal to the original int\n",
      " |      and with a positive denominator.\n",
      " |      \n",
      " |      >>> (10).as_integer_ratio()\n",
      " |      (10, 1)\n",
      " |      >>> (-10).as_integer_ratio()\n",
      " |      (-10, 1)\n",
      " |      >>> (0).as_integer_ratio()\n",
      " |      (0, 1)\n",
      " |  \n",
      " |  bit_length(self, /)\n",
      " |      Number of bits necessary to represent self in binary.\n",
      " |      \n",
      " |      >>> bin(37)\n",
      " |      '0b100101'\n",
      " |      >>> (37).bit_length()\n",
      " |      6\n",
      " |  \n",
      " |  conjugate(...)\n",
      " |      Returns self, the complex conjugate of any int.\n",
      " |  \n",
      " |  to_bytes(self, /, length, byteorder, *, signed=False)\n",
      " |      Return an array of bytes representing an integer.\n",
      " |      \n",
      " |      length\n",
      " |        Length of bytes object to use.  An OverflowError is raised if the\n",
      " |        integer is not representable with the given number of bytes.\n",
      " |      byteorder\n",
      " |        The byte order used to represent the integer.  If byteorder is 'big',\n",
      " |        the most significant byte is at the beginning of the byte array.  If\n",
      " |        byteorder is 'little', the most significant byte is at the end of the\n",
      " |        byte array.  To request the native byte order of the host system, use\n",
      " |        `sys.byteorder' as the byte order value.\n",
      " |      signed\n",
      " |        Determines whether two's complement is used to represent the integer.\n",
      " |        If signed is False and a negative integer is given, an OverflowError\n",
      " |        is raised.\n",
      " |  \n",
      " |  ----------------------------------------------------------------------\n",
      " |  Class methods defined here:\n",
      " |  \n",
      " |  from_bytes(bytes, byteorder, *, signed=False) from builtins.type\n",
      " |      Return the integer represented by the given array of bytes.\n",
      " |      \n",
      " |      bytes\n",
      " |        Holds the array of bytes to convert.  The argument must either\n",
      " |        support the buffer protocol or be an iterable object producing bytes.\n",
      " |        Bytes and bytearray are examples of built-in objects that support the\n",
      " |        buffer protocol.\n",
      " |      byteorder\n",
      " |        The byte order used to represent the integer.  If byteorder is 'big',\n",
      " |        the most significant byte is at the beginning of the byte array.  If\n",
      " |        byteorder is 'little', the most significant byte is at the end of the\n",
      " |        byte array.  To request the native byte order of the host system, use\n",
      " |        `sys.byteorder' as the byte order value.\n",
      " |      signed\n",
      " |        Indicates whether two's complement is used to represent the integer.\n",
      " |  \n",
      " |  ----------------------------------------------------------------------\n",
      " |  Static methods defined here:\n",
      " |  \n",
      " |  __new__(*args, **kwargs) from builtins.type\n",
      " |      Create and return a new object.  See help(type) for accurate signature.\n",
      " |  \n",
      " |  ----------------------------------------------------------------------\n",
      " |  Data descriptors defined here:\n",
      " |  \n",
      " |  denominator\n",
      " |      the denominator of a rational number in lowest terms\n",
      " |  \n",
      " |  imag\n",
      " |      the imaginary part of a complex number\n",
      " |  \n",
      " |  numerator\n",
      " |      the numerator of a rational number in lowest terms\n",
      " |  \n",
      " |  real\n",
      " |      the real part of a complex number\n"
     ]
    }
   ]
  },
  {
   "cell_type": "code",
   "source": [
    "sum += num\n",
    "len = 3\n",
    "min\n",
    "max\n",
    "filter\n",
    "str"
   ],
   "metadata": {
    "id": "v8wTTVHEXZHN",
    "ExecuteTime": {
     "end_time": "2023-10-21T00:35:22.046865Z",
     "start_time": "2023-10-21T00:35:22.026476Z"
    }
   },
   "execution_count": 14,
   "outputs": [
    {
     "ename": "NameError",
     "evalue": "name 'num' is not defined",
     "output_type": "error",
     "traceback": [
      "\u001B[0;31m---------------------------------------------------------------------------\u001B[0m",
      "\u001B[0;31mNameError\u001B[0m                                 Traceback (most recent call last)",
      "Cell \u001B[0;32mIn[14], line 1\u001B[0m\n\u001B[0;32m----> 1\u001B[0m \u001B[38;5;28msum\u001B[39m \u001B[38;5;241m+\u001B[39m\u001B[38;5;241m=\u001B[39m \u001B[43mnum\u001B[49m\n\u001B[1;32m      2\u001B[0m \u001B[38;5;28mlen\u001B[39m \u001B[38;5;241m=\u001B[39m \u001B[38;5;241m3\u001B[39m\n\u001B[1;32m      3\u001B[0m \u001B[38;5;28mmin\u001B[39m\n",
      "\u001B[0;31mNameError\u001B[0m: name 'num' is not defined"
     ]
    }
   ]
  },
  {
   "cell_type": "code",
   "source": [
    "team.append('new member')\n",
    "team"
   ],
   "metadata": {
    "colab": {
     "base_uri": "https://localhost:8080/"
    },
    "id": "p3uExr7c9iqP",
    "outputId": "d53f9b3e-6ef2-4834-8e72-cbd7bf598a2d",
    "ExecuteTime": {
     "end_time": "2023-10-21T00:35:37.345795Z",
     "start_time": "2023-10-21T00:35:37.308986Z"
    }
   },
   "execution_count": 15,
   "outputs": [
    {
     "data": {
      "text/plain": "['Seahawks', 2014, 'CenturyLink Field', 'new member']"
     },
     "execution_count": 15,
     "metadata": {},
     "output_type": "execute_result"
    }
   ]
  },
  {
   "cell_type": "code",
   "source": [
    "a = [3, 2, 4, 1]\n",
    "a.sort()\n",
    "a"
   ],
   "metadata": {
    "colab": {
     "base_uri": "https://localhost:8080/"
    },
    "id": "pC7LruMs9r84",
    "outputId": "fcbc8b17-f6e9-485a-e75a-1f7c20aa306c",
    "ExecuteTime": {
     "end_time": "2023-10-21T00:35:59.372822Z",
     "start_time": "2023-10-21T00:35:59.355212Z"
    }
   },
   "execution_count": 16,
   "outputs": [
    {
     "data": {
      "text/plain": "[1, 2, 3, 4]"
     },
     "execution_count": 16,
     "metadata": {},
     "output_type": "execute_result"
    }
   ]
  },
  {
   "cell_type": "code",
   "source": [
    "shoplist = ['apple', 'mango', 'carrot', 'banana']\n",
    "print('I have {0} items to purchase.'.format(len(shoplist)))"
   ],
   "metadata": {
    "colab": {
     "base_uri": "https://localhost:8080/"
    },
    "id": "baKQo3159wLx",
    "outputId": "7ee25c42-d44c-4ac5-ba05-f517cb0b2942",
    "ExecuteTime": {
     "end_time": "2023-10-21T00:37:17.584661Z",
     "start_time": "2023-10-21T00:37:17.557886Z"
    }
   },
   "execution_count": 17,
   "outputs": [
    {
     "name": "stdout",
     "output_type": "stream",
     "text": [
      "I have 4 items to purchase.\n"
     ]
    }
   ]
  },
  {
   "cell_type": "code",
   "source": [
    "print('These items are: ', end='')\n",
    "for item in shoplist:\n",
    "  print(item, end=' ')"
   ],
   "metadata": {
    "colab": {
     "base_uri": "https://localhost:8080/"
    },
    "id": "Tl5DYfek90Ql",
    "outputId": "ea987acf-b5d9-4bcd-9f2d-652970ef3c38",
    "ExecuteTime": {
     "end_time": "2023-10-21T00:37:38.228519Z",
     "start_time": "2023-10-21T00:37:38.187645Z"
    }
   },
   "execution_count": 18,
   "outputs": [
    {
     "name": "stdout",
     "output_type": "stream",
     "text": [
      "These items are: apple mango carrot banana "
     ]
    }
   ]
  },
  {
   "cell_type": "code",
   "source": [
    "print('\\nI also have to buy rice.')\n",
    "shoplist.append('rice')\n",
    "print('My list is now', shoplist)\n"
   ],
   "metadata": {
    "colab": {
     "base_uri": "https://localhost:8080/"
    },
    "id": "tn7oPJP194aa",
    "outputId": "001fdc7a-4653-4830-a855-3b71a3431187",
    "ExecuteTime": {
     "end_time": "2023-10-21T00:37:50.186627Z",
     "start_time": "2023-10-21T00:37:50.134039Z"
    }
   },
   "execution_count": 19,
   "outputs": [
    {
     "name": "stdout",
     "output_type": "stream",
     "text": [
      "\n",
      "I also have to buy rice.\n",
      "My list is now ['apple', 'mango', 'carrot', 'banana', 'rice']\n"
     ]
    }
   ]
  },
  {
   "cell_type": "code",
   "source": [
    "print('I will sort my shopping list now')\n",
    "shoplist.sort()\n",
    "print('Sorted list is', shoplist)\n",
    "sorted"
   ],
   "metadata": {
    "colab": {
     "base_uri": "https://localhost:8080/"
    },
    "id": "We_YhC0J-Ax3",
    "outputId": "01aa73bb-ef6c-4ca8-b715-0dd54586d9ff",
    "ExecuteTime": {
     "end_time": "2023-10-21T00:37:58.295069Z",
     "start_time": "2023-10-21T00:37:58.262837Z"
    }
   },
   "execution_count": 20,
   "outputs": [
    {
     "name": "stdout",
     "output_type": "stream",
     "text": [
      "I will sort my shopping list now\n",
      "Sorted list is ['apple', 'banana', 'carrot', 'mango', 'rice']\n"
     ]
    },
    {
     "data": {
      "text/plain": "<function sorted(iterable, /, *, key=None, reverse=False)>"
     },
     "execution_count": 20,
     "metadata": {},
     "output_type": "execute_result"
    }
   ]
  },
  {
   "cell_type": "code",
   "source": [
    "print('The first item I will buy is', shoplist[0])\n",
    "olditem = shoplist[0]\n",
    "del shoplist[0]\n",
    "print('I bought the', olditem)\n",
    "print('My shopping list is now', shoplist)\n"
   ],
   "metadata": {
    "colab": {
     "base_uri": "https://localhost:8080/"
    },
    "id": "9iovkQM0-DZS",
    "outputId": "fb3b3e10-cb41-47e9-dcdb-19a249c678c4",
    "ExecuteTime": {
     "end_time": "2023-10-21T00:38:36.663556Z",
     "start_time": "2023-10-21T00:38:36.620547Z"
    }
   },
   "execution_count": 21,
   "outputs": [
    {
     "name": "stdout",
     "output_type": "stream",
     "text": [
      "The first item I will buy is apple\n",
      "I bought the apple\n",
      "My shopping list is now ['banana', 'carrot', 'mango', 'rice']\n"
     ]
    }
   ]
  },
  {
   "cell_type": "code",
   "source": [
    "team = ['Seahawks', 2014, 'CenturyLink Field']\n",
    "nums = [5, 10, 4, 5]\n",
    "words = ['spam', 'ni']\n",
    "print(max(nums), min(nums), sum(nums))\n",
    "print(nums.count(5), nums.index(4))\n"
   ],
   "metadata": {
    "colab": {
     "base_uri": "https://localhost:8080/"
    },
    "id": "wCWV8i11-GKf",
    "outputId": "94cb370d-a44b-49f1-d46c-aacbbd575f35",
    "ExecuteTime": {
     "end_time": "2023-10-21T00:40:25.833667Z",
     "start_time": "2023-10-21T00:40:25.784470Z"
    }
   },
   "execution_count": 25,
   "outputs": [
    {
     "name": "stdout",
     "output_type": "stream",
     "text": [
      "10 4 24\n",
      "2 2\n"
     ]
    }
   ]
  },
  {
   "cell_type": "code",
   "source": [
    "words.reverse()\n",
    "words"
   ],
   "metadata": {
    "colab": {
     "base_uri": "https://localhost:8080/"
    },
    "id": "jy1WMCNW-V4G",
    "outputId": "0ec95819-caee-4454-9cf0-6bd440205c8a",
    "ExecuteTime": {
     "end_time": "2023-10-21T00:40:58.490548Z",
     "start_time": "2023-10-21T00:40:58.444657Z"
    }
   },
   "execution_count": 26,
   "outputs": [
    {
     "data": {
      "text/plain": "['ni', 'spam']"
     },
     "execution_count": 26,
     "metadata": {},
     "output_type": "execute_result"
    }
   ]
  },
  {
   "cell_type": "code",
   "source": [
    "nums.append(7)\n",
    "nums"
   ],
   "metadata": {
    "colab": {
     "base_uri": "https://localhost:8080/"
    },
    "id": "6PwSDKqj-Wo8",
    "outputId": "2690e0bc-b863-4a7e-e969-84c1d9e2edc3",
    "ExecuteTime": {
     "end_time": "2023-10-21T00:41:23.841186Z",
     "start_time": "2023-10-21T00:41:23.815616Z"
    }
   },
   "execution_count": 27,
   "outputs": [
    {
     "data": {
      "text/plain": "[5, 10, 4, 5, 7]"
     },
     "execution_count": 27,
     "metadata": {},
     "output_type": "execute_result"
    }
   ]
  },
  {
   "cell_type": "code",
   "source": [
    "nums.extend([1,2])\n",
    "nums"
   ],
   "metadata": {
    "colab": {
     "base_uri": "https://localhost:8080/"
    },
    "id": "4XEPFli0-ZaA",
    "outputId": "eae5b7fe-6dec-4f65-e8bb-e5ba2947e7cd",
    "ExecuteTime": {
     "end_time": "2023-10-21T00:41:35.076425Z",
     "start_time": "2023-10-21T00:41:35.051408Z"
    }
   },
   "execution_count": 28,
   "outputs": [
    {
     "data": {
      "text/plain": "[5, 10, 4, 5, 7, 1, 2]"
     },
     "execution_count": 28,
     "metadata": {},
     "output_type": "execute_result"
    }
   ]
  },
  {
   "cell_type": "code",
   "source": [
    "nums.remove(5)\n",
    "nums"
   ],
   "metadata": {
    "colab": {
     "base_uri": "https://localhost:8080/"
    },
    "id": "qg0XhF67-cl5",
    "outputId": "eb91930d-192e-4038-e480-d30758b7ccde",
    "ExecuteTime": {
     "end_time": "2023-10-21T00:41:43.067370Z",
     "start_time": "2023-10-21T00:41:43.033120Z"
    }
   },
   "execution_count": 29,
   "outputs": [
    {
     "data": {
      "text/plain": "[10, 4, 5, 7, 1, 2]"
     },
     "execution_count": 29,
     "metadata": {},
     "output_type": "execute_result"
    }
   ]
  },
  {
   "cell_type": "code",
   "source": [
    "del nums[1:3]\n",
    "nums"
   ],
   "metadata": {
    "colab": {
     "base_uri": "https://localhost:8080/"
    },
    "id": "pXnEI7Wv-hE6",
    "outputId": "75f27df6-37c5-4c7d-9a7f-e10925be49f8",
    "ExecuteTime": {
     "end_time": "2023-10-21T00:41:58.665866Z",
     "start_time": "2023-10-21T00:41:58.620440Z"
    }
   },
   "execution_count": 30,
   "outputs": [
    {
     "data": {
      "text/plain": "[10, 7, 1, 2]"
     },
     "execution_count": 30,
     "metadata": {},
     "output_type": "execute_result"
    }
   ]
  },
  {
   "cell_type": "code",
   "source": [
    "words.insert(1,'wink')\n",
    "words"
   ],
   "metadata": {
    "colab": {
     "base_uri": "https://localhost:8080/"
    },
    "id": "sAf0Ixbg-kLc",
    "outputId": "77bf5601-9dc4-4329-dccf-1a45f41aadad",
    "ExecuteTime": {
     "end_time": "2023-10-21T00:42:07.262301Z",
     "start_time": "2023-10-21T00:42:07.220534Z"
    }
   },
   "execution_count": 31,
   "outputs": [
    {
     "data": {
      "text/plain": "['ni', 'wink', 'spam']"
     },
     "execution_count": 31,
     "metadata": {},
     "output_type": "execute_result"
    }
   ]
  },
  {
   "cell_type": "code",
   "source": [
    "['a',1] + [2,'b']\n"
   ],
   "metadata": {
    "colab": {
     "base_uri": "https://localhost:8080/"
    },
    "id": "nZMye7-i-m1_",
    "outputId": "52de7320-1d2c-4384-c217-e3a35733a39c",
    "ExecuteTime": {
     "end_time": "2023-10-21T00:42:15.646441Z",
     "start_time": "2023-10-21T00:42:15.617875Z"
    }
   },
   "execution_count": 32,
   "outputs": [
    {
     "data": {
      "text/plain": "['a', 1, 2, 'b']"
     },
     "execution_count": 32,
     "metadata": {},
     "output_type": "execute_result"
    }
   ]
  },
  {
   "cell_type": "code",
   "source": [
    "[0] * 3\n"
   ],
   "metadata": {
    "colab": {
     "base_uri": "https://localhost:8080/"
    },
    "id": "rcWH_FdC-oHK",
    "outputId": "9670cf1b-606d-412d-de6c-5e1c77612543",
    "ExecuteTime": {
     "end_time": "2023-10-21T00:42:19.865670Z",
     "start_time": "2023-10-21T00:42:19.827304Z"
    }
   },
   "execution_count": 33,
   "outputs": [
    {
     "data": {
      "text/plain": "[0, 0, 0]"
     },
     "execution_count": 33,
     "metadata": {},
     "output_type": "execute_result"
    }
   ]
  },
  {
   "cell_type": "code",
   "source": [
    "'a,b,c'.split(',')"
   ],
   "metadata": {
    "colab": {
     "base_uri": "https://localhost:8080/"
    },
    "id": "6xkuwzok-p-G",
    "outputId": "2c8a0b9c-53a3-4960-e0e1-b6dfbdffaadd",
    "ExecuteTime": {
     "end_time": "2023-10-21T00:42:24.566726Z",
     "start_time": "2023-10-21T00:42:24.528510Z"
    }
   },
   "execution_count": 34,
   "outputs": [
    {
     "data": {
      "text/plain": "['a', 'b', 'c']"
     },
     "execution_count": 34,
     "metadata": {},
     "output_type": "execute_result"
    }
   ]
  },
  {
   "cell_type": "code",
   "source": [
    "'a**b**c'.split('**')"
   ],
   "metadata": {
    "colab": {
     "base_uri": "https://localhost:8080/"
    },
    "id": "ZFmAGl80-rwy",
    "outputId": "199caa60-2145-4799-8694-8de3b085e39c",
    "ExecuteTime": {
     "end_time": "2023-10-21T00:42:28.917089Z",
     "start_time": "2023-10-21T00:42:28.883546Z"
    }
   },
   "execution_count": 35,
   "outputs": [
    {
     "data": {
      "text/plain": "['a', 'b', 'c']"
     },
     "execution_count": 35,
     "metadata": {},
     "output_type": "execute_result"
    }
   ]
  },
  {
   "cell_type": "code",
   "source": [
    "'a**b**c'.split('*')"
   ],
   "metadata": {
    "colab": {
     "base_uri": "https://localhost:8080/"
    },
    "id": "e729uvAU-siN",
    "outputId": "511f7e57-09a3-4765-a360-0036142ec4ae",
    "ExecuteTime": {
     "end_time": "2023-10-21T00:42:41.436091Z",
     "start_time": "2023-10-21T00:42:41.362640Z"
    }
   },
   "execution_count": 36,
   "outputs": [
    {
     "data": {
      "text/plain": "['a', '', 'b', '', 'c']"
     },
     "execution_count": 36,
     "metadata": {},
     "output_type": "execute_result"
    }
   ]
  },
  {
   "cell_type": "code",
   "source": [
    "'a\\nb\\nc'.split()"
   ],
   "metadata": {
    "colab": {
     "base_uri": "https://localhost:8080/"
    },
    "id": "-hmJmH-f-vCr",
    "outputId": "ac8db415-465c-4ea2-c438-1f29043e446a",
    "ExecuteTime": {
     "end_time": "2023-10-21T00:42:47.757359Z",
     "start_time": "2023-10-21T00:42:47.720173Z"
    }
   },
   "execution_count": 37,
   "outputs": [
    {
     "data": {
      "text/plain": "['a', 'b', 'c']"
     },
     "execution_count": 37,
     "metadata": {},
     "output_type": "execute_result"
    }
   ]
  },
  {
   "cell_type": "code",
   "source": [
    "'a b c'.split()"
   ],
   "metadata": {
    "colab": {
     "base_uri": "https://localhost:8080/"
    },
    "id": "eyrkm1TM-yks",
    "outputId": "bcf5fc31-ce37-4220-c787-fa1f49ae75a6",
    "ExecuteTime": {
     "end_time": "2023-10-21T00:42:51.579408Z",
     "start_time": "2023-10-21T00:42:51.525374Z"
    }
   },
   "execution_count": 38,
   "outputs": [
    {
     "data": {
      "text/plain": "['a', 'b', 'c']"
     },
     "execution_count": 38,
     "metadata": {},
     "output_type": "execute_result"
    }
   ]
  },
  {
   "cell_type": "code",
   "source": [
    "'a b c'.split(',')"
   ],
   "metadata": {
    "colab": {
     "base_uri": "https://localhost:8080/"
    },
    "id": "wcmWGSsV-0It",
    "outputId": "1453a3a0-29c3-457f-ece2-cd971690bc58",
    "ExecuteTime": {
     "end_time": "2023-10-21T00:42:58.430806Z",
     "start_time": "2023-10-21T00:42:58.397006Z"
    }
   },
   "execution_count": 39,
   "outputs": [
    {
     "data": {
      "text/plain": "['a b c']"
     },
     "execution_count": 39,
     "metadata": {},
     "output_type": "execute_result"
    }
   ]
  },
  {
   "cell_type": "code",
   "source": [
    "line = ['To', 'be', 'or', 'not', 'to', 'be.']\n",
    "string = ' '.join(line)\n",
    "string"
   ],
   "metadata": {
    "colab": {
     "base_uri": "https://localhost:8080/",
     "height": 36
    },
    "id": "bsORzqhLB59_",
    "outputId": "6dec3d68-b6e5-4769-a4f0-8dc0ca3fab99",
    "ExecuteTime": {
     "end_time": "2023-10-21T00:43:21.604498Z",
     "start_time": "2023-10-21T00:43:21.575793Z"
    }
   },
   "execution_count": 40,
   "outputs": [
    {
     "data": {
      "text/plain": "'To be or not to be.'"
     },
     "execution_count": 40,
     "metadata": {},
     "output_type": "execute_result"
    }
   ]
  },
  {
   "cell_type": "code",
   "source": [
    "krispies = ['Snap', 'Crackle', 'Pop']\n",
    "print(', '.join(krispies))"
   ],
   "metadata": {
    "colab": {
     "base_uri": "https://localhost:8080/"
    },
    "id": "kmfBgwzJB-AU",
    "outputId": "5cf3e596-c4e0-4b23-805b-04c88944ffb1",
    "ExecuteTime": {
     "end_time": "2023-10-21T00:43:31.076286Z",
     "start_time": "2023-10-21T00:43:31.039206Z"
    }
   },
   "execution_count": 41,
   "outputs": [
    {
     "name": "stdout",
     "output_type": "stream",
     "text": [
      "Snap, Crackle, Pop\n"
     ]
    }
   ]
  },
  {
   "cell_type": "markdown",
   "source": [
    "# Lab"
   ],
   "metadata": {
    "id": "ZYJeA4fpcGNk"
   }
  },
  {
   "cell_type": "markdown",
   "source": [
    "\n",
    "\n",
    "## 1. Write your code according to the following instructions:\n",
    "\n",
    "* Create a list of integers and find the sum of all even numbers.\n",
    "* Add a new element to the end of the list.\n",
    "* Remove the first element from the list.\n",
    "* Sort the list in ascending order.\n",
    "\n",
    "\n",
    "\n",
    "\n",
    "\n",
    "\n"
   ],
   "metadata": {
    "collapsed": false
   }
  },
  {
   "cell_type": "code",
   "source": [
    "# Create a list of integers\n",
    "int_list = list(range(1, 101))\n",
    "sum(int_list)\n",
    "int_list.append(101)\n",
    "print(int_list)\n",
    "del int_list[0]\n",
    "print(int_list)\n",
    "# int_list.sort(reverse = True)\n",
    "int_list.reverse()\n",
    "print(int_list)"
   ],
   "metadata": {
    "id": "SBUQ1WRTc1Nz",
    "ExecuteTime": {
     "end_time": "2023-10-21T00:48:18.232007Z",
     "start_time": "2023-10-21T00:48:18.211652Z"
    }
   },
   "execution_count": 51,
   "outputs": [
    {
     "name": "stdout",
     "output_type": "stream",
     "text": [
      "[1, 2, 3, 4, 5, 6, 7, 8, 9, 10, 11, 12, 13, 14, 15, 16, 17, 18, 19, 20, 21, 22, 23, 24, 25, 26, 27, 28, 29, 30, 31, 32, 33, 34, 35, 36, 37, 38, 39, 40, 41, 42, 43, 44, 45, 46, 47, 48, 49, 50, 51, 52, 53, 54, 55, 56, 57, 58, 59, 60, 61, 62, 63, 64, 65, 66, 67, 68, 69, 70, 71, 72, 73, 74, 75, 76, 77, 78, 79, 80, 81, 82, 83, 84, 85, 86, 87, 88, 89, 90, 91, 92, 93, 94, 95, 96, 97, 98, 99, 100, 101]\n",
      "[2, 3, 4, 5, 6, 7, 8, 9, 10, 11, 12, 13, 14, 15, 16, 17, 18, 19, 20, 21, 22, 23, 24, 25, 26, 27, 28, 29, 30, 31, 32, 33, 34, 35, 36, 37, 38, 39, 40, 41, 42, 43, 44, 45, 46, 47, 48, 49, 50, 51, 52, 53, 54, 55, 56, 57, 58, 59, 60, 61, 62, 63, 64, 65, 66, 67, 68, 69, 70, 71, 72, 73, 74, 75, 76, 77, 78, 79, 80, 81, 82, 83, 84, 85, 86, 87, 88, 89, 90, 91, 92, 93, 94, 95, 96, 97, 98, 99, 100, 101]\n",
      "[101, 100, 99, 98, 97, 96, 95, 94, 93, 92, 91, 90, 89, 88, 87, 86, 85, 84, 83, 82, 81, 80, 79, 78, 77, 76, 75, 74, 73, 72, 71, 70, 69, 68, 67, 66, 65, 64, 63, 62, 61, 60, 59, 58, 57, 56, 55, 54, 53, 52, 51, 50, 49, 48, 47, 46, 45, 44, 43, 42, 41, 40, 39, 38, 37, 36, 35, 34, 33, 32, 31, 30, 29, 28, 27, 26, 25, 24, 23, 22, 21, 20, 19, 18, 17, 16, 15, 14, 13, 12, 11, 10, 9, 8, 7, 6, 5, 4, 3, 2]\n"
     ]
    }
   ]
  },
  {
   "cell_type": "markdown",
   "source": [
    "## 2. Write your code according to the following instructions:\n",
    "\n",
    "* Create a tuple containing names of your three favorite fruits.\n",
    "* Use tuple unpacking to assign each fruit to a separate variable.\n",
    "* Create a new tuple by concatenating your favorite fruits with a tuple of your favorite vegetables.\n",
    "\n",
    "\n"
   ],
   "metadata": {
    "id": "mGbPfQJEc5pl"
   }
  },
  {
   "cell_type": "code",
   "source": [
    "# Create a tuple containing names of your three favorite fruits.\n",
    "fruits = (\"apple\", \"banana\", \"orange\")\n",
    "a, b, c = fruits\n",
    "print(a, b, c)\n",
    "vegetables = (\"cactus\", \"onion\", \"carrot\")\n",
    "fruits + vegetables"
   ],
   "metadata": {
    "id": "mGAC-9rSc7Qd",
    "ExecuteTime": {
     "end_time": "2023-10-21T00:56:10.339590Z",
     "start_time": "2023-10-21T00:56:10.323759Z"
    }
   },
   "execution_count": 53,
   "outputs": [
    {
     "name": "stdout",
     "output_type": "stream",
     "text": [
      "apple banana orange\n"
     ]
    },
    {
     "data": {
      "text/plain": "('apple', 'banana', 'orange', 'cactus', 'onion', 'carrot')"
     },
     "execution_count": 53,
     "metadata": {},
     "output_type": "execute_result"
    }
   ]
  },
  {
   "cell_type": "markdown",
   "source": [
    "## 3. Write your code according to the following instructions:\n",
    "\n",
    "* Create a list of strings and find the longest string.\n",
    "* Calculate the sum of a range of numbers from 1 to 100.\n",
    "* Using a list comprehension, create a list containing the squares of the numbers from 1 to 10.\n",
    "\n"
   ],
   "metadata": {
    "id": "INqFk2K5c7ks"
   }
  },
  {
   "cell_type": "code",
   "source": [
    "# Create a list of strings\n",
    "strings = [\"chicken\", \"pizza\", \"barbeque\", \"spaghetti\", \"apple\"]\n",
    "max(strings, key=len)\n",
    "sum(range(1, 101))\n",
    "squares = [x**2 for x in range(1, 11)]\n",
    "squares"
   ],
   "metadata": {
    "id": "B2c46qWfc8z0",
    "ExecuteTime": {
     "end_time": "2023-10-21T01:03:28.527079Z",
     "start_time": "2023-10-21T01:03:28.520451Z"
    }
   },
   "execution_count": 58,
   "outputs": [
    {
     "data": {
      "text/plain": "[1, 4, 9, 16, 25, 36, 49, 64, 81, 100]"
     },
     "execution_count": 58,
     "metadata": {},
     "output_type": "execute_result"
    }
   ]
  },
  {
   "cell_type": "markdown",
   "source": [
    "## 4. Write your code according to the following instructions:\n",
    "\n",
    "* Create a list of numbers from 1 to 50.\n",
    "* Filter out all the numbers that are divisible by 3 and store them in a new list.\n",
    "* Calculate the sum of the remaining numbers in the original list.\n",
    "* Reverse the order of the elements in the original list."
   ],
   "metadata": {
    "id": "dI9p5_rNec8G"
   }
  },
  {
   "cell_type": "code",
   "source": [
    "# Create a list of numbers from 1 to 50\n",
    "numbers = list(range(1, 51))\n",
    "divisible_by_3 = [n for n in range(1, 51) if n%3 == 0]\n",
    "remaining = [n for n in numbers if n not in divisible_by_3]\n",
    "sum(remaining)\n",
    "numbers.reverse()\n",
    "print(numbers)"
   ],
   "metadata": {
    "id": "nvheaxJOedT9",
    "ExecuteTime": {
     "end_time": "2023-10-21T01:09:38.054279Z",
     "start_time": "2023-10-21T01:09:38.039341Z"
    }
   },
   "execution_count": 64,
   "outputs": [
    {
     "name": "stdout",
     "output_type": "stream",
     "text": [
      "[50, 49, 48, 47, 46, 45, 44, 43, 42, 41, 40, 39, 38, 37, 36, 35, 34, 33, 32, 31, 30, 29, 28, 27, 26, 25, 24, 23, 22, 21, 20, 19, 18, 17, 16, 15, 14, 13, 12, 11, 10, 9, 8, 7, 6, 5, 4, 3, 2, 1]\n"
     ]
    }
   ]
  },
  {
   "cell_type": "code",
   "execution_count": 66,
   "outputs": [
    {
     "data": {
      "text/plain": "<filter at 0x105c60640>"
     },
     "execution_count": 66,
     "metadata": {},
     "output_type": "execute_result"
    }
   ],
   "source": [
    "not_divisible_by_3 = lambda x : x%3 != 0\n",
    "remaining = filter(not_divisible_by_3, range(1, 51))\n",
    "remaining"
   ],
   "metadata": {
    "collapsed": false,
    "ExecuteTime": {
     "end_time": "2023-10-21T01:12:03.325264Z",
     "start_time": "2023-10-21T01:12:03.309840Z"
    }
   }
  },
  {
   "cell_type": "markdown",
   "source": [
    "## 5. Write your code according to the following instructions:\n",
    "\n",
    "* Create a string containing a sentence.\n",
    "* Reverse the order of the words in the sentence.\n",
    "* Convert the sentence to uppercase.\n",
    "* Replace a word in the sentence with another word.\n",
    "\n",
    "\n",
    "\n"
   ],
   "metadata": {
    "id": "EkRNBCyLctUY"
   }
  },
  {
   "cell_type": "code",
   "source": [
    "# Create a string containing a sentence.\n",
    "sentence = \"This is so delicious\"\n",
    "reversed_sentence = ' '.join(sentence.split()[::-1])\n",
    "# reversed_sentence\n",
    "# sentence.upper()\n",
    "sentence.replace(\"so\", \"too\")"
   ],
   "metadata": {
    "id": "BxdeHEF_cB3C",
    "ExecuteTime": {
     "end_time": "2023-10-21T01:20:40.044214Z",
     "start_time": "2023-10-21T01:20:40.008855Z"
    }
   },
   "execution_count": 80,
   "outputs": [
    {
     "data": {
      "text/plain": "'This is too delicious'"
     },
     "execution_count": 80,
     "metadata": {},
     "output_type": "execute_result"
    }
   ]
  },
  {
   "cell_type": "markdown",
   "source": [
    "## 6. Palindrome Check\n",
    "\n",
    "A palindrome is a word, phrase, number, or other sequences of characters that reads the same forward and backward, ignoring spaces, punctuation, and capitalization. Write a function that checks if a given string is a palindrome."
   ],
   "metadata": {
    "id": "tdJa-fe6Lu_N"
   }
  },
  {
   "cell_type": "code",
   "source": [
    "def is_palindrome(s: str):\n",
    "  # Implement your code\n",
    "  # Return true if s is palladium, false otherwise.\n",
    "  return s == s[::-1]  \n",
    "\n",
    "input_strings = ['racecar', 'hello', 'madam', 'python', 'level', 'world']\n",
    "\n",
    "for s in input_strings:\n",
    "  print(is_palindrome(s))"
   ],
   "metadata": {
    "id": "rBaG-0MTRktW",
    "colab": {
     "base_uri": "https://localhost:8080/",
     "height": 144
    },
    "outputId": "d5d1aded-0591-4dd9-f7fc-a35a80967c34",
    "ExecuteTime": {
     "end_time": "2023-10-21T01:21:43.469823Z",
     "start_time": "2023-10-21T01:21:43.431722Z"
    }
   },
   "execution_count": 81,
   "outputs": [
    {
     "name": "stdout",
     "output_type": "stream",
     "text": [
      "True\n",
      "False\n",
      "True\n",
      "False\n",
      "True\n",
      "False\n"
     ]
    }
   ]
  },
  {
   "cell_type": "markdown",
   "source": [
    "# Tuple"
   ],
   "metadata": {
    "id": "ilQSUgV3CPYn"
   }
  },
  {
   "cell_type": "markdown",
   "source": [
    "* Tuples, like lists, are ordered sequences of items but are immutable\n"
   ],
   "metadata": {
    "id": "jROLftnvCVtj"
   }
  },
  {
   "cell_type": "code",
   "source": [
    "zoo = ('python', 'elephant', 'penguin')\n",
    "print('Number of animals in the zoo is', len(zoo))"
   ],
   "metadata": {
    "colab": {
     "base_uri": "https://localhost:8080/"
    },
    "id": "8g4abMlSCRZ3",
    "outputId": "3a4ba52b-0c92-40ed-a8cf-ed570080813a"
   },
   "execution_count": null,
   "outputs": [
    {
     "output_type": "stream",
     "name": "stdout",
     "text": [
      "Number of animals in the zoo is 3\n"
     ]
    }
   ]
  },
  {
   "cell_type": "code",
   "source": [
    "new_zoo = 'monkey', 'camel', zoo\n",
    "print('All animals in new zoo are', new_zoo)\n",
    "print('Number of cages in the new zoo is', len(new_zoo))\n",
    "print('Animals brought from old zoo are', new_zoo[2])\n",
    "print('Last animal brought from old zoo is', new_zoo[2][2])\n",
    "print('Number of animals in the new zoo is', len(new_zoo) - 1 + len(new_zoo[2]))\n"
   ],
   "metadata": {
    "colab": {
     "base_uri": "https://localhost:8080/"
    },
    "id": "-o3FpqGaCrfW",
    "outputId": "0f1b355f-cea1-4f98-a18d-897c61ae1284"
   },
   "execution_count": null,
   "outputs": [
    {
     "output_type": "stream",
     "name": "stdout",
     "text": [
      "All animals in new zoo are ('monkey', 'camel', ('python', 'elephant', 'penguin'))\n",
      "Number of cages in the new zoo is 3\n",
      "Animals brought from old zoo are ('python', 'elephant', 'penguin')\n",
      "Last animal brought from old zoo is penguin\n",
      "Number of animals in the new zoo is 5\n"
     ]
    }
   ]
  },
  {
   "cell_type": "code",
   "source": [
    "x = 5\n",
    "y = 6\n",
    "x, y = y, x\n",
    "print(x, y)\n"
   ],
   "metadata": {
    "colab": {
     "base_uri": "https://localhost:8080/"
    },
    "id": "IuMszRRaC3Pz",
    "outputId": "0f15b0b6-e5ca-4deb-98fd-f9e110ee8a80"
   },
   "execution_count": null,
   "outputs": [
    {
     "output_type": "stream",
     "name": "stdout",
     "text": [
      "6 5\n"
     ]
    }
   ]
  },
  {
   "cell_type": "markdown",
   "source": [
    "# Sequence"
   ],
   "metadata": {
    "id": "8xPaFzaeC94Q"
   }
  },
  {
   "cell_type": "markdown",
   "source": [
    "Major features of sequences (i.e., strings, lists, and tuples):\n",
    "\n",
    "* Membership test\n",
    "* Indexing operation\n",
    "* Slicing operation: retrieves a part of the sequence"
   ],
   "metadata": {
    "id": "WJy00MJaDIjI"
   }
  },
  {
   "cell_type": "code",
   "source": [
    "shoplist = ['apple', 'mango', 'carrot', 'banana']\n",
    "name = 'swaroop'\n",
    "\n",
    "# Indexing or 'Subscription' operation #\n",
    "print('Item 3 is', shoplist[3])\n",
    "print('Item -1 is', shoplist[-1])\n",
    "print('Item -2 is', shoplist[-2])\n",
    "print('Character 0 is', name[0])\n",
    "\n",
    "# Slicing on a list #\n",
    "print('Item 1 to 3 is', shoplist[1:3])\n",
    "print('Item 2 to end is', shoplist[2:])\n",
    "print('Item 1 to -1 is', shoplist[1:-1])\n",
    "print('Item start to end is', shoplist[:])\n",
    "\n",
    "# Slicing on a string #\n",
    "print('characters 1 to 3 is', name[1:3])\n",
    "print('characters 2 to end is', name[2:])\n",
    "print('characters 1 to -1 is', name[1:-1])\n",
    "print('characters start to end is', name[:])"
   ],
   "metadata": {
    "colab": {
     "base_uri": "https://localhost:8080/"
    },
    "id": "8PVQbTjVDD5o",
    "outputId": "1272c61d-57b0-44c4-82b1-700deeea434f",
    "ExecuteTime": {
     "end_time": "2023-10-21T02:06:37.460534Z",
     "start_time": "2023-10-21T02:06:37.451244Z"
    }
   },
   "execution_count": 82,
   "outputs": [
    {
     "name": "stdout",
     "output_type": "stream",
     "text": [
      "Item 3 is banana\n",
      "Item -1 is banana\n",
      "Item -2 is carrot\n",
      "Character 0 is s\n",
      "Item 1 to 3 is ['mango', 'carrot']\n",
      "Item 2 to end is ['carrot', 'banana']\n",
      "Item 1 to -1 is ['mango', 'carrot']\n",
      "Item start to end is ['apple', 'mango', 'carrot', 'banana']\n",
      "characters 1 to 3 is wa\n",
      "characters 2 to end is aroop\n",
      "characters 1 to -1 is waroo\n",
      "characters start to end is swaroop\n"
     ]
    }
   ]
  },
  {
   "cell_type": "code",
   "source": [
    "shoplist = ['apple', 'mango', 'carrot', 'banana']\n",
    "shoplist[::1]\n"
   ],
   "metadata": {
    "colab": {
     "base_uri": "https://localhost:8080/"
    },
    "id": "HfwRyoNWDw7M",
    "outputId": "08911094-8ee1-4dc2-9830-9e68973931d7"
   },
   "execution_count": null,
   "outputs": [
    {
     "output_type": "execute_result",
     "data": {
      "text/plain": [
       "['apple', 'mango', 'carrot', 'banana']"
      ]
     },
     "metadata": {},
     "execution_count": 49
    }
   ]
  },
  {
   "cell_type": "code",
   "source": [
    "shoplist[::2]\n"
   ],
   "metadata": {
    "colab": {
     "base_uri": "https://localhost:8080/"
    },
    "id": "uitAhltBD3gk",
    "outputId": "9851d49a-8344-496f-fdaa-95b4c6cc9dc9"
   },
   "execution_count": null,
   "outputs": [
    {
     "output_type": "execute_result",
     "data": {
      "text/plain": [
       "['apple', 'carrot']"
      ]
     },
     "metadata": {},
     "execution_count": 50
    }
   ]
  },
  {
   "cell_type": "code",
   "source": [
    "shoplist[::3]"
   ],
   "metadata": {
    "colab": {
     "base_uri": "https://localhost:8080/"
    },
    "id": "ONbCQjUsD4yn",
    "outputId": "40851061-a98a-4d44-a441-2a5cf07a6ffb"
   },
   "execution_count": null,
   "outputs": [
    {
     "output_type": "execute_result",
     "data": {
      "text/plain": [
       "['apple', 'banana']"
      ]
     },
     "metadata": {},
     "execution_count": 51
    }
   ]
  },
  {
   "cell_type": "code",
   "source": [
    "shoplist[::-1]"
   ],
   "metadata": {
    "colab": {
     "base_uri": "https://localhost:8080/"
    },
    "id": "zhWjaNxwD6FQ",
    "outputId": "0577106d-b39b-4c15-eb5c-c27ebbcedc7c"
   },
   "execution_count": null,
   "outputs": [
    {
     "output_type": "execute_result",
     "data": {
      "text/plain": [
       "['banana', 'carrot', 'mango', 'apple']"
      ]
     },
     "metadata": {},
     "execution_count": 52
    }
   ]
  },
  {
   "cell_type": "code",
   "source": [
    "shoplist[::-2]"
   ],
   "metadata": {
    "colab": {
     "base_uri": "https://localhost:8080/"
    },
    "id": "KKC7sr3LD7la",
    "outputId": "123f20b1-49fc-4f63-c259-0e8e20fc4b7a"
   },
   "execution_count": null,
   "outputs": [
    {
     "output_type": "execute_result",
     "data": {
      "text/plain": [
       "['banana', 'mango']"
      ]
     },
     "metadata": {},
     "execution_count": 53
    }
   ]
  },
  {
   "cell_type": "code",
   "source": [
    "shoplist[::]"
   ],
   "metadata": {
    "colab": {
     "base_uri": "https://localhost:8080/"
    },
    "id": "lFO4SO2pD8__",
    "outputId": "ce9b5ca5-b9fc-4384-f94d-43548342b51f"
   },
   "execution_count": null,
   "outputs": [
    {
     "output_type": "execute_result",
     "data": {
      "text/plain": [
       "['apple', 'mango', 'carrot', 'banana']"
      ]
     },
     "metadata": {},
     "execution_count": 54
    }
   ]
  },
  {
   "cell_type": "code",
   "source": [
    "regions = [('Northeast', 55.3), ('Midwest', 66.9), ('South', 114.6), ('West', 71.9)]\n",
    "print('The 2010 population of the', regions[1][0], 'was', regions[1][1], 'million.')\n",
    "totalPop = regions[0][1] + regions[1][1] + regions[2][1] + regions[3][1]\n",
    "print('Total 2010 population of the U.S: {0:.1f} million.'.format(totalPop))"
   ],
   "metadata": {
    "colab": {
     "base_uri": "https://localhost:8080/"
    },
    "id": "aGKSd5IGEPg7",
    "outputId": "4af23b3c-2c40-41f2-d17e-6560e96f4bdc"
   },
   "execution_count": null,
   "outputs": [
    {
     "output_type": "stream",
     "name": "stdout",
     "text": [
      "The 2010 population of the Midwest was 66.9 million.\n",
      "Total 2010 population of the U.S: 308.7 million.\n"
     ]
    }
   ]
  },
  {
   "cell_type": "code",
   "source": [
    "list(('a', 'b'))\n",
    "list(\"Python\")\n",
    "\"Python\".split()\n",
    "\"P y t h o n\".split(' ')\n",
    "\"P y t h o n\".split()"
   ],
   "metadata": {
    "colab": {
     "base_uri": "https://localhost:8080/"
    },
    "id": "2oCJodD9Ec_t",
    "outputId": "a6a3bde1-2293-43ef-8fca-8d1bbb28f97a"
   },
   "execution_count": null,
   "outputs": [
    {
     "output_type": "execute_result",
     "data": {
      "text/plain": [
       "['P', 'y', 't', 'h', 'o', 'n']"
      ]
     },
     "metadata": {},
     "execution_count": 56
    }
   ]
  },
  {
   "cell_type": "markdown",
   "source": [
    "# References\n",
    "\n",
    "When a mutable object is assigned to a variable, the variable name\n",
    "just points to the memory where the object is stored"
   ],
   "metadata": {
    "id": "icVeVP-Z1c88"
   }
  },
  {
   "cell_type": "code",
   "source": [
    "print('Simple Assignment')\n",
    "shoplist = ['apple', 'mango', 'carrot', 'banana']\n",
    "shoplist"
   ],
   "metadata": {
    "colab": {
     "base_uri": "https://localhost:8080/"
    },
    "id": "rCLZkSO_1feE",
    "outputId": "f9dd219e-9d2e-4552-f15b-e4a9e882ebdc"
   },
   "execution_count": null,
   "outputs": [
    {
     "output_type": "stream",
     "name": "stdout",
     "text": [
      "Simple Assignment\n"
     ]
    },
    {
     "output_type": "execute_result",
     "data": {
      "text/plain": [
       "['apple', 'mango', 'carrot', 'banana']"
      ]
     },
     "metadata": {},
     "execution_count": 3
    }
   ]
  },
  {
   "cell_type": "code",
   "source": [
    "# mylist is just another name pointing to the same object!\n",
    "mylist = shoplist\n",
    "# I purchased the first item, so I remove it from the list\n",
    "del mylist[0]\n",
    "print('shoplist is', shoplist)\n",
    "print('mylist is', mylist)\n"
   ],
   "metadata": {
    "colab": {
     "base_uri": "https://localhost:8080/"
    },
    "id": "S8yUusop1ssr",
    "outputId": "0c57a675-ac30-41c5-ef0f-35d4097d4b46"
   },
   "execution_count": null,
   "outputs": [
    {
     "output_type": "stream",
     "name": "stdout",
     "text": [
      "shoplist is ['mango', 'carrot', 'banana']\n",
      "mylist is ['mango', 'carrot', 'banana']\n"
     ]
    }
   ]
  },
  {
   "cell_type": "code",
   "source": [
    "# Notice that both shoplist and mylist print the same list\n",
    "# without the 'apple' confirming that they point to the same object\n",
    "print('Copy by making a full slice')\n",
    "# Make a copy by using a full slice\n",
    "mylist = shoplist[:]\n",
    "# Remove first item\n",
    "del mylist[0]\n",
    "print('shoplist is', shoplist)\n",
    "print('mylist is', mylist)\n",
    "# Notice that now the two lists are different"
   ],
   "metadata": {
    "colab": {
     "base_uri": "https://localhost:8080/"
    },
    "id": "gIOOa9ZE1uI0",
    "outputId": "18b22b08-adb7-459b-e18d-09d9f3b8864e"
   },
   "execution_count": null,
   "outputs": [
    {
     "output_type": "stream",
     "name": "stdout",
     "text": [
      "Copy by making a full slice\n",
      "shoplist is ['mango', 'carrot', 'banana']\n",
      "mylist is ['carrot', 'banana']\n"
     ]
    }
   ]
  },
  {
   "cell_type": "markdown",
   "source": [
    "Slicing operation should be used to make a copy of a sequence\n",
    "\n",
    "- If you just assign the variable name to another name, both of\n",
    "them will refer to the same object"
   ],
   "metadata": {
    "id": "5uMWVBgA1-_H"
   }
  },
  {
   "cell_type": "code",
   "source": [
    "x = [1, 2, 3, 4]\n",
    "y = x\n",
    "y"
   ],
   "metadata": {
    "colab": {
     "base_uri": "https://localhost:8080/"
    },
    "id": "EzpSENgh2BOE",
    "outputId": "1d6dbdc5-95ec-4d96-d19b-6f91f5a04052"
   },
   "execution_count": null,
   "outputs": [
    {
     "output_type": "execute_result",
     "data": {
      "text/plain": [
       "[1, 2, 3, 4]"
      ]
     },
     "metadata": {},
     "execution_count": 6
    }
   ]
  },
  {
   "cell_type": "code",
   "source": [
    "z = x[:]\n",
    "x.append(5)\n",
    "y"
   ],
   "metadata": {
    "colab": {
     "base_uri": "https://localhost:8080/"
    },
    "id": "7qLs-cLp2Ep6",
    "outputId": "04aec62a-6fda-418f-ac68-5cbdf4150f3e"
   },
   "execution_count": null,
   "outputs": [
    {
     "output_type": "execute_result",
     "data": {
      "text/plain": [
       "[1, 2, 3, 4, 5]"
      ]
     },
     "metadata": {},
     "execution_count": 7
    }
   ]
  },
  {
   "cell_type": "code",
   "source": [
    "z"
   ],
   "metadata": {
    "colab": {
     "base_uri": "https://localhost:8080/"
    },
    "id": "5oMV2e_u2JcR",
    "outputId": "340093a3-6368-4d99-e402-7b1d52924ff2"
   },
   "execution_count": null,
   "outputs": [
    {
     "output_type": "execute_result",
     "data": {
      "text/plain": [
       "[1, 2, 3, 4]"
      ]
     },
     "metadata": {},
     "execution_count": 8
    }
   ]
  },
  {
   "cell_type": "code",
   "source": [
    "w = y.copy()\n",
    "w"
   ],
   "metadata": {
    "colab": {
     "base_uri": "https://localhost:8080/"
    },
    "id": "uK6kB9Hs2LVu",
    "outputId": "9e3d392d-3bc8-452b-b5d8-ec7ba07879ff"
   },
   "execution_count": null,
   "outputs": [
    {
     "output_type": "execute_result",
     "data": {
      "text/plain": [
       "[1, 2, 3, 4, 5]"
      ]
     },
     "metadata": {},
     "execution_count": 10
    }
   ]
  },
  {
   "cell_type": "code",
   "source": [
    "del y[0]"
   ],
   "metadata": {
    "id": "9Hx2l4Zi2QzZ"
   },
   "execution_count": null,
   "outputs": []
  },
  {
   "cell_type": "code",
   "source": [
    "print(x, y, w, sep='\\n')"
   ],
   "metadata": {
    "colab": {
     "base_uri": "https://localhost:8080/"
    },
    "id": "fJv49Xsh2TmS",
    "outputId": "f5032425-e31e-4e6a-b572-0bd477619dd7"
   },
   "execution_count": null,
   "outputs": [
    {
     "output_type": "stream",
     "name": "stdout",
     "text": [
      "[2, 3, 4, 5]\n",
      "[2, 3, 4, 5]\n",
      "[1, 2, 3, 4, 5]\n"
     ]
    }
   ]
  },
  {
   "cell_type": "markdown",
   "source": [
    "# More about Strings\n",
    "\n",
    "The strings are objects of the class str\n",
    "\n",
    "* The next example shows more string methods that are useful\n",
    "\n",
    "* For a complete list of such methods, see help(str)"
   ],
   "metadata": {
    "id": "lHLnKpoj3-10"
   }
  },
  {
   "cell_type": "code",
   "source": [
    "# This is a string object\n",
    "name = 'Swaroop'\n",
    "if name.startswith('Swa'):\n",
    "  print('Yes, the string starts with \"Swa\"')"
   ],
   "metadata": {
    "colab": {
     "base_uri": "https://localhost:8080/"
    },
    "id": "C317JyRZ38vG",
    "outputId": "26a23955-3a50-4b83-84a0-017b9b0d17cb",
    "ExecuteTime": {
     "end_time": "2023-10-21T02:16:44.024759Z",
     "start_time": "2023-10-21T02:16:43.993861Z"
    }
   },
   "execution_count": 83,
   "outputs": [
    {
     "name": "stdout",
     "output_type": "stream",
     "text": [
      "Yes, the string starts with \"Swa\"\n"
     ]
    }
   ]
  },
  {
   "cell_type": "code",
   "source": [
    "if 'a' in name:\n",
    "  print('Yes, it contains the character \"a\"')\n"
   ],
   "metadata": {
    "colab": {
     "base_uri": "https://localhost:8080/"
    },
    "id": "qeIcanW34Kgz",
    "outputId": "404e7925-6a4a-4297-c4f5-2d11751328e4"
   },
   "execution_count": null,
   "outputs": [
    {
     "output_type": "stream",
     "name": "stdout",
     "text": [
      "Yes, it contains the character \"a\"\n"
     ]
    }
   ]
  },
  {
   "cell_type": "code",
   "source": [
    "if name.find('war') != -1:\n",
    "  print('Yes, it contains the string \"war\"')\n"
   ],
   "metadata": {
    "colab": {
     "base_uri": "https://localhost:8080/"
    },
    "id": "RKXw0dMb4Mcw",
    "outputId": "12755acc-d85c-4840-bb0e-1efacc8473f9"
   },
   "execution_count": null,
   "outputs": [
    {
     "output_type": "stream",
     "name": "stdout",
     "text": [
      "Yes, it contains the string \"war\"\n"
     ]
    }
   ]
  },
  {
   "cell_type": "code",
   "source": [
    "delimiter = '_*_'\n",
    "mylist = ['Brazil', 'Russia', 'India', 'China']\n",
    "print(delimiter.join(mylist))"
   ],
   "metadata": {
    "colab": {
     "base_uri": "https://localhost:8080/"
    },
    "id": "nJr0ns974No1",
    "outputId": "ad512528-03f4-4b6b-8952-61d689250524"
   },
   "execution_count": null,
   "outputs": [
    {
     "output_type": "stream",
     "name": "stdout",
     "text": [
      "Brazil_*_Russia_*_India_*_China\n"
     ]
    }
   ]
  },
  {
   "cell_type": "markdown",
   "source": [
    "# Lab"
   ],
   "metadata": {
    "id": "9fgcLU2reahl"
   }
  },
  {
   "cell_type": "markdown",
   "source": [
    "\n",
    "## 1. Write your code according to the following instructions:\n",
    "\n",
    "* Create two lists, a and b, where b is a shallow copy of a.\n",
    "* Modify an element in a and observe the effect on b.\n",
    "* Repeat the process using a deep copy instead of a shallow copy."
   ],
   "metadata": {
    "id": "jAEoPcBXc9kM"
   }
  },
  {
   "cell_type": "code",
   "source": [
    "import copy\n",
    "# Create a list with variable name a\n",
    "a = [1, 2, 3, 4, 5]\n",
    "b = a\n",
    "c = a.copy()\n",
    "a.append(6)\n",
    "c"
   ],
   "metadata": {
    "id": "nJN7nZ1Nc-ad",
    "ExecuteTime": {
     "end_time": "2023-10-21T02:19:37.870874Z",
     "start_time": "2023-10-21T02:19:37.831242Z"
    }
   },
   "execution_count": 86,
   "outputs": [
    {
     "data": {
      "text/plain": "[1, 2, 3, 4, 5]"
     },
     "execution_count": 86,
     "metadata": {},
     "output_type": "execute_result"
    }
   ]
  },
  {
   "cell_type": "markdown",
   "source": [
    "## 2. Write your code according to the following instructions:\n",
    "\n",
    "* Create a tuple containing 5 numbers.\n",
    "* Calculate the minimum, maximum, and average of the numbers in the tuple.\n",
    "* Create a new tuple by appending the calculated minimum, maximum, and average to the original tuple.\n",
    "* Use tuple unpacking to store the first three elements of the new tuple in separate variables."
   ],
   "metadata": {
    "id": "wDOVnwLTee8p"
   }
  },
  {
   "cell_type": "code",
   "source": [
    "# Create a tuple containing 5 numbers\n",
    "numbers = (1, 2, 3, 4, 5)\n",
    "print(min(numbers), max(numbers), sum(numbers)/len(numbers))\n",
    "new_tuple = numbers + (min(numbers), max(numbers), sum(numbers)/len(numbers))\n",
    "a, b, c = new_tuple[:3]\n",
    "print(a, b, c)"
   ],
   "metadata": {
    "id": "YeC_cgT3ee8q",
    "ExecuteTime": {
     "end_time": "2023-10-24T03:29:47.531186Z",
     "start_time": "2023-10-24T03:29:47.521633Z"
    }
   },
   "execution_count": 1,
   "outputs": [
    {
     "name": "stdout",
     "output_type": "stream",
     "text": [
      "1 5 3.0\n",
      "1 2 3\n"
     ]
    }
   ]
  },
  {
   "cell_type": "code",
   "source": [
    "# Given a list of strings\n",
    "strings = [\"apple\", \"banana\", \"pineapple\", \"blueberry\", \"kiwi\"]\n",
    "\n"
   ],
   "metadata": {
    "id": "Q7DxZNeGefP0"
   },
   "execution_count": null,
   "outputs": []
  },
  {
   "cell_type": "markdown",
   "source": [
    "## 3. Write your code according to the following instructions:\n",
    "\n",
    "* Write a function that takes a string as input and returns the string with all vowels removed.\n",
    "* Create a list of strings and use the function to filter the vowels from each string.\n",
    "* Sort the filtered strings based on the number of consonants.\n",
    "* Write a function that takes a string as input and returns the string with words in reverse order. Use this function on each string in the list of filtered strings."
   ],
   "metadata": {
    "id": "P5k8YQd9dmUT"
   }
  },
  {
   "cell_type": "code",
   "source": [
    "def remove_vowels(s):\n",
    "  # implement your code\n",
    "  removed = [x for x in s if x not in \"aeiou\"]\n",
    "  return ''.join(removed)\n",
    "# Create a list of strings\n",
    "strings = [\"apple\", \"banana\", \"cherry\", \"kiwi\", \"mango\", \"orange\", \"strawberry\", \"avocado\", \"zucchini\", \"grape\", \"blueberry\"]\n",
    "\n",
    "for s in strings:\n",
    "  print(remove_vowels(s))"
   ],
   "metadata": {
    "id": "EBIwt03Kdnpp",
    "ExecuteTime": {
     "end_time": "2023-10-21T02:28:06.349221Z",
     "start_time": "2023-10-21T02:28:06.335673Z"
    }
   },
   "execution_count": 95,
   "outputs": [
    {
     "name": "stdout",
     "output_type": "stream",
     "text": [
      "ppl\n",
      "bnn\n",
      "chrry\n",
      "kw\n",
      "mng\n",
      "rng\n",
      "strwbrry\n",
      "vcd\n",
      "zcchn\n",
      "grp\n",
      "blbrry\n"
     ]
    }
   ]
  },
  {
   "cell_type": "code",
   "execution_count": 102,
   "outputs": [
    {
     "name": "stdout",
     "output_type": "stream",
     "text": [
      "wk\n",
      "lpp\n",
      "nnb\n",
      "gnm\n",
      "gnr\n",
      "dcv\n",
      "prg\n",
      "yrrhc\n",
      "nhccz\n",
      "yrrblb\n",
      "yrrbwrts\n"
     ]
    }
   ],
   "source": [
    "filtered_strings = [remove_vowels(s) for s in strings]\n",
    "filtered_strings.sort(key=len)\n",
    "# filtered_strings\n",
    "def reverse_order(s):\n",
    "  return s[::-1]\n",
    "for s in filtered_strings:\n",
    "  print(reverse_order(s))\n",
    "  "
   ],
   "metadata": {
    "collapsed": false,
    "ExecuteTime": {
     "end_time": "2023-10-21T02:33:52.378017Z",
     "start_time": "2023-10-21T02:33:52.343981Z"
    }
   }
  },
  {
   "cell_type": "markdown",
   "source": [
    "## 4. Two Sum\n",
    "\n",
    "Given a list of integers and a target integer, find two integers in the list that sum up to the target. Return their indices as a tuple. Assume there is exactly one solution and you may not use the same element twice.\n",
    "\n",
    "\n",
    "```\n",
    "# input data 1\n",
    "numbers = [3, 2, 4]\n",
    "target = 6\n",
    "\n",
    "# output data 1\n",
    "(1, 2)\n",
    "\n",
    "# input data 2\n",
    "numbers = [8, 5, 6, 1, 2, 9]\n",
    "target = 9\n",
    "\n",
    "# output data 2\n",
    "(0, 3)\n",
    "\n",
    "# input data 3\n",
    "numbers = [1, 3, 6, 9, 2, 4, 8]\n",
    "target = 14\n",
    "\n",
    "# output data 3\n",
    "(2, 6)\n",
    "```"
   ],
   "metadata": {
    "id": "mPv8F8IDdsNB"
   }
  },
  {
   "cell_type": "code",
   "source": [
    "def two_sum(nums, target):\n",
    "    # Implement your code\n",
    "    # Return two integers in the list that sum up to the target\n",
    "  # seen = {}\n",
    "  # for i, num in enumerate(nums):\n",
    "  #   d = target - num\n",
    "  #   if d in seen:\n",
    "  #     return (seen[d], i)\n",
    "  #   seen[num] = i\n",
    "  # return None\n",
    "  for num in nums:\n",
    "    if target - num in nums and num != target/2:\n",
    "      return (nums.index(num), nums.index(target-num))\n",
    "    \n",
    "\n",
    "input_data = [([3, 2, 4], 6), ([8, 5, 6, 1, 2, 9], 9), ([1, 3, 6, 9, 2, 4, 8], 14)]\n",
    "output_data = [(1, 2), (0, 3), (2, 6)]\n",
    "\n",
    "for (i, t), o in zip(input_data, output_data):\n",
    "  assert(two_sum(i, t) == o)"
   ],
   "metadata": {
    "id": "tXDgAKGadyDx",
    "ExecuteTime": {
     "end_time": "2023-10-24T03:35:26.311447Z",
     "start_time": "2023-10-24T03:35:26.285919Z"
    }
   },
   "execution_count": 4,
   "outputs": []
  },
  {
   "cell_type": "code",
   "execution_count": 105,
   "outputs": [
    {
     "data": {
      "text/plain": "2"
     },
     "execution_count": 105,
     "metadata": {},
     "output_type": "execute_result"
    }
   ],
   "source": [
    "a = [1, 2, 3]\n",
    "a.index(3)"
   ],
   "metadata": {
    "collapsed": false,
    "ExecuteTime": {
     "end_time": "2023-10-21T04:14:17.692896Z",
     "start_time": "2023-10-21T04:14:17.652325Z"
    }
   }
  },
  {
   "cell_type": "markdown",
   "source": [
    "## 5. Write your code according to the following instructions:\n",
    "\n",
    "* Given a list of strings, sort them based on their length.\n",
    "* Create a new list containing the first three characters of each string in the sorted list.\n",
    "* Combine the list of strings and the new list into a dictionary where the keys are the original strings and the values are their respective first three characters.\n",
    "* Print the dictionary in alphabetical order by key."
   ],
   "metadata": {
    "id": "R0DXpAWY4gf9"
   }
  },
  {
   "cell_type": "code",
   "source": [
    "# Given a list of strings\n",
    "strings = [\"apple\", \"banana\", \"pineapple\", \"blueberry\", \"kiwi\"]\n",
    "strings.sort(key=len)\n",
    "\n",
    "new_list = [string[:3] for string in strings]\n",
    "dictionary = dict()\n",
    "\n",
    "for key, value in zip(strings, new_list):\n",
    "  dictionary[key] = value\n",
    "dictionary"
   ],
   "metadata": {
    "id": "2KXuHA884hOd",
    "ExecuteTime": {
     "end_time": "2023-10-21T04:21:51.518571Z",
     "start_time": "2023-10-21T04:21:51.486094Z"
    }
   },
   "execution_count": 111,
   "outputs": [
    {
     "data": {
      "text/plain": "{'kiwi': 'kiw',\n 'apple': 'app',\n 'banana': 'ban',\n 'pineapple': 'pin',\n 'blueberry': 'blu'}"
     },
     "execution_count": 111,
     "metadata": {},
     "output_type": "execute_result"
    }
   ]
  }
 ]
}
